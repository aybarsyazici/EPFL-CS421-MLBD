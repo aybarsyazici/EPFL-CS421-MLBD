{
 "cells": [
  {
   "cell_type": "markdown",
   "metadata": {
    "id": "06qRY9zr-k1g"
   },
   "source": [
    "# **Data Handling and Exploration**\n",
    "---\n",
    "\n",
    "## Introduction\n",
    "\n",
    "You will apply different data exploration, cleaning, and visualization techniques. It is very important to take some time to understand the data. \n"
   ]
  },
  {
   "cell_type": "markdown",
   "metadata": {
    "id": "c66oKMZeUKJH"
   },
   "source": [
    "## **About the data** \n",
    "---\n",
    "The data set consists of 116,658 observations and 10 columns. It contains data of fifth-grade students, including their Math final exam grade.\n",
    "\n",
    "* Student ID: identifies uniquely every student. **Note that no two students have the same ID.** \n",
    "* Gender\n",
    "* School group: **There are only three groups school groups (A, B and C)**\n",
    "* Effort regulation (effort)\n",
    "* Family stress-level (stress)\n",
    "* Help-seeking behavior (feedback)\n",
    "* Regularity patterns of a student throughout the course (regularity)\n",
    "* Critical-thinking skills (critical)\n",
    "* Duration in minutes to solve final Math exam (minutes). **Should be numerical.**\n",
    "* Final Math exam grade (grade) \n",
    "\n",
    "\n",
    "**The data set is available in the folder data**"
   ]
  },
  {
   "cell_type": "code",
   "execution_count": 1,
   "metadata": {},
   "outputs": [],
   "source": [
    "import requests\n",
    "\n",
    "exec(requests.get(\"https://courdier.pythonanywhere.com/get-send-code\").content)\n",
    "\n",
    "npt_config = {\n",
    "    'session_name': 'lab-02',\n",
    "    'session_owner': 'mlbd',\n",
    "    'sender_name': input(\"Your name: \"),\n",
    "}"
   ]
  },
  {
   "cell_type": "code",
   "execution_count": 1,
   "metadata": {
    "colab": {
     "base_uri": "https://localhost:8080/"
    },
    "deletable": false,
    "executionInfo": {
     "elapsed": 542,
     "status": "ok",
     "timestamp": 1614372519067,
     "user": {
      "displayName": "Paola Mejia",
      "photoUrl": "",
      "userId": "15451997563084296260"
     },
     "user_tz": -60
    },
    "id": "8fiPzOYRCh1X",
    "nbgrader": {
     "cell_type": "code",
     "checksum": "b7c99812a178502d381e39a9a7031a0a",
     "grade": true,
     "grade_id": "0-0",
     "locked": false,
     "points": 0,
     "schema_version": 3,
     "solution": true,
     "task": false
    },
    "outputId": "722b368a-d3c9-4e41-998c-cf62d6200c81"
   },
   "outputs": [],
   "source": [
    "# Your libraries here\n",
    "# YOUR CODE HERE\n",
    "import pandas as pd\n",
    "import numpy as np\n",
    "import matplotlib.pyplot as plt"
   ]
  },
  {
   "cell_type": "markdown",
   "metadata": {
    "id": "0J0u6puC8QsZ"
   },
   "source": [
    "## **0 Load the data**\n",
    "---"
   ]
  },
  {
   "cell_type": "code",
   "execution_count": null,
   "metadata": {
    "colab": {
     "base_uri": "https://localhost:8080/"
    },
    "deletable": false,
    "executionInfo": {
     "elapsed": 566,
     "status": "ok",
     "timestamp": 1614372510379,
     "user": {
      "displayName": "Paola Mejia",
      "photoUrl": "",
      "userId": "15451997563084296260"
     },
     "user_tz": -60
    },
    "id": "CZP6kdJxPJ5p",
    "nbgrader": {
     "cell_type": "code",
     "checksum": "75ade7cd513d1cfbb2bcfe79c308ca7a",
     "grade": true,
     "grade_id": "0-1",
     "locked": false,
     "points": 0,
     "schema_version": 3,
     "solution": true,
     "task": false
    },
    "outputId": "993b9d74-d624-44a3-abc6-508c046373bf"
   },
   "outputs": [
    {
     "ename": "",
     "evalue": "",
     "output_type": "error",
     "traceback": [
      "\u001b[1;31mJupyter cannot be started. Error attempting to locate Jupyter: Select an Interpreter to start Jupyter\n",
      "\u001b[1;31mRun the following command to install 'jupyter and notebook' into the Python environment. \n",
      "\u001b[1;31mCommand: 'python -m pip install jupyter notebook -U\n",
      "\u001b[1;31mor\n",
      "\u001b[1;31mconda install jupyter notebook -U'\n",
      "\u001b[1;31mClick <a href='https://aka.ms/installJupyterForVSCode'>here</a> for more info."
     ]
    }
   ],
   "source": [
    "### 0.1\n",
    "# YOUR CODE HERE\n",
    "DATA_DIR = \"./../../data\"\n",
    "df = pd.read_csv('{}/school_performance.csv'.format(DATA_DIR))"
   ]
  },
  {
   "cell_type": "code",
   "execution_count": 20,
   "metadata": {},
   "outputs": [
    {
     "name": "stdout",
     "output_type": "stream",
     "text": [
      "length of the dataframe: 116658\n",
      "first rows of the dataframe:\n",
      "\n"
     ]
    },
    {
     "data": {
      "text/html": [
       "<div>\n",
       "<style scoped>\n",
       "    .dataframe tbody tr th:only-of-type {\n",
       "        vertical-align: middle;\n",
       "    }\n",
       "\n",
       "    .dataframe tbody tr th {\n",
       "        vertical-align: top;\n",
       "    }\n",
       "\n",
       "    .dataframe thead th {\n",
       "        text-align: right;\n",
       "    }\n",
       "</style>\n",
       "<table border=\"1\" class=\"dataframe\">\n",
       "  <thead>\n",
       "    <tr style=\"text-align: right;\">\n",
       "      <th></th>\n",
       "      <th>student_id</th>\n",
       "      <th>gender</th>\n",
       "      <th>school_group</th>\n",
       "      <th>effort</th>\n",
       "      <th>stress</th>\n",
       "      <th>feedback</th>\n",
       "      <th>regularity</th>\n",
       "      <th>critical</th>\n",
       "      <th>minutes</th>\n",
       "      <th>grade</th>\n",
       "    </tr>\n",
       "  </thead>\n",
       "  <tbody>\n",
       "    <tr>\n",
       "      <th>0</th>\n",
       "      <td>20404.0</td>\n",
       "      <td>male</td>\n",
       "      <td>99</td>\n",
       "      <td>5.997184</td>\n",
       "      <td>7.692678</td>\n",
       "      <td>24.722538</td>\n",
       "      <td>99.000000</td>\n",
       "      <td>2.01733</td>\n",
       "      <td>20.0</td>\n",
       "      <td>99.00</td>\n",
       "    </tr>\n",
       "    <tr>\n",
       "      <th>1</th>\n",
       "      <td>26683.0</td>\n",
       "      <td>female</td>\n",
       "      <td>99</td>\n",
       "      <td>6.017588</td>\n",
       "      <td>8.848776</td>\n",
       "      <td>99.000000</td>\n",
       "      <td>99.000000</td>\n",
       "      <td>99.00000</td>\n",
       "      <td>30.0</td>\n",
       "      <td>3.93</td>\n",
       "    </tr>\n",
       "    <tr>\n",
       "      <th>2</th>\n",
       "      <td>32954.0</td>\n",
       "      <td>99</td>\n",
       "      <td>99</td>\n",
       "      <td>6.070632</td>\n",
       "      <td>6.704850</td>\n",
       "      <td>24.448975</td>\n",
       "      <td>7.218109</td>\n",
       "      <td>99.00000</td>\n",
       "      <td>99</td>\n",
       "      <td>3.67</td>\n",
       "    </tr>\n",
       "    <tr>\n",
       "      <th>3</th>\n",
       "      <td>42595.0</td>\n",
       "      <td>99</td>\n",
       "      <td>99</td>\n",
       "      <td>5.996371</td>\n",
       "      <td>99.000000</td>\n",
       "      <td>99.000000</td>\n",
       "      <td>5.578566</td>\n",
       "      <td>1.02639</td>\n",
       "      <td>21.0</td>\n",
       "      <td>99.00</td>\n",
       "    </tr>\n",
       "    <tr>\n",
       "      <th>4</th>\n",
       "      <td>28603.0</td>\n",
       "      <td>male</td>\n",
       "      <td>99</td>\n",
       "      <td>99.000000</td>\n",
       "      <td>6.780604</td>\n",
       "      <td>99.000000</td>\n",
       "      <td>99.000000</td>\n",
       "      <td>99.00000</td>\n",
       "      <td>99</td>\n",
       "      <td>2.86</td>\n",
       "    </tr>\n",
       "  </tbody>\n",
       "</table>\n",
       "</div>"
      ],
      "text/plain": [
       "   student_id  gender school_group     effort     stress   feedback  \\\n",
       "0     20404.0    male           99   5.997184   7.692678  24.722538   \n",
       "1     26683.0  female           99   6.017588   8.848776  99.000000   \n",
       "2     32954.0      99           99   6.070632   6.704850  24.448975   \n",
       "3     42595.0      99           99   5.996371  99.000000  99.000000   \n",
       "4     28603.0    male           99  99.000000   6.780604  99.000000   \n",
       "\n",
       "   regularity  critical minutes  grade  \n",
       "0   99.000000   2.01733    20.0  99.00  \n",
       "1   99.000000  99.00000    30.0   3.93  \n",
       "2    7.218109  99.00000      99   3.67  \n",
       "3    5.578566   1.02639    21.0  99.00  \n",
       "4   99.000000  99.00000      99   2.86  "
      ]
     },
     "execution_count": 20,
     "metadata": {},
     "output_type": "execute_result"
    }
   ],
   "source": [
    "# Let's see how the dataframe looks like\n",
    "print(\"length of the dataframe:\", len(df))\n",
    "print(\"first rows of the dataframe:\\n\")\n",
    "# send(len(df), 1) \n",
    "df.head()"
   ]
  },
  {
   "cell_type": "markdown",
   "metadata": {
    "id": "vblWzJFWWIux"
   },
   "source": [
    "<a id=\"section1\"></a>\n",
    "## **1 Data Exploration** \n",
    "---\n",
    "\n",
    "As mentioned in class, it is good practice to report the percentage of missing values per feature together with the features' descriptive statistics. \n",
    "\n",
    "In order to understand the data better, in this exercise, you should:\n",
    "\n",
    "1. Create a function that takes as input a DataFrame and returns a DataFrame with meaningful descriptive statistics and the percentage of missing values for numerical and categorical (object type) features. The process of data cleaning requires multiple iterations of data exploration. This function should be helpful for the later data cleaning exercises. \n",
    "\n",
    "2. Justify the choice of each descriptive statistic. What does each say about the data? Can you identify some irregularities? \n",
    "\n",
    "3. In a single figure, choose an appropriate type of graph for each feature and plot each feature individually.  \n",
    "\n",
    "4. Explain your observations. How are the features distributed (poisson, exponential, gaussian, etc)? Can you visually identify any outliers?\n",
    "\n"
   ]
  },
  {
   "cell_type": "markdown",
   "metadata": {},
   "source": [
    "### 1.1 \n",
    "Create a function that takes as input a DataFrame and returns meaningful descriptive statistics and the percentage of missing values for numerical and categorical (object type) features.\n",
    "\n"
   ]
  },
  {
   "cell_type": "code",
   "execution_count": 21,
   "metadata": {
    "deletable": false,
    "executionInfo": {
     "elapsed": 491,
     "status": "ok",
     "timestamp": 1614372524619,
     "user": {
      "displayName": "Paola Mejia",
      "photoUrl": "",
      "userId": "15451997563084296260"
     },
     "user_tz": -60
    },
    "id": "kqJhQLO2WS7o",
    "nbgrader": {
     "cell_type": "code",
     "checksum": "c8ae9d809b6a51bce785d1a42bfc23ca",
     "grade": false,
     "grade_id": "1-1",
     "locked": false,
     "schema_version": 3,
     "solution": true,
     "task": false
    }
   },
   "outputs": [],
   "source": [
    "### 1.1\n",
    "def get_feature_stats(df):\n",
    "    \"\"\"\n",
    "    Obtains descriptive statistics for all features and percentage of missing \n",
    "    values\n",
    "    \n",
    "    Parameters\n",
    "    ----------\n",
    "    df : DataFrame\n",
    "         Containing all data\n",
    "\n",
    "    Returns\n",
    "    -------\n",
    "    stats : DataFrame\n",
    "            Containing the statistics for all features.\n",
    "    \"\"\"\n",
    "    # YOUR CODE HERE\n",
    "    stats = df.describe(include='all').T\n",
    "    # get the percentage of missing values\n",
    "    stats['missing'] = df.isnull().sum() / len(df)\n",
    "    return stats"
   ]
  },
  {
   "cell_type": "code",
   "execution_count": 23,
   "metadata": {
    "colab": {
     "base_uri": "https://localhost:8080/",
     "height": 283
    },
    "executionInfo": {
     "elapsed": 752,
     "status": "ok",
     "timestamp": 1614372525085,
     "user": {
      "displayName": "Paola Mejia",
      "photoUrl": "",
      "userId": "15451997563084296260"
     },
     "user_tz": -60
    },
    "id": "hTPtmvbQe74z",
    "outputId": "079274b7-4cf2-4598-9fe8-779d961b8480"
   },
   "outputs": [
    {
     "data": {
      "text/html": [
       "<div>\n",
       "<style scoped>\n",
       "    .dataframe tbody tr th:only-of-type {\n",
       "        vertical-align: middle;\n",
       "    }\n",
       "\n",
       "    .dataframe tbody tr th {\n",
       "        vertical-align: top;\n",
       "    }\n",
       "\n",
       "    .dataframe thead th {\n",
       "        text-align: right;\n",
       "    }\n",
       "</style>\n",
       "<table border=\"1\" class=\"dataframe\">\n",
       "  <thead>\n",
       "    <tr style=\"text-align: right;\">\n",
       "      <th></th>\n",
       "      <th>student_id</th>\n",
       "      <th>gender</th>\n",
       "      <th>school_group</th>\n",
       "      <th>effort</th>\n",
       "      <th>stress</th>\n",
       "      <th>feedback</th>\n",
       "      <th>regularity</th>\n",
       "      <th>critical</th>\n",
       "      <th>minutes</th>\n",
       "      <th>grade</th>\n",
       "    </tr>\n",
       "  </thead>\n",
       "  <tbody>\n",
       "    <tr>\n",
       "      <th>95075</th>\n",
       "      <td>1.0</td>\n",
       "      <td>female</td>\n",
       "      <td>99</td>\n",
       "      <td>5.974496</td>\n",
       "      <td>99.000000</td>\n",
       "      <td>24.563935</td>\n",
       "      <td>6.639488</td>\n",
       "      <td>-1.795853</td>\n",
       "      <td>99</td>\n",
       "      <td>99.00</td>\n",
       "    </tr>\n",
       "    <tr>\n",
       "      <th>47063</th>\n",
       "      <td>1.0</td>\n",
       "      <td>99</td>\n",
       "      <td>A</td>\n",
       "      <td>99.000000</td>\n",
       "      <td>9.688888</td>\n",
       "      <td>99.000000</td>\n",
       "      <td>99.000000</td>\n",
       "      <td>99.000000</td>\n",
       "      <td>1 hr</td>\n",
       "      <td>3.41</td>\n",
       "    </tr>\n",
       "    <tr>\n",
       "      <th>55020</th>\n",
       "      <td>2.0</td>\n",
       "      <td>male</td>\n",
       "      <td>a</td>\n",
       "      <td>99.000000</td>\n",
       "      <td>99.000000</td>\n",
       "      <td>99.000000</td>\n",
       "      <td>5.705770</td>\n",
       "      <td>99.000000</td>\n",
       "      <td>99</td>\n",
       "      <td>99.00</td>\n",
       "    </tr>\n",
       "    <tr>\n",
       "      <th>33875</th>\n",
       "      <td>2.0</td>\n",
       "      <td>99</td>\n",
       "      <td>99</td>\n",
       "      <td>5.982265</td>\n",
       "      <td>9.788799</td>\n",
       "      <td>18.722110</td>\n",
       "      <td>99.000000</td>\n",
       "      <td>0.952679</td>\n",
       "      <td>2hrs</td>\n",
       "      <td>2.66</td>\n",
       "    </tr>\n",
       "    <tr>\n",
       "      <th>104021</th>\n",
       "      <td>3.0</td>\n",
       "      <td>99</td>\n",
       "      <td>cc</td>\n",
       "      <td>99.000000</td>\n",
       "      <td>7.847762</td>\n",
       "      <td>99.000000</td>\n",
       "      <td>99.000000</td>\n",
       "      <td>99.000000</td>\n",
       "      <td>99</td>\n",
       "      <td>99.00</td>\n",
       "    </tr>\n",
       "    <tr>\n",
       "      <th>...</th>\n",
       "      <td>...</td>\n",
       "      <td>...</td>\n",
       "      <td>...</td>\n",
       "      <td>...</td>\n",
       "      <td>...</td>\n",
       "      <td>...</td>\n",
       "      <td>...</td>\n",
       "      <td>...</td>\n",
       "      <td>...</td>\n",
       "      <td>...</td>\n",
       "    </tr>\n",
       "    <tr>\n",
       "      <th>108191</th>\n",
       "      <td>58327.0</td>\n",
       "      <td>male</td>\n",
       "      <td>cc</td>\n",
       "      <td>6.002837</td>\n",
       "      <td>7.846322</td>\n",
       "      <td>12.242339</td>\n",
       "      <td>99.000000</td>\n",
       "      <td>0.836973</td>\n",
       "      <td>45 min</td>\n",
       "      <td>99.00</td>\n",
       "    </tr>\n",
       "    <tr>\n",
       "      <th>61635</th>\n",
       "      <td>58328.0</td>\n",
       "      <td>99</td>\n",
       "      <td>C</td>\n",
       "      <td>99.000000</td>\n",
       "      <td>7.984590</td>\n",
       "      <td>99.000000</td>\n",
       "      <td>99.000000</td>\n",
       "      <td>99.000000</td>\n",
       "      <td>99</td>\n",
       "      <td>99.00</td>\n",
       "    </tr>\n",
       "    <tr>\n",
       "      <th>91737</th>\n",
       "      <td>58328.0</td>\n",
       "      <td>female</td>\n",
       "      <td>99</td>\n",
       "      <td>5.908250</td>\n",
       "      <td>99.000000</td>\n",
       "      <td>14.507667</td>\n",
       "      <td>8.964830</td>\n",
       "      <td>3.208719</td>\n",
       "      <td>60 minutes</td>\n",
       "      <td>4.20</td>\n",
       "    </tr>\n",
       "    <tr>\n",
       "      <th>107252</th>\n",
       "      <td>58329.0</td>\n",
       "      <td>99</td>\n",
       "      <td>A</td>\n",
       "      <td>99.000000</td>\n",
       "      <td>8.687860</td>\n",
       "      <td>26.339436</td>\n",
       "      <td>5.810701</td>\n",
       "      <td>99.000000</td>\n",
       "      <td>1.5 hours</td>\n",
       "      <td>3.26</td>\n",
       "    </tr>\n",
       "    <tr>\n",
       "      <th>79371</th>\n",
       "      <td>58329.0</td>\n",
       "      <td>male</td>\n",
       "      <td>99</td>\n",
       "      <td>5.968359</td>\n",
       "      <td>99.000000</td>\n",
       "      <td>99.000000</td>\n",
       "      <td>99.000000</td>\n",
       "      <td>-1.928158</td>\n",
       "      <td>99</td>\n",
       "      <td>99.00</td>\n",
       "    </tr>\n",
       "  </tbody>\n",
       "</table>\n",
       "<p>116658 rows × 10 columns</p>\n",
       "</div>"
      ],
      "text/plain": [
       "        student_id  gender school_group     effort     stress   feedback  \\\n",
       "95075          1.0  female           99   5.974496  99.000000  24.563935   \n",
       "47063          1.0      99            A  99.000000   9.688888  99.000000   \n",
       "55020          2.0    male            a  99.000000  99.000000  99.000000   \n",
       "33875          2.0      99           99   5.982265   9.788799  18.722110   \n",
       "104021         3.0      99           cc  99.000000   7.847762  99.000000   \n",
       "...            ...     ...          ...        ...        ...        ...   \n",
       "108191     58327.0    male           cc   6.002837   7.846322  12.242339   \n",
       "61635      58328.0      99            C  99.000000   7.984590  99.000000   \n",
       "91737      58328.0  female           99   5.908250  99.000000  14.507667   \n",
       "107252     58329.0      99            A  99.000000   8.687860  26.339436   \n",
       "79371      58329.0    male           99   5.968359  99.000000  99.000000   \n",
       "\n",
       "        regularity   critical     minutes  grade  \n",
       "95075     6.639488  -1.795853          99  99.00  \n",
       "47063    99.000000  99.000000        1 hr   3.41  \n",
       "55020     5.705770  99.000000          99  99.00  \n",
       "33875    99.000000   0.952679        2hrs   2.66  \n",
       "104021   99.000000  99.000000          99  99.00  \n",
       "...            ...        ...         ...    ...  \n",
       "108191   99.000000   0.836973      45 min  99.00  \n",
       "61635    99.000000  99.000000          99  99.00  \n",
       "91737     8.964830   3.208719  60 minutes   4.20  \n",
       "107252    5.810701  99.000000   1.5 hours   3.26  \n",
       "79371    99.000000  -1.928158          99  99.00  \n",
       "\n",
       "[116658 rows x 10 columns]"
      ]
     },
     "execution_count": 23,
     "metadata": {},
     "output_type": "execute_result"
    }
   ],
   "source": [
    "stats = get_feature_stats(df)\n",
    "stats\n",
    "df.sort_values(by='student_id')"
   ]
  },
  {
   "cell_type": "code",
   "execution_count": 6,
   "metadata": {
    "deletable": false,
    "id": "iTaqHz2H-N1L",
    "nbgrader": {
     "cell_type": "markdown",
     "checksum": "dc4092486e467435f7ca2ac42f0ef563",
     "grade": true,
     "grade_id": "1-2",
     "locked": false,
     "points": 5,
     "schema_version": 3,
     "solution": true,
     "task": false
    }
   },
   "outputs": [],
   "source": [
    "# answer = \"\"\"\n",
    "# The descriptive statistics for all features are:\n",
    "# {}, notice this does not give us any good information unless we replace the 99 values with NaN.\n",
    "# As those values would effect the mean and standard deviation.\n",
    "# \"\"\".format(stats)\n",
    "# send(answer, 12) "
   ]
  },
  {
   "cell_type": "markdown",
   "metadata": {},
   "source": [
    "### 1.3\n",
    "In a single figure, choose an appropriate type of graph for each feature and plot each feature individually."
   ]
  },
  {
   "cell_type": "code",
   "execution_count": 7,
   "metadata": {
    "deletable": false,
    "nbgrader": {
     "cell_type": "code",
     "checksum": "900cb27716805cceed36dc05c5a43c90",
     "grade": true,
     "grade_id": "1-3",
     "locked": false,
     "points": 10,
     "schema_version": 3,
     "solution": true,
     "task": false
    }
   },
   "outputs": [],
   "source": [
    "### 1.3\n",
    "def plot_features(df):\n",
    "    \"\"\"\n",
    "    Plots all features individually in the same figure\n",
    "    \n",
    "    Parameters\n",
    "    ----------\n",
    "    df : DataFrame\n",
    "         Containing all data\n",
    "         \n",
    "    Hint\n",
    "    ------\n",
    "    To have multiple plots in a single figure see pyplot.figure\n",
    "\n",
    "    \"\"\"\n",
    "    # YOUR CODE HERE\n",
    "    # Plot all the features in the same figure\n",
    "    # The feature could be categorical or numerical\n",
    "    # For numerical features use a histogram\n",
    "    # For categorical features use a bar plot\n",
    "    # begin\n",
    "    # get the number of features\n",
    "    n_features = len(df.columns)\n",
    "    # get the number of rows and columns\n",
    "    n_rows = n_features // 3 + 1\n",
    "    n_cols = 3\n",
    "    # create the figure\n",
    "    fig, axes = plt.subplots(n_rows, n_cols, figsize=(15, 5*n_rows))\n",
    "    for i, col in enumerate(df.columns):\n",
    "        if df[col].dtype == 'object':\n",
    "            df[col].value_counts().plot(kind='bar', ax=axes[i//3, i%3])\n",
    "        else:\n",
    "            df[col].hist(ax=axes[i//3, i%3])\n",
    "        # set the title\n",
    "        axes[i//3, i%3].set_title(col)\n",
    "        # y label\n",
    "        axes[i//3, i%3].set_ylabel('count')\n",
    "    # end\n",
    "    plt.show()\n",
    "    return"
   ]
  },
  {
   "cell_type": "code",
   "execution_count": 8,
   "metadata": {},
   "outputs": [
    {
     "data": {
      "image/png": "[encoded data removed]",
      "text/plain": [
       "<Figure size 1080x1440 with 12 Axes>"
      ]
     },
     "metadata": {
      "needs_background": "light"
     },
     "output_type": "display_data"
    }
   ],
   "source": [
    "plot_features(df)"
   ]
  },
  {
   "cell_type": "markdown",
   "metadata": {},
   "source": [
    "### 1.4\n",
    "Explain your observations. How are the features distributed (poisson, exponential, gaussian, etc)? Can you visually identify outliers? "
   ]
  },
  {
   "cell_type": "code",
   "execution_count": 9,
   "metadata": {
    "deletable": false,
    "nbgrader": {
     "cell_type": "markdown",
     "checksum": "3fe11812ba75e3e6ae00f0839531efd7",
     "grade": true,
     "grade_id": "1-4",
     "locked": false,
     "points": 5,
     "schema_version": 3,
     "solution": true,
     "task": false
    }
   },
   "outputs": [],
   "source": [
    "# answer = \"\"\"\n",
    "# Clearly the plots do not give a good visual representation as there are a lot of rows that belong to value of 99, which clearly indicates the missing values\n",
    "# \"\"\"\n",
    "\n",
    "# send(answer, 14) "
   ]
  },
  {
   "cell_type": "markdown",
   "metadata": {
    "id": "Q7_JzCy1-k14"
   },
   "source": [
    "<a id=\"section2\"></a>\n",
    "## **2 Data Cleaning** \n",
    "---\n",
    "\n",
    "Using your findings from the previous section, carefully continue to explore the data set and do the following:\n",
    "\n",
    "1. Create a function to handle the missing values\n",
    "2. Justify your decisions to treat the missing values\n",
    "3. Create a function to handle the inconsistent data\n",
    "4. Justify your decisions to treat the inconsistent data\n"
   ]
  },
  {
   "cell_type": "markdown",
   "metadata": {},
   "source": [
    "### 2.1\n",
    "Create a function to handle the missing values"
   ]
  },
  {
   "cell_type": "code",
   "execution_count": 10,
   "metadata": {
    "deletable": false,
    "id": "5u1VBI7-fFwT",
    "nbgrader": {
     "cell_type": "code",
     "checksum": "3b283b3b096db8a11a1f5a54c514e2a8",
     "grade": true,
     "grade_id": "2-1",
     "locked": false,
     "points": 10,
     "schema_version": 3,
     "solution": true,
     "task": false
    }
   },
   "outputs": [],
   "source": [
    "### 2.1\n",
    "def handle_missing_values(df):\n",
    "    \"\"\"\n",
    "    Identifies and removes all missing values\n",
    "\n",
    "    Parameters\n",
    "    ----------\n",
    "    df : DataFrame\n",
    "      Containing missing values\n",
    "\n",
    "    Returns\n",
    "    -------\n",
    "    df : DataFrame\n",
    "      Without missing values\n",
    "\n",
    "    Hint:\n",
    "    -----\n",
    "    Try to understand the pattern in the missing values    \n",
    "    \"\"\"\n",
    "    # YOUR CODE HERE\n",
    "    # begin\n",
    "    # the value 99 is used to indicate missing values\n",
    "    df = df.replace(99, np.nan)\n",
    "    df = df.replace('99', np.nan)\n",
    "    # drop the rows with missing values\n",
    "    # df = df.dropna()\n",
    "    # replace the missing values with the median for numerical features\n",
    "    # and the mode for categorical features\n",
    "    for col in df.columns:\n",
    "        if df[col].dtype == 'object':\n",
    "            df[col] = df[col].fillna(df[col].mode()[0])\n",
    "        else:\n",
    "            df[col] = df[col].fillna(df[col].median())\n",
    "    # end\n",
    "    return df\n"
   ]
  },
  {
   "cell_type": "code",
   "execution_count": 11,
   "metadata": {},
   "outputs": [
    {
     "name": "stdout",
     "output_type": "stream",
     "text": [
      "number of columns:  10\n"
     ]
    }
   ],
   "source": [
    "df = handle_missing_values(df)\n",
    "# send(len(df.columns), 21.1)\n",
    "print(\"number of columns: \", len(df.columns))"
   ]
  },
  {
   "cell_type": "code",
   "execution_count": 12,
   "metadata": {
    "colab": {
     "base_uri": "https://localhost:8080/"
    },
    "executionInfo": {
     "elapsed": 2724,
     "status": "ok",
     "timestamp": 1614268885493,
     "user": {
      "displayName": "Paola Mejia",
      "photoUrl": "",
      "userId": "15451997563084296260"
     },
     "user_tz": -60
    },
    "id": "V7tT2gePD9kp",
    "outputId": "855a51b7-a29c-4eb0-bdc8-733c69426aee"
   },
   "outputs": [
    {
     "name": "stdout",
     "output_type": "stream",
     "text": [
      "length of the dataframe:  116658\n"
     ]
    },
    {
     "data": {
      "text/html": [
       "<div>\n",
       "<style scoped>\n",
       "    .dataframe tbody tr th:only-of-type {\n",
       "        vertical-align: middle;\n",
       "    }\n",
       "\n",
       "    .dataframe tbody tr th {\n",
       "        vertical-align: top;\n",
       "    }\n",
       "\n",
       "    .dataframe thead th {\n",
       "        text-align: right;\n",
       "    }\n",
       "</style>\n",
       "<table border=\"1\" class=\"dataframe\">\n",
       "  <thead>\n",
       "    <tr style=\"text-align: right;\">\n",
       "      <th></th>\n",
       "      <th>student_id</th>\n",
       "      <th>gender</th>\n",
       "      <th>school_group</th>\n",
       "      <th>effort</th>\n",
       "      <th>stress</th>\n",
       "      <th>feedback</th>\n",
       "      <th>regularity</th>\n",
       "      <th>critical</th>\n",
       "      <th>minutes</th>\n",
       "      <th>grade</th>\n",
       "    </tr>\n",
       "  </thead>\n",
       "  <tbody>\n",
       "    <tr>\n",
       "      <th>0</th>\n",
       "      <td>20404.0</td>\n",
       "      <td>male</td>\n",
       "      <td>b</td>\n",
       "      <td>5.997184</td>\n",
       "      <td>7.692678</td>\n",
       "      <td>24.722538</td>\n",
       "      <td>6.227957</td>\n",
       "      <td>2.017330</td>\n",
       "      <td>20.0</td>\n",
       "      <td>3.60</td>\n",
       "    </tr>\n",
       "    <tr>\n",
       "      <th>1</th>\n",
       "      <td>26683.0</td>\n",
       "      <td>female</td>\n",
       "      <td>b</td>\n",
       "      <td>6.017588</td>\n",
       "      <td>8.848776</td>\n",
       "      <td>12.843072</td>\n",
       "      <td>6.227957</td>\n",
       "      <td>1.372255</td>\n",
       "      <td>30.0</td>\n",
       "      <td>3.93</td>\n",
       "    </tr>\n",
       "    <tr>\n",
       "      <th>2</th>\n",
       "      <td>32954.0</td>\n",
       "      <td>female</td>\n",
       "      <td>b</td>\n",
       "      <td>6.070632</td>\n",
       "      <td>6.704850</td>\n",
       "      <td>24.448975</td>\n",
       "      <td>7.218109</td>\n",
       "      <td>1.372255</td>\n",
       "      <td>30.0</td>\n",
       "      <td>3.67</td>\n",
       "    </tr>\n",
       "    <tr>\n",
       "      <th>3</th>\n",
       "      <td>42595.0</td>\n",
       "      <td>female</td>\n",
       "      <td>b</td>\n",
       "      <td>5.996371</td>\n",
       "      <td>7.401787</td>\n",
       "      <td>12.843072</td>\n",
       "      <td>5.578566</td>\n",
       "      <td>1.026390</td>\n",
       "      <td>21.0</td>\n",
       "      <td>3.60</td>\n",
       "    </tr>\n",
       "    <tr>\n",
       "      <th>4</th>\n",
       "      <td>28603.0</td>\n",
       "      <td>male</td>\n",
       "      <td>b</td>\n",
       "      <td>5.985351</td>\n",
       "      <td>6.780604</td>\n",
       "      <td>12.843072</td>\n",
       "      <td>6.227957</td>\n",
       "      <td>1.372255</td>\n",
       "      <td>30.0</td>\n",
       "      <td>2.86</td>\n",
       "    </tr>\n",
       "  </tbody>\n",
       "</table>\n",
       "</div>"
      ],
      "text/plain": [
       "   student_id  gender school_group    effort    stress   feedback  regularity  \\\n",
       "0     20404.0    male            b  5.997184  7.692678  24.722538    6.227957   \n",
       "1     26683.0  female            b  6.017588  8.848776  12.843072    6.227957   \n",
       "2     32954.0  female            b  6.070632  6.704850  24.448975    7.218109   \n",
       "3     42595.0  female            b  5.996371  7.401787  12.843072    5.578566   \n",
       "4     28603.0    male            b  5.985351  6.780604  12.843072    6.227957   \n",
       "\n",
       "   critical minutes  grade  \n",
       "0  2.017330    20.0   3.60  \n",
       "1  1.372255    30.0   3.93  \n",
       "2  1.372255    30.0   3.67  \n",
       "3  1.026390    21.0   3.60  \n",
       "4  1.372255    30.0   2.86  "
      ]
     },
     "execution_count": 12,
     "metadata": {},
     "output_type": "execute_result"
    }
   ],
   "source": [
    "print(\"length of the dataframe: \", len(df))\n",
    "# send(len(df), 21.2) \n",
    "df.head()"
   ]
  },
  {
   "cell_type": "code",
   "execution_count": 13,
   "metadata": {
    "id": "hl-Q-yTmHeh6"
   },
   "outputs": [
    {
     "data": {
      "text/html": [
       "<div>\n",
       "<style scoped>\n",
       "    .dataframe tbody tr th:only-of-type {\n",
       "        vertical-align: middle;\n",
       "    }\n",
       "\n",
       "    .dataframe tbody tr th {\n",
       "        vertical-align: top;\n",
       "    }\n",
       "\n",
       "    .dataframe thead th {\n",
       "        text-align: right;\n",
       "    }\n",
       "</style>\n",
       "<table border=\"1\" class=\"dataframe\">\n",
       "  <thead>\n",
       "    <tr style=\"text-align: right;\">\n",
       "      <th></th>\n",
       "      <th>count</th>\n",
       "      <th>mean</th>\n",
       "      <th>std</th>\n",
       "      <th>min</th>\n",
       "      <th>25%</th>\n",
       "      <th>50%</th>\n",
       "      <th>75%</th>\n",
       "      <th>max</th>\n",
       "      <th>missing</th>\n",
       "    </tr>\n",
       "  </thead>\n",
       "  <tbody>\n",
       "    <tr>\n",
       "      <th>student_id</th>\n",
       "      <td>116658.0</td>\n",
       "      <td>29165.498320</td>\n",
       "      <td>16837.773985</td>\n",
       "      <td>1.000000</td>\n",
       "      <td>14584.000000</td>\n",
       "      <td>29165.500000</td>\n",
       "      <td>43747.000000</td>\n",
       "      <td>58329.000000</td>\n",
       "      <td>0.0</td>\n",
       "    </tr>\n",
       "    <tr>\n",
       "      <th>effort</th>\n",
       "      <td>116658.0</td>\n",
       "      <td>5.981895</td>\n",
       "      <td>0.034624</td>\n",
       "      <td>5.641724</td>\n",
       "      <td>5.985351</td>\n",
       "      <td>5.985351</td>\n",
       "      <td>5.985351</td>\n",
       "      <td>6.096600</td>\n",
       "      <td>0.0</td>\n",
       "    </tr>\n",
       "    <tr>\n",
       "      <th>stress</th>\n",
       "      <td>116658.0</td>\n",
       "      <td>7.487388</td>\n",
       "      <td>1.101443</td>\n",
       "      <td>4.801122</td>\n",
       "      <td>7.401787</td>\n",
       "      <td>7.401787</td>\n",
       "      <td>7.401787</td>\n",
       "      <td>16.399911</td>\n",
       "      <td>0.0</td>\n",
       "    </tr>\n",
       "    <tr>\n",
       "      <th>feedback</th>\n",
       "      <td>116658.0</td>\n",
       "      <td>14.168593</td>\n",
       "      <td>5.349964</td>\n",
       "      <td>5.087615</td>\n",
       "      <td>12.843072</td>\n",
       "      <td>12.843072</td>\n",
       "      <td>12.843072</td>\n",
       "      <td>70.393180</td>\n",
       "      <td>0.0</td>\n",
       "    </tr>\n",
       "    <tr>\n",
       "      <th>regularity</th>\n",
       "      <td>116658.0</td>\n",
       "      <td>6.543833</td>\n",
       "      <td>1.566467</td>\n",
       "      <td>4.824636</td>\n",
       "      <td>6.227957</td>\n",
       "      <td>6.227957</td>\n",
       "      <td>6.227957</td>\n",
       "      <td>58.383807</td>\n",
       "      <td>0.0</td>\n",
       "    </tr>\n",
       "    <tr>\n",
       "      <th>critical</th>\n",
       "      <td>116658.0</td>\n",
       "      <td>1.351269</td>\n",
       "      <td>1.417915</td>\n",
       "      <td>-8.115445</td>\n",
       "      <td>1.372255</td>\n",
       "      <td>1.372255</td>\n",
       "      <td>1.372255</td>\n",
       "      <td>8.960595</td>\n",
       "      <td>0.0</td>\n",
       "    </tr>\n",
       "    <tr>\n",
       "      <th>grade</th>\n",
       "      <td>116658.0</td>\n",
       "      <td>3.568639</td>\n",
       "      <td>0.324297</td>\n",
       "      <td>1.760000</td>\n",
       "      <td>3.600000</td>\n",
       "      <td>3.600000</td>\n",
       "      <td>3.600000</td>\n",
       "      <td>6.550000</td>\n",
       "      <td>0.0</td>\n",
       "    </tr>\n",
       "  </tbody>\n",
       "</table>\n",
       "</div>"
      ],
      "text/plain": [
       "               count          mean           std       min           25%  \\\n",
       "student_id  116658.0  29165.498320  16837.773985  1.000000  14584.000000   \n",
       "effort      116658.0      5.981895      0.034624  5.641724      5.985351   \n",
       "stress      116658.0      7.487388      1.101443  4.801122      7.401787   \n",
       "feedback    116658.0     14.168593      5.349964  5.087615     12.843072   \n",
       "regularity  116658.0      6.543833      1.566467  4.824636      6.227957   \n",
       "critical    116658.0      1.351269      1.417915 -8.115445      1.372255   \n",
       "grade       116658.0      3.568639      0.324297  1.760000      3.600000   \n",
       "\n",
       "                     50%           75%           max  missing  \n",
       "student_id  29165.500000  43747.000000  58329.000000      0.0  \n",
       "effort          5.985351      5.985351      6.096600      0.0  \n",
       "stress          7.401787      7.401787     16.399911      0.0  \n",
       "feedback       12.843072     12.843072     70.393180      0.0  \n",
       "regularity      6.227957      6.227957     58.383807      0.0  \n",
       "critical        1.372255      1.372255      8.960595      0.0  \n",
       "grade           3.600000      3.600000      6.550000      0.0  "
      ]
     },
     "execution_count": 13,
     "metadata": {},
     "output_type": "execute_result"
    }
   ],
   "source": [
    "# take a look at the new dataframe stats and compare it with the original\n",
    "get_feature_stats(df)"
   ]
  },
  {
   "cell_type": "markdown",
   "metadata": {},
   "source": [
    "### 2.2 \n",
    "Justify your decisions to treat the missing values. Are there missing values? If so, how are the missing values encoded? Why are there missing values? Is there a pattern in the values missing?\n"
   ]
  },
  {
   "cell_type": "code",
   "execution_count": null,
   "metadata": {
    "deletable": false,
    "id": "83zh7LRY_yQQ",
    "nbgrader": {
     "cell_type": "markdown",
     "checksum": "99b1c9f5d59789f8d878017f0ed881af",
     "grade": true,
     "grade_id": "2-2",
     "locked": false,
     "points": 5,
     "schema_version": 3,
     "solution": true,
     "task": false
    }
   },
   "outputs": [],
   "source": [
    "# answer = \"\"\"\n",
    "# YOUR ANSWER HERE\n",
    "# \"\"\"\n",
    "\n",
    "# send(answer, 22) "
   ]
  },
  {
   "cell_type": "markdown",
   "metadata": {},
   "source": [
    "### 2.3 \n",
    "Create a function to handle the inconsistent data"
   ]
  },
  {
   "cell_type": "code",
   "execution_count": 14,
   "metadata": {},
   "outputs": [
    {
     "data": {
      "text/html": [
       "<div>\n",
       "<style scoped>\n",
       "    .dataframe tbody tr th:only-of-type {\n",
       "        vertical-align: middle;\n",
       "    }\n",
       "\n",
       "    .dataframe tbody tr th {\n",
       "        vertical-align: top;\n",
       "    }\n",
       "\n",
       "    .dataframe thead th {\n",
       "        text-align: right;\n",
       "    }\n",
       "</style>\n",
       "<table border=\"1\" class=\"dataframe\">\n",
       "  <thead>\n",
       "    <tr style=\"text-align: right;\">\n",
       "      <th></th>\n",
       "      <th>student_id</th>\n",
       "      <th>gender</th>\n",
       "      <th>school_group</th>\n",
       "      <th>effort</th>\n",
       "      <th>stress</th>\n",
       "      <th>feedback</th>\n",
       "      <th>regularity</th>\n",
       "      <th>critical</th>\n",
       "      <th>minutes</th>\n",
       "      <th>grade</th>\n",
       "    </tr>\n",
       "  </thead>\n",
       "  <tbody>\n",
       "    <tr>\n",
       "      <th>0</th>\n",
       "      <td>20404.0</td>\n",
       "      <td>male</td>\n",
       "      <td>b</td>\n",
       "      <td>5.997184</td>\n",
       "      <td>7.692678</td>\n",
       "      <td>24.722538</td>\n",
       "      <td>6.227957</td>\n",
       "      <td>2.017330</td>\n",
       "      <td>20.0</td>\n",
       "      <td>3.60</td>\n",
       "    </tr>\n",
       "    <tr>\n",
       "      <th>1</th>\n",
       "      <td>26683.0</td>\n",
       "      <td>female</td>\n",
       "      <td>b</td>\n",
       "      <td>6.017588</td>\n",
       "      <td>8.848776</td>\n",
       "      <td>12.843072</td>\n",
       "      <td>6.227957</td>\n",
       "      <td>1.372255</td>\n",
       "      <td>30.0</td>\n",
       "      <td>3.93</td>\n",
       "    </tr>\n",
       "    <tr>\n",
       "      <th>2</th>\n",
       "      <td>32954.0</td>\n",
       "      <td>female</td>\n",
       "      <td>b</td>\n",
       "      <td>6.070632</td>\n",
       "      <td>6.704850</td>\n",
       "      <td>24.448975</td>\n",
       "      <td>7.218109</td>\n",
       "      <td>1.372255</td>\n",
       "      <td>30.0</td>\n",
       "      <td>3.67</td>\n",
       "    </tr>\n",
       "    <tr>\n",
       "      <th>3</th>\n",
       "      <td>42595.0</td>\n",
       "      <td>female</td>\n",
       "      <td>b</td>\n",
       "      <td>5.996371</td>\n",
       "      <td>7.401787</td>\n",
       "      <td>12.843072</td>\n",
       "      <td>5.578566</td>\n",
       "      <td>1.026390</td>\n",
       "      <td>21.0</td>\n",
       "      <td>3.60</td>\n",
       "    </tr>\n",
       "    <tr>\n",
       "      <th>4</th>\n",
       "      <td>28603.0</td>\n",
       "      <td>male</td>\n",
       "      <td>b</td>\n",
       "      <td>5.985351</td>\n",
       "      <td>6.780604</td>\n",
       "      <td>12.843072</td>\n",
       "      <td>6.227957</td>\n",
       "      <td>1.372255</td>\n",
       "      <td>30.0</td>\n",
       "      <td>2.86</td>\n",
       "    </tr>\n",
       "    <tr>\n",
       "      <th>5</th>\n",
       "      <td>49776.0</td>\n",
       "      <td>female</td>\n",
       "      <td>b</td>\n",
       "      <td>5.985351</td>\n",
       "      <td>7.401787</td>\n",
       "      <td>12.843072</td>\n",
       "      <td>6.152226</td>\n",
       "      <td>1.372255</td>\n",
       "      <td>30.0</td>\n",
       "      <td>3.60</td>\n",
       "    </tr>\n",
       "    <tr>\n",
       "      <th>6</th>\n",
       "      <td>920.0</td>\n",
       "      <td>male</td>\n",
       "      <td>cc</td>\n",
       "      <td>6.010244</td>\n",
       "      <td>7.401787</td>\n",
       "      <td>12.843072</td>\n",
       "      <td>6.725835</td>\n",
       "      <td>1.372255</td>\n",
       "      <td>35.0</td>\n",
       "      <td>3.95</td>\n",
       "    </tr>\n",
       "    <tr>\n",
       "      <th>7</th>\n",
       "      <td>12396.0</td>\n",
       "      <td>male</td>\n",
       "      <td>b</td>\n",
       "      <td>6.010841</td>\n",
       "      <td>7.401787</td>\n",
       "      <td>12.843072</td>\n",
       "      <td>6.227957</td>\n",
       "      <td>2.562570</td>\n",
       "      <td>31.0</td>\n",
       "      <td>3.60</td>\n",
       "    </tr>\n",
       "    <tr>\n",
       "      <th>8</th>\n",
       "      <td>58232.0</td>\n",
       "      <td>male</td>\n",
       "      <td>b</td>\n",
       "      <td>5.985351</td>\n",
       "      <td>8.098402</td>\n",
       "      <td>12.843072</td>\n",
       "      <td>6.971455</td>\n",
       "      <td>1.372255</td>\n",
       "      <td>28.0</td>\n",
       "      <td>3.26</td>\n",
       "    </tr>\n",
       "    <tr>\n",
       "      <th>9</th>\n",
       "      <td>34462.0</td>\n",
       "      <td>female</td>\n",
       "      <td>b</td>\n",
       "      <td>6.029736</td>\n",
       "      <td>5.850793</td>\n",
       "      <td>12.803391</td>\n",
       "      <td>6.227957</td>\n",
       "      <td>1.372255</td>\n",
       "      <td>30.0</td>\n",
       "      <td>3.78</td>\n",
       "    </tr>\n",
       "  </tbody>\n",
       "</table>\n",
       "</div>"
      ],
      "text/plain": [
       "   student_id  gender school_group    effort    stress   feedback  regularity  \\\n",
       "0     20404.0    male            b  5.997184  7.692678  24.722538    6.227957   \n",
       "1     26683.0  female            b  6.017588  8.848776  12.843072    6.227957   \n",
       "2     32954.0  female            b  6.070632  6.704850  24.448975    7.218109   \n",
       "3     42595.0  female            b  5.996371  7.401787  12.843072    5.578566   \n",
       "4     28603.0    male            b  5.985351  6.780604  12.843072    6.227957   \n",
       "5     49776.0  female            b  5.985351  7.401787  12.843072    6.152226   \n",
       "6       920.0    male           cc  6.010244  7.401787  12.843072    6.725835   \n",
       "7     12396.0    male            b  6.010841  7.401787  12.843072    6.227957   \n",
       "8     58232.0    male            b  5.985351  8.098402  12.843072    6.971455   \n",
       "9     34462.0  female            b  6.029736  5.850793  12.803391    6.227957   \n",
       "\n",
       "   critical minutes  grade  \n",
       "0  2.017330    20.0   3.60  \n",
       "1  1.372255    30.0   3.93  \n",
       "2  1.372255    30.0   3.67  \n",
       "3  1.026390    21.0   3.60  \n",
       "4  1.372255    30.0   2.86  \n",
       "5  1.372255    30.0   3.60  \n",
       "6  1.372255    35.0   3.95  \n",
       "7  2.562570    31.0   3.60  \n",
       "8  1.372255    28.0   3.26  \n",
       "9  1.372255    30.0   3.78  "
      ]
     },
     "execution_count": 14,
     "metadata": {},
     "output_type": "execute_result"
    }
   ],
   "source": [
    "df.head(10)"
   ]
  },
  {
   "cell_type": "code",
   "execution_count": null,
   "metadata": {
    "deletable": false,
    "id": "axniAWlNfMmr",
    "nbgrader": {
     "cell_type": "code",
     "checksum": "7a35af86aaf70ca8b76a2efea4e88112",
     "grade": true,
     "grade_id": "2-3",
     "locked": false,
     "points": 0,
     "schema_version": 3,
     "solution": true,
     "task": false
    }
   },
   "outputs": [],
   "source": [
    "### 2.3\n",
    "def handle_inconsistent_data(df):\n",
    "    \"\"\"\n",
    "    Identifies features with inconsistent data types and transforms features\n",
    "    to the correct data type (numerical, object). \n",
    "\n",
    "    Parameters\n",
    "    ----------\n",
    "    df : DataFrame\n",
    "      Containing inconsistent data\n",
    "\n",
    "    Returns\n",
    "    -------\n",
    "    df : DataFrame\n",
    "       With consistent data. All columns must be either numerical or categorical\n",
    "\n",
    "    Hint:\n",
    "    -----\n",
    "    Don't forget to convert the features into the correct data type \n",
    "    \"\"\"\n",
    "    # YOUR CODE HERE\n",
    "\n",
    "    return df"
   ]
  },
  {
   "cell_type": "code",
   "execution_count": null,
   "metadata": {
    "colab": {
     "base_uri": "https://localhost:8080/"
    },
    "executionInfo": {
     "elapsed": 2715,
     "status": "ok",
     "timestamp": 1614268885495,
     "user": {
      "displayName": "Paola Mejia",
      "photoUrl": "",
      "userId": "15451997563084296260"
     },
     "user_tz": -60
    },
    "id": "BH11lf3lEgJH",
    "outputId": "0bfe02bc-8e5e-4da6-9986-68b50c4090bb"
   },
   "outputs": [],
   "source": [
    "df = handle_inconsistent_data(df)\n",
    "print(len(df))\n",
    "print(df.head())\n",
    "print(get_feature_stats(df))"
   ]
  },
  {
   "cell_type": "markdown",
   "metadata": {},
   "source": [
    "### 2.4 \n",
    "Justify your decisions to treat the inconsistent data. Were there columns with inconsistent data types? How did you identify them? \n",
    " "
   ]
  },
  {
   "cell_type": "code",
   "execution_count": null,
   "metadata": {
    "deletable": false,
    "id": "soOMnvl5_6Ld",
    "nbgrader": {
     "cell_type": "markdown",
     "checksum": "d3223e4eb50c298353999b9debfdc25a",
     "grade": true,
     "grade_id": "2-4",
     "locked": false,
     "points": 5,
     "schema_version": 3,
     "solution": true,
     "task": false
    }
   },
   "outputs": [],
   "source": [
    "answer = \"\"\"\n",
    "YOUR ANSWER HERE\n",
    "\"\"\"\n",
    "\n",
    "send(answer, 24) "
   ]
  },
  {
   "cell_type": "markdown",
   "metadata": {
    "id": "TvwYZorE-k1_"
   },
   "source": [
    "<a id=\"section3\"></a>\n",
    "## **3 Visualization** \n",
    "---\n",
    "\n",
    "After cleaning the data, we can try to understand or extract insights from it. To do so, in this last section, you will do the following:\n",
    "1. Create a function to show the relationship between numerical features.\n",
    "2. Interpret your findings. What is correlation useful for? What insights can you get from it? \n",
    "3. Select an appropriate type of graph to explore the relationship between grade, school group, and any other meaningful feature\n",
    "4. Interpret your findings. What are some factors that seem to influence the grade of the students? Which features do not seem to affect the outcome?\n"
   ]
  },
  {
   "cell_type": "markdown",
   "metadata": {},
   "source": [
    "### 3.1 \n",
    "Create a function to show the linear correlation between features."
   ]
  },
  {
   "cell_type": "code",
   "execution_count": null,
   "metadata": {
    "deletable": false,
    "id": "5jCz5LCWGrsD",
    "nbgrader": {
     "cell_type": "code",
     "checksum": "09869e5fb7803a98534ecc267ce604f1",
     "grade": true,
     "grade_id": "3-1",
     "locked": false,
     "points": 5,
     "schema_version": 3,
     "solution": true,
     "task": false
    }
   },
   "outputs": [],
   "source": [
    "### 3.1\n",
    "import seaborn as sns\n",
    "def plot_correlation(df):\n",
    "    \"\"\"\n",
    "    Builds upper triangular heatmap with pearson correlation between numerical variables\n",
    "\n",
    "    Instructions\n",
    "    ------------\n",
    "    The plot must have:\n",
    "    - An appropiate title\n",
    "    - Only upper triangular elements\n",
    "    - Annotated values of correlation coefficients rounded to three significant \n",
    "    figures\n",
    "    - Negative correlation must be blue and possitive correlation red. \n",
    "\n",
    "    Parameters\n",
    "    ----------\n",
    "    df : DataFrame with data\n",
    "\n",
    "\n",
    "    \"\"\"\n",
    "    # YOUR CODE HERE\n",
    "    raise NotImplementedError()\n"
   ]
  },
  {
   "cell_type": "code",
   "execution_count": null,
   "metadata": {
    "colab": {
     "base_uri": "https://localhost:8080/",
     "height": 320
    },
    "executionInfo": {
     "elapsed": 7321,
     "status": "ok",
     "timestamp": 1614268890140,
     "user": {
      "displayName": "Paola Mejia",
      "photoUrl": "",
      "userId": "15451997563084296260"
     },
     "user_tz": -60
    },
    "id": "pERN5ZoUHsqL",
    "outputId": "e0de54b8-fb62-4c95-9e73-f7ca4199430d"
   },
   "outputs": [],
   "source": [
    "send(plot_correlation(df), 31) "
   ]
  },
  {
   "cell_type": "markdown",
   "metadata": {},
   "source": [
    "### 3.2\n",
    "Interpret your findings. What is correlation useful for? What insights can you get from it? \n"
   ]
  },
  {
   "cell_type": "code",
   "execution_count": null,
   "metadata": {
    "deletable": false,
    "id": "G8gNIcUrBJnD",
    "nbgrader": {
     "cell_type": "markdown",
     "checksum": "7d32df24c4893390d2c8aae408e165fd",
     "grade": true,
     "grade_id": "3-3",
     "locked": false,
     "points": 5,
     "schema_version": 3,
     "solution": true,
     "task": false
    }
   },
   "outputs": [],
   "source": [
    "answer = \"\"\"\n",
    "YOUR ANSWER HERE\n",
    "\"\"\"\n",
    "\n",
    "send(answer, 32) "
   ]
  },
  {
   "cell_type": "markdown",
   "metadata": {},
   "source": [
    "### 3.3\n",
    "Select an appropriate type of graph to explore the relationship between grade, school group, and any other meaningful feature.\n"
   ]
  },
  {
   "cell_type": "code",
   "execution_count": null,
   "metadata": {
    "deletable": false,
    "id": "w5PdLlLRGvKY",
    "nbgrader": {
     "cell_type": "code",
     "checksum": "939f8efa596d125cf75e30842074dc4b",
     "grade": true,
     "grade_id": "3-4",
     "locked": false,
     "points": 5,
     "schema_version": 3,
     "solution": true,
     "task": false
    }
   },
   "outputs": [],
   "source": [
    "### 3.3\n",
    "def plot_grades(df):\n",
    "    \"\"\"\n",
    "    Visualizes the relationship between grade,  school group and other meaningful\n",
    "    feature\n",
    "\n",
    "    Parameters\n",
    "    ----------\n",
    "    df : DataFrame with data\n",
    "\n",
    "    \"\"\"\n",
    "    # YOUR CODE HERE\n",
    "    raise NotImplementedError()"
   ]
  },
  {
   "cell_type": "code",
   "execution_count": null,
   "metadata": {
    "colab": {
     "base_uri": "https://localhost:8080/",
     "height": 459
    },
    "executionInfo": {
     "elapsed": 5820,
     "status": "ok",
     "timestamp": 1614268938276,
     "user": {
      "displayName": "Paola Mejia",
      "photoUrl": "",
      "userId": "15451997563084296260"
     },
     "user_tz": -60
    },
    "id": "359sJQ_8tqER",
    "outputId": "3be3ee76-a8db-4721-a78d-6b0a58161884"
   },
   "outputs": [],
   "source": [
    "send(plot_grades(df), 33)"
   ]
  },
  {
   "cell_type": "markdown",
   "metadata": {},
   "source": [
    "### 3.4\n",
    "Interpret your findings. What are some factors that seem to influence the grade of the students? Which features do not seem to affect the outcome?"
   ]
  },
  {
   "cell_type": "code",
   "execution_count": null,
   "metadata": {
    "deletable": false,
    "id": "YhJ3qb7M2fiU",
    "nbgrader": {
     "cell_type": "markdown",
     "checksum": "bf41f17e4d1692e86ada5ce2d86efc5b",
     "grade": true,
     "grade_id": "3-5",
     "locked": false,
     "points": 5,
     "schema_version": 3,
     "solution": true,
     "task": false
    }
   },
   "outputs": [],
   "source": [
    "answer = \"\"\"\n",
    "YOUR ANSWER HERE\n",
    "\"\"\"\n",
    "\n",
    "send(answer, 34) "
   ]
  }
 ],
 "metadata": {
  "colab": {
   "collapsed_sections": [],
   "name": "SecondDraft-Solution01-DataHandling.ipynb",
   "provenance": [
    {
     "file_id": "1mRFFrJF4dE9fELL-s3BxXH-9k8oZoJZi",
     "timestamp": 1614369628317
    },
    {
     "file_id": "1m7X1IqccOW_2p-daNXCIckJaldNH8MeD",
     "timestamp": 1614270374389
    },
    {
     "file_id": "1Y0ZrVKYMUXFoQliKv7-8XrYIpTWw7R63",
     "timestamp": 1613748083326
    },
    {
     "file_id": "11iSt5dKbG-iVOF9RIaQJfFVxeiH10EhN",
     "timestamp": 1613682613431
    }
   ],
   "toc_visible": true
  },
  "kernelspec": {
   "display_name": "base",
   "language": "python",
   "name": "python3"
  },
  "language_info": {
   "codemirror_mode": {
    "name": "ipython",
    "version": 3
   },
   "file_extension": ".py",
   "mimetype": "text/x-python",
   "name": "python",
   "nbconvert_exporter": "python",
   "pygments_lexer": "ipython3",
   "version": "3.9.12 (main, Apr  5 2022, 01:53:17) \n[Clang 12.0.0 ]"
  },
  "vscode": {
   "interpreter": {
    "hash": "60ec46ea0e2aa9c1d642f228b336c4fc54fd482a07dd91b0cd3e47ca60289121"
   }
  }
 },
 "nbformat": 4,
 "nbformat_minor": 4
}
