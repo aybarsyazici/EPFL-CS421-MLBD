{
 "cells": [
  {
   "attachments": {},
   "cell_type": "markdown",
   "id": "bbbe04b0-b989-4b3e-95cd-a9d35bc4a5d9",
   "metadata": {},
   "source": [
    "# Lab 03 - Extended Exercises\n",
    "## Explaining and predicting student performance"
   ]
  },
  {
   "attachments": {},
   "cell_type": "markdown",
   "id": "f914e7f2",
   "metadata": {},
   "source": [
    "We recommend using Noto for this lecture tutorial, where we've already installed the dependencies of the pymer4 package and statsmodels."
   ]
  },
  {
   "cell_type": "code",
   "execution_count": 2,
   "id": "9ab80eb4",
   "metadata": {},
   "outputs": [],
   "source": [
    "import pandas as pd\n",
    "import matplotlib.pyplot as plt\n",
    "import numpy as np\n",
    "import seaborn as sns\n",
    "\n",
    "# Import the linear regression model class\n",
    "from pymer4.models import Lm\n",
    "\n",
    "# Import the lmm model class\n",
    "from pymer4.models import Lmer\n",
    "\n",
    "# Import Gaussian modeling\n",
    "import statsmodels.formula.api as smf\n",
    "\n",
    "import scipy as sp\n",
    "from scipy import stats\n",
    "\n",
    "# Data directory\n",
    "DATA_DIR = \"./../../data/\""
   ]
  },
  {
   "attachments": {},
   "cell_type": "markdown",
   "id": "6bf244ff-3f20-4cd7-a7dd-345a29b6ce1f",
   "metadata": {},
   "source": [
    "## Introduction\n",
    "The data has already been cleaned and it comes from 29 students in 3 different groups in a course of 26 weeks.\n",
    "\n",
    "In this lab you will explore different models to explain the quiz grade. "
   ]
  },
  {
   "cell_type": "code",
   "execution_count": 29,
   "id": "05546575-7285-44ad-86fd-e258d36caea2",
   "metadata": {},
   "outputs": [
    {
     "data": {
      "text/html": [
       "<div>\n",
       "<style scoped>\n",
       "    .dataframe tbody tr th:only-of-type {\n",
       "        vertical-align: middle;\n",
       "    }\n",
       "\n",
       "    .dataframe tbody tr th {\n",
       "        vertical-align: top;\n",
       "    }\n",
       "\n",
       "    .dataframe thead th {\n",
       "        text-align: right;\n",
       "    }\n",
       "</style>\n",
       "<table border=\"1\" class=\"dataframe\">\n",
       "  <thead>\n",
       "    <tr style=\"text-align: right;\">\n",
       "      <th></th>\n",
       "      <th>student</th>\n",
       "      <th>week</th>\n",
       "      <th>studying_hours</th>\n",
       "      <th>group</th>\n",
       "      <th>quiz_grade</th>\n",
       "    </tr>\n",
       "  </thead>\n",
       "  <tbody>\n",
       "    <tr>\n",
       "      <th>0</th>\n",
       "      <td>0</td>\n",
       "      <td>0</td>\n",
       "      <td>39.9</td>\n",
       "      <td>3</td>\n",
       "      <td>6.1</td>\n",
       "    </tr>\n",
       "    <tr>\n",
       "      <th>1</th>\n",
       "      <td>0</td>\n",
       "      <td>1</td>\n",
       "      <td>32.4</td>\n",
       "      <td>3</td>\n",
       "      <td>7.0</td>\n",
       "    </tr>\n",
       "    <tr>\n",
       "      <th>2</th>\n",
       "      <td>0</td>\n",
       "      <td>2</td>\n",
       "      <td>17.5</td>\n",
       "      <td>3</td>\n",
       "      <td>6.9</td>\n",
       "    </tr>\n",
       "    <tr>\n",
       "      <th>3</th>\n",
       "      <td>0</td>\n",
       "      <td>3</td>\n",
       "      <td>16.0</td>\n",
       "      <td>3</td>\n",
       "      <td>7.0</td>\n",
       "    </tr>\n",
       "    <tr>\n",
       "      <th>4</th>\n",
       "      <td>0</td>\n",
       "      <td>4</td>\n",
       "      <td>15.9</td>\n",
       "      <td>3</td>\n",
       "      <td>7.2</td>\n",
       "    </tr>\n",
       "  </tbody>\n",
       "</table>\n",
       "</div>"
      ],
      "text/plain": [
       "   student  week  studying_hours  group  quiz_grade\n",
       "0        0     0            39.9      3         6.1\n",
       "1        0     1            32.4      3         7.0\n",
       "2        0     2            17.5      3         6.9\n",
       "3        0     3            16.0      3         7.0\n",
       "4        0     4            15.9      3         7.2"
      ]
     },
     "execution_count": 29,
     "metadata": {},
     "output_type": "execute_result"
    }
   ],
   "source": [
    "# Load data\n",
    "df= pd.read_csv(f'{DATA_DIR}grades_in_time.csv.gz')\n",
    "df.head()"
   ]
  },
  {
   "cell_type": "code",
   "execution_count": 30,
   "id": "1a0380fd-5578-46a7-bf68-e1aeac69b4e4",
   "metadata": {},
   "outputs": [
    {
     "data": {
      "text/html": [
       "<div>\n",
       "<style scoped>\n",
       "    .dataframe tbody tr th:only-of-type {\n",
       "        vertical-align: middle;\n",
       "    }\n",
       "\n",
       "    .dataframe tbody tr th {\n",
       "        vertical-align: top;\n",
       "    }\n",
       "\n",
       "    .dataframe thead th {\n",
       "        text-align: right;\n",
       "    }\n",
       "</style>\n",
       "<table border=\"1\" class=\"dataframe\">\n",
       "  <thead>\n",
       "    <tr style=\"text-align: right;\">\n",
       "      <th></th>\n",
       "      <th>student</th>\n",
       "      <th>week</th>\n",
       "      <th>studying_hours</th>\n",
       "      <th>group</th>\n",
       "      <th>quiz_grade</th>\n",
       "    </tr>\n",
       "  </thead>\n",
       "  <tbody>\n",
       "    <tr>\n",
       "      <th>count</th>\n",
       "      <td>810.000000</td>\n",
       "      <td>810.000000</td>\n",
       "      <td>810.000000</td>\n",
       "      <td>810.000000</td>\n",
       "      <td>810.000000</td>\n",
       "    </tr>\n",
       "    <tr>\n",
       "      <th>mean</th>\n",
       "      <td>14.500000</td>\n",
       "      <td>13.000000</td>\n",
       "      <td>10.050617</td>\n",
       "      <td>1.933333</td>\n",
       "      <td>6.931975</td>\n",
       "    </tr>\n",
       "    <tr>\n",
       "      <th>std</th>\n",
       "      <td>8.660789</td>\n",
       "      <td>7.793693</td>\n",
       "      <td>8.270041</td>\n",
       "      <td>0.772199</td>\n",
       "      <td>1.336888</td>\n",
       "    </tr>\n",
       "    <tr>\n",
       "      <th>min</th>\n",
       "      <td>0.000000</td>\n",
       "      <td>0.000000</td>\n",
       "      <td>1.000000</td>\n",
       "      <td>1.000000</td>\n",
       "      <td>1.200000</td>\n",
       "    </tr>\n",
       "    <tr>\n",
       "      <th>25%</th>\n",
       "      <td>7.000000</td>\n",
       "      <td>6.000000</td>\n",
       "      <td>5.700000</td>\n",
       "      <td>1.000000</td>\n",
       "      <td>6.400000</td>\n",
       "    </tr>\n",
       "    <tr>\n",
       "      <th>50%</th>\n",
       "      <td>14.500000</td>\n",
       "      <td>13.000000</td>\n",
       "      <td>7.800000</td>\n",
       "      <td>2.000000</td>\n",
       "      <td>7.200000</td>\n",
       "    </tr>\n",
       "    <tr>\n",
       "      <th>75%</th>\n",
       "      <td>22.000000</td>\n",
       "      <td>20.000000</td>\n",
       "      <td>11.100000</td>\n",
       "      <td>3.000000</td>\n",
       "      <td>7.800000</td>\n",
       "    </tr>\n",
       "    <tr>\n",
       "      <th>max</th>\n",
       "      <td>29.000000</td>\n",
       "      <td>26.000000</td>\n",
       "      <td>64.000000</td>\n",
       "      <td>3.000000</td>\n",
       "      <td>10.100000</td>\n",
       "    </tr>\n",
       "  </tbody>\n",
       "</table>\n",
       "</div>"
      ],
      "text/plain": [
       "          student        week  studying_hours       group  quiz_grade\n",
       "count  810.000000  810.000000      810.000000  810.000000  810.000000\n",
       "mean    14.500000   13.000000       10.050617    1.933333    6.931975\n",
       "std      8.660789    7.793693        8.270041    0.772199    1.336888\n",
       "min      0.000000    0.000000        1.000000    1.000000    1.200000\n",
       "25%      7.000000    6.000000        5.700000    1.000000    6.400000\n",
       "50%     14.500000   13.000000        7.800000    2.000000    7.200000\n",
       "75%     22.000000   20.000000       11.100000    3.000000    7.800000\n",
       "max     29.000000   26.000000       64.000000    3.000000   10.100000"
      ]
     },
     "execution_count": 30,
     "metadata": {},
     "output_type": "execute_result"
    }
   ],
   "source": [
    "df.describe(include='all')"
   ]
  },
  {
   "attachments": {},
   "cell_type": "markdown",
   "id": "480bc2c2-fbb0-4424-b1fd-ee1d6566f670",
   "metadata": {},
   "source": [
    "# Task 1: Linear Model\n",
    "----------\n",
    "### 1.1 Preprocess the data to run a regression model to explain the effect of studying hours on quiz grade.  "
   ]
  },
  {
   "cell_type": "code",
   "execution_count": 31,
   "id": "a89516bf-7a9a-4d11-b25f-ce33490219a3",
   "metadata": {},
   "outputs": [],
   "source": [
    "from sklearn.preprocessing import StandardScaler\n",
    "columns_to_scale = ['studying_hours']\n",
    "X = df[columns_to_scale]\n",
    "scaler = StandardScaler()\n",
    "X = scaler.fit_transform(X)"
   ]
  },
  {
   "cell_type": "code",
   "execution_count": 32,
   "id": "9244a9a7-9464-43fb-8bd1-9735e3300428",
   "metadata": {},
   "outputs": [],
   "source": [
    "simple_X = pd.DataFrame(X, columns = columns_to_scale)\n",
    "df_scaled = pd.concat([simple_X, df[['quiz_grade', 'week', 'student', 'group']]], axis=1)"
   ]
  },
  {
   "cell_type": "code",
   "execution_count": 33,
   "id": "317cdb72-4d32-437d-b693-66b8f21128b9",
   "metadata": {},
   "outputs": [
    {
     "data": {
      "text/html": [
       "<div>\n",
       "<style scoped>\n",
       "    .dataframe tbody tr th:only-of-type {\n",
       "        vertical-align: middle;\n",
       "    }\n",
       "\n",
       "    .dataframe tbody tr th {\n",
       "        vertical-align: top;\n",
       "    }\n",
       "\n",
       "    .dataframe thead th {\n",
       "        text-align: right;\n",
       "    }\n",
       "</style>\n",
       "<table border=\"1\" class=\"dataframe\">\n",
       "  <thead>\n",
       "    <tr style=\"text-align: right;\">\n",
       "      <th></th>\n",
       "      <th>studying_hours</th>\n",
       "      <th>quiz_grade</th>\n",
       "      <th>week</th>\n",
       "      <th>student</th>\n",
       "      <th>group</th>\n",
       "    </tr>\n",
       "  </thead>\n",
       "  <tbody>\n",
       "    <tr>\n",
       "      <th>0</th>\n",
       "      <td>3.611569</td>\n",
       "      <td>6.1</td>\n",
       "      <td>0</td>\n",
       "      <td>0</td>\n",
       "      <td>3</td>\n",
       "    </tr>\n",
       "    <tr>\n",
       "      <th>1</th>\n",
       "      <td>2.704121</td>\n",
       "      <td>7.0</td>\n",
       "      <td>1</td>\n",
       "      <td>0</td>\n",
       "      <td>3</td>\n",
       "    </tr>\n",
       "  </tbody>\n",
       "</table>\n",
       "</div>"
      ],
      "text/plain": [
       "   studying_hours  quiz_grade  week  student  group\n",
       "0        3.611569         6.1     0        0      3\n",
       "1        2.704121         7.0     1        0      3"
      ]
     },
     "execution_count": 33,
     "metadata": {},
     "output_type": "execute_result"
    }
   ],
   "source": [
    "df_scaled.head(2)"
   ]
  },
  {
   "attachments": {},
   "cell_type": "markdown",
   "id": "8a8f3668-66ea-4983-82df-2f4fb60d0f0a",
   "metadata": {},
   "source": [
    "### 1.2 Explain your preprocessing steps"
   ]
  },
  {
   "cell_type": "code",
   "execution_count": 34,
   "id": "4034cdcf-139d-45ed-a3aa-32bc97abe211",
   "metadata": {},
   "outputs": [],
   "source": [
    "answer = \"\"\"\n",
    "Standardization helps correctly compare multiple variables (in different units) and \n",
    "reduce multicollinearity.\n",
    "In this case, we only have one variable feature. Thus, it is not necessary but \n",
    "it is a good practice. \n",
    "\"\"\""
   ]
  },
  {
   "attachments": {},
   "cell_type": "markdown",
   "id": "9e39ab3e-cd5f-4664-9914-6909ecf10ec7",
   "metadata": {},
   "source": [
    "### 1.3 Run a regression model to explain the effect of studying hours on quiz grade.  "
   ]
  },
  {
   "cell_type": "code",
   "execution_count": 35,
   "id": "e7246556-f1d1-422a-b7ce-9d2e2bb0fe1d",
   "metadata": {},
   "outputs": [
    {
     "name": "stdout",
     "output_type": "stream",
     "text": [
      "Formula: quiz_grade~0+studying_hours\n",
      "\n",
      "Family: gaussian\t Estimator: OLS\n",
      "\n",
      "Std-errors: non-robust\tCIs: standard 95%\tInference: parametric \n",
      "\n",
      "Number of observations: 810\t R^2: 0.007\t R^2_adj: 0.006\n",
      "\n",
      "Log-likelihood: -2729.422 \t AIC: 5460.844\t BIC: 5465.541\n",
      "\n",
      "Fixed effects:\n",
      "\n",
      "                Estimate  2.5_ci  97.5_ci     SE   DF  T-stat  P-val Sig\n",
      "studying_hours     0.603   0.118    1.089  0.247  809   2.439  0.015   *\n"
     ]
    }
   ],
   "source": [
    "model1_str = \"\"\"quiz_grade ~ 0 + studying_hours \"\"\" ## Write your model here\n",
    "model = Lm(model1_str, data=df_scaled, family='gaussian')\n",
    "\n",
    "# Fit the models\n",
    "print(model.fit())"
   ]
  },
  {
   "cell_type": "code",
   "execution_count": 36,
   "id": "9ed155e4-5ac9-4320-abe3-f9d41b947caa",
   "metadata": {},
   "outputs": [
    {
     "name": "stdout",
     "output_type": "stream",
     "text": [
      "Formula: quiz_grade~1+studying_hours\n",
      "\n",
      "Family: gaussian\t Estimator: OLS\n",
      "\n",
      "Std-errors: non-robust\tCIs: standard 95%\tInference: parametric \n",
      "\n",
      "Number of observations: 810\t R^2: 0.204\t R^2_adj: 0.203\n",
      "\n",
      "Log-likelihood: -1291.688 \t AIC: 2587.376\t BIC: 2596.770\n",
      "\n",
      "Fixed effects:\n",
      "\n",
      "                Estimate  2.5_ci  97.5_ci     SE   DF   T-stat  P-val  Sig\n",
      "Intercept          6.932   6.850    7.014  0.042  808  165.288    0.0  ***\n",
      "studying_hours     0.603   0.521    0.686  0.042  808   14.384    0.0  ***\n"
     ]
    }
   ],
   "source": [
    "model1_str = \"\"\"quiz_grade ~ 1 + studying_hours \"\"\" ## Write your model here\n",
    "model = Lm(model1_str, data=df_scaled, family='gaussian')\n",
    "\n",
    "# Fit the models\n",
    "print(model.fit())"
   ]
  },
  {
   "cell_type": "code",
   "execution_count": 37,
   "id": "3bc20bb9-d5e4-4f18-a342-a91b8a7e8ffd",
   "metadata": {},
   "outputs": [
    {
     "data": {
      "text/plain": [
       "<seaborn.axisgrid.FacetGrid at 0x2963164d0>"
      ]
     },
     "execution_count": 37,
     "metadata": {},
     "output_type": "execute_result"
    },
    {
     "data": {
      "image/png": "[encoded data removed]",
      "text/plain": [
       "<Figure size 500x500 with 1 Axes>"
      ]
     },
     "metadata": {},
     "output_type": "display_data"
    }
   ],
   "source": [
    "sns.lmplot(x=\"studying_hours\", y=\"quiz_grade\", data=df_scaled)"
   ]
  },
  {
   "attachments": {},
   "cell_type": "markdown",
   "id": "53acd2fb-c247-4a7c-8e6d-70d65c5c9ee7",
   "metadata": {},
   "source": [
    "### 1.3 What model family (poisson, logistic, etc) did you use and why? "
   ]
  },
  {
   "cell_type": "code",
   "execution_count": 38,
   "id": "1156961d-f607-4ab0-802c-994bfdb75d50",
   "metadata": {},
   "outputs": [],
   "source": [
    "answer = \"\"\"\n",
    "Gaussian is a good approximation becauset the dependent feature (y) is continuous (not discrete or binary).\n",
    "\"\"\""
   ]
  },
  {
   "cell_type": "code",
   "execution_count": 39,
   "id": "e95e4722-3967-46ca-837c-b017e6b53fbe",
   "metadata": {},
   "outputs": [
    {
     "data": {
      "text/plain": [
       "<Axes: xlabel='quiz_grade', ylabel='Count'>"
      ]
     },
     "execution_count": 39,
     "metadata": {},
     "output_type": "execute_result"
    },
    {
     "data": {
      "image/png": "[encoded data removed]",
      "text/plain": [
       "<Figure size 640x480 with 1 Axes>"
      ]
     },
     "metadata": {},
     "output_type": "display_data"
    }
   ],
   "source": [
    "sns.histplot(df_scaled[\"quiz_grade\"])"
   ]
  },
  {
   "attachments": {},
   "cell_type": "markdown",
   "id": "86482662-863d-4b76-890d-232f8d1f5b4f",
   "metadata": {},
   "source": [
    "### 1.4 Interpret the regression results. \n",
    "Do the variables have a positive or negative effect? Is it significant?"
   ]
  },
  {
   "cell_type": "code",
   "execution_count": 40,
   "id": "ccf627ff-7b3b-4960-934b-ea116ebb3fa9",
   "metadata": {},
   "outputs": [],
   "source": [
    "answer = \"\"\"\n",
    "The number of studying hours has a positive and significant effect.\n",
    "\"\"\""
   ]
  },
  {
   "attachments": {},
   "cell_type": "markdown",
   "id": "16dd936e-1f0e-446e-955f-4a3d01f93426",
   "metadata": {},
   "source": [
    "### 1.5 Is this an appropriate method? Explain why or why not."
   ]
  },
  {
   "cell_type": "code",
   "execution_count": 41,
   "id": "ef580634-10ae-42cb-a2bb-d40864d8f197",
   "metadata": {},
   "outputs": [],
   "source": [
    "answer = \"\"\"\n",
    "No, because group differences are not taken into account.\n",
    "\"\"\""
   ]
  },
  {
   "attachments": {},
   "cell_type": "markdown",
   "id": "17a0f101-c91c-42db-9a56-2852d9e52f0d",
   "metadata": {},
   "source": [
    "# Task 2: Linear Model with Fixed Effects\n",
    "----------\n",
    "### 2.1  Run a regression model to explain the effect of studying hours on quiz grade. Add fixed effects for group. "
   ]
  },
  {
   "cell_type": "code",
   "execution_count": 42,
   "id": "4d58cec3-b70c-43ae-867d-797962a49e5a",
   "metadata": {},
   "outputs": [],
   "source": [
    "df_scaled['group'] = df_scaled['group'].astype(str)"
   ]
  },
  {
   "cell_type": "code",
   "execution_count": 43,
   "id": "911397fc-ff35-4bb1-9102-4004432a9105",
   "metadata": {},
   "outputs": [
    {
     "name": "stdout",
     "output_type": "stream",
     "text": [
      "Formula: quiz_grade~1+studying_hours+group\n",
      "\n",
      "Family: gaussian\t Estimator: OLS\n",
      "\n",
      "Std-errors: non-robust\tCIs: standard 95%\tInference: parametric \n",
      "\n",
      "Number of observations: 810\t R^2: 0.237\t R^2_adj: 0.234\n",
      "\n",
      "Log-likelihood: -1274.546 \t AIC: 2557.091\t BIC: 2575.879\n",
      "\n",
      "Fixed effects:\n",
      "\n",
      "                Estimate  2.5_ci  97.5_ci     SE   DF  T-stat  P-val  Sig\n",
      "Intercept          6.586   6.445    6.727  0.072  806  91.707    0.0  ***\n",
      "group[T.2]         0.551   0.357    0.745  0.099  806   5.580    0.0  ***\n",
      "group[T.3]         0.469   0.260    0.679  0.107  806   4.394    0.0  ***\n",
      "studying_hours     0.647   0.564    0.730  0.042  806  15.294    0.0  ***\n"
     ]
    }
   ],
   "source": [
    "model = Lm(\"\"\"quiz_grade ~ 1 + studying_hours  + group\"\"\", data=df_scaled, family='gaussian')\n",
    "\n",
    "# Fit the models\n",
    "print(model.fit())"
   ]
  },
  {
   "attachments": {},
   "cell_type": "markdown",
   "id": "694b3801-e7e4-43f2-b2ad-6a408769dae3",
   "metadata": {},
   "source": [
    "### 2.2 Interpret the regression results. \n",
    "What changed? What does it mean to have group fixed effects? "
   ]
  },
  {
   "cell_type": "code",
   "execution_count": 44,
   "id": "20c2cc5d-7d52-4234-80b6-e83e68c20d5d",
   "metadata": {},
   "outputs": [
    {
     "ename": "NameError",
     "evalue": "name 'send' is not defined",
     "output_type": "error",
     "traceback": [
      "\u001b[0;31m---------------------------------------------------------------------------\u001b[0m",
      "\u001b[0;31mNameError\u001b[0m                                 Traceback (most recent call last)",
      "Cell \u001b[0;32mIn[44], line 6\u001b[0m\n\u001b[1;32m      1\u001b[0m answer \u001b[39m=\u001b[39m \u001b[39m\"\"\"\u001b[39m\n\u001b[1;32m      2\u001b[0m \u001b[39m Group fixed effects allow us to difference out any constant differences between groups,\u001b[39m\n\u001b[1;32m      3\u001b[0m \u001b[39m and focus only on changes within each entity over time.\u001b[39m\n\u001b[1;32m      4\u001b[0m \u001b[39m\"\"\"\u001b[39m\n\u001b[0;32m----> 6\u001b[0m send(answer, \u001b[39m22\u001b[39m) \n",
      "\u001b[0;31mNameError\u001b[0m: name 'send' is not defined"
     ]
    }
   ],
   "source": [
    "answer = \"\"\"\n",
    " Group fixed effects allow us to difference out any constant differences between groups,\n",
    " and focus only on changes within each entity over time.\n",
    "\"\"\"\n",
    "\n",
    "send(answer, 22) "
   ]
  },
  {
   "attachments": {},
   "cell_type": "markdown",
   "id": "abfcaffc-7c69-4a5e-84d4-137c1835aa99",
   "metadata": {},
   "source": [
    "# Task 3: Linear Model with Random Effects\n",
    "----------\n",
    "### 3.1  Run a regression model to explain the effect of studying hours on quiz grade. Add random intercept for group. "
   ]
  },
  {
   "cell_type": "code",
   "execution_count": 45,
   "id": "51dde9ad-ad3d-41e7-976d-56a8b02fd023",
   "metadata": {},
   "outputs": [
    {
     "name": "stdout",
     "output_type": "stream",
     "text": [
      "Linear mixed model fit by REML [’lmerMod’]\n",
      "Formula: quiz_grade~1+(1|group)+studying_hours\n",
      "\n",
      "Family: gaussian\t Inference: parametric\n",
      "\n",
      "Number of observations: 810\t Groups: {'group': 3.0}\n",
      "\n",
      "Log-likelihood: -1282.909 \t AIC: 2573.817\n",
      "\n",
      "Random effects:\n",
      "\n",
      "                 Name    Var    Std\n",
      "group     (Intercept)  0.084  0.289\n",
      "Residual               1.369  1.170\n",
      "\n",
      "No random effect correlations specified\n",
      "\n",
      "Fixed effects:\n",
      "\n",
      "                Estimate  2.5_ci  97.5_ci     SE       DF  T-stat  P-val  Sig\n",
      "(Intercept)        6.927   6.589    7.264  0.172    2.004  40.249  0.001  ***\n",
      "studying_hours     0.645   0.562    0.728  0.042  807.849  15.263  0.000  ***\n"
     ]
    }
   ],
   "source": [
    "model = Lmer(\"\"\"quiz_grade ~ 1 + (1|group) + studying_hours \"\"\", data=df_scaled, family='gaussian')\n",
    "\n",
    "# Fit the models\n",
    "print(model.fit())"
   ]
  },
  {
   "attachments": {},
   "cell_type": "markdown",
   "id": "7f465dbe-bd68-477e-8a15-8df2a20b287a",
   "metadata": {},
   "source": [
    "### 3.2 Plot the regression lines\n",
    "Hint: You may use model.plot"
   ]
  },
  {
   "cell_type": "code",
   "execution_count": 46,
   "id": "aa1d35cc-ca59-4a90-8f64-81baf62c7607",
   "metadata": {},
   "outputs": [
    {
     "data": {
      "text/plain": [
       "<Axes: xlabel='studying_hours', ylabel='quiz_grade'>"
      ]
     },
     "execution_count": 46,
     "metadata": {},
     "output_type": "execute_result"
    },
    {
     "data": {
      "image/png": "[encoded data removed]",
      "text/plain": [
       "<Figure size 800x600 with 1 Axes>"
      ]
     },
     "metadata": {},
     "output_type": "display_data"
    }
   ],
   "source": [
    "model.plot(\"studying_hours\", plot_ci=True)"
   ]
  },
  {
   "attachments": {},
   "cell_type": "markdown",
   "id": "6ace3d7c-b733-4427-8213-f21de6907290",
   "metadata": {},
   "source": [
    "### 3.3  Run a regression model to explain the effect of studying hours on quiz grade. Add slope for group. "
   ]
  },
  {
   "cell_type": "code",
   "execution_count": 47,
   "id": "c2079a32-b8cf-45c5-abb4-b9faf92b7fac",
   "metadata": {},
   "outputs": [
    {
     "name": "stdout",
     "output_type": "stream",
     "text": [
      "Linear mixed model fit by REML [’lmerMod’]\n",
      "Formula: quiz_grade~1+(0+studying_hours|group)\n",
      "\n",
      "Family: gaussian\t Inference: parametric\n",
      "\n",
      "Number of observations: 810\t Groups: {'group': 3.0}\n",
      "\n",
      "Log-likelihood: -1230.242 \t AIC: 2466.484\n",
      "\n",
      "Random effects:\n",
      "\n",
      "                    Name    Var    Std\n",
      "group     studying_hours  0.362  0.602\n",
      "Residual                  1.198  1.094\n",
      "\n",
      "No random effect correlations specified\n",
      "\n",
      "Fixed effects:\n",
      "\n",
      "             Estimate  2.5_ci  97.5_ci     SE       DF   T-stat  P-val  Sig\n",
      "(Intercept)     6.853   6.766     6.94  0.044  739.487  154.658    0.0  ***\n"
     ]
    }
   ],
   "source": [
    "model = Lmer(\"\"\"quiz_grade ~ 1  + (0 + studying_hours|group) \"\"\", data=df_scaled, family='gaussian')\n",
    "\n",
    "# Fit the models\n",
    "print(model.fit())"
   ]
  },
  {
   "attachments": {},
   "cell_type": "markdown",
   "id": "e5a90d6a-27d2-477f-aee2-2496962523b6",
   "metadata": {},
   "source": [
    "### 3.4 Plot the regression lines\n",
    "Hint: You may use model.ranef"
   ]
  },
  {
   "cell_type": "code",
   "execution_count": 48,
   "id": "bd907ff4-5f9e-4e79-95f3-1e3ada3333b8",
   "metadata": {},
   "outputs": [],
   "source": [
    "intercept = model.coefs.Estimate[0]"
   ]
  },
  {
   "cell_type": "code",
   "execution_count": 49,
   "id": "c71b6933-46f2-4e9f-8919-fcc7ac7f4ce0",
   "metadata": {},
   "outputs": [
    {
     "data": {
      "text/html": [
       "<div>\n",
       "<style scoped>\n",
       "    .dataframe tbody tr th:only-of-type {\n",
       "        vertical-align: middle;\n",
       "    }\n",
       "\n",
       "    .dataframe tbody tr th {\n",
       "        vertical-align: top;\n",
       "    }\n",
       "\n",
       "    .dataframe thead th {\n",
       "        text-align: right;\n",
       "    }\n",
       "</style>\n",
       "<table border=\"1\" class=\"dataframe\">\n",
       "  <thead>\n",
       "    <tr style=\"text-align: right;\">\n",
       "      <th></th>\n",
       "      <th>studying_hours</th>\n",
       "    </tr>\n",
       "  </thead>\n",
       "  <tbody>\n",
       "    <tr>\n",
       "      <th>1</th>\n",
       "      <td>1.021431</td>\n",
       "    </tr>\n",
       "    <tr>\n",
       "      <th>2</th>\n",
       "      <td>-0.010058</td>\n",
       "    </tr>\n",
       "    <tr>\n",
       "      <th>3</th>\n",
       "      <td>0.059044</td>\n",
       "    </tr>\n",
       "  </tbody>\n",
       "</table>\n",
       "</div>"
      ],
      "text/plain": [
       "   studying_hours\n",
       "1        1.021431\n",
       "2       -0.010058\n",
       "3        0.059044"
      ]
     },
     "execution_count": 49,
     "metadata": {},
     "output_type": "execute_result"
    }
   ],
   "source": [
    "model.ranef.head()"
   ]
  },
  {
   "cell_type": "code",
   "execution_count": 50,
   "id": "815896d8-f7b4-4b17-b7ae-a733fd0355d8",
   "metadata": {},
   "outputs": [
    {
     "data": {
      "image/png": "[encoded data removed]",
      "text/plain": [
       "<Figure size 640x480 with 1 Axes>"
      ]
     },
     "metadata": {},
     "output_type": "display_data"
    }
   ],
   "source": [
    "x = np.linspace(0, 3,4)\n",
    "for i, row in model.ranef.iterrows():\n",
    "    sns.lineplot(x=x, y=intercept + row['studying_hours']*x)"
   ]
  },
  {
   "attachments": {},
   "cell_type": "markdown",
   "id": "d7975173-1541-4646-a195-193b12d47d7a",
   "metadata": {},
   "source": [
    "### 3.5  Run a regression model to explain the effect of studying hours on quiz grade. Add random intercept and slope for group. "
   ]
  },
  {
   "cell_type": "code",
   "execution_count": 51,
   "id": "71c02a22-d12a-4efc-b0c2-2041da07d946",
   "metadata": {},
   "outputs": [
    {
     "name": "stdout",
     "output_type": "stream",
     "text": [
      "boundary (singular) fit: see help('isSingular') \n",
      "\n",
      "Linear mixed model fit by REML [’lmerMod’]\n",
      "Formula: quiz_grade~(1+studying_hours|group)\n",
      "\n",
      "Family: gaussian\t Inference: parametric\n",
      "\n",
      "Number of observations: 810\t Groups: {'group': 3.0}\n",
      "\n",
      "Log-likelihood: -1205.548 \t AIC: 2421.096\n",
      "\n",
      "Random effects:\n",
      "\n",
      "                    Name    Var    Std\n",
      "group        (Intercept)  0.165  0.406\n",
      "group     studying_hours  0.410  0.640\n",
      "Residual                  1.124  1.060\n",
      "\n",
      "               IV1             IV2  Corr\n",
      "group  (Intercept)  studying_hours  -1.0\n",
      "\n",
      "Fixed effects:\n",
      "\n",
      "             Estimate  2.5_ci  97.5_ci    SE       DF   T-stat  P-val  Sig\n",
      "(Intercept)      7.18   7.082    7.278  0.05  359.077  143.976    0.0  ***\n"
     ]
    }
   ],
   "source": [
    "model = Lmer(\"\"\"quiz_grade ~ (1 + studying_hours|group) \"\"\", data=df_scaled, family='gaussian')\n",
    "\n",
    "# Fit the models\n",
    "print(model.fit())"
   ]
  },
  {
   "cell_type": "code",
   "execution_count": 52,
   "id": "dd95dafc-53f6-4705-87ec-1e370b8ecbc4",
   "metadata": {},
   "outputs": [
    {
     "data": {
      "text/html": [
       "<div>\n",
       "<style scoped>\n",
       "    .dataframe tbody tr th:only-of-type {\n",
       "        vertical-align: middle;\n",
       "    }\n",
       "\n",
       "    .dataframe tbody tr th {\n",
       "        vertical-align: top;\n",
       "    }\n",
       "\n",
       "    .dataframe thead th {\n",
       "        text-align: right;\n",
       "    }\n",
       "</style>\n",
       "<table border=\"1\" class=\"dataframe\">\n",
       "  <thead>\n",
       "    <tr style=\"text-align: right;\">\n",
       "      <th></th>\n",
       "      <th>X.Intercept.</th>\n",
       "      <th>studying_hours</th>\n",
       "    </tr>\n",
       "  </thead>\n",
       "  <tbody>\n",
       "    <tr>\n",
       "      <th>1</th>\n",
       "      <td>-0.679018</td>\n",
       "      <td>1.071420</td>\n",
       "    </tr>\n",
       "    <tr>\n",
       "      <th>2</th>\n",
       "      <td>-0.166013</td>\n",
       "      <td>0.261951</td>\n",
       "    </tr>\n",
       "    <tr>\n",
       "      <th>3</th>\n",
       "      <td>-0.018387</td>\n",
       "      <td>0.029013</td>\n",
       "    </tr>\n",
       "  </tbody>\n",
       "</table>\n",
       "</div>"
      ],
      "text/plain": [
       "   X.Intercept.  studying_hours\n",
       "1     -0.679018        1.071420\n",
       "2     -0.166013        0.261951\n",
       "3     -0.018387        0.029013"
      ]
     },
     "execution_count": 52,
     "metadata": {},
     "output_type": "execute_result"
    }
   ],
   "source": [
    "model.ranef"
   ]
  },
  {
   "attachments": {},
   "cell_type": "markdown",
   "id": "bec50086-6099-4511-a55c-c7eb24e803ca",
   "metadata": {},
   "source": [
    "### 3.6 Plot the regression lines"
   ]
  },
  {
   "cell_type": "code",
   "execution_count": 53,
   "id": "65fad4b5-0967-4f93-92e1-a77d12e5d59d",
   "metadata": {},
   "outputs": [
    {
     "data": {
      "image/png": "[encoded data removed]",
      "text/plain": [
       "<Figure size 640x480 with 1 Axes>"
      ]
     },
     "metadata": {},
     "output_type": "display_data"
    }
   ],
   "source": [
    "x = np.linspace(0, 3,4)\n",
    "for i, row in model.ranef.iterrows():\n",
    "    sns.lineplot(x=x, y=row['X.Intercept.'] + row['studying_hours']*x)"
   ]
  },
  {
   "attachments": {},
   "cell_type": "markdown",
   "id": "5f3714d0-feb1-44f5-b401-d2b19b131174",
   "metadata": {},
   "source": [
    "### 3.7 Interpret the regression results. \n",
    "What changed? What does it mean to have group random effects? "
   ]
  },
  {
   "cell_type": "code",
   "execution_count": 54,
   "id": "14f080cf-c214-42ba-8373-5ad0cdb19d23",
   "metadata": {},
   "outputs": [
    {
     "ename": "NameError",
     "evalue": "name 'send' is not defined",
     "output_type": "error",
     "traceback": [
      "\u001b[0;31m---------------------------------------------------------------------------\u001b[0m",
      "\u001b[0;31mNameError\u001b[0m                                 Traceback (most recent call last)",
      "Cell \u001b[0;32mIn[54], line 8\u001b[0m\n\u001b[1;32m      1\u001b[0m answer \u001b[39m=\u001b[39m \u001b[39m\"\"\"\u001b[39m\n\u001b[1;32m      2\u001b[0m \u001b[39mEffects are fixed if they are interesting in themselves\u001b[39m\n\u001b[1;32m      3\u001b[0m \u001b[39mor random if there is interest in the underlying population.\u001b[39m\n\u001b[1;32m      4\u001b[0m \u001b[39mWith intercept random effects, we assumed that every group has a different starting \u001b[39m\n\u001b[1;32m      5\u001b[0m \u001b[39mpoint (y-intercept) and with slope random effects we assume that every group has a different rate.  \u001b[39m\n\u001b[1;32m      6\u001b[0m \u001b[39m\"\"\"\u001b[39m\n\u001b[0;32m----> 8\u001b[0m send(answer, \u001b[39m37\u001b[39m) \n",
      "\u001b[0;31mNameError\u001b[0m: name 'send' is not defined"
     ]
    }
   ],
   "source": [
    "answer = \"\"\"\n",
    "Effects are fixed if they are interesting in themselves\n",
    "or random if there is interest in the underlying population.\n",
    "With intercept random effects, we assumed that every group has a different starting \n",
    "point (y-intercept) and with slope random effects we assume that every group has a different rate.  \n",
    "\"\"\"\n",
    "\n",
    "send(answer, 37) "
   ]
  },
  {
   "attachments": {},
   "cell_type": "markdown",
   "id": "514ca48e-654a-4b2e-983b-d1a836e506dc",
   "metadata": {},
   "source": [
    "# Task 4: Mixed Model with Time Interaction \n",
    "----------\n",
    "### 4.1  Again, run a regression model to explain the effect of studying hours on quiz grade. Add random intercept and slope for groups AND interaction between the number of stuyding hours and time (weeks). \n"
   ]
  },
  {
   "cell_type": "code",
   "execution_count": 55,
   "id": "ede90aaf-a5a2-449d-b045-4fa81363b274",
   "metadata": {},
   "outputs": [
    {
     "name": "stdout",
     "output_type": "stream",
     "text": [
      "boundary (singular) fit: see help('isSingular') \n",
      "\n",
      "Linear mixed model fit by REML [’lmerMod’]\n",
      "Formula: quiz_grade~(1+studying_hours*week|group)\n",
      "\n",
      "Family: gaussian\t Inference: parametric\n",
      "\n",
      "Number of observations: 810\t Groups: {'group': 3.0}\n",
      "\n",
      "Log-likelihood: -845.316 \t AIC: 1714.632\n",
      "\n",
      "Random effects:\n",
      "\n",
      "                         Name    Var    Std\n",
      "group             (Intercept)  1.529  1.237\n",
      "group          studying_hours  1.510  1.229\n",
      "group                    week  0.011  0.107\n",
      "group     studying_hours:week  0.005  0.071\n",
      "Residual                       0.447  0.668\n",
      "\n",
      "                  IV1                  IV2   Corr\n",
      "group     (Intercept)       studying_hours -0.732\n",
      "group     (Intercept)                 week -0.976\n",
      "group     (Intercept)  studying_hours:week -0.045\n",
      "group  studying_hours                 week  0.604\n",
      "group  studying_hours  studying_hours:week -0.578\n",
      "group            week  studying_hours:week  0.252\n",
      "\n",
      "Fixed effects:\n",
      "\n",
      "             Estimate  2.5_ci  97.5_ci     SE      DF   T-stat  P-val  Sig\n",
      "(Intercept)     7.098    7.03    7.165  0.035  45.487  205.452    0.0  ***\n"
     ]
    }
   ],
   "source": [
    "model = Lmer(\"\"\"quiz_grade ~  (1 + studying_hours*week|group) \"\"\", data=df_scaled, family='gaussian')\n",
    "\n",
    "# Fit the models\n",
    "print(model.fit())"
   ]
  },
  {
   "attachments": {},
   "cell_type": "markdown",
   "id": "8e0b287e",
   "metadata": {},
   "source": [
    "quiz_grade ~  (1 + studying_hours*week|group)\n",
    "\n",
    "This will estimate: \n",
    "\n",
    "1. Global intercept\n",
    "2. For each level of group: \n",
    "    1. Deviation from global Intercept\n",
    "    2. Estimate of the effect of studying hours\n",
    "    3. Estimate of the effect of time\n",
    "    4. Estimate of the interaction between studying hours and time\n",
    "    ----\n",
    "    But also the the correlations between:\n",
    "    1. Intercept and studying hours\n",
    "    2. Intercept and time\n",
    "    3. Intercept and interaction\n",
    "    4. Studying hours and time\n",
    "    5. Studying hours and interaction\n",
    "    6. Time and interaction\n",
    "\n",
    "__________\n",
    "Another example:\n",
    "V1 ~ (1+V3*V4|V2) + V3*V4\n",
    "\n",
    "This will estimate:\n",
    "\n",
    "1. Global intercept\n",
    "2. Global estimate for effect of V3\n",
    "3. Global estimate for effect of V4\n",
    "4. Global estimate for the interaction between V3 and V4\n",
    "5. For each level of V2: \n",
    "    1. Deviation from global Intercept\n",
    "    2. Deviation from global estimate for effect of V3\n",
    "    3. Deviation from global estimate for effect of V4\n",
    "    4. Deviation from global estimate for the interaction between V3 and V4\n",
    "    ----\n",
    "    But also the the correlations between:\n",
    "    1. Intercept and deviation of V3\n",
    "    2. Intercept and deviation of V4\n",
    "    3. Intercept and deviation of interaction\n",
    "    4. deviation of V3 and deviation of V4\n",
    "    5. deviation of V3 and deviation of interaction\n",
    "    6. deviation of V4 and deviation of interaction"
   ]
  },
  {
   "cell_type": "code",
   "execution_count": 21,
   "id": "a1ec70e1",
   "metadata": {},
   "outputs": [
    {
     "data": {
      "text/html": [
       "<div>\n",
       "<style scoped>\n",
       "    .dataframe tbody tr th:only-of-type {\n",
       "        vertical-align: middle;\n",
       "    }\n",
       "\n",
       "    .dataframe tbody tr th {\n",
       "        vertical-align: top;\n",
       "    }\n",
       "\n",
       "    .dataframe thead th {\n",
       "        text-align: right;\n",
       "    }\n",
       "</style>\n",
       "<table border=\"1\" class=\"dataframe\">\n",
       "  <thead>\n",
       "    <tr style=\"text-align: right;\">\n",
       "      <th></th>\n",
       "      <th>IV1</th>\n",
       "      <th>IV2</th>\n",
       "      <th>Corr</th>\n",
       "    </tr>\n",
       "  </thead>\n",
       "  <tbody>\n",
       "    <tr>\n",
       "      <th>group</th>\n",
       "      <td>(Intercept)</td>\n",
       "      <td>studying_hours</td>\n",
       "      <td>-0.732043</td>\n",
       "    </tr>\n",
       "    <tr>\n",
       "      <th>group</th>\n",
       "      <td>(Intercept)</td>\n",
       "      <td>week</td>\n",
       "      <td>-0.976271</td>\n",
       "    </tr>\n",
       "    <tr>\n",
       "      <th>group</th>\n",
       "      <td>(Intercept)</td>\n",
       "      <td>studying_hours:week</td>\n",
       "      <td>-0.044672</td>\n",
       "    </tr>\n",
       "    <tr>\n",
       "      <th>group</th>\n",
       "      <td>studying_hours</td>\n",
       "      <td>week</td>\n",
       "      <td>0.604313</td>\n",
       "    </tr>\n",
       "    <tr>\n",
       "      <th>group</th>\n",
       "      <td>studying_hours</td>\n",
       "      <td>studying_hours:week</td>\n",
       "      <td>-0.578097</td>\n",
       "    </tr>\n",
       "    <tr>\n",
       "      <th>group</th>\n",
       "      <td>week</td>\n",
       "      <td>studying_hours:week</td>\n",
       "      <td>0.252175</td>\n",
       "    </tr>\n",
       "  </tbody>\n",
       "</table>\n",
       "</div>"
      ],
      "text/plain": [
       "                  IV1                  IV2      Corr\n",
       "group     (Intercept)       studying_hours -0.732043\n",
       "group     (Intercept)                 week -0.976271\n",
       "group     (Intercept)  studying_hours:week -0.044672\n",
       "group  studying_hours                 week  0.604313\n",
       "group  studying_hours  studying_hours:week -0.578097\n",
       "group            week  studying_hours:week  0.252175"
      ]
     },
     "execution_count": 21,
     "metadata": {},
     "output_type": "execute_result"
    }
   ],
   "source": [
    "# get correlations of model\n",
    "model.ranef_corr"
   ]
  },
  {
   "attachments": {},
   "cell_type": "markdown",
   "id": "87f08a84-5621-40a3-a70e-c69b062d6b58",
   "metadata": {},
   "source": [
    "### 4.2 Interpret the regression results.  "
   ]
  },
  {
   "cell_type": "code",
   "execution_count": 39,
   "id": "3e561b73-e292-4bb2-ad11-c3e01190a54f",
   "metadata": {},
   "outputs": [
    {
     "data": {
      "text/plain": [
       "<Response [200]>"
      ]
     },
     "execution_count": 39,
     "metadata": {},
     "output_type": "execute_result"
    }
   ],
   "source": [
    "answer = \"\"\"\n",
    "The variance of quiz grade by groups is estimated as 1.600 + 1.515 + 0.12 + 0.005 + 0.445 (from the residual) = 3.685\n",
    "The studying hours by groups explain a big part of the variance (41%) but the interaction between studying hours and weeks\n",
    "explains much less of the variance (0.1%).\n",
    "We also observe a high correlation between random effects (intercept and slope) within each group. \n",
    "Studying hours is negatively correlated (-0.73) with the intercept as well as weeks (-0.97). \n",
    "The interaction term is weakly correlated with the intercept. \n",
    "\n",
    "When analyzing the coefficients (with model.ranef)\n",
    "we observe that studying hours has a greater coefficient for group 1 (in comparison to the other groups)\n",
    "and the week has a greater coefficient for group 3 (in comparison to the other groups). \n",
    "\"\"\"\n",
    "\n",
    "send(answer, 42) "
   ]
  },
  {
   "cell_type": "code",
   "execution_count": 40,
   "id": "50642ce9-4d09-465d-8885-cf76a2720e93",
   "metadata": {},
   "outputs": [
    {
     "data": {
      "text/html": [
       "<div>\n",
       "<style scoped>\n",
       "    .dataframe tbody tr th:only-of-type {\n",
       "        vertical-align: middle;\n",
       "    }\n",
       "\n",
       "    .dataframe tbody tr th {\n",
       "        vertical-align: top;\n",
       "    }\n",
       "\n",
       "    .dataframe thead th {\n",
       "        text-align: right;\n",
       "    }\n",
       "</style>\n",
       "<table border=\"1\" class=\"dataframe\">\n",
       "  <thead>\n",
       "    <tr style=\"text-align: right;\">\n",
       "      <th></th>\n",
       "      <th>X.Intercept.</th>\n",
       "      <th>studying_hours</th>\n",
       "      <th>week</th>\n",
       "      <th>studying_hours.week</th>\n",
       "    </tr>\n",
       "  </thead>\n",
       "  <tbody>\n",
       "    <tr>\n",
       "      <th>1</th>\n",
       "      <td>-1.352402</td>\n",
       "      <td>2.053030</td>\n",
       "      <td>0.091559</td>\n",
       "      <td>-0.072844</td>\n",
       "    </tr>\n",
       "    <tr>\n",
       "      <th>2</th>\n",
       "      <td>-1.427752</td>\n",
       "      <td>0.598642</td>\n",
       "      <td>0.108035</td>\n",
       "      <td>-0.000913</td>\n",
       "    </tr>\n",
       "    <tr>\n",
       "      <th>3</th>\n",
       "      <td>-1.175201</td>\n",
       "      <td>0.065531</td>\n",
       "      <td>0.129008</td>\n",
       "      <td>0.096540</td>\n",
       "    </tr>\n",
       "  </tbody>\n",
       "</table>\n",
       "</div>"
      ],
      "text/plain": [
       "   X.Intercept.  studying_hours      week  studying_hours.week\n",
       "1     -1.352402        2.053030  0.091559            -0.072844\n",
       "2     -1.427752        0.598642  0.108035            -0.000913\n",
       "3     -1.175201        0.065531  0.129008             0.096540"
      ]
     },
     "execution_count": 40,
     "metadata": {},
     "output_type": "execute_result"
    }
   ],
   "source": [
    "model.ranef"
   ]
  }
 ],
 "metadata": {
  "kernelspec": {
   "display_name": "Python",
   "language": "python",
   "name": "python3"
  },
  "language_info": {
   "codemirror_mode": {
    "name": "ipython",
    "version": 3
   },
   "file_extension": ".py",
   "mimetype": "text/x-python",
   "name": "python",
   "nbconvert_exporter": "python",
   "pygments_lexer": "ipython3",
   "version": "3.10.10"
  },
  "vscode": {
   "interpreter": {
    "hash": "40d3a090f54c6569ab1632332b64b2c03c39dcf918b08424e98f38b5ae0af88f"
   }
  }
 },
 "nbformat": 4,
 "nbformat_minor": 5
}
