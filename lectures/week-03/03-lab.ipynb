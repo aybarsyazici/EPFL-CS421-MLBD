{
 "cells": [
  {
   "attachments": {},
   "cell_type": "markdown",
   "id": "bbbe04b0-b989-4b3e-95cd-a9d35bc4a5d9",
   "metadata": {},
   "source": [
    "# Lab 03 - Extended Exercises on Mixed Models"
   ]
  },
  {
   "attachments": {},
   "cell_type": "markdown",
   "id": "f914e7f2",
   "metadata": {},
   "source": [
    "We recommend using Noto for this lecture tutorial, where we've already installed the dependencies of the pymer4 package and statsmodels."
   ]
  },
  {
   "cell_type": "code",
   "execution_count": 9,
   "id": "9ab80eb4",
   "metadata": {},
   "outputs": [],
   "source": [
    "import pandas as pd\n",
    "import matplotlib.pyplot as plt\n",
    "import numpy as np\n",
    "import seaborn as sns\n",
    "\n",
    "# Import the linear regression model class\n",
    "from pymer4.models import Lm\n",
    "\n",
    "# Import the lmm model class\n",
    "from pymer4.models import Lmer\n",
    "\n",
    "# Import Gaussian modeling\n",
    "import statsmodels.formula.api as smf\n",
    "\n",
    "import scipy as sp\n",
    "from scipy import stats\n",
    "\n",
    "# Data directory\n",
    "DATA_DIR = \"./../../data/\""
   ]
  },
  {
   "cell_type": "code",
   "execution_count": 10,
   "id": "f7257661-07c7-4541-b3f2-e370dd89bbba",
   "metadata": {},
   "outputs": [],
   "source": [
    "# import requests\n",
    "\n",
    "# exec(requests.get(\"https://courdier.pythonanywhere.com/get-send-code\").content)\n",
    "\n",
    "# npt_config = {\n",
    "#     'session_name': 'lab-03',\n",
    "#     'session_owner': 'mlbd',\n",
    "#     'sender_name': input(\"Your name: \"),\n",
    "# }"
   ]
  },
  {
   "attachments": {},
   "cell_type": "markdown",
   "id": "6bf244ff-3f20-4cd7-a7dd-345a29b6ce1f",
   "metadata": {},
   "source": [
    "## Introduction\n",
    "The data has already been cleaned and it comes from 29 students in 3 different groups in a course of 26 weeks.\n",
    "\n",
    "In this lab you will explore different models to explain the quiz grade. "
   ]
  },
  {
   "cell_type": "code",
   "execution_count": 11,
   "id": "05546575-7285-44ad-86fd-e258d36caea2",
   "metadata": {},
   "outputs": [
    {
     "data": {
      "text/html": [
       "<div>\n",
       "<style scoped>\n",
       "    .dataframe tbody tr th:only-of-type {\n",
       "        vertical-align: middle;\n",
       "    }\n",
       "\n",
       "    .dataframe tbody tr th {\n",
       "        vertical-align: top;\n",
       "    }\n",
       "\n",
       "    .dataframe thead th {\n",
       "        text-align: right;\n",
       "    }\n",
       "</style>\n",
       "<table border=\"1\" class=\"dataframe\">\n",
       "  <thead>\n",
       "    <tr style=\"text-align: right;\">\n",
       "      <th></th>\n",
       "      <th>student</th>\n",
       "      <th>week</th>\n",
       "      <th>studying_hours</th>\n",
       "      <th>group</th>\n",
       "      <th>quiz_grade</th>\n",
       "    </tr>\n",
       "  </thead>\n",
       "  <tbody>\n",
       "    <tr>\n",
       "      <th>0</th>\n",
       "      <td>0</td>\n",
       "      <td>0</td>\n",
       "      <td>39.9</td>\n",
       "      <td>3</td>\n",
       "      <td>6.1</td>\n",
       "    </tr>\n",
       "    <tr>\n",
       "      <th>1</th>\n",
       "      <td>0</td>\n",
       "      <td>1</td>\n",
       "      <td>32.4</td>\n",
       "      <td>3</td>\n",
       "      <td>7.0</td>\n",
       "    </tr>\n",
       "    <tr>\n",
       "      <th>2</th>\n",
       "      <td>0</td>\n",
       "      <td>2</td>\n",
       "      <td>17.5</td>\n",
       "      <td>3</td>\n",
       "      <td>6.9</td>\n",
       "    </tr>\n",
       "    <tr>\n",
       "      <th>3</th>\n",
       "      <td>0</td>\n",
       "      <td>3</td>\n",
       "      <td>16.0</td>\n",
       "      <td>3</td>\n",
       "      <td>7.0</td>\n",
       "    </tr>\n",
       "    <tr>\n",
       "      <th>4</th>\n",
       "      <td>0</td>\n",
       "      <td>4</td>\n",
       "      <td>15.9</td>\n",
       "      <td>3</td>\n",
       "      <td>7.2</td>\n",
       "    </tr>\n",
       "  </tbody>\n",
       "</table>\n",
       "</div>"
      ],
      "text/plain": [
       "   student  week  studying_hours  group  quiz_grade\n",
       "0        0     0            39.9      3         6.1\n",
       "1        0     1            32.4      3         7.0\n",
       "2        0     2            17.5      3         6.9\n",
       "3        0     3            16.0      3         7.0\n",
       "4        0     4            15.9      3         7.2"
      ]
     },
     "execution_count": 11,
     "metadata": {},
     "output_type": "execute_result"
    }
   ],
   "source": [
    "# Load data\n",
    "df= pd.read_csv(f'{DATA_DIR}grades_in_time.csv.gz')\n",
    "#send(len(df),0)\n",
    "df.head()"
   ]
  },
  {
   "cell_type": "code",
   "execution_count": 12,
   "id": "f8e71b1b",
   "metadata": {},
   "outputs": [
    {
     "data": {
      "text/html": [
       "<div>\n",
       "<style scoped>\n",
       "    .dataframe tbody tr th:only-of-type {\n",
       "        vertical-align: middle;\n",
       "    }\n",
       "\n",
       "    .dataframe tbody tr th {\n",
       "        vertical-align: top;\n",
       "    }\n",
       "\n",
       "    .dataframe thead th {\n",
       "        text-align: right;\n",
       "    }\n",
       "</style>\n",
       "<table border=\"1\" class=\"dataframe\">\n",
       "  <thead>\n",
       "    <tr style=\"text-align: right;\">\n",
       "      <th></th>\n",
       "      <th>student</th>\n",
       "      <th>week</th>\n",
       "      <th>studying_hours</th>\n",
       "      <th>group</th>\n",
       "      <th>quiz_grade</th>\n",
       "    </tr>\n",
       "  </thead>\n",
       "  <tbody>\n",
       "  </tbody>\n",
       "</table>\n",
       "</div>"
      ],
      "text/plain": [
       "Empty DataFrame\n",
       "Columns: [student, week, studying_hours, group, quiz_grade]\n",
       "Index: []"
      ]
     },
     "execution_count": 12,
     "metadata": {},
     "output_type": "execute_result"
    }
   ],
   "source": [
    "df[df['studying_hours'] < 0]"
   ]
  },
  {
   "cell_type": "code",
   "execution_count": 13,
   "id": "1a0380fd-5578-46a7-bf68-e1aeac69b4e4",
   "metadata": {},
   "outputs": [
    {
     "data": {
      "text/html": [
       "<div>\n",
       "<style scoped>\n",
       "    .dataframe tbody tr th:only-of-type {\n",
       "        vertical-align: middle;\n",
       "    }\n",
       "\n",
       "    .dataframe tbody tr th {\n",
       "        vertical-align: top;\n",
       "    }\n",
       "\n",
       "    .dataframe thead th {\n",
       "        text-align: right;\n",
       "    }\n",
       "</style>\n",
       "<table border=\"1\" class=\"dataframe\">\n",
       "  <thead>\n",
       "    <tr style=\"text-align: right;\">\n",
       "      <th></th>\n",
       "      <th>student</th>\n",
       "      <th>week</th>\n",
       "      <th>studying_hours</th>\n",
       "      <th>group</th>\n",
       "      <th>quiz_grade</th>\n",
       "    </tr>\n",
       "  </thead>\n",
       "  <tbody>\n",
       "    <tr>\n",
       "      <th>count</th>\n",
       "      <td>810.000000</td>\n",
       "      <td>810.000000</td>\n",
       "      <td>810.000000</td>\n",
       "      <td>810.000000</td>\n",
       "      <td>810.000000</td>\n",
       "    </tr>\n",
       "    <tr>\n",
       "      <th>mean</th>\n",
       "      <td>14.500000</td>\n",
       "      <td>13.000000</td>\n",
       "      <td>10.050617</td>\n",
       "      <td>1.933333</td>\n",
       "      <td>6.931975</td>\n",
       "    </tr>\n",
       "    <tr>\n",
       "      <th>std</th>\n",
       "      <td>8.660789</td>\n",
       "      <td>7.793693</td>\n",
       "      <td>8.270041</td>\n",
       "      <td>0.772199</td>\n",
       "      <td>1.336888</td>\n",
       "    </tr>\n",
       "    <tr>\n",
       "      <th>min</th>\n",
       "      <td>0.000000</td>\n",
       "      <td>0.000000</td>\n",
       "      <td>1.000000</td>\n",
       "      <td>1.000000</td>\n",
       "      <td>1.200000</td>\n",
       "    </tr>\n",
       "    <tr>\n",
       "      <th>25%</th>\n",
       "      <td>7.000000</td>\n",
       "      <td>6.000000</td>\n",
       "      <td>5.700000</td>\n",
       "      <td>1.000000</td>\n",
       "      <td>6.400000</td>\n",
       "    </tr>\n",
       "    <tr>\n",
       "      <th>50%</th>\n",
       "      <td>14.500000</td>\n",
       "      <td>13.000000</td>\n",
       "      <td>7.800000</td>\n",
       "      <td>2.000000</td>\n",
       "      <td>7.200000</td>\n",
       "    </tr>\n",
       "    <tr>\n",
       "      <th>75%</th>\n",
       "      <td>22.000000</td>\n",
       "      <td>20.000000</td>\n",
       "      <td>11.100000</td>\n",
       "      <td>3.000000</td>\n",
       "      <td>7.800000</td>\n",
       "    </tr>\n",
       "    <tr>\n",
       "      <th>max</th>\n",
       "      <td>29.000000</td>\n",
       "      <td>26.000000</td>\n",
       "      <td>64.000000</td>\n",
       "      <td>3.000000</td>\n",
       "      <td>10.100000</td>\n",
       "    </tr>\n",
       "  </tbody>\n",
       "</table>\n",
       "</div>"
      ],
      "text/plain": [
       "          student        week  studying_hours       group  quiz_grade\n",
       "count  810.000000  810.000000      810.000000  810.000000  810.000000\n",
       "mean    14.500000   13.000000       10.050617    1.933333    6.931975\n",
       "std      8.660789    7.793693        8.270041    0.772199    1.336888\n",
       "min      0.000000    0.000000        1.000000    1.000000    1.200000\n",
       "25%      7.000000    6.000000        5.700000    1.000000    6.400000\n",
       "50%     14.500000   13.000000        7.800000    2.000000    7.200000\n",
       "75%     22.000000   20.000000       11.100000    3.000000    7.800000\n",
       "max     29.000000   26.000000       64.000000    3.000000   10.100000"
      ]
     },
     "execution_count": 13,
     "metadata": {},
     "output_type": "execute_result"
    }
   ],
   "source": [
    "df.describe(include='all')"
   ]
  },
  {
   "attachments": {},
   "cell_type": "markdown",
   "id": "480bc2c2-fbb0-4424-b1fd-ee1d6566f670",
   "metadata": {},
   "source": [
    "# Task 1: Linear Model\n",
    "----------\n",
    "### 1.1 Preprocess the data to run a regression model to explain the effect of studying hours on quiz grade.  "
   ]
  },
  {
   "cell_type": "code",
   "execution_count": 14,
   "id": "6dbff52f-d168-4907-b6b1-d812d95c5ef0",
   "metadata": {},
   "outputs": [
    {
     "data": {
      "text/html": [
       "<div>\n",
       "<style scoped>\n",
       "    .dataframe tbody tr th:only-of-type {\n",
       "        vertical-align: middle;\n",
       "    }\n",
       "\n",
       "    .dataframe tbody tr th {\n",
       "        vertical-align: top;\n",
       "    }\n",
       "\n",
       "    .dataframe thead th {\n",
       "        text-align: right;\n",
       "    }\n",
       "</style>\n",
       "<table border=\"1\" class=\"dataframe\">\n",
       "  <thead>\n",
       "    <tr style=\"text-align: right;\">\n",
       "      <th></th>\n",
       "      <th>student</th>\n",
       "      <th>week</th>\n",
       "      <th>studying_hours</th>\n",
       "      <th>group</th>\n",
       "      <th>quiz_grade</th>\n",
       "    </tr>\n",
       "  </thead>\n",
       "  <tbody>\n",
       "    <tr>\n",
       "      <th>0</th>\n",
       "      <td>0</td>\n",
       "      <td>0</td>\n",
       "      <td>3.611569</td>\n",
       "      <td>3</td>\n",
       "      <td>6.1</td>\n",
       "    </tr>\n",
       "    <tr>\n",
       "      <th>1</th>\n",
       "      <td>0</td>\n",
       "      <td>1</td>\n",
       "      <td>2.704121</td>\n",
       "      <td>3</td>\n",
       "      <td>7.0</td>\n",
       "    </tr>\n",
       "    <tr>\n",
       "      <th>2</th>\n",
       "      <td>0</td>\n",
       "      <td>2</td>\n",
       "      <td>0.901324</td>\n",
       "      <td>3</td>\n",
       "      <td>6.9</td>\n",
       "    </tr>\n",
       "    <tr>\n",
       "      <th>3</th>\n",
       "      <td>0</td>\n",
       "      <td>3</td>\n",
       "      <td>0.719834</td>\n",
       "      <td>3</td>\n",
       "      <td>7.0</td>\n",
       "    </tr>\n",
       "    <tr>\n",
       "      <th>4</th>\n",
       "      <td>0</td>\n",
       "      <td>4</td>\n",
       "      <td>0.707735</td>\n",
       "      <td>3</td>\n",
       "      <td>7.2</td>\n",
       "    </tr>\n",
       "  </tbody>\n",
       "</table>\n",
       "</div>"
      ],
      "text/plain": [
       "   student  week  studying_hours  group  quiz_grade\n",
       "0        0     0        3.611569      3         6.1\n",
       "1        0     1        2.704121      3         7.0\n",
       "2        0     2        0.901324      3         6.9\n",
       "3        0     3        0.719834      3         7.0\n",
       "4        0     4        0.707735      3         7.2"
      ]
     },
     "execution_count": 14,
     "metadata": {},
     "output_type": "execute_result"
    }
   ],
   "source": [
    "# Preprocess the dataframe df for linear regression analysis on studying hours effect on quiz grade\n",
    "from sklearn.preprocessing import StandardScaler\n",
    "columns_to_scale = ['studying_hours']\n",
    "X = df[columns_to_scale]\n",
    "scaler = StandardScaler()\n",
    "X = scaler.fit_transform(X)\n",
    "df[columns_to_scale] = X\n",
    "df.head()"
   ]
  },
  {
   "attachments": {},
   "cell_type": "markdown",
   "id": "8a8f3668-66ea-4983-82df-2f4fb60d0f0a",
   "metadata": {},
   "source": [
    "### 1.2 Explain your preprocessing steps"
   ]
  },
  {
   "cell_type": "code",
   "execution_count": 15,
   "id": "4034cdcf-139d-45ed-a3aa-32bc97abe211",
   "metadata": {},
   "outputs": [],
   "source": [
    "# answer = \"\"\"\n",
    "# Your answer here.\n",
    "# \"\"\"\n",
    "\n",
    "# send(answer, 12) "
   ]
  },
  {
   "attachments": {},
   "cell_type": "markdown",
   "id": "9e39ab3e-cd5f-4664-9914-6909ecf10ec7",
   "metadata": {},
   "source": [
    "### 1.3 Run a regression model to explain the effect of studying hours on quiz grade.  "
   ]
  },
  {
   "cell_type": "code",
   "execution_count": 16,
   "id": "aab51534-bc63-4ab8-92ca-e7cbc94fa540",
   "metadata": {},
   "outputs": [
    {
     "name": "stdout",
     "output_type": "stream",
     "text": [
      "gaussian\n",
      "Formula: quiz_grade~0+studying_hours\n",
      "\n",
      "Family: gaussian\t Estimator: OLS\n",
      "\n",
      "Std-errors: non-robust\tCIs: standard 95%\tInference: parametric \n",
      "\n",
      "Number of observations: 810\t R^2: 0.007\t R^2_adj: 0.006\n",
      "\n",
      "Log-likelihood: -2729.422 \t AIC: 5460.844\t BIC: 5465.541\n",
      "\n",
      "Fixed effects:\n",
      "\n",
      "                Estimate  2.5_ci  97.5_ci     SE   DF  T-stat  P-val Sig\n",
      "studying_hours     0.603   0.118    1.089  0.247  809   2.439  0.015   *\n"
     ]
    }
   ],
   "source": [
    "# Use LM to fit the model\n",
    "model = Lm(\"quiz_grade ~ 0 + studying_hours\", data=df)\n",
    "# What is the default family of the model?\n",
    "print(model.family)\n",
    "# Fit the models\n",
    "print(model.fit())"
   ]
  },
  {
   "attachments": {},
   "cell_type": "markdown",
   "id": "53acd2fb-c247-4a7c-8e6d-70d65c5c9ee7",
   "metadata": {},
   "source": [
    "### 1.4 What model family (poisson, logistic, etc) did you use and why? "
   ]
  },
  {
   "cell_type": "code",
   "execution_count": 17,
   "id": "1156961d-f607-4ab0-802c-994bfdb75d50",
   "metadata": {},
   "outputs": [
    {
     "ename": "NameError",
     "evalue": "name 'send' is not defined",
     "output_type": "error",
     "traceback": [
      "\u001b[0;31m---------------------------------------------------------------------------\u001b[0m",
      "\u001b[0;31mNameError\u001b[0m                                 Traceback (most recent call last)",
      "Cell \u001b[0;32mIn[17], line 5\u001b[0m\n\u001b[1;32m      1\u001b[0m answer \u001b[39m=\u001b[39m \u001b[39m\"\"\"\u001b[39m\n\u001b[1;32m      2\u001b[0m \u001b[39mYour answer here.\u001b[39m\n\u001b[1;32m      3\u001b[0m \u001b[39m\"\"\"\u001b[39m\n\u001b[0;32m----> 5\u001b[0m send(answer, \u001b[39m14\u001b[39m) \n",
      "\u001b[0;31mNameError\u001b[0m: name 'send' is not defined"
     ]
    }
   ],
   "source": [
    "answer = \"\"\"\n",
    "Your answer here.\n",
    "\"\"\"\n",
    "\n",
    "send(answer, 14) "
   ]
  },
  {
   "attachments": {},
   "cell_type": "markdown",
   "id": "86482662-863d-4b76-890d-232f8d1f5b4f",
   "metadata": {},
   "source": [
    "### 1.5 Interpret the regression results. \n",
    "Do the variables have a positive or negative effect? Is it significant?"
   ]
  },
  {
   "cell_type": "code",
   "execution_count": 18,
   "id": "ccf627ff-7b3b-4960-934b-ea116ebb3fa9",
   "metadata": {},
   "outputs": [
    {
     "data": {
      "image/png": "[encoded data removed]",
      "text/plain": [
       "<Figure size 640x480 with 1 Axes>"
      ]
     },
     "metadata": {},
     "output_type": "display_data"
    }
   ],
   "source": [
    "# import dataviz\n",
    "import seaborn as sns\n",
    "\n",
    "# plot model predicted values against true values\n",
    "sns.regplot(x=\"fits\", y=\"quiz_grade\", data=model.data, fit_reg=True)\n",
    "\n",
    "answer = \"\"\"\n",
    "Your answer here.\n",
    "\"\"\"\n",
    "\n"
   ]
  },
  {
   "attachments": {},
   "cell_type": "markdown",
   "id": "16dd936e-1f0e-446e-955f-4a3d01f93426",
   "metadata": {},
   "source": [
    "### 1.6 Is this an appropriate method? Explain why or why not."
   ]
  },
  {
   "cell_type": "code",
   "execution_count": 19,
   "id": "ef580634-10ae-42cb-a2bb-d40864d8f197",
   "metadata": {},
   "outputs": [],
   "source": [
    "answer = \"\"\"\n",
    "Your answer here.\n",
    "\"\"\"\n",
    "\n",
    "#send(answer, 16) "
   ]
  },
  {
   "cell_type": "code",
   "execution_count": 20,
   "id": "f096a4d6",
   "metadata": {},
   "outputs": [
    {
     "name": "stdout",
     "output_type": "stream",
     "text": [
      "Formula: quiz_grade~1+studying_hours\n",
      "\n",
      "Family: gaussian\t Estimator: OLS\n",
      "\n",
      "Std-errors: non-robust\tCIs: standard 95%\tInference: parametric \n",
      "\n",
      "Number of observations: 810\t R^2: 0.204\t R^2_adj: 0.203\n",
      "\n",
      "Log-likelihood: -1291.688 \t AIC: 2587.376\t BIC: 2596.770\n",
      "\n",
      "Fixed effects:\n",
      "\n"
     ]
    },
    {
     "data": {
      "text/html": [
       "<div>\n",
       "<style scoped>\n",
       "    .dataframe tbody tr th:only-of-type {\n",
       "        vertical-align: middle;\n",
       "    }\n",
       "\n",
       "    .dataframe tbody tr th {\n",
       "        vertical-align: top;\n",
       "    }\n",
       "\n",
       "    .dataframe thead th {\n",
       "        text-align: right;\n",
       "    }\n",
       "</style>\n",
       "<table border=\"1\" class=\"dataframe\">\n",
       "  <thead>\n",
       "    <tr style=\"text-align: right;\">\n",
       "      <th></th>\n",
       "      <th>Estimate</th>\n",
       "      <th>2.5_ci</th>\n",
       "      <th>97.5_ci</th>\n",
       "      <th>SE</th>\n",
       "      <th>DF</th>\n",
       "      <th>T-stat</th>\n",
       "      <th>P-val</th>\n",
       "      <th>Sig</th>\n",
       "    </tr>\n",
       "  </thead>\n",
       "  <tbody>\n",
       "    <tr>\n",
       "      <th>Intercept</th>\n",
       "      <td>6.932</td>\n",
       "      <td>6.850</td>\n",
       "      <td>7.014</td>\n",
       "      <td>0.042</td>\n",
       "      <td>808</td>\n",
       "      <td>165.288</td>\n",
       "      <td>0.0</td>\n",
       "      <td>***</td>\n",
       "    </tr>\n",
       "    <tr>\n",
       "      <th>studying_hours</th>\n",
       "      <td>0.603</td>\n",
       "      <td>0.521</td>\n",
       "      <td>0.686</td>\n",
       "      <td>0.042</td>\n",
       "      <td>808</td>\n",
       "      <td>14.384</td>\n",
       "      <td>0.0</td>\n",
       "      <td>***</td>\n",
       "    </tr>\n",
       "  </tbody>\n",
       "</table>\n",
       "</div>"
      ],
      "text/plain": [
       "                Estimate  2.5_ci  97.5_ci     SE   DF   T-stat  P-val  Sig\n",
       "Intercept          6.932   6.850    7.014  0.042  808  165.288    0.0  ***\n",
       "studying_hours     0.603   0.521    0.686  0.042  808   14.384    0.0  ***"
      ]
     },
     "execution_count": 20,
     "metadata": {},
     "output_type": "execute_result"
    }
   ],
   "source": [
    "# Now do we same but this time have an intercept as well\n",
    "model = Lm(\"quiz_grade ~ 1 + studying_hours\", data=df)\n",
    "model.fit()"
   ]
  },
  {
   "attachments": {},
   "cell_type": "markdown",
   "id": "17a0f101-c91c-42db-9a56-2852d9e52f0d",
   "metadata": {},
   "source": [
    "# Task 2: Linear Model with Fixed Effects\n",
    "----------\n",
    "### 2.1  Run a regression model to explain the effect of studying hours on quiz grade. Add fixed effects for group. "
   ]
  },
  {
   "cell_type": "code",
   "execution_count": 21,
   "id": "4d58cec3-b70c-43ae-867d-797962a49e5a",
   "metadata": {},
   "outputs": [],
   "source": [
    "# model_str = \"\"\"Write your model here \"\"\"\n",
    "# send(model_str, 21)\n",
    "# # Add the data and family\n",
    "# model = Lm(model_str, data=, family= )\n",
    "\n",
    "# # Fit the models\n",
    "# print(model.fit())"
   ]
  },
  {
   "attachments": {},
   "cell_type": "markdown",
   "id": "694b3801-e7e4-43f2-b2ad-6a408769dae3",
   "metadata": {},
   "source": [
    "### 2.2 Interpret the regression results. \n",
    "What changed? What does it mean to have group fixed effects? "
   ]
  },
  {
   "cell_type": "code",
   "execution_count": 30,
   "id": "20c2cc5d-7d52-4234-80b6-e83e68c20d5d",
   "metadata": {},
   "outputs": [
    {
     "ename": "NameError",
     "evalue": "name 'send' is not defined",
     "output_type": "error",
     "traceback": [
      "\u001b[0;31m---------------------------------------------------------------------------\u001b[0m",
      "\u001b[0;31mNameError\u001b[0m                                 Traceback (most recent call last)",
      "Cell \u001b[0;32mIn[30], line 5\u001b[0m\n\u001b[1;32m      1\u001b[0m answer \u001b[39m=\u001b[39m \u001b[39m\"\"\"\u001b[39m\n\u001b[1;32m      2\u001b[0m \u001b[39mYour answer here.\u001b[39m\n\u001b[1;32m      3\u001b[0m \u001b[39m\"\"\"\u001b[39m\n\u001b[0;32m----> 5\u001b[0m send(answer, \u001b[39m22\u001b[39m) \n",
      "\u001b[0;31mNameError\u001b[0m: name 'send' is not defined"
     ]
    }
   ],
   "source": [
    "answer = \"\"\"\n",
    "Your answer here.\n",
    "\"\"\"\n",
    "\n",
    "send(answer, 22) "
   ]
  },
  {
   "attachments": {},
   "cell_type": "markdown",
   "id": "abfcaffc-7c69-4a5e-84d4-137c1835aa99",
   "metadata": {},
   "source": [
    "# Task 3: Linear Model with Random Effects\n",
    "----------\n",
    "### 3.1  Run a regression model to explain the effect of studying hours on quiz grade. Add random intercept for group. "
   ]
  },
  {
   "cell_type": "code",
   "execution_count": 31,
   "id": "76ac434b-6e18-4d29-80a1-c18f91f42fd8",
   "metadata": {},
   "outputs": [
    {
     "name": "stdout",
     "output_type": "stream",
     "text": [
      "Linear mixed model fit by REML [’lmerMod’]\n",
      "Formula: quiz_grade~studying_hours+(1|group)\n",
      "\n",
      "Family: gaussian\t Inference: parametric\n",
      "\n",
      "Number of observations: 810\t Groups: {'group': 3.0}\n",
      "\n",
      "Log-likelihood: -1282.909 \t AIC: 2573.817\n",
      "\n",
      "Random effects:\n",
      "\n",
      "                 Name    Var    Std\n",
      "group     (Intercept)  0.084  0.289\n",
      "Residual               1.369  1.170\n",
      "\n",
      "No random effect correlations specified\n",
      "\n",
      "Fixed effects:\n",
      "\n",
      "                Estimate  2.5_ci  97.5_ci     SE       DF  T-stat  P-val  Sig\n",
      "(Intercept)        6.927   6.589    7.264  0.172    2.004  40.249  0.001  ***\n",
      "studying_hours     0.645   0.562    0.728  0.042  807.849  15.263  0.000  ***\n"
     ]
    },
    {
     "data": {
      "text/html": [
       "<div>\n",
       "<style scoped>\n",
       "    .dataframe tbody tr th:only-of-type {\n",
       "        vertical-align: middle;\n",
       "    }\n",
       "\n",
       "    .dataframe tbody tr th {\n",
       "        vertical-align: top;\n",
       "    }\n",
       "\n",
       "    .dataframe thead th {\n",
       "        text-align: right;\n",
       "    }\n",
       "</style>\n",
       "<table border=\"1\" class=\"dataframe\">\n",
       "  <thead>\n",
       "    <tr style=\"text-align: right;\">\n",
       "      <th></th>\n",
       "      <th>X.Intercept.</th>\n",
       "    </tr>\n",
       "  </thead>\n",
       "  <tbody>\n",
       "    <tr>\n",
       "      <th>1</th>\n",
       "      <td>-0.320457</td>\n",
       "    </tr>\n",
       "    <tr>\n",
       "      <th>2</th>\n",
       "      <td>0.200180</td>\n",
       "    </tr>\n",
       "    <tr>\n",
       "      <th>3</th>\n",
       "      <td>0.120278</td>\n",
       "    </tr>\n",
       "  </tbody>\n",
       "</table>\n",
       "</div>"
      ],
      "text/plain": [
       "   X.Intercept.\n",
       "1     -0.320457\n",
       "2      0.200180\n",
       "3      0.120278"
      ]
     },
     "execution_count": 31,
     "metadata": {},
     "output_type": "execute_result"
    }
   ],
   "source": [
    "# We again use LM to train a model but this time we add random intercept for group\n",
    "model = Lmer(\"quiz_grade ~ studying_hours + (1|group)\", data=df)\n",
    "\n",
    "# Fit the models\n",
    "print(model.fit())\n",
    "model.ranef"
   ]
  },
  {
   "cell_type": "code",
   "execution_count": 32,
   "id": "6b470f07",
   "metadata": {},
   "outputs": [
    {
     "data": {
      "text/html": [
       "<div>\n",
       "<style scoped>\n",
       "    .dataframe tbody tr th:only-of-type {\n",
       "        vertical-align: middle;\n",
       "    }\n",
       "\n",
       "    .dataframe tbody tr th {\n",
       "        vertical-align: top;\n",
       "    }\n",
       "\n",
       "    .dataframe thead th {\n",
       "        text-align: right;\n",
       "    }\n",
       "</style>\n",
       "<table border=\"1\" class=\"dataframe\">\n",
       "  <thead>\n",
       "    <tr style=\"text-align: right;\">\n",
       "      <th></th>\n",
       "      <th>Estimate</th>\n",
       "      <th>2.5_ci</th>\n",
       "      <th>97.5_ci</th>\n",
       "      <th>SE</th>\n",
       "      <th>DF</th>\n",
       "      <th>T-stat</th>\n",
       "      <th>P-val</th>\n",
       "      <th>Sig</th>\n",
       "    </tr>\n",
       "  </thead>\n",
       "  <tbody>\n",
       "    <tr>\n",
       "      <th>(Intercept)</th>\n",
       "      <td>6.926649</td>\n",
       "      <td>6.589351</td>\n",
       "      <td>7.263946</td>\n",
       "      <td>0.172094</td>\n",
       "      <td>2.004041</td>\n",
       "      <td>40.249269</td>\n",
       "      <td>6.091769e-04</td>\n",
       "      <td>***</td>\n",
       "    </tr>\n",
       "    <tr>\n",
       "      <th>studying_hours</th>\n",
       "      <td>0.644949</td>\n",
       "      <td>0.562128</td>\n",
       "      <td>0.727769</td>\n",
       "      <td>0.042256</td>\n",
       "      <td>807.849278</td>\n",
       "      <td>15.262826</td>\n",
       "      <td>2.109552e-46</td>\n",
       "      <td>***</td>\n",
       "    </tr>\n",
       "  </tbody>\n",
       "</table>\n",
       "</div>"
      ],
      "text/plain": [
       "                Estimate    2.5_ci   97.5_ci        SE          DF     T-stat  \\\n",
       "(Intercept)     6.926649  6.589351  7.263946  0.172094    2.004041  40.249269   \n",
       "studying_hours  0.644949  0.562128  0.727769  0.042256  807.849278  15.262826   \n",
       "\n",
       "                       P-val  Sig  \n",
       "(Intercept)     6.091769e-04  ***  \n",
       "studying_hours  2.109552e-46  ***  "
      ]
     },
     "execution_count": 32,
     "metadata": {},
     "output_type": "execute_result"
    }
   ],
   "source": [
    "model.coefs"
   ]
  },
  {
   "attachments": {},
   "cell_type": "markdown",
   "id": "7f465dbe-bd68-477e-8a15-8df2a20b287a",
   "metadata": {},
   "source": [
    "### 3.2 Plot the regression lines\n",
    "Hint: You may use model.plot"
   ]
  },
  {
   "cell_type": "code",
   "execution_count": 33,
   "id": "ead9960c-e591-47f0-916b-1d13dc73f5ff",
   "metadata": {},
   "outputs": [
    {
     "data": {
      "text/plain": [
       "<Axes: xlabel='studying_hours', ylabel='quiz_grade'>"
      ]
     },
     "execution_count": 33,
     "metadata": {},
     "output_type": "execute_result"
    },
    {
     "data": {
      "image/png": "[encoded data removed]",
      "text/plain": [
       "<Figure size 800x600 with 1 Axes>"
      ]
     },
     "metadata": {},
     "output_type": "display_data"
    }
   ],
   "source": [
    "# plot model predicted values against true values\n",
    "model.plot(\"studying_hours\", plot_ci=True)"
   ]
  },
  {
   "attachments": {},
   "cell_type": "markdown",
   "id": "6ace3d7c-b733-4427-8213-f21de6907290",
   "metadata": {},
   "source": [
    "### 3.3  Run a regression model to explain the effect of studying hours on quiz grade. Add slope for group. "
   ]
  },
  {
   "cell_type": "code",
   "execution_count": 34,
   "id": "c4885f07",
   "metadata": {},
   "outputs": [
    {
     "name": "stdout",
     "output_type": "stream",
     "text": [
      "Linear mixed model fit by REML [’lmerMod’]\n",
      "Formula: quiz_grade~1+(0+studying_hours|group)\n",
      "\n",
      "Family: gaussian\t Inference: parametric\n",
      "\n",
      "Number of observations: 810\t Groups: {'group': 3.0}\n",
      "\n",
      "Log-likelihood: -1230.242 \t AIC: 2466.484\n",
      "\n",
      "Random effects:\n",
      "\n",
      "                    Name    Var    Std\n",
      "group     studying_hours  0.362  0.602\n",
      "Residual                  1.198  1.094\n",
      "\n",
      "No random effect correlations specified\n",
      "\n",
      "Fixed effects:\n",
      "\n"
     ]
    },
    {
     "data": {
      "text/html": [
       "<div>\n",
       "<style scoped>\n",
       "    .dataframe tbody tr th:only-of-type {\n",
       "        vertical-align: middle;\n",
       "    }\n",
       "\n",
       "    .dataframe tbody tr th {\n",
       "        vertical-align: top;\n",
       "    }\n",
       "\n",
       "    .dataframe thead th {\n",
       "        text-align: right;\n",
       "    }\n",
       "</style>\n",
       "<table border=\"1\" class=\"dataframe\">\n",
       "  <thead>\n",
       "    <tr style=\"text-align: right;\">\n",
       "      <th></th>\n",
       "      <th>Estimate</th>\n",
       "      <th>2.5_ci</th>\n",
       "      <th>97.5_ci</th>\n",
       "      <th>SE</th>\n",
       "      <th>DF</th>\n",
       "      <th>T-stat</th>\n",
       "      <th>P-val</th>\n",
       "      <th>Sig</th>\n",
       "    </tr>\n",
       "  </thead>\n",
       "  <tbody>\n",
       "    <tr>\n",
       "      <th>(Intercept)</th>\n",
       "      <td>6.853</td>\n",
       "      <td>6.766</td>\n",
       "      <td>6.94</td>\n",
       "      <td>0.044</td>\n",
       "      <td>739.487</td>\n",
       "      <td>154.658</td>\n",
       "      <td>0.0</td>\n",
       "      <td>***</td>\n",
       "    </tr>\n",
       "  </tbody>\n",
       "</table>\n",
       "</div>"
      ],
      "text/plain": [
       "             Estimate  2.5_ci  97.5_ci     SE       DF   T-stat  P-val  Sig\n",
       "(Intercept)     6.853   6.766     6.94  0.044  739.487  154.658    0.0  ***"
      ]
     },
     "execution_count": 34,
     "metadata": {},
     "output_type": "execute_result"
    }
   ],
   "source": [
    "model = Lmer(\"\"\"quiz_grade ~ 1 + (0 + studying_hours|group)\"\"\", data=df, family='gaussian')\n",
    "\n",
    "model.fit()"
   ]
  },
  {
   "attachments": {},
   "cell_type": "markdown",
   "id": "e5a90d6a-27d2-477f-aee2-2496962523b6",
   "metadata": {},
   "source": [
    "### 3.4 Plot the regression lines\n",
    "Hint: You may use model.ranef"
   ]
  },
  {
   "cell_type": "code",
   "execution_count": 35,
   "id": "edda77a8-1961-4306-a0ef-26b734c6a22f",
   "metadata": {},
   "outputs": [
    {
     "data": {
      "text/html": [
       "<div>\n",
       "<style scoped>\n",
       "    .dataframe tbody tr th:only-of-type {\n",
       "        vertical-align: middle;\n",
       "    }\n",
       "\n",
       "    .dataframe tbody tr th {\n",
       "        vertical-align: top;\n",
       "    }\n",
       "\n",
       "    .dataframe thead th {\n",
       "        text-align: right;\n",
       "    }\n",
       "</style>\n",
       "<table border=\"1\" class=\"dataframe\">\n",
       "  <thead>\n",
       "    <tr style=\"text-align: right;\">\n",
       "      <th></th>\n",
       "      <th>student</th>\n",
       "      <th>week</th>\n",
       "      <th>studying_hours</th>\n",
       "      <th>group</th>\n",
       "      <th>quiz_grade</th>\n",
       "      <th>residuals</th>\n",
       "      <th>fits</th>\n",
       "    </tr>\n",
       "  </thead>\n",
       "  <tbody>\n",
       "    <tr>\n",
       "      <th>0</th>\n",
       "      <td>0</td>\n",
       "      <td>0</td>\n",
       "      <td>3.611569</td>\n",
       "      <td>3</td>\n",
       "      <td>6.1</td>\n",
       "      <td>-0.966341</td>\n",
       "      <td>7.066341</td>\n",
       "    </tr>\n",
       "    <tr>\n",
       "      <th>1</th>\n",
       "      <td>0</td>\n",
       "      <td>1</td>\n",
       "      <td>2.704121</td>\n",
       "      <td>3</td>\n",
       "      <td>7.0</td>\n",
       "      <td>-0.012762</td>\n",
       "      <td>7.012762</td>\n",
       "    </tr>\n",
       "    <tr>\n",
       "      <th>2</th>\n",
       "      <td>0</td>\n",
       "      <td>2</td>\n",
       "      <td>0.901324</td>\n",
       "      <td>3</td>\n",
       "      <td>6.9</td>\n",
       "      <td>-0.006318</td>\n",
       "      <td>6.906318</td>\n",
       "    </tr>\n",
       "    <tr>\n",
       "      <th>3</th>\n",
       "      <td>0</td>\n",
       "      <td>3</td>\n",
       "      <td>0.719834</td>\n",
       "      <td>3</td>\n",
       "      <td>7.0</td>\n",
       "      <td>0.104398</td>\n",
       "      <td>6.895602</td>\n",
       "    </tr>\n",
       "    <tr>\n",
       "      <th>4</th>\n",
       "      <td>0</td>\n",
       "      <td>4</td>\n",
       "      <td>0.707735</td>\n",
       "      <td>3</td>\n",
       "      <td>7.2</td>\n",
       "      <td>0.305112</td>\n",
       "      <td>6.894888</td>\n",
       "    </tr>\n",
       "  </tbody>\n",
       "</table>\n",
       "</div>"
      ],
      "text/plain": [
       "   student  week  studying_hours  group  quiz_grade  residuals      fits\n",
       "0        0     0        3.611569      3         6.1  -0.966341  7.066341\n",
       "1        0     1        2.704121      3         7.0  -0.012762  7.012762\n",
       "2        0     2        0.901324      3         6.9  -0.006318  6.906318\n",
       "3        0     3        0.719834      3         7.0   0.104398  6.895602\n",
       "4        0     4        0.707735      3         7.2   0.305112  6.894888"
      ]
     },
     "execution_count": 35,
     "metadata": {},
     "output_type": "execute_result"
    }
   ],
   "source": [
    "model.data.head()"
   ]
  },
  {
   "cell_type": "code",
   "execution_count": 36,
   "id": "a824b9c2",
   "metadata": {},
   "outputs": [
    {
     "data": {
      "text/html": [
       "<div>\n",
       "<style scoped>\n",
       "    .dataframe tbody tr th:only-of-type {\n",
       "        vertical-align: middle;\n",
       "    }\n",
       "\n",
       "    .dataframe tbody tr th {\n",
       "        vertical-align: top;\n",
       "    }\n",
       "\n",
       "    .dataframe thead th {\n",
       "        text-align: right;\n",
       "    }\n",
       "</style>\n",
       "<table border=\"1\" class=\"dataframe\">\n",
       "  <thead>\n",
       "    <tr style=\"text-align: right;\">\n",
       "      <th></th>\n",
       "      <th>studying_hours</th>\n",
       "    </tr>\n",
       "  </thead>\n",
       "  <tbody>\n",
       "    <tr>\n",
       "      <th>1</th>\n",
       "      <td>1.021431</td>\n",
       "    </tr>\n",
       "    <tr>\n",
       "      <th>2</th>\n",
       "      <td>-0.010058</td>\n",
       "    </tr>\n",
       "    <tr>\n",
       "      <th>3</th>\n",
       "      <td>0.059044</td>\n",
       "    </tr>\n",
       "  </tbody>\n",
       "</table>\n",
       "</div>"
      ],
      "text/plain": [
       "   studying_hours\n",
       "1        1.021431\n",
       "2       -0.010058\n",
       "3        0.059044"
      ]
     },
     "execution_count": 36,
     "metadata": {},
     "output_type": "execute_result"
    }
   ],
   "source": [
    "# Plot the regression lines for each group\n",
    "# Get the intercept and slope for each group\n",
    "intercept = model.coefs.Estimate['(Intercept)']\n",
    "# Get the slope for each group\n",
    "model.ranef"
   ]
  },
  {
   "cell_type": "code",
   "execution_count": 37,
   "id": "1e14caf3",
   "metadata": {},
   "outputs": [
    {
     "data": {
      "image/png": "[encoded data removed]",
      "text/plain": [
       "<Figure size 640x480 with 1 Axes>"
      ]
     },
     "metadata": {},
     "output_type": "display_data"
    }
   ],
   "source": [
    "# Plot the regression lines for each group\n",
    "for i, row in model.ranef.iterrows():\n",
    "    slope = row['studying_hours']\n",
    "    sns.lineplot(x=df['studying_hours'], y=intercept + slope * df['studying_hours'], label=f\"Group {i}\")"
   ]
  },
  {
   "attachments": {},
   "cell_type": "markdown",
   "id": "d7975173-1541-4646-a195-193b12d47d7a",
   "metadata": {},
   "source": [
    "### 3.5  Run a regression model to explain the effect of studying hours on quiz grade. Add random intercept and slope for group. "
   ]
  },
  {
   "cell_type": "code",
   "execution_count": 38,
   "id": "a579cdb0-6515-41ba-aa06-fae28faf5990",
   "metadata": {},
   "outputs": [
    {
     "name": "stdout",
     "output_type": "stream",
     "text": [
      "boundary (singular) fit: see help('isSingular') \n",
      "\n",
      "Linear mixed model fit by REML [’lmerMod’]\n",
      "Formula: quiz_grade~(1+studying_hours|group)\n",
      "\n",
      "Family: gaussian\t Inference: parametric\n",
      "\n",
      "Number of observations: 810\t Groups: {'group': 3.0}\n",
      "\n",
      "Log-likelihood: -1205.548 \t AIC: 2421.096\n",
      "\n",
      "Random effects:\n",
      "\n",
      "                    Name    Var    Std\n",
      "group        (Intercept)  0.165  0.406\n",
      "group     studying_hours  0.410  0.640\n",
      "Residual                  1.124  1.060\n",
      "\n",
      "               IV1             IV2  Corr\n",
      "group  (Intercept)  studying_hours  -1.0\n",
      "\n",
      "Fixed effects:\n",
      "\n",
      "             Estimate  2.5_ci  97.5_ci    SE       DF   T-stat  P-val  Sig\n",
      "(Intercept)      7.18   7.082    7.278  0.05  359.077  143.976    0.0  ***\n"
     ]
    }
   ],
   "source": [
    "model = Lmer(\"\"\"quiz_grade ~ (1 + studying_hours|group) \"\"\", data=df, family='gaussian')\n",
    "\n",
    "# Fit the models\n",
    "print(model.fit())"
   ]
  },
  {
   "attachments": {},
   "cell_type": "markdown",
   "id": "bec50086-6099-4511-a55c-c7eb24e803ca",
   "metadata": {},
   "source": [
    "### 3.6 Plot the regression lines"
   ]
  },
  {
   "cell_type": "code",
   "execution_count": 39,
   "id": "275a3948-1f83-4508-9e39-a10063184d3c",
   "metadata": {},
   "outputs": [
    {
     "data": {
      "image/png": "[encoded data removed]",
      "text/plain": [
       "<Figure size 640x480 with 1 Axes>"
      ]
     },
     "metadata": {},
     "output_type": "display_data"
    }
   ],
   "source": [
    "# Get fixed effect intercept\n",
    "intercept = model.coefs.Estimate['(Intercept)']\n",
    "for i, row in model.ranef.iterrows():\n",
    "    slope = row['studying_hours']\n",
    "    intercept_for_group = row['X.Intercept.'] + intercept\n",
    "    sns.lineplot(x=df['studying_hours'], y=intercept_for_group + slope * df['studying_hours'], label=f\"Group {i}\")\n"
   ]
  },
  {
   "attachments": {},
   "cell_type": "markdown",
   "id": "5f3714d0-feb1-44f5-b401-d2b19b131174",
   "metadata": {},
   "source": [
    "### 3.7 Interpret the regression results. \n",
    "What changed? What does it mean to have group random effects? "
   ]
  },
  {
   "cell_type": "code",
   "execution_count": 40,
   "id": "14f080cf-c214-42ba-8373-5ad0cdb19d23",
   "metadata": {},
   "outputs": [],
   "source": [
    "answer = \"\"\"\n",
    "Effects are fixed if they are interesting in themselves\n",
    "or random if there is interest in the underlying population.\n",
    "With intercept random effects, we assumed that every group has a different starting \n",
    "point (y-intercept) and with slope random effects we assume that every group has a different rate.  \n",
    "\"\"\""
   ]
  },
  {
   "attachments": {},
   "cell_type": "markdown",
   "id": "514ca48e-654a-4b2e-983b-d1a836e506dc",
   "metadata": {},
   "source": [
    "# Task 4: Mixed Model with Time Interaction \n",
    "----------\n",
    "### 4.1  Lastly, run a regression model to explain the effect of studying hours on quiz grade. Add random intercept and slope for groups AND interaction between the number of stuyding hours and time (weeks). \n"
   ]
  },
  {
   "cell_type": "code",
   "execution_count": 41,
   "id": "5dd977e7-a57e-4a28-8c1b-4c4807318288",
   "metadata": {},
   "outputs": [
    {
     "name": "stdout",
     "output_type": "stream",
     "text": [
      "boundary (singular) fit: see help('isSingular') \n",
      "\n",
      "Linear mixed model fit by REML [’lmerMod’]\n",
      "Formula: quiz_grade~(1+studying_hours*week|group)\n",
      "\n",
      "Family: gaussian\t Inference: parametric\n",
      "\n",
      "Number of observations: 810\t Groups: {'group': 3.0}\n",
      "\n",
      "Log-likelihood: -845.316 \t AIC: 1714.632\n",
      "\n",
      "Random effects:\n",
      "\n",
      "                         Name    Var    Std\n",
      "group             (Intercept)  1.529  1.237\n",
      "group          studying_hours  1.510  1.229\n",
      "group                    week  0.011  0.107\n",
      "group     studying_hours:week  0.005  0.071\n",
      "Residual                       0.447  0.668\n",
      "\n",
      "                  IV1                  IV2   Corr\n",
      "group     (Intercept)       studying_hours -0.732\n",
      "group     (Intercept)                 week -0.976\n",
      "group     (Intercept)  studying_hours:week -0.045\n",
      "group  studying_hours                 week  0.604\n",
      "group  studying_hours  studying_hours:week -0.578\n",
      "group            week  studying_hours:week  0.252\n",
      "\n",
      "Fixed effects:\n",
      "\n",
      "             Estimate  2.5_ci  97.5_ci     SE      DF   T-stat  P-val  Sig\n",
      "(Intercept)     7.098    7.03    7.165  0.035  45.487  205.452    0.0  ***\n"
     ]
    }
   ],
   "source": [
    "model = Lmer(\"\"\"quiz_grade ~  (1 + studying_hours*week|group) \"\"\", data=df, family='gaussian')\n",
    "\n",
    "# Fit the models\n",
    "print(model.fit())"
   ]
  },
  {
   "attachments": {},
   "cell_type": "markdown",
   "id": "87f08a84-5621-40a3-a70e-c69b062d6b58",
   "metadata": {},
   "source": [
    "### 4.2 Interpret the regression results.  "
   ]
  },
  {
   "cell_type": "code",
   "execution_count": 42,
   "id": "3e561b73-e292-4bb2-ad11-c3e01190a54f",
   "metadata": {},
   "outputs": [
    {
     "ename": "NameError",
     "evalue": "name 'send' is not defined",
     "output_type": "error",
     "traceback": [
      "\u001b[0;31m---------------------------------------------------------------------------\u001b[0m",
      "\u001b[0;31mNameError\u001b[0m                                 Traceback (most recent call last)",
      "Cell \u001b[0;32mIn[42], line 5\u001b[0m\n\u001b[1;32m      1\u001b[0m answer \u001b[39m=\u001b[39m \u001b[39m\"\"\"\u001b[39m\n\u001b[1;32m      2\u001b[0m \u001b[39mYour answer here.\u001b[39m\n\u001b[1;32m      3\u001b[0m \u001b[39m\"\"\"\u001b[39m\n\u001b[0;32m----> 5\u001b[0m send(answer, \u001b[39m42\u001b[39m) \n",
      "\u001b[0;31mNameError\u001b[0m: name 'send' is not defined"
     ]
    }
   ],
   "source": [
    "answer = \"\"\"\n",
    "Your answer here.\n",
    "\"\"\"\n",
    "\n",
    "send(answer, 42) "
   ]
  },
  {
   "attachments": {},
   "cell_type": "markdown",
   "id": "62985294",
   "metadata": {},
   "source": [
    "### Time series prediction, use data from week 1 to 5 to predict quiz grade in week 6."
   ]
  },
  {
   "cell_type": "code",
   "execution_count": 43,
   "id": "9407f9fe",
   "metadata": {},
   "outputs": [],
   "source": [
    "# split the data into test and train, make sure no student is in both\n",
    "from sklearn.model_selection import train_test_split\n",
    "students = df['student'].unique()\n",
    "train_students, test_students = train_test_split(students, test_size=0.2, random_state=42)\n",
    "train_df = df[df['student'].isin(train_students)]\n",
    "test_df = df[df['student'].isin(test_students)]"
   ]
  },
  {
   "cell_type": "code",
   "execution_count": 44,
   "id": "50f76384",
   "metadata": {},
   "outputs": [
    {
     "data": {
      "text/plain": [
       "Index(['student', 'week', 'studying_hours', 'group', 'quiz_grade'], dtype='object')"
      ]
     },
     "execution_count": 44,
     "metadata": {},
     "output_type": "execute_result"
    }
   ],
   "source": [
    "test_df.columns"
   ]
  },
  {
   "cell_type": "code",
   "execution_count": 45,
   "id": "ed2e38dd",
   "metadata": {},
   "outputs": [
    {
     "data": {
      "text/plain": [
       "Index(['student', 'week', 'studying_hours', 'group', 'quiz_grade'], dtype='object')"
      ]
     },
     "execution_count": 45,
     "metadata": {},
     "output_type": "execute_result"
    }
   ],
   "source": [
    "train_df.columns"
   ]
  },
  {
   "cell_type": "code",
   "execution_count": 46,
   "id": "19ed5284",
   "metadata": {},
   "outputs": [
    {
     "name": "stdout",
     "output_type": "stream",
     "text": [
      "set()\n"
     ]
    },
    {
     "data": {
      "text/plain": [
       "set()"
      ]
     },
     "execution_count": 46,
     "metadata": {},
     "output_type": "execute_result"
    }
   ],
   "source": [
    "# is there any week in the train set that is not in the test set?\n",
    "print(set(train_df['week']) - set(test_df['week']))\n",
    "# and the other way?\n",
    "set(test_df['week']) - set(train_df['week'])"
   ]
  },
  {
   "cell_type": "code",
   "execution_count": 47,
   "id": "761ed362",
   "metadata": {},
   "outputs": [
    {
     "name": "stdout",
     "output_type": "stream",
     "text": [
      "set()\n",
      "set()\n"
     ]
    }
   ],
   "source": [
    "# same for groups\n",
    "train_groups = train_df['group'].unique()\n",
    "test_groups = test_df['group'].unique()\n",
    "print(set(train_groups) - set(test_groups))\n",
    "print(set(test_groups) - set(train_groups))"
   ]
  },
  {
   "cell_type": "code",
   "execution_count": 48,
   "id": "09abdd9c",
   "metadata": {},
   "outputs": [
    {
     "name": "stdout",
     "output_type": "stream",
     "text": [
      "unable to evaluate scaled gradient \n",
      "\n",
      "Model failed to converge: degenerate  Hessian with 1 negative eigenvalues \n",
      "\n",
      "Linear mixed model fit by REML [’lmerMod’]\n",
      "Formula: quiz_grade~(1+studying_hours|group/week)\n",
      "\n",
      "Family: gaussian\t Inference: parametric\n",
      "\n",
      "Number of observations: 648\t Groups: {'week:group': 81.0, 'group': 3.0}\n",
      "\n",
      "Log-likelihood: -637.662 \t AIC: 1291.323\n",
      "\n",
      "Random effects:\n",
      "\n",
      "                      Name    Var    Std\n",
      "week:group     (Intercept)  1.033  1.016\n",
      "week:group  studying_hours  0.022  0.148\n",
      "group          (Intercept)  0.000  0.002\n",
      "group       studying_hours  0.221  0.470\n",
      "Residual                    0.264  0.514\n",
      "\n",
      "                    IV1             IV2   Corr\n",
      "week:group  (Intercept)  studying_hours -0.840\n",
      "group       (Intercept)  studying_hours  0.639\n",
      "\n",
      "Fixed effects:\n",
      "\n"
     ]
    },
    {
     "data": {
      "text/html": [
       "<div>\n",
       "<style scoped>\n",
       "    .dataframe tbody tr th:only-of-type {\n",
       "        vertical-align: middle;\n",
       "    }\n",
       "\n",
       "    .dataframe tbody tr th {\n",
       "        vertical-align: top;\n",
       "    }\n",
       "\n",
       "    .dataframe thead th {\n",
       "        text-align: right;\n",
       "    }\n",
       "</style>\n",
       "<table border=\"1\" class=\"dataframe\">\n",
       "  <thead>\n",
       "    <tr style=\"text-align: right;\">\n",
       "      <th></th>\n",
       "      <th>Estimate</th>\n",
       "      <th>2.5_ci</th>\n",
       "      <th>97.5_ci</th>\n",
       "      <th>SE</th>\n",
       "      <th>DF</th>\n",
       "      <th>T-stat</th>\n",
       "      <th>P-val</th>\n",
       "      <th>Sig</th>\n",
       "    </tr>\n",
       "  </thead>\n",
       "  <tbody>\n",
       "    <tr>\n",
       "      <th>(Intercept)</th>\n",
       "      <td>6.984</td>\n",
       "      <td>6.757</td>\n",
       "      <td>7.211</td>\n",
       "      <td>0.116</td>\n",
       "      <td>67.072</td>\n",
       "      <td>60.397</td>\n",
       "      <td>0.0</td>\n",
       "      <td>***</td>\n",
       "    </tr>\n",
       "  </tbody>\n",
       "</table>\n",
       "</div>"
      ],
      "text/plain": [
       "             Estimate  2.5_ci  97.5_ci     SE      DF  T-stat  P-val  Sig\n",
       "(Intercept)     6.984   6.757    7.211  0.116  67.072  60.397    0.0  ***"
      ]
     },
     "execution_count": 48,
     "metadata": {},
     "output_type": "execute_result"
    }
   ],
   "source": [
    "#https://stats.stackexchange.com/questions/228800/crossed-vs-nested-random-effects-how-do-they-differ-and-how-are-they-specified\n",
    "\n",
    "# Fit the model\n",
    "model = Lmer(\"\"\"quiz_grade ~  (1 + studying_hours|group/week)\"\"\", data=train_df, family='gaussian')\n",
    "\n",
    "model.fit()"
   ]
  },
  {
   "cell_type": "code",
   "execution_count": 49,
   "id": "315fee45",
   "metadata": {},
   "outputs": [
    {
     "data": {
      "text/plain": [
       "[      X.Intercept.  studying_hours\n",
       " 0:1      -3.677916        0.472989\n",
       " 0:2      -2.773193        0.342595\n",
       " 0:3      -3.598368        0.368292\n",
       " 1:1      -2.406989        0.314168\n",
       " 1:2      -1.719151        0.208911\n",
       " ...            ...             ...\n",
       " 25:2      1.052767       -0.137809\n",
       " 25:3     -0.263527        0.040070\n",
       " 26:1     -0.564400        0.105979\n",
       " 26:2      1.069648       -0.126750\n",
       " 26:3     -0.336571        0.055330\n",
       " \n",
       " [81 rows x 2 columns],\n",
       "    X.Intercept.  studying_hours\n",
       " 1      0.001206        0.474394\n",
       " 2      0.001556        0.605604\n",
       " 3      0.000555        0.216223]"
      ]
     },
     "execution_count": 49,
     "metadata": {},
     "output_type": "execute_result"
    }
   ],
   "source": [
    "model.ranef"
   ]
  },
  {
   "cell_type": "code",
   "execution_count": 50,
   "id": "81592342",
   "metadata": {},
   "outputs": [
    {
     "data": {
      "text/html": [
       "<div>\n",
       "<style scoped>\n",
       "    .dataframe tbody tr th:only-of-type {\n",
       "        vertical-align: middle;\n",
       "    }\n",
       "\n",
       "    .dataframe tbody tr th {\n",
       "        vertical-align: top;\n",
       "    }\n",
       "\n",
       "    .dataframe thead th {\n",
       "        text-align: right;\n",
       "    }\n",
       "</style>\n",
       "<table border=\"1\" class=\"dataframe\">\n",
       "  <thead>\n",
       "    <tr style=\"text-align: right;\">\n",
       "      <th></th>\n",
       "      <th>student</th>\n",
       "      <th>week</th>\n",
       "      <th>studying_hours</th>\n",
       "      <th>group</th>\n",
       "      <th>quiz_grade</th>\n",
       "    </tr>\n",
       "  </thead>\n",
       "  <tbody>\n",
       "    <tr>\n",
       "      <th>216</th>\n",
       "      <td>8</td>\n",
       "      <td>0</td>\n",
       "      <td>2.776717</td>\n",
       "      <td>3</td>\n",
       "      <td>5.9</td>\n",
       "    </tr>\n",
       "    <tr>\n",
       "      <th>217</th>\n",
       "      <td>8</td>\n",
       "      <td>1</td>\n",
       "      <td>1.191707</td>\n",
       "      <td>3</td>\n",
       "      <td>6.4</td>\n",
       "    </tr>\n",
       "    <tr>\n",
       "      <th>218</th>\n",
       "      <td>8</td>\n",
       "      <td>2</td>\n",
       "      <td>1.046516</td>\n",
       "      <td>3</td>\n",
       "      <td>6.8</td>\n",
       "    </tr>\n",
       "    <tr>\n",
       "      <th>219</th>\n",
       "      <td>8</td>\n",
       "      <td>3</td>\n",
       "      <td>0.901324</td>\n",
       "      <td>3</td>\n",
       "      <td>7.2</td>\n",
       "    </tr>\n",
       "    <tr>\n",
       "      <th>220</th>\n",
       "      <td>8</td>\n",
       "      <td>4</td>\n",
       "      <td>0.852927</td>\n",
       "      <td>3</td>\n",
       "      <td>7.5</td>\n",
       "    </tr>\n",
       "    <tr>\n",
       "      <th>...</th>\n",
       "      <td>...</td>\n",
       "      <td>...</td>\n",
       "      <td>...</td>\n",
       "      <td>...</td>\n",
       "      <td>...</td>\n",
       "    </tr>\n",
       "    <tr>\n",
       "      <th>751</th>\n",
       "      <td>27</td>\n",
       "      <td>22</td>\n",
       "      <td>1.796673</td>\n",
       "      <td>1</td>\n",
       "      <td>9.2</td>\n",
       "    </tr>\n",
       "    <tr>\n",
       "      <th>752</th>\n",
       "      <td>27</td>\n",
       "      <td>23</td>\n",
       "      <td>1.990262</td>\n",
       "      <td>1</td>\n",
       "      <td>9.3</td>\n",
       "    </tr>\n",
       "    <tr>\n",
       "      <th>753</th>\n",
       "      <td>27</td>\n",
       "      <td>24</td>\n",
       "      <td>2.195950</td>\n",
       "      <td>1</td>\n",
       "      <td>9.3</td>\n",
       "    </tr>\n",
       "    <tr>\n",
       "      <th>754</th>\n",
       "      <td>27</td>\n",
       "      <td>25</td>\n",
       "      <td>2.486333</td>\n",
       "      <td>1</td>\n",
       "      <td>9.4</td>\n",
       "    </tr>\n",
       "    <tr>\n",
       "      <th>755</th>\n",
       "      <td>27</td>\n",
       "      <td>26</td>\n",
       "      <td>-1.095062</td>\n",
       "      <td>1</td>\n",
       "      <td>6.0</td>\n",
       "    </tr>\n",
       "  </tbody>\n",
       "</table>\n",
       "<p>162 rows × 5 columns</p>\n",
       "</div>"
      ],
      "text/plain": [
       "     student  week  studying_hours  group  quiz_grade\n",
       "216        8     0        2.776717      3         5.9\n",
       "217        8     1        1.191707      3         6.4\n",
       "218        8     2        1.046516      3         6.8\n",
       "219        8     3        0.901324      3         7.2\n",
       "220        8     4        0.852927      3         7.5\n",
       "..       ...   ...             ...    ...         ...\n",
       "751       27    22        1.796673      1         9.2\n",
       "752       27    23        1.990262      1         9.3\n",
       "753       27    24        2.195950      1         9.3\n",
       "754       27    25        2.486333      1         9.4\n",
       "755       27    26       -1.095062      1         6.0\n",
       "\n",
       "[162 rows x 5 columns]"
      ]
     },
     "execution_count": 50,
     "metadata": {},
     "output_type": "execute_result"
    }
   ],
   "source": [
    "test_df"
   ]
  },
  {
   "cell_type": "code",
   "execution_count": 51,
   "id": "c8968230",
   "metadata": {},
   "outputs": [
    {
     "name": "stderr",
     "output_type": "stream",
     "text": [
      "/var/folders/75/94jyvgc92_gcwmzgrg36xfd00000gn/T/ipykernel_39414/4215418058.py:2: SettingWithCopyWarning: \n",
      "A value is trying to be set on a copy of a slice from a DataFrame.\n",
      "Try using .loc[row_indexer,col_indexer] = value instead\n",
      "\n",
      "See the caveats in the documentation: https://pandas.pydata.org/pandas-docs/stable/user_guide/indexing.html#returning-a-view-versus-a-copy\n",
      "  test_df['predicted_grade'] = model.predict(test_df, verify_predictions=False, skip_data_checks=True)\n"
     ]
    },
    {
     "data": {
      "text/plain": [
       "<Axes: xlabel='predicted_grade', ylabel='quiz_grade'>"
      ]
     },
     "execution_count": 51,
     "metadata": {},
     "output_type": "execute_result"
    },
    {
     "data": {
      "image/png": "[encoded data removed]",
      "text/plain": [
       "<Figure size 640x480 with 1 Axes>"
      ]
     },
     "metadata": {},
     "output_type": "display_data"
    }
   ],
   "source": [
    "# Get the predicted values for week 6\n",
    "test_df['predicted_grade'] = model.predict(test_df, verify_predictions=False, skip_data_checks=True)\n",
    "\n",
    "# Plot the predicted values against the true values\n",
    "sns.regplot(x=\"predicted_grade\", y=\"quiz_grade\", data=test_df, fit_reg=True)"
   ]
  },
  {
   "cell_type": "code",
   "execution_count": 52,
   "id": "b8b236dc",
   "metadata": {},
   "outputs": [
    {
     "data": {
      "text/html": [
       "<div>\n",
       "<style scoped>\n",
       "    .dataframe tbody tr th:only-of-type {\n",
       "        vertical-align: middle;\n",
       "    }\n",
       "\n",
       "    .dataframe tbody tr th {\n",
       "        vertical-align: top;\n",
       "    }\n",
       "\n",
       "    .dataframe thead th {\n",
       "        text-align: right;\n",
       "    }\n",
       "</style>\n",
       "<table border=\"1\" class=\"dataframe\">\n",
       "  <thead>\n",
       "    <tr style=\"text-align: right;\">\n",
       "      <th></th>\n",
       "      <th>student</th>\n",
       "      <th>week</th>\n",
       "      <th>studying_hours</th>\n",
       "      <th>group</th>\n",
       "      <th>quiz_grade</th>\n",
       "      <th>predicted_grade</th>\n",
       "    </tr>\n",
       "  </thead>\n",
       "  <tbody>\n",
       "    <tr>\n",
       "      <th>216</th>\n",
       "      <td>8</td>\n",
       "      <td>0</td>\n",
       "      <td>2.776717</td>\n",
       "      <td>3</td>\n",
       "      <td>5.9</td>\n",
       "      <td>5.009169</td>\n",
       "    </tr>\n",
       "    <tr>\n",
       "      <th>217</th>\n",
       "      <td>8</td>\n",
       "      <td>1</td>\n",
       "      <td>1.191707</td>\n",
       "      <td>3</td>\n",
       "      <td>6.4</td>\n",
       "      <td>6.253563</td>\n",
       "    </tr>\n",
       "    <tr>\n",
       "      <th>218</th>\n",
       "      <td>8</td>\n",
       "      <td>2</td>\n",
       "      <td>1.046516</td>\n",
       "      <td>3</td>\n",
       "      <td>6.8</td>\n",
       "      <td>6.724140</td>\n",
       "    </tr>\n",
       "    <tr>\n",
       "      <th>219</th>\n",
       "      <td>8</td>\n",
       "      <td>3</td>\n",
       "      <td>0.901324</td>\n",
       "      <td>3</td>\n",
       "      <td>7.2</td>\n",
       "      <td>6.958203</td>\n",
       "    </tr>\n",
       "    <tr>\n",
       "      <th>220</th>\n",
       "      <td>8</td>\n",
       "      <td>4</td>\n",
       "      <td>0.852927</td>\n",
       "      <td>3</td>\n",
       "      <td>7.5</td>\n",
       "      <td>7.059246</td>\n",
       "    </tr>\n",
       "    <tr>\n",
       "      <th>...</th>\n",
       "      <td>...</td>\n",
       "      <td>...</td>\n",
       "      <td>...</td>\n",
       "      <td>...</td>\n",
       "      <td>...</td>\n",
       "      <td>...</td>\n",
       "    </tr>\n",
       "    <tr>\n",
       "      <th>751</th>\n",
       "      <td>27</td>\n",
       "      <td>22</td>\n",
       "      <td>1.796673</td>\n",
       "      <td>1</td>\n",
       "      <td>9.2</td>\n",
       "      <td>8.624628</td>\n",
       "    </tr>\n",
       "    <tr>\n",
       "      <th>752</th>\n",
       "      <td>27</td>\n",
       "      <td>23</td>\n",
       "      <td>1.990262</td>\n",
       "      <td>1</td>\n",
       "      <td>9.3</td>\n",
       "      <td>8.782612</td>\n",
       "    </tr>\n",
       "    <tr>\n",
       "      <th>753</th>\n",
       "      <td>27</td>\n",
       "      <td>24</td>\n",
       "      <td>2.195950</td>\n",
       "      <td>1</td>\n",
       "      <td>9.3</td>\n",
       "      <td>8.804080</td>\n",
       "    </tr>\n",
       "    <tr>\n",
       "      <th>754</th>\n",
       "      <td>27</td>\n",
       "      <td>25</td>\n",
       "      <td>2.486333</td>\n",
       "      <td>1</td>\n",
       "      <td>9.4</td>\n",
       "      <td>8.846973</td>\n",
       "    </tr>\n",
       "    <tr>\n",
       "      <th>755</th>\n",
       "      <td>27</td>\n",
       "      <td>26</td>\n",
       "      <td>-1.095062</td>\n",
       "      <td>1</td>\n",
       "      <td>6.0</td>\n",
       "      <td>5.785212</td>\n",
       "    </tr>\n",
       "  </tbody>\n",
       "</table>\n",
       "<p>162 rows × 6 columns</p>\n",
       "</div>"
      ],
      "text/plain": [
       "     student  week  studying_hours  group  quiz_grade  predicted_grade\n",
       "216        8     0        2.776717      3         5.9         5.009169\n",
       "217        8     1        1.191707      3         6.4         6.253563\n",
       "218        8     2        1.046516      3         6.8         6.724140\n",
       "219        8     3        0.901324      3         7.2         6.958203\n",
       "220        8     4        0.852927      3         7.5         7.059246\n",
       "..       ...   ...             ...    ...         ...              ...\n",
       "751       27    22        1.796673      1         9.2         8.624628\n",
       "752       27    23        1.990262      1         9.3         8.782612\n",
       "753       27    24        2.195950      1         9.3         8.804080\n",
       "754       27    25        2.486333      1         9.4         8.846973\n",
       "755       27    26       -1.095062      1         6.0         5.785212\n",
       "\n",
       "[162 rows x 6 columns]"
      ]
     },
     "execution_count": 52,
     "metadata": {},
     "output_type": "execute_result"
    }
   ],
   "source": [
    "test_df"
   ]
  },
  {
   "cell_type": "code",
   "execution_count": 53,
   "id": "02bf4cc2",
   "metadata": {},
   "outputs": [
    {
     "data": {
      "text/plain": [
       "0.5958703953755589"
      ]
     },
     "execution_count": 53,
     "metadata": {},
     "output_type": "execute_result"
    }
   ],
   "source": [
    "# RMSE error\n",
    "from sklearn.metrics import mean_squared_error\n",
    "mean_squared_error(test_df['quiz_grade'], test_df['predicted_grade'], squared=False)\n"
   ]
  },
  {
   "cell_type": "code",
   "execution_count": 63,
   "id": "48c0c39f",
   "metadata": {},
   "outputs": [
    {
     "name": "stdout",
     "output_type": "stream",
     "text": [
      "boundary (singular) fit: see help('isSingular') \n",
      "\n",
      "Linear mixed model fit by REML [’lmerMod’]\n",
      "Formula: quiz_grade~(1+studying_hours*week|student)\n",
      "\n",
      "Family: gaussian\t Inference: parametric\n",
      "\n",
      "Number of observations: 600\t Groups: {'student': 30.0}\n",
      "\n",
      "Log-likelihood: -412.354 \t AIC: 848.708\n",
      "\n",
      "Random effects:\n",
      "\n",
      "                         Name    Var    Std\n",
      "student           (Intercept)  3.435  1.853\n",
      "student        studying_hours  2.101  1.450\n",
      "student                  week  0.024  0.155\n",
      "student   studying_hours:week  0.014  0.119\n",
      "Residual                       0.135  0.367\n",
      "\n",
      "                    IV1                  IV2   Corr\n",
      "student     (Intercept)       studying_hours -0.853\n",
      "student     (Intercept)                 week -0.955\n",
      "student     (Intercept)  studying_hours:week  0.303\n",
      "student  studying_hours                 week  0.788\n",
      "student  studying_hours  studying_hours:week -0.735\n",
      "student            week  studying_hours:week -0.163\n",
      "\n",
      "Fixed effects:\n",
      "\n"
     ]
    },
    {
     "data": {
      "text/html": [
       "<div>\n",
       "<style scoped>\n",
       "    .dataframe tbody tr th:only-of-type {\n",
       "        vertical-align: middle;\n",
       "    }\n",
       "\n",
       "    .dataframe tbody tr th {\n",
       "        vertical-align: top;\n",
       "    }\n",
       "\n",
       "    .dataframe thead th {\n",
       "        text-align: right;\n",
       "    }\n",
       "</style>\n",
       "<table border=\"1\" class=\"dataframe\">\n",
       "  <thead>\n",
       "    <tr style=\"text-align: right;\">\n",
       "      <th></th>\n",
       "      <th>Estimate</th>\n",
       "      <th>2.5_ci</th>\n",
       "      <th>97.5_ci</th>\n",
       "      <th>SE</th>\n",
       "      <th>DF</th>\n",
       "      <th>T-stat</th>\n",
       "      <th>P-val</th>\n",
       "      <th>Sig</th>\n",
       "    </tr>\n",
       "  </thead>\n",
       "  <tbody>\n",
       "    <tr>\n",
       "      <th>(Intercept)</th>\n",
       "      <td>7.264</td>\n",
       "      <td>7.088</td>\n",
       "      <td>7.44</td>\n",
       "      <td>0.09</td>\n",
       "      <td>20.006</td>\n",
       "      <td>80.898</td>\n",
       "      <td>0.0</td>\n",
       "      <td>***</td>\n",
       "    </tr>\n",
       "  </tbody>\n",
       "</table>\n",
       "</div>"
      ],
      "text/plain": [
       "             Estimate  2.5_ci  97.5_ci    SE      DF  T-stat  P-val  Sig\n",
       "(Intercept)     7.264   7.088     7.44  0.09  20.006  80.898    0.0  ***"
      ]
     },
     "execution_count": 63,
     "metadata": {},
     "output_type": "execute_result"
    }
   ],
   "source": [
    "####\n",
    "df_week_1_to_20 = df[df['week'] < 20]\n",
    "df_week_21 = df[df['week'] == 21]\n",
    "\n",
    "model = Lmer(\"\"\"quiz_grade ~  (1 + studying_hours*week|student)\"\"\", data=df_week_1_to_20, family='gaussian')\n",
    "model.fit()"
   ]
  },
  {
   "cell_type": "code",
   "execution_count": 64,
   "metadata": {},
   "outputs": [
    {
     "name": "stderr",
     "output_type": "stream",
     "text": [
      "/var/folders/75/94jyvgc92_gcwmzgrg36xfd00000gn/T/ipykernel_39414/2747421564.py:2: SettingWithCopyWarning: \n",
      "A value is trying to be set on a copy of a slice from a DataFrame.\n",
      "Try using .loc[row_indexer,col_indexer] = value instead\n",
      "\n",
      "See the caveats in the documentation: https://pandas.pydata.org/pandas-docs/stable/user_guide/indexing.html#returning-a-view-versus-a-copy\n",
      "  df_week_21['predicted_grade'] = model.predict(df_week_21, verify_predictions=False)\n"
     ]
    },
    {
     "data": {
      "text/plain": [
       "0.8059897122963781"
      ]
     },
     "execution_count": 64,
     "metadata": {},
     "output_type": "execute_result"
    }
   ],
   "source": [
    "# predict the grades for week 21\n",
    "df_week_21['predicted_grade'] = model.predict(df_week_21, verify_predictions=False)\n",
    "\n",
    "# rmse\n",
    "mean_squared_error(df_week_21['quiz_grade'], df_week_21['predicted_grade'], squared=False)"
   ]
  },
  {
   "cell_type": "code",
   "execution_count": 65,
   "id": "02b322a2",
   "metadata": {},
   "outputs": [
    {
     "data": {
      "text/html": [
       "<div>\n",
       "<style scoped>\n",
       "    .dataframe tbody tr th:only-of-type {\n",
       "        vertical-align: middle;\n",
       "    }\n",
       "\n",
       "    .dataframe tbody tr th {\n",
       "        vertical-align: top;\n",
       "    }\n",
       "\n",
       "    .dataframe thead th {\n",
       "        text-align: right;\n",
       "    }\n",
       "</style>\n",
       "<table border=\"1\" class=\"dataframe\">\n",
       "  <thead>\n",
       "    <tr style=\"text-align: right;\">\n",
       "      <th></th>\n",
       "      <th>student</th>\n",
       "      <th>week</th>\n",
       "      <th>studying_hours</th>\n",
       "      <th>group</th>\n",
       "      <th>quiz_grade</th>\n",
       "      <th>predicted_grade</th>\n",
       "    </tr>\n",
       "  </thead>\n",
       "  <tbody>\n",
       "    <tr>\n",
       "      <th>21</th>\n",
       "      <td>0</td>\n",
       "      <td>21</td>\n",
       "      <td>-0.998268</td>\n",
       "      <td>3</td>\n",
       "      <td>6.8</td>\n",
       "      <td>6.857312</td>\n",
       "    </tr>\n",
       "    <tr>\n",
       "      <th>48</th>\n",
       "      <td>1</td>\n",
       "      <td>21</td>\n",
       "      <td>-0.792579</td>\n",
       "      <td>3</td>\n",
       "      <td>7.6</td>\n",
       "      <td>7.423117</td>\n",
       "    </tr>\n",
       "    <tr>\n",
       "      <th>75</th>\n",
       "      <td>2</td>\n",
       "      <td>21</td>\n",
       "      <td>-0.441699</td>\n",
       "      <td>2</td>\n",
       "      <td>8.0</td>\n",
       "      <td>8.809141</td>\n",
       "    </tr>\n",
       "    <tr>\n",
       "      <th>102</th>\n",
       "      <td>3</td>\n",
       "      <td>21</td>\n",
       "      <td>-0.441699</td>\n",
       "      <td>2</td>\n",
       "      <td>8.1</td>\n",
       "      <td>8.604812</td>\n",
       "    </tr>\n",
       "    <tr>\n",
       "      <th>129</th>\n",
       "      <td>4</td>\n",
       "      <td>21</td>\n",
       "      <td>0.877125</td>\n",
       "      <td>1</td>\n",
       "      <td>9.0</td>\n",
       "      <td>7.678877</td>\n",
       "    </tr>\n",
       "    <tr>\n",
       "      <th>156</th>\n",
       "      <td>5</td>\n",
       "      <td>21</td>\n",
       "      <td>-0.223912</td>\n",
       "      <td>2</td>\n",
       "      <td>8.0</td>\n",
       "      <td>8.849689</td>\n",
       "    </tr>\n",
       "    <tr>\n",
       "      <th>183</th>\n",
       "      <td>6</td>\n",
       "      <td>21</td>\n",
       "      <td>2.038659</td>\n",
       "      <td>1</td>\n",
       "      <td>9.6</td>\n",
       "      <td>7.247950</td>\n",
       "    </tr>\n",
       "    <tr>\n",
       "      <th>210</th>\n",
       "      <td>7</td>\n",
       "      <td>21</td>\n",
       "      <td>-0.707884</td>\n",
       "      <td>3</td>\n",
       "      <td>7.5</td>\n",
       "      <td>7.657877</td>\n",
       "    </tr>\n",
       "    <tr>\n",
       "      <th>237</th>\n",
       "      <td>8</td>\n",
       "      <td>21</td>\n",
       "      <td>-0.453799</td>\n",
       "      <td>3</td>\n",
       "      <td>8.0</td>\n",
       "      <td>7.705872</td>\n",
       "    </tr>\n",
       "    <tr>\n",
       "      <th>264</th>\n",
       "      <td>9</td>\n",
       "      <td>21</td>\n",
       "      <td>-0.381203</td>\n",
       "      <td>2</td>\n",
       "      <td>8.1</td>\n",
       "      <td>8.668698</td>\n",
       "    </tr>\n",
       "    <tr>\n",
       "      <th>291</th>\n",
       "      <td>10</td>\n",
       "      <td>21</td>\n",
       "      <td>0.005975</td>\n",
       "      <td>2</td>\n",
       "      <td>7.3</td>\n",
       "      <td>7.959301</td>\n",
       "    </tr>\n",
       "    <tr>\n",
       "      <th>318</th>\n",
       "      <td>11</td>\n",
       "      <td>21</td>\n",
       "      <td>1.421594</td>\n",
       "      <td>1</td>\n",
       "      <td>8.1</td>\n",
       "      <td>7.689798</td>\n",
       "    </tr>\n",
       "    <tr>\n",
       "      <th>345</th>\n",
       "      <td>12</td>\n",
       "      <td>21</td>\n",
       "      <td>-0.163415</td>\n",
       "      <td>2</td>\n",
       "      <td>7.3</td>\n",
       "      <td>7.724828</td>\n",
       "    </tr>\n",
       "    <tr>\n",
       "      <th>372</th>\n",
       "      <td>13</td>\n",
       "      <td>21</td>\n",
       "      <td>-0.816778</td>\n",
       "      <td>3</td>\n",
       "      <td>6.3</td>\n",
       "      <td>6.262866</td>\n",
       "    </tr>\n",
       "    <tr>\n",
       "      <th>399</th>\n",
       "      <td>14</td>\n",
       "      <td>21</td>\n",
       "      <td>3.780960</td>\n",
       "      <td>1</td>\n",
       "      <td>8.7</td>\n",
       "      <td>8.245552</td>\n",
       "    </tr>\n",
       "    <tr>\n",
       "      <th>426</th>\n",
       "      <td>15</td>\n",
       "      <td>21</td>\n",
       "      <td>1.034416</td>\n",
       "      <td>1</td>\n",
       "      <td>8.0</td>\n",
       "      <td>7.139376</td>\n",
       "    </tr>\n",
       "    <tr>\n",
       "      <th>453</th>\n",
       "      <td>16</td>\n",
       "      <td>21</td>\n",
       "      <td>0.889225</td>\n",
       "      <td>1</td>\n",
       "      <td>8.0</td>\n",
       "      <td>7.286685</td>\n",
       "    </tr>\n",
       "    <tr>\n",
       "      <th>480</th>\n",
       "      <td>17</td>\n",
       "      <td>21</td>\n",
       "      <td>0.381054</td>\n",
       "      <td>1</td>\n",
       "      <td>7.8</td>\n",
       "      <td>6.374583</td>\n",
       "    </tr>\n",
       "    <tr>\n",
       "      <th>507</th>\n",
       "      <td>18</td>\n",
       "      <td>21</td>\n",
       "      <td>-0.502196</td>\n",
       "      <td>2</td>\n",
       "      <td>6.8</td>\n",
       "      <td>7.453663</td>\n",
       "    </tr>\n",
       "    <tr>\n",
       "      <th>534</th>\n",
       "      <td>19</td>\n",
       "      <td>21</td>\n",
       "      <td>2.353241</td>\n",
       "      <td>1</td>\n",
       "      <td>8.4</td>\n",
       "      <td>7.499666</td>\n",
       "    </tr>\n",
       "    <tr>\n",
       "      <th>561</th>\n",
       "      <td>20</td>\n",
       "      <td>21</td>\n",
       "      <td>2.232248</td>\n",
       "      <td>1</td>\n",
       "      <td>9.1</td>\n",
       "      <td>8.101482</td>\n",
       "    </tr>\n",
       "    <tr>\n",
       "      <th>588</th>\n",
       "      <td>21</td>\n",
       "      <td>21</td>\n",
       "      <td>0.078571</td>\n",
       "      <td>2</td>\n",
       "      <td>8.1</td>\n",
       "      <td>8.677662</td>\n",
       "    </tr>\n",
       "    <tr>\n",
       "      <th>615</th>\n",
       "      <td>22</td>\n",
       "      <td>21</td>\n",
       "      <td>-0.296508</td>\n",
       "      <td>2</td>\n",
       "      <td>7.8</td>\n",
       "      <td>8.242967</td>\n",
       "    </tr>\n",
       "    <tr>\n",
       "      <th>642</th>\n",
       "      <td>23</td>\n",
       "      <td>21</td>\n",
       "      <td>-0.502196</td>\n",
       "      <td>2</td>\n",
       "      <td>7.5</td>\n",
       "      <td>8.126436</td>\n",
       "    </tr>\n",
       "    <tr>\n",
       "      <th>669</th>\n",
       "      <td>24</td>\n",
       "      <td>21</td>\n",
       "      <td>-1.034566</td>\n",
       "      <td>3</td>\n",
       "      <td>6.2</td>\n",
       "      <td>5.887901</td>\n",
       "    </tr>\n",
       "    <tr>\n",
       "      <th>696</th>\n",
       "      <td>25</td>\n",
       "      <td>21</td>\n",
       "      <td>-0.865175</td>\n",
       "      <td>3</td>\n",
       "      <td>6.8</td>\n",
       "      <td>7.395466</td>\n",
       "    </tr>\n",
       "    <tr>\n",
       "      <th>723</th>\n",
       "      <td>26</td>\n",
       "      <td>21</td>\n",
       "      <td>-0.344905</td>\n",
       "      <td>3</td>\n",
       "      <td>7.8</td>\n",
       "      <td>8.230377</td>\n",
       "    </tr>\n",
       "    <tr>\n",
       "      <th>750</th>\n",
       "      <td>27</td>\n",
       "      <td>21</td>\n",
       "      <td>1.639382</td>\n",
       "      <td>1</td>\n",
       "      <td>9.0</td>\n",
       "      <td>7.861334</td>\n",
       "    </tr>\n",
       "    <tr>\n",
       "      <th>777</th>\n",
       "      <td>28</td>\n",
       "      <td>21</td>\n",
       "      <td>-0.320706</td>\n",
       "      <td>2</td>\n",
       "      <td>7.7</td>\n",
       "      <td>8.295795</td>\n",
       "    </tr>\n",
       "    <tr>\n",
       "      <th>804</th>\n",
       "      <td>29</td>\n",
       "      <td>21</td>\n",
       "      <td>-0.163415</td>\n",
       "      <td>2</td>\n",
       "      <td>7.9</td>\n",
       "      <td>8.525709</td>\n",
       "    </tr>\n",
       "  </tbody>\n",
       "</table>\n",
       "</div>"
      ],
      "text/plain": [
       "     student  week  studying_hours  group  quiz_grade  predicted_grade\n",
       "21         0    21       -0.998268      3         6.8         6.857312\n",
       "48         1    21       -0.792579      3         7.6         7.423117\n",
       "75         2    21       -0.441699      2         8.0         8.809141\n",
       "102        3    21       -0.441699      2         8.1         8.604812\n",
       "129        4    21        0.877125      1         9.0         7.678877\n",
       "156        5    21       -0.223912      2         8.0         8.849689\n",
       "183        6    21        2.038659      1         9.6         7.247950\n",
       "210        7    21       -0.707884      3         7.5         7.657877\n",
       "237        8    21       -0.453799      3         8.0         7.705872\n",
       "264        9    21       -0.381203      2         8.1         8.668698\n",
       "291       10    21        0.005975      2         7.3         7.959301\n",
       "318       11    21        1.421594      1         8.1         7.689798\n",
       "345       12    21       -0.163415      2         7.3         7.724828\n",
       "372       13    21       -0.816778      3         6.3         6.262866\n",
       "399       14    21        3.780960      1         8.7         8.245552\n",
       "426       15    21        1.034416      1         8.0         7.139376\n",
       "453       16    21        0.889225      1         8.0         7.286685\n",
       "480       17    21        0.381054      1         7.8         6.374583\n",
       "507       18    21       -0.502196      2         6.8         7.453663\n",
       "534       19    21        2.353241      1         8.4         7.499666\n",
       "561       20    21        2.232248      1         9.1         8.101482\n",
       "588       21    21        0.078571      2         8.1         8.677662\n",
       "615       22    21       -0.296508      2         7.8         8.242967\n",
       "642       23    21       -0.502196      2         7.5         8.126436\n",
       "669       24    21       -1.034566      3         6.2         5.887901\n",
       "696       25    21       -0.865175      3         6.8         7.395466\n",
       "723       26    21       -0.344905      3         7.8         8.230377\n",
       "750       27    21        1.639382      1         9.0         7.861334\n",
       "777       28    21       -0.320706      2         7.7         8.295795\n",
       "804       29    21       -0.163415      2         7.9         8.525709"
      ]
     },
     "execution_count": 65,
     "metadata": {},
     "output_type": "execute_result"
    }
   ],
   "source": [
    "df_week_21"
   ]
  },
  {
   "cell_type": "code",
   "execution_count": null,
   "id": "0b064b76",
   "metadata": {},
   "outputs": [],
   "source": []
  }
 ],
 "metadata": {
  "kernelspec": {
   "display_name": "Python",
   "language": "python",
   "name": "python3"
  },
  "language_info": {
   "codemirror_mode": {
    "name": "ipython",
    "version": 3
   },
   "file_extension": ".py",
   "mimetype": "text/x-python",
   "name": "python",
   "nbconvert_exporter": "python",
   "pygments_lexer": "ipython3",
   "version": "3.10.10"
  },
  "vscode": {
   "interpreter": {
    "hash": "40d3a090f54c6569ab1632332b64b2c03c39dcf918b08424e98f38b5ae0af88f"
   }
  }
 },
 "nbformat": 4,
 "nbformat_minor": 5
}
