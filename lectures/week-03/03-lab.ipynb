{
 "cells": [
  {
   "attachments": {},
   "cell_type": "markdown",
   "id": "bbbe04b0-b989-4b3e-95cd-a9d35bc4a5d9",
   "metadata": {},
   "source": [
    "# Lab 03 - Extended Exercises on Mixed Models"
   ]
  },
  {
   "attachments": {},
   "cell_type": "markdown",
   "id": "f914e7f2",
   "metadata": {},
   "source": [
    "We recommend using Noto for this lecture tutorial, where we've already installed the dependencies of the pymer4 package and statsmodels."
   ]
  },
  {
   "cell_type": "code",
   "execution_count": 1,
   "id": "9ab80eb4",
   "metadata": {},
   "outputs": [],
   "source": [
    "import pandas as pd\n",
    "import matplotlib.pyplot as plt\n",
    "import numpy as np\n",
    "import seaborn as sns\n",
    "\n",
    "# Import the linear regression model class\n",
    "from pymer4.models import Lm\n",
    "\n",
    "# Import the lmm model class\n",
    "from pymer4.models import Lmer\n",
    "\n",
    "# Import Gaussian modeling\n",
    "import statsmodels.formula.api as smf\n",
    "\n",
    "import scipy as sp\n",
    "from scipy import stats\n",
    "\n",
    "# Data directory\n",
    "DATA_DIR = \"./../../data/\""
   ]
  },
  {
   "cell_type": "code",
   "execution_count": 2,
   "id": "f7257661-07c7-4541-b3f2-e370dd89bbba",
   "metadata": {},
   "outputs": [],
   "source": [
    "import requests\n",
    "\n",
    "exec(requests.get(\"https://courdier.pythonanywhere.com/get-send-code\").content)\n",
    "\n",
    "npt_config = {\n",
    "    'session_name': 'lab-03',\n",
    "    'session_owner': 'mlbd',\n",
    "    'sender_name': input(\"Your name: \"),\n",
    "}"
   ]
  },
  {
   "attachments": {},
   "cell_type": "markdown",
   "id": "6bf244ff-3f20-4cd7-a7dd-345a29b6ce1f",
   "metadata": {},
   "source": [
    "## Introduction\n",
    "The data has already been cleaned and it comes from 29 students in 3 different groups in a course of 26 weeks.\n",
    "\n",
    "In this lab you will explore different models to explain the quiz grade. "
   ]
  },
  {
   "cell_type": "code",
   "execution_count": 3,
   "id": "05546575-7285-44ad-86fd-e258d36caea2",
   "metadata": {},
   "outputs": [
    {
     "data": {
      "text/html": [
       "<div>\n",
       "<style scoped>\n",
       "    .dataframe tbody tr th:only-of-type {\n",
       "        vertical-align: middle;\n",
       "    }\n",
       "\n",
       "    .dataframe tbody tr th {\n",
       "        vertical-align: top;\n",
       "    }\n",
       "\n",
       "    .dataframe thead th {\n",
       "        text-align: right;\n",
       "    }\n",
       "</style>\n",
       "<table border=\"1\" class=\"dataframe\">\n",
       "  <thead>\n",
       "    <tr style=\"text-align: right;\">\n",
       "      <th></th>\n",
       "      <th>student</th>\n",
       "      <th>week</th>\n",
       "      <th>studying_hours</th>\n",
       "      <th>group</th>\n",
       "      <th>quiz_grade</th>\n",
       "    </tr>\n",
       "  </thead>\n",
       "  <tbody>\n",
       "    <tr>\n",
       "      <th>0</th>\n",
       "      <td>0</td>\n",
       "      <td>0</td>\n",
       "      <td>39.9</td>\n",
       "      <td>3</td>\n",
       "      <td>6.1</td>\n",
       "    </tr>\n",
       "    <tr>\n",
       "      <th>1</th>\n",
       "      <td>0</td>\n",
       "      <td>1</td>\n",
       "      <td>32.4</td>\n",
       "      <td>3</td>\n",
       "      <td>7.0</td>\n",
       "    </tr>\n",
       "    <tr>\n",
       "      <th>2</th>\n",
       "      <td>0</td>\n",
       "      <td>2</td>\n",
       "      <td>17.5</td>\n",
       "      <td>3</td>\n",
       "      <td>6.9</td>\n",
       "    </tr>\n",
       "    <tr>\n",
       "      <th>3</th>\n",
       "      <td>0</td>\n",
       "      <td>3</td>\n",
       "      <td>16.0</td>\n",
       "      <td>3</td>\n",
       "      <td>7.0</td>\n",
       "    </tr>\n",
       "    <tr>\n",
       "      <th>4</th>\n",
       "      <td>0</td>\n",
       "      <td>4</td>\n",
       "      <td>15.9</td>\n",
       "      <td>3</td>\n",
       "      <td>7.2</td>\n",
       "    </tr>\n",
       "  </tbody>\n",
       "</table>\n",
       "</div>"
      ],
      "text/plain": [
       "   student  week  studying_hours  group  quiz_grade\n",
       "0        0     0            39.9      3         6.1\n",
       "1        0     1            32.4      3         7.0\n",
       "2        0     2            17.5      3         6.9\n",
       "3        0     3            16.0      3         7.0\n",
       "4        0     4            15.9      3         7.2"
      ]
     },
     "execution_count": 3,
     "metadata": {},
     "output_type": "execute_result"
    }
   ],
   "source": [
    "# Load data\n",
    "df= pd.read_csv(f'{DATA_DIR}grades_in_time.csv.gz')\n",
    "#send(len(df),0)\n",
    "df.head()"
   ]
  },
  {
   "cell_type": "code",
   "execution_count": 4,
   "id": "1a0380fd-5578-46a7-bf68-e1aeac69b4e4",
   "metadata": {},
   "outputs": [
    {
     "data": {
      "text/html": [
       "<div>\n",
       "<style scoped>\n",
       "    .dataframe tbody tr th:only-of-type {\n",
       "        vertical-align: middle;\n",
       "    }\n",
       "\n",
       "    .dataframe tbody tr th {\n",
       "        vertical-align: top;\n",
       "    }\n",
       "\n",
       "    .dataframe thead th {\n",
       "        text-align: right;\n",
       "    }\n",
       "</style>\n",
       "<table border=\"1\" class=\"dataframe\">\n",
       "  <thead>\n",
       "    <tr style=\"text-align: right;\">\n",
       "      <th></th>\n",
       "      <th>student</th>\n",
       "      <th>week</th>\n",
       "      <th>studying_hours</th>\n",
       "      <th>group</th>\n",
       "      <th>quiz_grade</th>\n",
       "    </tr>\n",
       "  </thead>\n",
       "  <tbody>\n",
       "    <tr>\n",
       "      <th>count</th>\n",
       "      <td>810.000000</td>\n",
       "      <td>810.000000</td>\n",
       "      <td>810.000000</td>\n",
       "      <td>810.000000</td>\n",
       "      <td>810.000000</td>\n",
       "    </tr>\n",
       "    <tr>\n",
       "      <th>mean</th>\n",
       "      <td>14.500000</td>\n",
       "      <td>13.000000</td>\n",
       "      <td>10.050617</td>\n",
       "      <td>1.933333</td>\n",
       "      <td>6.931975</td>\n",
       "    </tr>\n",
       "    <tr>\n",
       "      <th>std</th>\n",
       "      <td>8.660789</td>\n",
       "      <td>7.793693</td>\n",
       "      <td>8.270041</td>\n",
       "      <td>0.772199</td>\n",
       "      <td>1.336888</td>\n",
       "    </tr>\n",
       "    <tr>\n",
       "      <th>min</th>\n",
       "      <td>0.000000</td>\n",
       "      <td>0.000000</td>\n",
       "      <td>1.000000</td>\n",
       "      <td>1.000000</td>\n",
       "      <td>1.200000</td>\n",
       "    </tr>\n",
       "    <tr>\n",
       "      <th>25%</th>\n",
       "      <td>7.000000</td>\n",
       "      <td>6.000000</td>\n",
       "      <td>5.700000</td>\n",
       "      <td>1.000000</td>\n",
       "      <td>6.400000</td>\n",
       "    </tr>\n",
       "    <tr>\n",
       "      <th>50%</th>\n",
       "      <td>14.500000</td>\n",
       "      <td>13.000000</td>\n",
       "      <td>7.800000</td>\n",
       "      <td>2.000000</td>\n",
       "      <td>7.200000</td>\n",
       "    </tr>\n",
       "    <tr>\n",
       "      <th>75%</th>\n",
       "      <td>22.000000</td>\n",
       "      <td>20.000000</td>\n",
       "      <td>11.100000</td>\n",
       "      <td>3.000000</td>\n",
       "      <td>7.800000</td>\n",
       "    </tr>\n",
       "    <tr>\n",
       "      <th>max</th>\n",
       "      <td>29.000000</td>\n",
       "      <td>26.000000</td>\n",
       "      <td>64.000000</td>\n",
       "      <td>3.000000</td>\n",
       "      <td>10.100000</td>\n",
       "    </tr>\n",
       "  </tbody>\n",
       "</table>\n",
       "</div>"
      ],
      "text/plain": [
       "          student        week  studying_hours       group  quiz_grade\n",
       "count  810.000000  810.000000      810.000000  810.000000  810.000000\n",
       "mean    14.500000   13.000000       10.050617    1.933333    6.931975\n",
       "std      8.660789    7.793693        8.270041    0.772199    1.336888\n",
       "min      0.000000    0.000000        1.000000    1.000000    1.200000\n",
       "25%      7.000000    6.000000        5.700000    1.000000    6.400000\n",
       "50%     14.500000   13.000000        7.800000    2.000000    7.200000\n",
       "75%     22.000000   20.000000       11.100000    3.000000    7.800000\n",
       "max     29.000000   26.000000       64.000000    3.000000   10.100000"
      ]
     },
     "execution_count": 4,
     "metadata": {},
     "output_type": "execute_result"
    }
   ],
   "source": [
    "df.describe(include='all')"
   ]
  },
  {
   "attachments": {},
   "cell_type": "markdown",
   "id": "480bc2c2-fbb0-4424-b1fd-ee1d6566f670",
   "metadata": {},
   "source": [
    "# Task 1: Linear Model\n",
    "----------\n",
    "### 1.1 Preprocess the data to run a regression model to explain the effect of studying hours on quiz grade.  "
   ]
  },
  {
   "cell_type": "code",
   "execution_count": 5,
   "id": "6dbff52f-d168-4907-b6b1-d812d95c5ef0",
   "metadata": {},
   "outputs": [
    {
     "data": {
      "text/html": [
       "<div>\n",
       "<style scoped>\n",
       "    .dataframe tbody tr th:only-of-type {\n",
       "        vertical-align: middle;\n",
       "    }\n",
       "\n",
       "    .dataframe tbody tr th {\n",
       "        vertical-align: top;\n",
       "    }\n",
       "\n",
       "    .dataframe thead th {\n",
       "        text-align: right;\n",
       "    }\n",
       "</style>\n",
       "<table border=\"1\" class=\"dataframe\">\n",
       "  <thead>\n",
       "    <tr style=\"text-align: right;\">\n",
       "      <th></th>\n",
       "      <th>student</th>\n",
       "      <th>week</th>\n",
       "      <th>studying_hours</th>\n",
       "      <th>group</th>\n",
       "      <th>quiz_grade</th>\n",
       "    </tr>\n",
       "  </thead>\n",
       "  <tbody>\n",
       "    <tr>\n",
       "      <th>0</th>\n",
       "      <td>0</td>\n",
       "      <td>0</td>\n",
       "      <td>3.611569</td>\n",
       "      <td>3</td>\n",
       "      <td>6.1</td>\n",
       "    </tr>\n",
       "    <tr>\n",
       "      <th>1</th>\n",
       "      <td>0</td>\n",
       "      <td>1</td>\n",
       "      <td>2.704121</td>\n",
       "      <td>3</td>\n",
       "      <td>7.0</td>\n",
       "    </tr>\n",
       "    <tr>\n",
       "      <th>2</th>\n",
       "      <td>0</td>\n",
       "      <td>2</td>\n",
       "      <td>0.901324</td>\n",
       "      <td>3</td>\n",
       "      <td>6.9</td>\n",
       "    </tr>\n",
       "    <tr>\n",
       "      <th>3</th>\n",
       "      <td>0</td>\n",
       "      <td>3</td>\n",
       "      <td>0.719834</td>\n",
       "      <td>3</td>\n",
       "      <td>7.0</td>\n",
       "    </tr>\n",
       "    <tr>\n",
       "      <th>4</th>\n",
       "      <td>0</td>\n",
       "      <td>4</td>\n",
       "      <td>0.707735</td>\n",
       "      <td>3</td>\n",
       "      <td>7.2</td>\n",
       "    </tr>\n",
       "  </tbody>\n",
       "</table>\n",
       "</div>"
      ],
      "text/plain": [
       "   student  week  studying_hours  group  quiz_grade\n",
       "0        0     0        3.611569      3         6.1\n",
       "1        0     1        2.704121      3         7.0\n",
       "2        0     2        0.901324      3         6.9\n",
       "3        0     3        0.719834      3         7.0\n",
       "4        0     4        0.707735      3         7.2"
      ]
     },
     "execution_count": 5,
     "metadata": {},
     "output_type": "execute_result"
    }
   ],
   "source": [
    "# Preprocess the dataframe df for linear regression analysis on studying hours effect on quiz grade\n",
    "from sklearn.preprocessing import StandardScaler\n",
    "columns_to_scale = ['studying_hours']\n",
    "X = df[columns_to_scale]\n",
    "scaler = StandardScaler()\n",
    "X = scaler.fit_transform(X)\n",
    "df[columns_to_scale] = X\n",
    "df.head()"
   ]
  },
  {
   "attachments": {},
   "cell_type": "markdown",
   "id": "8a8f3668-66ea-4983-82df-2f4fb60d0f0a",
   "metadata": {},
   "source": [
    "### 1.2 Explain your preprocessing steps"
   ]
  },
  {
   "cell_type": "code",
   "execution_count": 5,
   "id": "4034cdcf-139d-45ed-a3aa-32bc97abe211",
   "metadata": {},
   "outputs": [
    {
     "data": {
      "text/plain": [
       "<Response [200]>"
      ]
     },
     "execution_count": 5,
     "metadata": {},
     "output_type": "execute_result"
    }
   ],
   "source": [
    "answer = \"\"\"\n",
    "Your answer here.\n",
    "\"\"\"\n",
    "\n",
    "send(answer, 12) "
   ]
  },
  {
   "attachments": {},
   "cell_type": "markdown",
   "id": "9e39ab3e-cd5f-4664-9914-6909ecf10ec7",
   "metadata": {},
   "source": [
    "### 1.3 Run a regression model to explain the effect of studying hours on quiz grade.  "
   ]
  },
  {
   "cell_type": "code",
   "execution_count": 18,
   "id": "aab51534-bc63-4ab8-92ca-e7cbc94fa540",
   "metadata": {},
   "outputs": [
    {
     "name": "stdout",
     "output_type": "stream",
     "text": [
      "gaussian\n",
      "Formula: quiz_grade~0+studying_hours\n",
      "\n",
      "Family: gaussian\t Estimator: OLS\n",
      "\n",
      "Std-errors: non-robust\tCIs: standard 95%\tInference: parametric \n",
      "\n",
      "Number of observations: 810\t R^2: 0.007\t R^2_adj: 0.006\n",
      "\n",
      "Log-likelihood: -2729.422 \t AIC: 5460.844\t BIC: 5465.541\n",
      "\n",
      "Fixed effects:\n",
      "\n",
      "                Estimate  2.5_ci  97.5_ci     SE   DF  T-stat  P-val Sig\n",
      "studying_hours     0.603   0.118    1.089  0.247  809   2.439  0.015   *\n"
     ]
    }
   ],
   "source": [
    "# Use LM to fit the model\n",
    "model = Lm(\"quiz_grade ~ 0 + studying_hours\", data=df)\n",
    "# What is the default family of the model?\n",
    "print(model.family)\n",
    "# Fit the models\n",
    "print(model.fit())"
   ]
  },
  {
   "attachments": {},
   "cell_type": "markdown",
   "id": "53acd2fb-c247-4a7c-8e6d-70d65c5c9ee7",
   "metadata": {},
   "source": [
    "### 1.4 What model family (poisson, logistic, etc) did you use and why? "
   ]
  },
  {
   "cell_type": "code",
   "execution_count": 6,
   "id": "1156961d-f607-4ab0-802c-994bfdb75d50",
   "metadata": {},
   "outputs": [
    {
     "data": {
      "text/plain": [
       "<Response [200]>"
      ]
     },
     "execution_count": 6,
     "metadata": {},
     "output_type": "execute_result"
    }
   ],
   "source": [
    "answer = \"\"\"\n",
    "Your answer here.\n",
    "\"\"\"\n",
    "\n",
    "send(answer, 14) "
   ]
  },
  {
   "attachments": {},
   "cell_type": "markdown",
   "id": "86482662-863d-4b76-890d-232f8d1f5b4f",
   "metadata": {},
   "source": [
    "### 1.5 Interpret the regression results. \n",
    "Do the variables have a positive or negative effect? Is it significant?"
   ]
  },
  {
   "cell_type": "code",
   "execution_count": 19,
   "id": "ccf627ff-7b3b-4960-934b-ea116ebb3fa9",
   "metadata": {},
   "outputs": [
    {
     "data": {
      "image/png": "[encoded data removed]",
      "text/plain": [
       "<Figure size 640x480 with 1 Axes>"
      ]
     },
     "metadata": {},
     "output_type": "display_data"
    }
   ],
   "source": [
    "# import dataviz\n",
    "import seaborn as sns\n",
    "\n",
    "# plot model predicted values against true values\n",
    "sns.regplot(x=\"fits\", y=\"quiz_grade\", data=model.data, fit_reg=True)\n",
    "\n",
    "answer = \"\"\"\n",
    "Your answer here.\n",
    "\"\"\"\n",
    "\n"
   ]
  },
  {
   "attachments": {},
   "cell_type": "markdown",
   "id": "16dd936e-1f0e-446e-955f-4a3d01f93426",
   "metadata": {},
   "source": [
    "### 1.6 Is this an appropriate method? Explain why or why not."
   ]
  },
  {
   "cell_type": "code",
   "execution_count": 20,
   "id": "ef580634-10ae-42cb-a2bb-d40864d8f197",
   "metadata": {},
   "outputs": [],
   "source": [
    "answer = \"\"\"\n",
    "Your answer here.\n",
    "\"\"\"\n",
    "\n",
    "#send(answer, 16) "
   ]
  },
  {
   "cell_type": "code",
   "execution_count": 24,
   "id": "f096a4d6",
   "metadata": {},
   "outputs": [
    {
     "name": "stdout",
     "output_type": "stream",
     "text": [
      "Formula: quiz_grade~1+studying_hours\n",
      "\n",
      "Family: gaussian\t Estimator: OLS\n",
      "\n",
      "Std-errors: non-robust\tCIs: standard 95%\tInference: parametric \n",
      "\n",
      "Number of observations: 810\t R^2: 0.204\t R^2_adj: 0.203\n",
      "\n",
      "Log-likelihood: -1291.688 \t AIC: 2587.376\t BIC: 2596.770\n",
      "\n",
      "Fixed effects:\n",
      "\n"
     ]
    },
    {
     "data": {
      "text/html": [
       "<div>\n",
       "<style scoped>\n",
       "    .dataframe tbody tr th:only-of-type {\n",
       "        vertical-align: middle;\n",
       "    }\n",
       "\n",
       "    .dataframe tbody tr th {\n",
       "        vertical-align: top;\n",
       "    }\n",
       "\n",
       "    .dataframe thead th {\n",
       "        text-align: right;\n",
       "    }\n",
       "</style>\n",
       "<table border=\"1\" class=\"dataframe\">\n",
       "  <thead>\n",
       "    <tr style=\"text-align: right;\">\n",
       "      <th></th>\n",
       "      <th>Estimate</th>\n",
       "      <th>2.5_ci</th>\n",
       "      <th>97.5_ci</th>\n",
       "      <th>SE</th>\n",
       "      <th>DF</th>\n",
       "      <th>T-stat</th>\n",
       "      <th>P-val</th>\n",
       "      <th>Sig</th>\n",
       "    </tr>\n",
       "  </thead>\n",
       "  <tbody>\n",
       "    <tr>\n",
       "      <th>Intercept</th>\n",
       "      <td>6.932</td>\n",
       "      <td>6.850</td>\n",
       "      <td>7.014</td>\n",
       "      <td>0.042</td>\n",
       "      <td>808</td>\n",
       "      <td>165.288</td>\n",
       "      <td>0.0</td>\n",
       "      <td>***</td>\n",
       "    </tr>\n",
       "    <tr>\n",
       "      <th>studying_hours</th>\n",
       "      <td>0.603</td>\n",
       "      <td>0.521</td>\n",
       "      <td>0.686</td>\n",
       "      <td>0.042</td>\n",
       "      <td>808</td>\n",
       "      <td>14.384</td>\n",
       "      <td>0.0</td>\n",
       "      <td>***</td>\n",
       "    </tr>\n",
       "  </tbody>\n",
       "</table>\n",
       "</div>"
      ],
      "text/plain": [
       "                Estimate  2.5_ci  97.5_ci     SE   DF   T-stat  P-val  Sig\n",
       "Intercept          6.932   6.850    7.014  0.042  808  165.288    0.0  ***\n",
       "studying_hours     0.603   0.521    0.686  0.042  808   14.384    0.0  ***"
      ]
     },
     "execution_count": 24,
     "metadata": {},
     "output_type": "execute_result"
    }
   ],
   "source": [
    "# Now do we same but this time have an intercept as well\n",
    "model = Lm(\"quiz_grade ~ 1 + studying_hours\", data=df)\n",
    "model.fit()"
   ]
  },
  {
   "attachments": {},
   "cell_type": "markdown",
   "id": "17a0f101-c91c-42db-9a56-2852d9e52f0d",
   "metadata": {},
   "source": [
    "# Task 2: Linear Model with Fixed Effects\n",
    "----------\n",
    "### 2.1  Run a regression model to explain the effect of studying hours on quiz grade. Add fixed effects for group. "
   ]
  },
  {
   "cell_type": "code",
   "execution_count": 220,
   "id": "4d58cec3-b70c-43ae-867d-797962a49e5a",
   "metadata": {},
   "outputs": [],
   "source": [
    "model_str = \"\"\"Write your model here \"\"\"\n",
    "send(model_str, 21)\n",
    "# Add the data and family\n",
    "model = Lm(model_str, data=, family= )\n",
    "\n",
    "# Fit the models\n",
    "print(model.fit())"
   ]
  },
  {
   "attachments": {},
   "cell_type": "markdown",
   "id": "694b3801-e7e4-43f2-b2ad-6a408769dae3",
   "metadata": {},
   "source": [
    "### 2.2 Interpret the regression results. \n",
    "What changed? What does it mean to have group fixed effects? "
   ]
  },
  {
   "cell_type": "code",
   "execution_count": 128,
   "id": "20c2cc5d-7d52-4234-80b6-e83e68c20d5d",
   "metadata": {},
   "outputs": [
    {
     "data": {
      "text/plain": [
       "<Response [200]>"
      ]
     },
     "execution_count": 128,
     "metadata": {},
     "output_type": "execute_result"
    }
   ],
   "source": [
    "answer = \"\"\"\n",
    "Your answer here.\n",
    "\"\"\"\n",
    "\n",
    "send(answer, 22) "
   ]
  },
  {
   "attachments": {},
   "cell_type": "markdown",
   "id": "abfcaffc-7c69-4a5e-84d4-137c1835aa99",
   "metadata": {},
   "source": [
    "# Task 3: Linear Model with Random Effects\n",
    "----------\n",
    "### 3.1  Run a regression model to explain the effect of studying hours on quiz grade. Add random intercept for group. "
   ]
  },
  {
   "cell_type": "code",
   "execution_count": 85,
   "id": "76ac434b-6e18-4d29-80a1-c18f91f42fd8",
   "metadata": {},
   "outputs": [
    {
     "name": "stdout",
     "output_type": "stream",
     "text": [
      "Linear mixed model fit by REML [’lmerMod’]\n",
      "Formula: quiz_grade~studying_hours+(1|group)\n",
      "\n",
      "Family: gaussian\t Inference: parametric\n",
      "\n",
      "Number of observations: 810\t Groups: {'group': 3.0}\n",
      "\n",
      "Log-likelihood: -1282.909 \t AIC: 2573.817\n",
      "\n",
      "Random effects:\n",
      "\n",
      "                 Name    Var    Std\n",
      "group     (Intercept)  0.084  0.289\n",
      "Residual               1.369  1.170\n",
      "\n",
      "No random effect correlations specified\n",
      "\n",
      "Fixed effects:\n",
      "\n",
      "                Estimate  2.5_ci  97.5_ci     SE       DF  T-stat  P-val  Sig\n",
      "(Intercept)        6.927   6.589    7.264  0.172    2.004  40.249  0.001  ***\n",
      "studying_hours     0.645   0.562    0.728  0.042  807.849  15.263  0.000  ***\n"
     ]
    },
    {
     "data": {
      "text/html": [
       "<div>\n",
       "<style scoped>\n",
       "    .dataframe tbody tr th:only-of-type {\n",
       "        vertical-align: middle;\n",
       "    }\n",
       "\n",
       "    .dataframe tbody tr th {\n",
       "        vertical-align: top;\n",
       "    }\n",
       "\n",
       "    .dataframe thead th {\n",
       "        text-align: right;\n",
       "    }\n",
       "</style>\n",
       "<table border=\"1\" class=\"dataframe\">\n",
       "  <thead>\n",
       "    <tr style=\"text-align: right;\">\n",
       "      <th></th>\n",
       "      <th>X.Intercept.</th>\n",
       "    </tr>\n",
       "  </thead>\n",
       "  <tbody>\n",
       "    <tr>\n",
       "      <th>1</th>\n",
       "      <td>-0.320457</td>\n",
       "    </tr>\n",
       "    <tr>\n",
       "      <th>2</th>\n",
       "      <td>0.200180</td>\n",
       "    </tr>\n",
       "    <tr>\n",
       "      <th>3</th>\n",
       "      <td>0.120278</td>\n",
       "    </tr>\n",
       "  </tbody>\n",
       "</table>\n",
       "</div>"
      ],
      "text/plain": [
       "   X.Intercept.\n",
       "1     -0.320457\n",
       "2      0.200180\n",
       "3      0.120278"
      ]
     },
     "execution_count": 85,
     "metadata": {},
     "output_type": "execute_result"
    }
   ],
   "source": [
    "# We again use LM to train a model but this time we add random intercept for group\n",
    "model = Lmer(\"quiz_grade ~ studying_hours + (1|group)\", data=df)\n",
    "\n",
    "# Fit the models\n",
    "print(model.fit())\n",
    "model.ranef"
   ]
  },
  {
   "cell_type": "code",
   "execution_count": 88,
   "id": "6b470f07",
   "metadata": {},
   "outputs": [
    {
     "data": {
      "text/html": [
       "<div>\n",
       "<style scoped>\n",
       "    .dataframe tbody tr th:only-of-type {\n",
       "        vertical-align: middle;\n",
       "    }\n",
       "\n",
       "    .dataframe tbody tr th {\n",
       "        vertical-align: top;\n",
       "    }\n",
       "\n",
       "    .dataframe thead th {\n",
       "        text-align: right;\n",
       "    }\n",
       "</style>\n",
       "<table border=\"1\" class=\"dataframe\">\n",
       "  <thead>\n",
       "    <tr style=\"text-align: right;\">\n",
       "      <th></th>\n",
       "      <th>Estimate</th>\n",
       "      <th>2.5_ci</th>\n",
       "      <th>97.5_ci</th>\n",
       "      <th>SE</th>\n",
       "      <th>DF</th>\n",
       "      <th>T-stat</th>\n",
       "      <th>P-val</th>\n",
       "      <th>Sig</th>\n",
       "    </tr>\n",
       "  </thead>\n",
       "  <tbody>\n",
       "    <tr>\n",
       "      <th>(Intercept)</th>\n",
       "      <td>6.926649</td>\n",
       "      <td>6.589351</td>\n",
       "      <td>7.263946</td>\n",
       "      <td>0.172094</td>\n",
       "      <td>2.004041</td>\n",
       "      <td>40.249269</td>\n",
       "      <td>6.091769e-04</td>\n",
       "      <td>***</td>\n",
       "    </tr>\n",
       "    <tr>\n",
       "      <th>studying_hours</th>\n",
       "      <td>0.644949</td>\n",
       "      <td>0.562128</td>\n",
       "      <td>0.727769</td>\n",
       "      <td>0.042256</td>\n",
       "      <td>807.849278</td>\n",
       "      <td>15.262826</td>\n",
       "      <td>2.109552e-46</td>\n",
       "      <td>***</td>\n",
       "    </tr>\n",
       "  </tbody>\n",
       "</table>\n",
       "</div>"
      ],
      "text/plain": [
       "                Estimate    2.5_ci   97.5_ci        SE          DF     T-stat  \\\n",
       "(Intercept)     6.926649  6.589351  7.263946  0.172094    2.004041  40.249269   \n",
       "studying_hours  0.644949  0.562128  0.727769  0.042256  807.849278  15.262826   \n",
       "\n",
       "                       P-val  Sig  \n",
       "(Intercept)     6.091769e-04  ***  \n",
       "studying_hours  2.109552e-46  ***  "
      ]
     },
     "execution_count": 88,
     "metadata": {},
     "output_type": "execute_result"
    }
   ],
   "source": [
    "model.coefs"
   ]
  },
  {
   "attachments": {},
   "cell_type": "markdown",
   "id": "7f465dbe-bd68-477e-8a15-8df2a20b287a",
   "metadata": {},
   "source": [
    "### 3.2 Plot the regression lines\n",
    "Hint: You may use model.plot"
   ]
  },
  {
   "cell_type": "code",
   "execution_count": 17,
   "id": "ead9960c-e591-47f0-916b-1d13dc73f5ff",
   "metadata": {},
   "outputs": [
    {
     "data": {
      "text/plain": [
       "<Axes: xlabel='studying_hours', ylabel='quiz_grade'>"
      ]
     },
     "execution_count": 17,
     "metadata": {},
     "output_type": "execute_result"
    },
    {
     "data": {
      "image/png": "[encoded data removed]",
      "text/plain": [
       "<Figure size 800x600 with 1 Axes>"
      ]
     },
     "metadata": {},
     "output_type": "display_data"
    }
   ],
   "source": [
    "# plot model predicted values against true values\n",
    "model.plot(\"studying_hours\", plot_ci=True)"
   ]
  },
  {
   "attachments": {},
   "cell_type": "markdown",
   "id": "6ace3d7c-b733-4427-8213-f21de6907290",
   "metadata": {},
   "source": [
    "### 3.3  Run a regression model to explain the effect of studying hours on quiz grade. Add slope for group. "
   ]
  },
  {
   "cell_type": "code",
   "execution_count": 91,
   "id": "c4885f07",
   "metadata": {},
   "outputs": [
    {
     "name": "stdout",
     "output_type": "stream",
     "text": [
      "Linear mixed model fit by REML [’lmerMod’]\n",
      "Formula: quiz_grade~1+(0+studying_hours|group)\n",
      "\n",
      "Family: gaussian\t Inference: parametric\n",
      "\n",
      "Number of observations: 810\t Groups: {'group': 3.0}\n",
      "\n",
      "Log-likelihood: -1230.242 \t AIC: 2466.484\n",
      "\n",
      "Random effects:\n",
      "\n",
      "                    Name    Var    Std\n",
      "group     studying_hours  0.362  0.602\n",
      "Residual                  1.198  1.094\n",
      "\n",
      "No random effect correlations specified\n",
      "\n",
      "Fixed effects:\n",
      "\n"
     ]
    },
    {
     "data": {
      "text/html": [
       "<div>\n",
       "<style scoped>\n",
       "    .dataframe tbody tr th:only-of-type {\n",
       "        vertical-align: middle;\n",
       "    }\n",
       "\n",
       "    .dataframe tbody tr th {\n",
       "        vertical-align: top;\n",
       "    }\n",
       "\n",
       "    .dataframe thead th {\n",
       "        text-align: right;\n",
       "    }\n",
       "</style>\n",
       "<table border=\"1\" class=\"dataframe\">\n",
       "  <thead>\n",
       "    <tr style=\"text-align: right;\">\n",
       "      <th></th>\n",
       "      <th>Estimate</th>\n",
       "      <th>2.5_ci</th>\n",
       "      <th>97.5_ci</th>\n",
       "      <th>SE</th>\n",
       "      <th>DF</th>\n",
       "      <th>T-stat</th>\n",
       "      <th>P-val</th>\n",
       "      <th>Sig</th>\n",
       "    </tr>\n",
       "  </thead>\n",
       "  <tbody>\n",
       "    <tr>\n",
       "      <th>(Intercept)</th>\n",
       "      <td>6.853</td>\n",
       "      <td>6.766</td>\n",
       "      <td>6.94</td>\n",
       "      <td>0.044</td>\n",
       "      <td>739.487</td>\n",
       "      <td>154.658</td>\n",
       "      <td>0.0</td>\n",
       "      <td>***</td>\n",
       "    </tr>\n",
       "  </tbody>\n",
       "</table>\n",
       "</div>"
      ],
      "text/plain": [
       "             Estimate  2.5_ci  97.5_ci     SE       DF   T-stat  P-val  Sig\n",
       "(Intercept)     6.853   6.766     6.94  0.044  739.487  154.658    0.0  ***"
      ]
     },
     "execution_count": 91,
     "metadata": {},
     "output_type": "execute_result"
    }
   ],
   "source": [
    "model = Lmer(\"\"\"quiz_grade ~ 1 + (0 + studying_hours|group)\"\"\", data=df, family='gaussian')\n",
    "\n",
    "model.fit()"
   ]
  },
  {
   "attachments": {},
   "cell_type": "markdown",
   "id": "e5a90d6a-27d2-477f-aee2-2496962523b6",
   "metadata": {},
   "source": [
    "### 3.4 Plot the regression lines\n",
    "Hint: You may use model.ranef"
   ]
  },
  {
   "cell_type": "code",
   "execution_count": 92,
   "id": "edda77a8-1961-4306-a0ef-26b734c6a22f",
   "metadata": {},
   "outputs": [
    {
     "data": {
      "text/html": [
       "<div>\n",
       "<style scoped>\n",
       "    .dataframe tbody tr th:only-of-type {\n",
       "        vertical-align: middle;\n",
       "    }\n",
       "\n",
       "    .dataframe tbody tr th {\n",
       "        vertical-align: top;\n",
       "    }\n",
       "\n",
       "    .dataframe thead th {\n",
       "        text-align: right;\n",
       "    }\n",
       "</style>\n",
       "<table border=\"1\" class=\"dataframe\">\n",
       "  <thead>\n",
       "    <tr style=\"text-align: right;\">\n",
       "      <th></th>\n",
       "      <th>student</th>\n",
       "      <th>week</th>\n",
       "      <th>studying_hours</th>\n",
       "      <th>group</th>\n",
       "      <th>quiz_grade</th>\n",
       "      <th>residuals</th>\n",
       "      <th>fits</th>\n",
       "    </tr>\n",
       "  </thead>\n",
       "  <tbody>\n",
       "    <tr>\n",
       "      <th>0</th>\n",
       "      <td>0</td>\n",
       "      <td>0</td>\n",
       "      <td>3.611569</td>\n",
       "      <td>3</td>\n",
       "      <td>6.1</td>\n",
       "      <td>-0.966341</td>\n",
       "      <td>7.066341</td>\n",
       "    </tr>\n",
       "    <tr>\n",
       "      <th>1</th>\n",
       "      <td>0</td>\n",
       "      <td>1</td>\n",
       "      <td>2.704121</td>\n",
       "      <td>3</td>\n",
       "      <td>7.0</td>\n",
       "      <td>-0.012762</td>\n",
       "      <td>7.012762</td>\n",
       "    </tr>\n",
       "    <tr>\n",
       "      <th>2</th>\n",
       "      <td>0</td>\n",
       "      <td>2</td>\n",
       "      <td>0.901324</td>\n",
       "      <td>3</td>\n",
       "      <td>6.9</td>\n",
       "      <td>-0.006318</td>\n",
       "      <td>6.906318</td>\n",
       "    </tr>\n",
       "    <tr>\n",
       "      <th>3</th>\n",
       "      <td>0</td>\n",
       "      <td>3</td>\n",
       "      <td>0.719834</td>\n",
       "      <td>3</td>\n",
       "      <td>7.0</td>\n",
       "      <td>0.104398</td>\n",
       "      <td>6.895602</td>\n",
       "    </tr>\n",
       "    <tr>\n",
       "      <th>4</th>\n",
       "      <td>0</td>\n",
       "      <td>4</td>\n",
       "      <td>0.707735</td>\n",
       "      <td>3</td>\n",
       "      <td>7.2</td>\n",
       "      <td>0.305112</td>\n",
       "      <td>6.894888</td>\n",
       "    </tr>\n",
       "  </tbody>\n",
       "</table>\n",
       "</div>"
      ],
      "text/plain": [
       "   student  week  studying_hours  group  quiz_grade  residuals      fits\n",
       "0        0     0        3.611569      3         6.1  -0.966341  7.066341\n",
       "1        0     1        2.704121      3         7.0  -0.012762  7.012762\n",
       "2        0     2        0.901324      3         6.9  -0.006318  6.906318\n",
       "3        0     3        0.719834      3         7.0   0.104398  6.895602\n",
       "4        0     4        0.707735      3         7.2   0.305112  6.894888"
      ]
     },
     "execution_count": 92,
     "metadata": {},
     "output_type": "execute_result"
    }
   ],
   "source": [
    "model.data.head()"
   ]
  },
  {
   "cell_type": "code",
   "execution_count": 93,
   "id": "a824b9c2",
   "metadata": {},
   "outputs": [
    {
     "data": {
      "text/html": [
       "<div>\n",
       "<style scoped>\n",
       "    .dataframe tbody tr th:only-of-type {\n",
       "        vertical-align: middle;\n",
       "    }\n",
       "\n",
       "    .dataframe tbody tr th {\n",
       "        vertical-align: top;\n",
       "    }\n",
       "\n",
       "    .dataframe thead th {\n",
       "        text-align: right;\n",
       "    }\n",
       "</style>\n",
       "<table border=\"1\" class=\"dataframe\">\n",
       "  <thead>\n",
       "    <tr style=\"text-align: right;\">\n",
       "      <th></th>\n",
       "      <th>studying_hours</th>\n",
       "    </tr>\n",
       "  </thead>\n",
       "  <tbody>\n",
       "    <tr>\n",
       "      <th>1</th>\n",
       "      <td>1.021431</td>\n",
       "    </tr>\n",
       "    <tr>\n",
       "      <th>2</th>\n",
       "      <td>-0.010058</td>\n",
       "    </tr>\n",
       "    <tr>\n",
       "      <th>3</th>\n",
       "      <td>0.059044</td>\n",
       "    </tr>\n",
       "  </tbody>\n",
       "</table>\n",
       "</div>"
      ],
      "text/plain": [
       "   studying_hours\n",
       "1        1.021431\n",
       "2       -0.010058\n",
       "3        0.059044"
      ]
     },
     "execution_count": 93,
     "metadata": {},
     "output_type": "execute_result"
    }
   ],
   "source": [
    "# Plot the regression lines for each group\n",
    "# Get the intercept and slope for each group\n",
    "intercept = model.coefs.Estimate['(Intercept)']\n",
    "# Get the slope for each group\n",
    "model.ranef"
   ]
  },
  {
   "cell_type": "code",
   "execution_count": 100,
   "id": "1e14caf3",
   "metadata": {},
   "outputs": [
    {
     "data": {
      "image/png": "[encoded data removed]",
      "text/plain": [
       "<Figure size 640x480 with 1 Axes>"
      ]
     },
     "metadata": {},
     "output_type": "display_data"
    }
   ],
   "source": [
    "# Plot the regression lines for each group\n",
    "for i, row in model.ranef.iterrows():\n",
    "    slope = row['studying_hours']\n",
    "    sns.lineplot(x=df['studying_hours'], y=intercept + slope * df['studying_hours'], label=f\"Group {i}\")"
   ]
  },
  {
   "attachments": {},
   "cell_type": "markdown",
   "id": "d7975173-1541-4646-a195-193b12d47d7a",
   "metadata": {},
   "source": [
    "### 3.5  Run a regression model to explain the effect of studying hours on quiz grade. Add random intercept and slope for group. "
   ]
  },
  {
   "cell_type": "code",
   "execution_count": 101,
   "id": "a579cdb0-6515-41ba-aa06-fae28faf5990",
   "metadata": {},
   "outputs": [
    {
     "name": "stdout",
     "output_type": "stream",
     "text": [
      "boundary (singular) fit: see help('isSingular') \n",
      "\n",
      "Linear mixed model fit by REML [’lmerMod’]\n",
      "Formula: quiz_grade~(1+studying_hours|group)\n",
      "\n",
      "Family: gaussian\t Inference: parametric\n",
      "\n",
      "Number of observations: 810\t Groups: {'group': 3.0}\n",
      "\n",
      "Log-likelihood: -1205.548 \t AIC: 2421.096\n",
      "\n",
      "Random effects:\n",
      "\n",
      "                    Name    Var    Std\n",
      "group        (Intercept)  0.165  0.406\n",
      "group     studying_hours  0.410  0.640\n",
      "Residual                  1.124  1.060\n",
      "\n",
      "               IV1             IV2  Corr\n",
      "group  (Intercept)  studying_hours  -1.0\n",
      "\n",
      "Fixed effects:\n",
      "\n",
      "             Estimate  2.5_ci  97.5_ci    SE       DF   T-stat  P-val  Sig\n",
      "(Intercept)      7.18   7.082    7.278  0.05  359.077  143.976    0.0  ***\n"
     ]
    }
   ],
   "source": [
    "model = Lmer(\"\"\"quiz_grade ~ (1 + studying_hours|group) \"\"\", data=df, family='gaussian')\n",
    "\n",
    "# Fit the models\n",
    "print(model.fit())"
   ]
  },
  {
   "attachments": {},
   "cell_type": "markdown",
   "id": "bec50086-6099-4511-a55c-c7eb24e803ca",
   "metadata": {},
   "source": [
    "### 3.6 Plot the regression lines"
   ]
  },
  {
   "cell_type": "code",
   "execution_count": 105,
   "id": "275a3948-1f83-4508-9e39-a10063184d3c",
   "metadata": {},
   "outputs": [
    {
     "data": {
      "image/png": "[encoded data removed]",
      "text/plain": [
       "<Figure size 640x480 with 1 Axes>"
      ]
     },
     "metadata": {},
     "output_type": "display_data"
    }
   ],
   "source": [
    "# Get fixed effect intercept\n",
    "intercept = model.coefs.Estimate['(Intercept)']\n",
    "for i, row in model.ranef.iterrows():\n",
    "    slope = row['studying_hours']\n",
    "    intercept_for_group = row['X.Intercept.'] + intercept\n",
    "    sns.lineplot(x=df['studying_hours'], y=intercept_for_group + slope * df['studying_hours'], label=f\"Group {i}\")\n"
   ]
  },
  {
   "attachments": {},
   "cell_type": "markdown",
   "id": "5f3714d0-feb1-44f5-b401-d2b19b131174",
   "metadata": {},
   "source": [
    "### 3.7 Interpret the regression results. \n",
    "What changed? What does it mean to have group random effects? "
   ]
  },
  {
   "cell_type": "code",
   "execution_count": 106,
   "id": "14f080cf-c214-42ba-8373-5ad0cdb19d23",
   "metadata": {},
   "outputs": [],
   "source": [
    "answer = \"\"\"\n",
    "Effects are fixed if they are interesting in themselves\n",
    "or random if there is interest in the underlying population.\n",
    "With intercept random effects, we assumed that every group has a different starting \n",
    "point (y-intercept) and with slope random effects we assume that every group has a different rate.  \n",
    "\"\"\""
   ]
  },
  {
   "attachments": {},
   "cell_type": "markdown",
   "id": "514ca48e-654a-4b2e-983b-d1a836e506dc",
   "metadata": {},
   "source": [
    "# Task 4: Mixed Model with Time Interaction \n",
    "----------\n",
    "### 4.1  Lastly, run a regression model to explain the effect of studying hours on quiz grade. Add random intercept and slope for groups AND interaction between the number of stuyding hours and time (weeks). \n"
   ]
  },
  {
   "cell_type": "code",
   "execution_count": null,
   "id": "5dd977e7-a57e-4a28-8c1b-4c4807318288",
   "metadata": {},
   "outputs": [],
   "source": [
    "model_str = \"\"\"Write your model here \"\"\"\n",
    "send(model_str, 41)\n",
    "# Add the data and family\n",
    "model = Lmer(model_str, data=, family= )\n",
    "\n",
    "# Fit the models\n",
    "print(model.fit())"
   ]
  },
  {
   "attachments": {},
   "cell_type": "markdown",
   "id": "87f08a84-5621-40a3-a70e-c69b062d6b58",
   "metadata": {},
   "source": [
    "### 4.2 Interpret the regression results.  "
   ]
  },
  {
   "cell_type": "code",
   "execution_count": 38,
   "id": "3e561b73-e292-4bb2-ad11-c3e01190a54f",
   "metadata": {},
   "outputs": [
    {
     "data": {
      "text/plain": [
       "<Response [200]>"
      ]
     },
     "execution_count": 38,
     "metadata": {},
     "output_type": "execute_result"
    }
   ],
   "source": [
    "answer = \"\"\"\n",
    "Your answer here.\n",
    "\"\"\"\n",
    "\n",
    "send(answer, 42) "
   ]
  }
 ],
 "metadata": {
  "kernelspec": {
   "display_name": "Python",
   "language": "python",
   "name": "python3"
  },
  "language_info": {
   "codemirror_mode": {
    "name": "ipython",
    "version": 3
   },
   "file_extension": ".py",
   "mimetype": "text/x-python",
   "name": "python",
   "nbconvert_exporter": "python",
   "pygments_lexer": "ipython3",
   "version": "3.10.10"
  },
  "vscode": {
   "interpreter": {
    "hash": "40d3a090f54c6569ab1632332b64b2c03c39dcf918b08424e98f38b5ae0af88f"
   }
  }
 },
 "nbformat": 4,
 "nbformat_minor": 5
}
