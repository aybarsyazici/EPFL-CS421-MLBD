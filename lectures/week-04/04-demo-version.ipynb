{
 "cells": [
  {
   "attachments": {},
   "cell_type": "markdown",
   "id": "7bd88feb-ec7b-46f4-9d97-595144644360",
   "metadata": {
    "id": "7bd88feb-ec7b-46f4-9d97-595144644360",
    "tags": []
   },
   "source": [
    "# Lecture 4 - Demo Notebook "
   ]
  },
  {
   "attachments": {},
   "cell_type": "markdown",
   "id": "d1ecb068-bbe6-4e8f-8440-2c7da2001e44",
   "metadata": {
    "tags": []
   },
   "source": [
    "## Prelimilaries: Imports and stuff"
   ]
  },
  {
   "cell_type": "code",
   "execution_count": 1,
   "id": "aaea0334-8272-4fef-8551-9ac42697a4d2",
   "metadata": {
    "id": "aaea0334-8272-4fef-8551-9ac42697a4d2",
    "tags": []
   },
   "outputs": [],
   "source": [
    "import numpy as np \n",
    "import pandas as pd\n",
    "import matplotlib.pyplot as plt\n",
    "\n",
    "from sklearn.model_selection import train_test_split\n",
    "from sklearn import tree\n",
    "from sklearn.ensemble import RandomForestClassifier\n",
    "from sklearn.neighbors import KNeighborsClassifier\n",
    "from sklearn.metrics import roc_auc_score, balanced_accuracy_score\n",
    "from sklearn.preprocessing import MinMaxScaler, normalize\n",
    "from sklearn.linear_model import LogisticRegression\n",
    "\n",
    "import statsmodels.api as sm\n",
    "import statsmodels.formula.api as smf\n",
    "\n",
    "from scipy.spatial.distance import pdist, cdist, squareform\n",
    "\n",
    "# Data directory\n",
    "DATA_DIR = \"./../../data\""
   ]
  },
  {
   "attachments": {},
   "cell_type": "markdown",
   "id": "a2601419-738e-4cb8-8583-25efedb7afe2",
   "metadata": {
    "tags": []
   },
   "source": [
    "# Section 1: Pre-processing"
   ]
  },
  {
   "attachments": {},
   "cell_type": "markdown",
   "id": "ac46ccf0-940e-4091-ad03-7bd68c36d7ff",
   "metadata": {
    "tags": []
   },
   "source": [
    "## Read the data"
   ]
  },
  {
   "cell_type": "code",
   "execution_count": 2,
   "id": "820dc934-c038-4045-866b-41f4660e84fc",
   "metadata": {
    "id": "820dc934-c038-4045-866b-41f4660e84fc",
    "outputId": "0fa62836-dbbc-4d1e-d0d5-d43a60e60cd5"
   },
   "outputs": [],
   "source": [
    "# Parse the aggregated data frame\n",
    "df_lq = pd.read_csv('{}/aggregated_extended_fc.csv'.format(DATA_DIR))\n",
    "ts = pd.read_csv('{}/time_series_extended_fc.csv'.format(DATA_DIR))"
   ]
  },
  {
   "attachments": {},
   "cell_type": "markdown",
   "id": "715b81c8-69c2-4df6-b798-148feebba5e0",
   "metadata": {
    "tags": []
   },
   "source": [
    "## Clean the data"
   ]
  },
  {
   "attachments": {},
   "cell_type": "markdown",
   "id": "b5352d09-8132-429a-b516-2e673b15c086",
   "metadata": {
    "tags": []
   },
   "source": [
    "### We remove inactive students that did not click during weekdays and weekend for the fist 5 weeks of the semester."
   ]
  },
  {
   "cell_type": "code",
   "execution_count": 3,
   "id": "fbabc797",
   "metadata": {},
   "outputs": [],
   "source": [
    "df_lq_aybars = df_lq.copy()\n",
    "ts_aybars = ts.copy()\n",
    "def remove_inactive_students_aybars(df, ts):\n",
    "    df = df.fillna('NaN')\n",
    "    \n",
    "    #find all users weeks with 0 clicks on weekends and 0 clicks on weekdays during the first weeks of the semester\n",
    "    df_first = ts[ts.week < 5]\n",
    "    dropusers = df_first[(df_first.ch_total_clicks_weekend==0) & (df_first.ch_total_clicks_weekday == 0)].user.unique()\n",
    "\n",
    "    ts = ts[ts.user.isin(dropusers)==False]\n",
    "    df = df[df.user.isin(dropusers)==False]\n",
    "    dropusers.sort()\n",
    "    return dropusers, df, ts"
   ]
  },
  {
   "cell_type": "code",
   "execution_count": 4,
   "id": "75bb4997",
   "metadata": {},
   "outputs": [],
   "source": [
    "def remove_inactive_students(df, ts):\n",
    "    df = df.fillna('NaN')\n",
    "    \n",
    "    #find all users weeks with 0 clicks on weekends and 0 clicks on weekdays during the first weeks of the semester\n",
    "    df_first = ts[ts.week < 5]\n",
    "    rows = np.where(np.logical_and(df_first.ch_total_clicks_weekend==0, df_first.ch_total_clicks_weekday == 0).to_numpy())[0]\n",
    "    df_zero = df_first.iloc[rows,:]\n",
    "    dropusers = np.unique(df_zero.user)\n",
    "\n",
    "    ts = ts[ts.user.isin(dropusers)==False]\n",
    "    df = df[df.user.isin(dropusers)==False]\n",
    "    dropusers.sort()\n",
    "    return dropusers, df, ts"
   ]
  },
  {
   "cell_type": "code",
   "execution_count": 5,
   "id": "3e291f2c",
   "metadata": {},
   "outputs": [],
   "source": [
    "dropusers, df_lq, ts = remove_inactive_students(df_lq, ts)\n",
    "dropusers_aybars, df_lq_aybars, ts_aybars = remove_inactive_students_aybars(df_lq_aybars, ts_aybars)"
   ]
  },
  {
   "cell_type": "code",
   "execution_count": 6,
   "id": "4cbc0867",
   "metadata": {},
   "outputs": [
    {
     "data": {
      "text/plain": [
       "array([  0,   3,  10,  12,  14,  27,  33,  40,  43,  47,  49,  50,  64,\n",
       "        65,  68,  70,  72,  75,  89,  98,  99, 100, 104, 115, 125, 126,\n",
       "       127, 128, 134, 137, 144, 145, 146, 182, 197, 217, 233, 235, 241,\n",
       "       253, 254, 270, 274, 282, 283, 284, 287, 289, 290, 292, 294, 296,\n",
       "       297, 298])"
      ]
     },
     "metadata": {},
     "output_type": "display_data"
    },
    {
     "data": {
      "text/plain": [
       "array([  0,   3,  10,  12,  14,  27,  33,  40,  43,  47,  49,  50,  64,\n",
       "        65,  68,  70,  72,  75,  89,  98,  99, 100, 104, 115, 125, 126,\n",
       "       127, 128, 134, 137, 144, 145, 146, 182, 197, 217, 233, 235, 241,\n",
       "       253, 254, 270, 274, 282, 283, 284, 287, 289, 290, 292, 294, 296,\n",
       "       297, 298])"
      ]
     },
     "metadata": {},
     "output_type": "display_data"
    },
    {
     "data": {
      "text/plain": [
       "True"
      ]
     },
     "execution_count": 6,
     "metadata": {},
     "output_type": "execute_result"
    }
   ],
   "source": [
    "display(dropusers)\n",
    "display(dropusers_aybars)\n",
    "np.all(dropusers == dropusers_aybars)"
   ]
  },
  {
   "cell_type": "code",
   "execution_count": 7,
   "id": "e0dfbfe7-df4a-4f2b-a3fb-90193c962105",
   "metadata": {},
   "outputs": [
    {
     "data": {
      "text/html": [
       "<div>\n",
       "<style scoped>\n",
       "    .dataframe tbody tr th:only-of-type {\n",
       "        vertical-align: middle;\n",
       "    }\n",
       "\n",
       "    .dataframe tbody tr th {\n",
       "        vertical-align: top;\n",
       "    }\n",
       "\n",
       "    .dataframe thead th {\n",
       "        text-align: right;\n",
       "    }\n",
       "</style>\n",
       "<table border=\"1\" class=\"dataframe\">\n",
       "  <thead>\n",
       "    <tr style=\"text-align: right;\">\n",
       "      <th></th>\n",
       "      <th>user</th>\n",
       "      <th>ch_num_sessions</th>\n",
       "      <th>ch_time_in_prob_sum</th>\n",
       "      <th>ch_time_in_video_sum</th>\n",
       "      <th>ch_ratio_clicks_weekend_day</th>\n",
       "      <th>ch_total_clicks_weekend</th>\n",
       "      <th>ch_total_clicks_weekday</th>\n",
       "      <th>ch_time_sessions_mean</th>\n",
       "      <th>ch_time_sessions_std</th>\n",
       "      <th>bo_delay_lecture</th>\n",
       "      <th>...</th>\n",
       "      <th>la_weekly_prop_watched_mean</th>\n",
       "      <th>la_weekly_prop_interrupted_mean</th>\n",
       "      <th>la_weekly_prop_interrupted_std</th>\n",
       "      <th>la_weekly_prop_replayed_mean</th>\n",
       "      <th>la_weekly_prop_replayed_std</th>\n",
       "      <th>la_frequency_action_video_play</th>\n",
       "      <th>grade</th>\n",
       "      <th>gender</th>\n",
       "      <th>category</th>\n",
       "      <th>year</th>\n",
       "    </tr>\n",
       "  </thead>\n",
       "  <tbody>\n",
       "    <tr>\n",
       "      <th>1</th>\n",
       "      <td>1</td>\n",
       "      <td>3.4</td>\n",
       "      <td>1698.4</td>\n",
       "      <td>9227.8</td>\n",
       "      <td>0.567500</td>\n",
       "      <td>4.0</td>\n",
       "      <td>179.4</td>\n",
       "      <td>3068.720238</td>\n",
       "      <td>1257.504407</td>\n",
       "      <td>-2883.367738</td>\n",
       "      <td>...</td>\n",
       "      <td>0.748868</td>\n",
       "      <td>0.074683</td>\n",
       "      <td>0.0</td>\n",
       "      <td>0.066456</td>\n",
       "      <td>0.0</td>\n",
       "      <td>0.332424</td>\n",
       "      <td>4.50</td>\n",
       "      <td>M</td>\n",
       "      <td>Suisse.Autres</td>\n",
       "      <td>Y2-2018-19</td>\n",
       "    </tr>\n",
       "    <tr>\n",
       "      <th>2</th>\n",
       "      <td>2</td>\n",
       "      <td>5.3</td>\n",
       "      <td>2340.6</td>\n",
       "      <td>10801.3</td>\n",
       "      <td>26.562274</td>\n",
       "      <td>94.6</td>\n",
       "      <td>129.2</td>\n",
       "      <td>1750.289268</td>\n",
       "      <td>1024.134043</td>\n",
       "      <td>10027.216667</td>\n",
       "      <td>...</td>\n",
       "      <td>0.354487</td>\n",
       "      <td>0.026667</td>\n",
       "      <td>0.0</td>\n",
       "      <td>0.059915</td>\n",
       "      <td>0.0</td>\n",
       "      <td>0.284407</td>\n",
       "      <td>5.25</td>\n",
       "      <td>M</td>\n",
       "      <td>Suisse.PAM</td>\n",
       "      <td>Y2-2018-19</td>\n",
       "    </tr>\n",
       "    <tr>\n",
       "      <th>4</th>\n",
       "      <td>4</td>\n",
       "      <td>2.5</td>\n",
       "      <td>3787.3</td>\n",
       "      <td>7040.0</td>\n",
       "      <td>1.543889</td>\n",
       "      <td>58.4</td>\n",
       "      <td>64.9</td>\n",
       "      <td>3373.908333</td>\n",
       "      <td>1363.320365</td>\n",
       "      <td>-914.633333</td>\n",
       "      <td>...</td>\n",
       "      <td>0.030000</td>\n",
       "      <td>0.000000</td>\n",
       "      <td>0.0</td>\n",
       "      <td>0.020000</td>\n",
       "      <td>0.0</td>\n",
       "      <td>0.199775</td>\n",
       "      <td>4.75</td>\n",
       "      <td>F</td>\n",
       "      <td>France</td>\n",
       "      <td>Y2-2018-19</td>\n",
       "    </tr>\n",
       "    <tr>\n",
       "      <th>5</th>\n",
       "      <td>5</td>\n",
       "      <td>2.5</td>\n",
       "      <td>2568.9</td>\n",
       "      <td>3718.9</td>\n",
       "      <td>0.009677</td>\n",
       "      <td>31.2</td>\n",
       "      <td>50.8</td>\n",
       "      <td>1753.647500</td>\n",
       "      <td>1190.793589</td>\n",
       "      <td>12406.195238</td>\n",
       "      <td>...</td>\n",
       "      <td>0.330000</td>\n",
       "      <td>0.097619</td>\n",
       "      <td>0.0</td>\n",
       "      <td>0.047619</td>\n",
       "      <td>0.0</td>\n",
       "      <td>0.261962</td>\n",
       "      <td>4.00</td>\n",
       "      <td>M</td>\n",
       "      <td>Suisse.PAM</td>\n",
       "      <td>Y2-2018-19</td>\n",
       "    </tr>\n",
       "    <tr>\n",
       "      <th>6</th>\n",
       "      <td>6</td>\n",
       "      <td>4.2</td>\n",
       "      <td>5475.2</td>\n",
       "      <td>9711.6</td>\n",
       "      <td>0.476263</td>\n",
       "      <td>105.1</td>\n",
       "      <td>46.7</td>\n",
       "      <td>20410.677619</td>\n",
       "      <td>1561.548415</td>\n",
       "      <td>-13723.616667</td>\n",
       "      <td>...</td>\n",
       "      <td>0.080000</td>\n",
       "      <td>0.010000</td>\n",
       "      <td>0.0</td>\n",
       "      <td>0.000000</td>\n",
       "      <td>0.0</td>\n",
       "      <td>0.229185</td>\n",
       "      <td>4.25</td>\n",
       "      <td>F</td>\n",
       "      <td>France</td>\n",
       "      <td>Y2-2018-19</td>\n",
       "    </tr>\n",
       "  </tbody>\n",
       "</table>\n",
       "<p>5 rows × 38 columns</p>\n",
       "</div>"
      ],
      "text/plain": [
       "   user  ch_num_sessions  ch_time_in_prob_sum  ch_time_in_video_sum  \\\n",
       "1     1              3.4               1698.4                9227.8   \n",
       "2     2              5.3               2340.6               10801.3   \n",
       "4     4              2.5               3787.3                7040.0   \n",
       "5     5              2.5               2568.9                3718.9   \n",
       "6     6              4.2               5475.2                9711.6   \n",
       "\n",
       "   ch_ratio_clicks_weekend_day  ch_total_clicks_weekend  \\\n",
       "1                     0.567500                      4.0   \n",
       "2                    26.562274                     94.6   \n",
       "4                     1.543889                     58.4   \n",
       "5                     0.009677                     31.2   \n",
       "6                     0.476263                    105.1   \n",
       "\n",
       "   ch_total_clicks_weekday  ch_time_sessions_mean  ch_time_sessions_std  \\\n",
       "1                    179.4            3068.720238           1257.504407   \n",
       "2                    129.2            1750.289268           1024.134043   \n",
       "4                     64.9            3373.908333           1363.320365   \n",
       "5                     50.8            1753.647500           1190.793589   \n",
       "6                     46.7           20410.677619           1561.548415   \n",
       "\n",
       "   bo_delay_lecture  ...  la_weekly_prop_watched_mean  \\\n",
       "1      -2883.367738  ...                     0.748868   \n",
       "2      10027.216667  ...                     0.354487   \n",
       "4       -914.633333  ...                     0.030000   \n",
       "5      12406.195238  ...                     0.330000   \n",
       "6     -13723.616667  ...                     0.080000   \n",
       "\n",
       "   la_weekly_prop_interrupted_mean  la_weekly_prop_interrupted_std  \\\n",
       "1                         0.074683                             0.0   \n",
       "2                         0.026667                             0.0   \n",
       "4                         0.000000                             0.0   \n",
       "5                         0.097619                             0.0   \n",
       "6                         0.010000                             0.0   \n",
       "\n",
       "   la_weekly_prop_replayed_mean  la_weekly_prop_replayed_std  \\\n",
       "1                      0.066456                          0.0   \n",
       "2                      0.059915                          0.0   \n",
       "4                      0.020000                          0.0   \n",
       "5                      0.047619                          0.0   \n",
       "6                      0.000000                          0.0   \n",
       "\n",
       "   la_frequency_action_video_play  grade  gender       category        year  \n",
       "1                        0.332424   4.50       M  Suisse.Autres  Y2-2018-19  \n",
       "2                        0.284407   5.25       M     Suisse.PAM  Y2-2018-19  \n",
       "4                        0.199775   4.75       F         France  Y2-2018-19  \n",
       "5                        0.261962   4.00       M     Suisse.PAM  Y2-2018-19  \n",
       "6                        0.229185   4.25       F         France  Y2-2018-19  \n",
       "\n",
       "[5 rows x 38 columns]"
      ]
     },
     "metadata": {},
     "output_type": "display_data"
    }
   ],
   "source": [
    "display(df_lq.head(5))"
   ]
  },
  {
   "cell_type": "code",
   "execution_count": 8,
   "id": "59c2908b-b4a0-4c94-906b-79eff4767bb1",
   "metadata": {},
   "outputs": [
    {
     "data": {
      "text/html": [
       "<div>\n",
       "<style scoped>\n",
       "    .dataframe tbody tr th:only-of-type {\n",
       "        vertical-align: middle;\n",
       "    }\n",
       "\n",
       "    .dataframe tbody tr th {\n",
       "        vertical-align: top;\n",
       "    }\n",
       "\n",
       "    .dataframe thead th {\n",
       "        text-align: right;\n",
       "    }\n",
       "</style>\n",
       "<table border=\"1\" class=\"dataframe\">\n",
       "  <thead>\n",
       "    <tr style=\"text-align: right;\">\n",
       "      <th></th>\n",
       "      <th>week</th>\n",
       "      <th>user</th>\n",
       "      <th>ch_num_sessions</th>\n",
       "      <th>ch_time_in_prob_sum</th>\n",
       "      <th>ch_time_in_video_sum</th>\n",
       "      <th>ch_ratio_clicks_weekend_day</th>\n",
       "      <th>ch_total_clicks_weekend</th>\n",
       "      <th>ch_total_clicks_weekday</th>\n",
       "      <th>ch_time_sessions_mean</th>\n",
       "      <th>ch_time_sessions_std</th>\n",
       "      <th>...</th>\n",
       "      <th>la_seek_len_std</th>\n",
       "      <th>la_pause_dur_std</th>\n",
       "      <th>la_time_speeding_up_mean</th>\n",
       "      <th>la_time_speeding_up_std</th>\n",
       "      <th>la_weekly_prop_watched_mean</th>\n",
       "      <th>la_weekly_prop_interrupted_mean</th>\n",
       "      <th>la_weekly_prop_interrupted_std</th>\n",
       "      <th>la_weekly_prop_replayed_mean</th>\n",
       "      <th>la_weekly_prop_replayed_std</th>\n",
       "      <th>la_frequency_action_video_play</th>\n",
       "    </tr>\n",
       "  </thead>\n",
       "  <tbody>\n",
       "    <tr>\n",
       "      <th>1</th>\n",
       "      <td>0</td>\n",
       "      <td>1</td>\n",
       "      <td>7.0</td>\n",
       "      <td>326.0</td>\n",
       "      <td>15525.0</td>\n",
       "      <td>5.675000</td>\n",
       "      <td>40.0</td>\n",
       "      <td>227.0</td>\n",
       "      <td>1931.285714</td>\n",
       "      <td>1648.472515</td>\n",
       "      <td>...</td>\n",
       "      <td>146.564097</td>\n",
       "      <td>188.175709</td>\n",
       "      <td>65.173554</td>\n",
       "      <td>150.807752</td>\n",
       "      <td>0.6</td>\n",
       "      <td>0.1</td>\n",
       "      <td>0.0</td>\n",
       "      <td>0.0</td>\n",
       "      <td>0.0</td>\n",
       "      <td>0.400749</td>\n",
       "    </tr>\n",
       "    <tr>\n",
       "      <th>2</th>\n",
       "      <td>0</td>\n",
       "      <td>2</td>\n",
       "      <td>4.0</td>\n",
       "      <td>1224.0</td>\n",
       "      <td>12209.0</td>\n",
       "      <td>258.000000</td>\n",
       "      <td>1.0</td>\n",
       "      <td>258.0</td>\n",
       "      <td>2780.250000</td>\n",
       "      <td>2297.110400</td>\n",
       "      <td>...</td>\n",
       "      <td>33.419147</td>\n",
       "      <td>39.702700</td>\n",
       "      <td>0.000000</td>\n",
       "      <td>0.000000</td>\n",
       "      <td>0.6</td>\n",
       "      <td>0.0</td>\n",
       "      <td>0.0</td>\n",
       "      <td>0.0</td>\n",
       "      <td>0.0</td>\n",
       "      <td>0.370656</td>\n",
       "    </tr>\n",
       "    <tr>\n",
       "      <th>4</th>\n",
       "      <td>0</td>\n",
       "      <td>4</td>\n",
       "      <td>4.0</td>\n",
       "      <td>1294.0</td>\n",
       "      <td>12037.0</td>\n",
       "      <td>0.328571</td>\n",
       "      <td>140.0</td>\n",
       "      <td>46.0</td>\n",
       "      <td>3043.750000</td>\n",
       "      <td>344.374342</td>\n",
       "      <td>...</td>\n",
       "      <td>159.612354</td>\n",
       "      <td>228.274335</td>\n",
       "      <td>67.941176</td>\n",
       "      <td>111.514074</td>\n",
       "      <td>0.3</td>\n",
       "      <td>0.0</td>\n",
       "      <td>0.0</td>\n",
       "      <td>0.2</td>\n",
       "      <td>0.0</td>\n",
       "      <td>0.252688</td>\n",
       "    </tr>\n",
       "    <tr>\n",
       "      <th>5</th>\n",
       "      <td>0</td>\n",
       "      <td>5</td>\n",
       "      <td>2.0</td>\n",
       "      <td>1324.0</td>\n",
       "      <td>4440.0</td>\n",
       "      <td>0.000000</td>\n",
       "      <td>119.0</td>\n",
       "      <td>0.0</td>\n",
       "      <td>2882.000000</td>\n",
       "      <td>2827.000000</td>\n",
       "      <td>...</td>\n",
       "      <td>99.684654</td>\n",
       "      <td>182.336877</td>\n",
       "      <td>51.760000</td>\n",
       "      <td>146.965446</td>\n",
       "      <td>0.0</td>\n",
       "      <td>0.0</td>\n",
       "      <td>0.0</td>\n",
       "      <td>0.0</td>\n",
       "      <td>0.0</td>\n",
       "      <td>0.411765</td>\n",
       "    </tr>\n",
       "    <tr>\n",
       "      <th>6</th>\n",
       "      <td>0</td>\n",
       "      <td>6</td>\n",
       "      <td>3.0</td>\n",
       "      <td>1773.0</td>\n",
       "      <td>14462.0</td>\n",
       "      <td>1.411765</td>\n",
       "      <td>102.0</td>\n",
       "      <td>144.0</td>\n",
       "      <td>5411.666667</td>\n",
       "      <td>2459.581039</td>\n",
       "      <td>...</td>\n",
       "      <td>116.878539</td>\n",
       "      <td>135.989183</td>\n",
       "      <td>0.000000</td>\n",
       "      <td>0.000000</td>\n",
       "      <td>0.6</td>\n",
       "      <td>0.1</td>\n",
       "      <td>0.0</td>\n",
       "      <td>0.0</td>\n",
       "      <td>0.0</td>\n",
       "      <td>0.353659</td>\n",
       "    </tr>\n",
       "  </tbody>\n",
       "</table>\n",
       "<p>5 rows × 35 columns</p>\n",
       "</div>"
      ],
      "text/plain": [
       "   week  user  ch_num_sessions  ch_time_in_prob_sum  ch_time_in_video_sum  \\\n",
       "1     0     1              7.0                326.0               15525.0   \n",
       "2     0     2              4.0               1224.0               12209.0   \n",
       "4     0     4              4.0               1294.0               12037.0   \n",
       "5     0     5              2.0               1324.0                4440.0   \n",
       "6     0     6              3.0               1773.0               14462.0   \n",
       "\n",
       "   ch_ratio_clicks_weekend_day  ch_total_clicks_weekend  \\\n",
       "1                     5.675000                     40.0   \n",
       "2                   258.000000                      1.0   \n",
       "4                     0.328571                    140.0   \n",
       "5                     0.000000                    119.0   \n",
       "6                     1.411765                    102.0   \n",
       "\n",
       "   ch_total_clicks_weekday  ch_time_sessions_mean  ch_time_sessions_std  ...  \\\n",
       "1                    227.0            1931.285714           1648.472515  ...   \n",
       "2                    258.0            2780.250000           2297.110400  ...   \n",
       "4                     46.0            3043.750000            344.374342  ...   \n",
       "5                      0.0            2882.000000           2827.000000  ...   \n",
       "6                    144.0            5411.666667           2459.581039  ...   \n",
       "\n",
       "   la_seek_len_std  la_pause_dur_std  la_time_speeding_up_mean  \\\n",
       "1       146.564097        188.175709                 65.173554   \n",
       "2        33.419147         39.702700                  0.000000   \n",
       "4       159.612354        228.274335                 67.941176   \n",
       "5        99.684654        182.336877                 51.760000   \n",
       "6       116.878539        135.989183                  0.000000   \n",
       "\n",
       "   la_time_speeding_up_std  la_weekly_prop_watched_mean  \\\n",
       "1               150.807752                          0.6   \n",
       "2                 0.000000                          0.6   \n",
       "4               111.514074                          0.3   \n",
       "5               146.965446                          0.0   \n",
       "6                 0.000000                          0.6   \n",
       "\n",
       "   la_weekly_prop_interrupted_mean  la_weekly_prop_interrupted_std  \\\n",
       "1                              0.1                             0.0   \n",
       "2                              0.0                             0.0   \n",
       "4                              0.0                             0.0   \n",
       "5                              0.0                             0.0   \n",
       "6                              0.1                             0.0   \n",
       "\n",
       "   la_weekly_prop_replayed_mean  la_weekly_prop_replayed_std  \\\n",
       "1                           0.0                          0.0   \n",
       "2                           0.0                          0.0   \n",
       "4                           0.2                          0.0   \n",
       "5                           0.0                          0.0   \n",
       "6                           0.0                          0.0   \n",
       "\n",
       "   la_frequency_action_video_play  \n",
       "1                        0.400749  \n",
       "2                        0.370656  \n",
       "4                        0.252688  \n",
       "5                        0.411765  \n",
       "6                        0.353659  \n",
       "\n",
       "[5 rows x 35 columns]"
      ]
     },
     "metadata": {},
     "output_type": "display_data"
    }
   ],
   "source": [
    "display(ts.head(5))"
   ]
  },
  {
   "attachments": {},
   "cell_type": "markdown",
   "id": "7064a4fa-f32c-4734-89e3-375b6f4cfc19",
   "metadata": {
    "tags": []
   },
   "source": [
    "## Prepare data for classification  "
   ]
  },
  {
   "attachments": {},
   "cell_type": "markdown",
   "id": "6d51e8f1-0122-4cb4-93a9-f8fe343401fa",
   "metadata": {
    "tags": []
   },
   "source": [
    "### Add a pass/fail label "
   ]
  },
  {
   "cell_type": "code",
   "execution_count": 9,
   "id": "2d2c8ff0-317f-4380-9f35-e42f361f4b77",
   "metadata": {
    "id": "b64efa4d-9168-4a0b-85ee-22fd113c8b9d"
   },
   "outputs": [],
   "source": [
    "# We first add a column to the dataframe containing the outcome variable\n",
    "# compute pass/fail label\n",
    "df_lq['passed'] = df_lq.grade >= 4\n",
    "df_lq['passed'] = df_lq['passed'].astype(int)"
   ]
  },
  {
   "attachments": {},
   "cell_type": "markdown",
   "id": "0b9b23c3-7225-49bc-9387-3dc62d13faa8",
   "metadata": {
    "tags": []
   },
   "source": [
    "### Remove \"bad\" features and Split Data"
   ]
  },
  {
   "cell_type": "code",
   "execution_count": 10,
   "id": "684887bc-4bd2-4f8a-959d-4499d586698e",
   "metadata": {},
   "outputs": [],
   "source": [
    "# We then split the data in a train-test split (stratified by the outcome variable)\n",
    "X = df_lq.drop(['user','grade', 'gender', 'category', 'year', 'passed'], axis=1)\n",
    "y = df_lq['passed']\n",
    "X_train, X_val, y_train, y_val = train_test_split(X, y, test_size=0.2, random_state=0, stratify=y) # split train and validation data set"
   ]
  },
  {
   "attachments": {},
   "cell_type": "markdown",
   "id": "43a67d0b-7911-4e0a-b29f-f45fcc5f8814",
   "metadata": {
    "tags": []
   },
   "source": [
    "### Print pass/fail proportions"
   ]
  },
  {
   "cell_type": "code",
   "execution_count": 11,
   "id": "ac037d43-434d-461d-bc2e-c4a7d74213b7",
   "metadata": {},
   "outputs": [
    {
     "name": "stdout",
     "output_type": "stream",
     "text": [
      "1    0.604278\n",
      "0    0.395722\n",
      "Name: passed, dtype: float64\n",
      "1    0.595745\n",
      "0    0.404255\n",
      "Name: passed, dtype: float64\n"
     ]
    }
   ],
   "source": [
    "# The class proportions in train and validation sets are the same, thanks to the stratification on y\n",
    "print(y_train.value_counts(normalize=True))\n",
    "print(y_val.value_counts(normalize=True))"
   ]
  },
  {
   "attachments": {},
   "cell_type": "markdown",
   "id": "8a7900ad-42db-440e-83e7-43e385c4924e",
   "metadata": {
    "tags": []
   },
   "source": [
    "## Define Evaluation Metrics (will see later in the slides)"
   ]
  },
  {
   "cell_type": "code",
   "execution_count": 12,
   "id": "3ebd48f8",
   "metadata": {},
   "outputs": [],
   "source": [
    "def compute_scores(clf, X_train, y_train, X_test, y_test, roundnum = 3):\n",
    "    clf.fit(X_train, y_train)\n",
    "    y_pred = clf.predict(X_test)\n",
    "    accuracy =  balanced_accuracy_score(y_test, y_pred)\n",
    "    \n",
    "    y_pred_proba = clf.predict_proba(X_test)[:,1]\n",
    "    auc = roc_auc_score(y_test, y_pred_proba)\n",
    "    \n",
    "    return round(accuracy,roundnum), round(auc,roundnum)"
   ]
  },
  {
   "attachments": {},
   "cell_type": "markdown",
   "id": "cd9d1de7-823c-4f22-b989-379aa447d38a",
   "metadata": {
    "id": "cd9d1de7-823c-4f22-b989-379aa447d38a",
    "tags": []
   },
   "source": [
    "# Section 2: Decision Trees"
   ]
  },
  {
   "attachments": {},
   "cell_type": "markdown",
   "id": "54a5f0d7-f032-4b51-b640-79127de96bd9",
   "metadata": {
    "id": "54a5f0d7-f032-4b51-b640-79127de96bd9",
    "tags": []
   },
   "source": [
    "### Compute a decision tree of max depth 2  over all the features"
   ]
  },
  {
   "cell_type": "code",
   "execution_count": 13,
   "id": "b0afd964-6041-4e43-a146-4a404f6f38cf",
   "metadata": {
    "id": "b0afd964-6041-4e43-a146-4a404f6f38cf",
    "outputId": "a884b797-9903-4529-bda6-c19141e9eac7"
   },
   "outputs": [
    {
     "name": "stdout",
     "output_type": "stream",
     "text": [
      "Decision tree. Balanced Accuracy = 0.577, AUC = 0.602\n"
     ]
    }
   ],
   "source": [
    "clf = tree.DecisionTreeClassifier(max_depth=2, random_state=0, criterion='entropy')\n",
    "accuracy, auc = compute_scores(clf, X_train, y_train, X_val, y_val)\n",
    "print(\"Decision tree. Balanced Accuracy = {}, AUC = {}\".format(accuracy, auc))"
   ]
  },
  {
   "attachments": {},
   "cell_type": "markdown",
   "id": "d9c3ba35-b635-45b1-920e-6e597301652a",
   "metadata": {
    "tags": []
   },
   "source": [
    "### Visualize the decision tree"
   ]
  },
  {
   "cell_type": "code",
   "execution_count": 14,
   "id": "b30c10e2-f8e9-4ec9-8923-67f023f47e8c",
   "metadata": {
    "id": "b30c10e2-f8e9-4ec9-8923-67f023f47e8c",
    "outputId": "a0ecb3bd-b465-4ffc-c7d9-c3aa584171fc"
   },
   "outputs": [
    {
     "data": {
      "image/png": "[encoded data removed]",
      "text/plain": [
       "<Figure size 2000x1000 with 1 Axes>"
      ]
     },
     "metadata": {},
     "output_type": "display_data"
    }
   ],
   "source": [
    "plt.figure(figsize=(20, 10))\n",
    "tree.plot_tree(clf, feature_names=X_train.columns);"
   ]
  },
  {
   "attachments": {},
   "cell_type": "markdown",
   "id": "b8177e5e-5be7-4bb5-a091-66fe5ab51b72",
   "metadata": {
    "id": "b8177e5e-5be7-4bb5-a091-66fe5ab51b72",
    "tags": []
   },
   "source": [
    "### Does depth improves perfromance ?"
   ]
  },
  {
   "cell_type": "code",
   "execution_count": 15,
   "id": "4ce41360-e3a9-4f60-b56d-e79e47d330be",
   "metadata": {},
   "outputs": [
    {
     "data": {
      "image/png": "[encoded data removed]",
      "text/plain": [
       "<Figure size 640x480 with 1 Axes>"
      ]
     },
     "metadata": {},
     "output_type": "display_data"
    }
   ],
   "source": [
    "# We can change the max depth\n",
    "accuracy_list = []\n",
    "auc_list = []\n",
    "for depth in range(1,len(X_train.columns)):\n",
    "    clf = tree.DecisionTreeClassifier(max_depth=depth, random_state=0, criterion='entropy')\n",
    "    accuracy, auc = compute_scores(clf, X_train, y_train, X_val, y_val)\n",
    "    accuracy_list.append(accuracy)\n",
    "    auc_list.append(auc)\n",
    "    # print(\"Decision tree. Depth = {}, Balanced Accuracy = {}, AUC = {}\".format(depth, accuracy, auc))\n",
    "x = list(range(1,len(X_train.columns)))\n",
    "plt.plot(x, accuracy_list, 'r', label = 'accuray')\n",
    "plt.plot(x, auc_list, 'b', label = 'auc')\n",
    "plt.xlabel(\"Decision tree Depth\")\n",
    "plt.ylabel(\"EvaluationMetrics\")\n",
    "plt.ylim([0,1])\n",
    "plt.legend()\n",
    "plt.show()"
   ]
  },
  {
   "attachments": {},
   "cell_type": "markdown",
   "id": "2473100f-6ae4-40d4-9849-9614c94c252e",
   "metadata": {
    "tags": []
   },
   "source": [
    "# Section 3: Random Forests"
   ]
  },
  {
   "attachments": {},
   "cell_type": "markdown",
   "id": "b75cf7a0-0401-49c4-a9f3-341122fd35c8",
   "metadata": {
    "id": "b75cf7a0-0401-49c4-a9f3-341122fd35c8"
   },
   "source": [
    "Next, we will use a random forest classifier instead of a decision tree."
   ]
  },
  {
   "cell_type": "code",
   "execution_count": 16,
   "id": "79d11e43-26cd-45e7-bab3-9a297328ca6e",
   "metadata": {
    "id": "79d11e43-26cd-45e7-bab3-9a297328ca6e",
    "outputId": "144cea19-fe5f-4931-8614-ad23b0cdc956"
   },
   "outputs": [
    {
     "name": "stdout",
     "output_type": "stream",
     "text": [
      "Random Forest. Balanced Accuracy = 0.507, AUC = 0.604\n"
     ]
    }
   ],
   "source": [
    "rf = RandomForestClassifier(n_estimators=100, random_state=0, criterion='entropy') # create a Random Forest\n",
    "accuracy, auc = compute_scores(rf, X_train, y_train, X_val, y_val)\n",
    "print(\"Random Forest. Balanced Accuracy = {}, AUC = {}\".format(accuracy, auc))"
   ]
  },
  {
   "attachments": {},
   "cell_type": "markdown",
   "id": "69a82e9c-1c1c-4803-84b4-f15a2b159d6e",
   "metadata": {
    "id": "69a82e9c-1c1c-4803-84b4-f15a2b159d6e"
   },
   "source": [
    "For a single tree, in fact, keeping a low depth is necessary to avoid overfitting and to reduce the variance. Random forests, instead, can have a higher depth, and consequently a lower bias, since the variance is reduced in the aggregation step."
   ]
  },
  {
   "attachments": {},
   "cell_type": "markdown",
   "id": "66b573c2-5039-46fe-a23c-11630c2dcba7",
   "metadata": {},
   "source": [
    "In this case, decision trees seem to perform better than random forests. A reason for this behavior could be that the single tree is already very \"stable\", i.e. it will change a little in response to little changes in the data. If this was the case, the submodels in the ensemble forest would be all very similar to the single tree, if they were allowed to choose among all the features at every split. Since, though, only a random subset of features is considered at each split, some subtrees would choose bad splits and have overall bad performances."
   ]
  },
  {
   "attachments": {},
   "cell_type": "markdown",
   "id": "ab55d1b1-e75d-4299-801f-9c59c60c9ea2",
   "metadata": {
    "id": "742c3c3f-4c79-412a-8db4-e4e56134ff20",
    "tags": []
   },
   "source": [
    "# Section 4: K-Nearest Neighbors"
   ]
  },
  {
   "attachments": {},
   "cell_type": "markdown",
   "id": "4d6b4c9e-be3a-4d40-bc69-3f927298dc1a",
   "metadata": {
    "tags": []
   },
   "source": [
    "We only use the euclidean distance since all our features are numerical"
   ]
  },
  {
   "cell_type": "code",
   "execution_count": 17,
   "id": "b0bc64a8-c652-4732-af20-9d8123497106",
   "metadata": {},
   "outputs": [
    {
     "data": {
      "text/plain": [
       "array([[   0. ,  181.9,  932.5, ..., 1821.3, 1884.6, 2220.8],\n",
       "       [ 181.9,    0. ,  750.6, ..., 1639.4, 2066.5, 2402.7],\n",
       "       [ 932.5,  750.6,    0. , ...,  888.8, 2817.1, 3153.3],\n",
       "       ...,\n",
       "       [1821.3, 1639.4,  888.8, ...,    0. , 3705.9, 4042.1],\n",
       "       [1884.6, 2066.5, 2817.1, ..., 3705.9,    0. ,  336.2],\n",
       "       [2220.8, 2402.7, 3153.3, ..., 4042.1,  336.2,    0. ]])"
      ]
     },
     "execution_count": 17,
     "metadata": {},
     "output_type": "execute_result"
    }
   ],
   "source": [
    "feature = 'ch_time_in_prob_sum'\n",
    "\n",
    "# Compute the pairwise distance matrix for all the elements of the training set\n",
    "X_train_dist = squareform(pdist(X_train[feature].to_numpy().reshape(-1,1), metric='euclidean'))\n",
    "\n",
    "# Compute the distance between all elements of the training set and of the validation set\n",
    "X_val_dist = cdist(X_val[feature].to_numpy().reshape(-1,1), X_train[feature].to_numpy().reshape(-1,1), metric='euclidean')\n",
    "\n",
    "X_train_dist"
   ]
  },
  {
   "cell_type": "code",
   "execution_count": 18,
   "id": "8adbc4a0-5bf6-4306-9c05-59f85fd5aae1",
   "metadata": {},
   "outputs": [
    {
     "name": "stdout",
     "output_type": "stream",
     "text": [
      "Training set size: (187, 33)\n",
      "Validation set size: (47, 33)\n",
      "Training pairwise distances size: (187, 187)\n",
      "Validation distances size: (47, 187)\n"
     ]
    }
   ],
   "source": [
    "print('Training set size:', X_train.shape)\n",
    "print('Validation set size:', X_val.shape)\n",
    "print('Training pairwise distances size:', X_train_dist.shape)\n",
    "print('Validation distances size:', X_val_dist.shape)"
   ]
  },
  {
   "cell_type": "code",
   "execution_count": 19,
   "id": "cf00c348-18a8-4968-9b35-61e2168c168f",
   "metadata": {},
   "outputs": [
    {
     "name": "stdout",
     "output_type": "stream",
     "text": [
      "k-nearest neighbors. Balanced Accuracy = 0.533, AUC = 0.548\n"
     ]
    }
   ],
   "source": [
    "knn = KNeighborsClassifier(n_neighbors=5, metric='precomputed')\n",
    "\n",
    "accuracy, auc = compute_scores(knn, X_train_dist, y_train, X_val_dist, y_val)\n",
    "print(\"k-nearest neighbors. Balanced Accuracy = {}, AUC = {}\".format(accuracy, auc))"
   ]
  },
  {
   "attachments": {},
   "cell_type": "markdown",
   "id": "4d9c8076-f4d2-4b39-bd4c-6146a05387f2",
   "metadata": {
    "tags": []
   },
   "source": [
    "# Section 5: Logistic regression"
   ]
  },
  {
   "attachments": {},
   "cell_type": "markdown",
   "id": "e19a754c-dd4a-40a8-a57b-2871de1885b3",
   "metadata": {
    "id": "e19a754c-dd4a-40a8-a57b-2871de1885b3",
    "tags": []
   },
   "source": [
    "We normalize the data data using the MinMaxScaler such that all the features are on the same scale."
   ]
  },
  {
   "cell_type": "code",
   "execution_count": 20,
   "id": "4a07ec97-4863-4719-afec-bb70752e81a5",
   "metadata": {},
   "outputs": [
    {
     "name": "stdout",
     "output_type": "stream",
     "text": [
      "Logistic Regression. Balanced Accuracy = 0.577, AUC = 0.626\n"
     ]
    }
   ],
   "source": [
    "scaler = MinMaxScaler()\n",
    "scaler.fit(X_train)\n",
    "\n",
    "X_train_scaled = scaler.transform(X_train)\n",
    "X_val_scaled  = scaler.transform(X_val)\n",
    "\n",
    "clf = LogisticRegression(random_state=0)\n",
    "accuracy, auc = compute_scores(clf, X_train_scaled, y_train, X_val_scaled, y_val)\n",
    "print(\"Logistic Regression. Balanced Accuracy = {}, AUC = {}\".format(accuracy, auc))"
   ]
  },
  {
   "attachments": {},
   "cell_type": "markdown",
   "id": "30402283-c3a5-4a5b-9b2a-1ead4d045d5a",
   "metadata": {
    "id": "30402283-c3a5-4a5b-9b2a-1ead4d045d5a",
    "tags": []
   },
   "source": [
    "# Section 6: Time Series - Your Turn"
   ]
  },
  {
   "attachments": {},
   "cell_type": "markdown",
   "id": "c2e35fc4-20c8-44f6-b64b-5ca9aad8340a",
   "metadata": {
    "id": "c2e35fc4-20c8-44f6-b64b-5ca9aad8340a"
   },
   "source": [
    "Build a classifier that can predict whether students pass the course after half of the course (5 weeks). You will need to use the data frame **ts** for this task. You can use kNN, RF, or decision tree. Train your model on the training data and predict on the test data."
   ]
  },
  {
   "attachments": {},
   "cell_type": "markdown",
   "id": "def862b2-afb5-42c7-8db5-0fc8d5b1103a",
   "metadata": {
    "id": "def862b2-afb5-42c7-8db5-0fc8d5b1103a"
   },
   "source": [
    "We first drop all the weeks before week 5 and then perform the train/test split."
   ]
  },
  {
   "cell_type": "code",
   "execution_count": 21,
   "id": "f14c1778",
   "metadata": {},
   "outputs": [],
   "source": [
    "ts.set_index(['user', 'week'], inplace=True)"
   ]
  },
  {
   "cell_type": "code",
   "execution_count": 22,
   "id": "a3edb144-3635-4b2d-ab77-94cdf8b4c2f8",
   "metadata": {},
   "outputs": [],
   "source": [
    "# Consider only data up to the 5th week\n",
    "#ts = ts[ts.week <= 5]\n",
    "# If week is an index:\n",
    "ts = ts.loc[ts.index.get_level_values('week') <= 5]"
   ]
  },
  {
   "cell_type": "code",
   "execution_count": 23,
   "id": "0b9579c2",
   "metadata": {},
   "outputs": [],
   "source": [
    "# get max week value\n",
    "# max_week = ts.index.get_level_values('week').max()\n",
    "# max_week"
   ]
  },
  {
   "cell_type": "code",
   "execution_count": 24,
   "id": "b86c3c07-c2b5-4b35-b8d9-e44aecb3ef73",
   "metadata": {},
   "outputs": [],
   "source": [
    "# Train-test split done on the users, so that all the rows corresponding to one user go into the same set.\n",
    "# users = ts.user.unique()\n",
    "# if user is an index:\n",
    "users = ts.index.get_level_values('user').unique()\n",
    "y = df_lq.set_index('user').passed\n",
    "users_train, users_val, y_train, y_val = train_test_split(users, y, test_size=0.2, random_state=0, stratify=y)\n",
    "\n",
    "# X_train = ts[ts.user.isin(users_train)]\n",
    "# X_val = ts[ts.user.isin(users_val)]\n",
    "\n",
    "# if user is an index:\n",
    "X_train = ts.loc[ts.index.get_level_values('user').isin(users_train)]\n",
    "X_val = ts.loc[ts.index.get_level_values('user').isin(users_val)]"
   ]
  },
  {
   "cell_type": "code",
   "execution_count": 25,
   "id": "b4951177-aa43-4e4b-9b39-b8efa2042c4a",
   "metadata": {},
   "outputs": [],
   "source": [
    "# Sort indexes to make label arrays consistent with the data\n",
    "y_train = y_train.sort_index()\n",
    "y_val = y_val.sort_index()"
   ]
  },
  {
   "cell_type": "code",
   "execution_count": 26,
   "id": "f126c7d2",
   "metadata": {},
   "outputs": [],
   "source": [
    "# print all rows of user 2 in X_train\n",
    "# X_train.loc[2]\n",
    "# print week 2 of user 2 in X_train\n",
    "# X_train.loc[(2,2)].to_frame().T"
   ]
  },
  {
   "cell_type": "code",
   "execution_count": 27,
   "id": "051b0c8d",
   "metadata": {},
   "outputs": [],
   "source": [
    "# print all rows that have week 2\n",
    "# X_train.loc[(slice(None),2),:]"
   ]
  },
  {
   "cell_type": "code",
   "execution_count": 28,
   "id": "610d7ecb",
   "metadata": {},
   "outputs": [],
   "source": [
    "# print all rows of users between 2 - 10\n",
    "# X_train.sort_index(level=['user','week']).loc[(slice(2,10),slice(None)),:]"
   ]
  },
  {
   "cell_type": "code",
   "execution_count": 36,
   "id": "b5c94cdf",
   "metadata": {},
   "outputs": [
    {
     "data": {
      "text/html": [
       "<div>\n",
       "<style scoped>\n",
       "    .dataframe tbody tr th:only-of-type {\n",
       "        vertical-align: middle;\n",
       "    }\n",
       "\n",
       "    .dataframe tbody tr th {\n",
       "        vertical-align: top;\n",
       "    }\n",
       "\n",
       "    .dataframe thead th {\n",
       "        text-align: right;\n",
       "    }\n",
       "</style>\n",
       "<table border=\"1\" class=\"dataframe\">\n",
       "  <thead>\n",
       "    <tr style=\"text-align: right;\">\n",
       "      <th></th>\n",
       "      <th></th>\n",
       "      <th>ch_num_sessions</th>\n",
       "      <th>ch_time_in_prob_sum</th>\n",
       "      <th>ch_time_in_video_sum</th>\n",
       "      <th>ch_ratio_clicks_weekend_day</th>\n",
       "      <th>ch_total_clicks_weekend</th>\n",
       "      <th>ch_total_clicks_weekday</th>\n",
       "      <th>ch_time_sessions_mean</th>\n",
       "      <th>ch_time_sessions_std</th>\n",
       "      <th>bo_delay_lecture</th>\n",
       "      <th>bo_reg_peak_dayhour</th>\n",
       "      <th>...</th>\n",
       "      <th>la_seek_len_std</th>\n",
       "      <th>la_pause_dur_std</th>\n",
       "      <th>la_time_speeding_up_mean</th>\n",
       "      <th>la_time_speeding_up_std</th>\n",
       "      <th>la_weekly_prop_watched_mean</th>\n",
       "      <th>la_weekly_prop_interrupted_mean</th>\n",
       "      <th>la_weekly_prop_interrupted_std</th>\n",
       "      <th>la_weekly_prop_replayed_mean</th>\n",
       "      <th>la_weekly_prop_replayed_std</th>\n",
       "      <th>la_frequency_action_video_play</th>\n",
       "    </tr>\n",
       "    <tr>\n",
       "      <th>user</th>\n",
       "      <th>week</th>\n",
       "      <th></th>\n",
       "      <th></th>\n",
       "      <th></th>\n",
       "      <th></th>\n",
       "      <th></th>\n",
       "      <th></th>\n",
       "      <th></th>\n",
       "      <th></th>\n",
       "      <th></th>\n",
       "      <th></th>\n",
       "      <th></th>\n",
       "      <th></th>\n",
       "      <th></th>\n",
       "      <th></th>\n",
       "      <th></th>\n",
       "      <th></th>\n",
       "      <th></th>\n",
       "      <th></th>\n",
       "      <th></th>\n",
       "      <th></th>\n",
       "      <th></th>\n",
       "    </tr>\n",
       "  </thead>\n",
       "  <tbody>\n",
       "    <tr>\n",
       "      <th>171</th>\n",
       "      <th>5</th>\n",
       "      <td>4.0</td>\n",
       "      <td>4067.0</td>\n",
       "      <td>14880.0</td>\n",
       "      <td>0.915789</td>\n",
       "      <td>95.0</td>\n",
       "      <td>87.0</td>\n",
       "      <td>4201.000000</td>\n",
       "      <td>2071.517439</td>\n",
       "      <td>0.00</td>\n",
       "      <td>58.239692</td>\n",
       "      <td>...</td>\n",
       "      <td>0.000000</td>\n",
       "      <td>368.860615</td>\n",
       "      <td>0.000000</td>\n",
       "      <td>0.000000</td>\n",
       "      <td>0.000</td>\n",
       "      <td>0.000</td>\n",
       "      <td>0.0</td>\n",
       "      <td>0.000</td>\n",
       "      <td>0.0</td>\n",
       "      <td>0.335165</td>\n",
       "    </tr>\n",
       "    <tr>\n",
       "      <th>173</th>\n",
       "      <th>5</th>\n",
       "      <td>4.0</td>\n",
       "      <td>4622.0</td>\n",
       "      <td>15905.0</td>\n",
       "      <td>1.154839</td>\n",
       "      <td>155.0</td>\n",
       "      <td>179.0</td>\n",
       "      <td>5131.750000</td>\n",
       "      <td>2324.243896</td>\n",
       "      <td>-197502.00</td>\n",
       "      <td>204.796087</td>\n",
       "      <td>...</td>\n",
       "      <td>28.627853</td>\n",
       "      <td>135.593420</td>\n",
       "      <td>0.000000</td>\n",
       "      <td>0.000000</td>\n",
       "      <td>0.375</td>\n",
       "      <td>0.125</td>\n",
       "      <td>0.0</td>\n",
       "      <td>0.000</td>\n",
       "      <td>0.0</td>\n",
       "      <td>0.404192</td>\n",
       "    </tr>\n",
       "    <tr>\n",
       "      <th>174</th>\n",
       "      <th>5</th>\n",
       "      <td>2.0</td>\n",
       "      <td>124.0</td>\n",
       "      <td>8319.0</td>\n",
       "      <td>1.671875</td>\n",
       "      <td>64.0</td>\n",
       "      <td>107.0</td>\n",
       "      <td>4221.500000</td>\n",
       "      <td>1890.500000</td>\n",
       "      <td>-166341.00</td>\n",
       "      <td>308.242002</td>\n",
       "      <td>...</td>\n",
       "      <td>0.000000</td>\n",
       "      <td>162.285119</td>\n",
       "      <td>0.000000</td>\n",
       "      <td>0.000000</td>\n",
       "      <td>0.500</td>\n",
       "      <td>0.000</td>\n",
       "      <td>0.0</td>\n",
       "      <td>0.000</td>\n",
       "      <td>0.0</td>\n",
       "      <td>0.450292</td>\n",
       "    </tr>\n",
       "    <tr>\n",
       "      <th>175</th>\n",
       "      <th>5</th>\n",
       "      <td>0.0</td>\n",
       "      <td>0.0</td>\n",
       "      <td>83.0</td>\n",
       "      <td>0.000000</td>\n",
       "      <td>0.0</td>\n",
       "      <td>2.0</td>\n",
       "      <td>0.000000</td>\n",
       "      <td>0.000000</td>\n",
       "      <td>0.00</td>\n",
       "      <td>2.484907</td>\n",
       "      <td>...</td>\n",
       "      <td>0.000000</td>\n",
       "      <td>0.000000</td>\n",
       "      <td>0.000000</td>\n",
       "      <td>0.000000</td>\n",
       "      <td>0.000</td>\n",
       "      <td>0.000</td>\n",
       "      <td>0.0</td>\n",
       "      <td>0.000</td>\n",
       "      <td>0.0</td>\n",
       "      <td>0.000000</td>\n",
       "    </tr>\n",
       "    <tr>\n",
       "      <th>176</th>\n",
       "      <th>5</th>\n",
       "      <td>2.0</td>\n",
       "      <td>2720.0</td>\n",
       "      <td>2371.0</td>\n",
       "      <td>0.000000</td>\n",
       "      <td>0.0</td>\n",
       "      <td>180.0</td>\n",
       "      <td>2545.500000</td>\n",
       "      <td>1675.500000</td>\n",
       "      <td>41463.50</td>\n",
       "      <td>354.480350</td>\n",
       "      <td>...</td>\n",
       "      <td>57.351391</td>\n",
       "      <td>62.702552</td>\n",
       "      <td>0.000000</td>\n",
       "      <td>0.000000</td>\n",
       "      <td>0.500</td>\n",
       "      <td>0.000</td>\n",
       "      <td>0.0</td>\n",
       "      <td>0.125</td>\n",
       "      <td>0.0</td>\n",
       "      <td>0.272222</td>\n",
       "    </tr>\n",
       "    <tr>\n",
       "      <th>...</th>\n",
       "      <th>...</th>\n",
       "      <td>...</td>\n",
       "      <td>...</td>\n",
       "      <td>...</td>\n",
       "      <td>...</td>\n",
       "      <td>...</td>\n",
       "      <td>...</td>\n",
       "      <td>...</td>\n",
       "      <td>...</td>\n",
       "      <td>...</td>\n",
       "      <td>...</td>\n",
       "      <td>...</td>\n",
       "      <td>...</td>\n",
       "      <td>...</td>\n",
       "      <td>...</td>\n",
       "      <td>...</td>\n",
       "      <td>...</td>\n",
       "      <td>...</td>\n",
       "      <td>...</td>\n",
       "      <td>...</td>\n",
       "      <td>...</td>\n",
       "      <td>...</td>\n",
       "    </tr>\n",
       "    <tr>\n",
       "      <th>280</th>\n",
       "      <th>5</th>\n",
       "      <td>8.0</td>\n",
       "      <td>10997.0</td>\n",
       "      <td>11569.0</td>\n",
       "      <td>0.752941</td>\n",
       "      <td>170.0</td>\n",
       "      <td>128.0</td>\n",
       "      <td>2087.375000</td>\n",
       "      <td>2697.735344</td>\n",
       "      <td>0.00</td>\n",
       "      <td>129.378816</td>\n",
       "      <td>...</td>\n",
       "      <td>0.000000</td>\n",
       "      <td>309.562501</td>\n",
       "      <td>59.897541</td>\n",
       "      <td>246.154360</td>\n",
       "      <td>0.000</td>\n",
       "      <td>0.000</td>\n",
       "      <td>0.0</td>\n",
       "      <td>0.000</td>\n",
       "      <td>0.0</td>\n",
       "      <td>0.365772</td>\n",
       "    </tr>\n",
       "    <tr>\n",
       "      <th>281</th>\n",
       "      <th>5</th>\n",
       "      <td>1.0</td>\n",
       "      <td>413.0</td>\n",
       "      <td>3116.0</td>\n",
       "      <td>0.000000</td>\n",
       "      <td>0.0</td>\n",
       "      <td>159.0</td>\n",
       "      <td>3529.000000</td>\n",
       "      <td>0.000000</td>\n",
       "      <td>-103262.25</td>\n",
       "      <td>438.536651</td>\n",
       "      <td>...</td>\n",
       "      <td>23.858084</td>\n",
       "      <td>0.000000</td>\n",
       "      <td>27.515873</td>\n",
       "      <td>67.658777</td>\n",
       "      <td>1.000</td>\n",
       "      <td>0.000</td>\n",
       "      <td>0.0</td>\n",
       "      <td>0.000</td>\n",
       "      <td>0.0</td>\n",
       "      <td>0.320755</td>\n",
       "    </tr>\n",
       "    <tr>\n",
       "      <th>285</th>\n",
       "      <th>5</th>\n",
       "      <td>1.0</td>\n",
       "      <td>1822.0</td>\n",
       "      <td>3884.0</td>\n",
       "      <td>0.000000</td>\n",
       "      <td>0.0</td>\n",
       "      <td>36.0</td>\n",
       "      <td>3954.000000</td>\n",
       "      <td>0.000000</td>\n",
       "      <td>-28822.40</td>\n",
       "      <td>43.061514</td>\n",
       "      <td>...</td>\n",
       "      <td>0.000000</td>\n",
       "      <td>0.000000</td>\n",
       "      <td>0.000000</td>\n",
       "      <td>0.000000</td>\n",
       "      <td>0.625</td>\n",
       "      <td>0.000</td>\n",
       "      <td>0.0</td>\n",
       "      <td>0.000</td>\n",
       "      <td>0.0</td>\n",
       "      <td>0.000000</td>\n",
       "    </tr>\n",
       "    <tr>\n",
       "      <th>286</th>\n",
       "      <th>5</th>\n",
       "      <td>2.0</td>\n",
       "      <td>1951.0</td>\n",
       "      <td>3658.0</td>\n",
       "      <td>0.000000</td>\n",
       "      <td>0.0</td>\n",
       "      <td>79.0</td>\n",
       "      <td>2804.500000</td>\n",
       "      <td>852.500000</td>\n",
       "      <td>-25756.00</td>\n",
       "      <td>80.995061</td>\n",
       "      <td>...</td>\n",
       "      <td>3.977456</td>\n",
       "      <td>300.468523</td>\n",
       "      <td>79.000000</td>\n",
       "      <td>178.463376</td>\n",
       "      <td>0.500</td>\n",
       "      <td>0.000</td>\n",
       "      <td>0.0</td>\n",
       "      <td>0.000</td>\n",
       "      <td>0.0</td>\n",
       "      <td>0.215190</td>\n",
       "    </tr>\n",
       "    <tr>\n",
       "      <th>291</th>\n",
       "      <th>5</th>\n",
       "      <td>3.0</td>\n",
       "      <td>10837.0</td>\n",
       "      <td>4787.0</td>\n",
       "      <td>0.000000</td>\n",
       "      <td>95.0</td>\n",
       "      <td>0.0</td>\n",
       "      <td>4526.333333</td>\n",
       "      <td>4238.996763</td>\n",
       "      <td>0.00</td>\n",
       "      <td>65.267220</td>\n",
       "      <td>...</td>\n",
       "      <td>0.000000</td>\n",
       "      <td>28.563688</td>\n",
       "      <td>72.048387</td>\n",
       "      <td>167.563318</td>\n",
       "      <td>0.000</td>\n",
       "      <td>0.000</td>\n",
       "      <td>0.0</td>\n",
       "      <td>0.000</td>\n",
       "      <td>0.0</td>\n",
       "      <td>0.284211</td>\n",
       "    </tr>\n",
       "  </tbody>\n",
       "</table>\n",
       "<p>80 rows × 33 columns</p>\n",
       "</div>"
      ],
      "text/plain": [
       "           ch_num_sessions  ch_time_in_prob_sum  ch_time_in_video_sum  \\\n",
       "user week                                                               \n",
       "171  5                 4.0               4067.0               14880.0   \n",
       "173  5                 4.0               4622.0               15905.0   \n",
       "174  5                 2.0                124.0                8319.0   \n",
       "175  5                 0.0                  0.0                  83.0   \n",
       "176  5                 2.0               2720.0                2371.0   \n",
       "...                    ...                  ...                   ...   \n",
       "280  5                 8.0              10997.0               11569.0   \n",
       "281  5                 1.0                413.0                3116.0   \n",
       "285  5                 1.0               1822.0                3884.0   \n",
       "286  5                 2.0               1951.0                3658.0   \n",
       "291  5                 3.0              10837.0                4787.0   \n",
       "\n",
       "           ch_ratio_clicks_weekend_day  ch_total_clicks_weekend  \\\n",
       "user week                                                         \n",
       "171  5                        0.915789                     95.0   \n",
       "173  5                        1.154839                    155.0   \n",
       "174  5                        1.671875                     64.0   \n",
       "175  5                        0.000000                      0.0   \n",
       "176  5                        0.000000                      0.0   \n",
       "...                                ...                      ...   \n",
       "280  5                        0.752941                    170.0   \n",
       "281  5                        0.000000                      0.0   \n",
       "285  5                        0.000000                      0.0   \n",
       "286  5                        0.000000                      0.0   \n",
       "291  5                        0.000000                     95.0   \n",
       "\n",
       "           ch_total_clicks_weekday  ch_time_sessions_mean  \\\n",
       "user week                                                   \n",
       "171  5                        87.0            4201.000000   \n",
       "173  5                       179.0            5131.750000   \n",
       "174  5                       107.0            4221.500000   \n",
       "175  5                         2.0               0.000000   \n",
       "176  5                       180.0            2545.500000   \n",
       "...                            ...                    ...   \n",
       "280  5                       128.0            2087.375000   \n",
       "281  5                       159.0            3529.000000   \n",
       "285  5                        36.0            3954.000000   \n",
       "286  5                        79.0            2804.500000   \n",
       "291  5                         0.0            4526.333333   \n",
       "\n",
       "           ch_time_sessions_std  bo_delay_lecture  bo_reg_peak_dayhour  ...  \\\n",
       "user week                                                               ...   \n",
       "171  5              2071.517439              0.00            58.239692  ...   \n",
       "173  5              2324.243896        -197502.00           204.796087  ...   \n",
       "174  5              1890.500000        -166341.00           308.242002  ...   \n",
       "175  5                 0.000000              0.00             2.484907  ...   \n",
       "176  5              1675.500000          41463.50           354.480350  ...   \n",
       "...                         ...               ...                  ...  ...   \n",
       "280  5              2697.735344              0.00           129.378816  ...   \n",
       "281  5                 0.000000        -103262.25           438.536651  ...   \n",
       "285  5                 0.000000         -28822.40            43.061514  ...   \n",
       "286  5               852.500000         -25756.00            80.995061  ...   \n",
       "291  5              4238.996763              0.00            65.267220  ...   \n",
       "\n",
       "           la_seek_len_std  la_pause_dur_std  la_time_speeding_up_mean  \\\n",
       "user week                                                                \n",
       "171  5            0.000000        368.860615                  0.000000   \n",
       "173  5           28.627853        135.593420                  0.000000   \n",
       "174  5            0.000000        162.285119                  0.000000   \n",
       "175  5            0.000000          0.000000                  0.000000   \n",
       "176  5           57.351391         62.702552                  0.000000   \n",
       "...                    ...               ...                       ...   \n",
       "280  5            0.000000        309.562501                 59.897541   \n",
       "281  5           23.858084          0.000000                 27.515873   \n",
       "285  5            0.000000          0.000000                  0.000000   \n",
       "286  5            3.977456        300.468523                 79.000000   \n",
       "291  5            0.000000         28.563688                 72.048387   \n",
       "\n",
       "           la_time_speeding_up_std  la_weekly_prop_watched_mean  \\\n",
       "user week                                                         \n",
       "171  5                    0.000000                        0.000   \n",
       "173  5                    0.000000                        0.375   \n",
       "174  5                    0.000000                        0.500   \n",
       "175  5                    0.000000                        0.000   \n",
       "176  5                    0.000000                        0.500   \n",
       "...                            ...                          ...   \n",
       "280  5                  246.154360                        0.000   \n",
       "281  5                   67.658777                        1.000   \n",
       "285  5                    0.000000                        0.625   \n",
       "286  5                  178.463376                        0.500   \n",
       "291  5                  167.563318                        0.000   \n",
       "\n",
       "           la_weekly_prop_interrupted_mean  la_weekly_prop_interrupted_std  \\\n",
       "user week                                                                    \n",
       "171  5                               0.000                             0.0   \n",
       "173  5                               0.125                             0.0   \n",
       "174  5                               0.000                             0.0   \n",
       "175  5                               0.000                             0.0   \n",
       "176  5                               0.000                             0.0   \n",
       "...                                    ...                             ...   \n",
       "280  5                               0.000                             0.0   \n",
       "281  5                               0.000                             0.0   \n",
       "285  5                               0.000                             0.0   \n",
       "286  5                               0.000                             0.0   \n",
       "291  5                               0.000                             0.0   \n",
       "\n",
       "           la_weekly_prop_replayed_mean  la_weekly_prop_replayed_std  \\\n",
       "user week                                                              \n",
       "171  5                            0.000                          0.0   \n",
       "173  5                            0.000                          0.0   \n",
       "174  5                            0.000                          0.0   \n",
       "175  5                            0.000                          0.0   \n",
       "176  5                            0.125                          0.0   \n",
       "...                                 ...                          ...   \n",
       "280  5                            0.000                          0.0   \n",
       "281  5                            0.000                          0.0   \n",
       "285  5                            0.000                          0.0   \n",
       "286  5                            0.000                          0.0   \n",
       "291  5                            0.000                          0.0   \n",
       "\n",
       "           la_frequency_action_video_play  \n",
       "user week                                  \n",
       "171  5                           0.335165  \n",
       "173  5                           0.404192  \n",
       "174  5                           0.450292  \n",
       "175  5                           0.000000  \n",
       "176  5                           0.272222  \n",
       "...                                   ...  \n",
       "280  5                           0.365772  \n",
       "281  5                           0.320755  \n",
       "285  5                           0.000000  \n",
       "286  5                           0.215190  \n",
       "291  5                           0.284211  \n",
       "\n",
       "[80 rows x 33 columns]"
      ]
     },
     "metadata": {},
     "output_type": "display_data"
    },
    {
     "data": {
      "text/plain": [
       "(1122, 33)"
      ]
     },
     "metadata": {},
     "output_type": "display_data"
    },
    {
     "data": {
      "text/plain": [
       "935"
      ]
     },
     "metadata": {},
     "output_type": "display_data"
    },
    {
     "data": {
      "text/plain": [
       "user\n",
       "280    1\n",
       "281    1\n",
       "285    1\n",
       "286    1\n",
       "291    1\n",
       "Name: passed, dtype: int64"
      ]
     },
     "metadata": {},
     "output_type": "display_data"
    },
    {
     "data": {
      "text/plain": [
       "True"
      ]
     },
     "execution_count": 36,
     "metadata": {},
     "output_type": "execute_result"
    }
   ],
   "source": [
    "users_in_X_train = X_train.index.get_level_values('user').unique()\n",
    "# users_in_X_train = X_train.user.unique()\n",
    "\n",
    "display(X_train[-80:], X_train.shape, len(users_in_X_train)*5)\n",
    "display(y_train[-5:])\n",
    "\n",
    "# check if the order of the users is the same in the two dataframes\n",
    "np.all(users_in_X_train == y_train.index)"
   ]
  },
  {
   "attachments": {},
   "cell_type": "markdown",
   "id": "842e0147-75fe-45e2-bae6-1c79e85fe0ed",
   "metadata": {
    "tags": []
   },
   "source": [
    "### Decision tree/Random forest\n",
    "For decision tree and RF, we need to aggregate the features to be able to feed them directly in the mode. We use the mean as an aggregation function."
   ]
  },
  {
   "cell_type": "code",
   "execution_count": 39,
   "id": "3f49943b-fb15-4cce-b354-f538808329ca",
   "metadata": {},
   "outputs": [
    {
     "data": {
      "text/html": [
       "<div>\n",
       "<style scoped>\n",
       "    .dataframe tbody tr th:only-of-type {\n",
       "        vertical-align: middle;\n",
       "    }\n",
       "\n",
       "    .dataframe tbody tr th {\n",
       "        vertical-align: top;\n",
       "    }\n",
       "\n",
       "    .dataframe thead th {\n",
       "        text-align: right;\n",
       "    }\n",
       "</style>\n",
       "<table border=\"1\" class=\"dataframe\">\n",
       "  <thead>\n",
       "    <tr style=\"text-align: right;\">\n",
       "      <th></th>\n",
       "      <th>ch_num_sessions_std</th>\n",
       "      <th>ch_time_in_prob_sum_std</th>\n",
       "      <th>ch_time_in_video_sum_std</th>\n",
       "      <th>ch_ratio_clicks_weekend_day_std</th>\n",
       "      <th>ch_total_clicks_weekend_std</th>\n",
       "      <th>ch_total_clicks_weekday_std</th>\n",
       "      <th>ch_time_sessions_mean_std</th>\n",
       "      <th>ch_time_sessions_std_std</th>\n",
       "      <th>bo_delay_lecture_std</th>\n",
       "      <th>bo_reg_peak_dayhour_std</th>\n",
       "      <th>...</th>\n",
       "      <th>la_seek_len_std_mean</th>\n",
       "      <th>la_pause_dur_std_mean</th>\n",
       "      <th>la_time_speeding_up_mean_mean</th>\n",
       "      <th>la_time_speeding_up_std_mean</th>\n",
       "      <th>la_weekly_prop_watched_mean_mean</th>\n",
       "      <th>la_weekly_prop_interrupted_mean_mean</th>\n",
       "      <th>la_weekly_prop_interrupted_std_mean</th>\n",
       "      <th>la_weekly_prop_replayed_mean_mean</th>\n",
       "      <th>la_weekly_prop_replayed_std_mean</th>\n",
       "      <th>la_frequency_action_video_play_mean</th>\n",
       "    </tr>\n",
       "    <tr>\n",
       "      <th>user</th>\n",
       "      <th></th>\n",
       "      <th></th>\n",
       "      <th></th>\n",
       "      <th></th>\n",
       "      <th></th>\n",
       "      <th></th>\n",
       "      <th></th>\n",
       "      <th></th>\n",
       "      <th></th>\n",
       "      <th></th>\n",
       "      <th></th>\n",
       "      <th></th>\n",
       "      <th></th>\n",
       "      <th></th>\n",
       "      <th></th>\n",
       "      <th></th>\n",
       "      <th></th>\n",
       "      <th></th>\n",
       "      <th></th>\n",
       "      <th></th>\n",
       "      <th></th>\n",
       "    </tr>\n",
       "  </thead>\n",
       "  <tbody>\n",
       "    <tr>\n",
       "      <th>2</th>\n",
       "      <td>3.391165</td>\n",
       "      <td>2109.754962</td>\n",
       "      <td>6234.491952</td>\n",
       "      <td>104.883843</td>\n",
       "      <td>82.771976</td>\n",
       "      <td>103.319730</td>\n",
       "      <td>656.590004</td>\n",
       "      <td>763.194436</td>\n",
       "      <td>100718.818602</td>\n",
       "      <td>78.845925</td>\n",
       "      <td>...</td>\n",
       "      <td>48.407218</td>\n",
       "      <td>53.451086</td>\n",
       "      <td>0.000000</td>\n",
       "      <td>0.000000</td>\n",
       "      <td>0.535256</td>\n",
       "      <td>0.044444</td>\n",
       "      <td>0.0</td>\n",
       "      <td>0.062821</td>\n",
       "      <td>0.0</td>\n",
       "      <td>0.362171</td>\n",
       "    </tr>\n",
       "    <tr>\n",
       "      <th>5</th>\n",
       "      <td>1.095445</td>\n",
       "      <td>2254.745433</td>\n",
       "      <td>2119.963773</td>\n",
       "      <td>0.039508</td>\n",
       "      <td>57.595139</td>\n",
       "      <td>38.301001</td>\n",
       "      <td>1562.122278</td>\n",
       "      <td>1395.886413</td>\n",
       "      <td>42682.471658</td>\n",
       "      <td>34.589857</td>\n",
       "      <td>...</td>\n",
       "      <td>67.829390</td>\n",
       "      <td>127.319742</td>\n",
       "      <td>41.157554</td>\n",
       "      <td>92.320811</td>\n",
       "      <td>0.216667</td>\n",
       "      <td>0.027778</td>\n",
       "      <td>0.0</td>\n",
       "      <td>0.000000</td>\n",
       "      <td>0.0</td>\n",
       "      <td>0.313901</td>\n",
       "    </tr>\n",
       "    <tr>\n",
       "      <th>6</th>\n",
       "      <td>1.505545</td>\n",
       "      <td>2872.580959</td>\n",
       "      <td>4712.799423</td>\n",
       "      <td>0.827940</td>\n",
       "      <td>70.164806</td>\n",
       "      <td>57.094366</td>\n",
       "      <td>1230.317804</td>\n",
       "      <td>748.645929</td>\n",
       "      <td>38052.014201</td>\n",
       "      <td>21.087004</td>\n",
       "      <td>...</td>\n",
       "      <td>34.276359</td>\n",
       "      <td>80.200974</td>\n",
       "      <td>0.000000</td>\n",
       "      <td>0.000000</td>\n",
       "      <td>0.133333</td>\n",
       "      <td>0.016667</td>\n",
       "      <td>0.0</td>\n",
       "      <td>0.000000</td>\n",
       "      <td>0.0</td>\n",
       "      <td>0.290923</td>\n",
       "    </tr>\n",
       "    <tr>\n",
       "      <th>7</th>\n",
       "      <td>1.760682</td>\n",
       "      <td>2224.075868</td>\n",
       "      <td>3908.428094</td>\n",
       "      <td>0.267992</td>\n",
       "      <td>73.841497</td>\n",
       "      <td>78.863807</td>\n",
       "      <td>325.721484</td>\n",
       "      <td>1004.619798</td>\n",
       "      <td>70834.903484</td>\n",
       "      <td>37.853011</td>\n",
       "      <td>...</td>\n",
       "      <td>116.938662</td>\n",
       "      <td>214.271981</td>\n",
       "      <td>0.000000</td>\n",
       "      <td>0.000000</td>\n",
       "      <td>0.242628</td>\n",
       "      <td>0.016667</td>\n",
       "      <td>0.0</td>\n",
       "      <td>0.050000</td>\n",
       "      <td>0.0</td>\n",
       "      <td>0.334971</td>\n",
       "    </tr>\n",
       "    <tr>\n",
       "      <th>8</th>\n",
       "      <td>1.366260</td>\n",
       "      <td>3821.751924</td>\n",
       "      <td>2660.061704</td>\n",
       "      <td>7.804323</td>\n",
       "      <td>110.199214</td>\n",
       "      <td>182.871540</td>\n",
       "      <td>1463.288505</td>\n",
       "      <td>1819.357850</td>\n",
       "      <td>33286.469085</td>\n",
       "      <td>78.676490</td>\n",
       "      <td>...</td>\n",
       "      <td>107.620927</td>\n",
       "      <td>92.403015</td>\n",
       "      <td>5.651399</td>\n",
       "      <td>7.440532</td>\n",
       "      <td>0.202564</td>\n",
       "      <td>0.000000</td>\n",
       "      <td>0.0</td>\n",
       "      <td>0.000000</td>\n",
       "      <td>0.0</td>\n",
       "      <td>0.382115</td>\n",
       "    </tr>\n",
       "  </tbody>\n",
       "</table>\n",
       "<p>5 rows × 66 columns</p>\n",
       "</div>"
      ],
      "text/plain": [
       "      ch_num_sessions_std  ch_time_in_prob_sum_std  ch_time_in_video_sum_std  \\\n",
       "user                                                                           \n",
       "2                3.391165              2109.754962               6234.491952   \n",
       "5                1.095445              2254.745433               2119.963773   \n",
       "6                1.505545              2872.580959               4712.799423   \n",
       "7                1.760682              2224.075868               3908.428094   \n",
       "8                1.366260              3821.751924               2660.061704   \n",
       "\n",
       "      ch_ratio_clicks_weekend_day_std  ch_total_clicks_weekend_std  \\\n",
       "user                                                                 \n",
       "2                          104.883843                    82.771976   \n",
       "5                            0.039508                    57.595139   \n",
       "6                            0.827940                    70.164806   \n",
       "7                            0.267992                    73.841497   \n",
       "8                            7.804323                   110.199214   \n",
       "\n",
       "      ch_total_clicks_weekday_std  ch_time_sessions_mean_std  \\\n",
       "user                                                           \n",
       "2                      103.319730                 656.590004   \n",
       "5                       38.301001                1562.122278   \n",
       "6                       57.094366                1230.317804   \n",
       "7                       78.863807                 325.721484   \n",
       "8                      182.871540                1463.288505   \n",
       "\n",
       "      ch_time_sessions_std_std  bo_delay_lecture_std  bo_reg_peak_dayhour_std  \\\n",
       "user                                                                            \n",
       "2                   763.194436         100718.818602                78.845925   \n",
       "5                  1395.886413          42682.471658                34.589857   \n",
       "6                   748.645929          38052.014201                21.087004   \n",
       "7                  1004.619798          70834.903484                37.853011   \n",
       "8                  1819.357850          33286.469085                78.676490   \n",
       "\n",
       "      ...  la_seek_len_std_mean  la_pause_dur_std_mean  \\\n",
       "user  ...                                                \n",
       "2     ...             48.407218              53.451086   \n",
       "5     ...             67.829390             127.319742   \n",
       "6     ...             34.276359              80.200974   \n",
       "7     ...            116.938662             214.271981   \n",
       "8     ...            107.620927              92.403015   \n",
       "\n",
       "      la_time_speeding_up_mean_mean  la_time_speeding_up_std_mean  \\\n",
       "user                                                                \n",
       "2                          0.000000                      0.000000   \n",
       "5                         41.157554                     92.320811   \n",
       "6                          0.000000                      0.000000   \n",
       "7                          0.000000                      0.000000   \n",
       "8                          5.651399                      7.440532   \n",
       "\n",
       "      la_weekly_prop_watched_mean_mean  la_weekly_prop_interrupted_mean_mean  \\\n",
       "user                                                                           \n",
       "2                             0.535256                              0.044444   \n",
       "5                             0.216667                              0.027778   \n",
       "6                             0.133333                              0.016667   \n",
       "7                             0.242628                              0.016667   \n",
       "8                             0.202564                              0.000000   \n",
       "\n",
       "      la_weekly_prop_interrupted_std_mean  la_weekly_prop_replayed_mean_mean  \\\n",
       "user                                                                           \n",
       "2                                     0.0                           0.062821   \n",
       "5                                     0.0                           0.000000   \n",
       "6                                     0.0                           0.000000   \n",
       "7                                     0.0                           0.050000   \n",
       "8                                     0.0                           0.000000   \n",
       "\n",
       "      la_weekly_prop_replayed_std_mean  la_frequency_action_video_play_mean  \n",
       "user                                                                         \n",
       "2                                  0.0                             0.362171  \n",
       "5                                  0.0                             0.313901  \n",
       "6                                  0.0                             0.290923  \n",
       "7                                  0.0                             0.334971  \n",
       "8                                  0.0                             0.382115  \n",
       "\n",
       "[5 rows x 66 columns]"
      ]
     },
     "execution_count": 39,
     "metadata": {},
     "output_type": "execute_result"
    }
   ],
   "source": [
    "# Aggregate features\n",
    "\n",
    "groups_train = X_train.reset_index().drop('week', axis = 1).groupby('user', as_index = True)\n",
    "groups_val = X_val.reset_index().drop('week', axis = 1).groupby('user', as_index = True)\n",
    "\n",
    "standard_train = groups_train.std()\n",
    "averages_train = groups_train.mean()\n",
    "standard_val = groups_val.std()\n",
    "averages_val = groups_val.mean()\n",
    "\n",
    "#X_train_aggregate = pd.concat([standard_train, averages_train], axis=1)\n",
    "#X_val_aggregate = pd.concat([standard_val, averages_val], axis=1)\n",
    "X_train_aggregate = standard_train.join(averages_train, lsuffix='_std', rsuffix='_mean', how='outer')\n",
    "X_val_aggregate = standard_val.join(averages_val, lsuffix='_std', rsuffix='_mean', how='outer')\n",
    "X_train_aggregate.head()"
   ]
  },
  {
   "cell_type": "code",
   "execution_count": 40,
   "id": "eaadafbc-1976-43e6-b0a9-d0126c28e09c",
   "metadata": {},
   "outputs": [
    {
     "name": "stdout",
     "output_type": "stream",
     "text": [
      "Decision tree. Balanced Accuracy = 0.49, AUC = 0.585\n"
     ]
    }
   ],
   "source": [
    "clf = tree.DecisionTreeClassifier(max_depth=3, min_samples_leaf=5, min_samples_split=2, \n",
    "                                  random_state=0, criterion='entropy')\n",
    "\n",
    "accuracy, auc = compute_scores(clf, X_train_aggregate, y_train, X_val_aggregate, y_val)\n",
    "print(\"Decision tree. Balanced Accuracy = {}, AUC = {}\".format(accuracy, auc))"
   ]
  },
  {
   "cell_type": "code",
   "execution_count": 43,
   "id": "c842a670",
   "metadata": {},
   "outputs": [
    {
     "data": {
      "text/html": [
       "<div>\n",
       "<style scoped>\n",
       "    .dataframe tbody tr th:only-of-type {\n",
       "        vertical-align: middle;\n",
       "    }\n",
       "\n",
       "    .dataframe tbody tr th {\n",
       "        vertical-align: top;\n",
       "    }\n",
       "\n",
       "    .dataframe thead th {\n",
       "        text-align: right;\n",
       "    }\n",
       "</style>\n",
       "<table border=\"1\" class=\"dataframe\">\n",
       "  <thead>\n",
       "    <tr style=\"text-align: right;\">\n",
       "      <th></th>\n",
       "      <th>ch_num_sessions_std</th>\n",
       "      <th>ch_time_in_prob_sum_std</th>\n",
       "      <th>ch_time_in_video_sum_std</th>\n",
       "      <th>ch_ratio_clicks_weekend_day_std</th>\n",
       "      <th>ch_total_clicks_weekend_std</th>\n",
       "      <th>ch_total_clicks_weekday_std</th>\n",
       "      <th>ch_time_sessions_mean_std</th>\n",
       "      <th>ch_time_sessions_std_std</th>\n",
       "      <th>bo_delay_lecture_std</th>\n",
       "      <th>bo_reg_peak_dayhour_std</th>\n",
       "      <th>...</th>\n",
       "      <th>la_seek_len_std_mean</th>\n",
       "      <th>la_pause_dur_std_mean</th>\n",
       "      <th>la_time_speeding_up_mean_mean</th>\n",
       "      <th>la_time_speeding_up_std_mean</th>\n",
       "      <th>la_weekly_prop_watched_mean_mean</th>\n",
       "      <th>la_weekly_prop_interrupted_mean_mean</th>\n",
       "      <th>la_weekly_prop_interrupted_std_mean</th>\n",
       "      <th>la_weekly_prop_replayed_mean_mean</th>\n",
       "      <th>la_weekly_prop_replayed_std_mean</th>\n",
       "      <th>la_frequency_action_video_play_mean</th>\n",
       "    </tr>\n",
       "    <tr>\n",
       "      <th>user</th>\n",
       "      <th></th>\n",
       "      <th></th>\n",
       "      <th></th>\n",
       "      <th></th>\n",
       "      <th></th>\n",
       "      <th></th>\n",
       "      <th></th>\n",
       "      <th></th>\n",
       "      <th></th>\n",
       "      <th></th>\n",
       "      <th></th>\n",
       "      <th></th>\n",
       "      <th></th>\n",
       "      <th></th>\n",
       "      <th></th>\n",
       "      <th></th>\n",
       "      <th></th>\n",
       "      <th></th>\n",
       "      <th></th>\n",
       "      <th></th>\n",
       "      <th></th>\n",
       "    </tr>\n",
       "  </thead>\n",
       "  <tbody>\n",
       "    <tr>\n",
       "      <th>1</th>\n",
       "      <td>1.366260</td>\n",
       "      <td>2217.304399</td>\n",
       "      <td>2747.744505</td>\n",
       "      <td>2.316809</td>\n",
       "      <td>16.329932</td>\n",
       "      <td>33.218469</td>\n",
       "      <td>832.956572</td>\n",
       "      <td>1233.921554</td>\n",
       "      <td>75631.204648</td>\n",
       "      <td>45.198825</td>\n",
       "      <td>...</td>\n",
       "      <td>116.264689</td>\n",
       "      <td>119.777225</td>\n",
       "      <td>60.869675</td>\n",
       "      <td>97.824508</td>\n",
       "      <td>0.840705</td>\n",
       "      <td>0.105952</td>\n",
       "      <td>0.0</td>\n",
       "      <td>0.110760</td>\n",
       "      <td>0.0</td>\n",
       "      <td>0.381501</td>\n",
       "    </tr>\n",
       "    <tr>\n",
       "      <th>4</th>\n",
       "      <td>0.894427</td>\n",
       "      <td>2090.210867</td>\n",
       "      <td>3018.340604</td>\n",
       "      <td>2.684930</td>\n",
       "      <td>45.026289</td>\n",
       "      <td>53.936073</td>\n",
       "      <td>1719.331435</td>\n",
       "      <td>687.158378</td>\n",
       "      <td>3733.974947</td>\n",
       "      <td>46.437820</td>\n",
       "      <td>...</td>\n",
       "      <td>68.023251</td>\n",
       "      <td>87.700757</td>\n",
       "      <td>40.601770</td>\n",
       "      <td>63.979423</td>\n",
       "      <td>0.050000</td>\n",
       "      <td>0.000000</td>\n",
       "      <td>0.0</td>\n",
       "      <td>0.033333</td>\n",
       "      <td>0.0</td>\n",
       "      <td>0.258020</td>\n",
       "    </tr>\n",
       "    <tr>\n",
       "      <th>25</th>\n",
       "      <td>3.920034</td>\n",
       "      <td>3159.145834</td>\n",
       "      <td>11732.151374</td>\n",
       "      <td>127.048087</td>\n",
       "      <td>180.579807</td>\n",
       "      <td>159.617981</td>\n",
       "      <td>673.339115</td>\n",
       "      <td>967.582482</td>\n",
       "      <td>81667.095430</td>\n",
       "      <td>35.505765</td>\n",
       "      <td>...</td>\n",
       "      <td>48.531997</td>\n",
       "      <td>67.288488</td>\n",
       "      <td>26.617027</td>\n",
       "      <td>68.240901</td>\n",
       "      <td>0.717811</td>\n",
       "      <td>0.185241</td>\n",
       "      <td>0.0</td>\n",
       "      <td>0.079808</td>\n",
       "      <td>0.0</td>\n",
       "      <td>0.406587</td>\n",
       "    </tr>\n",
       "    <tr>\n",
       "      <th>37</th>\n",
       "      <td>1.505545</td>\n",
       "      <td>1594.561633</td>\n",
       "      <td>2714.258253</td>\n",
       "      <td>5.322223</td>\n",
       "      <td>7.974961</td>\n",
       "      <td>71.280900</td>\n",
       "      <td>1160.387332</td>\n",
       "      <td>459.313058</td>\n",
       "      <td>42230.036453</td>\n",
       "      <td>53.809831</td>\n",
       "      <td>...</td>\n",
       "      <td>75.219693</td>\n",
       "      <td>143.427911</td>\n",
       "      <td>0.000000</td>\n",
       "      <td>0.000000</td>\n",
       "      <td>0.929915</td>\n",
       "      <td>0.272955</td>\n",
       "      <td>0.0</td>\n",
       "      <td>0.033333</td>\n",
       "      <td>0.0</td>\n",
       "      <td>0.270517</td>\n",
       "    </tr>\n",
       "    <tr>\n",
       "      <th>42</th>\n",
       "      <td>1.643168</td>\n",
       "      <td>1947.128621</td>\n",
       "      <td>6046.875744</td>\n",
       "      <td>0.000000</td>\n",
       "      <td>0.000000</td>\n",
       "      <td>63.409778</td>\n",
       "      <td>1455.999909</td>\n",
       "      <td>624.359695</td>\n",
       "      <td>76036.074219</td>\n",
       "      <td>32.316846</td>\n",
       "      <td>...</td>\n",
       "      <td>126.202010</td>\n",
       "      <td>112.452031</td>\n",
       "      <td>16.249269</td>\n",
       "      <td>38.519215</td>\n",
       "      <td>0.944872</td>\n",
       "      <td>0.066117</td>\n",
       "      <td>0.0</td>\n",
       "      <td>0.062821</td>\n",
       "      <td>0.0</td>\n",
       "      <td>0.365558</td>\n",
       "    </tr>\n",
       "  </tbody>\n",
       "</table>\n",
       "<p>5 rows × 66 columns</p>\n",
       "</div>"
      ],
      "text/plain": [
       "      ch_num_sessions_std  ch_time_in_prob_sum_std  ch_time_in_video_sum_std  \\\n",
       "user                                                                           \n",
       "1                1.366260              2217.304399               2747.744505   \n",
       "4                0.894427              2090.210867               3018.340604   \n",
       "25               3.920034              3159.145834              11732.151374   \n",
       "37               1.505545              1594.561633               2714.258253   \n",
       "42               1.643168              1947.128621               6046.875744   \n",
       "\n",
       "      ch_ratio_clicks_weekend_day_std  ch_total_clicks_weekend_std  \\\n",
       "user                                                                 \n",
       "1                            2.316809                    16.329932   \n",
       "4                            2.684930                    45.026289   \n",
       "25                         127.048087                   180.579807   \n",
       "37                           5.322223                     7.974961   \n",
       "42                           0.000000                     0.000000   \n",
       "\n",
       "      ch_total_clicks_weekday_std  ch_time_sessions_mean_std  \\\n",
       "user                                                           \n",
       "1                       33.218469                 832.956572   \n",
       "4                       53.936073                1719.331435   \n",
       "25                     159.617981                 673.339115   \n",
       "37                      71.280900                1160.387332   \n",
       "42                      63.409778                1455.999909   \n",
       "\n",
       "      ch_time_sessions_std_std  bo_delay_lecture_std  bo_reg_peak_dayhour_std  \\\n",
       "user                                                                            \n",
       "1                  1233.921554          75631.204648                45.198825   \n",
       "4                   687.158378           3733.974947                46.437820   \n",
       "25                  967.582482          81667.095430                35.505765   \n",
       "37                  459.313058          42230.036453                53.809831   \n",
       "42                  624.359695          76036.074219                32.316846   \n",
       "\n",
       "      ...  la_seek_len_std_mean  la_pause_dur_std_mean  \\\n",
       "user  ...                                                \n",
       "1     ...            116.264689             119.777225   \n",
       "4     ...             68.023251              87.700757   \n",
       "25    ...             48.531997              67.288488   \n",
       "37    ...             75.219693             143.427911   \n",
       "42    ...            126.202010             112.452031   \n",
       "\n",
       "      la_time_speeding_up_mean_mean  la_time_speeding_up_std_mean  \\\n",
       "user                                                                \n",
       "1                         60.869675                     97.824508   \n",
       "4                         40.601770                     63.979423   \n",
       "25                        26.617027                     68.240901   \n",
       "37                         0.000000                      0.000000   \n",
       "42                        16.249269                     38.519215   \n",
       "\n",
       "      la_weekly_prop_watched_mean_mean  la_weekly_prop_interrupted_mean_mean  \\\n",
       "user                                                                           \n",
       "1                             0.840705                              0.105952   \n",
       "4                             0.050000                              0.000000   \n",
       "25                            0.717811                              0.185241   \n",
       "37                            0.929915                              0.272955   \n",
       "42                            0.944872                              0.066117   \n",
       "\n",
       "      la_weekly_prop_interrupted_std_mean  la_weekly_prop_replayed_mean_mean  \\\n",
       "user                                                                           \n",
       "1                                     0.0                           0.110760   \n",
       "4                                     0.0                           0.033333   \n",
       "25                                    0.0                           0.079808   \n",
       "37                                    0.0                           0.033333   \n",
       "42                                    0.0                           0.062821   \n",
       "\n",
       "      la_weekly_prop_replayed_std_mean  la_frequency_action_video_play_mean  \n",
       "user                                                                         \n",
       "1                                  0.0                             0.381501  \n",
       "4                                  0.0                             0.258020  \n",
       "25                                 0.0                             0.406587  \n",
       "37                                 0.0                             0.270517  \n",
       "42                                 0.0                             0.365558  \n",
       "\n",
       "[5 rows x 66 columns]"
      ]
     },
     "execution_count": 43,
     "metadata": {},
     "output_type": "execute_result"
    }
   ],
   "source": [
    "X_val_aggregate.head()"
   ]
  },
  {
   "cell_type": "code",
   "execution_count": 42,
   "id": "4251a94e",
   "metadata": {},
   "outputs": [
    {
     "name": "stdout",
     "output_type": "stream",
     "text": [
      "[1 1 1 0 0 1 1 1 0 1 1 1 1 1 1 1 1 1 1 1 1 1 1 1 1 1 1 1 1 1 1 0 0 0 0 1 1\n",
      " 0 1 1 1 1 1 1 1 1 1] 47\n",
      "user\n",
      "1      1\n",
      "4      1\n",
      "25     0\n",
      "37     0\n",
      "42     1\n",
      "53     1\n",
      "63     0\n",
      "76     0\n",
      "91     1\n",
      "92     1\n",
      "102    0\n",
      "106    0\n",
      "109    0\n",
      "112    1\n",
      "113    1\n",
      "119    0\n",
      "123    1\n",
      "124    0\n",
      "130    1\n",
      "138    0\n",
      "147    1\n",
      "148    1\n",
      "153    1\n",
      "160    1\n",
      "172    0\n",
      "186    1\n",
      "187    1\n",
      "188    0\n",
      "190    0\n",
      "194    0\n",
      "203    0\n",
      "207    1\n",
      "208    0\n",
      "209    1\n",
      "215    1\n",
      "219    1\n",
      "239    0\n",
      "247    0\n",
      "248    1\n",
      "249    1\n",
      "250    1\n",
      "259    1\n",
      "261    0\n",
      "268    1\n",
      "273    1\n",
      "279    1\n",
      "293    1\n",
      "Name: passed, dtype: int64 47\n"
     ]
    },
    {
     "data": {
      "text/plain": [
       "0.48966165413533835"
      ]
     },
     "execution_count": 42,
     "metadata": {},
     "output_type": "execute_result"
    }
   ],
   "source": [
    "preds = clf.predict(X_val_aggregate)\n",
    "print(preds, len(preds))\n",
    "print(y_val, len(y_val))\n",
    "balanced_accuracy_score(y_val, preds)"
   ]
  },
  {
   "cell_type": "code",
   "execution_count": 44,
   "id": "2e07a283-d2d2-467c-a6f6-6b88f55344e8",
   "metadata": {},
   "outputs": [
    {
     "name": "stdout",
     "output_type": "stream",
     "text": [
      "Random Forest. Balanced Accuracy = 0.612, AUC = 0.598\n"
     ]
    }
   ],
   "source": [
    "rf = RandomForestClassifier(n_estimators=100, max_depth=5, random_state=0, criterion='entropy') # create a Random Forest\n",
    "\n",
    "accuracy, auc = compute_scores(rf,X_train_aggregate, y_train, X_val_aggregate, y_val)\n",
    "print(\"Random Forest. Balanced Accuracy = {}, AUC = {}\".format(accuracy, auc))"
   ]
  },
  {
   "attachments": {},
   "cell_type": "markdown",
   "id": "e6cd6cdc-8bc5-4a55-a0a9-01158cd0b17d",
   "metadata": {
    "tags": []
   },
   "source": [
    "### K-Nearest Neighbors\n",
    "For kNN, we don't need to aggregate the features. We directly compute the pairwise Euclidean distance between users, separately for each feature. We then normalize the pairwise distance matrices such that we can sum them up and feed them directly into the model."
   ]
  },
  {
   "cell_type": "code",
   "execution_count": 99,
   "id": "18bb7e2f-cf23-4038-a474-38131163584d",
   "metadata": {},
   "outputs": [
    {
     "data": {
      "text/html": [
       "<div>\n",
       "<style scoped>\n",
       "    .dataframe tbody tr th:only-of-type {\n",
       "        vertical-align: middle;\n",
       "    }\n",
       "\n",
       "    .dataframe tbody tr th {\n",
       "        vertical-align: top;\n",
       "    }\n",
       "\n",
       "    .dataframe thead th {\n",
       "        text-align: right;\n",
       "    }\n",
       "</style>\n",
       "<table border=\"1\" class=\"dataframe\">\n",
       "  <thead>\n",
       "    <tr style=\"text-align: right;\">\n",
       "      <th></th>\n",
       "      <th>ch_time_in_prob_sum</th>\n",
       "      <th>ma_competency_anti</th>\n",
       "      <th>bo_delay_lecture</th>\n",
       "    </tr>\n",
       "    <tr>\n",
       "      <th>user</th>\n",
       "      <th></th>\n",
       "      <th></th>\n",
       "      <th></th>\n",
       "    </tr>\n",
       "  </thead>\n",
       "  <tbody>\n",
       "    <tr>\n",
       "      <th>2</th>\n",
       "      <td>[1224.0, 1310.0, 6185.0, 3195.0, 5545.0, 2515.0]</td>\n",
       "      <td>[0.0256410256410256, 0.08, 0.057471264367816, ...</td>\n",
       "      <td>[-8998.0, -22764.666666666668, 228700.0, -3375...</td>\n",
       "    </tr>\n",
       "    <tr>\n",
       "      <th>5</th>\n",
       "      <td>[1324.0, 266.0, 4700.0, 4014.0, 4881.0, 0.0]</td>\n",
       "      <td>[0.0341880341880341, 0.0, 0.0, 0.1095890410958...</td>\n",
       "      <td>[0.0, -67829.0, 67143.66666666667, 0.0, 0.0, 0.0]</td>\n",
       "    </tr>\n",
       "    <tr>\n",
       "      <th>6</th>\n",
       "      <td>[1773.0, 5152.0, 6475.0, 8562.0, 6753.0, 10076.0]</td>\n",
       "      <td>[0.094017094017094, 0.13, 0.1379310344827586, ...</td>\n",
       "      <td>[-90548.16666666669, -46688.0, 0.0, 0.0, 0.0, ...</td>\n",
       "    </tr>\n",
       "    <tr>\n",
       "      <th>7</th>\n",
       "      <td>[6410.0, 902.0, 5776.0, 4517.0, 1540.0, 3827.0]</td>\n",
       "      <td>[0.094017094017094, 0.13, 0.1034482758620689, ...</td>\n",
       "      <td>[-96044.5, -100976.5, 0.0, -187836.66666666663...</td>\n",
       "    </tr>\n",
       "    <tr>\n",
       "      <th>8</th>\n",
       "      <td>[1527.0, 4861.0, 5211.0, 8722.0, 4512.0, 12462.0]</td>\n",
       "      <td>[0.094017094017094, 0.13, 0.057471264367816, 0...</td>\n",
       "      <td>[-26506.333333333332, 67210.33333333333, 0.0, ...</td>\n",
       "    </tr>\n",
       "  </tbody>\n",
       "</table>\n",
       "</div>"
      ],
      "text/plain": [
       "                                    ch_time_in_prob_sum  \\\n",
       "user                                                      \n",
       "2      [1224.0, 1310.0, 6185.0, 3195.0, 5545.0, 2515.0]   \n",
       "5          [1324.0, 266.0, 4700.0, 4014.0, 4881.0, 0.0]   \n",
       "6     [1773.0, 5152.0, 6475.0, 8562.0, 6753.0, 10076.0]   \n",
       "7       [6410.0, 902.0, 5776.0, 4517.0, 1540.0, 3827.0]   \n",
       "8     [1527.0, 4861.0, 5211.0, 8722.0, 4512.0, 12462.0]   \n",
       "\n",
       "                                     ma_competency_anti  \\\n",
       "user                                                      \n",
       "2     [0.0256410256410256, 0.08, 0.057471264367816, ...   \n",
       "5     [0.0341880341880341, 0.0, 0.0, 0.1095890410958...   \n",
       "6     [0.094017094017094, 0.13, 0.1379310344827586, ...   \n",
       "7     [0.094017094017094, 0.13, 0.1034482758620689, ...   \n",
       "8     [0.094017094017094, 0.13, 0.057471264367816, 0...   \n",
       "\n",
       "                                       bo_delay_lecture  \n",
       "user                                                     \n",
       "2     [-8998.0, -22764.666666666668, 228700.0, -3375...  \n",
       "5     [0.0, -67829.0, 67143.66666666667, 0.0, 0.0, 0.0]  \n",
       "6     [-90548.16666666669, -46688.0, 0.0, 0.0, 0.0, ...  \n",
       "7     [-96044.5, -100976.5, 0.0, -187836.66666666663...  \n",
       "8     [-26506.333333333332, 67210.33333333333, 0.0, ...  "
      ]
     },
     "execution_count": 99,
     "metadata": {},
     "output_type": "execute_result"
    }
   ],
   "source": [
    "feature = ['ch_time_in_prob_sum', 'ma_competency_anti','bo_delay_lecture']\n",
    "\n",
    "X_train_vectors = X_train.groupby('user')[feature].agg(list)\n",
    "X_val_vectors = X_val.groupby('user')[feature].agg(list)\n",
    "\n",
    "X_train_vectors.head()"
   ]
  },
  {
   "cell_type": "code",
   "execution_count": 116,
   "id": "49876bbf",
   "metadata": {},
   "outputs": [
    {
     "name": "stdout",
     "output_type": "stream",
     "text": [
      "(187, 3) (47, 3)\n"
     ]
    }
   ],
   "source": [
    "print(X_train_vectors.shape, X_val_vectors.shape)"
   ]
  },
  {
   "cell_type": "code",
   "execution_count": 100,
   "id": "e9c5181a",
   "metadata": {},
   "outputs": [
    {
     "name": "stdout",
     "output_type": "stream",
     "text": [
      "ch_time_in_prob_sum\n",
      "user\n",
      "2       [1224.0, 1310.0, 6185.0, 3195.0, 5545.0, 2515.0]\n",
      "5           [1324.0, 266.0, 4700.0, 4014.0, 4881.0, 0.0]\n",
      "6      [1773.0, 5152.0, 6475.0, 8562.0, 6753.0, 10076.0]\n",
      "7        [6410.0, 902.0, 5776.0, 4517.0, 1540.0, 3827.0]\n",
      "8      [1527.0, 4861.0, 5211.0, 8722.0, 4512.0, 12462.0]\n",
      "                             ...                        \n",
      "280    [2651.0, 7137.0, 12329.0, 13355.0, 5646.0, 109...\n",
      "281      [3409.0, 2355.0, 4319.0, 875.0, 12271.0, 413.0]\n",
      "285         [3764.0, 10175.0, 1.0, 15.0, 1047.0, 1822.0]\n",
      "286     [4164.0, 8152.0, 1654.0, 1771.0, 2470.0, 1951.0]\n",
      "291    [962.0, 11321.0, 5111.0, 5669.0, 7008.0, 10837.0]\n",
      "Name: ch_time_in_prob_sum, Length: 187, dtype: object\n",
      "[[1224.0, 1310.0, 6185.0, 3195.0, 5545.0, 2515.0], [1324.0, 266.0, 4700.0, 4014.0, 4881.0, 0.0], [1773.0, 5152.0, 6475.0, 8562.0, 6753.0, 10076.0], [6410.0, 902.0, 5776.0, 4517.0, 1540.0, 3827.0], [1527.0, 4861.0, 5211.0, 8722.0, 4512.0, 12462.0], [1497.0, 1174.0, 5154.0, 7906.0, 311.0, 6544.0], [12340.0, 3378.0, 6930.0, 759.0, 8976.0, 4335.0], [0.0, 0.0, 0.0, 757.0, 0.0, 0.0], [5598.0, 2083.0, 5322.0, 1066.0, 3499.0, 1392.0], [10450.0, 5004.0, 2171.0, 0.0, 10143.0, 4249.0], [3636.0, 0.0, 5767.0, 641.0, 4026.0, 3194.0], [235.0, 111.0, 97.0, 165.0, 1.0, 170.0], [708.0, 1896.0, 2877.0, 1657.0, 7345.0, 2300.0], [1795.0, 121.0, 7357.0, 11355.0, 5816.0, 2770.0], [4123.0, 409.0, 5375.0, 2156.0, 2123.0, 0.0], [592.0, 749.0, 3116.0, 677.0, 806.0, 2861.0], [1725.0, 6155.0, 9945.0, 5056.0, 5699.0, 6105.0], [2376.0, 922.0, 2907.0, 394.0, 227.0, 0.0], [0.0, 1981.0, 0.0, 2933.0, 0.0, 1129.0], [1034.0, 1494.0, 4761.0, 5062.0, 3044.0, 4143.0], [1478.0, 3668.0, 5014.0, 1581.0, 1254.0, 2216.0], [0.0, 0.0, 34.0, 0.0, 152.0, 103.0], [3652.0, 321.0, 1929.0, 0.0, 892.0, 105.0], [2061.0, 0.0, 2592.0, 8.0, 5521.0, 6224.0], [2501.0, 7402.0, 1272.0, 1017.0, 5363.0, 412.0], [1641.0, 78.0, 4618.0, 330.0, 81.0, 2636.0], [3379.0, 5439.0, 7299.0, 5999.0, 7403.0, 9357.0], [927.0, 10306.0, 1821.0, 91.0, 10404.0, 717.0], [3810.0, 2071.0, 8940.0, 5650.0, 4271.0, 8014.0], [346.0, 1213.0, 3674.0, 0.0, 5777.0, 135.0], [2027.0, 133.0, 1501.0, 610.0, 1741.0, 2676.0], [3929.0, 8224.0, 1130.0, 4087.0, 5219.0, 734.0], [1596.0, 3617.0, 73.0, 3112.0, 0.0, 2016.0], [9047.0, 622.0, 7087.0, 8444.0, 612.0, 824.0], [927.0, 2532.0, 1110.0, 571.0, 6299.0, 3466.0], [5793.0, 3300.0, 6314.0, 1180.0, 3820.0, 435.0], [4744.0, 2971.0, 8874.0, 6702.0, 6061.0, 0.0], [9048.0, 6361.0, 7576.0, 13019.0, 9229.0, 3295.0], [0.0, 0.0, 0.0, 0.0, 0.0, 0.0], [279.0, 393.0, 0.0, 0.0, 3032.0, 0.0], [2037.0, 332.0, 3327.0, 414.0, 4620.0, 186.0], [9730.0, 4938.0, 429.0, 7099.0, 3946.0, 1326.0], [2400.0, 1012.0, 2877.0, 8516.0, 1310.0, 1451.0], [2049.0, 747.0, 66.0, 3079.0, 0.0, 1129.0], [0.0, 0.0, 0.0, 0.0, 0.0, 0.0], [5569.0, 0.0, 3832.0, 2161.0, 12198.0, 5567.0], [1768.0, 8255.0, 12441.0, 5229.0, 8305.0, 1385.0], [0.0, 0.0, 0.0, 0.0, 0.0, 0.0], [5231.0, 933.0, 11958.0, 1828.0, 2473.0, 2364.0], [0.0, 0.0, 3833.0, 1185.0, 1422.0, 0.0], [1528.0, 0.0, 2812.0, 0.0, 0.0, 161.0], [2088.0, 992.0, 4033.0, 1349.0, 6161.0, 1114.0], [1659.0, 1142.0, 300.0, 706.0, 240.0, 191.0], [1821.0, 672.0, 2435.0, 389.0, 249.0, 760.0], [9436.0, 927.0, 7100.0, 4051.0, 0.0, 8346.0], [0.0, 4179.0, 910.0, 4574.0, 5333.0, 3075.0], [3687.0, 1256.0, 29.0, 2115.0, 3722.0, 54.0], [0.0, 0.0, 0.0, 0.0, 0.0, 0.0], [0.0, 758.0, 13738.0, 10020.0, 9321.0, 26452.0], [2589.0, 433.0, 3816.0, 3590.0, 2367.0, 2293.0], [5112.0, 6246.0, 8153.0, 3828.0, 2576.0, 5643.0], [1371.0, 280.0, 1312.0, 141.0, 4066.0, 0.0], [3045.0, 1.0, 4356.0, 1843.0, 1577.0, 5179.0], [398.0, 5542.0, 933.0, 874.0, 327.0, 874.0], [1984.0, 1812.0, 5455.0, 10953.0, 978.0, 8592.0], [0.0, 420.0, 2263.0, 3815.0, 489.0, 1290.0], [844.0, 593.0, 381.0, 0.0, 0.0, 0.0], [1805.0, 993.0, 33094.0, 8178.0, 442.0, 6498.0], [2254.0, 1861.0, 1104.0, 400.0, 5259.0, 969.0], [16297.0, 2496.0, 14767.0, 4863.0, 5839.0, 0.0], [1784.0, 847.0, 11339.0, 3052.0, 4047.0, 38.0], [1092.0, 4116.0, 18928.0, 9686.0, 5808.0, 17650.0], [1009.0, 316.0, 3307.0, 2863.0, 9471.0, 6531.0], [3708.0, 10332.0, 19978.0, 3333.0, 0.0, 0.0], [1003.0, 5756.0, 7981.0, 2496.0, 1439.0, 1657.0], [7638.0, 4565.0, 5409.0, 4347.0, 1579.0, 5609.0], [6222.0, 10219.0, 9042.0, 7981.0, 6795.0, 4008.0], [1841.0, 5041.0, 9381.0, 5784.0, 8767.0, 7244.0], [974.0, 2737.0, 4233.0, 3134.0, 2536.0, 3020.0], [1987.0, 3428.0, 3791.0, 654.0, 4496.0, 492.0], [1524.0, 3004.0, 7510.0, 6419.0, 2145.0, 546.0], [168.0, 3324.0, 0.0, 8134.0, 2272.0, 3092.0], [1633.0, 1378.0, 584.0, 126.0, 306.0, 0.0], [20732.0, 0.0, 10446.0, 18783.0, 9206.0, 13032.0], [7245.0, 14287.0, 763.0, 20624.0, 42888.0, 7686.0], [3913.0, 3.0, 479.0, 560.0, 1566.0, 3283.0], [2914.0, 54.0, 2253.0, 0.0, 0.0, 0.0], [6429.0, 5531.0, 10759.0, 5906.0, 0.0, 0.0], [1181.0, 2202.0, 2687.0, 828.0, 1350.0, 436.0], [1059.0, 347.0, 1109.0, 509.0, 381.0, 156.0], [3623.0, 3462.0, 349.0, 2648.0, 524.0, 32.0], [3619.0, 5790.0, 8569.0, 2942.0, 2244.0, 1933.0], [8439.0, 9403.0, 2257.0, 4680.0, 5093.0, 1325.0], [3870.0, 6573.0, 3990.0, 4775.0, 2184.0, 2010.0], [3059.0, 1969.0, 3603.0, 1630.0, 354.0, 2779.0], [671.0, 77.0, 1998.0, 977.0, 1240.0, 1802.0], [6472.0, 8758.0, 12455.0, 3741.0, 5962.0, 7387.0], [3590.0, 1188.0, 5882.0, 9073.0, 9360.0, 2199.0], [8154.0, 2526.0000000000005, 13743.0, 2487.0, 890.0, 4783.0], [908.0, 1866.0, 3339.0, 1276.0, 469.0, 1523.0], [3838.0, 423.0, 7170.0, 0.0, 5940.0, 0.0], [0.0, 0.0, 0.0, 0.0, 0.0, 0.0], [504.0, 851.0, 2182.0, 2819.0, 6855.0, 0.0], [367.0, 4023.0, 695.0, 524.0, 747.0, 1355.0], [4669.0, 229.0, 1063.0, 466.0, 0.0, 0.0], [20.0, 6544.0, 1507.0, 4414.0, 4171.0, 1715.0], [3756.0, 3056.0, 2887.0, 1145.0, 3941.0, 1497.0], [1792.0, 1957.0, 1405.0, 3276.0, 1938.0, 4067.0], [4609.0, 10946.0, 4288.0, 9895.0, 2479.0, 4622.0], [262.0, 487.0, 255.0, 144.0, 258.0, 124.0], [19095.0, 1536.0, 698.0, 16270.0, 6865.0, 0.0], [5001.0, 5670.0, 38.0, 1341.0, 11575.0, 2720.0], [655.0, 48.0, 940.0, 386.0, 486.0, 1026.0], [1127.0, 13179.0, 6201.0, 4693.0, 4691.0, 642.0], [6841.0, 1589.0, 7147.0, 8509.0, 2738.0, 6933.0], [498.0, 10007.0, 3916.0, 4069.0, 8336.0, 1926.0], [7572.0, 4451.0, 1144.0, 564.0, 1784.0, 2227.0], [5513.0, 4402.0, 13354.0, 5269.0, 8886.0, 4362.0], [1034.0, 854.0, 662.0, 2041.0, 774.0, 1255.0], [3802.0, 5574.0, 11821.0, 1206.0, 3782.0, 3064.0], [1107.0, 424.0, 1200.0, 7376.0, 1119.0, 1363.0], [1897.0, 697.0, 772.0, 3954.0, 1524.0, 216.0], [917.0, 1761.0, 0.0, 685.0, 585.0, 0.0], [1198.0, 2415.0, 193.0, 810.0, 1279.0, 21.0], [7.0, 0.0, 0.0, 0.0, 220.0, 91.0], [311.0, 0.0, 0.0, 81.0, 0.0, 0.0], [631.0, 0.0, 346.0, 0.0, 0.0, 1081.0], [8866.0, 3047.0, 1469.0, 593.0, 5251.0, 1757.0], [8355.0, 3543.0, 16024.0, 10734.0, 7614.0, 1154.0], [5990.0, 3208.0, 5797.0, 10442.0, 886.0, 7388.0], [10853.0, 5119.0, 488.0, 3025.0, 322.0, 1071.0], [6261.0, 7078.0, 13742.0, 8130.0, 2560.0, 6925.0], [554.0, 1267.0, 352.0, 504.0, 716.0, 706.0], [6633.0, 3839.0, 1245.0, 7024.0, 5135.0, 1426.0], [2766.0, 1682.0, 3294.0, 1440.0, 3266.0, 468.0], [8004.0, 5974.0, 3660.0, 8345.0, 5894.0, 650.0], [4736.0, 0.0, 718.0, 5237.0, 0.0, 0.0], [989.0, 1402.0, 501.0, 41.0, 334.0, 268.0], [2840.0, 1629.0, 1684.0, 2405.0, 704.0, 881.0], [5663.0, 405.0, 4014.0, 9880.0, 3608.0, 1395.0], [2015.0, 2026.0, 0.0, 12522.0, 4322.0, 776.0], [1093.0, 5488.0, 1182.0, 4672.0, 1991.0, 1706.0], [4551.0, 488.0, 2079.0, 913.0, 21985.0, 10490.0], [12707.0, 5540.0, 5468.0, 6574.0, 32826.0, 4171.0], [1768.0, 1737.0, 9167.0, 4564.0, 2838.0, 3616.0], [1601.0, 1363.0, 5362.0, 21.0, 1280.0, 1036.0], [3720.0, 10280.0, 12136.0, 805.0, 1861.0, 1895.0], [5016.0, 1329.0, 9561.0, 6352.0, 1114.0, 6936.0], [5573.0, 3891.0, 18710.0, 10367.0, 11061.0, 10425.0], [704.0, 3240.0, 0.0, 652.0, 1409.0, 1206.0], [0.0, 0.0, 0.0, 0.0, 0.0, 416.0], [2448.0, 3567.0, 1124.0, 125.0, 0.0, 0.0], [3035.0, 1706.0, 3964.0, 8522.0, 1760.0, 2293.0], [6314.0, 1940.0, 1488.0, 3844.0, 7187.0, 942.0], [5431.0, 1078.0, 1920.0, 4271.0, 722.0, 406.0], [6489.0, 9598.0, 12371.0, 10833.0, 6452.0, 6930.0], [7055.0, 2603.0, 7855.0, 6641.0, 2448.0, 6347.0], [3892.0, 4495.0, 5019.0, 5953.0, 3089.0, 0.0], [1486.0, 4084.0, 4124.0, 706.0, 492.0, 0.0], [4008.0, 4176.0, 641.0, 1564.0, 14588.0, 15384.0], [2671.0, 5288.0, 7264.0, 2388.0, 7020.0, 527.0], [4142.0, 6734.0, 3451.0, 3242.0, 1974.0, 5587.0], [3607.0, 2379.0, 6754.0, 285.0, 2232.0, 2569.0], [885.0, 2615.0, 2252.0, 764.0, 4042.0, 1805.0], [279.0, 0.0, 0.0, 0.0, 537.0, 0.0], [14335.0, 236.0, 22114.0, 7251.0, 5561.0, 3897.0], [6585.0, 5646.0, 16555.0, 0.0, 8029.0, 0.0], [10147.0, 10373.0, 21853.0, 5930.0, 5482.0, 6654.0], [0.0, 2660.0, 14398.0, 950.0, 632.0, 1271.0], [3389.0, 9173.0, 2266.0, 1305.0, 1513.0, 2227.0], [12004.0, 2316.0, 15781.0, 1497.0, 7800.0, 1073.0], [3548.0, 4943.0, 8157.0, 7231.0, 7051.0, 3358.0], [246.0, 968.0, 0.0, 0.0, 5169.0, 1261.0], [0.0, 0.0, 0.0, 0.0, 0.0, 0.0], [5249.0, 177.0, 2347.0, 434.0, 3422.0, 3169.0], [2653.0, 4765.0, 508.0, 5139.0, 1024.0, 6477.0], [6509.0, 5032.0, 2334.0, 2633.0, 5508.0, 3932.0], [763.0, 899.0, 493.0, 500.0, 1312.0, 489.0], [1536.0, 6084.0, 0.0, 6880.0, 1680.0, 3537.0], [2057.0, 1215.0, 1004.0, 43.0, 287.0, 0.0], [0.0, 0.0, 0.0, 0.0, 0.0, 0.0], [0.0, 3875.0, 627.0, 4092.0, 139.0, 2777.0], [2651.0, 7137.0, 12329.0, 13355.0, 5646.0, 10997.0], [3409.0, 2355.0, 4319.0, 875.0, 12271.0, 413.0], [3764.0, 10175.0, 1.0, 15.0, 1047.0, 1822.0], [4164.0, 8152.0, 1654.0, 1771.0, 2470.0, 1951.0], [962.0, 11321.0, 5111.0, 5669.0, 7008.0, 10837.0]]\n"
     ]
    },
    {
     "name": "stderr",
     "output_type": "stream",
     "text": [
      "/var/folders/75/94jyvgc92_gcwmzgrg36xfd00000gn/T/ipykernel_90947/4053055259.py:3: FutureWarning: iteritems is deprecated and will be removed in a future version. Use .items instead.\n",
      "  for x in X_train_vectors.iteritems():\n"
     ]
    }
   ],
   "source": [
    "X_train_dist = map(lambda x: normalize(squareform(pdist(x[1].tolist(), metric='euclidean'))), X_train_vectors.iteritems())\n",
    "\n",
    "for x in X_train_vectors.iteritems():\n",
    "    col = x[0]\n",
    "    items = x[1]\n",
    "    print(col)\n",
    "    print(items)\n",
    "    print(items.tolist())\n",
    "    #a = squareform(pdist(items.tolist(), metric='euclidean'))\n",
    "    #print(a)\n",
    "    break"
   ]
  },
  {
   "cell_type": "code",
   "execution_count": 117,
   "id": "cd2ae43d-efab-45a3-9755-a533611eed26",
   "metadata": {},
   "outputs": [
    {
     "name": "stdout",
     "output_type": "stream",
     "text": [
      "(187, 187) (47, 187)\n"
     ]
    },
    {
     "name": "stderr",
     "output_type": "stream",
     "text": [
      "/var/folders/75/94jyvgc92_gcwmzgrg36xfd00000gn/T/ipykernel_90947/1766844305.py:9: FutureWarning: iteritems is deprecated and will be removed in a future version. Use .items instead.\n",
      "  X_train_dist = sum(map(lambda x: normalize(squareform(pdist(x[1].tolist(), metric='euclidean'))),\n",
      "/var/folders/75/94jyvgc92_gcwmzgrg36xfd00000gn/T/ipykernel_90947/1766844305.py:14: FutureWarning: iteritems is deprecated and will be removed in a future version. Use .items instead.\n",
      "  X_val_dist = sum(map(lambda x: normalize(cdist(x[0][1].tolist(), x[1][1].tolist(), metric='euclidean')),\n"
     ]
    }
   ],
   "source": [
    "def normalize(distance_matrix):\n",
    "    range_matrix = np.max(distance_matrix) - np.min(distance_matrix)\n",
    "    normalized = (distance_matrix - np.min(distance_matrix)) / range_matrix\n",
    "    return normalized\n",
    "\n",
    "# Compute the pairwise distance matrix for all the elements of the training set, by computing\n",
    "# the distances between the vectors, for each of the features selected, and summing up\n",
    "# the resulting matrices\n",
    "X_train_dist = sum(map(lambda x: normalize(squareform(pdist(x[1].tolist(), metric='euclidean'))),\n",
    "                       X_train_vectors.iteritems()))\n",
    "\n",
    "\n",
    "# Same thing but between all elements of the training set and of the validation set\n",
    "X_val_dist = sum(map(lambda x: normalize(cdist(x[0][1].tolist(), x[1][1].tolist(), metric='euclidean')), \n",
    "                     zip(X_val_vectors.iteritems(), X_train_vectors.iteritems())))\n",
    "\n",
    "print(X_train_dist.shape, X_val_dist.shape)"
   ]
  },
  {
   "cell_type": "code",
   "execution_count": 118,
   "id": "1ef8d13c",
   "metadata": {},
   "outputs": [
    {
     "name": "stdout",
     "output_type": "stream",
     "text": [
      "k-nearest neighbors. Balanced Accuracy = 0.647, AUC = 0.629\n"
     ]
    }
   ],
   "source": [
    "knn = KNeighborsClassifier(n_neighbors=5, metric='precomputed')\n",
    "\n",
    "accuracy, auc = compute_scores(knn, X_train_dist, y_train, X_val_dist, y_val)\n",
    "print(\"k-nearest neighbors. Balanced Accuracy = {}, AUC = {}\".format(accuracy, auc))"
   ]
  },
  {
   "attachments": {},
   "cell_type": "markdown",
   "id": "5c0096df",
   "metadata": {},
   "source": [
    "Below is Aybars way of doing it:"
   ]
  },
  {
   "cell_type": "code",
   "execution_count": 119,
   "id": "fcf4a148",
   "metadata": {},
   "outputs": [
    {
     "data": {
      "text/plain": [
       "187"
      ]
     },
     "execution_count": 119,
     "metadata": {},
     "output_type": "execute_result"
    }
   ],
   "source": [
    "X_train_vectors.index.get_level_values('user').nunique()"
   ]
  },
  {
   "cell_type": "code",
   "execution_count": 128,
   "id": "f44012e7-95c4-44cc-98af-4a070164e638",
   "metadata": {},
   "outputs": [],
   "source": [
    "X_train_distances = []\n",
    "X_val_distances = []\n",
    "\n",
    "for feat in feature:\n",
    "    data_for_feat = X_train_vectors[feat].to_list()\n",
    "    # currently this is a list of lists, we need a numpy array\n",
    "    data_for_feat = np.array([np.array(x) for x in data_for_feat]) \n",
    "    # Currently we have a numpy array of shape 187,6\n",
    "    # Compute the pairwise distances\n",
    "    dist = normalize(squareform(pdist(data_for_feat, metric='euclidean')))\n",
    "    X_train_distances.append(dist)\n",
    "\n",
    "    # same thing for validation set\n",
    "    data_for_feat_val = X_val_vectors[feat].to_list()\n",
    "    data_for_feat_val = np.array([np.array(x) for x in data_for_feat_val])\n",
    "    dist = normalize(cdist(data_for_feat_val, data_for_feat, metric='euclidean'))\n",
    "    X_val_distances.append(dist)\n",
    "\n",
    "# Sum the distances\n",
    "X_train_dist_aybars = sum(X_train_distances)\n",
    "X_val_dist_aybars = sum(X_val_distances)"
   ]
  },
  {
   "cell_type": "code",
   "execution_count": 129,
   "id": "ddf903f6",
   "metadata": {},
   "outputs": [
    {
     "data": {
      "text/plain": [
       "True"
      ]
     },
     "execution_count": 129,
     "metadata": {},
     "output_type": "execute_result"
    }
   ],
   "source": [
    "np.all(X_train_dist == X_train_dist_aybars)"
   ]
  },
  {
   "cell_type": "code",
   "execution_count": 130,
   "id": "4ec07cc9",
   "metadata": {},
   "outputs": [
    {
     "data": {
      "text/plain": [
       "(47, 187)"
      ]
     },
     "execution_count": 130,
     "metadata": {},
     "output_type": "execute_result"
    }
   ],
   "source": [
    "X_val_dist_aybars.shape"
   ]
  },
  {
   "cell_type": "code",
   "execution_count": 131,
   "id": "6685f007",
   "metadata": {},
   "outputs": [
    {
     "data": {
      "text/plain": [
       "True"
      ]
     },
     "execution_count": 131,
     "metadata": {},
     "output_type": "execute_result"
    }
   ],
   "source": [
    "np.all(X_val_dist == X_val_dist_aybars)"
   ]
  },
  {
   "cell_type": "code",
   "execution_count": 132,
   "id": "5ad8069f",
   "metadata": {},
   "outputs": [
    {
     "data": {
      "text/plain": [
       "(187, 187)"
      ]
     },
     "execution_count": 132,
     "metadata": {},
     "output_type": "execute_result"
    }
   ],
   "source": [
    "X_train_dist_aybars.shape"
   ]
  },
  {
   "cell_type": "code",
   "execution_count": 133,
   "id": "ee7787c0",
   "metadata": {},
   "outputs": [
    {
     "data": {
      "text/plain": [
       "(47, 187)"
      ]
     },
     "execution_count": 133,
     "metadata": {},
     "output_type": "execute_result"
    }
   ],
   "source": [
    "X_val_dist_aybars.shape"
   ]
  },
  {
   "cell_type": "code",
   "execution_count": 135,
   "id": "5ace4f6a",
   "metadata": {},
   "outputs": [
    {
     "name": "stdout",
     "output_type": "stream",
     "text": [
      "k-nearest neighbors. Balanced Accuracy = 0.647, AUC = 0.629\n"
     ]
    }
   ],
   "source": [
    "knn = KNeighborsClassifier(n_neighbors=5, metric='precomputed')\n",
    "\n",
    "accuracy, auc = compute_scores(knn, X_train_dist_aybars, y_train, X_val_dist_aybars, y_val)\n",
    "print(\"k-nearest neighbors. Balanced Accuracy = {}, AUC = {}\".format(accuracy, auc))"
   ]
  },
  {
   "cell_type": "code",
   "execution_count": null,
   "id": "4e19239d",
   "metadata": {},
   "outputs": [],
   "source": []
  }
 ],
 "metadata": {
  "colab": {
   "name": "mlbd_lecture4.ipynb",
   "provenance": []
  },
  "kernelspec": {
   "display_name": "Python",
   "language": "python",
   "name": "python3"
  },
  "language_info": {
   "codemirror_mode": {
    "name": "ipython",
    "version": 3
   },
   "file_extension": ".py",
   "mimetype": "text/x-python",
   "name": "python",
   "nbconvert_exporter": "python",
   "pygments_lexer": "ipython3",
   "version": "3.10.10"
  }
 },
 "nbformat": 4,
 "nbformat_minor": 5
}
