{
 "cells": [
  {
   "attachments": {},
   "cell_type": "markdown",
   "id": "891ad0db-af6a-4311-8f98-865c5197682a",
   "metadata": {},
   "source": [
    "# Lecture 5 - Demo Notebook"
   ]
  },
  {
   "attachments": {},
   "cell_type": "markdown",
   "id": "a4d46922-ee6e-4a8c-bddf-8a0b893a9ffe",
   "metadata": {},
   "source": [
    "We first load and clean the data."
   ]
  },
  {
   "cell_type": "code",
   "execution_count": 15,
   "id": "fad19540-3541-4151-9bf4-f1987ed2048e",
   "metadata": {
    "tags": []
   },
   "outputs": [],
   "source": [
    "import numpy as np \n",
    "import pandas as pd\n",
    "import matplotlib.pyplot as plt\n",
    "import seaborn as sns\n",
    "\n",
    "from sklearn.model_selection import train_test_split, cross_validate, GridSearchCV, ParameterGrid\n",
    "from sklearn.ensemble import RandomForestClassifier\n",
    "from sklearn.metrics import accuracy_score, roc_auc_score, classification_report, confusion_matrix, auc\n",
    "from sklearn.utils import resample\n",
    "\n",
    "DATA_DIR = \"./../../data\""
   ]
  },
  {
   "cell_type": "code",
   "execution_count": 16,
   "id": "1dd61b5d-f273-4616-aa44-c0874a579baf",
   "metadata": {},
   "outputs": [],
   "source": [
    "# Parse the aggregated student data frame.\n",
    "# This data is from an EPFL Linear Algebra flipped classroom. df_lq is aggregated features for the last week of student performance.\n",
    "# ts represents the students' time series features.\n",
    "\n",
    "df_lq = pd.read_csv('{}/aggregated_extended_fc.csv'.format(DATA_DIR))\n",
    "ts = pd.read_csv('{}/time_series_extended_fc.csv'.format(DATA_DIR))"
   ]
  },
  {
   "cell_type": "code",
   "execution_count": 17,
   "id": "72168118-0033-47c4-ae99-2ba3b6891267",
   "metadata": {},
   "outputs": [],
   "source": [
    "def remove_inactive_students(df, ts):\n",
    "    \"\"\"\n",
    "    Filter the students (removing the ones that are inactive) to proceed with analysis on students who have participated during the entire class.\n",
    "    Inputs: df, ts\n",
    "    Outputs: filtered df, ts\n",
    "    \"\"\"\n",
    "    # Fill all NaNs with strings to make them easier to process\n",
    "    df = df.fillna('NaN')\n",
    "    \n",
    "    # Find all users weeks with 0 clicks on weekends and 0 clicks on weekdays during the first few weeks of the semester\n",
    "    df_first = ts[ts.week < 5]\n",
    "    rows = np.where(np.logical_and(df_first.ch_total_clicks_weekend==0, df_first.ch_total_clicks_weekday==0).to_numpy())[0]\n",
    "    df_zero = df_first.iloc[rows, :]\n",
    "    dropusers = np.unique(df_zero.user)\n",
    "\n",
    "    # Drop users with no activity\n",
    "    ts = ts[~ts.user.isin(dropusers)]\n",
    "    df = df[~df.user.isin(dropusers)]\n",
    "    return df, ts\n",
    "\n",
    "df_lq, ts = remove_inactive_students(df_lq, ts)"
   ]
  },
  {
   "attachments": {},
   "cell_type": "markdown",
   "id": "858b2539-bcfc-40df-83d1-9eff25270fec",
   "metadata": {},
   "source": [
    "The `compute_scores` function computes the performance of classifiers with accuracy + AUC. We will use this evaluation function for all our experiments."
   ]
  },
  {
   "cell_type": "code",
   "execution_count": 18,
   "id": "e2b78680-efbe-4a07-9213-7c8522698a95",
   "metadata": {},
   "outputs": [],
   "source": [
    "def compute_scores(clf, X_train, y_train, X_test, y_test, roundnum=3, report=False):\n",
    "    \"\"\"\n",
    "    Train clf (binary classification) model on X_train and y_train, predict on X_test. Evaluate predictions against ground truth y_test.\n",
    "    Inputs: clf, training set (X_train, y_train), test set (X_test, y_test)\n",
    "    Inputs (optional): roundnum (number of digits for rounding metrics), report (print scores)\n",
    "    Outputs: accuracy, AUC\n",
    "    \"\"\"\n",
    "    # Fit the clf predictor (passed in as an argument)\n",
    "    clf.fit(X_train, y_train)\n",
    "    y_pred = clf.predict(X_test)\n",
    "    \n",
    "    # Calculate accuracy score\n",
    "    accuracy = accuracy_score(y_test, y_pred)\n",
    "\n",
    "    # Calculate roc AUC score\n",
    "    AUC = roc_auc_score(y_test, clf.predict_proba(X_test)[:, 1])\n",
    "    \n",
    "    # Print classification results\n",
    "    if report:\n",
    "        print(classification_report(y_test, y_pred))\n",
    "\n",
    "    return round(accuracy, roundnum), round(AUC, roundnum)"
   ]
  },
  {
   "attachments": {},
   "cell_type": "markdown",
   "id": "f29ca4d9-f07f-4246-bb78-ad1fb3835d51",
   "metadata": {},
   "source": [
    "We compute the pass/fail label of the students in the dataframe to use for the experiments. We will use the aggregated dataframe (df_lq) for all our experiments. If students have a grade higher than or equal to 4, they have passed the class."
   ]
  },
  {
   "cell_type": "code",
   "execution_count": 19,
   "id": "593c81c9-5d4d-4ddc-8b9b-6b3def76169f",
   "metadata": {},
   "outputs": [],
   "source": [
    "df_lq['passed'] = (df_lq.grade >= 4).astype(int)"
   ]
  },
  {
   "attachments": {},
   "cell_type": "markdown",
   "id": "7f2ae905-fdf7-4118-8744-6fd76f5d1f32",
   "metadata": {},
   "source": [
    "## Model Assessment"
   ]
  },
  {
   "attachments": {},
   "cell_type": "markdown",
   "id": "dd443ce2-e939-40fe-8870-1c4f87108265",
   "metadata": {},
   "source": [
    "In a next step, we are interested in evaluating the generalizability of our models. We will use a random forest model for all our evaluations. For our evaluations, we will investigate behavioral features only."
   ]
  },
  {
   "cell_type": "code",
   "execution_count": 20,
   "id": "7de2d363-8d4f-4719-ae67-dfff6dd95f3d",
   "metadata": {},
   "outputs": [
    {
     "name": "stdout",
     "output_type": "stream",
     "text": [
      "['ch_num_sessions', 'ch_time_in_prob_sum', 'ch_time_in_video_sum', 'ch_ratio_clicks_weekend_day', 'ch_total_clicks_weekend', 'ch_total_clicks_weekday', 'ch_time_sessions_mean', 'ch_time_sessions_std', 'bo_delay_lecture', 'bo_reg_peak_dayhour', 'bo_reg_periodicity_m1', 'ma_competency_strength', 'ma_competency_anti', 'ma_content_anti', 'ma_student_shape', 'ma_student_speed', 'mu_speed_playback_mean', 'mu_frequency_action_relative_video_pause', 'wa_num_subs', 'wa_num_subs_correct', 'wa_num_subs_avg', 'wa_num_subs_perc_correct', 'la_pause_dur_mean', 'la_seek_len_std', 'la_pause_dur_std', 'la_time_speeding_up_mean', 'la_time_speeding_up_std', 'la_weekly_prop_watched_mean', 'la_weekly_prop_interrupted_mean', 'la_weekly_prop_interrupted_std', 'la_weekly_prop_replayed_mean', 'la_weekly_prop_replayed_std', 'la_frequency_action_video_play']\n"
     ]
    }
   ],
   "source": [
    "# Filter out demographic features\n",
    "features = [x for x in df_lq.columns if x not in ['user', 'week', 'grade', 'gender', 'category', 'year', 'passed']]\n",
    "print(features)"
   ]
  },
  {
   "cell_type": "code",
   "execution_count": 21,
   "id": "561753df-2e54-45fe-baac-65c867a00019",
   "metadata": {},
   "outputs": [],
   "source": [
    "# Only keep behavioral features in X.\n",
    "X = df_lq[features]\n",
    "\n",
    "# Our binary indicator variable is based on our evaluation criteria: pass/fail.\n",
    "y = df_lq['passed']"
   ]
  },
  {
   "cell_type": "code",
   "execution_count": 22,
   "id": "0b5a37f6",
   "metadata": {},
   "outputs": [
    {
     "data": {
      "text/html": [
       "<div>\n",
       "<style scoped>\n",
       "    .dataframe tbody tr th:only-of-type {\n",
       "        vertical-align: middle;\n",
       "    }\n",
       "\n",
       "    .dataframe tbody tr th {\n",
       "        vertical-align: top;\n",
       "    }\n",
       "\n",
       "    .dataframe thead th {\n",
       "        text-align: right;\n",
       "    }\n",
       "</style>\n",
       "<table border=\"1\" class=\"dataframe\">\n",
       "  <thead>\n",
       "    <tr style=\"text-align: right;\">\n",
       "      <th></th>\n",
       "      <th>ch_num_sessions</th>\n",
       "      <th>ch_time_in_prob_sum</th>\n",
       "      <th>ch_time_in_video_sum</th>\n",
       "      <th>ch_ratio_clicks_weekend_day</th>\n",
       "      <th>ch_total_clicks_weekend</th>\n",
       "      <th>ch_total_clicks_weekday</th>\n",
       "      <th>ch_time_sessions_mean</th>\n",
       "      <th>ch_time_sessions_std</th>\n",
       "      <th>bo_delay_lecture</th>\n",
       "      <th>bo_reg_peak_dayhour</th>\n",
       "      <th>...</th>\n",
       "      <th>la_seek_len_std</th>\n",
       "      <th>la_pause_dur_std</th>\n",
       "      <th>la_time_speeding_up_mean</th>\n",
       "      <th>la_time_speeding_up_std</th>\n",
       "      <th>la_weekly_prop_watched_mean</th>\n",
       "      <th>la_weekly_prop_interrupted_mean</th>\n",
       "      <th>la_weekly_prop_interrupted_std</th>\n",
       "      <th>la_weekly_prop_replayed_mean</th>\n",
       "      <th>la_weekly_prop_replayed_std</th>\n",
       "      <th>la_frequency_action_video_play</th>\n",
       "    </tr>\n",
       "  </thead>\n",
       "  <tbody>\n",
       "    <tr>\n",
       "      <th>1</th>\n",
       "      <td>3.4</td>\n",
       "      <td>1698.4</td>\n",
       "      <td>9227.8</td>\n",
       "      <td>0.567500</td>\n",
       "      <td>4.0</td>\n",
       "      <td>179.4</td>\n",
       "      <td>3068.720238</td>\n",
       "      <td>1257.504407</td>\n",
       "      <td>-2883.367738</td>\n",
       "      <td>129.051646</td>\n",
       "      <td>...</td>\n",
       "      <td>76.649582</td>\n",
       "      <td>102.008158</td>\n",
       "      <td>43.669027</td>\n",
       "      <td>76.325541</td>\n",
       "      <td>0.748868</td>\n",
       "      <td>0.074683</td>\n",
       "      <td>0.0</td>\n",
       "      <td>0.066456</td>\n",
       "      <td>0.0</td>\n",
       "      <td>0.332424</td>\n",
       "    </tr>\n",
       "    <tr>\n",
       "      <th>2</th>\n",
       "      <td>5.3</td>\n",
       "      <td>2340.6</td>\n",
       "      <td>10801.3</td>\n",
       "      <td>26.562274</td>\n",
       "      <td>94.6</td>\n",
       "      <td>129.2</td>\n",
       "      <td>1750.289268</td>\n",
       "      <td>1024.134043</td>\n",
       "      <td>10027.216667</td>\n",
       "      <td>127.164668</td>\n",
       "      <td>...</td>\n",
       "      <td>31.505908</td>\n",
       "      <td>69.944633</td>\n",
       "      <td>3.541667</td>\n",
       "      <td>7.433011</td>\n",
       "      <td>0.354487</td>\n",
       "      <td>0.026667</td>\n",
       "      <td>0.0</td>\n",
       "      <td>0.059915</td>\n",
       "      <td>0.0</td>\n",
       "      <td>0.284407</td>\n",
       "    </tr>\n",
       "    <tr>\n",
       "      <th>4</th>\n",
       "      <td>2.5</td>\n",
       "      <td>3787.3</td>\n",
       "      <td>7040.0</td>\n",
       "      <td>1.543889</td>\n",
       "      <td>58.4</td>\n",
       "      <td>64.9</td>\n",
       "      <td>3373.908333</td>\n",
       "      <td>1363.320365</td>\n",
       "      <td>-914.633333</td>\n",
       "      <td>89.824892</td>\n",
       "      <td>...</td>\n",
       "      <td>44.673848</td>\n",
       "      <td>112.412301</td>\n",
       "      <td>24.361062</td>\n",
       "      <td>38.387654</td>\n",
       "      <td>0.030000</td>\n",
       "      <td>0.000000</td>\n",
       "      <td>0.0</td>\n",
       "      <td>0.020000</td>\n",
       "      <td>0.0</td>\n",
       "      <td>0.199775</td>\n",
       "    </tr>\n",
       "    <tr>\n",
       "      <th>5</th>\n",
       "      <td>2.5</td>\n",
       "      <td>2568.9</td>\n",
       "      <td>3718.9</td>\n",
       "      <td>0.009677</td>\n",
       "      <td>31.2</td>\n",
       "      <td>50.8</td>\n",
       "      <td>1753.647500</td>\n",
       "      <td>1190.793589</td>\n",
       "      <td>12406.195238</td>\n",
       "      <td>66.588303</td>\n",
       "      <td>...</td>\n",
       "      <td>64.905168</td>\n",
       "      <td>86.040921</td>\n",
       "      <td>33.693808</td>\n",
       "      <td>83.394778</td>\n",
       "      <td>0.330000</td>\n",
       "      <td>0.097619</td>\n",
       "      <td>0.0</td>\n",
       "      <td>0.047619</td>\n",
       "      <td>0.0</td>\n",
       "      <td>0.261962</td>\n",
       "    </tr>\n",
       "    <tr>\n",
       "      <th>6</th>\n",
       "      <td>4.2</td>\n",
       "      <td>5475.2</td>\n",
       "      <td>9711.6</td>\n",
       "      <td>0.476263</td>\n",
       "      <td>105.1</td>\n",
       "      <td>46.7</td>\n",
       "      <td>20410.677619</td>\n",
       "      <td>1561.548415</td>\n",
       "      <td>-13723.616667</td>\n",
       "      <td>80.067851</td>\n",
       "      <td>...</td>\n",
       "      <td>21.152326</td>\n",
       "      <td>82.017555</td>\n",
       "      <td>21.541077</td>\n",
       "      <td>38.984540</td>\n",
       "      <td>0.080000</td>\n",
       "      <td>0.010000</td>\n",
       "      <td>0.0</td>\n",
       "      <td>0.000000</td>\n",
       "      <td>0.0</td>\n",
       "      <td>0.229185</td>\n",
       "    </tr>\n",
       "  </tbody>\n",
       "</table>\n",
       "<p>5 rows × 33 columns</p>\n",
       "</div>"
      ],
      "text/plain": [
       "   ch_num_sessions  ch_time_in_prob_sum  ch_time_in_video_sum  \\\n",
       "1              3.4               1698.4                9227.8   \n",
       "2              5.3               2340.6               10801.3   \n",
       "4              2.5               3787.3                7040.0   \n",
       "5              2.5               2568.9                3718.9   \n",
       "6              4.2               5475.2                9711.6   \n",
       "\n",
       "   ch_ratio_clicks_weekend_day  ch_total_clicks_weekend  \\\n",
       "1                     0.567500                      4.0   \n",
       "2                    26.562274                     94.6   \n",
       "4                     1.543889                     58.4   \n",
       "5                     0.009677                     31.2   \n",
       "6                     0.476263                    105.1   \n",
       "\n",
       "   ch_total_clicks_weekday  ch_time_sessions_mean  ch_time_sessions_std  \\\n",
       "1                    179.4            3068.720238           1257.504407   \n",
       "2                    129.2            1750.289268           1024.134043   \n",
       "4                     64.9            3373.908333           1363.320365   \n",
       "5                     50.8            1753.647500           1190.793589   \n",
       "6                     46.7           20410.677619           1561.548415   \n",
       "\n",
       "   bo_delay_lecture  bo_reg_peak_dayhour  ...  la_seek_len_std  \\\n",
       "1      -2883.367738           129.051646  ...        76.649582   \n",
       "2      10027.216667           127.164668  ...        31.505908   \n",
       "4       -914.633333            89.824892  ...        44.673848   \n",
       "5      12406.195238            66.588303  ...        64.905168   \n",
       "6     -13723.616667            80.067851  ...        21.152326   \n",
       "\n",
       "   la_pause_dur_std  la_time_speeding_up_mean  la_time_speeding_up_std  \\\n",
       "1        102.008158                 43.669027                76.325541   \n",
       "2         69.944633                  3.541667                 7.433011   \n",
       "4        112.412301                 24.361062                38.387654   \n",
       "5         86.040921                 33.693808                83.394778   \n",
       "6         82.017555                 21.541077                38.984540   \n",
       "\n",
       "   la_weekly_prop_watched_mean  la_weekly_prop_interrupted_mean  \\\n",
       "1                     0.748868                         0.074683   \n",
       "2                     0.354487                         0.026667   \n",
       "4                     0.030000                         0.000000   \n",
       "5                     0.330000                         0.097619   \n",
       "6                     0.080000                         0.010000   \n",
       "\n",
       "   la_weekly_prop_interrupted_std  la_weekly_prop_replayed_mean  \\\n",
       "1                             0.0                      0.066456   \n",
       "2                             0.0                      0.059915   \n",
       "4                             0.0                      0.020000   \n",
       "5                             0.0                      0.047619   \n",
       "6                             0.0                      0.000000   \n",
       "\n",
       "   la_weekly_prop_replayed_std  la_frequency_action_video_play  \n",
       "1                          0.0                        0.332424  \n",
       "2                          0.0                        0.284407  \n",
       "4                          0.0                        0.199775  \n",
       "5                          0.0                        0.261962  \n",
       "6                          0.0                        0.229185  \n",
       "\n",
       "[5 rows x 33 columns]"
      ]
     },
     "execution_count": 22,
     "metadata": {},
     "output_type": "execute_result"
    }
   ],
   "source": [
    "X.head(5)"
   ]
  },
  {
   "attachments": {},
   "cell_type": "markdown",
   "id": "fdc04c79-7cdc-4f81-b361-ef309004c8b3",
   "metadata": {},
   "source": [
    "### Train-Test Setting"
   ]
  },
  {
   "attachments": {},
   "cell_type": "markdown",
   "id": "72257d09",
   "metadata": {},
   "source": [
    "We split the data in a train-test split (stratified by the outcome variable)."
   ]
  },
  {
   "cell_type": "code",
   "execution_count": 23,
   "id": "24643627-f9ed-4d43-b6f7-b454e4f28629",
   "metadata": {},
   "outputs": [],
   "source": [
    "# The train-test split is 80:20 (as shown by the 0.2 test_size argument). \n",
    "# We choose a random_state to replicate the results in the same split every time we run this notebook.\n",
    "# The stratify argument ensures a proportionate number of passes/fails are in the training set and the test set.\n",
    "\n",
    "X_train, X_test, y_train, y_test = train_test_split(X, y, test_size=0.2, random_state=42, stratify=y)"
   ]
  },
  {
   "cell_type": "code",
   "execution_count": 24,
   "id": "e4b14647-55de-41e7-850e-b708564c7be5",
   "metadata": {},
   "outputs": [],
   "source": [
    "# Let's initialize a RandomForestClassifier to make our model predictions.\n",
    "\n",
    "clf = RandomForestClassifier(random_state=42)"
   ]
  },
  {
   "cell_type": "code",
   "execution_count": 25,
   "id": "9a1b3e51-6eae-4e92-b45c-a64903a03aa9",
   "metadata": {},
   "outputs": [
    {
     "name": "stdout",
     "output_type": "stream",
     "text": [
      "Accuracy for train-test setting: 0.723\n",
      "AUC for train-test setting: 0.719\n"
     ]
    }
   ],
   "source": [
    "# We can use our compute_scores function to evaluate the results of our train-test split classifier.\n",
    "\n",
    "accuracy, AUC = compute_scores(clf, X_train, y_train, X_test, y_test)\n",
    "\n",
    "print(f'Accuracy for train-test setting: {accuracy}')\n",
    "print(f'AUC for train-test setting: {AUC}')"
   ]
  },
  {
   "attachments": {},
   "cell_type": "markdown",
   "id": "2a332370-626f-4c99-a8ef-2d6d0973ed9c",
   "metadata": {
    "tags": []
   },
   "source": [
    "### Cross Validation"
   ]
  },
  {
   "cell_type": "code",
   "execution_count": 26,
   "id": "41970544-d7c1-4008-b5e7-02de9a625683",
   "metadata": {},
   "outputs": [],
   "source": [
    "# Initialize a new Random Forest predictor for our cross-validation comparison.\n",
    "\n",
    "clf = RandomForestClassifier(random_state=42)"
   ]
  },
  {
   "cell_type": "code",
   "execution_count": 27,
   "id": "43f55e37-caab-4d85-80d8-b93868f04fe8",
   "metadata": {},
   "outputs": [
    {
     "name": "stdout",
     "output_type": "stream",
     "text": [
      "Mean accuracy with cross-validation: 0.649\n",
      "Mean AUC with cross-validation: 0.674\n"
     ]
    }
   ],
   "source": [
    "# With the cross_validate function, the SciKit Learn library automatically uses stratification across folds with the \"cv\" argument. \n",
    "# In the background, it's using the StratifiedKFold function with 10 folds.\n",
    "# We pass in our desired metrics (\"accuracy\", \"roc_auc\") for evaluation in the \"scoring\" argument.\n",
    "\n",
    "scores = cross_validate(clf, X, y, cv=5, scoring=['accuracy', 'roc_auc'])\n",
    "\n",
    "print(f'Mean accuracy with cross-validation: {scores[\"test_accuracy\"].mean():.3f}')\n",
    "print(f'Mean AUC with cross-validation: {scores[\"test_roc_auc\"].mean():.3f}')"
   ]
  },
  {
   "attachments": {},
   "cell_type": "markdown",
   "id": "af0b4446-9e6c-49a5-be73-c940c16df560",
   "metadata": {},
   "source": [
    "### Bootstrapping"
   ]
  },
  {
   "attachments": {},
   "cell_type": "markdown",
   "id": "7ff3403e-c341-4792-a952-7bb9b14b7797",
   "metadata": {},
   "source": [
    "Next, we use bootstrapping to evaluate our model. For this evaluation method, we can only compute the accuracy, but not the AUC.\n",
    "\n",
    "The ROC curve is defined as the False Positive Rate, FPR = FP / (TN + FP), vs the True Positive Rate, TPR = TP / (TP + FN). However, when we consider a set of data points all with the same label, one of those two rates is undefined. \n",
    "\n",
    "In the setting of leave-one-out bootstrapping, we can confirm that this happens when we consider the predictions for the data point $i$ of all predictors $b \\in C^{-i}$. If the point $i$ had label 1, then all the predictions for it would be either TP or FN, with FPR being undefined, while if it had label 0 all the predictions would be either TN or FP, with FPR undefined. Therefore, we will only consider accuracy as metric for bootstrapping."
   ]
  },
  {
   "cell_type": "code",
   "execution_count": 28,
   "id": "2dac6b55-742a-4fa2-9772-26573ce806e2",
   "metadata": {
    "tags": []
   },
   "outputs": [],
   "source": [
    "# It is important to sample with:\n",
    "# (1) the same size as the initial df (df_size) \n",
    "# (2) with replacement (replace=True)\n",
    "# for the bootstrap samples to be representative.\n",
    "df_size = len(df_lq)\n",
    "B = 100\n",
    "\n",
    "# Generate B bootstrap samples of the dataset with replacement.\n",
    "samples = [resample(X, y, replace=True, n_samples=df_size) for b in range(B)]\n",
    "\n",
    "# Train a random forest classifier for each bootstrap set\n",
    "clfs = [RandomForestClassifier(random_state=42).fit(X_b, y_b) for X_b, y_b in samples]"
   ]
  },
  {
   "cell_type": "code",
   "execution_count": 29,
   "id": "8892563b-7589-4edb-8317-288402e46285",
   "metadata": {},
   "outputs": [],
   "source": [
    "# Calculate the predictions for each bootstrap sample (b in range(B)).\n",
    "# Compare predictions against the ground truth (y.loc[[user]]). \n",
    "# Take the mean of predictions for each student (over on the number of times they were predicted).\n",
    "# Takes ~2 mins\n",
    "accuracies = [\n",
    "    np.mean([clfs[b].predict(X.loc[[user]]) == y.loc[[user]] for b in range(B) if user not in samples[b][0].index])\n",
    "    for user in df_lq.index\n",
    "    ]"
   ]
  },
  {
   "cell_type": "code",
   "execution_count": 30,
   "id": "74efc7e4",
   "metadata": {},
   "outputs": [],
   "source": [
    "errors = [\n",
    "    np.mean([clfs[b].predict(X.loc[[user]]) != y.loc[[user]] for b in range(B) if user not in samples[b][0].index])\n",
    "    for user in df_lq.index\n",
    "    ]"
   ]
  },
  {
   "cell_type": "code",
   "execution_count": 31,
   "id": "bec11506-d74f-40ef-a0cc-33a8ecb7349c",
   "metadata": {},
   "outputs": [
    {
     "data": {
      "text/plain": [
       "0.6769667501734644"
      ]
     },
     "execution_count": 31,
     "metadata": {},
     "output_type": "execute_result"
    }
   ],
   "source": [
    "# Take the mean of errors across all students.\n",
    "bootstrap_err = np.mean(accuracies)\n",
    "bootstrap_err"
   ]
  },
  {
   "cell_type": "code",
   "execution_count": 32,
   "id": "9328582e",
   "metadata": {},
   "outputs": [
    {
     "data": {
      "text/plain": [
       "0.3230332498265356"
      ]
     },
     "execution_count": 32,
     "metadata": {},
     "output_type": "execute_result"
    }
   ],
   "source": [
    "# Take the mean of errors across all students.\n",
    "bootstrap_err_me = np.mean(errors)\n",
    "bootstrap_err_me"
   ]
  },
  {
   "cell_type": "code",
   "execution_count": 33,
   "id": "cf66237b-b566-4ded-b565-3ac227105a4d",
   "metadata": {},
   "outputs": [
    {
     "data": {
      "text/plain": [
       "1.0"
      ]
     },
     "execution_count": 33,
     "metadata": {},
     "output_type": "execute_result"
    }
   ],
   "source": [
    "# Calculate the training error for each bootstrapped model, then average across bootstraps.\n",
    "training_err_bootstrap = [clfs[b].score(samples[b][0], samples[b][1]) for b in range(B)]\n",
    "training_err = np.mean(training_err_bootstrap)\n",
    "training_err"
   ]
  },
  {
   "cell_type": "code",
   "execution_count": 34,
   "id": "948feb94-7897-45aa-8859-5cf587363e4a",
   "metadata": {},
   "outputs": [
    {
     "name": "stdout",
     "output_type": "stream",
     "text": [
      "Mean accuracy with .632 leave-one-out bootstrapping: 0.796\n"
     ]
    }
   ],
   "source": [
    "accuracy_632 = 0.632 * bootstrap_err + 0.368 * training_err\n",
    "print(f'Mean accuracy with .632 leave-one-out bootstrapping: {accuracy_632:.3f}')"
   ]
  },
  {
   "cell_type": "code",
   "execution_count": 35,
   "id": "1960ef88",
   "metadata": {},
   "outputs": [
    {
     "data": {
      "text/plain": [
       "0.2041570138903705"
      ]
     },
     "execution_count": 35,
     "metadata": {},
     "output_type": "execute_result"
    }
   ],
   "source": [
    "error_632 = 0.632 * bootstrap_err_me + 0.368 * (1 - training_err)\n",
    "error_632"
   ]
  },
  {
   "attachments": {},
   "cell_type": "markdown",
   "id": "7ff442a7-9bf9-4714-b56b-f35a2caaa43e",
   "metadata": {},
   "source": [
    "## Model Selection"
   ]
  },
  {
   "attachments": {},
   "cell_type": "markdown",
   "id": "d83684f1-1beb-433e-8d1b-6763add6864d",
   "metadata": {},
   "source": [
    "Of course, when training ML models, we want to tune their hyperparameters in order to optimize the performance. In order to tune the hyperparameters of a model, we need to do further splits of our data set. To do so, we can freely combine the approaches presented in the model assessment section. In the following, we present a few ideas."
   ]
  },
  {
   "attachments": {},
   "cell_type": "markdown",
   "id": "e3ab3ad2-2260-4747-9353-0021799fb1d0",
   "metadata": {},
   "source": [
    "### Example 1: Train-Test-Validation Split"
   ]
  },
  {
   "attachments": {},
   "cell_type": "markdown",
   "id": "7906b203-6451-4a2e-b36e-e284690699e1",
   "metadata": {},
   "source": [
    "In the first example we use a train-test setting to perform the outer split (model assessment) as well as the inner split (model selection). We hold out 20% of the data for testing and 10% of the data for validation (for hyperparameter tuning)."
   ]
  },
  {
   "cell_type": "code",
   "execution_count": 36,
   "id": "4e09002f-ece0-4650-a45c-6b4a2597a5f9",
   "metadata": {},
   "outputs": [],
   "source": [
    "# Select the test set as 20% of the initial data set\n",
    "X_1, X_test, y_1, y_test = train_test_split(X, y, test_size=0.2, random_state=42, stratify=y)"
   ]
  },
  {
   "cell_type": "code",
   "execution_count": 37,
   "id": "0f0820cd-3a3b-4ed6-80c0-5530ff822987",
   "metadata": {},
   "outputs": [],
   "source": [
    "# Select the training set as 70% of the initial dataset\n",
    "# Select the validation set at 10% of the initial dataset (we use 1/8 here because we've already split the set once)\n",
    "X_train, X_val, y_train, y_val = train_test_split(X_1, y_1, test_size=1/8, random_state=42, stratify=y_1)"
   ]
  },
  {
   "cell_type": "code",
   "execution_count": 38,
   "id": "0ef3c29d-9a52-4816-b741-aa5b7fec8f14",
   "metadata": {},
   "outputs": [],
   "source": [
    "# We compute a grid search across the following parameter space\n",
    "parameters = {\n",
    "    'n_estimators': [20, 50, 100],\n",
    "    'criterion': ['entropy', 'gini'],\n",
    "    'max_depth': np.arange(3, 9),\n",
    "    'min_samples_split': [2, 3, 5],\n",
    "    'min_samples_leaf': [1, 3, 5],\n",
    "}\n",
    "\n",
    "params_grid = ParameterGrid(parameters)"
   ]
  },
  {
   "cell_type": "code",
   "execution_count": 39,
   "id": "7ee91665-24ad-4df2-bd93-adf0c41672f8",
   "metadata": {},
   "outputs": [],
   "source": [
    "# For each combination of candidate parameters, fit a classifier on the training set and evaluate it on the validation set\n",
    "results = [[params, compute_scores(RandomForestClassifier(random_state=42, **params), \n",
    "                                   X_train, y_train, X_val, y_val)] for params in params_grid]"
   ]
  },
  {
   "cell_type": "code",
   "execution_count": 40,
   "id": "ddc06c98-b7a5-4e93-b55c-060f9fd5eb95",
   "metadata": {},
   "outputs": [],
   "source": [
    "# Sort candidate parameters according to their accuracy\n",
    "results = sorted(results, key=lambda x: x[1][0], reverse=True)"
   ]
  },
  {
   "cell_type": "code",
   "execution_count": 41,
   "id": "0d6fb0dc-5842-47b5-87a4-3c88bcca9fbf",
   "metadata": {},
   "outputs": [
    {
     "data": {
      "text/plain": [
       "{'criterion': 'gini',\n",
       " 'max_depth': 4,\n",
       " 'min_samples_leaf': 1,\n",
       " 'min_samples_split': 5,\n",
       " 'n_estimators': 50}"
      ]
     },
     "execution_count": 41,
     "metadata": {},
     "output_type": "execute_result"
    }
   ],
   "source": [
    "# Obtain the best parameters\n",
    "best_params = results[0][0]\n",
    "best_params"
   ]
  },
  {
   "cell_type": "code",
   "execution_count": 42,
   "id": "9886672f-c4f0-41b4-ac89-199e5710d215",
   "metadata": {},
   "outputs": [
    {
     "name": "stdout",
     "output_type": "stream",
     "text": [
      "Accuracy for train-validation-test setting: 0.681\n",
      "AUC for train-validation-test setting: 0.739\n"
     ]
    }
   ],
   "source": [
    "# Train and evaluate a model based on the best parameter settings\n",
    "clf = RandomForestClassifier(random_state=42, **best_params)\n",
    "accuracy, AUC = compute_scores(clf, X_1, y_1, X_test, y_test)\n",
    "\n",
    "print(f'Accuracy for train-validation-test setting: {accuracy}')\n",
    "print(f'AUC for train-validation-test setting: {AUC}')"
   ]
  },
  {
   "attachments": {},
   "cell_type": "markdown",
   "id": "93af1deb-e2e1-4f19-b238-8eece0b99150",
   "metadata": {
    "tags": []
   },
   "source": [
    "### Example 2: Nested 10-Fold Cross Validation"
   ]
  },
  {
   "attachments": {},
   "cell_type": "markdown",
   "id": "7dda333a-5570-4d74-8f16-9d517f1ea1ed",
   "metadata": {},
   "source": [
    "We use a 10-fold cross validation to perform the outer split (model assessment) as well as the inner split (model selection), leading to a **nested** 10-fold cross validation."
   ]
  },
  {
   "cell_type": "code",
   "execution_count": 43,
   "id": "51ffb3e2-a727-4140-b5c3-efc63ad04a9a",
   "metadata": {},
   "outputs": [],
   "source": [
    "# We compute a grid search across the following parameter space\n",
    "parameters = {\n",
    "    'n_estimators': [20, 50, 100],\n",
    "    'criterion': ['entropy', 'gini'],\n",
    "    'max_depth': np.arange(3, 7),\n",
    "    'min_samples_split': [2],\n",
    "    'min_samples_leaf': [1],\n",
    "}"
   ]
  },
  {
   "cell_type": "code",
   "execution_count": 44,
   "id": "d2f46d71-1910-493b-bd79-6ad52a9e1627",
   "metadata": {},
   "outputs": [],
   "source": [
    "# This cell takes ~3 minutes to run\n",
    "\n",
    "# Inner cross validation loop\n",
    "clf = GridSearchCV(RandomForestClassifier(random_state=42), parameters, cv=10)\n",
    "\n",
    "# Outer cross validation loop\n",
    "scores_nested_cv = cross_validate(clf, X, y, cv=3, scoring=['accuracy', 'roc_auc'])"
   ]
  },
  {
   "cell_type": "code",
   "execution_count": 45,
   "id": "125817bc",
   "metadata": {},
   "outputs": [
    {
     "data": {
      "text/plain": [
       "{'fit_time': array([8.27480984, 8.20219994, 8.25538301]),\n",
       " 'score_time': array([0.00575018, 0.00274205, 0.00679398]),\n",
       " 'test_accuracy': array([0.62820513, 0.66666667, 0.69230769]),\n",
       " 'test_roc_auc': array([0.68222375, 0.67467399, 0.65271105])}"
      ]
     },
     "execution_count": 45,
     "metadata": {},
     "output_type": "execute_result"
    }
   ],
   "source": [
    "scores_nested_cv"
   ]
  },
  {
   "cell_type": "code",
   "execution_count": 46,
   "id": "af9b5f5c-7eaa-429a-b307-fbdc398d0b91",
   "metadata": {},
   "outputs": [
    {
     "name": "stdout",
     "output_type": "stream",
     "text": [
      "Mean accuracy with nested cross-validation: 0.662\n",
      "Mean AUC with nested cross-validation: 0.670\n"
     ]
    }
   ],
   "source": [
    "print(f'Mean accuracy with nested cross-validation: {scores_nested_cv[\"test_accuracy\"].mean():.3f}')\n",
    "print(f'Mean AUC with nested cross-validation: {scores_nested_cv[\"test_roc_auc\"].mean():.3f}')"
   ]
  },
  {
   "attachments": {},
   "cell_type": "markdown",
   "id": "3d5b2dbb-7c7b-47e2-9c1c-a2b075ee7a89",
   "metadata": {
    "tags": []
   },
   "source": [
    "### Example 3: Cross Validation with Bootstrap"
   ]
  },
  {
   "attachments": {},
   "cell_type": "markdown",
   "id": "99f9d866-e055-4cdf-9ebf-ee85c47c63a0",
   "metadata": {
    "tags": []
   },
   "source": [
    "We perform cross validation on the bootstrap data set from before to tune the hyperparameters."
   ]
  },
  {
   "cell_type": "code",
   "execution_count": 47,
   "id": "e50edcc4-4adc-47d9-be30-1a329ca5d167",
   "metadata": {},
   "outputs": [],
   "source": [
    "# We compute a grid search across the following parameter space\n",
    "parameters = {\n",
    "    'n_estimators': [20, 50],\n",
    "    'criterion': ['gini'],\n",
    "    'max_depth': np.arange(3, 5),\n",
    "    'min_samples_split': [2],\n",
    "    'min_samples_leaf': [1],\n",
    "}"
   ]
  },
  {
   "attachments": {},
   "cell_type": "markdown",
   "id": "b85ff8d5",
   "metadata": {},
   "source": [
    "Note that GridSearchCV().predict calls predict on the estimator with the best found parameters. "
   ]
  },
  {
   "cell_type": "code",
   "execution_count": 48,
   "id": "2711b789-f195-42f5-b83f-4d550b522faa",
   "metadata": {
    "tags": []
   },
   "outputs": [],
   "source": [
    "df_size = len(df_lq)\n",
    "B = 100\n",
    "\n",
    "# Generate B samples with replacement\n",
    "samples = [resample(X, y, replace=True, n_samples=df_size) for b in range(B)]\n",
    "# Train a random forest classifier for each sample, cross-validating to find the best parameters\n",
    "clfs = [GridSearchCV(RandomForestClassifier(random_state=42), parameters, cv=3).fit(X_b, y_b) for X_b, y_b in samples]"
   ]
  },
  {
   "attachments": {},
   "cell_type": "markdown",
   "id": "045fa27e",
   "metadata": {},
   "source": [
    "Notice how for each bootstrapped data set, the best parameters are different."
   ]
  },
  {
   "cell_type": "code",
   "execution_count": 51,
   "id": "dfe193ea",
   "metadata": {},
   "outputs": [
    {
     "name": "stdout",
     "output_type": "stream",
     "text": [
      "{'criterion': 'gini', 'max_depth': 4, 'min_samples_leaf': 1, 'min_samples_split': 2, 'n_estimators': 50}\n",
      "{'criterion': 'gini', 'max_depth': 4, 'min_samples_leaf': 1, 'min_samples_split': 2, 'n_estimators': 50}\n",
      "{'criterion': 'gini', 'max_depth': 4, 'min_samples_leaf': 1, 'min_samples_split': 2, 'n_estimators': 20}\n",
      "{'criterion': 'gini', 'max_depth': 4, 'min_samples_leaf': 1, 'min_samples_split': 2, 'n_estimators': 50}\n",
      "{'criterion': 'gini', 'max_depth': 4, 'min_samples_leaf': 1, 'min_samples_split': 2, 'n_estimators': 20}\n",
      "{'criterion': 'gini', 'max_depth': 4, 'min_samples_leaf': 1, 'min_samples_split': 2, 'n_estimators': 50}\n"
     ]
    }
   ],
   "source": [
    "for i in range(len(clfs)):\n",
    "    print(clfs[i].best_params_)\n",
    "    if i == 5:\n",
    "        break"
   ]
  },
  {
   "cell_type": "code",
   "execution_count": 52,
   "id": "fc6ce94f-f28f-4bfb-9683-0ea24f4236d0",
   "metadata": {},
   "outputs": [],
   "source": [
    "# Calculate the predictions for each bootstrap sample (b in range(B)).\n",
    "# Compare predictions against the ground truth (y.loc[[user]]). \n",
    "# Take the mean of predictions for each student (over on the number of times they were predicted).\n",
    "# Takes ~2 mins\n",
    "accuracies_bootstrap = [np.mean([clfs[b].predict(X.loc[[user]]) == y.loc[[user]] for b in range(B) if user not in samples[b][0].index])\n",
    "                        for user in df_lq.index]"
   ]
  },
  {
   "cell_type": "code",
   "execution_count": 53,
   "id": "9f8a3657",
   "metadata": {},
   "outputs": [
    {
     "data": {
      "text/plain": [
       "True"
      ]
     },
     "execution_count": 53,
     "metadata": {},
     "output_type": "execute_result"
    }
   ],
   "source": [
    "len(accuracies_bootstrap) == len(df_lq.index) == 234"
   ]
  },
  {
   "cell_type": "code",
   "execution_count": 54,
   "id": "6a716579-8793-48ec-977c-7c5a168baac5",
   "metadata": {},
   "outputs": [
    {
     "data": {
      "text/plain": [
       "0.6773146338027058"
      ]
     },
     "execution_count": 54,
     "metadata": {},
     "output_type": "execute_result"
    }
   ],
   "source": [
    "# Take the mean of predictions across all students.\n",
    "bootstrap_err = np.mean(accuracies_bootstrap)\n",
    "bootstrap_err"
   ]
  },
  {
   "cell_type": "code",
   "execution_count": 55,
   "id": "1b8b235a-4eff-43f9-a2c4-6d205a92e839",
   "metadata": {},
   "outputs": [
    {
     "data": {
      "text/plain": [
       "0.9188888888888889"
      ]
     },
     "execution_count": 55,
     "metadata": {},
     "output_type": "execute_result"
    }
   ],
   "source": [
    "# Calculate the training error for each bootstrapped model, then average across bootstraps.\n",
    "training_err_bootstrap = [clfs[b].score(samples[b][0], samples[b][1]) for b in range(B)]\n",
    "training_err = np.mean(training_err_bootstrap)\n",
    "training_err"
   ]
  },
  {
   "cell_type": "code",
   "execution_count": 56,
   "id": "bff35009-9d3c-46a0-8f0e-efcfa34ad21a",
   "metadata": {},
   "outputs": [
    {
     "name": "stdout",
     "output_type": "stream",
     "text": [
      "Mean accuracy with .632 leave-one-out bootstrapping: 0.766\n"
     ]
    }
   ],
   "source": [
    "accuracy_632 = 0.632 * bootstrap_err + 0.368 * training_err\n",
    "print(f'Mean accuracy with .632 leave-one-out bootstrapping: {accuracy_632:.3f}')"
   ]
  },
  {
   "attachments": {},
   "cell_type": "markdown",
   "id": "81c051e4-2109-47d2-9ace-0cbfaab83809",
   "metadata": {
    "tags": []
   },
   "source": [
    "### Example 4: Train-Test (Outer Loop) + 10-Fold Cross Validation (Inner Loop)"
   ]
  },
  {
   "attachments": {},
   "cell_type": "markdown",
   "id": "ed4d6f94-af3c-412e-a673-29f12cfb5caf",
   "metadata": {},
   "source": [
    "We perform a train-test outer split and use 10-fold cross validation on the inner split to tune the hyperparameters."
   ]
  },
  {
   "cell_type": "code",
   "execution_count": 61,
   "id": "18479a4b-90c8-45ad-be4a-005deed6bfda",
   "metadata": {},
   "outputs": [],
   "source": [
    "# Create outer loop with stratified train-test split\n",
    "X_train, X_test, y_train, y_test = train_test_split(X, y, test_size=0.2, random_state=42, stratify=y)"
   ]
  },
  {
   "cell_type": "code",
   "execution_count": 62,
   "id": "3caad318-4ec2-468b-a3cd-37e5b4af0a68",
   "metadata": {},
   "outputs": [],
   "source": [
    "# We compute a grid search across the following parameter space\n",
    "parameters = {\n",
    "    'n_estimators': [20, 50, 100],\n",
    "    'criterion': ['entropy', 'gini'],\n",
    "    'max_depth': np.arange(3, 7),\n",
    "    'min_samples_split': [2],\n",
    "    'min_samples_leaf': [1],\n",
    "}"
   ]
  },
  {
   "cell_type": "code",
   "execution_count": 63,
   "id": "bc2ffc35-e288-412d-849f-edeaaf242c9d",
   "metadata": {},
   "outputs": [],
   "source": [
    "# Train model on inner loop with grid-search 10-fold cross validation\n",
    "clf = GridSearchCV(RandomForestClassifier(random_state=42), parameters, cv=10)\n",
    "accuracy, AUC = compute_scores(clf, X_train, y_train, X_test, y_test)"
   ]
  },
  {
   "cell_type": "code",
   "execution_count": 64,
   "id": "1b2f4d5c-d61d-4335-84ff-1dfbb65493a9",
   "metadata": {},
   "outputs": [
    {
     "data": {
      "text/plain": [
       "{'criterion': 'gini',\n",
       " 'max_depth': 3,\n",
       " 'min_samples_leaf': 1,\n",
       " 'min_samples_split': 2,\n",
       " 'n_estimators': 50}"
      ]
     },
     "execution_count": 64,
     "metadata": {},
     "output_type": "execute_result"
    }
   ],
   "source": [
    "clf.best_params_"
   ]
  },
  {
   "cell_type": "code",
   "execution_count": 65,
   "id": "c67a4355-4226-4b8f-a0d4-8c906be03b0e",
   "metadata": {},
   "outputs": [
    {
     "name": "stdout",
     "output_type": "stream",
     "text": [
      "Accuracy for train-test splitting + cross-validation: 0.638\n",
      "AUC for train-test splitting + cross-validation: 0.724\n"
     ]
    }
   ],
   "source": [
    "print(f'Accuracy for train-test splitting + cross-validation: {accuracy:.3f}')\n",
    "print(f'AUC for train-test splitting + cross-validation: {AUC:.3f}')"
   ]
  },
  {
   "attachments": {},
   "cell_type": "markdown",
   "id": "5bfc2ff8-2a7b-4e77-b8fc-9520a7658e03",
   "metadata": {},
   "source": [
    "## Reporting Results"
   ]
  },
  {
   "attachments": {},
   "cell_type": "markdown",
   "id": "2e896ce5-d926-4c36-965d-bc11c03b52e4",
   "metadata": {},
   "source": [
    "When reporting results, it is good practice to report the uncertainty of the prediction. In the following, we provide examples on how to assess the uncertainty of the predictions."
   ]
  },
  {
   "attachments": {},
   "cell_type": "markdown",
   "id": "e587cf9d-157f-4e60-8673-6fc4fa823bcb",
   "metadata": {},
   "source": [
    "### Cross Validation"
   ]
  },
  {
   "attachments": {},
   "cell_type": "markdown",
   "id": "d3ab70a0-8dc3-40c9-9418-54c0e8fb8e70",
   "metadata": {},
   "source": [
    "When performing cross validation we can compute the standard deviation (or standard error) of the performance metric across folds. We use a nested cross validated (10-fold, stratified) for the Random Forest model and tune the hyperparameters (example 2b above). "
   ]
  },
  {
   "attachments": {},
   "cell_type": "markdown",
   "id": "785223d0-4cda-49e5-9fa8-f1b9ac1e9ee4",
   "metadata": {},
   "source": [
    "Using the results from [Example 2](#Example-2:-Correct), we recover the accuracy and the AUC over all 10 folds"
   ]
  },
  {
   "cell_type": "code",
   "execution_count": 66,
   "id": "8647bcf1-5fc7-4662-861a-d470d8f8b27f",
   "metadata": {},
   "outputs": [
    {
     "data": {
      "text/plain": [
       "{'fit_time': array([8.27480984, 8.20219994, 8.25538301]),\n",
       " 'score_time': array([0.00575018, 0.00274205, 0.00679398]),\n",
       " 'test_accuracy': array([0.62820513, 0.66666667, 0.69230769]),\n",
       " 'test_roc_auc': array([0.68222375, 0.67467399, 0.65271105])}"
      ]
     },
     "execution_count": 66,
     "metadata": {},
     "output_type": "execute_result"
    }
   ],
   "source": [
    "scores_nested_cv"
   ]
  },
  {
   "cell_type": "code",
   "execution_count": 67,
   "id": "3de3206d-3eab-4dc8-986e-893ad99037fa",
   "metadata": {},
   "outputs": [
    {
     "name": "stdout",
     "output_type": "stream",
     "text": [
      "Accuracy standard deviation with nested cross-validation: 0.026\n",
      "AUC standard deviation with nested cross-validation: 0.013\n"
     ]
    }
   ],
   "source": [
    "accuracies_nested_cv = scores_nested_cv['test_accuracy']\n",
    "AUC_nested_cv = scores_nested_cv['test_roc_auc']\n",
    "\n",
    "# Compute standard deviation of Accuracy and AUC\n",
    "print(f'Accuracy standard deviation with nested cross-validation: {accuracies_nested_cv.std():.3f}')\n",
    "print(f'AUC standard deviation with nested cross-validation: {AUC_nested_cv.std():.3f}')"
   ]
  },
  {
   "cell_type": "code",
   "execution_count": 68,
   "id": "cd06dcbd-6db1-407b-8b47-8462d05c6176",
   "metadata": {},
   "outputs": [
    {
     "data": {
      "text/html": [
       "<div>\n",
       "<style scoped>\n",
       "    .dataframe tbody tr th:only-of-type {\n",
       "        vertical-align: middle;\n",
       "    }\n",
       "\n",
       "    .dataframe tbody tr th {\n",
       "        vertical-align: top;\n",
       "    }\n",
       "\n",
       "    .dataframe thead th {\n",
       "        text-align: right;\n",
       "    }\n",
       "</style>\n",
       "<table border=\"1\" class=\"dataframe\">\n",
       "  <thead>\n",
       "    <tr style=\"text-align: right;\">\n",
       "      <th></th>\n",
       "      <th>Accuracy</th>\n",
       "      <th>AUC</th>\n",
       "      <th>Method</th>\n",
       "    </tr>\n",
       "  </thead>\n",
       "  <tbody>\n",
       "    <tr>\n",
       "      <th>0</th>\n",
       "      <td>0.628205</td>\n",
       "      <td>0.682224</td>\n",
       "      <td>nested cv</td>\n",
       "    </tr>\n",
       "    <tr>\n",
       "      <th>1</th>\n",
       "      <td>0.666667</td>\n",
       "      <td>0.674674</td>\n",
       "      <td>nested cv</td>\n",
       "    </tr>\n",
       "    <tr>\n",
       "      <th>2</th>\n",
       "      <td>0.692308</td>\n",
       "      <td>0.652711</td>\n",
       "      <td>nested cv</td>\n",
       "    </tr>\n",
       "  </tbody>\n",
       "</table>\n",
       "</div>"
      ],
      "text/plain": [
       "   Accuracy       AUC     Method\n",
       "0  0.628205  0.682224  nested cv\n",
       "1  0.666667  0.674674  nested cv\n",
       "2  0.692308  0.652711  nested cv"
      ]
     },
     "execution_count": 68,
     "metadata": {},
     "output_type": "execute_result"
    }
   ],
   "source": [
    "# Group scores in a DataFrame for visualization with error bars\n",
    "cv_df = pd.DataFrame({'Accuracy': accuracies_nested_cv, 'AUC': AUC_nested_cv, 'Method': ['nested cv']*3})\n",
    "cv_df"
   ]
  },
  {
   "attachments": {},
   "cell_type": "markdown",
   "id": "57d5fb9a-9110-418e-abf3-5ea1ddf50f26",
   "metadata": {},
   "source": [
    "### Bootstrapping"
   ]
  },
  {
   "attachments": {},
   "cell_type": "markdown",
   "id": "06900616-1248-454c-af64-19c11d0b903f",
   "metadata": {
    "tags": []
   },
   "source": [
    "When performing bootstrapping, we can also compute uncertainty, because we get multiple predictions for one sample."
   ]
  },
  {
   "attachments": {},
   "cell_type": "markdown",
   "id": "46c21616-0a1a-400b-8480-e30344bee081",
   "metadata": {},
   "source": [
    "Again, using the results from [Example 3](#Example-3), we recover the accuracy for each sample. To assess the uncertainty of the .632 accuracy, we need to sum them beforehand with the weighted training error."
   ]
  },
  {
   "cell_type": "code",
   "execution_count": 69,
   "id": "8a9a0023-b4b3-430e-9604-83ec81753f21",
   "metadata": {},
   "outputs": [
    {
     "data": {
      "text/plain": [
       "234"
      ]
     },
     "execution_count": 69,
     "metadata": {},
     "output_type": "execute_result"
    }
   ],
   "source": [
    "# Determine accuracy 632 across bootstrap and training error\n",
    "accuracies_632 = 0.632 * np.array(accuracies_bootstrap) + 0.368 * training_err\n",
    "len(accuracies_632) # accuracy of each student"
   ]
  },
  {
   "cell_type": "code",
   "execution_count": 70,
   "id": "398a1e0f-fc3c-4b68-bc3d-8158ef12e396",
   "metadata": {},
   "outputs": [
    {
     "name": "stdout",
     "output_type": "stream",
     "text": [
      "Accuracy standard deviation with .632 bootstrapping: 0.238\n"
     ]
    }
   ],
   "source": [
    "print(f'Accuracy standard deviation with .632 bootstrapping: {accuracies_632.std():.3f}')"
   ]
  },
  {
   "cell_type": "code",
   "execution_count": 71,
   "id": "a6afcd13-d4c5-4101-b11b-31f97742757b",
   "metadata": {},
   "outputs": [
    {
     "data": {
      "text/html": [
       "<div>\n",
       "<style scoped>\n",
       "    .dataframe tbody tr th:only-of-type {\n",
       "        vertical-align: middle;\n",
       "    }\n",
       "\n",
       "    .dataframe tbody tr th {\n",
       "        vertical-align: top;\n",
       "    }\n",
       "\n",
       "    .dataframe thead th {\n",
       "        text-align: right;\n",
       "    }\n",
       "</style>\n",
       "<table border=\"1\" class=\"dataframe\">\n",
       "  <thead>\n",
       "    <tr style=\"text-align: right;\">\n",
       "      <th></th>\n",
       "      <th>Accuracy</th>\n",
       "      <th>AUC</th>\n",
       "      <th>Method</th>\n",
       "    </tr>\n",
       "  </thead>\n",
       "  <tbody>\n",
       "    <tr>\n",
       "      <th>0</th>\n",
       "      <td>0.634401</td>\n",
       "      <td>None</td>\n",
       "      <td>.632 bootstrap</td>\n",
       "    </tr>\n",
       "    <tr>\n",
       "      <th>1</th>\n",
       "      <td>0.919591</td>\n",
       "      <td>None</td>\n",
       "      <td>.632 bootstrap</td>\n",
       "    </tr>\n",
       "    <tr>\n",
       "      <th>2</th>\n",
       "      <td>0.970151</td>\n",
       "      <td>None</td>\n",
       "      <td>.632 bootstrap</td>\n",
       "    </tr>\n",
       "    <tr>\n",
       "      <th>3</th>\n",
       "      <td>0.727074</td>\n",
       "      <td>None</td>\n",
       "      <td>.632 bootstrap</td>\n",
       "    </tr>\n",
       "    <tr>\n",
       "      <th>4</th>\n",
       "      <td>0.970151</td>\n",
       "      <td>None</td>\n",
       "      <td>.632 bootstrap</td>\n",
       "    </tr>\n",
       "    <tr>\n",
       "      <th>...</th>\n",
       "      <td>...</td>\n",
       "      <td>...</td>\n",
       "      <td>...</td>\n",
       "    </tr>\n",
       "    <tr>\n",
       "      <th>229</th>\n",
       "      <td>0.851651</td>\n",
       "      <td>None</td>\n",
       "      <td>.632 bootstrap</td>\n",
       "    </tr>\n",
       "    <tr>\n",
       "      <th>230</th>\n",
       "      <td>0.377651</td>\n",
       "      <td>None</td>\n",
       "      <td>.632 bootstrap</td>\n",
       "    </tr>\n",
       "    <tr>\n",
       "      <th>231</th>\n",
       "      <td>0.956704</td>\n",
       "      <td>None</td>\n",
       "      <td>.632 bootstrap</td>\n",
       "    </tr>\n",
       "    <tr>\n",
       "      <th>232</th>\n",
       "      <td>0.970151</td>\n",
       "      <td>None</td>\n",
       "      <td>.632 bootstrap</td>\n",
       "    </tr>\n",
       "    <tr>\n",
       "      <th>233</th>\n",
       "      <td>0.869606</td>\n",
       "      <td>None</td>\n",
       "      <td>.632 bootstrap</td>\n",
       "    </tr>\n",
       "  </tbody>\n",
       "</table>\n",
       "<p>234 rows × 3 columns</p>\n",
       "</div>"
      ],
      "text/plain": [
       "     Accuracy   AUC          Method\n",
       "0    0.634401  None  .632 bootstrap\n",
       "1    0.919591  None  .632 bootstrap\n",
       "2    0.970151  None  .632 bootstrap\n",
       "3    0.727074  None  .632 bootstrap\n",
       "4    0.970151  None  .632 bootstrap\n",
       "..        ...   ...             ...\n",
       "229  0.851651  None  .632 bootstrap\n",
       "230  0.377651  None  .632 bootstrap\n",
       "231  0.956704  None  .632 bootstrap\n",
       "232  0.970151  None  .632 bootstrap\n",
       "233  0.869606  None  .632 bootstrap\n",
       "\n",
       "[234 rows x 3 columns]"
      ]
     },
     "execution_count": 71,
     "metadata": {},
     "output_type": "execute_result"
    }
   ],
   "source": [
    "# AUC is None here (as discussed earlier in the notebook) because the ROC curve cannot be computed for leave-one-out bootstrap.\n",
    "# Group scores in a DataFrame for visualization with error bars.\n",
    "bootstrap_df = pd.DataFrame({'Accuracy': accuracies_632, 'AUC': [None] * df_size, 'Method': ['.632 bootstrap'] * df_size})\n",
    "bootstrap_df"
   ]
  },
  {
   "attachments": {},
   "cell_type": "markdown",
   "id": "60821fd2-8423-4c1c-91ac-8a2056624ce3",
   "metadata": {},
   "source": [
    "### Train-Test + Bootstrap"
   ]
  },
  {
   "attachments": {},
   "cell_type": "markdown",
   "id": "787237f6-fc11-4f57-89c5-0cc3f063e4e2",
   "metadata": {},
   "source": [
    "Instead of using a full bootstrap, we can do a train-test split first and train the model on the training data. We can then perfrom bootstrapping on the test set and generate a 100 bootstrapped test sets. This enables us to examine the uncertainty for this setting. We use a similar setting to [Example 4](#Example-4)."
   ]
  },
  {
   "cell_type": "code",
   "execution_count": 72,
   "id": "5e247c86-1b25-4706-b7a3-e676895f9eff",
   "metadata": {},
   "outputs": [],
   "source": [
    "# Create outer loop with train-test split\n",
    "X_train, X_test, y_train, y_test = train_test_split(X, y, test_size=0.2, random_state=42, stratify=y)"
   ]
  },
  {
   "cell_type": "code",
   "execution_count": 73,
   "id": "56373ee8-9622-43bf-873a-66b23f8568a7",
   "metadata": {},
   "outputs": [
    {
     "data": {
      "text/html": [
       "<style>#sk-container-id-1 {color: black;background-color: white;}#sk-container-id-1 pre{padding: 0;}#sk-container-id-1 div.sk-toggleable {background-color: white;}#sk-container-id-1 label.sk-toggleable__label {cursor: pointer;display: block;width: 100%;margin-bottom: 0;padding: 0.3em;box-sizing: border-box;text-align: center;}#sk-container-id-1 label.sk-toggleable__label-arrow:before {content: \"▸\";float: left;margin-right: 0.25em;color: #696969;}#sk-container-id-1 label.sk-toggleable__label-arrow:hover:before {color: black;}#sk-container-id-1 div.sk-estimator:hover label.sk-toggleable__label-arrow:before {color: black;}#sk-container-id-1 div.sk-toggleable__content {max-height: 0;max-width: 0;overflow: hidden;text-align: left;background-color: #f0f8ff;}#sk-container-id-1 div.sk-toggleable__content pre {margin: 0.2em;color: black;border-radius: 0.25em;background-color: #f0f8ff;}#sk-container-id-1 input.sk-toggleable__control:checked~div.sk-toggleable__content {max-height: 200px;max-width: 100%;overflow: auto;}#sk-container-id-1 input.sk-toggleable__control:checked~label.sk-toggleable__label-arrow:before {content: \"▾\";}#sk-container-id-1 div.sk-estimator input.sk-toggleable__control:checked~label.sk-toggleable__label {background-color: #d4ebff;}#sk-container-id-1 div.sk-label input.sk-toggleable__control:checked~label.sk-toggleable__label {background-color: #d4ebff;}#sk-container-id-1 input.sk-hidden--visually {border: 0;clip: rect(1px 1px 1px 1px);clip: rect(1px, 1px, 1px, 1px);height: 1px;margin: -1px;overflow: hidden;padding: 0;position: absolute;width: 1px;}#sk-container-id-1 div.sk-estimator {font-family: monospace;background-color: #f0f8ff;border: 1px dotted black;border-radius: 0.25em;box-sizing: border-box;margin-bottom: 0.5em;}#sk-container-id-1 div.sk-estimator:hover {background-color: #d4ebff;}#sk-container-id-1 div.sk-parallel-item::after {content: \"\";width: 100%;border-bottom: 1px solid gray;flex-grow: 1;}#sk-container-id-1 div.sk-label:hover label.sk-toggleable__label {background-color: #d4ebff;}#sk-container-id-1 div.sk-serial::before {content: \"\";position: absolute;border-left: 1px solid gray;box-sizing: border-box;top: 0;bottom: 0;left: 50%;z-index: 0;}#sk-container-id-1 div.sk-serial {display: flex;flex-direction: column;align-items: center;background-color: white;padding-right: 0.2em;padding-left: 0.2em;position: relative;}#sk-container-id-1 div.sk-item {position: relative;z-index: 1;}#sk-container-id-1 div.sk-parallel {display: flex;align-items: stretch;justify-content: center;background-color: white;position: relative;}#sk-container-id-1 div.sk-item::before, #sk-container-id-1 div.sk-parallel-item::before {content: \"\";position: absolute;border-left: 1px solid gray;box-sizing: border-box;top: 0;bottom: 0;left: 50%;z-index: -1;}#sk-container-id-1 div.sk-parallel-item {display: flex;flex-direction: column;z-index: 1;position: relative;background-color: white;}#sk-container-id-1 div.sk-parallel-item:first-child::after {align-self: flex-end;width: 50%;}#sk-container-id-1 div.sk-parallel-item:last-child::after {align-self: flex-start;width: 50%;}#sk-container-id-1 div.sk-parallel-item:only-child::after {width: 0;}#sk-container-id-1 div.sk-dashed-wrapped {border: 1px dashed gray;margin: 0 0.4em 0.5em 0.4em;box-sizing: border-box;padding-bottom: 0.4em;background-color: white;}#sk-container-id-1 div.sk-label label {font-family: monospace;font-weight: bold;display: inline-block;line-height: 1.2em;}#sk-container-id-1 div.sk-label-container {text-align: center;}#sk-container-id-1 div.sk-container {/* jupyter's `normalize.less` sets `[hidden] { display: none; }` but bootstrap.min.css set `[hidden] { display: none !important; }` so we also need the `!important` here to be able to override the default hidden behavior on the sphinx rendered scikit-learn.org. See: https://github.com/scikit-learn/scikit-learn/issues/21755 */display: inline-block !important;position: relative;}#sk-container-id-1 div.sk-text-repr-fallback {display: none;}</style><div id=\"sk-container-id-1\" class=\"sk-top-container\"><div class=\"sk-text-repr-fallback\"><pre>GridSearchCV(cv=3, estimator=RandomForestClassifier(random_state=42),\n",
       "             param_grid={&#x27;criterion&#x27;: [&#x27;entropy&#x27;, &#x27;gini&#x27;],\n",
       "                         &#x27;max_depth&#x27;: array([3, 4, 5, 6]),\n",
       "                         &#x27;min_samples_leaf&#x27;: [1], &#x27;min_samples_split&#x27;: [2],\n",
       "                         &#x27;n_estimators&#x27;: [20, 50, 100]})</pre><b>In a Jupyter environment, please rerun this cell to show the HTML representation or trust the notebook. <br />On GitHub, the HTML representation is unable to render, please try loading this page with nbviewer.org.</b></div><div class=\"sk-container\" hidden><div class=\"sk-item sk-dashed-wrapped\"><div class=\"sk-label-container\"><div class=\"sk-label sk-toggleable\"><input class=\"sk-toggleable__control sk-hidden--visually\" id=\"sk-estimator-id-1\" type=\"checkbox\" ><label for=\"sk-estimator-id-1\" class=\"sk-toggleable__label sk-toggleable__label-arrow\">GridSearchCV</label><div class=\"sk-toggleable__content\"><pre>GridSearchCV(cv=3, estimator=RandomForestClassifier(random_state=42),\n",
       "             param_grid={&#x27;criterion&#x27;: [&#x27;entropy&#x27;, &#x27;gini&#x27;],\n",
       "                         &#x27;max_depth&#x27;: array([3, 4, 5, 6]),\n",
       "                         &#x27;min_samples_leaf&#x27;: [1], &#x27;min_samples_split&#x27;: [2],\n",
       "                         &#x27;n_estimators&#x27;: [20, 50, 100]})</pre></div></div></div><div class=\"sk-parallel\"><div class=\"sk-parallel-item\"><div class=\"sk-item\"><div class=\"sk-label-container\"><div class=\"sk-label sk-toggleable\"><input class=\"sk-toggleable__control sk-hidden--visually\" id=\"sk-estimator-id-2\" type=\"checkbox\" ><label for=\"sk-estimator-id-2\" class=\"sk-toggleable__label sk-toggleable__label-arrow\">estimator: RandomForestClassifier</label><div class=\"sk-toggleable__content\"><pre>RandomForestClassifier(random_state=42)</pre></div></div></div><div class=\"sk-serial\"><div class=\"sk-item\"><div class=\"sk-estimator sk-toggleable\"><input class=\"sk-toggleable__control sk-hidden--visually\" id=\"sk-estimator-id-3\" type=\"checkbox\" ><label for=\"sk-estimator-id-3\" class=\"sk-toggleable__label sk-toggleable__label-arrow\">RandomForestClassifier</label><div class=\"sk-toggleable__content\"><pre>RandomForestClassifier(random_state=42)</pre></div></div></div></div></div></div></div></div></div></div>"
      ],
      "text/plain": [
       "GridSearchCV(cv=3, estimator=RandomForestClassifier(random_state=42),\n",
       "             param_grid={'criterion': ['entropy', 'gini'],\n",
       "                         'max_depth': array([3, 4, 5, 6]),\n",
       "                         'min_samples_leaf': [1], 'min_samples_split': [2],\n",
       "                         'n_estimators': [20, 50, 100]})"
      ]
     },
     "execution_count": 73,
     "metadata": {},
     "output_type": "execute_result"
    }
   ],
   "source": [
    "# Fit a Random Forest classifier using a grid search (via cross validation) on the training data\n",
    "clf = GridSearchCV(RandomForestClassifier(random_state=42), parameters, cv=3)\n",
    "clf.fit(X_train, y_train)"
   ]
  },
  {
   "cell_type": "code",
   "execution_count": 74,
   "id": "02334546-cc3a-4d8b-8968-a72243966166",
   "metadata": {},
   "outputs": [],
   "source": [
    "# Since we're using the bootstrap over the test set, it's important to resample the same size (test_size), randomly, with replacement (replace=True)\n",
    "test_size = len(X_test)\n",
    "B = 100\n",
    "\n",
    "# Generate B samples with replacement\n",
    "samples = [resample(X_test, y_test, replace=True, n_samples=test_size) for b in range(B)]"
   ]
  },
  {
   "cell_type": "code",
   "execution_count": 75,
   "id": "e697641c",
   "metadata": {},
   "outputs": [
    {
     "name": "stdout",
     "output_type": "stream",
     "text": [
      "(47,)\n"
     ]
    },
    {
     "data": {
      "text/plain": [
       "(47, 33)"
      ]
     },
     "execution_count": 75,
     "metadata": {},
     "output_type": "execute_result"
    }
   ],
   "source": [
    "print(samples[0][1].shape) # y\n",
    "samples[0][0].shape # X"
   ]
  },
  {
   "cell_type": "code",
   "execution_count": 76,
   "id": "9b195725-4a49-417d-9bde-1d6f65145d4e",
   "metadata": {},
   "outputs": [],
   "source": [
    "# Compute the accuracy and the AUC for each bootstrapped sample\n",
    "accuracies_split_bootstrap = [clf.score(X_b, y_b) for X_b, y_b in samples]\n",
    "AUC_split_bootstrap = [roc_auc_score(y_b, clf.predict_proba(X_b)[:, 1]) for X_b, y_b in samples]"
   ]
  },
  {
   "cell_type": "code",
   "execution_count": 77,
   "id": "021e4e4b",
   "metadata": {},
   "outputs": [
    {
     "name": "stdout",
     "output_type": "stream",
     "text": [
      "True\n"
     ]
    }
   ],
   "source": [
    "print(len(accuracies_split_bootstrap) == len(AUC_split_bootstrap) == B)"
   ]
  },
  {
   "cell_type": "code",
   "execution_count": 78,
   "id": "775046c4-64dd-48eb-86a4-b590963c0a16",
   "metadata": {},
   "outputs": [
    {
     "name": "stdout",
     "output_type": "stream",
     "text": [
      "Accuracy standard deviation with split + bootstrapping: 0.061\n",
      "AUC standard deviation with split + bootstrapping: 0.079\n"
     ]
    }
   ],
   "source": [
    "# Compute the standard deviation of the accuracies and AUC scores across bootstraps\n",
    "print(f'Accuracy standard deviation with split + bootstrapping: {np.std(accuracies_split_bootstrap):.3f}')\n",
    "print(f'AUC standard deviation with split + bootstrapping: {np.std(AUC_split_bootstrap):.3f}')"
   ]
  },
  {
   "cell_type": "code",
   "execution_count": 79,
   "id": "dd42ab4a-2854-4376-8bf1-24731453e6c9",
   "metadata": {},
   "outputs": [
    {
     "data": {
      "text/html": [
       "<div>\n",
       "<style scoped>\n",
       "    .dataframe tbody tr th:only-of-type {\n",
       "        vertical-align: middle;\n",
       "    }\n",
       "\n",
       "    .dataframe tbody tr th {\n",
       "        vertical-align: top;\n",
       "    }\n",
       "\n",
       "    .dataframe thead th {\n",
       "        text-align: right;\n",
       "    }\n",
       "</style>\n",
       "<table border=\"1\" class=\"dataframe\">\n",
       "  <thead>\n",
       "    <tr style=\"text-align: right;\">\n",
       "      <th></th>\n",
       "      <th>Accuracy</th>\n",
       "      <th>AUC</th>\n",
       "      <th>Method</th>\n",
       "    </tr>\n",
       "  </thead>\n",
       "  <tbody>\n",
       "    <tr>\n",
       "      <th>0</th>\n",
       "      <td>0.574468</td>\n",
       "      <td>0.635185</td>\n",
       "      <td>split_bootstrap</td>\n",
       "    </tr>\n",
       "    <tr>\n",
       "      <th>1</th>\n",
       "      <td>0.617021</td>\n",
       "      <td>0.610902</td>\n",
       "      <td>split_bootstrap</td>\n",
       "    </tr>\n",
       "    <tr>\n",
       "      <th>2</th>\n",
       "      <td>0.680851</td>\n",
       "      <td>0.704710</td>\n",
       "      <td>split_bootstrap</td>\n",
       "    </tr>\n",
       "    <tr>\n",
       "      <th>3</th>\n",
       "      <td>0.680851</td>\n",
       "      <td>0.730072</td>\n",
       "      <td>split_bootstrap</td>\n",
       "    </tr>\n",
       "    <tr>\n",
       "      <th>4</th>\n",
       "      <td>0.723404</td>\n",
       "      <td>0.690196</td>\n",
       "      <td>split_bootstrap</td>\n",
       "    </tr>\n",
       "    <tr>\n",
       "      <th>...</th>\n",
       "      <td>...</td>\n",
       "      <td>...</td>\n",
       "      <td>...</td>\n",
       "    </tr>\n",
       "    <tr>\n",
       "      <th>95</th>\n",
       "      <td>0.744681</td>\n",
       "      <td>0.754579</td>\n",
       "      <td>split_bootstrap</td>\n",
       "    </tr>\n",
       "    <tr>\n",
       "      <th>96</th>\n",
       "      <td>0.808511</td>\n",
       "      <td>0.772177</td>\n",
       "      <td>split_bootstrap</td>\n",
       "    </tr>\n",
       "    <tr>\n",
       "      <th>97</th>\n",
       "      <td>0.617021</td>\n",
       "      <td>0.619565</td>\n",
       "      <td>split_bootstrap</td>\n",
       "    </tr>\n",
       "    <tr>\n",
       "      <th>98</th>\n",
       "      <td>0.723404</td>\n",
       "      <td>0.837104</td>\n",
       "      <td>split_bootstrap</td>\n",
       "    </tr>\n",
       "    <tr>\n",
       "      <th>99</th>\n",
       "      <td>0.744681</td>\n",
       "      <td>0.860507</td>\n",
       "      <td>split_bootstrap</td>\n",
       "    </tr>\n",
       "  </tbody>\n",
       "</table>\n",
       "<p>100 rows × 3 columns</p>\n",
       "</div>"
      ],
      "text/plain": [
       "    Accuracy       AUC           Method\n",
       "0   0.574468  0.635185  split_bootstrap\n",
       "1   0.617021  0.610902  split_bootstrap\n",
       "2   0.680851  0.704710  split_bootstrap\n",
       "3   0.680851  0.730072  split_bootstrap\n",
       "4   0.723404  0.690196  split_bootstrap\n",
       "..       ...       ...              ...\n",
       "95  0.744681  0.754579  split_bootstrap\n",
       "96  0.808511  0.772177  split_bootstrap\n",
       "97  0.617021  0.619565  split_bootstrap\n",
       "98  0.723404  0.837104  split_bootstrap\n",
       "99  0.744681  0.860507  split_bootstrap\n",
       "\n",
       "[100 rows x 3 columns]"
      ]
     },
     "execution_count": 79,
     "metadata": {},
     "output_type": "execute_result"
    }
   ],
   "source": [
    "# Group scores in a DataFrame for visualization with error bars\n",
    "split_bootstrap_df = pd.DataFrame({'Accuracy': accuracies_split_bootstrap, 'AUC': AUC_split_bootstrap, 'Method': ['split_bootstrap'] * B})\n",
    "split_bootstrap_df"
   ]
  },
  {
   "attachments": {},
   "cell_type": "markdown",
   "id": "8b8a810d-6aca-4c6a-a742-71abd10e7c4b",
   "metadata": {},
   "source": [
    "### Visualizing uncertainty"
   ]
  },
  {
   "cell_type": "code",
   "execution_count": 80,
   "id": "6a1faf18-230d-45f2-bc3e-6a71b3dd38a6",
   "metadata": {},
   "outputs": [
    {
     "data": {
      "text/html": [
       "<div>\n",
       "<style scoped>\n",
       "    .dataframe tbody tr th:only-of-type {\n",
       "        vertical-align: middle;\n",
       "    }\n",
       "\n",
       "    .dataframe tbody tr th {\n",
       "        vertical-align: top;\n",
       "    }\n",
       "\n",
       "    .dataframe thead th {\n",
       "        text-align: right;\n",
       "    }\n",
       "</style>\n",
       "<table border=\"1\" class=\"dataframe\">\n",
       "  <thead>\n",
       "    <tr style=\"text-align: right;\">\n",
       "      <th></th>\n",
       "      <th>Accuracy</th>\n",
       "      <th>AUC</th>\n",
       "      <th>Method</th>\n",
       "    </tr>\n",
       "  </thead>\n",
       "  <tbody>\n",
       "    <tr>\n",
       "      <th>0</th>\n",
       "      <td>0.628205</td>\n",
       "      <td>0.682224</td>\n",
       "      <td>nested cv</td>\n",
       "    </tr>\n",
       "    <tr>\n",
       "      <th>1</th>\n",
       "      <td>0.666667</td>\n",
       "      <td>0.674674</td>\n",
       "      <td>nested cv</td>\n",
       "    </tr>\n",
       "    <tr>\n",
       "      <th>2</th>\n",
       "      <td>0.692308</td>\n",
       "      <td>0.652711</td>\n",
       "      <td>nested cv</td>\n",
       "    </tr>\n",
       "    <tr>\n",
       "      <th>0</th>\n",
       "      <td>0.634401</td>\n",
       "      <td>NaN</td>\n",
       "      <td>.632 bootstrap</td>\n",
       "    </tr>\n",
       "    <tr>\n",
       "      <th>1</th>\n",
       "      <td>0.919591</td>\n",
       "      <td>NaN</td>\n",
       "      <td>.632 bootstrap</td>\n",
       "    </tr>\n",
       "  </tbody>\n",
       "</table>\n",
       "</div>"
      ],
      "text/plain": [
       "   Accuracy       AUC          Method\n",
       "0  0.628205  0.682224       nested cv\n",
       "1  0.666667  0.674674       nested cv\n",
       "2  0.692308  0.652711       nested cv\n",
       "0  0.634401       NaN  .632 bootstrap\n",
       "1  0.919591       NaN  .632 bootstrap"
      ]
     },
     "execution_count": 80,
     "metadata": {},
     "output_type": "execute_result"
    }
   ],
   "source": [
    "# Concatenate the three experiments together for visualization\n",
    "df = pd.concat([cv_df, bootstrap_df, split_bootstrap_df])\n",
    "df.head()"
   ]
  },
  {
   "attachments": {},
   "cell_type": "markdown",
   "id": "c9cb375c-3254-4c5c-8695-d3b2872efefd",
   "metadata": {},
   "source": [
    "Here, the error bars represent the 95% confidence intervals across our three experiments (cross validation, bootstrap, train-test split + bootrap)."
   ]
  },
  {
   "cell_type": "code",
   "execution_count": 99,
   "id": "9fcd03fa-6078-4659-b73c-6b094f7d55f1",
   "metadata": {},
   "outputs": [
    {
     "data": {
      "text/plain": [
       "<Axes: xlabel='Method', ylabel='Accuracy'>"
      ]
     },
     "execution_count": 99,
     "metadata": {},
     "output_type": "execute_result"
    },
    {
     "data": {
      "image/png": "[encoded data removed]",
      "text/plain": [
       "<Figure size 640x480 with 1 Axes>"
      ]
     },
     "metadata": {},
     "output_type": "display_data"
    }
   ],
   "source": [
    "sns.barplot(x='Method', y='Accuracy', data=df, errorbar='ci')"
   ]
  },
  {
   "cell_type": "code",
   "execution_count": 100,
   "id": "c343140d-6864-4bf2-a315-f70d6a454818",
   "metadata": {},
   "outputs": [
    {
     "data": {
      "text/plain": [
       "<Axes: xlabel='Method', ylabel='AUC'>"
      ]
     },
     "execution_count": 100,
     "metadata": {},
     "output_type": "execute_result"
    },
    {
     "data": {
      "image/png": "[encoded data removed]",
      "text/plain": [
       "<Figure size 640x480 with 1 Axes>"
      ]
     },
     "metadata": {},
     "output_type": "display_data"
    }
   ],
   "source": [
    "sns.barplot(x='Method', y='AUC', data=df[df.Method != '.632 bootstrap'], errorbar='ci')"
   ]
  },
  {
   "cell_type": "code",
   "execution_count": null,
   "id": "b92e7818",
   "metadata": {},
   "outputs": [],
   "source": []
  }
 ],
 "metadata": {
  "kernelspec": {
   "display_name": "Python",
   "language": "python",
   "name": "python3"
  },
  "language_info": {
   "codemirror_mode": {
    "name": "ipython",
    "version": 3
   },
   "file_extension": ".py",
   "mimetype": "text/x-python",
   "name": "python",
   "nbconvert_exporter": "python",
   "pygments_lexer": "ipython3",
   "version": "3.10.10"
  }
 },
 "nbformat": 4,
 "nbformat_minor": 5
}
