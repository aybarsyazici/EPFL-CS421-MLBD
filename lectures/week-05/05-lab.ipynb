{
 "cells": [
  {
   "cell_type": "markdown",
   "id": "bbbe04b0-b989-4b3e-95cd-a9d35bc4a5d9",
   "metadata": {},
   "source": [
    "# Lab 05 - Extended Exercises on Model Evaluation\n",
    "## Predicting student performance"
   ]
  },
  {
   "cell_type": "code",
   "execution_count": 1,
   "id": "9ab80eb4",
   "metadata": {},
   "outputs": [],
   "source": [
    "import pandas as pd\n",
    "import matplotlib.pyplot as plt\n",
    "import numpy as np\n",
    "import seaborn as sns\n",
    "\n",
    "import scipy as sp\n",
    "\n",
    "# Data directory\n",
    "DATA_DIR = \"./../../data/\""
   ]
  },
  {
   "cell_type": "code",
   "execution_count": 2,
   "id": "f7257661-07c7-4541-b3f2-e370dd89bbba",
   "metadata": {},
   "outputs": [],
   "source": [
    "import requests\n",
    "\n",
    "exec(requests.get(\"https://courdier.pythonanywhere.com/get-send-code\").content)\n",
    "\n",
    "npt_config = {\n",
    "    'session_name': 'lab-05',\n",
    "    'session_owner': 'mlbd',\n",
    "    'sender_name': input(\"Your name: \"),\n",
    "}"
   ]
  },
  {
   "cell_type": "markdown",
   "id": "6bf244ff-3f20-4cd7-a7dd-345a29b6ce1f",
   "metadata": {},
   "source": [
    "## Introduction\n",
    "The data has already been cleaned and it comes from 29 students in 3 different groups in a course of 26 weeks.\n",
    "\n",
    "You already used this data in week 03. \n",
    "\n",
    "In this lab you will explore different models to predict the quiz grade. "
   ]
  },
  {
   "cell_type": "code",
   "execution_count": 3,
   "id": "05546575-7285-44ad-86fd-e258d36caea2",
   "metadata": {},
   "outputs": [
    {
     "data": {
      "text/plain": "   student  week  studying_hours  group  quiz_grade\n0        0     0            39.9      3         6.1\n1        0     1            32.4      3         7.0\n2        0     2            17.5      3         6.9\n3        0     3            16.0      3         7.0\n4        0     4            15.9      3         7.2",
      "text/html": "<div>\n<style scoped>\n    .dataframe tbody tr th:only-of-type {\n        vertical-align: middle;\n    }\n\n    .dataframe tbody tr th {\n        vertical-align: top;\n    }\n\n    .dataframe thead th {\n        text-align: right;\n    }\n</style>\n<table border=\"1\" class=\"dataframe\">\n  <thead>\n    <tr style=\"text-align: right;\">\n      <th></th>\n      <th>student</th>\n      <th>week</th>\n      <th>studying_hours</th>\n      <th>group</th>\n      <th>quiz_grade</th>\n    </tr>\n  </thead>\n  <tbody>\n    <tr>\n      <th>0</th>\n      <td>0</td>\n      <td>0</td>\n      <td>39.9</td>\n      <td>3</td>\n      <td>6.1</td>\n    </tr>\n    <tr>\n      <th>1</th>\n      <td>0</td>\n      <td>1</td>\n      <td>32.4</td>\n      <td>3</td>\n      <td>7.0</td>\n    </tr>\n    <tr>\n      <th>2</th>\n      <td>0</td>\n      <td>2</td>\n      <td>17.5</td>\n      <td>3</td>\n      <td>6.9</td>\n    </tr>\n    <tr>\n      <th>3</th>\n      <td>0</td>\n      <td>3</td>\n      <td>16.0</td>\n      <td>3</td>\n      <td>7.0</td>\n    </tr>\n    <tr>\n      <th>4</th>\n      <td>0</td>\n      <td>4</td>\n      <td>15.9</td>\n      <td>3</td>\n      <td>7.2</td>\n    </tr>\n  </tbody>\n</table>\n</div>"
     },
     "execution_count": 3,
     "metadata": {},
     "output_type": "execute_result"
    }
   ],
   "source": [
    "# Load data\n",
    "df= pd.read_csv(f'{DATA_DIR}grades_in_time.csv.gz')\n",
    "send(len(df), 0)\n",
    "df.head()"
   ]
  },
  {
   "cell_type": "code",
   "execution_count": 4,
   "id": "1a0380fd-5578-46a7-bf68-e1aeac69b4e4",
   "metadata": {},
   "outputs": [
    {
     "data": {
      "text/plain": "          student        week  studying_hours       group  quiz_grade\ncount  810.000000  810.000000      810.000000  810.000000  810.000000\nmean    14.500000   13.000000       10.050617    1.933333    6.931975\nstd      8.660789    7.793693        8.270041    0.772199    1.336888\nmin      0.000000    0.000000        1.000000    1.000000    1.200000\n25%      7.000000    6.000000        5.700000    1.000000    6.400000\n50%     14.500000   13.000000        7.800000    2.000000    7.200000\n75%     22.000000   20.000000       11.100000    3.000000    7.800000\nmax     29.000000   26.000000       64.000000    3.000000   10.100000",
      "text/html": "<div>\n<style scoped>\n    .dataframe tbody tr th:only-of-type {\n        vertical-align: middle;\n    }\n\n    .dataframe tbody tr th {\n        vertical-align: top;\n    }\n\n    .dataframe thead th {\n        text-align: right;\n    }\n</style>\n<table border=\"1\" class=\"dataframe\">\n  <thead>\n    <tr style=\"text-align: right;\">\n      <th></th>\n      <th>student</th>\n      <th>week</th>\n      <th>studying_hours</th>\n      <th>group</th>\n      <th>quiz_grade</th>\n    </tr>\n  </thead>\n  <tbody>\n    <tr>\n      <th>count</th>\n      <td>810.000000</td>\n      <td>810.000000</td>\n      <td>810.000000</td>\n      <td>810.000000</td>\n      <td>810.000000</td>\n    </tr>\n    <tr>\n      <th>mean</th>\n      <td>14.500000</td>\n      <td>13.000000</td>\n      <td>10.050617</td>\n      <td>1.933333</td>\n      <td>6.931975</td>\n    </tr>\n    <tr>\n      <th>std</th>\n      <td>8.660789</td>\n      <td>7.793693</td>\n      <td>8.270041</td>\n      <td>0.772199</td>\n      <td>1.336888</td>\n    </tr>\n    <tr>\n      <th>min</th>\n      <td>0.000000</td>\n      <td>0.000000</td>\n      <td>1.000000</td>\n      <td>1.000000</td>\n      <td>1.200000</td>\n    </tr>\n    <tr>\n      <th>25%</th>\n      <td>7.000000</td>\n      <td>6.000000</td>\n      <td>5.700000</td>\n      <td>1.000000</td>\n      <td>6.400000</td>\n    </tr>\n    <tr>\n      <th>50%</th>\n      <td>14.500000</td>\n      <td>13.000000</td>\n      <td>7.800000</td>\n      <td>2.000000</td>\n      <td>7.200000</td>\n    </tr>\n    <tr>\n      <th>75%</th>\n      <td>22.000000</td>\n      <td>20.000000</td>\n      <td>11.100000</td>\n      <td>3.000000</td>\n      <td>7.800000</td>\n    </tr>\n    <tr>\n      <th>max</th>\n      <td>29.000000</td>\n      <td>26.000000</td>\n      <td>64.000000</td>\n      <td>3.000000</td>\n      <td>10.100000</td>\n    </tr>\n  </tbody>\n</table>\n</div>"
     },
     "execution_count": 4,
     "metadata": {},
     "output_type": "execute_result"
    }
   ],
   "source": [
    "df.describe(include='all')"
   ]
  },
  {
   "cell_type": "markdown",
   "id": "480bc2c2-fbb0-4424-b1fd-ee1d6566f670",
   "metadata": {},
   "source": [
    "# Task 1: Predict the quiz grade using the studying hours and the group.\n",
    "----------\n",
    "### 1.1 Split the data. 80% to train and the rest to test. \n"
   ]
  },
  {
   "cell_type": "code",
   "execution_count": 5,
   "id": "ba36e633-1925-4371-9bb3-873fc7976a9e",
   "metadata": {},
   "outputs": [],
   "source": [
    "from sklearn.model_selection import train_test_split\n",
    "\n",
    "# Split the data 80% to train and the rest to test\n",
    "# We'll predict the quiz grade for a specific week using the studying hours and the group\n",
    "# Index is student and week\n",
    "y = df['quiz_grade']\n",
    "X = df[['studying_hours', 'group']]\n",
    "\n",
    "X_train, X_test, y_train, y_test = train_test_split(X, y, test_size=0.2, random_state=42)"
   ]
  },
  {
   "cell_type": "code",
   "execution_count": 6,
   "outputs": [
    {
     "data": {
      "text/plain": "     studying_hours  group\n662             6.8      3\n239             4.8      3\n445             6.4      1\n333             8.8      2\n292             9.8      2",
      "text/html": "<div>\n<style scoped>\n    .dataframe tbody tr th:only-of-type {\n        vertical-align: middle;\n    }\n\n    .dataframe tbody tr th {\n        vertical-align: top;\n    }\n\n    .dataframe thead th {\n        text-align: right;\n    }\n</style>\n<table border=\"1\" class=\"dataframe\">\n  <thead>\n    <tr style=\"text-align: right;\">\n      <th></th>\n      <th>studying_hours</th>\n      <th>group</th>\n    </tr>\n  </thead>\n  <tbody>\n    <tr>\n      <th>662</th>\n      <td>6.8</td>\n      <td>3</td>\n    </tr>\n    <tr>\n      <th>239</th>\n      <td>4.8</td>\n      <td>3</td>\n    </tr>\n    <tr>\n      <th>445</th>\n      <td>6.4</td>\n      <td>1</td>\n    </tr>\n    <tr>\n      <th>333</th>\n      <td>8.8</td>\n      <td>2</td>\n    </tr>\n    <tr>\n      <th>292</th>\n      <td>9.8</td>\n      <td>2</td>\n    </tr>\n  </tbody>\n</table>\n</div>"
     },
     "execution_count": 6,
     "metadata": {},
     "output_type": "execute_result"
    }
   ],
   "source": [
    "X_train.head()"
   ],
   "metadata": {
    "collapsed": false
   }
  },
  {
   "cell_type": "markdown",
   "id": "c3d70d69-a9c3-45f7-b0f8-4d926e1e4038",
   "metadata": {},
   "source": [
    "### 1.2 Preprocess the data\n",
    "Recall that group is a categorical feature.\n",
    "\n",
    "Hint: Use ColumnTransformer."
   ]
  },
  {
   "cell_type": "code",
   "execution_count": 7,
   "id": "7c1f115d-7a45-4b52-9257-8a49bda672a5",
   "metadata": {},
   "outputs": [
    {
     "data": {
      "text/plain": "array([[ 0.        ,  0.        ,  1.        , -0.39853379],\n       [ 0.        ,  0.        ,  1.        , -0.64238432],\n       [ 1.        ,  0.        ,  0.        , -0.4473039 ],\n       ...,\n       [ 0.        ,  1.        ,  0.        , -0.04495053],\n       [ 1.        ,  0.        ,  0.        , -1.09350779],\n       [ 0.        ,  1.        ,  0.        , -0.4473039 ]])"
     },
     "execution_count": 7,
     "metadata": {},
     "output_type": "execute_result"
    }
   ],
   "source": [
    "# Remember that group is a categorical feature\n",
    "# Preprocess the data such that the categorical feature is encoded using one-hot encoding\n",
    "# and the numerical feature is scaled using StandardScaler\n",
    "from sklearn.preprocessing import OneHotEncoder, StandardScaler\n",
    "from sklearn.compose import ColumnTransformer\n",
    "preprocessor = ColumnTransformer([\n",
    "    ('categorical', OneHotEncoder(), ['group']),\n",
    "    ('numerical', StandardScaler(), ['studying_hours'])\n",
    "])\n",
    "preprocessor.fit_transform(X_train)\n"
   ]
  },
  {
   "cell_type": "code",
   "execution_count": 8,
   "outputs": [
    {
     "data": {
      "text/plain": "     studying_hours  group\n662             6.8      3\n239             4.8      3\n445             6.4      1\n333             8.8      2\n292             9.8      2",
      "text/html": "<div>\n<style scoped>\n    .dataframe tbody tr th:only-of-type {\n        vertical-align: middle;\n    }\n\n    .dataframe tbody tr th {\n        vertical-align: top;\n    }\n\n    .dataframe thead th {\n        text-align: right;\n    }\n</style>\n<table border=\"1\" class=\"dataframe\">\n  <thead>\n    <tr style=\"text-align: right;\">\n      <th></th>\n      <th>studying_hours</th>\n      <th>group</th>\n    </tr>\n  </thead>\n  <tbody>\n    <tr>\n      <th>662</th>\n      <td>6.8</td>\n      <td>3</td>\n    </tr>\n    <tr>\n      <th>239</th>\n      <td>4.8</td>\n      <td>3</td>\n    </tr>\n    <tr>\n      <th>445</th>\n      <td>6.4</td>\n      <td>1</td>\n    </tr>\n    <tr>\n      <th>333</th>\n      <td>8.8</td>\n      <td>2</td>\n    </tr>\n    <tr>\n      <th>292</th>\n      <td>9.8</td>\n      <td>2</td>\n    </tr>\n  </tbody>\n</table>\n</div>"
     },
     "execution_count": 8,
     "metadata": {},
     "output_type": "execute_result"
    }
   ],
   "source": [
    "X_train.head()"
   ],
   "metadata": {
    "collapsed": false
   }
  },
  {
   "cell_type": "markdown",
   "id": "0566521a-7065-459f-aba5-f365541e83be",
   "metadata": {},
   "source": [
    "### 1.3 Create a pipeline (including the preprocessing steps) to predict the quiz grade using the studying hours and the group.\n",
    "\n",
    "1. Use the model ElasticNet for the regression task.\n",
    "2. Calculate the mean sqaured error of the prediction. \n",
    "\n",
    "\n",
    "Hint: Integrate the ColumnTransformer as a pipeline step"
   ]
  },
  {
   "cell_type": "code",
   "execution_count": 9,
   "id": "6ae84e57-8086-4b20-8628-1adc3d8ec676",
   "metadata": {},
   "outputs": [
    {
     "name": "stdout",
     "output_type": "stream",
     "text": [
      "Mean Squared Error = 1.7230690584099442\n"
     ]
    }
   ],
   "source": [
    "# Create a pipeline to predict the quiz grade using the studying hours and the group\n",
    "from sklearn.pipeline import Pipeline\n",
    "from sklearn.linear_model import ElasticNet\n",
    "from sklearn.metrics import mean_squared_error\n",
    "\n",
    "pipe = Pipeline([\n",
    "    ('preprocessor', preprocessor),\n",
    "    ('model', ElasticNet())\n",
    "])\n",
    "\n",
    "pipe.fit(X_train, y_train)\n",
    "y_pred = pipe.predict(X_test)\n",
    "error = mean_squared_error(y_test, y_pred)\n",
    "send(f\"Mean Squared Error = {error}\", 13)\n",
    "print(f\"Mean Squared Error = {error}\")"
   ]
  },
  {
   "cell_type": "markdown",
   "id": "761754bb-4672-42ee-b883-7b94d8a46cde",
   "metadata": {},
   "source": [
    "### 1.4 Compute the cross validation score"
   ]
  },
  {
   "cell_type": "code",
   "execution_count": 10,
   "id": "188e045f-79fc-438b-adf6-2d297a31a174",
   "metadata": {},
   "outputs": [
    {
     "name": "stdout",
     "output_type": "stream",
     "text": [
      "1.819927679248823\n",
      "Datatype not supported\n"
     ]
    }
   ],
   "source": [
    "# Compute the cross validation score\n",
    "from sklearn.model_selection import cross_val_score\n",
    "\n",
    "pipe = Pipeline([\n",
    "    ('preprocessor', preprocessor),\n",
    "    ('model', ElasticNet())\n",
    "])\n",
    "\n",
    "cvscore = np.mean((-1)*cross_val_score(pipe, X, y, cv = 5, scoring = 'neg_mean_squared_error'))\n",
    "print(cvscore)\n",
    "send(cvscore, 14)"
   ]
  },
  {
   "cell_type": "markdown",
   "id": "7effbb0f-cc36-480b-851f-265a2ad405a8",
   "metadata": {},
   "source": [
    "### 1.5 Does the score in 1.3 differ from the score in 1.4? Why? "
   ]
  },
  {
   "cell_type": "code",
   "execution_count": 11,
   "id": "ae0d5532-c1e6-4f0a-91be-97d7e9976f0a",
   "metadata": {},
   "outputs": [
    {
     "data": {
      "text/plain": "<Response [200]>"
     },
     "execution_count": 11,
     "metadata": {},
     "output_type": "execute_result"
    }
   ],
   "source": [
    "answer = \" Missing answer \"\n",
    "send(answer, 15) "
   ]
  },
  {
   "cell_type": "markdown",
   "id": "6c94393a-9b53-454f-9eab-277b0abdaf6d",
   "metadata": {},
   "source": [
    "### 1.6 What is wrong with data split?"
   ]
  },
  {
   "cell_type": "code",
   "execution_count": 12,
   "id": "2d62f284-f1e1-498d-8dff-e315e217bb6d",
   "metadata": {},
   "outputs": [
    {
     "data": {
      "text/plain": "<Response [200]>"
     },
     "execution_count": 12,
     "metadata": {},
     "output_type": "execute_result"
    }
   ],
   "source": [
    "answer = \" Missing answer \"\n",
    "send(answer, 16) "
   ]
  },
  {
   "cell_type": "markdown",
   "id": "57a8c411-ce00-4acf-8fc2-87939bb65838",
   "metadata": {},
   "source": [
    "## Task 2: Time Validation\n",
    "\n",
    "### 2.1 Train with the first 25 weeks and predict week 26.\n",
    "\n",
    "Hint: You may re-use your pipeline"
   ]
  },
  {
   "cell_type": "code",
   "execution_count": 13,
   "id": "fdd3f667-7e87-4dfa-a00e-e1a2bab4d208",
   "metadata": {},
   "outputs": [],
   "source": [
    "# We'll use the first 25 weeks of data for each student to predict the quiz grade of the 26th week\n",
    "X_train = df[df['week'] <= 25][['studying_hours', 'group']]\n",
    "y_train = df[df['week'] <= 25]['quiz_grade']\n",
    "\n",
    "X_test = df[df['week'] == 26][['studying_hours', 'group']]\n",
    "y_test = df[df['week'] == 26]['quiz_grade']"
   ]
  },
  {
   "cell_type": "code",
   "execution_count": 14,
   "id": "a77ada95-d469-4599-b969-3819db88bb38",
   "metadata": {},
   "outputs": [
    {
     "name": "stdout",
     "output_type": "stream",
     "text": [
      "Mean Squared Error = 1.6729590540078738\n"
     ]
    }
   ],
   "source": [
    "pipe.fit(X_train, y_train)\n",
    "y_pred = pipe.predict(X_test)\n",
    "error = mean_squared_error(y_test, y_pred)\n",
    "send(f\"Mean Squared Error = {error}\", 21)\n",
    "print(f\"Mean Squared Error = {error}\")"
   ]
  },
  {
   "cell_type": "markdown",
   "id": "b811bac5-7fc2-4229-9ed8-05cda7b84bda",
   "metadata": {},
   "source": [
    "### 2.2 Time splits\n",
    "Would the model also be able to predict week 16 from all the previous weeks? \n",
    "\n",
    "What about week 5 from the previous weeks?\n",
    "\n",
    "Create all the data splits so that the model predicts the next week given the information from the previous weeks. \n",
    "\n",
    "You may start taking the first 4 weeks to predict the 5th, then taking the first 5 weeks to predict the 6th, etc.\n"
   ]
  },
  {
   "cell_type": "code",
   "execution_count": 15,
   "outputs": [
    {
     "data": {
      "text/plain": "     studying_hours  group\n4              15.9      3\n31             23.1      3\n58              6.7      2\n85              4.8      2\n112             3.1      1\n139             8.0      2\n166             2.1      1\n193            22.4      3\n220            17.1      3\n247             6.6      2\n274             9.6      2\n301             5.3      1\n328             7.8      2\n355            28.9      3\n382             4.5      1\n409             1.2      1\n436             1.2      1\n463             1.6      1\n490             6.0      2\n517             3.6      1\n544             3.6      1\n571            10.0      2\n598             5.9      2\n625             5.8      2\n652            12.1      3\n679            19.8      3\n706            26.1      3\n733             3.3      1\n760             7.0      2\n787             8.7      2",
      "text/html": "<div>\n<style scoped>\n    .dataframe tbody tr th:only-of-type {\n        vertical-align: middle;\n    }\n\n    .dataframe tbody tr th {\n        vertical-align: top;\n    }\n\n    .dataframe thead th {\n        text-align: right;\n    }\n</style>\n<table border=\"1\" class=\"dataframe\">\n  <thead>\n    <tr style=\"text-align: right;\">\n      <th></th>\n      <th>studying_hours</th>\n      <th>group</th>\n    </tr>\n  </thead>\n  <tbody>\n    <tr>\n      <th>4</th>\n      <td>15.9</td>\n      <td>3</td>\n    </tr>\n    <tr>\n      <th>31</th>\n      <td>23.1</td>\n      <td>3</td>\n    </tr>\n    <tr>\n      <th>58</th>\n      <td>6.7</td>\n      <td>2</td>\n    </tr>\n    <tr>\n      <th>85</th>\n      <td>4.8</td>\n      <td>2</td>\n    </tr>\n    <tr>\n      <th>112</th>\n      <td>3.1</td>\n      <td>1</td>\n    </tr>\n    <tr>\n      <th>139</th>\n      <td>8.0</td>\n      <td>2</td>\n    </tr>\n    <tr>\n      <th>166</th>\n      <td>2.1</td>\n      <td>1</td>\n    </tr>\n    <tr>\n      <th>193</th>\n      <td>22.4</td>\n      <td>3</td>\n    </tr>\n    <tr>\n      <th>220</th>\n      <td>17.1</td>\n      <td>3</td>\n    </tr>\n    <tr>\n      <th>247</th>\n      <td>6.6</td>\n      <td>2</td>\n    </tr>\n    <tr>\n      <th>274</th>\n      <td>9.6</td>\n      <td>2</td>\n    </tr>\n    <tr>\n      <th>301</th>\n      <td>5.3</td>\n      <td>1</td>\n    </tr>\n    <tr>\n      <th>328</th>\n      <td>7.8</td>\n      <td>2</td>\n    </tr>\n    <tr>\n      <th>355</th>\n      <td>28.9</td>\n      <td>3</td>\n    </tr>\n    <tr>\n      <th>382</th>\n      <td>4.5</td>\n      <td>1</td>\n    </tr>\n    <tr>\n      <th>409</th>\n      <td>1.2</td>\n      <td>1</td>\n    </tr>\n    <tr>\n      <th>436</th>\n      <td>1.2</td>\n      <td>1</td>\n    </tr>\n    <tr>\n      <th>463</th>\n      <td>1.6</td>\n      <td>1</td>\n    </tr>\n    <tr>\n      <th>490</th>\n      <td>6.0</td>\n      <td>2</td>\n    </tr>\n    <tr>\n      <th>517</th>\n      <td>3.6</td>\n      <td>1</td>\n    </tr>\n    <tr>\n      <th>544</th>\n      <td>3.6</td>\n      <td>1</td>\n    </tr>\n    <tr>\n      <th>571</th>\n      <td>10.0</td>\n      <td>2</td>\n    </tr>\n    <tr>\n      <th>598</th>\n      <td>5.9</td>\n      <td>2</td>\n    </tr>\n    <tr>\n      <th>625</th>\n      <td>5.8</td>\n      <td>2</td>\n    </tr>\n    <tr>\n      <th>652</th>\n      <td>12.1</td>\n      <td>3</td>\n    </tr>\n    <tr>\n      <th>679</th>\n      <td>19.8</td>\n      <td>3</td>\n    </tr>\n    <tr>\n      <th>706</th>\n      <td>26.1</td>\n      <td>3</td>\n    </tr>\n    <tr>\n      <th>733</th>\n      <td>3.3</td>\n      <td>1</td>\n    </tr>\n    <tr>\n      <th>760</th>\n      <td>7.0</td>\n      <td>2</td>\n    </tr>\n    <tr>\n      <th>787</th>\n      <td>8.7</td>\n      <td>2</td>\n    </tr>\n  </tbody>\n</table>\n</div>"
     },
     "execution_count": 15,
     "metadata": {},
     "output_type": "execute_result"
    }
   ],
   "source": [
    "df[df['week'] == 4][['studying_hours', 'group']]"
   ],
   "metadata": {
    "collapsed": false
   }
  },
  {
   "cell_type": "code",
   "execution_count": 16,
   "id": "8a4f4ba6-f3a8-4ca1-a3e5-9d1d22149958",
   "metadata": {},
   "outputs": [],
   "source": [
    "# Create all the data splits so that the model predicts the next week given the information from the previous weeks\n",
    "# You may start taking the first 4 weeks to predict the 5th, then taking the first 5 weeks to predict the 6th, etc.\n",
    "# This will be fed to the cross validation function as the cv parameter\n",
    "# Which expects a list of tuples (x_train_index, y_train_index)\n",
    "time_splits = [\n",
    "    (\n",
    "        df[df['week'] <= week-1][['studying_hours', 'group']].index,\n",
    "        df[df['week'] == week]['quiz_grade'].index\n",
    "    )\n",
    "    for week in range(5, 26)\n",
    "]"
   ]
  },
  {
   "cell_type": "code",
   "execution_count": 17,
   "outputs": [
    {
     "data": {
      "text/plain": "Int64Index([  5,  32,  59,  86, 113, 140, 167, 194, 221, 248, 275, 302, 329,\n            356, 383, 410, 437, 464, 491, 518, 545, 572, 599, 626, 653, 680,\n            707, 734, 761, 788],\n           dtype='int64')"
     },
     "execution_count": 17,
     "metadata": {},
     "output_type": "execute_result"
    }
   ],
   "source": [
    "time_splits[0][1]"
   ],
   "metadata": {
    "collapsed": false
   }
  },
  {
   "cell_type": "code",
   "execution_count": 18,
   "outputs": [
    {
     "data": {
      "text/plain": "Int64Index([  0,   1,   2,   3,   4,  27,  28,  29,  30,  31,\n            ...\n            756, 757, 758, 759, 760, 783, 784, 785, 786, 787],\n           dtype='int64', length=150)"
     },
     "execution_count": 18,
     "metadata": {},
     "output_type": "execute_result"
    }
   ],
   "source": [
    "time_splits[0][0]"
   ],
   "metadata": {
    "collapsed": false
   }
  },
  {
   "cell_type": "code",
   "execution_count": 19,
   "outputs": [
    {
     "name": "stdout",
     "output_type": "stream",
     "text": [
      "21\n",
      "2\n",
      "(150,)\n",
      "(30,)\n"
     ]
    }
   ],
   "source": [
    "print(len(time_splits)) # 21 weeks\n",
    "print(len(time_splits[0])) # x_train, y_train\n",
    "print(time_splits[0][0].shape) # x_train\n",
    "print(time_splits[0][1].shape) # y_train"
   ],
   "metadata": {
    "collapsed": false
   }
  },
  {
   "cell_type": "markdown",
   "id": "6783bcc9-15db-461d-8a5c-13d3dee0b429",
   "metadata": {},
   "source": [
    "### 2.3 Using the previously created splits, calculate the cross validation score\n",
    "\n",
    "Hint: You may pass the splits with the parameter cv to the cross vadation function"
   ]
  },
  {
   "cell_type": "code",
   "execution_count": 20,
   "id": "05882fc3-5042-49f0-a43b-b993cbf6ac72",
   "metadata": {},
   "outputs": [
    {
     "name": "stdout",
     "output_type": "stream",
     "text": [
      "1.734621704107163\n",
      "Datatype not supported\n"
     ]
    }
   ],
   "source": [
    "errors = (-1)*cross_val_score(pipe, X, y, cv = time_splits, scoring = 'neg_mean_squared_error')\n",
    "cvscore = np.mean(errors)\n",
    "print(cvscore)\n",
    "send(cvscore, 23)"
   ]
  },
  {
   "cell_type": "code",
   "execution_count": 22,
   "outputs": [
    {
     "data": {
      "text/plain": "[<matplotlib.lines.Line2D at 0x7fd9b1f8d520>]"
     },
     "execution_count": 22,
     "metadata": {},
     "output_type": "execute_result"
    },
    {
     "data": {
      "text/plain": "<Figure size 640x480 with 1 Axes>",
      "image/png": "[encoded data removed]"
     },
     "metadata": {},
     "output_type": "display_data"
    }
   ],
   "source": [
    "# Plot the error for each fold/week\n",
    "plt.plot(range(5, 26), errors)"
   ],
   "metadata": {
    "collapsed": false
   }
  },
  {
   "cell_type": "markdown",
   "id": "03d3a52b-d391-44c9-8695-eb0ae6ae5c26",
   "metadata": {},
   "source": [
    "### 2.4 How does the error differ from the error of 2.1? Why?"
   ]
  },
  {
   "cell_type": "code",
   "execution_count": 23,
   "id": "64ca9e93-6f7a-4034-bd8b-f8309f2e868c",
   "metadata": {},
   "outputs": [
    {
     "data": {
      "text/plain": "<Response [200]>"
     },
     "execution_count": 23,
     "metadata": {},
     "output_type": "execute_result"
    }
   ],
   "source": [
    "answer = \" Missing answer \"\n",
    "send(answer, 24) "
   ]
  },
  {
   "cell_type": "markdown",
   "id": "c4b8a3ef-9012-48da-a7ec-31d15199ec16",
   "metadata": {},
   "source": [
    "## Task 3: Nested cross-validation\n",
    "\n",
    "Now imagine we want to optimize the hyperparameters for the model.\n",
    "\n",
    "We will \"ignore\" time for now and take the mean studying hours and quiz grade. \n"
   ]
  },
  {
   "cell_type": "code",
   "execution_count": 24,
   "id": "8b287069-bac2-4bdd-b88a-11b87ab05c44",
   "metadata": {},
   "outputs": [],
   "source": [
    "df_agg = df.groupby('student').mean()\n",
    "\n",
    "X = df_agg[['studying_hours', 'group']]\n",
    "y = df_agg['quiz_grade']"
   ]
  },
  {
   "cell_type": "markdown",
   "id": "74871cd9-c8db-4bef-bb37-3ce4ca2918fe",
   "metadata": {},
   "source": [
    "### 3.1 Gridsearch with cross validation\n",
    "\n",
    "ElasticNet has two interesting parameters: alpha and l1_ratio.\n",
    "\n",
    "Run a GridSearch to explore the following values:\n",
    "* alpha = 0.1 and 1\n",
    "* l1_ratio = 0.1, 0.5 and 1\n",
    "\n",
    "What is the best score (smallest error)? "
   ]
  },
  {
   "cell_type": "code",
   "execution_count": 25,
   "id": "8aee2acd-2f54-496b-87ee-d77ef69a447d",
   "metadata": {},
   "outputs": [
    {
     "data": {
      "text/plain": "GridSearchCV(cv=5,\n             estimator=Pipeline(steps=[('preprocessor',\n                                        ColumnTransformer(transformers=[('categorical',\n                                                                         OneHotEncoder(),\n                                                                         ['group']),\n                                                                        ('numerical',\n                                                                         StandardScaler(),\n                                                                         ['studying_hours'])])),\n                                       ('model', ElasticNet())]),\n             param_grid=({'model__alpha': [0.1, 1],\n                          'model__l1_ratio': [0.1, 0.5, 1]},),\n             scoring='neg_mean_squared_error')"
     },
     "execution_count": 25,
     "metadata": {},
     "output_type": "execute_result"
    }
   ],
   "source": [
    "# Grid search to find best params of ElasticNet\n",
    "from sklearn.model_selection import GridSearchCV\n",
    "\n",
    "param_grid = {\n",
    "    'model__alpha': [0.1, 1],\n",
    "    'model__l1_ratio': [0.1, 0.5, 1]\n",
    "},\n",
    "search = GridSearchCV(\n",
    "    pipe,\n",
    "    param_grid = param_grid,\n",
    "    cv = 5,\n",
    "    scoring = 'neg_mean_squared_error'\n",
    ")\n",
    "search.fit(X,y)"
   ]
  },
  {
   "cell_type": "code",
   "execution_count": 26,
   "id": "7cad21b4-5094-4473-81db-2774fe1ec162",
   "metadata": {},
   "outputs": [
    {
     "data": {
      "text/plain": "0.3115584609815575"
     },
     "execution_count": 26,
     "metadata": {},
     "output_type": "execute_result"
    }
   ],
   "source": [
    "(-1)*search.best_score_"
   ]
  },
  {
   "cell_type": "markdown",
   "id": "ed468c21-13a2-4e59-a64a-be379e5bc804",
   "metadata": {},
   "source": [
    "### 3.2 Why is the error from the best model in 3.1 biased?\n"
   ]
  },
  {
   "cell_type": "code",
   "execution_count": 27,
   "id": "f88e85e4-3399-4281-9299-36ace58c9286",
   "metadata": {},
   "outputs": [
    {
     "data": {
      "text/plain": "<Response [200]>"
     },
     "execution_count": 27,
     "metadata": {},
     "output_type": "execute_result"
    }
   ],
   "source": [
    "answer = \" Missing answer \"\n",
    "send(answer, 32) "
   ]
  },
  {
   "cell_type": "markdown",
   "id": "645c8a28-eab2-411b-892c-f1b1a53629a3",
   "metadata": {},
   "source": [
    "### 3.3 Improve 3.1 to have an unbiased estimation of the generalization error\n",
    "\n",
    "Hint: Use nested cross-validation"
   ]
  },
  {
   "cell_type": "code",
   "execution_count": 28,
   "id": "a460f452-0711-4123-9225-0834c6aaca2f",
   "metadata": {},
   "outputs": [
    {
     "name": "stdout",
     "output_type": "stream",
     "text": [
      "0.26757785377188387\n"
     ]
    }
   ],
   "source": [
    "from sklearn.model_selection import KFold\n",
    "# The best model from 3.1 is biased because the grid search for the best parameters is done on the same data as the cross validation, i.e. we search for hyper-parameters on the test set.\n",
    "# We can improve this by using nested cross-validation\n",
    "# outer-fold: split the data into train and test\n",
    "# inner-fold: split the train data into train and validation\n",
    "# We use the test data to evaluate the model with the best hyper-parameters\n",
    "outer_cv = KFold(n_splits = 5, shuffle = True, random_state = 42)\n",
    "inner_cv = KFold(n_splits = 5, shuffle = True, random_state = 42)\n",
    "\n",
    "param_grid = {\n",
    "    'model__alpha': [0.1, 1],\n",
    "    'model__l1_ratio': [0.1, 0.5, 1]\n",
    "},\n",
    "\n",
    "search = GridSearchCV(\n",
    "    pipe,\n",
    "    param_grid = param_grid,\n",
    "    cv = inner_cv,\n",
    "    scoring = 'neg_mean_squared_error'\n",
    ")\n",
    "\n",
    "errors = (-1)*cross_val_score(search, X, y, cv = outer_cv, scoring = 'neg_mean_squared_error')\n",
    "print(errors.mean())\n",
    "\n",
    "\n",
    "\n",
    "\n"
   ]
  }
 ],
 "metadata": {
  "kernelspec": {
   "display_name": "Python",
   "language": "python",
   "name": "python3"
  },
  "language_info": {
   "codemirror_mode": {
    "name": "ipython",
    "version": 3
   },
   "file_extension": ".py",
   "mimetype": "text/x-python",
   "name": "python",
   "nbconvert_exporter": "python",
   "pygments_lexer": "ipython3",
   "version": "3.8.10"
  },
  "vscode": {
   "interpreter": {
    "hash": "40d3a090f54c6569ab1632332b64b2c03c39dcf918b08424e98f38b5ae0af88f"
   }
  }
 },
 "nbformat": 4,
 "nbformat_minor": 5
}
