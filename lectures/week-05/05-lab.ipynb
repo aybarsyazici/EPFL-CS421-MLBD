{
 "cells": [
  {
   "attachments": {},
   "cell_type": "markdown",
   "id": "bbbe04b0-b989-4b3e-95cd-a9d35bc4a5d9",
   "metadata": {},
   "source": [
    "# Lab 05 - Extended Exercises on Model Evaluation\n",
    "## Predicting student performance"
   ]
  },
  {
   "cell_type": "code",
   "execution_count": 1,
   "id": "9ab80eb4",
   "metadata": {},
   "outputs": [],
   "source": [
    "import pandas as pd\n",
    "import matplotlib.pyplot as plt\n",
    "import numpy as np\n",
    "import seaborn as sns\n",
    "\n",
    "import scipy as sp\n",
    "\n",
    "# Data directory\n",
    "DATA_DIR = \"./../../data/\""
   ]
  },
  {
   "cell_type": "code",
   "execution_count": 2,
   "id": "f7257661-07c7-4541-b3f2-e370dd89bbba",
   "metadata": {},
   "outputs": [],
   "source": [
    "# import requests\n",
    "\n",
    "# exec(requests.get(\"https://courdier.pythonanywhere.com/get-send-code\").content)\n",
    "\n",
    "# npt_config = {\n",
    "#     'session_name': 'lab-05',\n",
    "#     'session_owner': 'mlbd',\n",
    "#     'sender_name': input(\"Your name: \"),\n",
    "# }"
   ]
  },
  {
   "attachments": {},
   "cell_type": "markdown",
   "id": "6bf244ff-3f20-4cd7-a7dd-345a29b6ce1f",
   "metadata": {},
   "source": [
    "## Introduction\n",
    "The data has already been cleaned and it comes from 29 students in 3 different groups in a course of 26 weeks.\n",
    "\n",
    "You already used this data in week 03. \n",
    "\n",
    "In this lab you will explore different models to predict the quiz grade. "
   ]
  },
  {
   "cell_type": "code",
   "execution_count": 3,
   "id": "05546575-7285-44ad-86fd-e258d36caea2",
   "metadata": {},
   "outputs": [
    {
     "data": {
      "text/html": [
       "<div>\n",
       "<style scoped>\n",
       "    .dataframe tbody tr th:only-of-type {\n",
       "        vertical-align: middle;\n",
       "    }\n",
       "\n",
       "    .dataframe tbody tr th {\n",
       "        vertical-align: top;\n",
       "    }\n",
       "\n",
       "    .dataframe thead th {\n",
       "        text-align: right;\n",
       "    }\n",
       "</style>\n",
       "<table border=\"1\" class=\"dataframe\">\n",
       "  <thead>\n",
       "    <tr style=\"text-align: right;\">\n",
       "      <th></th>\n",
       "      <th>student</th>\n",
       "      <th>week</th>\n",
       "      <th>studying_hours</th>\n",
       "      <th>group</th>\n",
       "      <th>quiz_grade</th>\n",
       "    </tr>\n",
       "  </thead>\n",
       "  <tbody>\n",
       "    <tr>\n",
       "      <th>0</th>\n",
       "      <td>0</td>\n",
       "      <td>0</td>\n",
       "      <td>39.9</td>\n",
       "      <td>3</td>\n",
       "      <td>6.1</td>\n",
       "    </tr>\n",
       "    <tr>\n",
       "      <th>1</th>\n",
       "      <td>0</td>\n",
       "      <td>1</td>\n",
       "      <td>32.4</td>\n",
       "      <td>3</td>\n",
       "      <td>7.0</td>\n",
       "    </tr>\n",
       "    <tr>\n",
       "      <th>2</th>\n",
       "      <td>0</td>\n",
       "      <td>2</td>\n",
       "      <td>17.5</td>\n",
       "      <td>3</td>\n",
       "      <td>6.9</td>\n",
       "    </tr>\n",
       "    <tr>\n",
       "      <th>3</th>\n",
       "      <td>0</td>\n",
       "      <td>3</td>\n",
       "      <td>16.0</td>\n",
       "      <td>3</td>\n",
       "      <td>7.0</td>\n",
       "    </tr>\n",
       "    <tr>\n",
       "      <th>4</th>\n",
       "      <td>0</td>\n",
       "      <td>4</td>\n",
       "      <td>15.9</td>\n",
       "      <td>3</td>\n",
       "      <td>7.2</td>\n",
       "    </tr>\n",
       "  </tbody>\n",
       "</table>\n",
       "</div>"
      ],
      "text/plain": [
       "   student  week  studying_hours  group  quiz_grade\n",
       "0        0     0            39.9      3         6.1\n",
       "1        0     1            32.4      3         7.0\n",
       "2        0     2            17.5      3         6.9\n",
       "3        0     3            16.0      3         7.0\n",
       "4        0     4            15.9      3         7.2"
      ]
     },
     "execution_count": 3,
     "metadata": {},
     "output_type": "execute_result"
    }
   ],
   "source": [
    "# Load data\n",
    "df= pd.read_csv(f'{DATA_DIR}grades_in_time.csv.gz')\n",
    "df.head()"
   ]
  },
  {
   "cell_type": "code",
   "execution_count": 4,
   "id": "1a0380fd-5578-46a7-bf68-e1aeac69b4e4",
   "metadata": {},
   "outputs": [
    {
     "data": {
      "text/html": [
       "<div>\n",
       "<style scoped>\n",
       "    .dataframe tbody tr th:only-of-type {\n",
       "        vertical-align: middle;\n",
       "    }\n",
       "\n",
       "    .dataframe tbody tr th {\n",
       "        vertical-align: top;\n",
       "    }\n",
       "\n",
       "    .dataframe thead th {\n",
       "        text-align: right;\n",
       "    }\n",
       "</style>\n",
       "<table border=\"1\" class=\"dataframe\">\n",
       "  <thead>\n",
       "    <tr style=\"text-align: right;\">\n",
       "      <th></th>\n",
       "      <th>student</th>\n",
       "      <th>week</th>\n",
       "      <th>studying_hours</th>\n",
       "      <th>group</th>\n",
       "      <th>quiz_grade</th>\n",
       "    </tr>\n",
       "  </thead>\n",
       "  <tbody>\n",
       "    <tr>\n",
       "      <th>count</th>\n",
       "      <td>810.000000</td>\n",
       "      <td>810.000000</td>\n",
       "      <td>810.000000</td>\n",
       "      <td>810.000000</td>\n",
       "      <td>810.000000</td>\n",
       "    </tr>\n",
       "    <tr>\n",
       "      <th>mean</th>\n",
       "      <td>14.500000</td>\n",
       "      <td>13.000000</td>\n",
       "      <td>10.050617</td>\n",
       "      <td>1.933333</td>\n",
       "      <td>6.931975</td>\n",
       "    </tr>\n",
       "    <tr>\n",
       "      <th>std</th>\n",
       "      <td>8.660789</td>\n",
       "      <td>7.793693</td>\n",
       "      <td>8.270041</td>\n",
       "      <td>0.772199</td>\n",
       "      <td>1.336888</td>\n",
       "    </tr>\n",
       "    <tr>\n",
       "      <th>min</th>\n",
       "      <td>0.000000</td>\n",
       "      <td>0.000000</td>\n",
       "      <td>1.000000</td>\n",
       "      <td>1.000000</td>\n",
       "      <td>1.200000</td>\n",
       "    </tr>\n",
       "    <tr>\n",
       "      <th>25%</th>\n",
       "      <td>7.000000</td>\n",
       "      <td>6.000000</td>\n",
       "      <td>5.700000</td>\n",
       "      <td>1.000000</td>\n",
       "      <td>6.400000</td>\n",
       "    </tr>\n",
       "    <tr>\n",
       "      <th>50%</th>\n",
       "      <td>14.500000</td>\n",
       "      <td>13.000000</td>\n",
       "      <td>7.800000</td>\n",
       "      <td>2.000000</td>\n",
       "      <td>7.200000</td>\n",
       "    </tr>\n",
       "    <tr>\n",
       "      <th>75%</th>\n",
       "      <td>22.000000</td>\n",
       "      <td>20.000000</td>\n",
       "      <td>11.100000</td>\n",
       "      <td>3.000000</td>\n",
       "      <td>7.800000</td>\n",
       "    </tr>\n",
       "    <tr>\n",
       "      <th>max</th>\n",
       "      <td>29.000000</td>\n",
       "      <td>26.000000</td>\n",
       "      <td>64.000000</td>\n",
       "      <td>3.000000</td>\n",
       "      <td>10.100000</td>\n",
       "    </tr>\n",
       "  </tbody>\n",
       "</table>\n",
       "</div>"
      ],
      "text/plain": [
       "          student        week  studying_hours       group  quiz_grade\n",
       "count  810.000000  810.000000      810.000000  810.000000  810.000000\n",
       "mean    14.500000   13.000000       10.050617    1.933333    6.931975\n",
       "std      8.660789    7.793693        8.270041    0.772199    1.336888\n",
       "min      0.000000    0.000000        1.000000    1.000000    1.200000\n",
       "25%      7.000000    6.000000        5.700000    1.000000    6.400000\n",
       "50%     14.500000   13.000000        7.800000    2.000000    7.200000\n",
       "75%     22.000000   20.000000       11.100000    3.000000    7.800000\n",
       "max     29.000000   26.000000       64.000000    3.000000   10.100000"
      ]
     },
     "execution_count": 4,
     "metadata": {},
     "output_type": "execute_result"
    }
   ],
   "source": [
    "df.describe(include='all')"
   ]
  },
  {
   "attachments": {},
   "cell_type": "markdown",
   "id": "480bc2c2-fbb0-4424-b1fd-ee1d6566f670",
   "metadata": {},
   "source": [
    "# Task 1: Predict the quiz grade using the studying hours and the group.\n",
    "----------\n",
    "### 1.1 Split the data. 80% to train and the rest to test. \n"
   ]
  },
  {
   "cell_type": "code",
   "execution_count": 5,
   "id": "ba36e633-1925-4371-9bb3-873fc7976a9e",
   "metadata": {},
   "outputs": [],
   "source": [
    "from sklearn.model_selection import train_test_split\n",
    "\n",
    "# Split the data 80% to train and the rest to test\n",
    "# We'll predict the quiz grade for a specific week using the studying hours and the group\n",
    "# Index is student and week\n",
    "y = df['quiz_grade']\n",
    "X = df[['studying_hours', 'group']]\n",
    "\n",
    "X_train, X_test, y_train, y_test = train_test_split(X, y, test_size=0.2, random_state=42)"
   ]
  },
  {
   "cell_type": "code",
   "execution_count": 6,
   "metadata": {
    "collapsed": false
   },
   "outputs": [
    {
     "data": {
      "text/html": [
       "<div>\n",
       "<style scoped>\n",
       "    .dataframe tbody tr th:only-of-type {\n",
       "        vertical-align: middle;\n",
       "    }\n",
       "\n",
       "    .dataframe tbody tr th {\n",
       "        vertical-align: top;\n",
       "    }\n",
       "\n",
       "    .dataframe thead th {\n",
       "        text-align: right;\n",
       "    }\n",
       "</style>\n",
       "<table border=\"1\" class=\"dataframe\">\n",
       "  <thead>\n",
       "    <tr style=\"text-align: right;\">\n",
       "      <th></th>\n",
       "      <th>studying_hours</th>\n",
       "      <th>group</th>\n",
       "    </tr>\n",
       "  </thead>\n",
       "  <tbody>\n",
       "    <tr>\n",
       "      <th>662</th>\n",
       "      <td>6.8</td>\n",
       "      <td>3</td>\n",
       "    </tr>\n",
       "    <tr>\n",
       "      <th>239</th>\n",
       "      <td>4.8</td>\n",
       "      <td>3</td>\n",
       "    </tr>\n",
       "    <tr>\n",
       "      <th>445</th>\n",
       "      <td>6.4</td>\n",
       "      <td>1</td>\n",
       "    </tr>\n",
       "    <tr>\n",
       "      <th>333</th>\n",
       "      <td>8.8</td>\n",
       "      <td>2</td>\n",
       "    </tr>\n",
       "    <tr>\n",
       "      <th>292</th>\n",
       "      <td>9.8</td>\n",
       "      <td>2</td>\n",
       "    </tr>\n",
       "  </tbody>\n",
       "</table>\n",
       "</div>"
      ],
      "text/plain": [
       "     studying_hours  group\n",
       "662             6.8      3\n",
       "239             4.8      3\n",
       "445             6.4      1\n",
       "333             8.8      2\n",
       "292             9.8      2"
      ]
     },
     "execution_count": 6,
     "metadata": {},
     "output_type": "execute_result"
    }
   ],
   "source": [
    "X_train.head()"
   ]
  },
  {
   "attachments": {},
   "cell_type": "markdown",
   "id": "c3d70d69-a9c3-45f7-b0f8-4d926e1e4038",
   "metadata": {},
   "source": [
    "### 1.2 Preprocess the data\n",
    "Recall that group is a categorical feature.\n",
    "\n",
    "Hint: Use ColumnTransformer."
   ]
  },
  {
   "cell_type": "code",
   "execution_count": 7,
   "id": "7c1f115d-7a45-4b52-9257-8a49bda672a5",
   "metadata": {},
   "outputs": [
    {
     "data": {
      "text/plain": [
       "array([[ 0.        ,  0.        ,  1.        , -0.39853379],\n",
       "       [ 0.        ,  0.        ,  1.        , -0.64238432],\n",
       "       [ 1.        ,  0.        ,  0.        , -0.4473039 ],\n",
       "       ...,\n",
       "       [ 0.        ,  1.        ,  0.        , -0.04495053],\n",
       "       [ 1.        ,  0.        ,  0.        , -1.09350779],\n",
       "       [ 0.        ,  1.        ,  0.        , -0.4473039 ]])"
      ]
     },
     "execution_count": 7,
     "metadata": {},
     "output_type": "execute_result"
    }
   ],
   "source": [
    "# Remember that group is a categorical feature\n",
    "# Preprocess the data such that the categorical feature is encoded using one-hot encoding\n",
    "# and the numerical feature is scaled using StandardScaler\n",
    "from sklearn.preprocessing import OneHotEncoder, StandardScaler\n",
    "from sklearn.compose import ColumnTransformer\n",
    "preprocessor = ColumnTransformer([\n",
    "    ('categorical', OneHotEncoder(), ['group']),\n",
    "    ('numerical', StandardScaler(), ['studying_hours'])\n",
    "])\n",
    "preprocessor.fit_transform(X_train)\n"
   ]
  },
  {
   "cell_type": "code",
   "execution_count": 8,
   "metadata": {
    "collapsed": false
   },
   "outputs": [
    {
     "data": {
      "text/html": [
       "<div>\n",
       "<style scoped>\n",
       "    .dataframe tbody tr th:only-of-type {\n",
       "        vertical-align: middle;\n",
       "    }\n",
       "\n",
       "    .dataframe tbody tr th {\n",
       "        vertical-align: top;\n",
       "    }\n",
       "\n",
       "    .dataframe thead th {\n",
       "        text-align: right;\n",
       "    }\n",
       "</style>\n",
       "<table border=\"1\" class=\"dataframe\">\n",
       "  <thead>\n",
       "    <tr style=\"text-align: right;\">\n",
       "      <th></th>\n",
       "      <th>studying_hours</th>\n",
       "      <th>group</th>\n",
       "    </tr>\n",
       "  </thead>\n",
       "  <tbody>\n",
       "    <tr>\n",
       "      <th>662</th>\n",
       "      <td>6.8</td>\n",
       "      <td>3</td>\n",
       "    </tr>\n",
       "    <tr>\n",
       "      <th>239</th>\n",
       "      <td>4.8</td>\n",
       "      <td>3</td>\n",
       "    </tr>\n",
       "    <tr>\n",
       "      <th>445</th>\n",
       "      <td>6.4</td>\n",
       "      <td>1</td>\n",
       "    </tr>\n",
       "    <tr>\n",
       "      <th>333</th>\n",
       "      <td>8.8</td>\n",
       "      <td>2</td>\n",
       "    </tr>\n",
       "    <tr>\n",
       "      <th>292</th>\n",
       "      <td>9.8</td>\n",
       "      <td>2</td>\n",
       "    </tr>\n",
       "  </tbody>\n",
       "</table>\n",
       "</div>"
      ],
      "text/plain": [
       "     studying_hours  group\n",
       "662             6.8      3\n",
       "239             4.8      3\n",
       "445             6.4      1\n",
       "333             8.8      2\n",
       "292             9.8      2"
      ]
     },
     "execution_count": 8,
     "metadata": {},
     "output_type": "execute_result"
    }
   ],
   "source": [
    "X_train.head()"
   ]
  },
  {
   "attachments": {},
   "cell_type": "markdown",
   "id": "0566521a-7065-459f-aba5-f365541e83be",
   "metadata": {},
   "source": [
    "### 1.3 Create a pipeline (including the preprocessing steps) to predict the quiz grade using the studying hours and the group.\n",
    "\n",
    "1. Use the model ElasticNet for the regression task.\n",
    "2. Calculate the mean sqaured error of the prediction. \n",
    "\n",
    "\n",
    "Hint: Integrate the ColumnTransformer as a pipeline step"
   ]
  },
  {
   "cell_type": "code",
   "execution_count": 9,
   "id": "6ae84e57-8086-4b20-8628-1adc3d8ec676",
   "metadata": {},
   "outputs": [
    {
     "name": "stdout",
     "output_type": "stream",
     "text": [
      "Mean Squared Error = 1.723069058409944\n"
     ]
    }
   ],
   "source": [
    "# Create a pipeline to predict the quiz grade using the studying hours and the group\n",
    "from sklearn.pipeline import Pipeline\n",
    "from sklearn.linear_model import ElasticNet\n",
    "from sklearn.metrics import mean_squared_error\n",
    "\n",
    "pipe = Pipeline([\n",
    "    ('preprocessor', preprocessor),\n",
    "    ('model', ElasticNet())\n",
    "])\n",
    "\n",
    "pipe.fit(X_train, y_train)\n",
    "y_pred = pipe.predict(X_test)\n",
    "error = mean_squared_error(y_test, y_pred)\n",
    "#send(f\"Mean Squared Error = {error}\", 13)\n",
    "print(f\"Mean Squared Error = {error}\")"
   ]
  },
  {
   "attachments": {},
   "cell_type": "markdown",
   "id": "761754bb-4672-42ee-b883-7b94d8a46cde",
   "metadata": {},
   "source": [
    "### 1.4 Compute the cross validation score"
   ]
  },
  {
   "cell_type": "code",
   "execution_count": 10,
   "id": "188e045f-79fc-438b-adf6-2d297a31a174",
   "metadata": {},
   "outputs": [
    {
     "name": "stdout",
     "output_type": "stream",
     "text": [
      "1.819927679248823\n"
     ]
    }
   ],
   "source": [
    "# Compute the cross validation score\n",
    "from sklearn.model_selection import cross_val_score\n",
    "\n",
    "pipe = Pipeline([\n",
    "    ('preprocessor', preprocessor),\n",
    "    ('model', ElasticNet())\n",
    "])\n",
    "\n",
    "cvscore = np.mean((-1)*cross_val_score(pipe, X, y, cv = 5, scoring = 'neg_mean_squared_error'))\n",
    "print(cvscore)\n",
    "#send(cvscore, 14)"
   ]
  },
  {
   "cell_type": "code",
   "execution_count": 12,
   "id": "e601fdde",
   "metadata": {},
   "outputs": [
    {
     "data": {
      "text/plain": [
       "{'fit_time': array([0.0034461 , 0.00319386, 0.00295305, 0.00270629, 0.0024519 ]),\n",
       " 'score_time': array([0.00160503, 0.0021863 , 0.00173211, 0.00141883, 0.00136018]),\n",
       " 'test_score': array([-1.15538399, -1.70046188, -3.36715175, -1.62436725, -1.25227353])}"
      ]
     },
     "execution_count": 12,
     "metadata": {},
     "output_type": "execute_result"
    }
   ],
   "source": [
    "# import cross_validate\n",
    "from sklearn.model_selection import cross_validate\n",
    "\n",
    "cross_validate(\n",
    "    pipe,\n",
    "    X,\n",
    "    y,\n",
    "    cv=5,\n",
    "    scoring='neg_mean_squared_error',\n",
    ")"
   ]
  },
  {
   "cell_type": "code",
   "execution_count": 13,
   "id": "d045b202",
   "metadata": {},
   "outputs": [
    {
     "data": {
      "text/plain": [
       "array([-1.15538399, -1.70046188, -3.36715175, -1.62436725, -1.25227353])"
      ]
     },
     "execution_count": 13,
     "metadata": {},
     "output_type": "execute_result"
    }
   ],
   "source": [
    "cross_val_score(pipe, X, y, cv = 5, scoring = 'neg_mean_squared_error')"
   ]
  },
  {
   "attachments": {},
   "cell_type": "markdown",
   "id": "7effbb0f-cc36-480b-851f-265a2ad405a8",
   "metadata": {},
   "source": [
    "### 1.5 Does the score in 1.3 differ from the score in 1.4? Why? "
   ]
  },
  {
   "cell_type": "code",
   "execution_count": 11,
   "id": "ae0d5532-c1e6-4f0a-91be-97d7e9976f0a",
   "metadata": {},
   "outputs": [],
   "source": [
    "answer = \" One is average over many folds, the other is just one fold\"\n",
    "#send(answer, 15) "
   ]
  },
  {
   "attachments": {},
   "cell_type": "markdown",
   "id": "6c94393a-9b53-454f-9eab-277b0abdaf6d",
   "metadata": {},
   "source": [
    "### 1.6 What is wrong with data split?"
   ]
  },
  {
   "cell_type": "code",
   "execution_count": 12,
   "id": "2d62f284-f1e1-498d-8dff-e315e217bb6d",
   "metadata": {},
   "outputs": [],
   "source": [
    "answer = \"\"\" Let's take a look at the test set, and see that the test set has for students the past and the future \n",
    "Notice that student 0 has week 2,7,10,23 in the test set\n",
    "but has week 0,1,3,4,5 in the train set\n",
    "So we use the data from the future for student to predict the past\n",
    "\"\"\"\n",
    "#send(answer, 16) "
   ]
  },
  {
   "cell_type": "code",
   "execution_count": 18,
   "id": "9d1a79bd",
   "metadata": {},
   "outputs": [
    {
     "data": {
      "text/html": [
       "<div>\n",
       "<style scoped>\n",
       "    .dataframe tbody tr th:only-of-type {\n",
       "        vertical-align: middle;\n",
       "    }\n",
       "\n",
       "    .dataframe tbody tr th {\n",
       "        vertical-align: top;\n",
       "    }\n",
       "\n",
       "    .dataframe thead th {\n",
       "        text-align: right;\n",
       "    }\n",
       "</style>\n",
       "<table border=\"1\" class=\"dataframe\">\n",
       "  <thead>\n",
       "    <tr style=\"text-align: right;\">\n",
       "      <th></th>\n",
       "      <th>student</th>\n",
       "      <th>week</th>\n",
       "      <th>studying_hours</th>\n",
       "      <th>group</th>\n",
       "      <th>quiz_grade</th>\n",
       "    </tr>\n",
       "  </thead>\n",
       "  <tbody>\n",
       "    <tr>\n",
       "      <th>2</th>\n",
       "      <td>0</td>\n",
       "      <td>2</td>\n",
       "      <td>17.5</td>\n",
       "      <td>3</td>\n",
       "      <td>6.9</td>\n",
       "    </tr>\n",
       "    <tr>\n",
       "      <th>7</th>\n",
       "      <td>0</td>\n",
       "      <td>7</td>\n",
       "      <td>10.4</td>\n",
       "      <td>3</td>\n",
       "      <td>7.4</td>\n",
       "    </tr>\n",
       "    <tr>\n",
       "      <th>10</th>\n",
       "      <td>0</td>\n",
       "      <td>10</td>\n",
       "      <td>7.7</td>\n",
       "      <td>3</td>\n",
       "      <td>7.4</td>\n",
       "    </tr>\n",
       "    <tr>\n",
       "      <th>23</th>\n",
       "      <td>0</td>\n",
       "      <td>23</td>\n",
       "      <td>1.5</td>\n",
       "      <td>3</td>\n",
       "      <td>6.7</td>\n",
       "    </tr>\n",
       "    <tr>\n",
       "      <th>29</th>\n",
       "      <td>1</td>\n",
       "      <td>2</td>\n",
       "      <td>23.7</td>\n",
       "      <td>3</td>\n",
       "      <td>7.0</td>\n",
       "    </tr>\n",
       "  </tbody>\n",
       "</table>\n",
       "</div>"
      ],
      "text/plain": [
       "    student  week  studying_hours  group  quiz_grade\n",
       "2         0     2            17.5      3         6.9\n",
       "7         0     7            10.4      3         7.4\n",
       "10        0    10             7.7      3         7.4\n",
       "23        0    23             1.5      3         6.7\n",
       "29        1     2            23.7      3         7.0"
      ]
     },
     "execution_count": 18,
     "metadata": {},
     "output_type": "execute_result"
    }
   ],
   "source": [
    "# print the rows in df that are in the test set\n",
    "df[df.index.isin(X_test.index)].sort_index().head()\n",
    "# can also use \n",
    "# df.loc[X_test.index].sort_index().head()"
   ]
  },
  {
   "cell_type": "code",
   "execution_count": 20,
   "id": "e2b05dee",
   "metadata": {},
   "outputs": [
    {
     "data": {
      "text/html": [
       "<div>\n",
       "<style scoped>\n",
       "    .dataframe tbody tr th:only-of-type {\n",
       "        vertical-align: middle;\n",
       "    }\n",
       "\n",
       "    .dataframe tbody tr th {\n",
       "        vertical-align: top;\n",
       "    }\n",
       "\n",
       "    .dataframe thead th {\n",
       "        text-align: right;\n",
       "    }\n",
       "</style>\n",
       "<table border=\"1\" class=\"dataframe\">\n",
       "  <thead>\n",
       "    <tr style=\"text-align: right;\">\n",
       "      <th></th>\n",
       "      <th>student</th>\n",
       "      <th>week</th>\n",
       "      <th>studying_hours</th>\n",
       "      <th>group</th>\n",
       "      <th>quiz_grade</th>\n",
       "    </tr>\n",
       "  </thead>\n",
       "  <tbody>\n",
       "    <tr>\n",
       "      <th>0</th>\n",
       "      <td>0</td>\n",
       "      <td>0</td>\n",
       "      <td>39.9</td>\n",
       "      <td>3</td>\n",
       "      <td>6.1</td>\n",
       "    </tr>\n",
       "    <tr>\n",
       "      <th>1</th>\n",
       "      <td>0</td>\n",
       "      <td>1</td>\n",
       "      <td>32.4</td>\n",
       "      <td>3</td>\n",
       "      <td>7.0</td>\n",
       "    </tr>\n",
       "    <tr>\n",
       "      <th>3</th>\n",
       "      <td>0</td>\n",
       "      <td>3</td>\n",
       "      <td>16.0</td>\n",
       "      <td>3</td>\n",
       "      <td>7.0</td>\n",
       "    </tr>\n",
       "    <tr>\n",
       "      <th>4</th>\n",
       "      <td>0</td>\n",
       "      <td>4</td>\n",
       "      <td>15.9</td>\n",
       "      <td>3</td>\n",
       "      <td>7.2</td>\n",
       "    </tr>\n",
       "    <tr>\n",
       "      <th>5</th>\n",
       "      <td>0</td>\n",
       "      <td>5</td>\n",
       "      <td>12.6</td>\n",
       "      <td>3</td>\n",
       "      <td>7.3</td>\n",
       "    </tr>\n",
       "  </tbody>\n",
       "</table>\n",
       "</div>"
      ],
      "text/plain": [
       "   student  week  studying_hours  group  quiz_grade\n",
       "0        0     0            39.9      3         6.1\n",
       "1        0     1            32.4      3         7.0\n",
       "3        0     3            16.0      3         7.0\n",
       "4        0     4            15.9      3         7.2\n",
       "5        0     5            12.6      3         7.3"
      ]
     },
     "execution_count": 20,
     "metadata": {},
     "output_type": "execute_result"
    }
   ],
   "source": [
    "df[df.index.isin(X_train.index)].sort_index().head()"
   ]
  },
  {
   "attachments": {},
   "cell_type": "markdown",
   "id": "57a8c411-ce00-4acf-8fc2-87939bb65838",
   "metadata": {},
   "source": [
    "## Task 2: Time Validation\n",
    "\n",
    "### 2.1 Train with the first 25 weeks and predict week 26.\n",
    "\n",
    "Hint: You may re-use your pipeline"
   ]
  },
  {
   "cell_type": "code",
   "execution_count": 14,
   "id": "fdd3f667-7e87-4dfa-a00e-e1a2bab4d208",
   "metadata": {},
   "outputs": [],
   "source": [
    "# We'll use the first 25 weeks of data for each student to predict the quiz grade of the 26th week\n",
    "X_train = df[df['week'] <= 25][['studying_hours', 'group']]\n",
    "y_train = df[df['week'] <= 25]['quiz_grade']\n",
    "\n",
    "X_test = df[df['week'] == 26][['studying_hours', 'group']]\n",
    "y_test = df[df['week'] == 26]['quiz_grade']"
   ]
  },
  {
   "cell_type": "code",
   "execution_count": 15,
   "id": "a77ada95-d469-4599-b969-3819db88bb38",
   "metadata": {},
   "outputs": [
    {
     "name": "stdout",
     "output_type": "stream",
     "text": [
      "Mean Squared Error = 1.6729590540078738\n"
     ]
    }
   ],
   "source": [
    "pipe.fit(X_train, y_train)\n",
    "y_pred = pipe.predict(X_test)\n",
    "error = mean_squared_error(y_test, y_pred)\n",
    "#send(f\"Mean Squared Error = {error}\", 21)\n",
    "print(f\"Mean Squared Error = {error}\")"
   ]
  },
  {
   "attachments": {},
   "cell_type": "markdown",
   "id": "b811bac5-7fc2-4229-9ed8-05cda7b84bda",
   "metadata": {},
   "source": [
    "### 2.2 Time splits\n",
    "Would the model also be able to predict week 16 from all the previous weeks? \n",
    "\n",
    "What about week 5 from the previous weeks?\n",
    "\n",
    "Create all the data splits so that the model predicts the next week given the information from the previous weeks. \n",
    "\n",
    "You may start taking the first 4 weeks to predict the 5th, then taking the first 5 weeks to predict the 6th, etc.\n"
   ]
  },
  {
   "cell_type": "code",
   "execution_count": 16,
   "metadata": {
    "collapsed": false
   },
   "outputs": [
    {
     "data": {
      "text/html": [
       "<div>\n",
       "<style scoped>\n",
       "    .dataframe tbody tr th:only-of-type {\n",
       "        vertical-align: middle;\n",
       "    }\n",
       "\n",
       "    .dataframe tbody tr th {\n",
       "        vertical-align: top;\n",
       "    }\n",
       "\n",
       "    .dataframe thead th {\n",
       "        text-align: right;\n",
       "    }\n",
       "</style>\n",
       "<table border=\"1\" class=\"dataframe\">\n",
       "  <thead>\n",
       "    <tr style=\"text-align: right;\">\n",
       "      <th></th>\n",
       "      <th>studying_hours</th>\n",
       "      <th>group</th>\n",
       "    </tr>\n",
       "  </thead>\n",
       "  <tbody>\n",
       "    <tr>\n",
       "      <th>4</th>\n",
       "      <td>15.9</td>\n",
       "      <td>3</td>\n",
       "    </tr>\n",
       "    <tr>\n",
       "      <th>31</th>\n",
       "      <td>23.1</td>\n",
       "      <td>3</td>\n",
       "    </tr>\n",
       "    <tr>\n",
       "      <th>58</th>\n",
       "      <td>6.7</td>\n",
       "      <td>2</td>\n",
       "    </tr>\n",
       "    <tr>\n",
       "      <th>85</th>\n",
       "      <td>4.8</td>\n",
       "      <td>2</td>\n",
       "    </tr>\n",
       "    <tr>\n",
       "      <th>112</th>\n",
       "      <td>3.1</td>\n",
       "      <td>1</td>\n",
       "    </tr>\n",
       "  </tbody>\n",
       "</table>\n",
       "</div>"
      ],
      "text/plain": [
       "     studying_hours  group\n",
       "4              15.9      3\n",
       "31             23.1      3\n",
       "58              6.7      2\n",
       "85              4.8      2\n",
       "112             3.1      1"
      ]
     },
     "execution_count": 16,
     "metadata": {},
     "output_type": "execute_result"
    }
   ],
   "source": [
    "df[df['week'] == 4][['studying_hours', 'group']].head()"
   ]
  },
  {
   "cell_type": "code",
   "execution_count": 17,
   "id": "8a4f4ba6-f3a8-4ca1-a3e5-9d1d22149958",
   "metadata": {},
   "outputs": [],
   "source": [
    "# Create all the data splits so that the model predicts the next week given the information from the previous weeks\n",
    "# You may start taking the first 4 weeks to predict the 5th, then taking the first 5 weeks to predict the 6th, etc.\n",
    "# This will be fed to the cross validation function as the cv parameter\n",
    "# Which expects a list of tuples (x_train_index, y_train_index)\n",
    "time_splits = [\n",
    "    (\n",
    "        df[df['week'] <= week-1][['studying_hours', 'group']].index,\n",
    "        df[df['week'] == week]['quiz_grade'].index\n",
    "    )\n",
    "    for week in range(5, 26)\n",
    "]"
   ]
  },
  {
   "cell_type": "code",
   "execution_count": 18,
   "metadata": {
    "collapsed": false
   },
   "outputs": [
    {
     "data": {
      "text/plain": [
       "Int64Index([  5,  32,  59,  86, 113, 140, 167, 194, 221, 248, 275, 302, 329,\n",
       "            356, 383, 410, 437, 464, 491, 518, 545, 572, 599, 626, 653, 680,\n",
       "            707, 734, 761, 788],\n",
       "           dtype='int64')"
      ]
     },
     "execution_count": 18,
     "metadata": {},
     "output_type": "execute_result"
    }
   ],
   "source": [
    "time_splits[0][1]"
   ]
  },
  {
   "cell_type": "code",
   "execution_count": 19,
   "metadata": {
    "collapsed": false
   },
   "outputs": [
    {
     "data": {
      "text/plain": [
       "Int64Index([  0,   1,   2,   3,   4,  27,  28,  29,  30,  31,\n",
       "            ...\n",
       "            756, 757, 758, 759, 760, 783, 784, 785, 786, 787],\n",
       "           dtype='int64', length=150)"
      ]
     },
     "execution_count": 19,
     "metadata": {},
     "output_type": "execute_result"
    }
   ],
   "source": [
    "time_splits[0][0]"
   ]
  },
  {
   "cell_type": "code",
   "execution_count": 19,
   "metadata": {
    "collapsed": false
   },
   "outputs": [
    {
     "name": "stdout",
     "output_type": "stream",
     "text": [
      "21\n",
      "2\n",
      "(150,)\n",
      "(30,)\n"
     ]
    }
   ],
   "source": [
    "print(len(time_splits)) # 21 weeks\n",
    "print(len(time_splits[0])) # x_train, y_train\n",
    "print(time_splits[0][0].shape) # x_train\n",
    "print(time_splits[0][1].shape) # y_train"
   ]
  },
  {
   "attachments": {},
   "cell_type": "markdown",
   "id": "6783bcc9-15db-461d-8a5c-13d3dee0b429",
   "metadata": {},
   "source": [
    "### 2.3 Using the previously created splits, calculate the cross validation score\n",
    "\n",
    "Hint: You may pass the splits with the parameter cv to the cross vadation function"
   ]
  },
  {
   "cell_type": "code",
   "execution_count": 20,
   "id": "05882fc3-5042-49f0-a43b-b993cbf6ac72",
   "metadata": {},
   "outputs": [
    {
     "name": "stdout",
     "output_type": "stream",
     "text": [
      "1.734621704107163\n"
     ]
    }
   ],
   "source": [
    "errors = (-1)*cross_val_score(pipe, X, y, cv = time_splits, scoring = 'neg_mean_squared_error')\n",
    "cvscore = np.mean(errors)\n",
    "print(cvscore)\n",
    "#send(cvscore, 23)"
   ]
  },
  {
   "cell_type": "code",
   "execution_count": 24,
   "id": "11bf3119",
   "metadata": {},
   "outputs": [
    {
     "name": "stdout",
     "output_type": "stream",
     "text": [
      "[2.15221843 2.01598971 1.95714596 1.9228452  1.68057016 1.74331581\n",
      " 1.59032267 1.57230925 1.72369407 1.57340757 1.62470424 1.56917964\n",
      " 1.73223795 1.74502537 1.70382636 1.62030767 1.86304256 1.78514131\n",
      " 1.73029424 1.53272073 1.58875686]\n"
     ]
    },
    {
     "data": {
      "text/plain": [
       "21"
      ]
     },
     "execution_count": 24,
     "metadata": {},
     "output_type": "execute_result"
    }
   ],
   "source": [
    "print(errors)\n",
    "len(errors) # 21 weeks"
   ]
  },
  {
   "cell_type": "code",
   "execution_count": 21,
   "metadata": {
    "collapsed": false
   },
   "outputs": [
    {
     "data": {
      "text/plain": [
       "[<matplotlib.lines.Line2D at 0x1468dd5a0>]"
      ]
     },
     "execution_count": 21,
     "metadata": {},
     "output_type": "execute_result"
    },
    {
     "data": {
      "image/png": "[encoded data removed]",
      "text/plain": [
       "<Figure size 640x480 with 1 Axes>"
      ]
     },
     "metadata": {},
     "output_type": "display_data"
    }
   ],
   "source": [
    "# Plot the error for each fold/week\n",
    "plt.plot(range(5, 26), errors)"
   ]
  },
  {
   "attachments": {},
   "cell_type": "markdown",
   "id": "03d3a52b-d391-44c9-8695-eb0ae6ae5c26",
   "metadata": {},
   "source": [
    "### 2.4 How does the error differ from the error of 2.1? Why?"
   ]
  },
  {
   "cell_type": "code",
   "execution_count": 23,
   "id": "64ca9e93-6f7a-4034-bd8b-f8309f2e868c",
   "metadata": {},
   "outputs": [
    {
     "data": {
      "text/plain": [
       "<Response [200]>"
      ]
     },
     "execution_count": 23,
     "metadata": {},
     "output_type": "execute_result"
    }
   ],
   "source": [
    "answer = \" Missing answer \"\n",
    "send(answer, 24) "
   ]
  },
  {
   "attachments": {},
   "cell_type": "markdown",
   "id": "c4b8a3ef-9012-48da-a7ec-31d15199ec16",
   "metadata": {},
   "source": [
    "## Task 3: Nested cross-validation\n",
    "\n",
    "Now imagine we want to optimize the hyperparameters for the model.\n",
    "\n",
    "We will \"ignore\" time for now and take the mean studying hours and quiz grade. \n"
   ]
  },
  {
   "cell_type": "code",
   "execution_count": 25,
   "id": "8b287069-bac2-4bdd-b88a-11b87ab05c44",
   "metadata": {},
   "outputs": [],
   "source": [
    "df_agg = df.groupby('student').mean()\n",
    "\n",
    "X = df_agg[['studying_hours', 'group']]\n",
    "y = df_agg['quiz_grade']"
   ]
  },
  {
   "attachments": {},
   "cell_type": "markdown",
   "id": "74871cd9-c8db-4bef-bb37-3ce4ca2918fe",
   "metadata": {},
   "source": [
    "### 3.1 Gridsearch with cross validation\n",
    "\n",
    "ElasticNet has two interesting parameters: alpha and l1_ratio.\n",
    "\n",
    "Run a GridSearch to explore the following values:\n",
    "* alpha = 0.1 and 1\n",
    "* l1_ratio = 0.1, 0.5 and 1\n",
    "\n",
    "What is the best score (smallest error)? "
   ]
  },
  {
   "cell_type": "code",
   "execution_count": 26,
   "id": "8aee2acd-2f54-496b-87ee-d77ef69a447d",
   "metadata": {},
   "outputs": [
    {
     "data": {
      "text/html": [
       "<style>#sk-container-id-1 {color: black;background-color: white;}#sk-container-id-1 pre{padding: 0;}#sk-container-id-1 div.sk-toggleable {background-color: white;}#sk-container-id-1 label.sk-toggleable__label {cursor: pointer;display: block;width: 100%;margin-bottom: 0;padding: 0.3em;box-sizing: border-box;text-align: center;}#sk-container-id-1 label.sk-toggleable__label-arrow:before {content: \"▸\";float: left;margin-right: 0.25em;color: #696969;}#sk-container-id-1 label.sk-toggleable__label-arrow:hover:before {color: black;}#sk-container-id-1 div.sk-estimator:hover label.sk-toggleable__label-arrow:before {color: black;}#sk-container-id-1 div.sk-toggleable__content {max-height: 0;max-width: 0;overflow: hidden;text-align: left;background-color: #f0f8ff;}#sk-container-id-1 div.sk-toggleable__content pre {margin: 0.2em;color: black;border-radius: 0.25em;background-color: #f0f8ff;}#sk-container-id-1 input.sk-toggleable__control:checked~div.sk-toggleable__content {max-height: 200px;max-width: 100%;overflow: auto;}#sk-container-id-1 input.sk-toggleable__control:checked~label.sk-toggleable__label-arrow:before {content: \"▾\";}#sk-container-id-1 div.sk-estimator input.sk-toggleable__control:checked~label.sk-toggleable__label {background-color: #d4ebff;}#sk-container-id-1 div.sk-label input.sk-toggleable__control:checked~label.sk-toggleable__label {background-color: #d4ebff;}#sk-container-id-1 input.sk-hidden--visually {border: 0;clip: rect(1px 1px 1px 1px);clip: rect(1px, 1px, 1px, 1px);height: 1px;margin: -1px;overflow: hidden;padding: 0;position: absolute;width: 1px;}#sk-container-id-1 div.sk-estimator {font-family: monospace;background-color: #f0f8ff;border: 1px dotted black;border-radius: 0.25em;box-sizing: border-box;margin-bottom: 0.5em;}#sk-container-id-1 div.sk-estimator:hover {background-color: #d4ebff;}#sk-container-id-1 div.sk-parallel-item::after {content: \"\";width: 100%;border-bottom: 1px solid gray;flex-grow: 1;}#sk-container-id-1 div.sk-label:hover label.sk-toggleable__label {background-color: #d4ebff;}#sk-container-id-1 div.sk-serial::before {content: \"\";position: absolute;border-left: 1px solid gray;box-sizing: border-box;top: 0;bottom: 0;left: 50%;z-index: 0;}#sk-container-id-1 div.sk-serial {display: flex;flex-direction: column;align-items: center;background-color: white;padding-right: 0.2em;padding-left: 0.2em;position: relative;}#sk-container-id-1 div.sk-item {position: relative;z-index: 1;}#sk-container-id-1 div.sk-parallel {display: flex;align-items: stretch;justify-content: center;background-color: white;position: relative;}#sk-container-id-1 div.sk-item::before, #sk-container-id-1 div.sk-parallel-item::before {content: \"\";position: absolute;border-left: 1px solid gray;box-sizing: border-box;top: 0;bottom: 0;left: 50%;z-index: -1;}#sk-container-id-1 div.sk-parallel-item {display: flex;flex-direction: column;z-index: 1;position: relative;background-color: white;}#sk-container-id-1 div.sk-parallel-item:first-child::after {align-self: flex-end;width: 50%;}#sk-container-id-1 div.sk-parallel-item:last-child::after {align-self: flex-start;width: 50%;}#sk-container-id-1 div.sk-parallel-item:only-child::after {width: 0;}#sk-container-id-1 div.sk-dashed-wrapped {border: 1px dashed gray;margin: 0 0.4em 0.5em 0.4em;box-sizing: border-box;padding-bottom: 0.4em;background-color: white;}#sk-container-id-1 div.sk-label label {font-family: monospace;font-weight: bold;display: inline-block;line-height: 1.2em;}#sk-container-id-1 div.sk-label-container {text-align: center;}#sk-container-id-1 div.sk-container {/* jupyter's `normalize.less` sets `[hidden] { display: none; }` but bootstrap.min.css set `[hidden] { display: none !important; }` so we also need the `!important` here to be able to override the default hidden behavior on the sphinx rendered scikit-learn.org. See: https://github.com/scikit-learn/scikit-learn/issues/21755 */display: inline-block !important;position: relative;}#sk-container-id-1 div.sk-text-repr-fallback {display: none;}</style><div id=\"sk-container-id-1\" class=\"sk-top-container\"><div class=\"sk-text-repr-fallback\"><pre>GridSearchCV(cv=5,\n",
       "             estimator=Pipeline(steps=[(&#x27;preprocessor&#x27;,\n",
       "                                        ColumnTransformer(transformers=[(&#x27;categorical&#x27;,\n",
       "                                                                         OneHotEncoder(),\n",
       "                                                                         [&#x27;group&#x27;]),\n",
       "                                                                        (&#x27;numerical&#x27;,\n",
       "                                                                         StandardScaler(),\n",
       "                                                                         [&#x27;studying_hours&#x27;])])),\n",
       "                                       (&#x27;model&#x27;, ElasticNet())]),\n",
       "             param_grid=({&#x27;model__alpha&#x27;: [0.1, 1],\n",
       "                          &#x27;model__l1_ratio&#x27;: [0.1, 0.5, 1]},),\n",
       "             scoring=&#x27;neg_mean_squared_error&#x27;)</pre><b>In a Jupyter environment, please rerun this cell to show the HTML representation or trust the notebook. <br />On GitHub, the HTML representation is unable to render, please try loading this page with nbviewer.org.</b></div><div class=\"sk-container\" hidden><div class=\"sk-item sk-dashed-wrapped\"><div class=\"sk-label-container\"><div class=\"sk-label sk-toggleable\"><input class=\"sk-toggleable__control sk-hidden--visually\" id=\"sk-estimator-id-1\" type=\"checkbox\" ><label for=\"sk-estimator-id-1\" class=\"sk-toggleable__label sk-toggleable__label-arrow\">GridSearchCV</label><div class=\"sk-toggleable__content\"><pre>GridSearchCV(cv=5,\n",
       "             estimator=Pipeline(steps=[(&#x27;preprocessor&#x27;,\n",
       "                                        ColumnTransformer(transformers=[(&#x27;categorical&#x27;,\n",
       "                                                                         OneHotEncoder(),\n",
       "                                                                         [&#x27;group&#x27;]),\n",
       "                                                                        (&#x27;numerical&#x27;,\n",
       "                                                                         StandardScaler(),\n",
       "                                                                         [&#x27;studying_hours&#x27;])])),\n",
       "                                       (&#x27;model&#x27;, ElasticNet())]),\n",
       "             param_grid=({&#x27;model__alpha&#x27;: [0.1, 1],\n",
       "                          &#x27;model__l1_ratio&#x27;: [0.1, 0.5, 1]},),\n",
       "             scoring=&#x27;neg_mean_squared_error&#x27;)</pre></div></div></div><div class=\"sk-parallel\"><div class=\"sk-parallel-item\"><div class=\"sk-item\"><div class=\"sk-label-container\"><div class=\"sk-label sk-toggleable\"><input class=\"sk-toggleable__control sk-hidden--visually\" id=\"sk-estimator-id-2\" type=\"checkbox\" ><label for=\"sk-estimator-id-2\" class=\"sk-toggleable__label sk-toggleable__label-arrow\">estimator: Pipeline</label><div class=\"sk-toggleable__content\"><pre>Pipeline(steps=[(&#x27;preprocessor&#x27;,\n",
       "                 ColumnTransformer(transformers=[(&#x27;categorical&#x27;,\n",
       "                                                  OneHotEncoder(), [&#x27;group&#x27;]),\n",
       "                                                 (&#x27;numerical&#x27;, StandardScaler(),\n",
       "                                                  [&#x27;studying_hours&#x27;])])),\n",
       "                (&#x27;model&#x27;, ElasticNet())])</pre></div></div></div><div class=\"sk-serial\"><div class=\"sk-item\"><div class=\"sk-serial\"><div class=\"sk-item sk-dashed-wrapped\"><div class=\"sk-label-container\"><div class=\"sk-label sk-toggleable\"><input class=\"sk-toggleable__control sk-hidden--visually\" id=\"sk-estimator-id-3\" type=\"checkbox\" ><label for=\"sk-estimator-id-3\" class=\"sk-toggleable__label sk-toggleable__label-arrow\">preprocessor: ColumnTransformer</label><div class=\"sk-toggleable__content\"><pre>ColumnTransformer(transformers=[(&#x27;categorical&#x27;, OneHotEncoder(), [&#x27;group&#x27;]),\n",
       "                                (&#x27;numerical&#x27;, StandardScaler(),\n",
       "                                 [&#x27;studying_hours&#x27;])])</pre></div></div></div><div class=\"sk-parallel\"><div class=\"sk-parallel-item\"><div class=\"sk-item\"><div class=\"sk-label-container\"><div class=\"sk-label sk-toggleable\"><input class=\"sk-toggleable__control sk-hidden--visually\" id=\"sk-estimator-id-4\" type=\"checkbox\" ><label for=\"sk-estimator-id-4\" class=\"sk-toggleable__label sk-toggleable__label-arrow\">categorical</label><div class=\"sk-toggleable__content\"><pre>[&#x27;group&#x27;]</pre></div></div></div><div class=\"sk-serial\"><div class=\"sk-item\"><div class=\"sk-estimator sk-toggleable\"><input class=\"sk-toggleable__control sk-hidden--visually\" id=\"sk-estimator-id-5\" type=\"checkbox\" ><label for=\"sk-estimator-id-5\" class=\"sk-toggleable__label sk-toggleable__label-arrow\">OneHotEncoder</label><div class=\"sk-toggleable__content\"><pre>OneHotEncoder()</pre></div></div></div></div></div></div><div class=\"sk-parallel-item\"><div class=\"sk-item\"><div class=\"sk-label-container\"><div class=\"sk-label sk-toggleable\"><input class=\"sk-toggleable__control sk-hidden--visually\" id=\"sk-estimator-id-6\" type=\"checkbox\" ><label for=\"sk-estimator-id-6\" class=\"sk-toggleable__label sk-toggleable__label-arrow\">numerical</label><div class=\"sk-toggleable__content\"><pre>[&#x27;studying_hours&#x27;]</pre></div></div></div><div class=\"sk-serial\"><div class=\"sk-item\"><div class=\"sk-estimator sk-toggleable\"><input class=\"sk-toggleable__control sk-hidden--visually\" id=\"sk-estimator-id-7\" type=\"checkbox\" ><label for=\"sk-estimator-id-7\" class=\"sk-toggleable__label sk-toggleable__label-arrow\">StandardScaler</label><div class=\"sk-toggleable__content\"><pre>StandardScaler()</pre></div></div></div></div></div></div></div></div><div class=\"sk-item\"><div class=\"sk-estimator sk-toggleable\"><input class=\"sk-toggleable__control sk-hidden--visually\" id=\"sk-estimator-id-8\" type=\"checkbox\" ><label for=\"sk-estimator-id-8\" class=\"sk-toggleable__label sk-toggleable__label-arrow\">ElasticNet</label><div class=\"sk-toggleable__content\"><pre>ElasticNet()</pre></div></div></div></div></div></div></div></div></div></div></div></div>"
      ],
      "text/plain": [
       "GridSearchCV(cv=5,\n",
       "             estimator=Pipeline(steps=[('preprocessor',\n",
       "                                        ColumnTransformer(transformers=[('categorical',\n",
       "                                                                         OneHotEncoder(),\n",
       "                                                                         ['group']),\n",
       "                                                                        ('numerical',\n",
       "                                                                         StandardScaler(),\n",
       "                                                                         ['studying_hours'])])),\n",
       "                                       ('model', ElasticNet())]),\n",
       "             param_grid=({'model__alpha': [0.1, 1],\n",
       "                          'model__l1_ratio': [0.1, 0.5, 1]},),\n",
       "             scoring='neg_mean_squared_error')"
      ]
     },
     "execution_count": 26,
     "metadata": {},
     "output_type": "execute_result"
    }
   ],
   "source": [
    "# Grid search to find best params of ElasticNet\n",
    "from sklearn.model_selection import GridSearchCV\n",
    "\n",
    "pipe = Pipeline([\n",
    "    ('preprocessor', preprocessor),\n",
    "    ('model', ElasticNet())\n",
    "])\n",
    "\n",
    "param_grid = {\n",
    "    'model__alpha': [0.1, 1],\n",
    "    'model__l1_ratio': [0.1, 0.5, 1]\n",
    "},\n",
    "search = GridSearchCV(\n",
    "    pipe,\n",
    "    param_grid = param_grid,\n",
    "    cv = 5,\n",
    "    scoring = 'neg_mean_squared_error'\n",
    ")\n",
    "search.fit(X,y)"
   ]
  },
  {
   "cell_type": "code",
   "execution_count": 27,
   "id": "7cad21b4-5094-4473-81db-2774fe1ec162",
   "metadata": {},
   "outputs": [
    {
     "data": {
      "text/plain": [
       "0.3115584609815575"
      ]
     },
     "execution_count": 27,
     "metadata": {},
     "output_type": "execute_result"
    }
   ],
   "source": [
    "(-1)*search.best_score_"
   ]
  },
  {
   "cell_type": "code",
   "execution_count": 28,
   "id": "0d9406bf",
   "metadata": {},
   "outputs": [
    {
     "data": {
      "text/html": [
       "<div>\n",
       "<style scoped>\n",
       "    .dataframe tbody tr th:only-of-type {\n",
       "        vertical-align: middle;\n",
       "    }\n",
       "\n",
       "    .dataframe tbody tr th {\n",
       "        vertical-align: top;\n",
       "    }\n",
       "\n",
       "    .dataframe thead th {\n",
       "        text-align: right;\n",
       "    }\n",
       "</style>\n",
       "<table border=\"1\" class=\"dataframe\">\n",
       "  <thead>\n",
       "    <tr style=\"text-align: right;\">\n",
       "      <th></th>\n",
       "      <th>mean_fit_time</th>\n",
       "      <th>std_fit_time</th>\n",
       "      <th>mean_score_time</th>\n",
       "      <th>std_score_time</th>\n",
       "      <th>param_model__alpha</th>\n",
       "      <th>param_model__l1_ratio</th>\n",
       "      <th>params</th>\n",
       "      <th>split0_test_score</th>\n",
       "      <th>split1_test_score</th>\n",
       "      <th>split2_test_score</th>\n",
       "      <th>split3_test_score</th>\n",
       "      <th>split4_test_score</th>\n",
       "      <th>mean_test_score</th>\n",
       "      <th>std_test_score</th>\n",
       "      <th>rank_test_score</th>\n",
       "    </tr>\n",
       "  </thead>\n",
       "  <tbody>\n",
       "    <tr>\n",
       "      <th>0</th>\n",
       "      <td>0.002839</td>\n",
       "      <td>0.000258</td>\n",
       "      <td>0.001510</td>\n",
       "      <td>0.000134</td>\n",
       "      <td>0.1</td>\n",
       "      <td>0.1</td>\n",
       "      <td>{'model__alpha': 0.1, 'model__l1_ratio': 0.1}</td>\n",
       "      <td>-0.285957</td>\n",
       "      <td>-0.324098</td>\n",
       "      <td>-0.748826</td>\n",
       "      <td>-0.204564</td>\n",
       "      <td>-0.075939</td>\n",
       "      <td>-0.327877</td>\n",
       "      <td>0.227002</td>\n",
       "      <td>5</td>\n",
       "    </tr>\n",
       "    <tr>\n",
       "      <th>1</th>\n",
       "      <td>0.002441</td>\n",
       "      <td>0.000199</td>\n",
       "      <td>0.001285</td>\n",
       "      <td>0.000137</td>\n",
       "      <td>0.1</td>\n",
       "      <td>0.5</td>\n",
       "      <td>{'model__alpha': 0.1, 'model__l1_ratio': 0.5}</td>\n",
       "      <td>-0.263225</td>\n",
       "      <td>-0.351905</td>\n",
       "      <td>-0.766026</td>\n",
       "      <td>-0.221290</td>\n",
       "      <td>-0.067521</td>\n",
       "      <td>-0.333994</td>\n",
       "      <td>0.234815</td>\n",
       "      <td>6</td>\n",
       "    </tr>\n",
       "    <tr>\n",
       "      <th>2</th>\n",
       "      <td>0.002283</td>\n",
       "      <td>0.000198</td>\n",
       "      <td>0.001289</td>\n",
       "      <td>0.000174</td>\n",
       "      <td>0.1</td>\n",
       "      <td>1</td>\n",
       "      <td>{'model__alpha': 0.1, 'model__l1_ratio': 1}</td>\n",
       "      <td>-0.237618</td>\n",
       "      <td>-0.358420</td>\n",
       "      <td>-0.724531</td>\n",
       "      <td>-0.210438</td>\n",
       "      <td>-0.067295</td>\n",
       "      <td>-0.319660</td>\n",
       "      <td>0.222608</td>\n",
       "      <td>4</td>\n",
       "    </tr>\n",
       "    <tr>\n",
       "      <th>3</th>\n",
       "      <td>0.002330</td>\n",
       "      <td>0.000363</td>\n",
       "      <td>0.001240</td>\n",
       "      <td>0.000198</td>\n",
       "      <td>1</td>\n",
       "      <td>0.1</td>\n",
       "      <td>{'model__alpha': 1, 'model__l1_ratio': 0.1}</td>\n",
       "      <td>-0.227664</td>\n",
       "      <td>-0.358420</td>\n",
       "      <td>-0.714337</td>\n",
       "      <td>-0.210438</td>\n",
       "      <td>-0.067295</td>\n",
       "      <td>-0.315631</td>\n",
       "      <td>0.219669</td>\n",
       "      <td>3</td>\n",
       "    </tr>\n",
       "    <tr>\n",
       "      <th>4</th>\n",
       "      <td>0.002547</td>\n",
       "      <td>0.000189</td>\n",
       "      <td>0.001447</td>\n",
       "      <td>0.000226</td>\n",
       "      <td>1</td>\n",
       "      <td>0.5</td>\n",
       "      <td>{'model__alpha': 1, 'model__l1_ratio': 0.5}</td>\n",
       "      <td>-0.217099</td>\n",
       "      <td>-0.358420</td>\n",
       "      <td>-0.704541</td>\n",
       "      <td>-0.210438</td>\n",
       "      <td>-0.067295</td>\n",
       "      <td>-0.311558</td>\n",
       "      <td>0.216999</td>\n",
       "      <td>1</td>\n",
       "    </tr>\n",
       "    <tr>\n",
       "      <th>5</th>\n",
       "      <td>0.002452</td>\n",
       "      <td>0.000355</td>\n",
       "      <td>0.001316</td>\n",
       "      <td>0.000199</td>\n",
       "      <td>1</td>\n",
       "      <td>1</td>\n",
       "      <td>{'model__alpha': 1, 'model__l1_ratio': 1}</td>\n",
       "      <td>-0.217099</td>\n",
       "      <td>-0.358420</td>\n",
       "      <td>-0.704541</td>\n",
       "      <td>-0.210438</td>\n",
       "      <td>-0.067295</td>\n",
       "      <td>-0.311558</td>\n",
       "      <td>0.216999</td>\n",
       "      <td>1</td>\n",
       "    </tr>\n",
       "  </tbody>\n",
       "</table>\n",
       "</div>"
      ],
      "text/plain": [
       "   mean_fit_time  std_fit_time  mean_score_time  std_score_time  \\\n",
       "0       0.002839      0.000258         0.001510        0.000134   \n",
       "1       0.002441      0.000199         0.001285        0.000137   \n",
       "2       0.002283      0.000198         0.001289        0.000174   \n",
       "3       0.002330      0.000363         0.001240        0.000198   \n",
       "4       0.002547      0.000189         0.001447        0.000226   \n",
       "5       0.002452      0.000355         0.001316        0.000199   \n",
       "\n",
       "  param_model__alpha param_model__l1_ratio  \\\n",
       "0                0.1                   0.1   \n",
       "1                0.1                   0.5   \n",
       "2                0.1                     1   \n",
       "3                  1                   0.1   \n",
       "4                  1                   0.5   \n",
       "5                  1                     1   \n",
       "\n",
       "                                          params  split0_test_score  \\\n",
       "0  {'model__alpha': 0.1, 'model__l1_ratio': 0.1}          -0.285957   \n",
       "1  {'model__alpha': 0.1, 'model__l1_ratio': 0.5}          -0.263225   \n",
       "2    {'model__alpha': 0.1, 'model__l1_ratio': 1}          -0.237618   \n",
       "3    {'model__alpha': 1, 'model__l1_ratio': 0.1}          -0.227664   \n",
       "4    {'model__alpha': 1, 'model__l1_ratio': 0.5}          -0.217099   \n",
       "5      {'model__alpha': 1, 'model__l1_ratio': 1}          -0.217099   \n",
       "\n",
       "   split1_test_score  split2_test_score  split3_test_score  split4_test_score  \\\n",
       "0          -0.324098          -0.748826          -0.204564          -0.075939   \n",
       "1          -0.351905          -0.766026          -0.221290          -0.067521   \n",
       "2          -0.358420          -0.724531          -0.210438          -0.067295   \n",
       "3          -0.358420          -0.714337          -0.210438          -0.067295   \n",
       "4          -0.358420          -0.704541          -0.210438          -0.067295   \n",
       "5          -0.358420          -0.704541          -0.210438          -0.067295   \n",
       "\n",
       "   mean_test_score  std_test_score  rank_test_score  \n",
       "0        -0.327877        0.227002                5  \n",
       "1        -0.333994        0.234815                6  \n",
       "2        -0.319660        0.222608                4  \n",
       "3        -0.315631        0.219669                3  \n",
       "4        -0.311558        0.216999                1  \n",
       "5        -0.311558        0.216999                1  "
      ]
     },
     "execution_count": 28,
     "metadata": {},
     "output_type": "execute_result"
    }
   ],
   "source": [
    "pd.DataFrame(search.cv_results_)"
   ]
  },
  {
   "attachments": {},
   "cell_type": "markdown",
   "id": "ed468c21-13a2-4e59-a64a-be379e5bc804",
   "metadata": {},
   "source": [
    "### 3.2 Why is the error from the best model in 3.1 biased?\n"
   ]
  },
  {
   "cell_type": "code",
   "execution_count": 27,
   "id": "f88e85e4-3399-4281-9299-36ace58c9286",
   "metadata": {},
   "outputs": [
    {
     "data": {
      "text/plain": [
       "<Response [200]>"
      ]
     },
     "execution_count": 27,
     "metadata": {},
     "output_type": "execute_result"
    }
   ],
   "source": [
    "answer = \" Missing answer \"\n",
    "send(answer, 32) "
   ]
  },
  {
   "attachments": {},
   "cell_type": "markdown",
   "id": "645c8a28-eab2-411b-892c-f1b1a53629a3",
   "metadata": {},
   "source": [
    "### 3.3 Improve 3.1 to have an unbiased estimation of the generalization error\n",
    "\n",
    "Hint: Use nested cross-validation"
   ]
  },
  {
   "cell_type": "code",
   "execution_count": 29,
   "id": "a460f452-0711-4123-9225-0834c6aaca2f",
   "metadata": {},
   "outputs": [
    {
     "name": "stdout",
     "output_type": "stream",
     "text": [
      "0.26757785377188387\n"
     ]
    }
   ],
   "source": [
    "from sklearn.model_selection import KFold\n",
    "# The best model from 3.1 is biased because the grid search for the best parameters is done on the same data as the cross validation, i.e. we search for hyper-parameters on the test set.\n",
    "# We can improve this by using nested cross-validation\n",
    "# outer-fold: split the data into train and test\n",
    "# inner-fold: split the train data into train and validation\n",
    "# We use the test data to evaluate the model with the best hyper-parameters\n",
    "outer_cv = KFold(n_splits = 5, shuffle = True, random_state = 42)\n",
    "inner_cv = KFold(n_splits = 5, shuffle = True, random_state = 42)\n",
    "\n",
    "param_grid = {\n",
    "    'model__alpha': [0.1, 1],\n",
    "    'model__l1_ratio': [0.1, 0.5, 1]\n",
    "},\n",
    "\n",
    "search = GridSearchCV(\n",
    "    pipe,\n",
    "    param_grid = param_grid,\n",
    "    cv = inner_cv,\n",
    "    scoring = 'neg_mean_squared_error'\n",
    ")\n",
    "\n",
    "errors = (-1)*cross_val_score(search, X, y, cv = outer_cv, scoring = 'neg_mean_squared_error')\n",
    "print(errors.mean())"
   ]
  },
  {
   "cell_type": "code",
   "execution_count": 38,
   "id": "805eacbf",
   "metadata": {},
   "outputs": [
    {
     "name": "stdout",
     "output_type": "stream",
     "text": [
      "0.26757785377188387\n"
     ]
    }
   ],
   "source": [
    "search_aybars = GridSearchCV(\n",
    "    pipe,\n",
    "    param_grid = param_grid,\n",
    "    cv = KFold(n_splits = 5, shuffle = True, random_state = 42),\n",
    "    scoring = 'neg_mean_squared_error'\n",
    ")\n",
    "\n",
    "all_models = []\n",
    "all_errors = []\n",
    "\n",
    "for train_index, test_index in outer_cv.split(X,y):\n",
    "    X_train, X_test = X.iloc[train_index], X.iloc[test_index]\n",
    "    y_train, y_test = y.iloc[train_index], y.iloc[test_index]\n",
    "\n",
    "    # Find best hyper parameters\n",
    "    clf = search_aybars.fit(X_train, y_train)\n",
    "    all_models.append(clf)\n",
    "\n",
    "    # Evaluate the model with the best hyper parameters\n",
    "    y_pred = clf.predict(X_test)\n",
    "\n",
    "    all_errors.append(mean_squared_error(y_test, y_pred))\n",
    "\n",
    "print(np.mean(all_errors))\n"
   ]
  },
  {
   "cell_type": "code",
   "execution_count": 46,
   "id": "b75fac24",
   "metadata": {},
   "outputs": [
    {
     "data": {
      "text/html": [
       "<div>\n",
       "<style scoped>\n",
       "    .dataframe tbody tr th:only-of-type {\n",
       "        vertical-align: middle;\n",
       "    }\n",
       "\n",
       "    .dataframe tbody tr th {\n",
       "        vertical-align: top;\n",
       "    }\n",
       "\n",
       "    .dataframe thead th {\n",
       "        text-align: right;\n",
       "    }\n",
       "</style>\n",
       "<table border=\"1\" class=\"dataframe\">\n",
       "  <thead>\n",
       "    <tr style=\"text-align: right;\">\n",
       "      <th></th>\n",
       "      <th>mean_fit_time</th>\n",
       "      <th>std_fit_time</th>\n",
       "      <th>mean_score_time</th>\n",
       "      <th>std_score_time</th>\n",
       "      <th>param_model__alpha</th>\n",
       "      <th>param_model__l1_ratio</th>\n",
       "      <th>params</th>\n",
       "      <th>split0_test_score</th>\n",
       "      <th>split1_test_score</th>\n",
       "      <th>split2_test_score</th>\n",
       "      <th>split3_test_score</th>\n",
       "      <th>split4_test_score</th>\n",
       "      <th>mean_test_score</th>\n",
       "      <th>std_test_score</th>\n",
       "      <th>rank_test_score</th>\n",
       "    </tr>\n",
       "  </thead>\n",
       "  <tbody>\n",
       "    <tr>\n",
       "      <th>0</th>\n",
       "      <td>0.001861</td>\n",
       "      <td>0.000042</td>\n",
       "      <td>0.001041</td>\n",
       "      <td>0.000073</td>\n",
       "      <td>0.1</td>\n",
       "      <td>0.1</td>\n",
       "      <td>{'model__alpha': 0.1, 'model__l1_ratio': 0.1}</td>\n",
       "      <td>-0.093415</td>\n",
       "      <td>-0.364937</td>\n",
       "      <td>-0.281131</td>\n",
       "      <td>-0.066500</td>\n",
       "      <td>-0.430289</td>\n",
       "      <td>-0.247254</td>\n",
       "      <td>0.144801</td>\n",
       "      <td>1</td>\n",
       "    </tr>\n",
       "    <tr>\n",
       "      <th>1</th>\n",
       "      <td>0.001833</td>\n",
       "      <td>0.000071</td>\n",
       "      <td>0.001017</td>\n",
       "      <td>0.000027</td>\n",
       "      <td>0.1</td>\n",
       "      <td>0.5</td>\n",
       "      <td>{'model__alpha': 0.1, 'model__l1_ratio': 0.5}</td>\n",
       "      <td>-0.124058</td>\n",
       "      <td>-0.392910</td>\n",
       "      <td>-0.265535</td>\n",
       "      <td>-0.085260</td>\n",
       "      <td>-0.392356</td>\n",
       "      <td>-0.252024</td>\n",
       "      <td>0.129545</td>\n",
       "      <td>2</td>\n",
       "    </tr>\n",
       "    <tr>\n",
       "      <th>2</th>\n",
       "      <td>0.001840</td>\n",
       "      <td>0.000080</td>\n",
       "      <td>0.001029</td>\n",
       "      <td>0.000034</td>\n",
       "      <td>0.1</td>\n",
       "      <td>1</td>\n",
       "      <td>{'model__alpha': 0.1, 'model__l1_ratio': 1}</td>\n",
       "      <td>-0.141000</td>\n",
       "      <td>-0.423214</td>\n",
       "      <td>-0.266597</td>\n",
       "      <td>-0.112446</td>\n",
       "      <td>-0.373750</td>\n",
       "      <td>-0.263401</td>\n",
       "      <td>0.122879</td>\n",
       "      <td>6</td>\n",
       "    </tr>\n",
       "    <tr>\n",
       "      <th>3</th>\n",
       "      <td>0.001896</td>\n",
       "      <td>0.000113</td>\n",
       "      <td>0.001067</td>\n",
       "      <td>0.000051</td>\n",
       "      <td>1</td>\n",
       "      <td>0.1</td>\n",
       "      <td>{'model__alpha': 1, 'model__l1_ratio': 0.1}</td>\n",
       "      <td>-0.140973</td>\n",
       "      <td>-0.423214</td>\n",
       "      <td>-0.265594</td>\n",
       "      <td>-0.112446</td>\n",
       "      <td>-0.368513</td>\n",
       "      <td>-0.262148</td>\n",
       "      <td>0.121952</td>\n",
       "      <td>5</td>\n",
       "    </tr>\n",
       "    <tr>\n",
       "      <th>4</th>\n",
       "      <td>0.001846</td>\n",
       "      <td>0.000057</td>\n",
       "      <td>0.001056</td>\n",
       "      <td>0.000063</td>\n",
       "      <td>1</td>\n",
       "      <td>0.5</td>\n",
       "      <td>{'model__alpha': 1, 'model__l1_ratio': 0.5}</td>\n",
       "      <td>-0.140944</td>\n",
       "      <td>-0.423214</td>\n",
       "      <td>-0.264489</td>\n",
       "      <td>-0.112446</td>\n",
       "      <td>-0.367373</td>\n",
       "      <td>-0.261693</td>\n",
       "      <td>0.121754</td>\n",
       "      <td>3</td>\n",
       "    </tr>\n",
       "    <tr>\n",
       "      <th>5</th>\n",
       "      <td>0.001809</td>\n",
       "      <td>0.000048</td>\n",
       "      <td>0.001017</td>\n",
       "      <td>0.000026</td>\n",
       "      <td>1</td>\n",
       "      <td>1</td>\n",
       "      <td>{'model__alpha': 1, 'model__l1_ratio': 1}</td>\n",
       "      <td>-0.140944</td>\n",
       "      <td>-0.423214</td>\n",
       "      <td>-0.264489</td>\n",
       "      <td>-0.112446</td>\n",
       "      <td>-0.367373</td>\n",
       "      <td>-0.261693</td>\n",
       "      <td>0.121754</td>\n",
       "      <td>3</td>\n",
       "    </tr>\n",
       "  </tbody>\n",
       "</table>\n",
       "</div>"
      ],
      "text/plain": [
       "   mean_fit_time  std_fit_time  mean_score_time  std_score_time  \\\n",
       "0       0.001861      0.000042         0.001041        0.000073   \n",
       "1       0.001833      0.000071         0.001017        0.000027   \n",
       "2       0.001840      0.000080         0.001029        0.000034   \n",
       "3       0.001896      0.000113         0.001067        0.000051   \n",
       "4       0.001846      0.000057         0.001056        0.000063   \n",
       "5       0.001809      0.000048         0.001017        0.000026   \n",
       "\n",
       "  param_model__alpha param_model__l1_ratio  \\\n",
       "0                0.1                   0.1   \n",
       "1                0.1                   0.5   \n",
       "2                0.1                     1   \n",
       "3                  1                   0.1   \n",
       "4                  1                   0.5   \n",
       "5                  1                     1   \n",
       "\n",
       "                                          params  split0_test_score  \\\n",
       "0  {'model__alpha': 0.1, 'model__l1_ratio': 0.1}          -0.093415   \n",
       "1  {'model__alpha': 0.1, 'model__l1_ratio': 0.5}          -0.124058   \n",
       "2    {'model__alpha': 0.1, 'model__l1_ratio': 1}          -0.141000   \n",
       "3    {'model__alpha': 1, 'model__l1_ratio': 0.1}          -0.140973   \n",
       "4    {'model__alpha': 1, 'model__l1_ratio': 0.5}          -0.140944   \n",
       "5      {'model__alpha': 1, 'model__l1_ratio': 1}          -0.140944   \n",
       "\n",
       "   split1_test_score  split2_test_score  split3_test_score  split4_test_score  \\\n",
       "0          -0.364937          -0.281131          -0.066500          -0.430289   \n",
       "1          -0.392910          -0.265535          -0.085260          -0.392356   \n",
       "2          -0.423214          -0.266597          -0.112446          -0.373750   \n",
       "3          -0.423214          -0.265594          -0.112446          -0.368513   \n",
       "4          -0.423214          -0.264489          -0.112446          -0.367373   \n",
       "5          -0.423214          -0.264489          -0.112446          -0.367373   \n",
       "\n",
       "   mean_test_score  std_test_score  rank_test_score  \n",
       "0        -0.247254        0.144801                1  \n",
       "1        -0.252024        0.129545                2  \n",
       "2        -0.263401        0.122879                6  \n",
       "3        -0.262148        0.121952                5  \n",
       "4        -0.261693        0.121754                3  \n",
       "5        -0.261693        0.121754                3  "
      ]
     },
     "execution_count": 46,
     "metadata": {},
     "output_type": "execute_result"
    }
   ],
   "source": [
    "pd.DataFrame(all_models[0].cv_results_)"
   ]
  },
  {
   "cell_type": "code",
   "execution_count": null,
   "id": "488bf728",
   "metadata": {},
   "outputs": [],
   "source": []
  }
 ],
 "metadata": {
  "kernelspec": {
   "display_name": "Python",
   "language": "python",
   "name": "python3"
  },
  "language_info": {
   "codemirror_mode": {
    "name": "ipython",
    "version": 3
   },
   "file_extension": ".py",
   "mimetype": "text/x-python",
   "name": "python",
   "nbconvert_exporter": "python",
   "pygments_lexer": "ipython3",
   "version": "3.10.10"
  },
  "vscode": {
   "interpreter": {
    "hash": "40d3a090f54c6569ab1632332b64b2c03c39dcf918b08424e98f38b5ae0af88f"
   }
  }
 },
 "nbformat": 4,
 "nbformat_minor": 5
}
