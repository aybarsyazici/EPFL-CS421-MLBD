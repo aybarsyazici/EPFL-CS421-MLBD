{
 "cells": [
  {
   "cell_type": "markdown",
   "metadata": {
    "id": "GKPL0iARvKiY"
   },
   "source": [
    "#  Lab 07 - Knowledge Tracing\n",
    "\n",
    "## Introduction\n",
    "\n",
    "During the last lectures and lab session, you have dealt into one notable application of machine learning in education, namely knowledge tracing. Machine-learning models optimized for this task aim to understand how well a student is learning a portfolio of skills. Monitoring this knowledge by means of automated models allows to personalize online learning platforms, focusing the assessment on skills the student is weak in and accelerating learning of certain skills.\n",
    "\n",
    "You are asked to work on the ASSISTment data set presented last week and to complete the following tasks:\n",
    "\n",
    "- Compare three knowledge tracing models (BKT, AFM, PFA) in terms of AUC and RMSE.\n",
    "- Generate and discuss the learning curves for a BKT model on a specific set of skills. \n",
    "\n",
    "You can use [pyBKT](https://github.com/CAHLR/pyBKT) and [pyAFM](https://github.com/cmaclell/pyAFM/) throughout this tutorial.\n"
   ]
  },
  {
   "cell_type": "code",
   "execution_count": 1,
   "metadata": {
    "id": "BY812cUCvKie"
   },
   "outputs": [],
   "source": [
    "# Principal package imports\n",
    "import matplotlib.pyplot as plt\n",
    "import seaborn as sns\n",
    "import pandas as pd\n",
    "import numpy as np\n",
    "import scipy as sc\n",
    "\n",
    "# Scikit-learn package imports\n",
    "from sklearn import feature_extraction, model_selection, metrics\n",
    "\n",
    "# PyBKT package imports\n",
    "from pyBKT.models import Model\n",
    "\n",
    "# PyAFM package imports\n",
    "from pyafm.custom_logistic import CustomLogistic\n",
    "\n",
    "### YOUR ADDITIONAL IMPORT STATEMENTS BELOW (please, do not make any imports elsewhere in the notebook) ###"
   ]
  },
  {
   "cell_type": "markdown",
   "metadata": {
    "id": "zfGO_wGvvKif"
   },
   "source": [
    "## The Data Set\n",
    "---\n",
    "\n",
    "ASSISTments is a free tool for assigning and assessing math problems and homework. Teachers can select and assign problem sets. Once they get an assignment, students can complete it at their own pace and with the help of hints, multiple chances, and immediate feedback. Teachers get instant results broken down by individual student or for the whole class. More information on the platform can be found [here](https://www.commonsense.org/education/website/assistments). \n",
    "\n",
    "In this homework, we will play with a simplified version of a dataset collected from the ASSISTments tool, saved in a CSV file with the following columns:  \n",
    "\n",
    "\n",
    "| Name                   | Description                         |\n",
    "| ---------------------- | ------------------------------------------------------------ |\n",
    "| user_id | The ID of the student who is solving the problem.  | |\n",
    "| order_id | The temporal ID (timestamp) associated with the student's answer to the problem.  | |\n",
    "| problem_id | The ID of the problem.  | |\n",
    "| skill_name | The name of the skill associated with the problem. | |\n",
    "| correct | The student's performance on the problem: 1 if the problem's answer is correct at the first attempt, 0 otherwise. \n",
    "| prior_success | The number of prior problems on that skill the student correctly answered at the first attempt. \n",
    "| prior_failure | The number of prior problems on that skill the student wrongly answered at the first attempt.  | |"
   ]
  },
  {
   "cell_type": "markdown",
   "metadata": {
    "id": "ypX6jsWjvKig"
   },
   "source": [
    "Load the data set. "
   ]
  },
  {
   "cell_type": "code",
   "execution_count": 2,
   "metadata": {
    "id": "LiKya7oLvKig"
   },
   "outputs": [],
   "source": [
    "# DATA_DIR = \"./../../data/\"\n",
    "DATA_DIR = \"./../../data/\"\n",
    "data = pd.read_csv(DATA_DIR + 'as_hw_cmp.csv')\n"
   ]
  },
  {
   "cell_type": "markdown",
   "metadata": {},
   "source": [
    "Compute the total number of interactions, the number of unique students, and the number of unique skills"
   ]
  },
  {
   "cell_type": "code",
   "execution_count": 3,
   "metadata": {},
   "outputs": [
    {
     "data": {
      "text/plain": [
       "26409"
      ]
     },
     "execution_count": 3,
     "metadata": {},
     "output_type": "execute_result"
    }
   ],
   "source": [
    "### YOUR CODE HERE ###\n",
    "# total number of interactions\n",
    "data.shape[0]"
   ]
  },
  {
   "cell_type": "code",
   "execution_count": 4,
   "metadata": {},
   "outputs": [
    {
     "data": {
      "text/plain": [
       "1014"
      ]
     },
     "execution_count": 4,
     "metadata": {},
     "output_type": "execute_result"
    }
   ],
   "source": [
    "# number of unique students\n",
    "data['user_id'].nunique()"
   ]
  },
  {
   "cell_type": "code",
   "execution_count": 5,
   "metadata": {},
   "outputs": [
    {
     "data": {
      "text/plain": [
       "3"
      ]
     },
     "execution_count": 5,
     "metadata": {},
     "output_type": "execute_result"
    }
   ],
   "source": [
    "# number of unique skills\n",
    "data['skill_name'].nunique()"
   ]
  },
  {
   "cell_type": "markdown",
   "metadata": {},
   "source": [
    "What are those skills?"
   ]
  },
  {
   "cell_type": "code",
   "execution_count": 6,
   "metadata": {},
   "outputs": [
    {
     "data": {
      "text/plain": [
       "array(['Circle Graph', 'Venn Diagram', 'Mode'], dtype=object)"
      ]
     },
     "execution_count": 6,
     "metadata": {},
     "output_type": "execute_result"
    }
   ],
   "source": [
    "data['skill_name'].unique()"
   ]
  },
  {
   "cell_type": "code",
   "execution_count": 7,
   "metadata": {},
   "outputs": [
    {
     "data": {
      "text/html": [
       "<div>\n",
       "<style scoped>\n",
       "    .dataframe tbody tr th:only-of-type {\n",
       "        vertical-align: middle;\n",
       "    }\n",
       "\n",
       "    .dataframe tbody tr th {\n",
       "        vertical-align: top;\n",
       "    }\n",
       "\n",
       "    .dataframe thead th {\n",
       "        text-align: right;\n",
       "    }\n",
       "</style>\n",
       "<table border=\"1\" class=\"dataframe\">\n",
       "  <thead>\n",
       "    <tr style=\"text-align: right;\">\n",
       "      <th></th>\n",
       "      <th>user_id</th>\n",
       "      <th>order_id</th>\n",
       "      <th>problem_id</th>\n",
       "      <th>skill_name</th>\n",
       "      <th>correct</th>\n",
       "      <th>prior_success</th>\n",
       "      <th>prior_failure</th>\n",
       "    </tr>\n",
       "  </thead>\n",
       "  <tbody>\n",
       "    <tr>\n",
       "      <th>0</th>\n",
       "      <td>14</td>\n",
       "      <td>21617623</td>\n",
       "      <td>93383</td>\n",
       "      <td>Circle Graph</td>\n",
       "      <td>0</td>\n",
       "      <td>0</td>\n",
       "      <td>0</td>\n",
       "    </tr>\n",
       "    <tr>\n",
       "      <th>1</th>\n",
       "      <td>14</td>\n",
       "      <td>21617632</td>\n",
       "      <td>93407</td>\n",
       "      <td>Circle Graph</td>\n",
       "      <td>1</td>\n",
       "      <td>0</td>\n",
       "      <td>1</td>\n",
       "    </tr>\n",
       "    <tr>\n",
       "      <th>2</th>\n",
       "      <td>14</td>\n",
       "      <td>21617641</td>\n",
       "      <td>93400</td>\n",
       "      <td>Circle Graph</td>\n",
       "      <td>0</td>\n",
       "      <td>1</td>\n",
       "      <td>1</td>\n",
       "    </tr>\n",
       "    <tr>\n",
       "      <th>3</th>\n",
       "      <td>14</td>\n",
       "      <td>21617650</td>\n",
       "      <td>93419</td>\n",
       "      <td>Circle Graph</td>\n",
       "      <td>0</td>\n",
       "      <td>1</td>\n",
       "      <td>2</td>\n",
       "    </tr>\n",
       "    <tr>\n",
       "      <th>4</th>\n",
       "      <td>14</td>\n",
       "      <td>21617659</td>\n",
       "      <td>93420</td>\n",
       "      <td>Circle Graph</td>\n",
       "      <td>0</td>\n",
       "      <td>1</td>\n",
       "      <td>3</td>\n",
       "    </tr>\n",
       "  </tbody>\n",
       "</table>\n",
       "</div>"
      ],
      "text/plain": [
       "   user_id  order_id  problem_id    skill_name  correct  prior_success  \\\n",
       "0       14  21617623       93383  Circle Graph        0              0   \n",
       "1       14  21617632       93407  Circle Graph        1              0   \n",
       "2       14  21617641       93400  Circle Graph        0              1   \n",
       "3       14  21617650       93419  Circle Graph        0              1   \n",
       "4       14  21617659       93420  Circle Graph        0              1   \n",
       "\n",
       "   prior_failure  \n",
       "0              0  \n",
       "1              1  \n",
       "2              1  \n",
       "3              2  \n",
       "4              3  "
      ]
     },
     "execution_count": 7,
     "metadata": {},
     "output_type": "execute_result"
    }
   ],
   "source": [
    "data.head()"
   ]
  },
  {
   "cell_type": "markdown",
   "metadata": {
    "id": "SnyKfbhyvKik"
   },
   "source": [
    "<a id=\"section1\"></a>\n",
    "## 1  Knowledge Tracing: Model Performance Comparison \n",
    "----\n",
    "\n",
    "In this section, we ask you to evaluate (i) a Bayesian Knowledge Tracing (BKT) model, (ii) an Additive Factor Model (AFM), and (iii) a Performance Factor Analysis (PFA) model on the skills 'Circle Graph', 'Venn Diagram', and 'Mode', by performing a user-stratified 10-fold cross validation and monitoring the Root Mean Squared Error (RMSE) and the Area Under the ROC Curve (AUC) as performance metrics. Then, we ask you to visually report the RMSE and AUC scores achieved by the three student's models in the user-stratified 10-fold cross validation, in such a way that the models' performance can be easily and appropriately compared against each other.\n",
    "\n",
    "For your convenience, you will be guided in completing this section through six main tasks:\n",
    "- Task 1.1: Group k-fold initialization.\n",
    "- Task 1.2: BKT evaluation.\n",
    "- Task 1.3: AFM evaluation.\n",
    "- Task 1.4: PFA evaluation.\n",
    "- Task 1.5: Performance metrics plotting.\n",
    "- Task 1.6: Performance metrics discussion. "
   ]
  },
  {
   "cell_type": "markdown",
   "metadata": {
    "id": "x6sl6eJevKil"
   },
   "source": [
    "<a id=\"section1.1\"></a>\n",
    "### Task 1.1\n",
    "\n",
    "Given that the main objective of this homework section is to evaluate three student's knowledge tracing models under a `user-stratified 10-fold cross validation`, in this task, we ask you to complete the body of a function named `create_iterator`. This function should create an iterator object able to split student's interactions included in `data` in `10 folds` such that the same student does not appear in multiple folds. To do so, you can appropriately initialize a scikit-learn's GroupKFold iterator with non-overlapping groups and returning the iterator, i.e., `model_selection.GroupKFold(...).split(...)`. \n",
    "\n",
    "For convenience, we present you an illustrative example assuming that (i) you have four data samples and that (ii) the first two data samples belong to group 0 and the last two data samples belong to group 2. The data samples associated with a group should not appear in multiple folds or, in other words, the data samples associated with a group should appear all in the same fold. Please, find below a way to use the scikit-learn's GroupKFold object to create folds that meet this property (here, we simulate this scenario by considering only a 2-fold creation strategy):\n",
    "\n",
    "`X = np.array([[1, 2], [3, 4], [5, 6], [7, 8]])\n",
    "y = np.array([1, 2, 3, 4])\n",
    "groups = np.array([0, 0, 2, 2])\n",
    "group_kfold = model_selection.GroupKFold(n_splits=2).split(X, y, groups)\n",
    "`\n",
    "\n",
    "Finally, we provide an illustrative example not related with the task on how this iterator can be then used to generate training and test folds:\n",
    "\n",
    "`\n",
    "for train_index, test_index in group_kfold:\n",
    "    print('TRAIN:', train_index, 'TEST:', test_index)\n",
    "    X_train, X_test = X[train_index], X[test_index]\n",
    "    y_train, y_test = y[train_index], y[test_index]\n",
    "    print(X_train, '-', X_test, '-', y_train, '-', y_test)\n",
    "`\n",
    "\n",
    "The above for loop generates the following output. It can be observed that the data samples belonging to a group all appear in the same fold, as expected. \n",
    "\n",
    "`TRAIN: [0 1] TEST: [2 3]\n",
    "[[1 2] [3 4]] - [[5 6] [7 8]] - [1 2] - [3 4] \n",
    "`\n",
    "\n",
    "`\n",
    "TRAIN: [2 3] TEST: [0 1]\n",
    "[[5 6] [7 8]] - [[1 2] [3 4]] - [3 4] - [1 2]\n",
    "`\n",
    "\n",
    "Please, find more information about the GroupKFold iterator in the [scikit-learn](https://scikit-learn.org/stable/modules/generated/sklearn.model_selection.GroupKFold.html) documentation."
   ]
  },
  {
   "cell_type": "code",
   "execution_count": 8,
   "metadata": {
    "deletable": false,
    "id": "wc690YVPvKim",
    "nbgrader": {
     "cell_type": "code",
     "checksum": "6a0d029bca463a8f1dd93f17bd7ad15c",
     "grade": true,
     "grade_id": "1-1",
     "locked": false,
     "points": 10,
     "schema_version": 3,
     "solution": true,
     "task": false
    }
   },
   "outputs": [],
   "source": [
    "from sklearn.model_selection import GroupKFold\n",
    "\n",
    "def create_iterator(data):\n",
    "    '''\n",
    "    Create an iterator to split interactions in data in 10 folds, with the same student not appearing in multiple folds.\n",
    "    :param data:        Dataframe with student's interactions.\n",
    "    :return:            An initialized GroupKFold iterator.\n",
    "    '''\n",
    "    ### YOUR CODE HERE ###\n",
    "    # get the unique students\n",
    "    return GroupKFold().split(\n",
    "        data,\n",
    "        groups=data['user_id'].values\n",
    "    ) "
   ]
  },
  {
   "cell_type": "markdown",
   "metadata": {},
   "source": [
    "Check outputs of this function and the properties of the iterator. Make sure that at each iteration: there no user_id in both train and test set(no overlap), all user_id in the dataset are contain in the train and test set (union), each user appears in the test set exactly once and other property you find usefull to check."
   ]
  },
  {
   "cell_type": "code",
   "execution_count": 9,
   "metadata": {},
   "outputs": [],
   "source": [
    "tested_user_ids = set()\n",
    "for iteration, (train_index, test_index) in enumerate(create_iterator(data)):\n",
    "    user_ids = data['user_id'].unique()\n",
    "    train_user_ids = data.iloc[train_index]['user_id'].unique()\n",
    "    test_user_ids = data.iloc[test_index]['user_id'].unique()\n",
    "    assert set(train_user_ids) & set(test_user_ids) == set()\n",
    "    assert len(set(train_user_ids).union(set(test_user_ids))) == len(user_ids)\n",
    "    assert set(tested_user_ids) & set(test_user_ids) == set()\n",
    "    tested_user_ids = tested_user_ids.union(set(test_user_ids))"
   ]
  },
  {
   "cell_type": "markdown",
   "metadata": {
    "id": "xzAgb7WgvKin"
   },
   "source": [
    "<a id=\"section1.2\"></a>\n",
    "### Task 1.2\n",
    "\n",
    "In this task, we ask you to evaluate a `BKT model` with all default parameters, namely `Model(seed=0)` in pyBKT, through a `user-stratified 10-fold cross-validation`, computing the following performance metrics: `RMSE` and `AUC`. To do so, you should use the `create_iterator` function, defined in Task 1.1, to create the training and test set for each fold, starting from the interactions in `data`. \n",
    "\n",
    "No plotting is needed, it is enough to print the scores for each metric in the cell.\n",
    "\n",
    "Please, note that this task may require a long running time (e.g., about 40 to 90 minutes), depending on your implementation and device. Just as an indication, on a Dell XPS 13, one fold lasts around 7 minutes.\n",
    "\n",
    "Look at the `BKT model` [documentation](https://github.com/CAHLR/pyBKT) "
   ]
  },
  {
   "cell_type": "code",
   "execution_count": 10,
   "metadata": {
    "deletable": false,
    "id": "25wgCefYvKin",
    "nbgrader": {
     "cell_type": "code",
     "checksum": "8316306fa314de14b7165780fa3d8322",
     "grade": true,
     "grade_id": "1-2",
     "locked": false,
     "points": 10,
     "schema_version": 3,
     "solution": true,
     "task": false
    },
    "outputId": "cf17073b-278d-428d-b2a4-b0e763809144"
   },
   "outputs": [
    {
     "name": "stdout",
     "output_type": "stream",
     "text": [
      "CPU times: user 3.27 s, sys: 6.16 ms, total: 3.27 s\n",
      "Wall time: 1.59 s\n",
      "Iteration: 0 RMSE (0.3659698745561892, 0.34833146886231225) AUC (0.8759541909014573, 0.8708689162425817)\n",
      "CPU times: user 2.76 s, sys: 4.64 ms, total: 2.76 s\n",
      "Wall time: 1.39 s\n",
      "Iteration: 1 RMSE (0.36237660957608636, 0.3631497739273788) AUC (0.8769697247173303, 0.8721302349396872)\n",
      "CPU times: user 3.67 s, sys: 0 ns, total: 3.67 s\n",
      "Wall time: 1.8 s\n",
      "Iteration: 2 RMSE (0.3650518694320081, 0.3607671677770866) AUC (0.8745465829367725, 0.8792747646861976)\n",
      "CPU times: user 2.26 s, sys: 3.05 ms, total: 2.26 s\n",
      "Wall time: 1.09 s\n",
      "Iteration: 3 RMSE (0.3612342844699749, 0.3784744104969942) AUC (0.8728023278481905, 0.8811602348285463)\n",
      "CPU times: user 3.34 s, sys: 11.3 ms, total: 3.35 s\n",
      "Wall time: 1.7 s\n",
      "Iteration: 4 RMSE (0.36107862872959734, 0.368541390495118) AUC (0.8768205235427095, 0.8632642211589581)\n"
     ]
    }
   ],
   "source": [
    "### YOUR CODE HERE (please, feel free to add extra cells to solve this task, after this first one) ###\n",
    "rmse_bkt, auc_bkt = [], []\n",
    "for iteration, (train_index, test_index) in enumerate(create_iterator(data)):\n",
    "    # Split data in training and test sets\n",
    "    X_train, X_test = data.iloc[train_index], data.iloc[test_index]\n",
    "    # Initialize the model\n",
    "    model = Model(seed=0)\n",
    "    # Fit the model\n",
    "    %time model.fit(data=X_train)\n",
    "    # Compute RMSE (use the model evaluation methods)\n",
    "    train_rmse = model.evaluate(data=X_train, metric='rmse')\n",
    "    test_rmse = model.evaluate(data=X_test, metric='rmse')\n",
    "    rmse_bkt.append(test_rmse)\n",
    "    # Compute AUC (use the model evaluation methods)\n",
    "    train_auc = model.evaluate(data=X_train, metric='auc')\n",
    "    test_auc = model.evaluate(data=X_test, metric='auc')\n",
    "    auc_bkt.append(test_auc)\n",
    "    # Print progress\n",
    "    print('Iteration:', iteration, 'RMSE', (train_rmse, test_rmse), 'AUC', (train_auc, test_auc))"
   ]
  },
  {
   "cell_type": "markdown",
   "metadata": {},
   "source": [
    "Compute the mean and standard deviation for both metrics"
   ]
  },
  {
   "cell_type": "code",
   "execution_count": 11,
   "metadata": {},
   "outputs": [
    {
     "name": "stdout",
     "output_type": "stream",
     "text": [
      "RMSE: mean 0.36385284231177795 | std 0.00986611845162415\n",
      "AUC: mean 0.8733396743711941 | std 0.006410438515653901\n"
     ]
    }
   ],
   "source": [
    "rmse_bkt_mean, rmse_bkt_std = np.mean(rmse_bkt), np.std(rmse_bkt)\n",
    "auc_bkt_mean, auc_bkt_std = np.mean(auc_bkt), np.std(auc_bkt)\n",
    "print(f\"RMSE: mean {rmse_bkt_mean} | std {rmse_bkt_std}\")\n",
    "print(f\"AUC: mean {auc_bkt_mean} | std {auc_bkt_std}\")"
   ]
  },
  {
   "cell_type": "markdown",
   "metadata": {
    "id": "OeI5jhXCvKiq"
   },
   "source": [
    "<a id=\"section1.3\"></a>\n",
    "### Task 1.3\n",
    "\n",
    "In this task, we ask you to evaluate an `AFM model` with all default parameters (e.g., no custom bounds, default l2 regularization, and fit_intercept=True) through a `user-stratified 10-fold cross-validation`, computing the following performance metrics: `RMSE` and `AUC`. To do so, exactly as you should have done for the BKT model in Task 1.2, you should use the `create_iterator` function, defined in Task 1.1, to create the training and test set for each fold, starting from the interactions in `data`. \n",
    "\n",
    "No plotting is needed, it is enough to print the scores for each metric in the cell.\n",
    "\n",
    "The following cells include some utility functions that are needed to generate the `X` and `y` data in a format that is accepted by pyAFM model objects. To complete this task, you can build on top of the `X` and `y` created for you with the following cells. Please, refer to Tutorial 6 for further information on pyAFM. \n",
    "\n",
    "Take a look [here](https://github.com/cmaclell/pyAFM/blob/6150afdef7ab2eabff6c439accb5f9f81af34129/afms_workflow_predict.py#L11) to have ideas on how to use the `AFM model`"
   ]
  },
  {
   "cell_type": "code",
   "execution_count": 21,
   "metadata": {
    "id": "Snneh2D8vKir"
   },
   "outputs": [],
   "source": [
    "def read_as_student_step(data):    \n",
    "    skills, opportunities, corrects, user_ids = [], [], [], []\n",
    "    \n",
    "    for row_id, (_, row) in enumerate(data.iterrows()):\n",
    "        \n",
    "        # Get attributes for the current interaction \n",
    "        user_id = row['user_id']\n",
    "        skill_name = row['skill_name']\n",
    "        correct = row['correct']\n",
    "        prior_success = row['prior_success']\n",
    "        prior_failure = row['prior_failure']\n",
    "        \n",
    "        # Update the number of opportunities this student had with this skill\n",
    "        opportunities.append({skill_name: prior_success + prior_failure})\n",
    "        \n",
    "        # Update information in the current \n",
    "        skills.append({skill_name: 1})\n",
    "\n",
    "        # Answer info\n",
    "        corrects.append(correct)\n",
    "        \n",
    "        # Student info\n",
    "        user_ids.append({user_id: 1})\n",
    "        \n",
    "    return (skills, opportunities, corrects, user_ids)"
   ]
  },
  {
   "cell_type": "code",
   "execution_count": 22,
   "metadata": {
    "id": "gjk4wh0XvKir"
   },
   "outputs": [],
   "source": [
    "def prepare_data_afm(skills, opportunities, corrects, user_ids):\n",
    "\n",
    "    sv = feature_extraction.DictVectorizer()\n",
    "    qv = feature_extraction.DictVectorizer()\n",
    "    ov = feature_extraction.DictVectorizer()\n",
    "    S = sv.fit_transform(user_ids)\n",
    "    Q = qv.fit_transform(skills)\n",
    "    O = ov.fit_transform(opportunities)\n",
    "    X = sc.sparse.hstack((S, Q, O))\n",
    "    y = np.array(corrects)\n",
    "\n",
    "    return (X.toarray(), y)"
   ]
  },
  {
   "cell_type": "markdown",
   "metadata": {
    "id": "NLqHV0wLvKis"
   },
   "source": [
    "Prepare the X and y arrays to be used to evaluate the AFM model. "
   ]
  },
  {
   "cell_type": "code",
   "execution_count": 23,
   "metadata": {
    "id": "nyHpdmyMvKis",
    "outputId": "2e13212d-18f2-41f7-9b54-104f80f77bbd"
   },
   "outputs": [
    {
     "name": "stdout",
     "output_type": "stream",
     "text": [
      "CPU times: user 1.78 s, sys: 110 ms, total: 1.89 s\n",
      "Wall time: 1.89 s\n",
      "CPU times: user 192 ms, sys: 356 ms, total: 548 ms\n",
      "Wall time: 545 ms\n"
     ]
    }
   ],
   "source": [
    "%time skills, opportunities, corrects, user_ids = read_as_student_step(data)\n",
    "%time X, y = prepare_data_afm(skills, opportunities, corrects, user_ids)"
   ]
  },
  {
   "cell_type": "code",
   "execution_count": 24,
   "metadata": {},
   "outputs": [
    {
     "data": {
      "text/plain": [
       "array([[1., 0., 0., ..., 0., 0., 0.],\n",
       "       [1., 0., 0., ..., 1., 0., 0.],\n",
       "       [1., 0., 0., ..., 2., 0., 0.],\n",
       "       ...,\n",
       "       [0., 0., 0., ..., 0., 2., 0.],\n",
       "       [0., 0., 0., ..., 0., 3., 0.],\n",
       "       [0., 0., 0., ..., 0., 4., 0.]])"
      ]
     },
     "execution_count": 24,
     "metadata": {},
     "output_type": "execute_result"
    }
   ],
   "source": [
    "X"
   ]
  },
  {
   "cell_type": "code",
   "execution_count": 25,
   "metadata": {
    "deletable": false,
    "id": "OJ803xnyvKit",
    "nbgrader": {
     "cell_type": "code",
     "checksum": "e56c17f22908fffa306759018b02bdde",
     "grade": true,
     "grade_id": "1-3",
     "locked": false,
     "points": 20,
     "schema_version": 3,
     "solution": true,
     "task": false
    },
    "outputId": "3723ff36-ccaf-4e5a-ca9a-19cd923404f5"
   },
   "outputs": [
    {
     "name": "stdout",
     "output_type": "stream",
     "text": [
      "CPU times: user 1min 23s, sys: 1min, total: 2min 23s\n",
      "Wall time: 1min 12s\n",
      "Iteration: 0 RMSE (0.3628512093439748, 0.3945216874691638) AUC (0.8571417626224709, 0.6963415933611663)\n",
      "CPU times: user 1min 41s, sys: 1min 10s, total: 2min 52s\n",
      "Wall time: 1min 26s\n",
      "Iteration: 1 RMSE (0.3585324095875447, 0.4166992123368914) AUC (0.8591485073080596, 0.7167601052048727)\n",
      "CPU times: user 1min 26s, sys: 1min 2s, total: 2min 29s\n",
      "Wall time: 1min 15s\n",
      "Iteration: 2 RMSE (0.3628225589931574, 0.409919617239067) AUC (0.8509658692531719, 0.7173568332116255)\n",
      "CPU times: user 1min 14s, sys: 53.2 s, total: 2min 7s\n",
      "Wall time: 1min 3s\n",
      "Iteration: 3 RMSE (0.3596796937513901, 0.44978584612139055) AUC (0.8490635673084069, 0.6596801964797492)\n",
      "CPU times: user 1min 22s, sys: 57.9 s, total: 2min 19s\n",
      "Wall time: 1min 10s\n",
      "Iteration: 4 RMSE (0.3522252240205346, 0.4330012088174155) AUC (0.8699585401317103, 0.6499599886634546)\n"
     ]
    }
   ],
   "source": [
    "### YOUR CODE HERE (please, feel free to add extra cells to solve this task, after this first one) ###\n",
    "rmse_afm, auc_afm = [], []\n",
    "for iteration, (train_index, test_index) in enumerate(create_iterator(data)):\n",
    "    # Split data in training and test sets\n",
    "    X_train, X_test = X[train_index], X[test_index]\n",
    "    y_train, y_test = y[train_index], y[test_index]\n",
    "    # Initialize and fit the model\n",
    "    afm = CustomLogistic()\n",
    "    %time afm.fit(X_train,y_train)\n",
    "    # Make predictions \n",
    "    y_train_pred = afm.predict_proba(X_train)\n",
    "    y_test_pred = afm.predict_proba(X_test)\n",
    "    # Compute RMSE (use metrics package methods)\n",
    "    train_rmse = metrics.mean_squared_error(y_train, y_train_pred, squared=False)\n",
    "    test_rmse = metrics.mean_squared_error(y_test, y_test_pred, squared=False)\n",
    "    rmse_afm.append(test_rmse)\n",
    "    # Compute AUC (use metrics package methods)\n",
    "    train_auc = metrics.roc_auc_score(y_train, y_train_pred)\n",
    "    test_auc = metrics.roc_auc_score(y_test, y_test_pred)\n",
    "    auc_afm.append(test_auc)\n",
    "    # Print progress\n",
    "    print('Iteration:', iteration, 'RMSE', (train_rmse, test_rmse), 'AUC', (train_auc, test_auc))"
   ]
  },
  {
   "cell_type": "markdown",
   "metadata": {
    "id": "OHZWugs_vKit"
   },
   "source": [
    "<a id=\"section1.4\"></a>\n",
    "### Task 1.4\n",
    "\n",
    "In this task, we ask you to evaluate a `PFA model` with all default parameters (e.g., no custom bounds, default l2 regularization, and fit_intercept=True) through a `user-stratified 10-fold cross-validation`, computing the following performance metrics: `RMSE` and `AUC`. To do so, exactly as you should have done for the BKT and AFM models in Task 1.2 and 1.3, you should use the `create_iterator` function, defined in Task 1.1, to create the training and test set for each fold, starting from the interactions in `data`. \n",
    "\n",
    "No plotting is needed, it is enough to print the scores for each metric in the cell.\n",
    "\n",
    "The following cells include some utility functions that are needed to generate the `X` and `y` data in a format that is accepted by pyAFM model objects. To complete this task, you can build on top of the `X` and `y` created for you with the following cells. Please, refer to Tutorial 6 for further information on pyAFM. "
   ]
  },
  {
   "cell_type": "code",
   "execution_count": 29,
   "metadata": {
    "id": "Mp5Lnwi3vKit"
   },
   "outputs": [],
   "source": [
    "def read_as_success_failure(data):\n",
    "    n_succ, n_fail = [], []\n",
    "\n",
    "    # Create the n_succ and n_fail variables required by pyAFM\n",
    "    for i, row in data.iterrows():\n",
    "        n_succ.append({row['skill_name']: int(row['prior_success'])})\n",
    "        n_fail.append({row['skill_name']: int(row['prior_failure'])})\n",
    "        \n",
    "    return n_succ, n_fail"
   ]
  },
  {
   "cell_type": "code",
   "execution_count": 30,
   "metadata": {
    "id": "7nnZY6IIvKiu"
   },
   "outputs": [],
   "source": [
    "def prepare_data_pfa(skills, corrects, user_ids, n_succ, n_fail):\n",
    "    \n",
    "    s = feature_extraction.DictVectorizer()\n",
    "    q = feature_extraction.DictVectorizer()\n",
    "    succ = feature_extraction.DictVectorizer()\n",
    "    fail = feature_extraction.DictVectorizer()\n",
    "    S = s.fit_transform(user_ids)\n",
    "    Q = q.fit_transform(skills)\n",
    "    succ = succ.fit_transform(n_succ)\n",
    "    fail = fail.fit_transform(n_fail)\n",
    "    X = sc.sparse.hstack((S, Q, succ, fail))\n",
    "    y = np.array(corrects)\n",
    "\n",
    "    return (X.toarray(), y)"
   ]
  },
  {
   "cell_type": "markdown",
   "metadata": {
    "id": "CqDObHVuvKiu"
   },
   "source": [
    "Prepare the X and y arrays to be used to evaluate the PFA model. "
   ]
  },
  {
   "cell_type": "code",
   "execution_count": 31,
   "metadata": {
    "id": "0Ou_lrN-vKiu",
    "outputId": "c571f101-3ecd-445d-a5e8-04296046c84f"
   },
   "outputs": [
    {
     "name": "stdout",
     "output_type": "stream",
     "text": [
      "CPU times: user 1.87 s, sys: 104 ms, total: 1.97 s\n",
      "Wall time: 1.97 s\n",
      "CPU times: user 192 ms, sys: 312 ms, total: 504 ms\n",
      "Wall time: 502 ms\n"
     ]
    }
   ],
   "source": [
    "%time n_succ, n_fail = read_as_success_failure(data)\n",
    "%time X, y = prepare_data_pfa(skills, corrects, user_ids, n_succ, n_fail)"
   ]
  },
  {
   "cell_type": "code",
   "execution_count": 32,
   "metadata": {
    "deletable": false,
    "id": "tetdb6JMvKiv",
    "nbgrader": {
     "cell_type": "code",
     "checksum": "af79f22564baca57f2b52305a8208b6c",
     "grade": true,
     "grade_id": "1-4",
     "locked": false,
     "points": 20,
     "schema_version": 3,
     "solution": true,
     "task": false
    },
    "outputId": "c084dccd-8fb3-40d7-ee02-a201d0024975"
   },
   "outputs": [
    {
     "name": "stdout",
     "output_type": "stream",
     "text": [
      "CPU times: user 1min 24s, sys: 1min 2s, total: 2min 27s\n",
      "Wall time: 1min 14s\n",
      "Iteration: 0 RMSE (0.3630966827602324, 0.3849951338146037) AUC (0.8558781046327286, 0.7350092819398869)\n",
      "CPU times: user 2min 3s, sys: 1min 33s, total: 3min 36s\n",
      "Wall time: 1min 48s\n",
      "Iteration: 1 RMSE (0.358601694242892, 0.40536895726375877) AUC (0.858071994116221, 0.7588243787137261)\n",
      "CPU times: user 1min 35s, sys: 1min 11s, total: 2min 47s\n",
      "Wall time: 1min 23s\n",
      "Iteration: 2 RMSE (0.36297903437924595, 0.3949323194733925) AUC (0.8493429280769756, 0.7842012230909199)\n",
      "CPU times: user 1min 30s, sys: 1min 7s, total: 2min 38s\n",
      "Wall time: 1min 19s\n",
      "Iteration: 3 RMSE (0.3600952252706994, 0.4161244531189024) AUC (0.84750793288509, 0.7919590512959389)\n",
      "CPU times: user 1min 51s, sys: 1min 20s, total: 3min 12s\n",
      "Wall time: 1min 36s\n",
      "Iteration: 4 RMSE (0.3523245627421905, 0.4219427123390086) AUC (0.8687659922951977, 0.6942607812954411)\n"
     ]
    }
   ],
   "source": [
    "### YOUR CODE HERE (please, feel free to add extra cells to solve this task, after this first one) ###\n",
    "rmse_pfa, auc_pfa = [], []\n",
    "for iteration, (train_index, test_index) in enumerate(create_iterator(data)):\n",
    "    # Split data in training and test sets\n",
    "    X_train, X_test = X[train_index], X[test_index]\n",
    "    y_train, y_test = y[train_index], y[test_index]\n",
    "    # Initialize and fit the model\n",
    "    pfa = CustomLogistic()\n",
    "    %time pfa.fit(X_train, y_train)\n",
    "    # Make predictions \n",
    "    y_train_pred = pfa.predict_proba(X_train)\n",
    "    y_test_pred = pfa.predict_proba(X_test)\n",
    "    # Compute RMSE\n",
    "    train_rmse = metrics.mean_squared_error(y_train, y_train_pred, squared=False)\n",
    "    test_rmse = metrics.mean_squared_error(y_test, y_test_pred, squared=False)\n",
    "    rmse_pfa.append(test_rmse)\n",
    "    # Compute AUC\n",
    "    train_auc = metrics.roc_auc_score(y_train, y_train_pred)\n",
    "    test_auc = metrics.roc_auc_score(y_test, y_test_pred)\n",
    "    auc_pfa.append(test_auc)\n",
    "    # Print progress\n",
    "    print('Iteration:', iteration, 'RMSE', (train_rmse, test_rmse), 'AUC', (train_auc, test_auc))"
   ]
  },
  {
   "cell_type": "markdown",
   "metadata": {
    "id": "o91dKRW-vKiv"
   },
   "source": [
    "<a id=\"section1.5\"></a>\n",
    "### Task 1.5\n",
    "\n",
    "In this task, we ask you to visually report the RMSE and AUC scores achieved by the three student's models in the user-stratified 10-fold cross validation performed in Task 1.2, 1.3, and 1.4 respectively, in such a way that the models' performances can be easily and appropriately compared against each other. "
   ]
  },
  {
   "cell_type": "code",
   "execution_count": 38,
   "metadata": {
    "deletable": false,
    "id": "i0Ro413avKiw",
    "nbgrader": {
     "cell_type": "code",
     "checksum": "f7f828411bec2f92ae88c58458fb1da9",
     "grade": true,
     "grade_id": "1-5",
     "locked": false,
     "points": 10,
     "schema_version": 3,
     "solution": true,
     "task": false
    },
    "outputId": "7f45aae0-09f8-4634-d2bd-b27798936f8c"
   },
   "outputs": [
    {
     "name": "stderr",
     "output_type": "stream",
     "text": [
      "/tmp/ipykernel_144/3545205238.py:11: FutureWarning: \n",
      "\n",
      "The `ci` parameter is deprecated. Use `errorbar='sd'` for the same effect.\n",
      "\n",
      "  sns.barplot(ax=axes[0],x='x', y='RMSE', data=rmse_all_data, estimator=np.mean, ci='sd')\n",
      "/tmp/ipykernel_144/3545205238.py:15: FutureWarning: \n",
      "\n",
      "The `ci` parameter is deprecated. Use `errorbar='sd'` for the same effect.\n",
      "\n",
      "  sns.barplot(ax=axes[1],x='x', y='AUC', data=auc_all_data, estimator=np.mean, ci='sd')\n"
     ]
    },
    {
     "data": {
      "image/png": "[encoded data removed]",
      "text/plain": [
       "<Figure size 1000x500 with 2 Axes>"
      ]
     },
     "metadata": {},
     "output_type": "display_data"
    }
   ],
   "source": [
    "### YOUR CODE HERE (please, feel free to add extra cells to solve this task, after this first one) ###\n",
    "rmse_all = rmse_bkt + rmse_afm + rmse_pfa\n",
    "auc_all = auc_bkt + auc_afm + auc_pfa\n",
    "models = [\"BKT\"]*5 + [\"AFM\"]*5 + [\"PFA\"]*5\n",
    "\n",
    "rmse_all_data = pd.DataFrame(list(zip(models, rmse_all)),columns =['x', 'RMSE'])\n",
    "auc_all_data = pd.DataFrame(list(zip(models, auc_all)),columns =['x', 'AUC'])\n",
    "\n",
    "fig, axes = plt.subplots(1, 2, figsize=(10,5))\n",
    "\n",
    "sns.barplot(ax=axes[0],x='x', y='RMSE', data=rmse_all_data, estimator=np.mean, ci='sd')\n",
    "axes[0].set_title('RMSE per model')\n",
    "axes[0].set_xlabel('')\n",
    "\n",
    "sns.barplot(ax=axes[1],x='x', y='AUC', data=auc_all_data, estimator=np.mean, ci='sd')\n",
    "plt.xticks(rotation=90)\n",
    "axes[1].set_title('AUC per model')\n",
    "axes[1].set_xlabel('')\n",
    "\n",
    "fig.show()"
   ]
  },
  {
   "cell_type": "markdown",
   "metadata": {
    "id": "XMl_9cfCvKiw"
   },
   "source": [
    "### Task 1.6 Please compare and discuss the performance metric scores achieved by the student's models."
   ]
  },
  {
   "cell_type": "markdown",
   "metadata": {
    "deletable": false,
    "nbgrader": {
     "cell_type": "markdown",
     "checksum": "207a5583fd1899acf60f57e6a82ea18a",
     "grade": true,
     "grade_id": "1-6",
     "locked": false,
     "points": 5,
     "schema_version": 3,
     "solution": true,
     "task": false
    }
   },
   "source": [
    "YOUR ANSWER HERE"
   ]
  },
  {
   "cell_type": "markdown",
   "metadata": {
    "id": "e8b79fvFvKix"
   },
   "source": [
    "<a id=\"section1\"></a>\n",
    "## 2  Knowledge Tracing: Learning Curves Comparison \n",
    "----\n",
    "\n",
    "In this section, you should fit a Bayesian Knowledge Tracing (BKT) model on the three skills included in the `data` data set, and compute the corresponding predictions. Then, for each skill included in the data dataframe, you should visually report and discuss (i) the learning curve and (ii) the bar plot representing the number of students who reached a given number of opportunities for that skill, obtained through the BKT model fitted on that skill, in such a way that models' learning patterns can be easily and appropriately compared. No comparison with other baseline model is required.\n",
    "\n",
    "For your convenience, you will be guided in completing this section through three main tasks:\n",
    "- Task 2.1: BKT fit and prediction. \n",
    "- Task 2.2: Learning curves and bar plots generation.\n",
    "- Task 2.3: Learning curves and bar plots discussion. "
   ]
  },
  {
   "cell_type": "markdown",
   "metadata": {
    "id": "4AjCAtH1vKix"
   },
   "source": [
    "<a id=\"section2.1\"></a>\n",
    "### Task 2.1\n",
    "\n",
    "In this task, we ask you to fit a BKT model with all default parameters, i.e., `Model(seed=0)` in pyBKT, on the full `data` data set (no split into train and test set needed as we are not assessing predictive performance of the model here). Once your BKT model is fitted, we ask you to appropriately create a dataframe named `predictions` with four columns `user_id`, `skill_name`, `y_true`, `y_pred_bkt`. This dataframe should include one row per interaction in `data`, where user_id is the id of the student associated with that interaction, skill_name is the name of the skill involved in that interaction, y_true is the true student's performance on that interaction (1 if correct at the first attempt, 0 otherwise), and y_pred_bkt is the prediction made by the pre-trained BKT model for that interaction.  \n",
    "\n",
    "Please, note that this task may require a long running time (e.g., about 10 to 20 minutes), depending on your implementation and device. Just as an indication, on a Dell XPS 13, the fit process lasts around 7 minutes.  "
   ]
  },
  {
   "cell_type": "code",
   "execution_count": 40,
   "metadata": {
    "deletable": false,
    "id": "1A6BtleZvKix",
    "nbgrader": {
     "cell_type": "code",
     "checksum": "9dd81314da6839b757e6415bf9bdb75a",
     "grade": true,
     "grade_id": "2-1",
     "locked": false,
     "points": 10,
     "schema_version": 3,
     "solution": true,
     "task": false
    },
    "outputId": "a69b531e-f233-492a-e4ed-fe6f656957a9"
   },
   "outputs": [
    {
     "name": "stdout",
     "output_type": "stream",
     "text": [
      "CPU times: user 2.33 s, sys: 0 ns, total: 2.33 s\n",
      "Wall time: 1.13 s\n"
     ]
    }
   ],
   "source": [
    "### YOUR CODE HERE (please, feel free to add extra cells to solve this task, after this first one) ###\n",
    "# Initialize the model\n",
    "model = Model(seed=0)\n",
    "\n",
    "# Fit the model on the entire dataset\n",
    "%time model.fit(data=data)"
   ]
  },
  {
   "cell_type": "code",
   "execution_count": 54,
   "metadata": {},
   "outputs": [
    {
     "data": {
      "text/html": [
       "<div>\n",
       "<style scoped>\n",
       "    .dataframe tbody tr th:only-of-type {\n",
       "        vertical-align: middle;\n",
       "    }\n",
       "\n",
       "    .dataframe tbody tr th {\n",
       "        vertical-align: top;\n",
       "    }\n",
       "\n",
       "    .dataframe thead th {\n",
       "        text-align: right;\n",
       "    }\n",
       "</style>\n",
       "<table border=\"1\" class=\"dataframe\">\n",
       "  <thead>\n",
       "    <tr style=\"text-align: right;\">\n",
       "      <th></th>\n",
       "      <th>user_id</th>\n",
       "      <th>order_id</th>\n",
       "      <th>skill_name</th>\n",
       "      <th>y_true</th>\n",
       "      <th>y_pred_bkt</th>\n",
       "    </tr>\n",
       "  </thead>\n",
       "  <tbody>\n",
       "    <tr>\n",
       "      <th>0</th>\n",
       "      <td>14</td>\n",
       "      <td>21617623</td>\n",
       "      <td>Circle Graph</td>\n",
       "      <td>0</td>\n",
       "      <td>0.47049</td>\n",
       "    </tr>\n",
       "    <tr>\n",
       "      <th>1</th>\n",
       "      <td>14</td>\n",
       "      <td>21617632</td>\n",
       "      <td>Circle Graph</td>\n",
       "      <td>1</td>\n",
       "      <td>0.34175</td>\n",
       "    </tr>\n",
       "    <tr>\n",
       "      <th>2</th>\n",
       "      <td>14</td>\n",
       "      <td>21617641</td>\n",
       "      <td>Circle Graph</td>\n",
       "      <td>0</td>\n",
       "      <td>0.56985</td>\n",
       "    </tr>\n",
       "    <tr>\n",
       "      <th>3</th>\n",
       "      <td>14</td>\n",
       "      <td>21617650</td>\n",
       "      <td>Circle Graph</td>\n",
       "      <td>0</td>\n",
       "      <td>0.44661</td>\n",
       "    </tr>\n",
       "    <tr>\n",
       "      <th>4</th>\n",
       "      <td>14</td>\n",
       "      <td>21617659</td>\n",
       "      <td>Circle Graph</td>\n",
       "      <td>0</td>\n",
       "      <td>0.32216</td>\n",
       "    </tr>\n",
       "    <tr>\n",
       "      <th>...</th>\n",
       "      <td>...</td>\n",
       "      <td>...</td>\n",
       "      <td>...</td>\n",
       "      <td>...</td>\n",
       "      <td>...</td>\n",
       "    </tr>\n",
       "    <tr>\n",
       "      <th>24481</th>\n",
       "      <td>96298</td>\n",
       "      <td>38175812</td>\n",
       "      <td>Venn Diagram</td>\n",
       "      <td>1</td>\n",
       "      <td>0.67987</td>\n",
       "    </tr>\n",
       "    <tr>\n",
       "      <th>24482</th>\n",
       "      <td>96298</td>\n",
       "      <td>38175813</td>\n",
       "      <td>Venn Diagram</td>\n",
       "      <td>0</td>\n",
       "      <td>0.72996</td>\n",
       "    </tr>\n",
       "    <tr>\n",
       "      <th>6207</th>\n",
       "      <td>96298</td>\n",
       "      <td>38175828</td>\n",
       "      <td>Circle Graph</td>\n",
       "      <td>0</td>\n",
       "      <td>0.25296</td>\n",
       "    </tr>\n",
       "    <tr>\n",
       "      <th>26407</th>\n",
       "      <td>96298</td>\n",
       "      <td>38175955</td>\n",
       "      <td>Mode</td>\n",
       "      <td>1</td>\n",
       "      <td>0.92574</td>\n",
       "    </tr>\n",
       "    <tr>\n",
       "      <th>26408</th>\n",
       "      <td>96298</td>\n",
       "      <td>38175956</td>\n",
       "      <td>Mode</td>\n",
       "      <td>1</td>\n",
       "      <td>0.92575</td>\n",
       "    </tr>\n",
       "  </tbody>\n",
       "</table>\n",
       "<p>26409 rows × 5 columns</p>\n",
       "</div>"
      ],
      "text/plain": [
       "       user_id  order_id    skill_name  y_true  y_pred_bkt\n",
       "0           14  21617623  Circle Graph       0     0.47049\n",
       "1           14  21617632  Circle Graph       1     0.34175\n",
       "2           14  21617641  Circle Graph       0     0.56985\n",
       "3           14  21617650  Circle Graph       0     0.44661\n",
       "4           14  21617659  Circle Graph       0     0.32216\n",
       "...        ...       ...           ...     ...         ...\n",
       "24481    96298  38175812  Venn Diagram       1     0.67987\n",
       "24482    96298  38175813  Venn Diagram       0     0.72996\n",
       "6207     96298  38175828  Circle Graph       0     0.25296\n",
       "26407    96298  38175955          Mode       1     0.92574\n",
       "26408    96298  38175956          Mode       1     0.92575\n",
       "\n",
       "[26409 rows x 5 columns]"
      ]
     },
     "execution_count": 54,
     "metadata": {},
     "output_type": "execute_result"
    }
   ],
   "source": [
    "### YOUR CODE HERE ###\n",
    "# Make predictions\n",
    "predictions = model.predict(data=data)\n",
    "\n",
    "# Rename the dataframe columns as per instructions\n",
    "#predictions.columns = ['user_id', 'skill_name', 'y_true', 'y_pred_bkt']\n",
    "predictions = predictions.rename(columns={\n",
    "    'correct': 'y_true',\n",
    "    'correct_predictions': 'y_pred_bkt'\n",
    "})[['user_id','order_id','skill_name','y_true','y_pred_bkt']]\n",
    "predictions"
   ]
  },
  {
   "cell_type": "markdown",
   "metadata": {},
   "source": [
    "Print the first ten rows as a double check"
   ]
  },
  {
   "cell_type": "code",
   "execution_count": 55,
   "metadata": {},
   "outputs": [
    {
     "data": {
      "text/html": [
       "<div>\n",
       "<style scoped>\n",
       "    .dataframe tbody tr th:only-of-type {\n",
       "        vertical-align: middle;\n",
       "    }\n",
       "\n",
       "    .dataframe tbody tr th {\n",
       "        vertical-align: top;\n",
       "    }\n",
       "\n",
       "    .dataframe thead th {\n",
       "        text-align: right;\n",
       "    }\n",
       "</style>\n",
       "<table border=\"1\" class=\"dataframe\">\n",
       "  <thead>\n",
       "    <tr style=\"text-align: right;\">\n",
       "      <th></th>\n",
       "      <th>user_id</th>\n",
       "      <th>order_id</th>\n",
       "      <th>skill_name</th>\n",
       "      <th>y_true</th>\n",
       "      <th>y_pred_bkt</th>\n",
       "    </tr>\n",
       "  </thead>\n",
       "  <tbody>\n",
       "    <tr>\n",
       "      <th>0</th>\n",
       "      <td>14</td>\n",
       "      <td>21617623</td>\n",
       "      <td>Circle Graph</td>\n",
       "      <td>0</td>\n",
       "      <td>0.47049</td>\n",
       "    </tr>\n",
       "    <tr>\n",
       "      <th>1</th>\n",
       "      <td>14</td>\n",
       "      <td>21617632</td>\n",
       "      <td>Circle Graph</td>\n",
       "      <td>1</td>\n",
       "      <td>0.34175</td>\n",
       "    </tr>\n",
       "    <tr>\n",
       "      <th>2</th>\n",
       "      <td>14</td>\n",
       "      <td>21617641</td>\n",
       "      <td>Circle Graph</td>\n",
       "      <td>0</td>\n",
       "      <td>0.56985</td>\n",
       "    </tr>\n",
       "    <tr>\n",
       "      <th>3</th>\n",
       "      <td>14</td>\n",
       "      <td>21617650</td>\n",
       "      <td>Circle Graph</td>\n",
       "      <td>0</td>\n",
       "      <td>0.44661</td>\n",
       "    </tr>\n",
       "    <tr>\n",
       "      <th>4</th>\n",
       "      <td>14</td>\n",
       "      <td>21617659</td>\n",
       "      <td>Circle Graph</td>\n",
       "      <td>0</td>\n",
       "      <td>0.32216</td>\n",
       "    </tr>\n",
       "    <tr>\n",
       "      <th>5</th>\n",
       "      <td>14</td>\n",
       "      <td>21617667</td>\n",
       "      <td>Circle Graph</td>\n",
       "      <td>0</td>\n",
       "      <td>0.24240</td>\n",
       "    </tr>\n",
       "    <tr>\n",
       "      <th>6</th>\n",
       "      <td>14</td>\n",
       "      <td>21617675</td>\n",
       "      <td>Circle Graph</td>\n",
       "      <td>0</td>\n",
       "      <td>0.20507</td>\n",
       "    </tr>\n",
       "    <tr>\n",
       "      <th>7</th>\n",
       "      <td>14</td>\n",
       "      <td>21617692</td>\n",
       "      <td>Circle Graph</td>\n",
       "      <td>0</td>\n",
       "      <td>0.19017</td>\n",
       "    </tr>\n",
       "    <tr>\n",
       "      <th>8</th>\n",
       "      <td>14</td>\n",
       "      <td>21617731</td>\n",
       "      <td>Circle Graph</td>\n",
       "      <td>1</td>\n",
       "      <td>0.18461</td>\n",
       "    </tr>\n",
       "    <tr>\n",
       "      <th>9</th>\n",
       "      <td>14</td>\n",
       "      <td>21617749</td>\n",
       "      <td>Circle Graph</td>\n",
       "      <td>0</td>\n",
       "      <td>0.34477</td>\n",
       "    </tr>\n",
       "  </tbody>\n",
       "</table>\n",
       "</div>"
      ],
      "text/plain": [
       "   user_id  order_id    skill_name  y_true  y_pred_bkt\n",
       "0       14  21617623  Circle Graph       0     0.47049\n",
       "1       14  21617632  Circle Graph       1     0.34175\n",
       "2       14  21617641  Circle Graph       0     0.56985\n",
       "3       14  21617650  Circle Graph       0     0.44661\n",
       "4       14  21617659  Circle Graph       0     0.32216\n",
       "5       14  21617667  Circle Graph       0     0.24240\n",
       "6       14  21617675  Circle Graph       0     0.20507\n",
       "7       14  21617692  Circle Graph       0     0.19017\n",
       "8       14  21617731  Circle Graph       1     0.18461\n",
       "9       14  21617749  Circle Graph       0     0.34477"
      ]
     },
     "execution_count": 55,
     "metadata": {},
     "output_type": "execute_result"
    }
   ],
   "source": [
    "predictions.head(10)"
   ]
  },
  {
   "cell_type": "markdown",
   "metadata": {
    "id": "XiqsymkBvKiy"
   },
   "source": [
    "<a id=\"section2.4\"></a>\n",
    "### Task 2.2\n",
    "\n",
    "In this task, for each skill, we ask you to visually report and discuss (i) the `learning curve` and (ii) the `bar plot` representing the number of students who reached a given number of opportunities (similar to the visualizations done in Tutorial 6),  obtained by the BKT model fitted on that skill, in such a way that models' learning patterns can be easily and appropriately compared. To do so, we ask you to use the predictions you stored in the dataframe `predictions`.    \n",
    "\n",
    "No comparison with other baseline model is required.\n",
    "\n",
    "Please, refer to Tutorial 6 for further information on learning curve and bar plotting for student's knowledge tracing models."
   ]
  },
  {
   "cell_type": "code",
   "execution_count": null,
   "metadata": {
    "deletable": false,
    "id": "0hQVhP85vKiz",
    "nbgrader": {
     "cell_type": "code",
     "checksum": "dfd497cead44c85762fd78dcf2a3c5ff",
     "grade": true,
     "grade_id": "2-2",
     "locked": false,
     "points": 10,
     "schema_version": 3,
     "solution": true,
     "task": false
    }
   },
   "outputs": [
    {
     "name": "stdout",
     "output_type": "stream",
     "text": [
      "Done!!\n",
      "Done!!\n",
      "Done!!\n"
     ]
    }
   ],
   "source": [
    "skills = predictions.skill_name.unique()\n",
    "fig, axes = plt.subplots(2, len(skills), figsize=(20,10))\n",
    "for index,skill in enumerate(skills):\n",
    "    predictions_for_skill = predictions[predictions.skill_name == skill]\n",
    "    predictions_for_skill_grouped_by_user = predictions_for_skill.groupby('user_id').aggregate({\n",
    "        'y_true': list,\n",
    "        'y_pred_bkt': list,\n",
    "    }).reset_index()\n",
    "    opportunity = 0\n",
    "    pred_vals_per_opportunity = []\n",
    "    y_true_vals_per_opportunity = []\n",
    "    lens_per_opportunity = []\n",
    "    while True:\n",
    "        # filter out users who don't have this much opportunity\n",
    "        filtered_users = predictions_for_skill_grouped_by_user[predictions_for_skill_grouped_by_user.y_true.apply(lambda x: len(x) > opportunity)]\n",
    "        y_true_vals = filtered_users.y_true.apply(lambda x: x[opportunity]).values\n",
    "        y_pred_vals = filtered_users.y_pred_bkt.apply(lambda x: x[opportunity]).values\n",
    "        if len(y_true_vals) == 0:\n",
    "            print(\"Done!!\")\n",
    "            break\n",
    "        y_true_vals_per_opportunity += list(map(lambda x: (opportunity,x), y_true_vals))\n",
    "        pred_vals_per_opportunity += list(y_pred_vals)\n",
    "        lens_per_opportunity.append(len(y_true_vals))\n",
    "        opportunity += 1\n",
    "    data_df = pd.DataFrame(y_true_vals_per_opportunity, columns=['opportunity', 'y_true'])\n",
    "    data_df['y_pred'] = pred_vals_per_opportunity\n",
    "    data_df['y_true'] = data_df['y_true'].apply(lambda x: 1-x)\n",
    "    data_df['y_pred'] = data_df['y_pred'].apply(lambda x: 1-x)\n",
    "    sns.lineplot(ax=axes[0, index],x='opportunity', y='y_true', data=data_df, estimator=np.mean, errorbar='ci')\n",
    "    sns.lineplot(ax=axes[0, index],x='opportunity', y='y_pred', data=data_df, estimator=np.mean, errorbar='ci')\n",
    "    axes[0, index].set_ylim(0, 1)\n",
    "    axes[0, index].set_xlim(0, None)\n",
    "    axes[1,index].bar([i for i in range(opportunity)], lens_per_opportunity)\n",
    "    axes[1, index].set_ylim(0, 750)\n",
    "    axes[1, index].set_xlim(0, None)\n",
    "fig.show()"
   ]
  },
  {
   "cell_type": "markdown",
   "metadata": {
    "id": "Qr0RUHiqvKi0"
   },
   "source": [
    "### Task 2.3 Please discuss all visualizations (learning curves and bar plots) obtained with the BKT model. "
   ]
  },
  {
   "cell_type": "code",
   "execution_count": 113,
   "metadata": {},
   "outputs": [
    {
     "data": {
      "text/html": [
       "<div>\n",
       "<style scoped>\n",
       "    .dataframe tbody tr th:only-of-type {\n",
       "        vertical-align: middle;\n",
       "    }\n",
       "\n",
       "    .dataframe tbody tr th {\n",
       "        vertical-align: top;\n",
       "    }\n",
       "\n",
       "    .dataframe thead th {\n",
       "        text-align: right;\n",
       "    }\n",
       "</style>\n",
       "<table border=\"1\" class=\"dataframe\">\n",
       "  <thead>\n",
       "    <tr style=\"text-align: right;\">\n",
       "      <th></th>\n",
       "      <th>opportunity</th>\n",
       "      <th>y_true</th>\n",
       "      <th>y_pred</th>\n",
       "    </tr>\n",
       "  </thead>\n",
       "  <tbody>\n",
       "    <tr>\n",
       "      <th>0</th>\n",
       "      <td>0</td>\n",
       "      <td>0</td>\n",
       "      <td>0.62626</td>\n",
       "    </tr>\n",
       "    <tr>\n",
       "      <th>1</th>\n",
       "      <td>0</td>\n",
       "      <td>1</td>\n",
       "      <td>0.62626</td>\n",
       "    </tr>\n",
       "    <tr>\n",
       "      <th>2</th>\n",
       "      <td>0</td>\n",
       "      <td>0</td>\n",
       "      <td>0.62626</td>\n",
       "    </tr>\n",
       "    <tr>\n",
       "      <th>3</th>\n",
       "      <td>0</td>\n",
       "      <td>1</td>\n",
       "      <td>0.62626</td>\n",
       "    </tr>\n",
       "    <tr>\n",
       "      <th>4</th>\n",
       "      <td>0</td>\n",
       "      <td>0</td>\n",
       "      <td>0.62626</td>\n",
       "    </tr>\n",
       "    <tr>\n",
       "      <th>...</th>\n",
       "      <td>...</td>\n",
       "      <td>...</td>\n",
       "      <td>...</td>\n",
       "    </tr>\n",
       "    <tr>\n",
       "      <th>18270</th>\n",
       "      <td>397</td>\n",
       "      <td>0</td>\n",
       "      <td>0.99997</td>\n",
       "    </tr>\n",
       "    <tr>\n",
       "      <th>18271</th>\n",
       "      <td>398</td>\n",
       "      <td>0</td>\n",
       "      <td>0.99997</td>\n",
       "    </tr>\n",
       "    <tr>\n",
       "      <th>18272</th>\n",
       "      <td>399</td>\n",
       "      <td>0</td>\n",
       "      <td>0.99997</td>\n",
       "    </tr>\n",
       "    <tr>\n",
       "      <th>18273</th>\n",
       "      <td>400</td>\n",
       "      <td>0</td>\n",
       "      <td>0.99997</td>\n",
       "    </tr>\n",
       "    <tr>\n",
       "      <th>18274</th>\n",
       "      <td>401</td>\n",
       "      <td>0</td>\n",
       "      <td>0.99997</td>\n",
       "    </tr>\n",
       "  </tbody>\n",
       "</table>\n",
       "<p>18275 rows × 3 columns</p>\n",
       "</div>"
      ],
      "text/plain": [
       "       opportunity  y_true  y_pred\n",
       "0                0       0 0.62626\n",
       "1                0       1 0.62626\n",
       "2                0       0 0.62626\n",
       "3                0       1 0.62626\n",
       "4                0       0 0.62626\n",
       "...            ...     ...     ...\n",
       "18270          397       0 0.99997\n",
       "18271          398       0 0.99997\n",
       "18272          399       0 0.99997\n",
       "18273          400       0 0.99997\n",
       "18274          401       0 0.99997\n",
       "\n",
       "[18275 rows x 3 columns]"
      ]
     },
     "execution_count": 113,
     "metadata": {},
     "output_type": "execute_result"
    }
   ],
   "source": [
    "data_df"
   ]
  },
  {
   "cell_type": "markdown",
   "metadata": {
    "deletable": false,
    "nbgrader": {
     "cell_type": "markdown",
     "checksum": "63c78cb2b4e8cecd2ee41801648e516c",
     "grade": true,
     "grade_id": "2-3",
     "locked": false,
     "points": 5,
     "schema_version": 3,
     "solution": true,
     "task": false
    }
   },
   "source": [
    "YOUR ANSWER HERE"
   ]
  }
 ],
 "metadata": {
  "colab": {
   "collapsed_sections": [],
   "name": "Homework05-KnowledgeTracing_row_sol.ipynb",
   "provenance": []
  },
  "kernelspec": {
   "display_name": "Python",
   "language": "python",
   "name": "python3"
  },
  "language_info": {
   "codemirror_mode": {
    "name": "ipython",
    "version": 3
   },
   "file_extension": ".py",
   "mimetype": "text/x-python",
   "name": "python",
   "nbconvert_exporter": "python",
   "pygments_lexer": "ipython3",
   "version": "3.8.10"
  }
 },
 "nbformat": 4,
 "nbformat_minor": 4
}
