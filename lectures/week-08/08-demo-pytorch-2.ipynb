{
 "cells": [
  {
   "cell_type": "code",
   "execution_count": 1,
   "metadata": {},
   "outputs": [],
   "source": [
    "# Load standard imports for the rest of the notebook.\n",
    "import seaborn as sns\n",
    "import pandas as pd\n",
    "import numpy as np\n",
    "import scipy as sc\n",
    "import torch\n",
    "from pytorch_utils import SkillDataSet2, pad_collate, LSTM2, get_device, pad_collate_with_pack, LSTM\n",
    "\n",
    "# In this demo, we use a lot of SciKit-Learn functions, as imported below.\n",
    "from sklearn import feature_extraction, model_selection\n",
    "from sklearn.metrics import mean_squared_error, roc_auc_score, balanced_accuracy_score\n",
    "from sklearn.model_selection import ParameterGrid, train_test_split\n",
    "from sklearn.preprocessing import MinMaxScaler\n",
    "\n",
    "DATA_DIR = \"./../../data/\""
   ]
  },
  {
   "cell_type": "code",
   "execution_count": 2,
   "metadata": {},
   "outputs": [],
   "source": [
    "def create_iterator(data):\n",
    "    '''\n",
    "    Create an iterator to split interactions in data into train and test, with the same student not appearing in two diverse folds.\n",
    "    :param data:        Dataframe with student's interactions.\n",
    "    :return:            An iterator.\n",
    "    '''    \n",
    "    # Both passing a matrix with the raw data or just an array of indexes works\n",
    "    X = np.arange(len(data.index))\n",
    "    # Groups of interactions are identified by the user id (we do not want the same user appearing in two folds)\n",
    "    groups = data['user_id'].values \n",
    "    return model_selection.GroupShuffleSplit(n_splits=1, train_size=.8, test_size=0.2, random_state=0).split(X, groups=groups)"
   ]
  },
  {
   "cell_type": "code",
   "execution_count": 3,
   "metadata": {},
   "outputs": [
    {
     "data": {
      "text/html": [
       "<div>\n",
       "<style scoped>\n",
       "    .dataframe tbody tr th:only-of-type {\n",
       "        vertical-align: middle;\n",
       "    }\n",
       "\n",
       "    .dataframe tbody tr th {\n",
       "        vertical-align: top;\n",
       "    }\n",
       "\n",
       "    .dataframe thead th {\n",
       "        text-align: right;\n",
       "    }\n",
       "</style>\n",
       "<table border=\"1\" class=\"dataframe\">\n",
       "  <thead>\n",
       "    <tr style=\"text-align: right;\">\n",
       "      <th></th>\n",
       "      <th>user_id</th>\n",
       "      <th>order_id</th>\n",
       "      <th>skill_name</th>\n",
       "      <th>correct</th>\n",
       "    </tr>\n",
       "  </thead>\n",
       "  <tbody>\n",
       "    <tr>\n",
       "      <th>0</th>\n",
       "      <td>64525</td>\n",
       "      <td>33022537</td>\n",
       "      <td>Box and Whisker</td>\n",
       "      <td>1</td>\n",
       "    </tr>\n",
       "    <tr>\n",
       "      <th>1</th>\n",
       "      <td>64525</td>\n",
       "      <td>33022709</td>\n",
       "      <td>Box and Whisker</td>\n",
       "      <td>1</td>\n",
       "    </tr>\n",
       "    <tr>\n",
       "      <th>2</th>\n",
       "      <td>70363</td>\n",
       "      <td>35450204</td>\n",
       "      <td>Box and Whisker</td>\n",
       "      <td>0</td>\n",
       "    </tr>\n",
       "    <tr>\n",
       "      <th>3</th>\n",
       "      <td>70363</td>\n",
       "      <td>35450295</td>\n",
       "      <td>Box and Whisker</td>\n",
       "      <td>1</td>\n",
       "    </tr>\n",
       "    <tr>\n",
       "      <th>4</th>\n",
       "      <td>70363</td>\n",
       "      <td>35450311</td>\n",
       "      <td>Box and Whisker</td>\n",
       "      <td>0</td>\n",
       "    </tr>\n",
       "  </tbody>\n",
       "</table>\n",
       "</div>"
      ],
      "text/plain": [
       "   user_id  order_id       skill_name  correct\n",
       "0    64525  33022537  Box and Whisker        1\n",
       "1    64525  33022709  Box and Whisker        1\n",
       "2    70363  35450204  Box and Whisker        0\n",
       "3    70363  35450295  Box and Whisker        1\n",
       "4    70363  35450311  Box and Whisker        0"
      ]
     },
     "execution_count": 3,
     "metadata": {},
     "output_type": "execute_result"
    }
   ],
   "source": [
    "data = pd.read_csv(DATA_DIR + 'assistments.csv', low_memory=False).dropna()\n",
    "data.head()"
   ]
  },
  {
   "cell_type": "code",
   "execution_count": 4,
   "metadata": {},
   "outputs": [
    {
     "name": "stdout",
     "output_type": "stream",
     "text": [
      "Number of unique students in the dataset: 4151\n",
      "Number of unique skills in the dataset: 110\n"
     ]
    }
   ],
   "source": [
    "print(\"Number of unique students in the dataset:\", len(set(data['user_id'])))\n",
    "print(\"Number of unique skills in the dataset:\", len(set(data['skill_name'])))"
   ]
  },
  {
   "cell_type": "code",
   "execution_count": 5,
   "metadata": {},
   "outputs": [],
   "source": [
    "data['skill'], skill_codes = pd.factorize(data['skill_name'], sort=True)\n",
    "# Cross skill id with answer to form a synthetic feature\n",
    "data['skill_with_answer'] = data['skill'] * 2 + data['correct']"
   ]
  },
  {
   "cell_type": "code",
   "execution_count": 6,
   "metadata": {},
   "outputs": [
    {
     "data": {
      "text/html": [
       "<div>\n",
       "<style scoped>\n",
       "    .dataframe tbody tr th:only-of-type {\n",
       "        vertical-align: middle;\n",
       "    }\n",
       "\n",
       "    .dataframe tbody tr th {\n",
       "        vertical-align: top;\n",
       "    }\n",
       "\n",
       "    .dataframe thead th {\n",
       "        text-align: right;\n",
       "    }\n",
       "</style>\n",
       "<table border=\"1\" class=\"dataframe\">\n",
       "  <thead>\n",
       "    <tr style=\"text-align: right;\">\n",
       "      <th></th>\n",
       "      <th>user_id</th>\n",
       "      <th>order_id</th>\n",
       "      <th>skill_name</th>\n",
       "      <th>correct</th>\n",
       "      <th>skill</th>\n",
       "      <th>skill_with_answer</th>\n",
       "    </tr>\n",
       "  </thead>\n",
       "  <tbody>\n",
       "    <tr>\n",
       "      <th>0</th>\n",
       "      <td>64525</td>\n",
       "      <td>33022537</td>\n",
       "      <td>Box and Whisker</td>\n",
       "      <td>1</td>\n",
       "      <td>15</td>\n",
       "      <td>31</td>\n",
       "    </tr>\n",
       "    <tr>\n",
       "      <th>1</th>\n",
       "      <td>64525</td>\n",
       "      <td>33022709</td>\n",
       "      <td>Box and Whisker</td>\n",
       "      <td>1</td>\n",
       "      <td>15</td>\n",
       "      <td>31</td>\n",
       "    </tr>\n",
       "    <tr>\n",
       "      <th>2</th>\n",
       "      <td>70363</td>\n",
       "      <td>35450204</td>\n",
       "      <td>Box and Whisker</td>\n",
       "      <td>0</td>\n",
       "      <td>15</td>\n",
       "      <td>30</td>\n",
       "    </tr>\n",
       "    <tr>\n",
       "      <th>3</th>\n",
       "      <td>70363</td>\n",
       "      <td>35450295</td>\n",
       "      <td>Box and Whisker</td>\n",
       "      <td>1</td>\n",
       "      <td>15</td>\n",
       "      <td>31</td>\n",
       "    </tr>\n",
       "    <tr>\n",
       "      <th>4</th>\n",
       "      <td>70363</td>\n",
       "      <td>35450311</td>\n",
       "      <td>Box and Whisker</td>\n",
       "      <td>0</td>\n",
       "      <td>15</td>\n",
       "      <td>30</td>\n",
       "    </tr>\n",
       "  </tbody>\n",
       "</table>\n",
       "</div>"
      ],
      "text/plain": [
       "   user_id  order_id       skill_name  correct  skill  skill_with_answer\n",
       "0    64525  33022537  Box and Whisker        1     15                 31\n",
       "1    64525  33022709  Box and Whisker        1     15                 31\n",
       "2    70363  35450204  Box and Whisker        0     15                 30\n",
       "3    70363  35450295  Box and Whisker        1     15                 31\n",
       "4    70363  35450311  Box and Whisker        0     15                 30"
      ]
     },
     "execution_count": 6,
     "metadata": {},
     "output_type": "execute_result"
    }
   ],
   "source": [
    "data.head()"
   ]
  },
  {
   "cell_type": "code",
   "execution_count": 7,
   "metadata": {},
   "outputs": [],
   "source": [
    "train_index, test_index = next(create_iterator(data))\n",
    "\n",
    "# Split the data into training and test\n",
    "train_data, test_data = data.iloc[train_index], data.iloc[test_index]\n",
    "\n",
    "# Obtain indexes for training and validation sets\n",
    "train_val_index, val_index = next(create_iterator(train_data))\n",
    "\n",
    "# Split the training data into training and validation\n",
    "train_data, val_data = train_data.iloc[train_val_index], train_data.iloc[val_index]"
   ]
  },
  {
   "cell_type": "code",
   "execution_count": 8,
   "metadata": {},
   "outputs": [
    {
     "data": {
      "text/html": [
       "<div>\n",
       "<style scoped>\n",
       "    .dataframe tbody tr th:only-of-type {\n",
       "        vertical-align: middle;\n",
       "    }\n",
       "\n",
       "    .dataframe tbody tr th {\n",
       "        vertical-align: top;\n",
       "    }\n",
       "\n",
       "    .dataframe thead th {\n",
       "        text-align: right;\n",
       "    }\n",
       "</style>\n",
       "<table border=\"1\" class=\"dataframe\">\n",
       "  <thead>\n",
       "    <tr style=\"text-align: right;\">\n",
       "      <th></th>\n",
       "      <th>user_id</th>\n",
       "      <th>order_id</th>\n",
       "      <th>skill_name</th>\n",
       "      <th>correct</th>\n",
       "      <th>skill</th>\n",
       "      <th>skill_with_answer</th>\n",
       "    </tr>\n",
       "  </thead>\n",
       "  <tbody>\n",
       "    <tr>\n",
       "      <th>0</th>\n",
       "      <td>64525</td>\n",
       "      <td>33022537</td>\n",
       "      <td>Box and Whisker</td>\n",
       "      <td>1</td>\n",
       "      <td>15</td>\n",
       "      <td>31</td>\n",
       "    </tr>\n",
       "    <tr>\n",
       "      <th>1</th>\n",
       "      <td>64525</td>\n",
       "      <td>33022709</td>\n",
       "      <td>Box and Whisker</td>\n",
       "      <td>1</td>\n",
       "      <td>15</td>\n",
       "      <td>31</td>\n",
       "    </tr>\n",
       "    <tr>\n",
       "      <th>8</th>\n",
       "      <td>70677</td>\n",
       "      <td>33140811</td>\n",
       "      <td>Box and Whisker</td>\n",
       "      <td>1</td>\n",
       "      <td>15</td>\n",
       "      <td>31</td>\n",
       "    </tr>\n",
       "    <tr>\n",
       "      <th>9</th>\n",
       "      <td>70677</td>\n",
       "      <td>33140919</td>\n",
       "      <td>Box and Whisker</td>\n",
       "      <td>1</td>\n",
       "      <td>15</td>\n",
       "      <td>31</td>\n",
       "    </tr>\n",
       "    <tr>\n",
       "      <th>10</th>\n",
       "      <td>70695</td>\n",
       "      <td>33275447</td>\n",
       "      <td>Box and Whisker</td>\n",
       "      <td>1</td>\n",
       "      <td>15</td>\n",
       "      <td>31</td>\n",
       "    </tr>\n",
       "  </tbody>\n",
       "</table>\n",
       "</div>"
      ],
      "text/plain": [
       "    user_id  order_id       skill_name  correct  skill  skill_with_answer\n",
       "0     64525  33022537  Box and Whisker        1     15                 31\n",
       "1     64525  33022709  Box and Whisker        1     15                 31\n",
       "8     70677  33140811  Box and Whisker        1     15                 31\n",
       "9     70677  33140919  Box and Whisker        1     15                 31\n",
       "10    70695  33275447  Box and Whisker        1     15                 31"
      ]
     },
     "execution_count": 8,
     "metadata": {},
     "output_type": "execute_result"
    }
   ],
   "source": [
    "train_data.head()"
   ]
  },
  {
   "cell_type": "code",
   "execution_count": 9,
   "metadata": {},
   "outputs": [],
   "source": [
    "from torch.utils.data import Dataset, DataLoader\n",
    "\n",
    "train_dataset = SkillDataSet2(train_data, 220,110)\n",
    "val_dataset = SkillDataSet2(val_data, 220, 110)\n",
    "test_dataset = SkillDataSet2(test_data, 220, 110)"
   ]
  },
  {
   "cell_type": "code",
   "execution_count": 10,
   "metadata": {},
   "outputs": [],
   "source": [
    "train_loader = DataLoader(train_dataset, batch_size=32, shuffle=True, num_workers=6, collate_fn=pad_collate_with_pack)\n",
    "val_loader = DataLoader(val_dataset, batch_size=32, shuffle=True, num_workers=6, collate_fn=pad_collate_with_pack)\n",
    "test_loader = DataLoader(test_dataset, batch_size=32, shuffle=True, num_workers=6, collate_fn=pad_collate_with_pack)"
   ]
  },
  {
   "cell_type": "code",
   "execution_count": 11,
   "metadata": {},
   "outputs": [
    {
     "name": "stdout",
     "output_type": "stream",
     "text": [
      "The model has 80,366 trainable parameters\n"
     ]
    }
   ],
   "source": [
    "#model2 = LSTM2(220, 64, 110, 32).to(get_device())\n",
    "model = LSTM(220, 64, 110, 32).to(get_device())\n",
    "learning_rate = 0.001\n",
    "\n",
    "criterion = torch.nn.BCELoss()\n",
    "optimizer = torch.optim.Adam(model.parameters(), lr=learning_rate)\n",
    "\n",
    "num_params = np.sum(np.fromiter((p.numel() for p in model.parameters() if p.requires_grad), dtype=int))\n",
    "print(f'The model has {num_params:,} trainable parameters')"
   ]
  },
  {
   "cell_type": "code",
   "execution_count": 12,
   "metadata": {},
   "outputs": [
    {
     "data": {
      "application/vnd.jupyter.widget-view+json": {
       "model_id": "2d5e38c931ad4363a2272389efbb9cf2",
       "version_major": 2,
       "version_minor": 0
      },
      "text/plain": [
       "Batch progress:   0%|          | 0/81 [00:00<?, ?it/s]"
      ]
     },
     "metadata": {},
     "output_type": "display_data"
    },
    {
     "data": {
      "application/vnd.jupyter.widget-view+json": {
       "model_id": "a1bc7906857b42f897e0768bb1941706",
       "version_major": 2,
       "version_minor": 0
      },
      "text/plain": [
       "Validation progress:   0%|          | 0/21 [00:00<?, ?it/s]"
      ]
     },
     "metadata": {},
     "output_type": "display_data"
    },
    {
     "name": "stdout",
     "output_type": "stream",
     "text": [
      "Epoch [0/50] | Train Loss: 50.45693 | Val Loss: 12.36309\n"
     ]
    },
    {
     "data": {
      "application/vnd.jupyter.widget-view+json": {
       "model_id": "d716297e5cfc4ef699d74874b29a75cb",
       "version_major": 2,
       "version_minor": 0
      },
      "text/plain": [
       "Batch progress:   0%|          | 0/81 [00:00<?, ?it/s]"
      ]
     },
     "metadata": {},
     "output_type": "display_data"
    },
    {
     "data": {
      "application/vnd.jupyter.widget-view+json": {
       "model_id": "e6b29f5672f04effbedcd2db2d4d3d16",
       "version_major": 2,
       "version_minor": 0
      },
      "text/plain": [
       "Validation progress:   0%|          | 0/21 [00:00<?, ?it/s]"
      ]
     },
     "metadata": {},
     "output_type": "display_data"
    },
    {
     "name": "stdout",
     "output_type": "stream",
     "text": [
      "Epoch [1/50] | Train Loss: 43.26936 | Val Loss: 10.89852\n"
     ]
    },
    {
     "data": {
      "application/vnd.jupyter.widget-view+json": {
       "model_id": "d7b7bc95b6de4923b5cde45762201dc9",
       "version_major": 2,
       "version_minor": 0
      },
      "text/plain": [
       "Batch progress:   0%|          | 0/81 [00:00<?, ?it/s]"
      ]
     },
     "metadata": {},
     "output_type": "display_data"
    },
    {
     "data": {
      "application/vnd.jupyter.widget-view+json": {
       "model_id": "55587736f458492d98c2335c7c3d8ad0",
       "version_major": 2,
       "version_minor": 0
      },
      "text/plain": [
       "Validation progress:   0%|          | 0/21 [00:00<?, ?it/s]"
      ]
     },
     "metadata": {},
     "output_type": "display_data"
    },
    {
     "name": "stdout",
     "output_type": "stream",
     "text": [
      "Epoch [2/50] | Train Loss: 40.11139 | Val Loss: 10.75501\n"
     ]
    },
    {
     "data": {
      "application/vnd.jupyter.widget-view+json": {
       "model_id": "e9c339ac67634185914a7dcbb61fc406",
       "version_major": 2,
       "version_minor": 0
      },
      "text/plain": [
       "Batch progress:   0%|          | 0/81 [00:00<?, ?it/s]"
      ]
     },
     "metadata": {},
     "output_type": "display_data"
    },
    {
     "data": {
      "application/vnd.jupyter.widget-view+json": {
       "model_id": "f71239e162f141abb86bd29c2383e4d6",
       "version_major": 2,
       "version_minor": 0
      },
      "text/plain": [
       "Validation progress:   0%|          | 0/21 [00:00<?, ?it/s]"
      ]
     },
     "metadata": {},
     "output_type": "display_data"
    },
    {
     "name": "stdout",
     "output_type": "stream",
     "text": [
      "Epoch [3/50] | Train Loss: 37.86648 | Val Loss: 10.54222\n"
     ]
    },
    {
     "data": {
      "application/vnd.jupyter.widget-view+json": {
       "model_id": "85db5778f511489b8252653e803002c8",
       "version_major": 2,
       "version_minor": 0
      },
      "text/plain": [
       "Batch progress:   0%|          | 0/81 [00:00<?, ?it/s]"
      ]
     },
     "metadata": {},
     "output_type": "display_data"
    },
    {
     "data": {
      "application/vnd.jupyter.widget-view+json": {
       "model_id": "44769e22feba43198beb9ad298898b48",
       "version_major": 2,
       "version_minor": 0
      },
      "text/plain": [
       "Validation progress:   0%|          | 0/21 [00:00<?, ?it/s]"
      ]
     },
     "metadata": {},
     "output_type": "display_data"
    },
    {
     "name": "stdout",
     "output_type": "stream",
     "text": [
      "Epoch [4/50] | Train Loss: 36.94903 | Val Loss: 10.11463\n"
     ]
    },
    {
     "data": {
      "application/vnd.jupyter.widget-view+json": {
       "model_id": "0b2c65340ab94415ba8fbd2daaa2e456",
       "version_major": 2,
       "version_minor": 0
      },
      "text/plain": [
       "Batch progress:   0%|          | 0/81 [00:00<?, ?it/s]"
      ]
     },
     "metadata": {},
     "output_type": "display_data"
    },
    {
     "data": {
      "application/vnd.jupyter.widget-view+json": {
       "model_id": "98fa7a34376f45058244703a38b22bc8",
       "version_major": 2,
       "version_minor": 0
      },
      "text/plain": [
       "Validation progress:   0%|          | 0/21 [00:00<?, ?it/s]"
      ]
     },
     "metadata": {},
     "output_type": "display_data"
    },
    {
     "name": "stdout",
     "output_type": "stream",
     "text": [
      "Epoch [5/50] | Train Loss: 36.05555 | Val Loss: 9.79722\n"
     ]
    },
    {
     "data": {
      "application/vnd.jupyter.widget-view+json": {
       "model_id": "5259cc41e7ea48d792d661dedbc5c7e3",
       "version_major": 2,
       "version_minor": 0
      },
      "text/plain": [
       "Batch progress:   0%|          | 0/81 [00:00<?, ?it/s]"
      ]
     },
     "metadata": {},
     "output_type": "display_data"
    }
   ],
   "source": [
    "num_epochs = 50\n",
    "from tqdm.notebook import tqdm as visual_progress\n",
    "train_len = train_dataset.__len__() // 32 + 1\n",
    "val_len = val_dataset.__len__() // 32 + 1\n",
    "\n",
    "for epoch in range(num_epochs):\n",
    "    model.train()\n",
    "    epoch_loss = 0\n",
    "    for i, (inputs, targets, x_lens, y_lens) in visual_progress(enumerate(train_loader), total=train_len, leave=False, desc=\"Batch progress\"):\n",
    "        inputs, targets = inputs.to(get_device()), targets.to(get_device())\n",
    "\n",
    "        optimizer.zero_grad()\n",
    "        outputs = model(inputs, x_lens)\n",
    "        #print(len(outputs), np.sum(x_lens))\n",
    "        outputs = torch.stack([a for a in outputs], dim=0)\n",
    "\n",
    "        label = targets[:, :, -1]\n",
    "        skill = targets[:, :, :-1]\n",
    "\n",
    "        mask = (label != -1)\n",
    "        label = label[mask]\n",
    "        skill = skill[mask].reshape(-1, 110)\n",
    "        \n",
    "        if skill.sum(dim=1).sum() != np.sum(x_lens):\n",
    "            print(skill.sum(dim=1).sum())\n",
    "            raise Exception(\"Skill sum is not zero\")\n",
    "\n",
    "        outputs = outputs * skill\n",
    "        outputs = outputs.sum(dim=1)\n",
    "        \n",
    "        loss = criterion(outputs, label)\n",
    "        loss.backward()\n",
    "        optimizer.step()\n",
    "        epoch_loss += loss.item()\n",
    "    model.eval()\n",
    "    val_loss = 0\n",
    "    with torch.no_grad():\n",
    "        for j, (val_inputs, val_targets, x_lens, y_lens) in visual_progress(enumerate(val_loader), desc=\"Validation progress\", total=val_len, leave=False):\n",
    "            val_inputs, val_targets = val_inputs.to(get_device()), val_targets.to(get_device())\n",
    "            val_outputs = model(val_inputs, x_lens)\n",
    "            val_outputs = torch.stack([a for a in val_outputs], dim=0)\n",
    "            val_label = val_targets[:, :, -1]\n",
    "            val_skill = val_targets[:, :, :-1]\n",
    "            val_mask = (val_label != -1)\n",
    "            val_label = val_label[val_mask]\n",
    "            val_skill = val_skill[val_mask]\n",
    "            val_outputs = val_outputs * val_skill\n",
    "            val_outputs = val_outputs.sum(dim=1)\n",
    "            val_loss += criterion(val_outputs, val_label).item()\n",
    "    print(f'Epoch [{epoch}/{num_epochs}] | Train Loss: {epoch_loss:.5f} | Val Loss: {val_loss:.5f}')"
   ]
  },
  {
   "cell_type": "code",
   "execution_count": null,
   "metadata": {},
   "outputs": [],
   "source": [
    "num_epochs = 50\n",
    "from tqdm.notebook import tqdm as visual_progress\n",
    "train_len = train_dataset.__len__() // 32\n",
    "\n",
    "for epoch in range(num_epochs):\n",
    "    model.train()\n",
    "    epoch_loss = 0\n",
    "    for i, (inputs, targets, x_lens, y_lens) in visual_progress(enumerate(train_loader), \n",
    "                                                total=train_len,\n",
    "                                                leave=False,\n",
    "                                                desc=\"Batch progress\"):\n",
    "        inputs, targets = inputs.to(get_device()), targets.to(get_device())\n",
    "\n",
    "        optimizer.zero_grad()\n",
    "        # Reduce the lengths of each sequence by 1\n",
    "        outputs = model(torch.nn.utils.rnn.pack_padded_sequence(inputs, x_lens, batch_first=True, enforce_sorted=False), x_lens)\n",
    "        # create a tensor of shape (np.sum(x_lens), 110)\n",
    "        outputs = torch.cat(outputs, dim=-1)\n",
    "\n",
    "        label = targets[:, :, -1]\n",
    "        skill = targets[:, :, :-1]\n",
    "\n",
    "        # find the padded targets, which are those who have label -1\n",
    "        mask = (label != -1)\n",
    "        # apply the mask to the label and skill\n",
    "        label = label[mask]\n",
    "        skill = skill[mask]\n",
    "        \n",
    "        if skill.sum(dim=1).sum() != np.sum(x_lens):\n",
    "            print(skill.sum(dim=1).sum())\n",
    "            raise Exception(\"Skill sum is not zero\")\n",
    "\n",
    "        outputs = outputs * skill\n",
    "        outputs = outputs.sum(dim=1)\n",
    "        \n",
    "        loss = criterion(outputs, label)\n",
    "        loss.backward()\n",
    "        optimizer.step()\n",
    "        epoch_loss += loss.item()\n",
    "        \n",
    "    print(f'Epoch [{epoch}/{num_epochs}] | Train Loss: {epoch_loss:.5f}')"
   ]
  }
 ],
 "metadata": {
  "kernelspec": {
   "display_name": "base",
   "language": "python",
   "name": "python3"
  },
  "language_info": {
   "codemirror_mode": {
    "name": "ipython",
    "version": 3
   },
   "file_extension": ".py",
   "mimetype": "text/x-python",
   "name": "python",
   "nbconvert_exporter": "python",
   "pygments_lexer": "ipython3",
   "version": "3.10.10"
  },
  "orig_nbformat": 4
 },
 "nbformat": 4,
 "nbformat_minor": 2
}
