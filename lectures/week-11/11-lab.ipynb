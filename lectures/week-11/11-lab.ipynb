{
 "cells": [
  {
   "attachments": {},
   "cell_type": "markdown",
   "id": "4cb4ee27-3931-4d90-a8f1-a39470911a89",
   "metadata": {},
   "source": [
    "# Lab 11- Extended Exercises on Time Series Clustering"
   ]
  },
  {
   "attachments": {},
   "cell_type": "markdown",
   "id": "a130ff2e-9c89-48c9-ac7b-6bf6ab5a6522",
   "metadata": {},
   "source": [
    "You are the Senior Data Scientist in a learning platform called LernTime. Your data science team built a data frame in which each row contains the aggregated features per student (calculated over the first 5 weeks of interactions) and the feature `dropout` indicates whether the student stopped using the platform (1) or not (0) before week 10.\n",
    "\n",
    "The dataframe is in the file `lerntime.csv` and contains the following features:\n",
    "- `video_time`: total video time (in minutes) \n",
    "- `num_sessions` total number of sessions\n",
    "- `num_quizzes`: total number of quizzes attempts\n",
    "- `reading_time`: total theory reading time\n",
    "- `previous_knowledge`: standardized previous knowledge\n",
    "- `browser_speed`: standardized browser speed\n",
    "- `device`:  whether the student logged in using a smartphone (1) or a computer (-1)\n",
    "- `topics`: the topics covered by the user\n",
    "- `education`: current level of education (0: middle school, 1: high school, 2: bachelor, 3: master, 4: Ph.D.).\n",
    "- `dropout`: whether the student stopped using the platform (1) or not (0) before week 5."
   ]
  },
  {
   "cell_type": "code",
   "execution_count": 1,
   "id": "dc6fbaba-1a0e-445b-8fd8-c9d54bc2b2e2",
   "metadata": {},
   "outputs": [],
   "source": [
    "import pandas as pd\n",
    "\n",
    "# Data directory\n",
    "DATA_DIR = \"./../../data/\""
   ]
  },
  {
   "cell_type": "code",
   "execution_count": 2,
   "id": "222434a0-1950-4704-a312-33e9a10b1105",
   "metadata": {},
   "outputs": [],
   "source": [
    "df = pd.read_csv(f'{DATA_DIR}/lerntime_dropout.csv')"
   ]
  },
  {
   "cell_type": "code",
   "execution_count": 3,
   "id": "1700efd2-92a2-42aa-a841-ba2da6a5074a",
   "metadata": {},
   "outputs": [
    {
     "data": {
      "text/html": [
       "<div>\n",
       "<style scoped>\n",
       "    .dataframe tbody tr th:only-of-type {\n",
       "        vertical-align: middle;\n",
       "    }\n",
       "\n",
       "    .dataframe tbody tr th {\n",
       "        vertical-align: top;\n",
       "    }\n",
       "\n",
       "    .dataframe thead th {\n",
       "        text-align: right;\n",
       "    }\n",
       "</style>\n",
       "<table border=\"1\" class=\"dataframe\">\n",
       "  <thead>\n",
       "    <tr style=\"text-align: right;\">\n",
       "      <th></th>\n",
       "      <th>video_time</th>\n",
       "      <th>num_sessions</th>\n",
       "      <th>num_quizzes</th>\n",
       "      <th>reading_time</th>\n",
       "      <th>previous_knowledge</th>\n",
       "      <th>browser_speed</th>\n",
       "      <th>device</th>\n",
       "      <th>topics</th>\n",
       "      <th>education</th>\n",
       "      <th>dropout</th>\n",
       "    </tr>\n",
       "  </thead>\n",
       "  <tbody>\n",
       "    <tr>\n",
       "      <th>0</th>\n",
       "      <td>45.793303</td>\n",
       "      <td>99.0</td>\n",
       "      <td>36.0</td>\n",
       "      <td>48.186562</td>\n",
       "      <td>1.675972</td>\n",
       "      <td>-0.294704</td>\n",
       "      <td>1.0</td>\n",
       "      <td>['Locke', 'Descartes', 'Socrates', 'Kant', 'Ni...</td>\n",
       "      <td>2.0</td>\n",
       "      <td>0</td>\n",
       "    </tr>\n",
       "    <tr>\n",
       "      <th>1</th>\n",
       "      <td>51.331242</td>\n",
       "      <td>57.0</td>\n",
       "      <td>12.0</td>\n",
       "      <td>49.945810</td>\n",
       "      <td>0.700522</td>\n",
       "      <td>1.253694</td>\n",
       "      <td>1.0</td>\n",
       "      <td>['Nietzche', 'Locke', 'Confucius', 'Aristotle'...</td>\n",
       "      <td>3.0</td>\n",
       "      <td>0</td>\n",
       "    </tr>\n",
       "    <tr>\n",
       "      <th>2</th>\n",
       "      <td>87.414834</td>\n",
       "      <td>52.0</td>\n",
       "      <td>7.0</td>\n",
       "      <td>20.611978</td>\n",
       "      <td>1.836716</td>\n",
       "      <td>-1.171352</td>\n",
       "      <td>1.0</td>\n",
       "      <td>['Plato', 'Locke', 'Nietzche', 'Socrates', 'De...</td>\n",
       "      <td>4.0</td>\n",
       "      <td>0</td>\n",
       "    </tr>\n",
       "    <tr>\n",
       "      <th>3</th>\n",
       "      <td>58.556388</td>\n",
       "      <td>47.0</td>\n",
       "      <td>31.0</td>\n",
       "      <td>33.785805</td>\n",
       "      <td>0.209577</td>\n",
       "      <td>-2.043047</td>\n",
       "      <td>1.0</td>\n",
       "      <td>['Aristotle', 'Socrates', 'Plato', 'Confucius'...</td>\n",
       "      <td>3.0</td>\n",
       "      <td>0</td>\n",
       "    </tr>\n",
       "    <tr>\n",
       "      <th>4</th>\n",
       "      <td>74.822362</td>\n",
       "      <td>58.0</td>\n",
       "      <td>37.0</td>\n",
       "      <td>38.907983</td>\n",
       "      <td>0.265678</td>\n",
       "      <td>-0.754559</td>\n",
       "      <td>1.0</td>\n",
       "      <td>['Kant', 'Aristotle', 'Confucius', 'Locke', 'P...</td>\n",
       "      <td>4.0</td>\n",
       "      <td>0</td>\n",
       "    </tr>\n",
       "  </tbody>\n",
       "</table>\n",
       "</div>"
      ],
      "text/plain": [
       "   video_time  num_sessions  num_quizzes  reading_time  previous_knowledge  \\\n",
       "0   45.793303          99.0         36.0     48.186562            1.675972   \n",
       "1   51.331242          57.0         12.0     49.945810            0.700522   \n",
       "2   87.414834          52.0          7.0     20.611978            1.836716   \n",
       "3   58.556388          47.0         31.0     33.785805            0.209577   \n",
       "4   74.822362          58.0         37.0     38.907983            0.265678   \n",
       "\n",
       "   browser_speed  device                                             topics  \\\n",
       "0      -0.294704     1.0  ['Locke', 'Descartes', 'Socrates', 'Kant', 'Ni...   \n",
       "1       1.253694     1.0  ['Nietzche', 'Locke', 'Confucius', 'Aristotle'...   \n",
       "2      -1.171352     1.0  ['Plato', 'Locke', 'Nietzche', 'Socrates', 'De...   \n",
       "3      -2.043047     1.0  ['Aristotle', 'Socrates', 'Plato', 'Confucius'...   \n",
       "4      -0.754559     1.0  ['Kant', 'Aristotle', 'Confucius', 'Locke', 'P...   \n",
       "\n",
       "   education  dropout  \n",
       "0        2.0        0  \n",
       "1        3.0        0  \n",
       "2        4.0        0  \n",
       "3        3.0        0  \n",
       "4        4.0        0  "
      ]
     },
     "execution_count": 3,
     "metadata": {},
     "output_type": "execute_result"
    }
   ],
   "source": [
    "df.head()"
   ]
  },
  {
   "cell_type": "code",
   "execution_count": 4,
   "id": "387fc16b",
   "metadata": {},
   "outputs": [
    {
     "data": {
      "text/plain": [
       "300"
      ]
     },
     "execution_count": 4,
     "metadata": {},
     "output_type": "execute_result"
    }
   ],
   "source": [
    "# df row count\n",
    "df.shape[0]"
   ]
  },
  {
   "cell_type": "code",
   "execution_count": 5,
   "id": "a2f1fde4",
   "metadata": {},
   "outputs": [
    {
     "data": {
      "text/html": [
       "<div>\n",
       "<style scoped>\n",
       "    .dataframe tbody tr th:only-of-type {\n",
       "        vertical-align: middle;\n",
       "    }\n",
       "\n",
       "    .dataframe tbody tr th {\n",
       "        vertical-align: top;\n",
       "    }\n",
       "\n",
       "    .dataframe thead th {\n",
       "        text-align: right;\n",
       "    }\n",
       "</style>\n",
       "<table border=\"1\" class=\"dataframe\">\n",
       "  <thead>\n",
       "    <tr style=\"text-align: right;\">\n",
       "      <th></th>\n",
       "      <th>Aristotle</th>\n",
       "      <th>Confucius</th>\n",
       "      <th>Descartes</th>\n",
       "      <th>Kant</th>\n",
       "      <th>Locke</th>\n",
       "      <th>Nietzche</th>\n",
       "      <th>Plato</th>\n",
       "      <th>Socrates</th>\n",
       "    </tr>\n",
       "  </thead>\n",
       "  <tbody>\n",
       "    <tr>\n",
       "      <th>0</th>\n",
       "      <td>1</td>\n",
       "      <td>1</td>\n",
       "      <td>1</td>\n",
       "      <td>1</td>\n",
       "      <td>1</td>\n",
       "      <td>1</td>\n",
       "      <td>1</td>\n",
       "      <td>1</td>\n",
       "    </tr>\n",
       "    <tr>\n",
       "      <th>1</th>\n",
       "      <td>1</td>\n",
       "      <td>1</td>\n",
       "      <td>1</td>\n",
       "      <td>0</td>\n",
       "      <td>1</td>\n",
       "      <td>1</td>\n",
       "      <td>1</td>\n",
       "      <td>1</td>\n",
       "    </tr>\n",
       "    <tr>\n",
       "      <th>2</th>\n",
       "      <td>1</td>\n",
       "      <td>1</td>\n",
       "      <td>1</td>\n",
       "      <td>0</td>\n",
       "      <td>1</td>\n",
       "      <td>1</td>\n",
       "      <td>1</td>\n",
       "      <td>1</td>\n",
       "    </tr>\n",
       "    <tr>\n",
       "      <th>3</th>\n",
       "      <td>1</td>\n",
       "      <td>1</td>\n",
       "      <td>0</td>\n",
       "      <td>1</td>\n",
       "      <td>0</td>\n",
       "      <td>1</td>\n",
       "      <td>1</td>\n",
       "      <td>1</td>\n",
       "    </tr>\n",
       "    <tr>\n",
       "      <th>4</th>\n",
       "      <td>1</td>\n",
       "      <td>1</td>\n",
       "      <td>0</td>\n",
       "      <td>1</td>\n",
       "      <td>1</td>\n",
       "      <td>1</td>\n",
       "      <td>1</td>\n",
       "      <td>1</td>\n",
       "    </tr>\n",
       "    <tr>\n",
       "      <th>...</th>\n",
       "      <td>...</td>\n",
       "      <td>...</td>\n",
       "      <td>...</td>\n",
       "      <td>...</td>\n",
       "      <td>...</td>\n",
       "      <td>...</td>\n",
       "      <td>...</td>\n",
       "      <td>...</td>\n",
       "    </tr>\n",
       "    <tr>\n",
       "      <th>295</th>\n",
       "      <td>1</td>\n",
       "      <td>1</td>\n",
       "      <td>0</td>\n",
       "      <td>1</td>\n",
       "      <td>0</td>\n",
       "      <td>1</td>\n",
       "      <td>1</td>\n",
       "      <td>0</td>\n",
       "    </tr>\n",
       "    <tr>\n",
       "      <th>296</th>\n",
       "      <td>1</td>\n",
       "      <td>1</td>\n",
       "      <td>1</td>\n",
       "      <td>1</td>\n",
       "      <td>1</td>\n",
       "      <td>1</td>\n",
       "      <td>1</td>\n",
       "      <td>1</td>\n",
       "    </tr>\n",
       "    <tr>\n",
       "      <th>297</th>\n",
       "      <td>1</td>\n",
       "      <td>1</td>\n",
       "      <td>1</td>\n",
       "      <td>0</td>\n",
       "      <td>0</td>\n",
       "      <td>1</td>\n",
       "      <td>1</td>\n",
       "      <td>1</td>\n",
       "    </tr>\n",
       "    <tr>\n",
       "      <th>298</th>\n",
       "      <td>1</td>\n",
       "      <td>0</td>\n",
       "      <td>0</td>\n",
       "      <td>1</td>\n",
       "      <td>1</td>\n",
       "      <td>0</td>\n",
       "      <td>1</td>\n",
       "      <td>1</td>\n",
       "    </tr>\n",
       "    <tr>\n",
       "      <th>299</th>\n",
       "      <td>1</td>\n",
       "      <td>1</td>\n",
       "      <td>0</td>\n",
       "      <td>1</td>\n",
       "      <td>1</td>\n",
       "      <td>1</td>\n",
       "      <td>1</td>\n",
       "      <td>1</td>\n",
       "    </tr>\n",
       "  </tbody>\n",
       "</table>\n",
       "<p>300 rows × 8 columns</p>\n",
       "</div>"
      ],
      "text/plain": [
       "     Aristotle  Confucius  Descartes  Kant  Locke  Nietzche  Plato  Socrates\n",
       "0            1          1          1     1      1         1      1         1\n",
       "1            1          1          1     0      1         1      1         1\n",
       "2            1          1          1     0      1         1      1         1\n",
       "3            1          1          0     1      0         1      1         1\n",
       "4            1          1          0     1      1         1      1         1\n",
       "..         ...        ...        ...   ...    ...       ...    ...       ...\n",
       "295          1          1          0     1      0         1      1         0\n",
       "296          1          1          1     1      1         1      1         1\n",
       "297          1          1          1     0      0         1      1         1\n",
       "298          1          0          0     1      1         0      1         1\n",
       "299          1          1          0     1      1         1      1         1\n",
       "\n",
       "[300 rows x 8 columns]"
      ]
     },
     "execution_count": 5,
     "metadata": {},
     "output_type": "execute_result"
    }
   ],
   "source": [
    "from sklearn.preprocessing import MultiLabelBinarizer\n",
    "\n",
    "mlb = MultiLabelBinarizer()\n",
    "pd.DataFrame(\n",
    "    mlb.fit_transform(df['topics'].apply(lambda x: eval(x)).to_numpy()),\n",
    "    index=df.index,\n",
    "    columns=mlb.classes_)"
   ]
  },
  {
   "attachments": {},
   "cell_type": "markdown",
   "id": "e4a7f01b-87fb-4cdd-bb4a-902e37b28040",
   "metadata": {},
   "source": [
    "You decide to explore the different type of users. You want to use your knowledge from your ML4BD course and decide to cluster using Spectral Clustering. \n",
    "In the course, you learnt different ways of constructing the similarity graph, yielding the adjacency matrix serving as an input to the Spectral Clustering. \n",
    "Based on your in-depth exploration of the data, you decide to construct the similarity graph as a  *k-nearest neighbor graph*.\n",
    "\n",
    "Your tasks are to:\n",
    "\n",
    "a) Write a function to compute the k-nearest neighbor graph.\n",
    "\n",
    "b) Cluster the users using Spectral Clustering and your k-nearest neighbor graph function (use 4 neighbors). Use only the features *reading_time* and *topics*. You can assume that optimal number of clusters is 2.\n"
   ]
  },
  {
   "attachments": {},
   "cell_type": "markdown",
   "id": "9942acd8-7cff-4367-8497-e232c2b55d38",
   "metadata": {},
   "source": [
    "## a) Computation of the k-nearest neighbor graph \n",
    "Unfortunately, there is no k-nearest neighbor graph implementation available in scikit-learn and you therefore have to implement the function yourself.\n",
    "\n",
    "The function `'k_nearest_neighbor_graph'` takes a similarity matrix `S` as well as the number of neighbors `k` as an input an returns the adjacency matrix `W`.\n",
    "\n",
    "Note that we will not evaluate the coding efficiency of your function. "
   ]
  },
  {
   "cell_type": "code",
   "execution_count": 22,
   "id": "815a86bf-c8ec-4e71-a39e-df78e45bce89",
   "metadata": {},
   "outputs": [],
   "source": [
    "import numpy as np\n",
    "\n",
    "\n",
    "def k_nearest_neighbor_graph_aybars(S, k):\n",
    "    # S: similarity matrix\n",
    "    # k: number of neighbors\n",
    "    np_S = np.array(S)\n",
    "    # For each entry in S, keep the k+1 largest values and set the rest to 0\n",
    "    # we do k+1 because the largest value will be the entry itself and we don't want to consider it as a neighbor\n",
    "    indexes = np.argsort(np_S, axis=1)[:, -(k+1):]\n",
    "    #print(\"Indexes shape: \", indexes.shape) # For each row we get the indexes of the k+1 largest values\n",
    "    # To access a specific row,col of a numpy array we can use the following syntax:\n",
    "    # np_S[row, col]\n",
    "    # To access multiple elements per row we can use fancy indexing:\n",
    "    # np_S[row, [col1, col2, col3]]\n",
    "    # What we want to achieve is to access indexes[0] for row 0, indexes[1] for row 1, etc.\n",
    "    # To do this we can use:\n",
    "    # np.arange(np_S.shape[0])[:, None]\n",
    "    # This will create a 2D array with the shape (n, 1), and indxes has shape (n, k+1)\n",
    "    #print(\"arange shape: \", np.arange(np_S.shape[0])[:, None].shape)\n",
    "    W = np.zeros_like(S)\n",
    "    W[np.arange(np_S.shape[0])[:, None], indexes] = 1\n",
    "    # Make it symmetric\n",
    "    W = np.maximum(W, W.T)\n",
    "    W = W*S\n",
    "    return W"
   ]
  },
  {
   "cell_type": "code",
   "execution_count": 23,
   "id": "913f1024",
   "metadata": {},
   "outputs": [],
   "source": [
    "from sklearn.neighbors import kneighbors_graph\n",
    "def k_nearest_neighbor_graph(S, k):\n",
    "    # S: similarity matrix\n",
    "    # k: number of neighbors\n",
    "   \n",
    "    S = np.array(S)\n",
    "    # k+1 because include_self. -S to pass from similarity to distance, +translation to avoid negative values\n",
    "    G = kneighbors_graph(-S + S.max(), k+1, metric='precomputed', mode='connectivity', include_self=True).toarray()\n",
    "    W = (G + G.T).astype(bool) * S\n",
    "    \n",
    "    return W"
   ]
  },
  {
   "cell_type": "code",
   "execution_count": 25,
   "id": "a0216f8a",
   "metadata": {},
   "outputs": [],
   "source": [
    "def mutual_k_neighbor_graph(S,k):\n",
    "    \"\"\"\n",
    "        This function computes the adjacency matrix from a similarity matrix S\n",
    "        using the mutual k-nearest neighbor graph algorithm. Meaning a node i is\n",
    "        connected to node j if node j is among the k nearest neighbors of node i\n",
    "        and node i is among the k nearest neighbors of node j.\n",
    "\n",
    "        Parameters\n",
    "        ----------\n",
    "        S: similarity matrix\n",
    "        k: number of neighbors\n",
    "\n",
    "        Returns\n",
    "        -------\n",
    "        W: adjacency matrix\n",
    "    \"\"\"\n",
    "    S = np.array(S)\n",
    "    # k+1 because include_self. -S to pass from similarity to distance, +translation to avoid negative values\n",
    "    G = kneighbors_graph(-S + S.max(), k+1, metric='precomputed', mode='connectivity', include_self=True).toarray()\n",
    "    W = (G * G.T).astype(bool) * S\n",
    "    return W"
   ]
  },
  {
   "cell_type": "code",
   "execution_count": 31,
   "id": "7546ca50",
   "metadata": {},
   "outputs": [],
   "source": [
    "k_to_test = [1,2,3,4,5,6,7,8,9]\n",
    "# Please run this cell for evaluation purposes\n",
    "S_matrices = [np.random.rand(10,10), np.random.rand(100,100), np.random.rand(1000,1000)]\n",
    "\n",
    "error_found = False\n",
    "for k in k_to_test:\n",
    "    if error_found:\n",
    "        break\n",
    "    for S in S_matrices:\n",
    "        try:\n",
    "            assert(np.all(np.isclose(k_nearest_neighbor_graph(S.copy(), k), k_nearest_neighbor_graph_aybars(S.copy(), k))))\n",
    "        except:\n",
    "            print(\"Error for aybars func for k=\", k, \" and S.shape=\", S.shape)\n",
    "            print(\"aybars: \", k_nearest_neighbor_graph_aybars(S, k))\n",
    "            print(\"_____\"*30)\n",
    "            print(\"class: \", k_nearest_neighbor_graph(S, k))\n",
    "            error_found = True\n",
    "            break"
   ]
  },
  {
   "cell_type": "code",
   "execution_count": 19,
   "id": "0ef5ad28-7a1b-4791-a7f8-d25c2205c77f",
   "metadata": {},
   "outputs": [
    {
     "name": "stdout",
     "output_type": "stream",
     "text": [
      "[[1.  0.2 0.7 0. ]\n",
      " [0.2 1.  0.8 0.4]\n",
      " [0.7 0.8 1.  0.6]\n",
      " [0.  0.4 0.6 1. ]]\n"
     ]
    }
   ],
   "source": [
    "# What np.argsort does is that it returns the indexes of the sorted array\n",
    "# i.e if we have [1, 3, 2] it will return [0, 2, 1]. Which means that the smallest element is at index 0, the second smallest at index 2 and the largest at index 1\n",
    "# If we get the last k elements of this array, we get THE INDEXES of k largest elements of the original array\n",
    "\n",
    "k = 2\n",
    "# Please run this cell for evaluation purposes\n",
    "S = [\n",
    "    [1, 0.2, 0.7, 0.1],\n",
    "    [0.2, 1, 0.8, 0.4],\n",
    "    [0.7, 0.8, 1, 0.6],\n",
    "    [0.1, 0.4, 0.6, 1]\n",
    "]\n",
    "\n",
    "a = k_nearest_neighbor_graph(S, k)\n",
    "print(a)"
   ]
  },
  {
   "cell_type": "code",
   "execution_count": 20,
   "id": "065b4f9c-1231-4e9e-a744-0e45a8f408bb",
   "metadata": {},
   "outputs": [
    {
     "name": "stdout",
     "output_type": "stream",
     "text": [
      "[[1.  0.3 0.  0.1]\n",
      " [0.3 1.  0.8 0.9]\n",
      " [0.  0.8 1.  0.6]\n",
      " [0.1 0.9 0.6 1. ]]\n"
     ]
    }
   ],
   "source": [
    "# Please run this cell for evaluation purposes\n",
    "k = 2\n",
    "S = [[1, 0.3, 0.01, 0.1],\n",
    "     [0.3, 1, 0.8, 0.9],\n",
    "     [0.01, 0.8, 1, 0.6],\n",
    "     [0.1, 0.9, 0.6, 1]]\n",
    "a = k_nearest_neighbor_graph(S, k)\n",
    "print(a)"
   ]
  },
  {
   "attachments": {},
   "cell_type": "markdown",
   "id": "9964b9b7-356e-474f-b0b5-8d0b1871af1a",
   "metadata": {},
   "source": [
    "## b) Spectral Clustering \n",
    "Perform a spectral clustering using a k-nearest neighbor graph (with 4 neighbors). \n",
    "\n",
    "Use the two features `reading_time` and `topics` only. \n",
    "\n",
    "If you did not manage to solve task a), use a *fully connected graph* as similarity graph to obtain the adjacency matrix `W`. \n",
    "\n",
    "You can assume that the optimal number of clusters is 2. \n",
    "\n",
    "Print the obtained cluster labels. "
   ]
  },
  {
   "cell_type": "code",
   "execution_count": 21,
   "id": "73a95f8e",
   "metadata": {},
   "outputs": [],
   "source": [
    "from sklearn.manifold import spectral_embedding\n",
    "from sklearn.cluster import KMeans\n",
    "from scipy import linalg\n",
    "from scipy.sparse.csgraph import laplacian\n",
    "\n",
    "def spectral_clustering(W, n_clusters, random_state=111):\n",
    "    \"\"\"\n",
    "    Spectral clustering\n",
    "    :param W: np array of adjacency matrix\n",
    "    :param n_clusters: number of clusters\n",
    "    :param normed: normalized or unnormalized Laplacian\n",
    "    :return: tuple (kmeans, proj_X, eigenvals_sorted)\n",
    "        WHERE\n",
    "        kmeans scikit learn clustering object\n",
    "        proj_X is np array of transformed data points\n",
    "        eigenvals_sorted is np array with ordered eigenvalues \n",
    "        \n",
    "    \"\"\"\n",
    "    # Compute eigengap heuristic\n",
    "    L = laplacian(W, normed=True)\n",
    "    eigenvals, _ = linalg.eig(L)\n",
    "    eigenvals = np.real(eigenvals)\n",
    "    eigenvals_sorted = eigenvals[np.argsort(eigenvals)]\n",
    "\n",
    "    # Create embedding\n",
    "    random_state = np.random.RandomState(random_state)\n",
    "    proj_X = spectral_embedding(W, n_components=n_clusters,\n",
    "                              random_state=random_state,\n",
    "                              drop_first=False)\n",
    "\n",
    "    # Cluster the points using k-means clustering\n",
    "    kmeans = KMeans(n_clusters=n_clusters, random_state = random_state)\n",
    "    kmeans.fit(proj_X)\n",
    "\n",
    "    return kmeans, proj_X, eigenvals_sorted"
   ]
  },
  {
   "cell_type": "code",
   "execution_count": 22,
   "id": "57833bc1",
   "metadata": {},
   "outputs": [],
   "source": [
    "reading_time = df['reading_time'].to_numpy().reshape(-1,1)\n",
    "topics = df['topics'].apply(lambda x: eval(x)).to_numpy()"
   ]
  },
  {
   "cell_type": "code",
   "execution_count": 23,
   "id": "5a934b65",
   "metadata": {},
   "outputs": [
    {
     "name": "stdout",
     "output_type": "stream",
     "text": [
      "8\n",
      "300\n",
      "(300, 1)\n"
     ]
    }
   ],
   "source": [
    "topics_unique = set([item for sublist in topics for item in sublist])\n",
    "print(len(topics_unique))\n",
    "print(len(topics))\n",
    "print(reading_time.shape)"
   ]
  },
  {
   "cell_type": "code",
   "execution_count": 24,
   "id": "97cb6562",
   "metadata": {},
   "outputs": [
    {
     "name": "stdout",
     "output_type": "stream",
     "text": [
      "(300, 8)\n"
     ]
    }
   ],
   "source": [
    "# do one hot encoding for topics\n",
    "from sklearn.preprocessing import MultiLabelBinarizer\n",
    "mlb = MultiLabelBinarizer()\n",
    "topics_one_hot = mlb.fit_transform(topics)\n",
    "print(topics_one_hot.shape)"
   ]
  },
  {
   "cell_type": "code",
   "execution_count": 25,
   "id": "6afd8f93",
   "metadata": {},
   "outputs": [
    {
     "data": {
      "text/plain": [
       "array([1, 1, 1, 0, 1, 1, 1, 1])"
      ]
     },
     "execution_count": 25,
     "metadata": {},
     "output_type": "execute_result"
    }
   ],
   "source": [
    "topics_one_hot[1]"
   ]
  },
  {
   "cell_type": "code",
   "execution_count": 26,
   "id": "199302a7",
   "metadata": {},
   "outputs": [
    {
     "name": "stdout",
     "output_type": "stream",
     "text": [
      "(300, 300)\n"
     ]
    }
   ],
   "source": [
    "# Reading time similarity matrix we can use Gaussian kernel use pairwise_kernels from sklearn.metrics.pairwise\n",
    "from sklearn.metrics.pairwise import pairwise_kernels\n",
    "reading_similarity = pairwise_kernels(reading_time, metric='rbf')\n",
    "print(reading_similarity.shape)"
   ]
  },
  {
   "cell_type": "code",
   "execution_count": 27,
   "id": "a9d9b55a",
   "metadata": {},
   "outputs": [
    {
     "data": {
      "text/plain": [
       "array([[1.00000000e+000, 4.52770721e-002, 0.00000000e+000, ...,\n",
       "        3.15125400e-034, 5.24800016e-162, 0.00000000e+000],\n",
       "       [4.52770721e-002, 1.00000000e+000, 0.00000000e+000, ...,\n",
       "        3.76060768e-022, 6.64921189e-134, 0.00000000e+000],\n",
       "       [0.00000000e+000, 0.00000000e+000, 1.00000000e+000, ...,\n",
       "        0.00000000e+000, 0.00000000e+000, 7.88239994e-001],\n",
       "       ...,\n",
       "       [3.15125400e-034, 3.76060768e-022, 0.00000000e+000, ...,\n",
       "        1.00000000e+000, 1.69972568e-048, 0.00000000e+000],\n",
       "       [5.24800016e-162, 6.64921189e-134, 0.00000000e+000, ...,\n",
       "        1.69972568e-048, 1.00000000e+000, 0.00000000e+000],\n",
       "       [0.00000000e+000, 0.00000000e+000, 7.88239994e-001, ...,\n",
       "        0.00000000e+000, 0.00000000e+000, 1.00000000e+000]])"
      ]
     },
     "execution_count": 27,
     "metadata": {},
     "output_type": "execute_result"
    }
   ],
   "source": [
    "reading_similarity"
   ]
  },
  {
   "cell_type": "code",
   "execution_count": 28,
   "id": "795b1022",
   "metadata": {},
   "outputs": [],
   "source": [
    "topics_from_class = df[['topics']].apply(lambda x: set(eval(x.topics)), axis=1).to_numpy().reshape(-1, 1)"
   ]
  },
  {
   "cell_type": "code",
   "execution_count": 29,
   "id": "e915ca60",
   "metadata": {},
   "outputs": [
    {
     "data": {
      "text/plain": [
       "array([[{'Locke', 'Descartes', 'Confucius', 'Kant', 'Nietzche', 'Socrates', 'Aristotle', 'Plato'}],\n",
       "       [{'Locke', 'Confucius', 'Descartes', 'Nietzche', 'Socrates', 'Aristotle', 'Plato'}],\n",
       "       [{'Locke', 'Descartes', 'Confucius', 'Nietzche', 'Socrates', 'Aristotle', 'Plato'}],\n",
       "       [{'Confucius', 'Kant', 'Nietzche', 'Socrates', 'Aristotle', 'Plato'}],\n",
       "       [{'Confucius', 'Locke', 'Kant', 'Nietzche', 'Socrates', 'Aristotle', 'Plato'}],\n",
       "       [{'Locke', 'Descartes', 'Confucius', 'Kant', 'Nietzche', 'Socrates', 'Aristotle', 'Plato'}],\n",
       "       [{'Locke', 'Descartes', 'Confucius', 'Kant', 'Nietzche', 'Socrates', 'Aristotle', 'Plato'}],\n",
       "       [{'Confucius', 'Descartes', 'Locke', 'Kant', 'Nietzche', 'Socrates', 'Aristotle', 'Plato'}],\n",
       "       [{'Confucius', 'Descartes', 'Locke', 'Kant', 'Socrates', 'Aristotle', 'Plato'}],\n",
       "       [{'Confucius', 'Descartes', 'Locke', 'Kant', 'Nietzche', 'Socrates', 'Aristotle', 'Plato'}],\n",
       "       [{'Confucius', 'Locke', 'Kant', 'Socrates', 'Aristotle', 'Plato'}],\n",
       "       [{'Confucius', 'Locke', 'Descartes', 'Kant', 'Nietzche', 'Socrates', 'Aristotle', 'Plato'}],\n",
       "       [{'Confucius', 'Descartes', 'Locke', 'Kant', 'Nietzche', 'Socrates', 'Plato'}],\n",
       "       [{'Confucius', 'Descartes', 'Kant', 'Nietzche', 'Socrates', 'Aristotle', 'Plato'}],\n",
       "       [{'Confucius', 'Descartes', 'Locke', 'Kant', 'Nietzche', 'Socrates', 'Aristotle'}],\n",
       "       [{'Confucius', 'Descartes', 'Locke', 'Kant', 'Nietzche', 'Aristotle', 'Plato'}],\n",
       "       [{'Confucius', 'Locke', 'Descartes', 'Kant', 'Nietzche', 'Socrates', 'Aristotle', 'Plato'}],\n",
       "       [{'Locke', 'Descartes', 'Confucius', 'Kant', 'Nietzche', 'Socrates', 'Aristotle', 'Plato'}],\n",
       "       [{'Confucius', 'Locke', 'Kant', 'Socrates', 'Aristotle', 'Plato'}],\n",
       "       [{'Locke', 'Descartes', 'Confucius', 'Kant', 'Nietzche', 'Aristotle'}],\n",
       "       [{'Confucius', 'Descartes', 'Locke', 'Kant', 'Aristotle', 'Plato'}],\n",
       "       [{'Confucius', 'Descartes', 'Locke', 'Kant', 'Socrates', 'Aristotle', 'Plato'}],\n",
       "       [{'Confucius', 'Locke', 'Kant', 'Socrates', 'Plato'}],\n",
       "       [{'Confucius', 'Locke', 'Kant', 'Nietzche', 'Socrates', 'Plato'}],\n",
       "       [{'Locke', 'Descartes', 'Confucius', 'Kant', 'Socrates', 'Aristotle', 'Plato'}],\n",
       "       [{'Confucius', 'Descartes', 'Kant', 'Nietzche', 'Socrates', 'Aristotle', 'Plato'}],\n",
       "       [{'Confucius', 'Descartes', 'Kant', 'Socrates', 'Aristotle', 'Plato'}],\n",
       "       [{'Locke', 'Descartes', 'Kant', 'Nietzche', 'Socrates', 'Aristotle', 'Plato'}],\n",
       "       [{'Confucius', 'Descartes', 'Kant', 'Nietzche', 'Socrates', 'Plato'}],\n",
       "       [{'Descartes', 'Kant', 'Nietzche', 'Socrates', 'Aristotle', 'Plato'}],\n",
       "       [{'Confucius', 'Descartes', 'Kant', 'Nietzche', 'Socrates', 'Aristotle'}],\n",
       "       [{'Locke', 'Descartes', 'Confucius', 'Kant', 'Nietzche', 'Socrates', 'Aristotle', 'Plato'}],\n",
       "       [{'Locke', 'Confucius', 'Nietzche', 'Socrates', 'Aristotle'}],\n",
       "       [{'Confucius', 'Descartes', 'Kant', 'Nietzche', 'Socrates', 'Aristotle', 'Plato'}],\n",
       "       [{'Confucius', 'Locke', 'Descartes', 'Kant', 'Nietzche', 'Socrates', 'Aristotle', 'Plato'}],\n",
       "       [{'Locke', 'Descartes', 'Confucius', 'Socrates', 'Aristotle', 'Plato'}],\n",
       "       [{'Confucius', 'Descartes', 'Nietzche', 'Socrates', 'Aristotle', 'Plato'}],\n",
       "       [{'Confucius', 'Descartes', 'Kant', 'Nietzche', 'Socrates', 'Plato'}],\n",
       "       [{'Confucius', 'Locke', 'Kant', 'Nietzche', 'Socrates', 'Aristotle', 'Plato'}],\n",
       "       [{'Confucius', 'Descartes', 'Locke', 'Kant', 'Nietzche', 'Socrates', 'Aristotle'}],\n",
       "       [{'Confucius', 'Descartes', 'Locke', 'Kant', 'Aristotle', 'Plato'}],\n",
       "       [{'Confucius', 'Descartes', 'Locke', 'Kant', 'Socrates', 'Aristotle', 'Plato'}],\n",
       "       [{'Confucius', 'Descartes', 'Locke', 'Kant', 'Socrates', 'Aristotle', 'Plato'}],\n",
       "       [{'Locke', 'Confucius', 'Descartes', 'Kant', 'Nietzche', 'Socrates', 'Aristotle'}],\n",
       "       [{'Locke', 'Descartes', 'Confucius', 'Nietzche', 'Socrates', 'Plato'}],\n",
       "       [{'Confucius', 'Descartes', 'Kant', 'Nietzche', 'Socrates', 'Aristotle', 'Plato'}],\n",
       "       [{'Locke', 'Descartes', 'Nietzche', 'Socrates', 'Aristotle', 'Plato'}],\n",
       "       [{'Confucius', 'Descartes', 'Kant', 'Nietzche', 'Aristotle', 'Plato'}],\n",
       "       [{'Confucius', 'Locke', 'Descartes', 'Kant', 'Nietzche', 'Socrates', 'Aristotle', 'Plato'}],\n",
       "       [{'Locke', 'Confucius', 'Descartes', 'Kant', 'Nietzche', 'Socrates', 'Aristotle', 'Plato'}],\n",
       "       [{'Confucius', 'Locke', 'Kant', 'Nietzche', 'Socrates', 'Aristotle', 'Plato'}],\n",
       "       [{'Locke', 'Descartes', 'Confucius', 'Kant', 'Nietzche', 'Socrates', 'Aristotle', 'Plato'}],\n",
       "       [{'Confucius', 'Locke', 'Descartes', 'Kant', 'Nietzche', 'Socrates', 'Aristotle', 'Plato'}],\n",
       "       [{'Confucius', 'Descartes', 'Locke', 'Kant', 'Nietzche', 'Socrates', 'Plato'}],\n",
       "       [{'Confucius', 'Descartes', 'Locke', 'Kant', 'Nietzche', 'Socrates', 'Plato'}],\n",
       "       [{'Confucius', 'Descartes', 'Kant', 'Nietzche', 'Socrates', 'Aristotle', 'Plato'}],\n",
       "       [{'Confucius', 'Descartes', 'Locke', 'Kant', 'Socrates', 'Plato'}],\n",
       "       [{'Locke', 'Descartes', 'Confucius', 'Kant', 'Socrates', 'Aristotle', 'Plato'}],\n",
       "       [{'Confucius', 'Descartes', 'Locke', 'Kant', 'Nietzche', 'Socrates', 'Aristotle', 'Plato'}],\n",
       "       [{'Locke', 'Descartes', 'Nietzche', 'Aristotle', 'Plato'}],\n",
       "       [{'Locke', 'Confucius', 'Kant', 'Nietzche', 'Aristotle', 'Plato'}],\n",
       "       [{'Locke', 'Descartes', 'Confucius', 'Nietzche', 'Socrates', 'Aristotle', 'Plato'}],\n",
       "       [{'Confucius', 'Descartes', 'Locke', 'Kant', 'Nietzche', 'Socrates', 'Aristotle', 'Plato'}],\n",
       "       [{'Confucius', 'Descartes', 'Locke', 'Kant', 'Nietzche', 'Socrates', 'Aristotle', 'Plato'}],\n",
       "       [{'Confucius', 'Locke', 'Descartes', 'Kant', 'Nietzche', 'Socrates', 'Aristotle', 'Plato'}],\n",
       "       [{'Locke', 'Confucius', 'Descartes', 'Kant', 'Nietzche', 'Socrates', 'Aristotle', 'Plato'}],\n",
       "       [{'Confucius', 'Locke', 'Kant', 'Nietzche', 'Socrates', 'Aristotle', 'Plato'}],\n",
       "       [{'Locke', 'Confucius', 'Descartes', 'Kant', 'Nietzche', 'Socrates', 'Aristotle'}],\n",
       "       [{'Confucius', 'Locke', 'Kant', 'Nietzche', 'Aristotle', 'Plato'}],\n",
       "       [{'Confucius', 'Descartes', 'Locke', 'Kant', 'Nietzche', 'Socrates', 'Aristotle', 'Plato'}],\n",
       "       [{'Locke', 'Descartes', 'Kant', 'Nietzche', 'Socrates', 'Aristotle', 'Plato'}],\n",
       "       [{'Confucius', 'Descartes', 'Locke', 'Kant', 'Nietzche', 'Socrates', 'Plato'}],\n",
       "       [{'Locke', 'Descartes', 'Confucius', 'Kant', 'Socrates', 'Aristotle', 'Plato'}],\n",
       "       [{'Locke', 'Descartes', 'Confucius', 'Kant', 'Nietzche', 'Socrates', 'Aristotle', 'Plato'}],\n",
       "       [{'Locke', 'Confucius', 'Descartes', 'Kant', 'Nietzche', 'Socrates', 'Aristotle'}],\n",
       "       [{'Confucius', 'Descartes', 'Locke', 'Kant', 'Nietzche', 'Socrates', 'Aristotle', 'Plato'}],\n",
       "       [{'Confucius', 'Descartes', 'Locke', 'Kant', 'Nietzche', 'Aristotle'}],\n",
       "       [{'Confucius', 'Descartes', 'Kant', 'Nietzche', 'Socrates', 'Aristotle', 'Plato'}],\n",
       "       [{'Locke', 'Descartes', 'Kant', 'Nietzche', 'Socrates', 'Aristotle', 'Plato'}],\n",
       "       [{'Locke', 'Descartes', 'Confucius', 'Kant', 'Nietzche', 'Socrates', 'Aristotle', 'Plato'}],\n",
       "       [{'Confucius', 'Locke', 'Descartes', 'Kant', 'Nietzche', 'Socrates', 'Aristotle', 'Plato'}],\n",
       "       [{'Confucius', 'Descartes', 'Locke', 'Kant', 'Socrates', 'Aristotle', 'Plato'}],\n",
       "       [{'Locke', 'Descartes', 'Confucius', 'Kant', 'Nietzche', 'Socrates', 'Aristotle', 'Plato'}],\n",
       "       [{'Confucius', 'Descartes', 'Locke', 'Kant', 'Nietzche', 'Socrates', 'Aristotle', 'Plato'}],\n",
       "       [{'Confucius', 'Descartes', 'Kant', 'Nietzche', 'Socrates', 'Aristotle', 'Plato'}],\n",
       "       [{'Confucius', 'Locke', 'Kant', 'Nietzche', 'Socrates', 'Aristotle', 'Plato'}],\n",
       "       [{'Locke', 'Descartes', 'Confucius', 'Nietzche', 'Aristotle', 'Plato'}],\n",
       "       [{'Confucius', 'Descartes', 'Locke', 'Kant', 'Socrates', 'Plato'}],\n",
       "       [{'Confucius', 'Descartes', 'Locke', 'Socrates', 'Aristotle', 'Plato'}],\n",
       "       [{'Confucius', 'Locke', 'Nietzche', 'Socrates', 'Aristotle', 'Plato'}],\n",
       "       [{'Confucius', 'Descartes', 'Locke', 'Kant', 'Nietzche', 'Socrates', 'Aristotle', 'Plato'}],\n",
       "       [{'Confucius', 'Locke', 'Kant', 'Nietzche', 'Plato'}],\n",
       "       [{'Confucius', 'Descartes', 'Locke', 'Kant', 'Nietzche', 'Socrates', 'Aristotle', 'Plato'}],\n",
       "       [{'Locke', 'Descartes', 'Confucius', 'Kant', 'Nietzche', 'Socrates'}],\n",
       "       [{'Confucius', 'Descartes', 'Kant', 'Nietzche', 'Socrates', 'Aristotle'}],\n",
       "       [{'Confucius', 'Descartes', 'Locke', 'Nietzche', 'Socrates', 'Aristotle', 'Plato'}],\n",
       "       [{'Locke', 'Confucius', 'Descartes', 'Kant', 'Nietzche', 'Aristotle', 'Plato'}],\n",
       "       [{'Confucius', 'Descartes', 'Nietzche', 'Socrates', 'Aristotle', 'Plato'}],\n",
       "       [{'Locke', 'Descartes', 'Kant', 'Nietzche', 'Aristotle', 'Plato'}],\n",
       "       [{'Locke', 'Descartes', 'Confucius', 'Kant', 'Nietzche', 'Socrates', 'Aristotle', 'Plato'}],\n",
       "       [{'Locke', 'Descartes', 'Confucius', 'Kant', 'Nietzche', 'Socrates', 'Aristotle', 'Plato'}],\n",
       "       [{'Confucius', 'Kant', 'Nietzche', 'Aristotle', 'Plato'}],\n",
       "       [{'Locke', 'Descartes', 'Confucius', 'Kant', 'Nietzche', 'Socrates', 'Plato'}],\n",
       "       [{'Locke', 'Descartes', 'Confucius', 'Socrates', 'Plato'}],\n",
       "       [{'Locke', 'Confucius', 'Kant', 'Nietzche', 'Socrates', 'Aristotle', 'Plato'}],\n",
       "       [{'Confucius', 'Descartes', 'Locke', 'Kant', 'Nietzche', 'Socrates', 'Aristotle', 'Plato'}],\n",
       "       [{'Locke', 'Descartes', 'Confucius', 'Kant', 'Nietzche', 'Socrates', 'Aristotle', 'Plato'}],\n",
       "       [{'Confucius', 'Descartes', 'Locke', 'Kant', 'Socrates', 'Aristotle', 'Plato'}],\n",
       "       [{'Confucius', 'Locke', 'Kant', 'Nietzche', 'Socrates', 'Aristotle', 'Plato'}],\n",
       "       [{'Confucius', 'Descartes', 'Locke', 'Kant', 'Nietzche', 'Socrates', 'Aristotle'}],\n",
       "       [{'Locke', 'Confucius', 'Descartes', 'Kant', 'Nietzche', 'Socrates', 'Aristotle', 'Plato'}],\n",
       "       [{'Confucius', 'Descartes', 'Locke', 'Kant', 'Nietzche', 'Socrates', 'Plato'}],\n",
       "       [{'Confucius', 'Locke', 'Descartes', 'Kant', 'Nietzche', 'Socrates', 'Aristotle'}],\n",
       "       [{'Confucius', 'Locke', 'Kant', 'Nietzche', 'Socrates', 'Aristotle', 'Plato'}],\n",
       "       [{'Locke', 'Descartes', 'Kant', 'Nietzche', 'Socrates', 'Aristotle', 'Plato'}],\n",
       "       [{'Locke', 'Descartes', 'Confucius', 'Kant', 'Nietzche', 'Socrates', 'Aristotle'}],\n",
       "       [{'Locke', 'Descartes', 'Kant', 'Nietzche', 'Socrates', 'Plato'}],\n",
       "       [{'Confucius', 'Locke', 'Descartes', 'Kant', 'Nietzche', 'Socrates', 'Aristotle', 'Plato'}],\n",
       "       [{'Descartes', 'Nietzche', 'Socrates', 'Aristotle', 'Plato'}],\n",
       "       [{'Confucius', 'Descartes', 'Locke', 'Nietzche', 'Aristotle', 'Plato'}],\n",
       "       [{'Locke', 'Descartes', 'Confucius', 'Kant', 'Nietzche', 'Socrates', 'Aristotle', 'Plato'}],\n",
       "       [{'Confucius', 'Descartes', 'Locke', 'Kant', 'Socrates', 'Aristotle', 'Plato'}],\n",
       "       [{'Confucius', 'Descartes', 'Locke', 'Kant', 'Plato'}],\n",
       "       [{'Confucius', 'Descartes', 'Locke', 'Kant', 'Nietzche', 'Socrates', 'Aristotle', 'Plato'}],\n",
       "       [{'Locke', 'Descartes', 'Confucius', 'Nietzche', 'Socrates', 'Aristotle', 'Plato'}],\n",
       "       [{'Locke', 'Descartes', 'Confucius', 'Kant', 'Nietzche', 'Socrates', 'Aristotle', 'Plato'}],\n",
       "       [{'Confucius', 'Descartes', 'Kant', 'Nietzche', 'Socrates', 'Aristotle', 'Plato'}],\n",
       "       [{'Confucius', 'Descartes', 'Nietzche', 'Socrates', 'Plato'}],\n",
       "       [{'Locke', 'Confucius', 'Kant', 'Nietzche', 'Socrates', 'Aristotle', 'Plato'}],\n",
       "       [{'Descartes', 'Kant', 'Nietzche', 'Socrates', 'Aristotle', 'Plato'}],\n",
       "       [{'Confucius', 'Descartes', 'Locke', 'Kant', 'Nietzche', 'Socrates', 'Aristotle', 'Plato'}],\n",
       "       [{'Locke', 'Confucius', 'Kant', 'Nietzche', 'Socrates', 'Aristotle'}],\n",
       "       [{'Locke', 'Confucius', 'Descartes', 'Kant', 'Nietzche', 'Socrates', 'Aristotle', 'Plato'}],\n",
       "       [{'Confucius', 'Descartes', 'Locke', 'Kant', 'Socrates', 'Aristotle', 'Plato'}],\n",
       "       [{'Locke', 'Descartes', 'Confucius', 'Kant', 'Nietzche', 'Socrates', 'Aristotle', 'Plato'}],\n",
       "       [{'Locke', 'Descartes', 'Kant', 'Nietzche', 'Socrates', 'Aristotle', 'Plato'}],\n",
       "       [{'Confucius', 'Descartes', 'Kant', 'Nietzche', 'Socrates', 'Plato'}],\n",
       "       [{'Locke', 'Confucius', 'Descartes', 'Kant', 'Nietzche', 'Socrates', 'Aristotle', 'Plato'}],\n",
       "       [{'Locke', 'Confucius', 'Kant', 'Nietzche', 'Socrates', 'Aristotle', 'Plato'}],\n",
       "       [{'Locke', 'Confucius', 'Descartes', 'Kant', 'Nietzche', 'Aristotle', 'Plato'}],\n",
       "       [{'Locke', 'Descartes', 'Kant', 'Nietzche', 'Socrates', 'Aristotle', 'Plato'}],\n",
       "       [{'Locke', 'Kant', 'Nietzche', 'Socrates', 'Aristotle', 'Plato'}],\n",
       "       [{'Confucius', 'Descartes', 'Nietzche', 'Socrates', 'Aristotle'}],\n",
       "       [{'Locke', 'Descartes', 'Confucius', 'Kant', 'Socrates', 'Aristotle', 'Plato'}],\n",
       "       [{'Locke', 'Confucius', 'Descartes', 'Kant', 'Nietzche', 'Socrates', 'Aristotle', 'Plato'}],\n",
       "       [{'Confucius', 'Descartes', 'Locke', 'Kant', 'Nietzche', 'Socrates', 'Aristotle', 'Plato'}],\n",
       "       [{'Locke', 'Confucius', 'Descartes', 'Kant', 'Nietzche', 'Socrates', 'Plato'}],\n",
       "       [{'Confucius', 'Locke', 'Kant', 'Nietzche', 'Aristotle', 'Plato'}],\n",
       "       [{'Locke', 'Descartes', 'Confucius', 'Kant', 'Nietzche', 'Socrates', 'Aristotle', 'Plato'}],\n",
       "       [{'Confucius', 'Descartes', 'Locke', 'Nietzche', 'Socrates', 'Plato'}],\n",
       "       [{'Descartes', 'Kant', 'Nietzche', 'Socrates', 'Aristotle', 'Plato'}],\n",
       "       [{'Confucius', 'Descartes', 'Locke', 'Kant', 'Nietzche', 'Socrates', 'Aristotle', 'Plato'}],\n",
       "       [{'Locke', 'Descartes', 'Confucius', 'Kant', 'Socrates', 'Aristotle', 'Plato'}],\n",
       "       [{'Confucius', 'Descartes', 'Locke', 'Nietzche', 'Aristotle', 'Plato'}],\n",
       "       [{'Locke', 'Descartes', 'Kant', 'Nietzche', 'Socrates', 'Aristotle', 'Plato'}],\n",
       "       [{'Locke', 'Descartes', 'Kant', 'Nietzche', 'Socrates', 'Aristotle', 'Plato'}],\n",
       "       [{'Confucius', 'Descartes', 'Locke', 'Nietzche', 'Socrates', 'Aristotle', 'Plato'}],\n",
       "       [{'Confucius', 'Descartes', 'Locke', 'Kant', 'Nietzche', 'Socrates', 'Plato'}],\n",
       "       [{'Descartes', 'Kant', 'Nietzche', 'Socrates', 'Aristotle'}],\n",
       "       [{'Confucius', 'Descartes', 'Kant', 'Nietzche', 'Socrates', 'Aristotle'}],\n",
       "       [{'Confucius', 'Descartes', 'Locke', 'Kant', 'Socrates', 'Plato'}],\n",
       "       [{'Locke', 'Confucius', 'Kant', 'Nietzche', 'Socrates', 'Aristotle', 'Plato'}],\n",
       "       [{'Confucius', 'Descartes', 'Locke', 'Kant', 'Nietzche', 'Socrates', 'Aristotle', 'Plato'}],\n",
       "       [{'Confucius', 'Locke', 'Descartes', 'Kant', 'Nietzche', 'Socrates', 'Aristotle', 'Plato'}],\n",
       "       [{'Locke', 'Descartes', 'Confucius', 'Kant', 'Nietzche', 'Socrates', 'Aristotle'}],\n",
       "       [{'Confucius', 'Descartes', 'Socrates', 'Aristotle', 'Plato'}],\n",
       "       [{'Confucius', 'Descartes', 'Locke', 'Kant', 'Nietzche', 'Socrates', 'Aristotle', 'Plato'}],\n",
       "       [{'Confucius', 'Locke', 'Descartes', 'Kant', 'Nietzche', 'Socrates', 'Aristotle'}],\n",
       "       [{'Confucius', 'Descartes', 'Kant', 'Nietzche', 'Socrates', 'Plato'}],\n",
       "       [{'Confucius', 'Descartes', 'Locke', 'Nietzche', 'Socrates', 'Aristotle', 'Plato'}],\n",
       "       [{'Locke', 'Descartes', 'Confucius', 'Kant', 'Nietzche', 'Socrates', 'Aristotle', 'Plato'}],\n",
       "       [{'Confucius', 'Descartes', 'Kant', 'Nietzche', 'Socrates', 'Plato'}],\n",
       "       [{'Confucius', 'Locke', 'Kant', 'Nietzche', 'Socrates', 'Aristotle', 'Plato'}],\n",
       "       [{'Locke', 'Descartes', 'Confucius', 'Kant', 'Nietzche', 'Socrates', 'Aristotle', 'Plato'}],\n",
       "       [{'Locke', 'Confucius', 'Descartes', 'Kant', 'Nietzche', 'Socrates', 'Aristotle', 'Plato'}],\n",
       "       [{'Confucius', 'Descartes', 'Locke', 'Kant', 'Nietzche', 'Socrates', 'Plato'}],\n",
       "       [{'Locke', 'Confucius', 'Descartes', 'Kant', 'Nietzche', 'Socrates', 'Aristotle', 'Plato'}],\n",
       "       [{'Locke', 'Descartes', 'Kant', 'Nietzche', 'Socrates', 'Aristotle', 'Plato'}],\n",
       "       [{'Confucius', 'Descartes', 'Kant', 'Nietzche', 'Socrates', 'Aristotle', 'Plato'}],\n",
       "       [{'Confucius', 'Descartes', 'Locke', 'Nietzche', 'Socrates', 'Plato'}],\n",
       "       [{'Confucius', 'Descartes', 'Kant', 'Nietzche', 'Socrates', 'Aristotle'}],\n",
       "       [{'Confucius', 'Locke', 'Descartes', 'Kant', 'Nietzche', 'Socrates', 'Aristotle', 'Plato'}],\n",
       "       [{'Confucius', 'Locke', 'Kant', 'Socrates', 'Aristotle', 'Plato'}],\n",
       "       [{'Confucius', 'Descartes', 'Kant', 'Nietzche', 'Socrates', 'Aristotle', 'Plato'}],\n",
       "       [{'Locke', 'Descartes', 'Confucius', 'Kant', 'Nietzche', 'Socrates', 'Aristotle', 'Plato'}],\n",
       "       [{'Confucius', 'Locke', 'Descartes', 'Kant', 'Nietzche', 'Socrates', 'Aristotle', 'Plato'}],\n",
       "       [{'Confucius', 'Locke', 'Descartes', 'Kant', 'Nietzche', 'Socrates', 'Aristotle', 'Plato'}],\n",
       "       [{'Confucius', 'Descartes', 'Locke', 'Kant', 'Nietzche', 'Socrates', 'Aristotle', 'Plato'}],\n",
       "       [{'Confucius', 'Descartes', 'Locke', 'Kant', 'Nietzche', 'Socrates', 'Plato'}],\n",
       "       [{'Locke', 'Kant', 'Nietzche', 'Socrates', 'Aristotle'}],\n",
       "       [{'Locke', 'Descartes', 'Confucius', 'Nietzche', 'Socrates', 'Plato'}],\n",
       "       [{'Locke', 'Confucius', 'Descartes', 'Kant', 'Nietzche', 'Socrates', 'Aristotle', 'Plato'}],\n",
       "       [{'Confucius', 'Descartes', 'Locke', 'Kant', 'Aristotle', 'Plato'}],\n",
       "       [{'Locke', 'Confucius', 'Kant', 'Nietzche', 'Aristotle', 'Plato'}],\n",
       "       [{'Confucius', 'Locke', 'Descartes', 'Kant', 'Nietzche', 'Socrates', 'Plato'}],\n",
       "       [{'Locke', 'Confucius', 'Kant', 'Nietzche', 'Socrates', 'Aristotle'}],\n",
       "       [{'Locke', 'Descartes', 'Confucius', 'Kant', 'Nietzche', 'Socrates', 'Aristotle', 'Plato'}],\n",
       "       [{'Locke', 'Descartes', 'Confucius', 'Kant', 'Nietzche', 'Socrates', 'Plato'}],\n",
       "       [{'Locke', 'Descartes', 'Confucius', 'Nietzche', 'Socrates', 'Aristotle', 'Plato'}],\n",
       "       [{'Confucius', 'Descartes', 'Locke', 'Kant', 'Nietzche', 'Aristotle', 'Plato'}],\n",
       "       [{'Locke', 'Descartes', 'Kant', 'Nietzche', 'Socrates', 'Aristotle', 'Plato'}],\n",
       "       [{'Confucius', 'Descartes', 'Locke', 'Kant', 'Nietzche', 'Socrates', 'Plato'}],\n",
       "       [{'Locke', 'Kant', 'Socrates', 'Aristotle', 'Plato'}],\n",
       "       [{'Locke', 'Descartes', 'Confucius', 'Kant', 'Nietzche', 'Socrates', 'Plato'}],\n",
       "       [{'Confucius', 'Locke', 'Descartes', 'Kant', 'Nietzche', 'Socrates', 'Aristotle', 'Plato'}],\n",
       "       [{'Descartes', 'Kant', 'Nietzche', 'Socrates', 'Aristotle'}],\n",
       "       [{'Confucius', 'Descartes', 'Locke', 'Kant', 'Nietzche', 'Socrates', 'Aristotle', 'Plato'}],\n",
       "       [{'Confucius', 'Descartes', 'Locke', 'Kant', 'Nietzche', 'Socrates', 'Aristotle', 'Plato'}],\n",
       "       [{'Locke', 'Descartes', 'Kant', 'Socrates', 'Aristotle', 'Plato'}],\n",
       "       [{'Confucius', 'Locke', 'Kant', 'Nietzche', 'Socrates', 'Aristotle'}],\n",
       "       [{'Locke', 'Descartes', 'Confucius', 'Kant', 'Nietzche', 'Aristotle', 'Plato'}],\n",
       "       [{'Confucius', 'Descartes', 'Locke', 'Kant', 'Nietzche', 'Socrates', 'Plato'}],\n",
       "       [{'Locke', 'Descartes', 'Kant', 'Nietzche', 'Socrates', 'Aristotle', 'Plato'}],\n",
       "       [{'Locke', 'Descartes', 'Kant', 'Nietzche', 'Socrates', 'Aristotle', 'Plato'}],\n",
       "       [{'Confucius', 'Descartes', 'Locke', 'Kant', 'Nietzche', 'Socrates', 'Aristotle', 'Plato'}],\n",
       "       [{'Confucius', 'Descartes', 'Locke', 'Kant', 'Nietzche', 'Socrates', 'Aristotle', 'Plato'}],\n",
       "       [{'Locke', 'Descartes', 'Confucius', 'Kant', 'Nietzche', 'Socrates', 'Aristotle', 'Plato'}],\n",
       "       [{'Confucius', 'Descartes', 'Locke', 'Kant', 'Nietzche', 'Socrates', 'Aristotle', 'Plato'}],\n",
       "       [{'Confucius', 'Descartes', 'Locke', 'Kant', 'Nietzche', 'Aristotle', 'Plato'}],\n",
       "       [{'Confucius', 'Descartes', 'Locke', 'Kant', 'Nietzche', 'Socrates', 'Aristotle'}],\n",
       "       [{'Locke', 'Descartes', 'Confucius', 'Nietzche', 'Socrates', 'Aristotle', 'Plato'}],\n",
       "       [{'Kant', 'Nietzche', 'Plato', 'Socrates'}],\n",
       "       [{'Confucius', 'Descartes', 'Locke', 'Kant', 'Nietzche', 'Socrates', 'Aristotle', 'Plato'}],\n",
       "       [{'Confucius', 'Descartes', 'Locke', 'Nietzche', 'Socrates', 'Aristotle'}],\n",
       "       [{'Confucius', 'Descartes', 'Locke', 'Kant', 'Nietzche', 'Socrates', 'Aristotle', 'Plato'}],\n",
       "       [{'Locke', 'Descartes', 'Kant', 'Nietzche', 'Socrates', 'Plato'}],\n",
       "       [{'Confucius', 'Descartes', 'Nietzche', 'Socrates', 'Aristotle', 'Plato'}],\n",
       "       [{'Locke', 'Descartes', 'Confucius', 'Kant', 'Nietzche', 'Socrates', 'Aristotle', 'Plato'}],\n",
       "       [{'Locke', 'Descartes', 'Confucius', 'Kant', 'Nietzche', 'Socrates', 'Aristotle', 'Plato'}],\n",
       "       [{'Locke', 'Descartes', 'Confucius', 'Kant', 'Nietzche', 'Aristotle', 'Plato'}],\n",
       "       [{'Locke', 'Descartes', 'Kant', 'Socrates', 'Aristotle', 'Plato'}],\n",
       "       [{'Confucius', 'Descartes', 'Locke', 'Kant', 'Nietzche', 'Socrates', 'Plato'}],\n",
       "       [{'Locke', 'Descartes', 'Confucius', 'Kant', 'Nietzche', 'Aristotle', 'Plato'}],\n",
       "       [{'Confucius', 'Locke', 'Descartes', 'Kant', 'Nietzche', 'Aristotle', 'Plato'}],\n",
       "       [{'Locke', 'Descartes', 'Kant', 'Nietzche', 'Socrates', 'Aristotle', 'Plato'}],\n",
       "       [{'Locke', 'Descartes', 'Confucius', 'Kant', 'Nietzche', 'Socrates', 'Plato'}],\n",
       "       [{'Confucius', 'Descartes', 'Nietzche', 'Socrates', 'Aristotle'}],\n",
       "       [{'Confucius', 'Descartes', 'Locke', 'Kant', 'Nietzche', 'Socrates', 'Aristotle', 'Plato'}],\n",
       "       [{'Locke', 'Descartes', 'Confucius', 'Kant', 'Nietzche', 'Socrates', 'Aristotle'}],\n",
       "       [{'Confucius', 'Locke', 'Descartes', 'Nietzche', 'Socrates', 'Aristotle', 'Plato'}],\n",
       "       [{'Locke', 'Descartes', 'Confucius', 'Nietzche', 'Socrates', 'Aristotle', 'Plato'}],\n",
       "       [{'Confucius', 'Locke', 'Descartes', 'Kant', 'Socrates', 'Aristotle', 'Plato'}],\n",
       "       [{'Confucius', 'Locke', 'Descartes', 'Nietzche', 'Socrates', 'Aristotle', 'Plato'}],\n",
       "       [{'Confucius', 'Descartes', 'Locke', 'Kant', 'Nietzche', 'Socrates'}],\n",
       "       [{'Confucius', 'Descartes', 'Locke', 'Nietzche', 'Aristotle'}],\n",
       "       [{'Locke', 'Descartes', 'Confucius', 'Kant', 'Nietzche', 'Socrates', 'Aristotle', 'Plato'}],\n",
       "       [{'Confucius', 'Locke', 'Kant', 'Nietzche', 'Aristotle', 'Plato'}],\n",
       "       [{'Confucius', 'Descartes', 'Locke', 'Kant', 'Nietzche', 'Socrates', 'Aristotle', 'Plato'}],\n",
       "       [{'Confucius', 'Descartes', 'Locke', 'Kant', 'Nietzche', 'Socrates', 'Plato'}],\n",
       "       [{'Confucius', 'Descartes', 'Locke', 'Kant', 'Nietzche', 'Socrates', 'Aristotle', 'Plato'}],\n",
       "       [{'Confucius', 'Locke', 'Descartes', 'Kant', 'Nietzche', 'Socrates', 'Aristotle', 'Plato'}],\n",
       "       [{'Confucius', 'Kant', 'Nietzche', 'Socrates', 'Aristotle', 'Plato'}],\n",
       "       [{'Confucius', 'Descartes', 'Locke', 'Kant', 'Nietzche', 'Socrates', 'Aristotle', 'Plato'}],\n",
       "       [{'Locke', 'Descartes', 'Confucius', 'Kant', 'Nietzche', 'Socrates', 'Aristotle', 'Plato'}],\n",
       "       [{'Confucius', 'Locke', 'Descartes', 'Kant', 'Nietzche', 'Socrates', 'Aristotle', 'Plato'}],\n",
       "       [{'Locke', 'Descartes', 'Confucius', 'Nietzche', 'Socrates', 'Aristotle', 'Plato'}],\n",
       "       [{'Locke', 'Descartes', 'Confucius', 'Kant', 'Socrates', 'Aristotle', 'Plato'}],\n",
       "       [{'Locke', 'Descartes', 'Confucius', 'Kant', 'Nietzche', 'Socrates', 'Aristotle', 'Plato'}],\n",
       "       [{'Confucius', 'Locke', 'Socrates', 'Aristotle', 'Plato'}],\n",
       "       [{'Confucius', 'Locke', 'Kant', 'Socrates', 'Aristotle', 'Plato'}],\n",
       "       [{'Confucius', 'Locke', 'Descartes', 'Kant', 'Nietzche', 'Socrates', 'Aristotle', 'Plato'}],\n",
       "       [{'Confucius', 'Locke', 'Kant', 'Nietzche', 'Socrates', 'Aristotle', 'Plato'}],\n",
       "       [{'Locke', 'Descartes', 'Confucius', 'Kant', 'Nietzche', 'Socrates', 'Aristotle', 'Plato'}],\n",
       "       [{'Confucius', 'Kant', 'Nietzche', 'Socrates', 'Aristotle'}],\n",
       "       [{'Locke', 'Descartes', 'Confucius', 'Kant', 'Socrates', 'Aristotle', 'Plato'}],\n",
       "       [{'Confucius', 'Nietzche', 'Socrates', 'Aristotle', 'Plato'}],\n",
       "       [{'Confucius', 'Locke', 'Kant', 'Nietzche', 'Socrates', 'Aristotle', 'Plato'}],\n",
       "       [{'Locke', 'Descartes', 'Kant', 'Nietzche', 'Socrates', 'Aristotle'}],\n",
       "       [{'Confucius', 'Descartes', 'Locke', 'Kant', 'Socrates', 'Plato'}],\n",
       "       [{'Locke', 'Confucius', 'Descartes', 'Kant', 'Nietzche', 'Socrates', 'Aristotle'}],\n",
       "       [{'Locke', 'Descartes', 'Confucius', 'Kant', 'Nietzche', 'Socrates', 'Aristotle'}],\n",
       "       [{'Confucius', 'Kant', 'Nietzche', 'Socrates', 'Aristotle', 'Plato'}],\n",
       "       [{'Confucius', 'Descartes', 'Locke', 'Kant', 'Nietzche', 'Socrates', 'Aristotle', 'Plato'}],\n",
       "       [{'Locke', 'Confucius', 'Descartes', 'Kant', 'Nietzche', 'Socrates', 'Aristotle', 'Plato'}],\n",
       "       [{'Confucius', 'Descartes', 'Kant', 'Nietzche', 'Socrates', 'Aristotle', 'Plato'}],\n",
       "       [{'Confucius', 'Locke', 'Descartes', 'Kant', 'Nietzche', 'Socrates', 'Aristotle', 'Plato'}],\n",
       "       [{'Confucius', 'Locke', 'Descartes', 'Kant', 'Nietzche', 'Socrates', 'Aristotle', 'Plato'}],\n",
       "       [{'Confucius', 'Descartes', 'Locke', 'Kant', 'Nietzche', 'Socrates', 'Plato'}],\n",
       "       [{'Locke', 'Descartes', 'Confucius', 'Kant', 'Nietzche', 'Aristotle', 'Plato'}],\n",
       "       [{'Confucius', 'Descartes', 'Kant', 'Nietzche', 'Socrates', 'Aristotle', 'Plato'}],\n",
       "       [{'Confucius', 'Descartes', 'Locke', 'Kant', 'Nietzche', 'Socrates', 'Aristotle', 'Plato'}],\n",
       "       [{'Locke', 'Descartes', 'Confucius', 'Kant', 'Nietzche', 'Aristotle', 'Plato'}],\n",
       "       [{'Locke', 'Descartes', 'Confucius', 'Kant', 'Nietzche', 'Socrates', 'Aristotle', 'Plato'}],\n",
       "       [{'Locke', 'Descartes', 'Confucius', 'Kant', 'Nietzche', 'Socrates', 'Aristotle', 'Plato'}],\n",
       "       [{'Confucius', 'Descartes', 'Locke', 'Kant', 'Nietzche', 'Socrates', 'Aristotle'}],\n",
       "       [{'Confucius', 'Descartes', 'Locke', 'Kant', 'Nietzche', 'Socrates', 'Aristotle', 'Plato'}],\n",
       "       [{'Confucius', 'Descartes', 'Kant', 'Nietzche', 'Socrates', 'Aristotle', 'Plato'}],\n",
       "       [{'Confucius', 'Descartes', 'Kant', 'Nietzche', 'Socrates', 'Plato'}],\n",
       "       [{'Locke', 'Descartes', 'Confucius', 'Kant', 'Nietzche', 'Socrates', 'Aristotle', 'Plato'}],\n",
       "       [{'Confucius', 'Descartes', 'Kant', 'Nietzche', 'Socrates', 'Aristotle', 'Plato'}],\n",
       "       [{'Confucius', 'Locke', 'Kant', 'Nietzche', 'Socrates', 'Aristotle', 'Plato'}],\n",
       "       [{'Confucius', 'Descartes', 'Locke', 'Kant', 'Nietzche', 'Socrates', 'Aristotle', 'Plato'}],\n",
       "       [{'Locke', 'Descartes', 'Nietzche', 'Plato'}],\n",
       "       [{'Locke', 'Confucius', 'Descartes', 'Kant', 'Nietzche', 'Socrates', 'Aristotle', 'Plato'}],\n",
       "       [{'Confucius', 'Descartes', 'Locke', 'Kant', 'Nietzche', 'Socrates', 'Aristotle', 'Plato'}],\n",
       "       [{'Confucius', 'Kant', 'Nietzche', 'Aristotle', 'Plato'}],\n",
       "       [{'Confucius', 'Descartes', 'Locke', 'Kant', 'Nietzche', 'Socrates', 'Aristotle', 'Plato'}],\n",
       "       [{'Confucius', 'Descartes', 'Nietzche', 'Socrates', 'Aristotle', 'Plato'}],\n",
       "       [{'Locke', 'Kant', 'Socrates', 'Aristotle', 'Plato'}],\n",
       "       [{'Locke', 'Confucius', 'Kant', 'Nietzche', 'Socrates', 'Aristotle', 'Plato'}]],\n",
       "      dtype=object)"
      ]
     },
     "execution_count": 29,
     "metadata": {},
     "output_type": "execute_result"
    }
   ],
   "source": [
    "topics_from_class"
   ]
  },
  {
   "cell_type": "code",
   "execution_count": 30,
   "id": "837c32e4",
   "metadata": {},
   "outputs": [
    {
     "name": "stdout",
     "output_type": "stream",
     "text": [
      "(300, 300)\n",
      "(300, 300)\n",
      "True\n"
     ]
    }
   ],
   "source": [
    "from scipy.spatial.distance import pdist, cdist, squareform\n",
    "\n",
    "test1 = cdist(topics_from_class,topics_from_class, metric=lambda x, y: float(len(x[0].intersection(y[0])) / len(x[0].union(y[0]))))\n",
    "test2 = squareform(pdist(topics_from_class, metric=lambda x, y: 1 - (float(len(x[0].intersection(y[0])) / len(x[0].union(y[0]))))))\n",
    "# when using pdist, the diagonals are automatically set to 0.\n",
    "print(test1.shape)\n",
    "print(test2.shape)\n",
    "print(np.allclose(test1, 1-test2))"
   ]
  },
  {
   "cell_type": "code",
   "execution_count": 31,
   "id": "385d2eb5",
   "metadata": {},
   "outputs": [
    {
     "name": "stdout",
     "output_type": "stream",
     "text": [
      "[[0.         0.125      0.125      ... 0.25       0.375      0.125     ]\n",
      " [0.125      0.         0.         ... 0.14285714 0.5        0.25      ]\n",
      " [0.125      0.         0.         ... 0.14285714 0.5        0.25      ]\n",
      " ...\n",
      " [0.25       0.14285714 0.14285714 ... 0.         0.625      0.375     ]\n",
      " [0.375      0.5        0.5        ... 0.625      0.         0.28571429]\n",
      " [0.125      0.25       0.25       ... 0.375      0.28571429 0.        ]]\n",
      "(300, 300)\n",
      "True\n"
     ]
    }
   ],
   "source": [
    "test3 = squareform(pdist(topics_one_hot, metric='jaccard'))\n",
    "print(test3)\n",
    "print(test3.shape)\n",
    "print(np.allclose(test2, test3))"
   ]
  },
  {
   "cell_type": "code",
   "execution_count": 32,
   "id": "4ece9afc",
   "metadata": {},
   "outputs": [
    {
     "name": "stderr",
     "output_type": "stream",
     "text": [
      "/opt/homebrew/anaconda3/lib/python3.10/site-packages/sklearn/metrics/pairwise.py:2025: DataConversionWarning: Data was converted to boolean for metric jaccard\n",
      "  warnings.warn(msg, DataConversionWarning)\n"
     ]
    },
    {
     "data": {
      "text/plain": [
       "(300, 300)"
      ]
     },
     "execution_count": 32,
     "metadata": {},
     "output_type": "execute_result"
    }
   ],
   "source": [
    "# Topics are sets of strings, we can use Jaccard similarity to compute similarity between topics\n",
    "from sklearn.metrics import pairwise_distances\n",
    "from scipy.spatial.distance import pdist\n",
    "topics_similarity = 1 - pairwise_distances(topics_one_hot, metric='jaccard')\n",
    "topics_similarity.shape"
   ]
  },
  {
   "cell_type": "code",
   "execution_count": 33,
   "id": "49f7ac18",
   "metadata": {},
   "outputs": [
    {
     "data": {
      "text/plain": [
       "array([[1.        , 0.875     , 0.875     , ..., 0.75      , 0.625     ,\n",
       "        0.875     ],\n",
       "       [0.875     , 1.        , 1.        , ..., 0.85714286, 0.5       ,\n",
       "        0.75      ],\n",
       "       [0.875     , 1.        , 1.        , ..., 0.85714286, 0.5       ,\n",
       "        0.75      ],\n",
       "       ...,\n",
       "       [0.75      , 0.85714286, 0.85714286, ..., 1.        , 0.375     ,\n",
       "        0.625     ],\n",
       "       [0.625     , 0.5       , 0.5       , ..., 0.375     , 1.        ,\n",
       "        0.71428571],\n",
       "       [0.875     , 0.75      , 0.75      , ..., 0.625     , 0.71428571,\n",
       "        1.        ]])"
      ]
     },
     "execution_count": 33,
     "metadata": {},
     "output_type": "execute_result"
    }
   ],
   "source": [
    "topics_similarity"
   ]
  },
  {
   "cell_type": "code",
   "execution_count": 34,
   "id": "9cbacedb",
   "metadata": {},
   "outputs": [
    {
     "data": {
      "text/plain": [
       "array([[1.        , 0.46013854, 0.4375    , ..., 0.375     , 0.3125    ,\n",
       "        0.4375    ],\n",
       "       [0.46013854, 1.        , 0.5       , ..., 0.42857143, 0.25      ,\n",
       "        0.375     ],\n",
       "       [0.4375    , 0.5       , 1.        , ..., 0.42857143, 0.25      ,\n",
       "        0.76912   ],\n",
       "       ...,\n",
       "       [0.375     , 0.42857143, 0.42857143, ..., 1.        , 0.1875    ,\n",
       "        0.3125    ],\n",
       "       [0.3125    , 0.25      , 0.25      , ..., 0.1875    , 1.        ,\n",
       "        0.35714286],\n",
       "       [0.4375    , 0.375     , 0.76912   , ..., 0.3125    , 0.35714286,\n",
       "        1.        ]])"
      ]
     },
     "execution_count": 34,
     "metadata": {},
     "output_type": "execute_result"
    }
   ],
   "source": [
    "S = (reading_similarity + topics_similarity)/2\n",
    "S"
   ]
  },
  {
   "cell_type": "code",
   "execution_count": 35,
   "id": "11946873",
   "metadata": {},
   "outputs": [
    {
     "name": "stderr",
     "output_type": "stream",
     "text": [
      "/opt/homebrew/anaconda3/lib/python3.10/site-packages/sklearn/cluster/_kmeans.py:870: FutureWarning: The default value of `n_init` will change from 10 to 'auto' in 1.4. Set the value of `n_init` explicitly to suppress the warning\n",
      "  warnings.warn(\n"
     ]
    },
    {
     "ename": "AttributeError",
     "evalue": "'NoneType' object has no attribute 'split'",
     "output_type": "error",
     "traceback": [
      "\u001b[0;31m---------------------------------------------------------------------------\u001b[0m",
      "\u001b[0;31mAttributeError\u001b[0m                            Traceback (most recent call last)",
      "Cell \u001b[0;32mIn[35], line 6\u001b[0m\n\u001b[1;32m      4\u001b[0m \u001b[39m# Class spectral_clustering\u001b[39;00m\n\u001b[1;32m      5\u001b[0m clusters \u001b[39m=\u001b[39m \u001b[39m2\u001b[39m\n\u001b[0;32m----> 6\u001b[0m kmeans, proj_X, eigenvals_sorted \u001b[39m=\u001b[39m spectral_clustering(W, clusters)\n\u001b[1;32m      7\u001b[0m y_pred_k_4 \u001b[39m=\u001b[39m kmeans\u001b[39m.\u001b[39mlabels_\n\u001b[1;32m      8\u001b[0m \u001b[39mprint\u001b[39m(y_pred_k_4\u001b[39m.\u001b[39mshape)\n",
      "Cell \u001b[0;32mIn[21], line 33\u001b[0m, in \u001b[0;36mspectral_clustering\u001b[0;34m(W, n_clusters, random_state)\u001b[0m\n\u001b[1;32m     31\u001b[0m \u001b[39m# Cluster the points using k-means clustering\u001b[39;00m\n\u001b[1;32m     32\u001b[0m kmeans \u001b[39m=\u001b[39m KMeans(n_clusters\u001b[39m=\u001b[39mn_clusters, random_state \u001b[39m=\u001b[39m random_state)\n\u001b[0;32m---> 33\u001b[0m kmeans\u001b[39m.\u001b[39;49mfit(proj_X)\n\u001b[1;32m     35\u001b[0m \u001b[39mreturn\u001b[39;00m kmeans, proj_X, eigenvals_sorted\n",
      "File \u001b[0;32m/opt/homebrew/anaconda3/lib/python3.10/site-packages/sklearn/cluster/_kmeans.py:1455\u001b[0m, in \u001b[0;36mKMeans.fit\u001b[0;34m(self, X, y, sample_weight)\u001b[0m\n\u001b[1;32m   1453\u001b[0m \u001b[39melse\u001b[39;00m:\n\u001b[1;32m   1454\u001b[0m     kmeans_single \u001b[39m=\u001b[39m _kmeans_single_lloyd\n\u001b[0;32m-> 1455\u001b[0m     \u001b[39mself\u001b[39;49m\u001b[39m.\u001b[39;49m_check_mkl_vcomp(X, X\u001b[39m.\u001b[39;49mshape[\u001b[39m0\u001b[39;49m])\n\u001b[1;32m   1457\u001b[0m best_inertia, best_labels \u001b[39m=\u001b[39m \u001b[39mNone\u001b[39;00m, \u001b[39mNone\u001b[39;00m\n\u001b[1;32m   1459\u001b[0m \u001b[39mfor\u001b[39;00m i \u001b[39min\u001b[39;00m \u001b[39mrange\u001b[39m(\u001b[39mself\u001b[39m\u001b[39m.\u001b[39m_n_init):\n\u001b[1;32m   1460\u001b[0m     \u001b[39m# Initialize centers\u001b[39;00m\n",
      "File \u001b[0;32m/opt/homebrew/anaconda3/lib/python3.10/site-packages/sklearn/cluster/_kmeans.py:911\u001b[0m, in \u001b[0;36m_BaseKMeans._check_mkl_vcomp\u001b[0;34m(self, X, n_samples)\u001b[0m\n\u001b[1;32m    909\u001b[0m n_active_threads \u001b[39m=\u001b[39m \u001b[39mint\u001b[39m(np\u001b[39m.\u001b[39mceil(n_samples \u001b[39m/\u001b[39m CHUNK_SIZE))\n\u001b[1;32m    910\u001b[0m \u001b[39mif\u001b[39;00m n_active_threads \u001b[39m<\u001b[39m \u001b[39mself\u001b[39m\u001b[39m.\u001b[39m_n_threads:\n\u001b[0;32m--> 911\u001b[0m     modules \u001b[39m=\u001b[39m threadpool_info()\n\u001b[1;32m    912\u001b[0m     has_vcomp \u001b[39m=\u001b[39m \u001b[39m\"\u001b[39m\u001b[39mvcomp\u001b[39m\u001b[39m\"\u001b[39m \u001b[39min\u001b[39;00m [module[\u001b[39m\"\u001b[39m\u001b[39mprefix\u001b[39m\u001b[39m\"\u001b[39m] \u001b[39mfor\u001b[39;00m module \u001b[39min\u001b[39;00m modules]\n\u001b[1;32m    913\u001b[0m     has_mkl \u001b[39m=\u001b[39m (\u001b[39m\"\u001b[39m\u001b[39mmkl\u001b[39m\u001b[39m\"\u001b[39m, \u001b[39m\"\u001b[39m\u001b[39mintel\u001b[39m\u001b[39m\"\u001b[39m) \u001b[39min\u001b[39;00m [\n\u001b[1;32m    914\u001b[0m         (module[\u001b[39m\"\u001b[39m\u001b[39minternal_api\u001b[39m\u001b[39m\"\u001b[39m], module\u001b[39m.\u001b[39mget(\u001b[39m\"\u001b[39m\u001b[39mthreading_layer\u001b[39m\u001b[39m\"\u001b[39m, \u001b[39mNone\u001b[39;00m))\n\u001b[1;32m    915\u001b[0m         \u001b[39mfor\u001b[39;00m module \u001b[39min\u001b[39;00m modules\n\u001b[1;32m    916\u001b[0m     ]\n",
      "File \u001b[0;32m/opt/homebrew/anaconda3/lib/python3.10/site-packages/sklearn/utils/fixes.py:150\u001b[0m, in \u001b[0;36mthreadpool_info\u001b[0;34m()\u001b[0m\n\u001b[1;32m    148\u001b[0m     \u001b[39mreturn\u001b[39;00m controller\u001b[39m.\u001b[39minfo()\n\u001b[1;32m    149\u001b[0m \u001b[39melse\u001b[39;00m:\n\u001b[0;32m--> 150\u001b[0m     \u001b[39mreturn\u001b[39;00m threadpoolctl\u001b[39m.\u001b[39;49mthreadpool_info()\n",
      "File \u001b[0;32m/opt/homebrew/anaconda3/lib/python3.10/site-packages/threadpoolctl.py:124\u001b[0m, in \u001b[0;36mthreadpool_info\u001b[0;34m()\u001b[0m\n\u001b[1;32m    107\u001b[0m \u001b[39m@_format_docstring\u001b[39m(USER_APIS\u001b[39m=\u001b[39m\u001b[39mlist\u001b[39m(_ALL_USER_APIS),\n\u001b[1;32m    108\u001b[0m                    INTERNAL_APIS\u001b[39m=\u001b[39m_ALL_INTERNAL_APIS)\n\u001b[1;32m    109\u001b[0m \u001b[39mdef\u001b[39;00m \u001b[39mthreadpool_info\u001b[39m():\n\u001b[1;32m    110\u001b[0m \u001b[39m    \u001b[39m\u001b[39m\"\"\"Return the maximal number of threads for each detected library.\u001b[39;00m\n\u001b[1;32m    111\u001b[0m \n\u001b[1;32m    112\u001b[0m \u001b[39m    Return a list with all the supported modules that have been found. Each\u001b[39;00m\n\u001b[0;32m   (...)\u001b[0m\n\u001b[1;32m    122\u001b[0m \u001b[39m    In addition, each module may contain internal_api specific entries.\u001b[39;00m\n\u001b[1;32m    123\u001b[0m \u001b[39m    \"\"\"\u001b[39;00m\n\u001b[0;32m--> 124\u001b[0m     \u001b[39mreturn\u001b[39;00m _ThreadpoolInfo(user_api\u001b[39m=\u001b[39;49m_ALL_USER_APIS)\u001b[39m.\u001b[39mtodicts()\n",
      "File \u001b[0;32m/opt/homebrew/anaconda3/lib/python3.10/site-packages/threadpoolctl.py:340\u001b[0m, in \u001b[0;36m_ThreadpoolInfo.__init__\u001b[0;34m(self, user_api, prefixes, modules)\u001b[0m\n\u001b[1;32m    337\u001b[0m     \u001b[39mself\u001b[39m\u001b[39m.\u001b[39muser_api \u001b[39m=\u001b[39m [] \u001b[39mif\u001b[39;00m user_api \u001b[39mis\u001b[39;00m \u001b[39mNone\u001b[39;00m \u001b[39melse\u001b[39;00m user_api\n\u001b[1;32m    339\u001b[0m     \u001b[39mself\u001b[39m\u001b[39m.\u001b[39mmodules \u001b[39m=\u001b[39m []\n\u001b[0;32m--> 340\u001b[0m     \u001b[39mself\u001b[39;49m\u001b[39m.\u001b[39;49m_load_modules()\n\u001b[1;32m    341\u001b[0m     \u001b[39mself\u001b[39m\u001b[39m.\u001b[39m_warn_if_incompatible_openmp()\n\u001b[1;32m    342\u001b[0m \u001b[39melse\u001b[39;00m:\n",
      "File \u001b[0;32m/opt/homebrew/anaconda3/lib/python3.10/site-packages/threadpoolctl.py:371\u001b[0m, in \u001b[0;36m_ThreadpoolInfo._load_modules\u001b[0;34m(self)\u001b[0m\n\u001b[1;32m    369\u001b[0m \u001b[39m\u001b[39m\u001b[39m\"\"\"Loop through loaded libraries and store supported ones\"\"\"\u001b[39;00m\n\u001b[1;32m    370\u001b[0m \u001b[39mif\u001b[39;00m sys\u001b[39m.\u001b[39mplatform \u001b[39m==\u001b[39m \u001b[39m\"\u001b[39m\u001b[39mdarwin\u001b[39m\u001b[39m\"\u001b[39m:\n\u001b[0;32m--> 371\u001b[0m     \u001b[39mself\u001b[39;49m\u001b[39m.\u001b[39;49m_find_modules_with_dyld()\n\u001b[1;32m    372\u001b[0m \u001b[39melif\u001b[39;00m sys\u001b[39m.\u001b[39mplatform \u001b[39m==\u001b[39m \u001b[39m\"\u001b[39m\u001b[39mwin32\u001b[39m\u001b[39m\"\u001b[39m:\n\u001b[1;32m    373\u001b[0m     \u001b[39mself\u001b[39m\u001b[39m.\u001b[39m_find_modules_with_enum_process_module_ex()\n",
      "File \u001b[0;32m/opt/homebrew/anaconda3/lib/python3.10/site-packages/threadpoolctl.py:428\u001b[0m, in \u001b[0;36m_ThreadpoolInfo._find_modules_with_dyld\u001b[0;34m(self)\u001b[0m\n\u001b[1;32m    425\u001b[0m filepath \u001b[39m=\u001b[39m filepath\u001b[39m.\u001b[39mdecode(\u001b[39m\"\u001b[39m\u001b[39mutf-8\u001b[39m\u001b[39m\"\u001b[39m)\n\u001b[1;32m    427\u001b[0m \u001b[39m# Store the module if it is supported and selected\u001b[39;00m\n\u001b[0;32m--> 428\u001b[0m \u001b[39mself\u001b[39;49m\u001b[39m.\u001b[39;49m_make_module_from_path(filepath)\n",
      "File \u001b[0;32m/opt/homebrew/anaconda3/lib/python3.10/site-packages/threadpoolctl.py:515\u001b[0m, in \u001b[0;36m_ThreadpoolInfo._make_module_from_path\u001b[0;34m(self, filepath)\u001b[0m\n\u001b[1;32m    513\u001b[0m \u001b[39mif\u001b[39;00m prefix \u001b[39min\u001b[39;00m \u001b[39mself\u001b[39m\u001b[39m.\u001b[39mprefixes \u001b[39mor\u001b[39;00m user_api \u001b[39min\u001b[39;00m \u001b[39mself\u001b[39m\u001b[39m.\u001b[39muser_api:\n\u001b[1;32m    514\u001b[0m     module_class \u001b[39m=\u001b[39m \u001b[39mglobals\u001b[39m()[module_class]\n\u001b[0;32m--> 515\u001b[0m     module \u001b[39m=\u001b[39m module_class(filepath, prefix, user_api, internal_api)\n\u001b[1;32m    516\u001b[0m     \u001b[39mself\u001b[39m\u001b[39m.\u001b[39mmodules\u001b[39m.\u001b[39mappend(module)\n",
      "File \u001b[0;32m/opt/homebrew/anaconda3/lib/python3.10/site-packages/threadpoolctl.py:606\u001b[0m, in \u001b[0;36m_Module.__init__\u001b[0;34m(self, filepath, prefix, user_api, internal_api)\u001b[0m\n\u001b[1;32m    604\u001b[0m \u001b[39mself\u001b[39m\u001b[39m.\u001b[39minternal_api \u001b[39m=\u001b[39m internal_api\n\u001b[1;32m    605\u001b[0m \u001b[39mself\u001b[39m\u001b[39m.\u001b[39m_dynlib \u001b[39m=\u001b[39m ctypes\u001b[39m.\u001b[39mCDLL(filepath, mode\u001b[39m=\u001b[39m_RTLD_NOLOAD)\n\u001b[0;32m--> 606\u001b[0m \u001b[39mself\u001b[39m\u001b[39m.\u001b[39mversion \u001b[39m=\u001b[39m \u001b[39mself\u001b[39;49m\u001b[39m.\u001b[39;49mget_version()\n\u001b[1;32m    607\u001b[0m \u001b[39mself\u001b[39m\u001b[39m.\u001b[39mnum_threads \u001b[39m=\u001b[39m \u001b[39mself\u001b[39m\u001b[39m.\u001b[39mget_num_threads()\n\u001b[1;32m    608\u001b[0m \u001b[39mself\u001b[39m\u001b[39m.\u001b[39m_get_extra_info()\n",
      "File \u001b[0;32m/opt/homebrew/anaconda3/lib/python3.10/site-packages/threadpoolctl.py:646\u001b[0m, in \u001b[0;36m_OpenBLASModule.get_version\u001b[0;34m(self)\u001b[0m\n\u001b[1;32m    643\u001b[0m get_config \u001b[39m=\u001b[39m \u001b[39mgetattr\u001b[39m(\u001b[39mself\u001b[39m\u001b[39m.\u001b[39m_dynlib, \u001b[39m\"\u001b[39m\u001b[39mopenblas_get_config\u001b[39m\u001b[39m\"\u001b[39m,\n\u001b[1;32m    644\u001b[0m                      \u001b[39mlambda\u001b[39;00m: \u001b[39mNone\u001b[39;00m)\n\u001b[1;32m    645\u001b[0m get_config\u001b[39m.\u001b[39mrestype \u001b[39m=\u001b[39m ctypes\u001b[39m.\u001b[39mc_char_p\n\u001b[0;32m--> 646\u001b[0m config \u001b[39m=\u001b[39m get_config()\u001b[39m.\u001b[39;49msplit()\n\u001b[1;32m    647\u001b[0m \u001b[39mif\u001b[39;00m config[\u001b[39m0\u001b[39m] \u001b[39m==\u001b[39m \u001b[39mb\u001b[39m\u001b[39m\"\u001b[39m\u001b[39mOpenBLAS\u001b[39m\u001b[39m\"\u001b[39m:\n\u001b[1;32m    648\u001b[0m     \u001b[39mreturn\u001b[39;00m config[\u001b[39m1\u001b[39m]\u001b[39m.\u001b[39mdecode(\u001b[39m\"\u001b[39m\u001b[39mutf-8\u001b[39m\u001b[39m\"\u001b[39m)\n",
      "\u001b[0;31mAttributeError\u001b[0m: 'NoneType' object has no attribute 'split'"
     ]
    }
   ],
   "source": [
    "k = 4 # why 4 ??\n",
    "W = k_nearest_neighbor_graph(S, k)\n",
    "\n",
    "# Class spectral_clustering\n",
    "clusters = 2\n",
    "kmeans, proj_X, eigenvals_sorted = spectral_clustering(W, clusters)\n",
    "y_pred_k_4 = kmeans.labels_\n",
    "print(y_pred_k_4.shape)\n",
    "y_pred_k_4"
   ]
  },
  {
   "cell_type": "code",
   "execution_count": 195,
   "id": "372aaac6",
   "metadata": {},
   "outputs": [
    {
     "name": "stdout",
     "output_type": "stream",
     "text": [
      "Indexes shape:  (300, 3)\n",
      "arange shape:  (300, 1)\n",
      "(300,)\n"
     ]
    },
    {
     "name": "stderr",
     "output_type": "stream",
     "text": [
      "/opt/homebrew/anaconda3/lib/python3.10/site-packages/sklearn/manifold/_spectral_embedding.py:248: UserWarning: Array is not symmetric, and will be converted to symmetric by average with its transpose.\n",
      "  adjacency = check_symmetric(adjacency)\n",
      "/opt/homebrew/anaconda3/lib/python3.10/site-packages/sklearn/manifold/_spectral_embedding.py:274: UserWarning: Graph is not fully connected, spectral embedding may not work as expected.\n",
      "  warnings.warn(\n",
      "/opt/homebrew/anaconda3/lib/python3.10/site-packages/sklearn/cluster/_kmeans.py:870: FutureWarning: The default value of `n_init` will change from 10 to 'auto' in 1.4. Set the value of `n_init` explicitly to suppress the warning\n",
      "  warnings.warn(\n"
     ]
    },
    {
     "data": {
      "text/plain": [
       "array([0, 0, 0, 0, 0, 0, 0, 0, 0, 0, 0, 0, 0, 0, 0, 0, 0, 0, 0, 0, 0, 0,\n",
       "       0, 0, 0, 0, 0, 0, 0, 0, 0, 1, 0, 0, 0, 0, 0, 0, 0, 0, 0, 0, 0, 0,\n",
       "       0, 0, 0, 0, 0, 0, 0, 0, 0, 0, 0, 0, 0, 0, 0, 0, 0, 0, 0, 0, 0, 0,\n",
       "       0, 0, 0, 0, 0, 0, 0, 1, 0, 0, 0, 0, 0, 0, 0, 0, 0, 0, 0, 0, 0, 0,\n",
       "       0, 0, 0, 0, 0, 0, 0, 0, 0, 0, 0, 0, 0, 0, 0, 0, 1, 0, 0, 0, 0, 0,\n",
       "       0, 0, 0, 0, 0, 0, 0, 0, 0, 0, 0, 0, 0, 0, 0, 0, 0, 0, 0, 0, 0, 0,\n",
       "       0, 0, 0, 0, 0, 0, 0, 0, 0, 0, 0, 0, 0, 0, 0, 0, 0, 0, 0, 0, 0, 0,\n",
       "       0, 0, 0, 0, 0, 0, 0, 0, 0, 0, 0, 0, 0, 0, 0, 0, 0, 0, 0, 0, 0, 0,\n",
       "       0, 0, 0, 0, 0, 0, 0, 1, 0, 0, 0, 0, 0, 0, 0, 0, 0, 0, 0, 0, 0, 0,\n",
       "       0, 0, 0, 0, 0, 0, 0, 0, 0, 0, 0, 0, 0, 0, 0, 0, 0, 0, 0, 0, 0, 0,\n",
       "       0, 0, 0, 0, 0, 0, 0, 0, 0, 0, 0, 0, 0, 0, 0, 0, 0, 0, 0, 0, 0, 0,\n",
       "       0, 0, 0, 0, 0, 0, 0, 0, 0, 0, 0, 0, 0, 0, 0, 0, 0, 0, 0, 0, 0, 0,\n",
       "       0, 0, 0, 0, 0, 0, 0, 0, 0, 0, 0, 0, 0, 0, 0, 0, 0, 0, 0, 0, 0, 0,\n",
       "       0, 0, 0, 0, 0, 0, 0, 0, 0, 0, 0, 0, 0, 0], dtype=int32)"
      ]
     },
     "execution_count": 195,
     "metadata": {},
     "output_type": "execute_result"
    }
   ],
   "source": [
    "k = 2\n",
    "W = k_nearest_neighbor_graph(S, k)\n",
    "\n",
    "# Class spectral_clustering\n",
    "clusters = 2\n",
    "kmeans, proj_X, eigenvals_sorted = spectral_clustering(W, clusters)\n",
    "y_pred_k_2 = kmeans.labels_\n",
    "print(y_pred_k_2.shape)\n",
    "y_pred_k_2"
   ]
  },
  {
   "cell_type": "code",
   "execution_count": 191,
   "id": "aa22f6c7",
   "metadata": {},
   "outputs": [
    {
     "name": "stdout",
     "output_type": "stream",
     "text": [
      "(300,)\n"
     ]
    },
    {
     "name": "stderr",
     "output_type": "stream",
     "text": [
      "/opt/homebrew/anaconda3/lib/python3.10/site-packages/sklearn/cluster/_kmeans.py:870: FutureWarning: The default value of `n_init` will change from 10 to 'auto' in 1.4. Set the value of `n_init` explicitly to suppress the warning\n",
      "  warnings.warn(\n"
     ]
    },
    {
     "data": {
      "text/plain": [
       "array([0, 0, 0, 0, 0, 0, 1, 0, 0, 0, 0, 0, 0, 0, 0, 0, 1, 0, 0, 0, 1, 0,\n",
       "       0, 0, 0, 0, 0, 0, 0, 0, 0, 1, 0, 0, 0, 0, 0, 0, 0, 0, 0, 0, 0, 0,\n",
       "       0, 0, 1, 0, 0, 0, 0, 0, 0, 0, 0, 0, 0, 0, 0, 0, 1, 0, 1, 0, 0, 0,\n",
       "       0, 0, 0, 0, 0, 0, 0, 1, 0, 0, 0, 0, 0, 1, 0, 0, 0, 0, 0, 0, 0, 0,\n",
       "       0, 0, 0, 0, 0, 0, 0, 0, 0, 0, 1, 0, 0, 0, 0, 0, 1, 0, 0, 0, 0, 0,\n",
       "       0, 0, 0, 0, 0, 0, 0, 0, 0, 0, 0, 0, 0, 0, 0, 0, 1, 0, 0, 0, 0, 0,\n",
       "       1, 0, 0, 0, 0, 0, 0, 0, 0, 0, 1, 0, 0, 0, 0, 0, 0, 0, 0, 1, 0, 0,\n",
       "       0, 0, 0, 0, 0, 0, 0, 0, 0, 0, 0, 0, 1, 0, 0, 1, 0, 0, 0, 0, 0, 0,\n",
       "       0, 0, 0, 0, 1, 0, 1, 1, 0, 0, 0, 0, 0, 0, 0, 0, 0, 0, 0, 0, 0, 0,\n",
       "       0, 0, 0, 0, 0, 0, 0, 1, 0, 1, 0, 0, 0, 0, 0, 0, 0, 0, 0, 0, 1, 0,\n",
       "       0, 0, 0, 0, 0, 0, 0, 0, 0, 0, 0, 0, 0, 0, 0, 0, 0, 1, 0, 0, 0, 0,\n",
       "       0, 0, 0, 0, 0, 0, 0, 0, 0, 0, 1, 0, 0, 0, 0, 0, 0, 0, 0, 0, 0, 0,\n",
       "       0, 0, 0, 0, 1, 1, 0, 0, 0, 0, 0, 0, 0, 0, 0, 0, 0, 0, 0, 0, 0, 0,\n",
       "       0, 0, 0, 0, 0, 0, 0, 0, 0, 0, 0, 0, 0, 0], dtype=int32)"
      ]
     },
     "execution_count": 191,
     "metadata": {},
     "output_type": "execute_result"
    }
   ],
   "source": [
    "k = 4 \n",
    "W = k_nearest_neighbor_graph_from_lecture(S, k)\n",
    "\n",
    "# Class spectral_clustering\n",
    "clusters = 2\n",
    "kmeans, proj_X, eigenvals_sorted = spectral_clustering(W, clusters)\n",
    "y_pred = kmeans.labels_\n",
    "print(y_pred.shape)\n",
    "y_pred"
   ]
  },
  {
   "cell_type": "code",
   "execution_count": 192,
   "id": "ebab4c94",
   "metadata": {},
   "outputs": [
    {
     "name": "stdout",
     "output_type": "stream",
     "text": [
      "Indexes shape:  (300, 5)\n",
      "arange shape:  (300, 1)\n",
      "False\n"
     ]
    }
   ],
   "source": [
    "W1 = k_nearest_neighbor_graph(S, 4)\n",
    "W2 = k_nearest_neighbor_graph_from_lecture(S, 4)\n",
    "print(np.allclose(W1, W2))"
   ]
  }
 ],
 "metadata": {
  "kernelspec": {
   "display_name": "Python",
   "language": "python",
   "name": "python3"
  },
  "language_info": {
   "codemirror_mode": {
    "name": "ipython",
    "version": 3
   },
   "file_extension": ".py",
   "mimetype": "text/x-python",
   "name": "python",
   "nbconvert_exporter": "python",
   "pygments_lexer": "ipython3",
   "version": "3.10.10"
  }
 },
 "nbformat": 4,
 "nbformat_minor": 5
}
