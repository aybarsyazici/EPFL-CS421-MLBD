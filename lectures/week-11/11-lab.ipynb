{
 "cells": [
  {
   "attachments": {},
   "cell_type": "markdown",
   "id": "4cb4ee27-3931-4d90-a8f1-a39470911a89",
   "metadata": {},
   "source": [
    "# Lab 11- Extended Exercises on Time Series Clustering"
   ]
  },
  {
   "attachments": {},
   "cell_type": "markdown",
   "id": "a130ff2e-9c89-48c9-ac7b-6bf6ab5a6522",
   "metadata": {},
   "source": [
    "You are the Senior Data Scientist in a learning platform called LernTime. Your data science team built a data frame in which each row contains the aggregated features per student (calculated over the first 5 weeks of interactions) and the feature `dropout` indicates whether the student stopped using the platform (1) or not (0) before week 10.\n",
    "\n",
    "The dataframe is in the file `lerntime.csv` and contains the following features:\n",
    "- `video_time`: total video time (in minutes) \n",
    "- `num_sessions` total number of sessions\n",
    "- `num_quizzes`: total number of quizzes attempts\n",
    "- `reading_time`: total theory reading time\n",
    "- `previous_knowledge`: standardized previous knowledge\n",
    "- `browser_speed`: standardized browser speed\n",
    "- `device`:  whether the student logged in using a smartphone (1) or a computer (-1)\n",
    "- `topics`: the topics covered by the user\n",
    "- `education`: current level of education (0: middle school, 1: high school, 2: bachelor, 3: master, 4: Ph.D.).\n",
    "- `dropout`: whether the student stopped using the platform (1) or not (0) before week 5."
   ]
  },
  {
   "cell_type": "code",
   "execution_count": 1,
   "id": "dc6fbaba-1a0e-445b-8fd8-c9d54bc2b2e2",
   "metadata": {},
   "outputs": [],
   "source": [
    "import pandas as pd\n",
    "\n",
    "# Data directory\n",
    "DATA_DIR = \"./../../data/\""
   ]
  },
  {
   "cell_type": "code",
   "execution_count": 2,
   "id": "222434a0-1950-4704-a312-33e9a10b1105",
   "metadata": {},
   "outputs": [],
   "source": [
    "df = pd.read_csv(f'{DATA_DIR}/lerntime_dropout.csv')"
   ]
  },
  {
   "cell_type": "code",
   "execution_count": 3,
   "id": "1700efd2-92a2-42aa-a841-ba2da6a5074a",
   "metadata": {},
   "outputs": [
    {
     "data": {
      "text/html": [
       "<div>\n",
       "<style scoped>\n",
       "    .dataframe tbody tr th:only-of-type {\n",
       "        vertical-align: middle;\n",
       "    }\n",
       "\n",
       "    .dataframe tbody tr th {\n",
       "        vertical-align: top;\n",
       "    }\n",
       "\n",
       "    .dataframe thead th {\n",
       "        text-align: right;\n",
       "    }\n",
       "</style>\n",
       "<table border=\"1\" class=\"dataframe\">\n",
       "  <thead>\n",
       "    <tr style=\"text-align: right;\">\n",
       "      <th></th>\n",
       "      <th>video_time</th>\n",
       "      <th>num_sessions</th>\n",
       "      <th>num_quizzes</th>\n",
       "      <th>reading_time</th>\n",
       "      <th>previous_knowledge</th>\n",
       "      <th>browser_speed</th>\n",
       "      <th>device</th>\n",
       "      <th>topics</th>\n",
       "      <th>education</th>\n",
       "      <th>dropout</th>\n",
       "    </tr>\n",
       "  </thead>\n",
       "  <tbody>\n",
       "    <tr>\n",
       "      <th>0</th>\n",
       "      <td>45.793303</td>\n",
       "      <td>99.0</td>\n",
       "      <td>36.0</td>\n",
       "      <td>48.186562</td>\n",
       "      <td>1.675972</td>\n",
       "      <td>-0.294704</td>\n",
       "      <td>1.0</td>\n",
       "      <td>['Locke', 'Descartes', 'Socrates', 'Kant', 'Ni...</td>\n",
       "      <td>2.0</td>\n",
       "      <td>0</td>\n",
       "    </tr>\n",
       "    <tr>\n",
       "      <th>1</th>\n",
       "      <td>51.331242</td>\n",
       "      <td>57.0</td>\n",
       "      <td>12.0</td>\n",
       "      <td>49.945810</td>\n",
       "      <td>0.700522</td>\n",
       "      <td>1.253694</td>\n",
       "      <td>1.0</td>\n",
       "      <td>['Nietzche', 'Locke', 'Confucius', 'Aristotle'...</td>\n",
       "      <td>3.0</td>\n",
       "      <td>0</td>\n",
       "    </tr>\n",
       "    <tr>\n",
       "      <th>2</th>\n",
       "      <td>87.414834</td>\n",
       "      <td>52.0</td>\n",
       "      <td>7.0</td>\n",
       "      <td>20.611978</td>\n",
       "      <td>1.836716</td>\n",
       "      <td>-1.171352</td>\n",
       "      <td>1.0</td>\n",
       "      <td>['Plato', 'Locke', 'Nietzche', 'Socrates', 'De...</td>\n",
       "      <td>4.0</td>\n",
       "      <td>0</td>\n",
       "    </tr>\n",
       "    <tr>\n",
       "      <th>3</th>\n",
       "      <td>58.556388</td>\n",
       "      <td>47.0</td>\n",
       "      <td>31.0</td>\n",
       "      <td>33.785805</td>\n",
       "      <td>0.209577</td>\n",
       "      <td>-2.043047</td>\n",
       "      <td>1.0</td>\n",
       "      <td>['Aristotle', 'Socrates', 'Plato', 'Confucius'...</td>\n",
       "      <td>3.0</td>\n",
       "      <td>0</td>\n",
       "    </tr>\n",
       "    <tr>\n",
       "      <th>4</th>\n",
       "      <td>74.822362</td>\n",
       "      <td>58.0</td>\n",
       "      <td>37.0</td>\n",
       "      <td>38.907983</td>\n",
       "      <td>0.265678</td>\n",
       "      <td>-0.754559</td>\n",
       "      <td>1.0</td>\n",
       "      <td>['Kant', 'Aristotle', 'Confucius', 'Locke', 'P...</td>\n",
       "      <td>4.0</td>\n",
       "      <td>0</td>\n",
       "    </tr>\n",
       "  </tbody>\n",
       "</table>\n",
       "</div>"
      ],
      "text/plain": [
       "   video_time  num_sessions  num_quizzes  reading_time  previous_knowledge  \\\n",
       "0   45.793303          99.0         36.0     48.186562            1.675972   \n",
       "1   51.331242          57.0         12.0     49.945810            0.700522   \n",
       "2   87.414834          52.0          7.0     20.611978            1.836716   \n",
       "3   58.556388          47.0         31.0     33.785805            0.209577   \n",
       "4   74.822362          58.0         37.0     38.907983            0.265678   \n",
       "\n",
       "   browser_speed  device                                             topics  \\\n",
       "0      -0.294704     1.0  ['Locke', 'Descartes', 'Socrates', 'Kant', 'Ni...   \n",
       "1       1.253694     1.0  ['Nietzche', 'Locke', 'Confucius', 'Aristotle'...   \n",
       "2      -1.171352     1.0  ['Plato', 'Locke', 'Nietzche', 'Socrates', 'De...   \n",
       "3      -2.043047     1.0  ['Aristotle', 'Socrates', 'Plato', 'Confucius'...   \n",
       "4      -0.754559     1.0  ['Kant', 'Aristotle', 'Confucius', 'Locke', 'P...   \n",
       "\n",
       "   education  dropout  \n",
       "0        2.0        0  \n",
       "1        3.0        0  \n",
       "2        4.0        0  \n",
       "3        3.0        0  \n",
       "4        4.0        0  "
      ]
     },
     "execution_count": 3,
     "metadata": {},
     "output_type": "execute_result"
    }
   ],
   "source": [
    "df.head()"
   ]
  },
  {
   "cell_type": "code",
   "execution_count": 4,
   "id": "387fc16b",
   "metadata": {},
   "outputs": [
    {
     "data": {
      "text/plain": [
       "300"
      ]
     },
     "execution_count": 4,
     "metadata": {},
     "output_type": "execute_result"
    }
   ],
   "source": [
    "# df row count\n",
    "df.shape[0]"
   ]
  },
  {
   "attachments": {},
   "cell_type": "markdown",
   "id": "e4a7f01b-87fb-4cdd-bb4a-902e37b28040",
   "metadata": {},
   "source": [
    "You decide to explore the different type of users. You want to use your knowledge from your ML4BD course and decide to cluster using Spectral Clustering. \n",
    "In the course, you learnt different ways of constructing the similarity graph, yielding the adjacency matrix serving as an input to the Spectral Clustering. \n",
    "Based on your in-depth exploration of the data, you decide to construct the similarity graph as a  *k-nearest neighbor graph*.\n",
    "\n",
    "Your tasks are to:\n",
    "\n",
    "a) Write a function to compute the k-nearest neighbor graph.\n",
    "\n",
    "b) Cluster the users using Spectral Clustering and your k-nearest neighbor graph function (use 4 neighbors). Use only the features *reading_time* and *topics*. You can assume that optimal number of clusters is 2.\n"
   ]
  },
  {
   "attachments": {},
   "cell_type": "markdown",
   "id": "9942acd8-7cff-4367-8497-e232c2b55d38",
   "metadata": {},
   "source": [
    "## a) Computation of the k-nearest neighbor graph \n",
    "Unfortunately, there is no k-nearest neighbor graph implementation available in scikit-learn and you therefore have to implement the function yourself.\n",
    "\n",
    "The function `'k_nearest_neighbor_graph'` takes a similarity matrix `S` as well as the number of neighbors `k` as an input an returns the adjacency matrix `W`.\n",
    "\n",
    "Note that we will not evaluate the coding efficiency of your function. "
   ]
  },
  {
   "cell_type": "code",
   "execution_count": 5,
   "id": "815a86bf-c8ec-4e71-a39e-df78e45bce89",
   "metadata": {},
   "outputs": [],
   "source": [
    "import numpy as np\n",
    "\n",
    "\n",
    "def k_nearest_neighbor_graph(S, k):\n",
    "    # S: similarity matrix\n",
    "    # k: number of neighbors\n",
    "    np_S = np.array(S)\n",
    "    # For each entry in S, keep the k+1 largest values and set the rest to 0\n",
    "    # we do k+1 because the largest value will be the entry itself and we don't want to consider it as a neighbor\n",
    "    indexes = np.argsort(np_S, axis=1)[:, -(k+1):]\n",
    "    print(\"Indexes shape: \", indexes.shape) # For each row we get the indexes of the k+1 largest values\n",
    "    # To access a specific row,col of a numpy array we can use the following syntax:\n",
    "    # np_S[row, col]\n",
    "    # To access multiple elements per row we can use fancy indexing:\n",
    "    # np_S[row, [col1, col2, col3]]\n",
    "    # What we want to achieve is to access indexes[0] for row 0, indexes[1] for row 1, etc.\n",
    "    # To do this we can use:\n",
    "    # np.arange(np_S.shape[0])[:, None]\n",
    "    # This will create a 2D array with the shape (n, 1), and indxes has shape (n, k+1)\n",
    "    print(\"arange shape: \", np.arange(np_S.shape[0])[:, None].shape)\n",
    "    W = np.zeros_like(S)\n",
    "    W[np.arange(np_S.shape[0])[:, None], indexes] = np_S[np.arange(np_S.shape[0])[:, None], indexes]\n",
    "    # Make it symmetric\n",
    "    W = np.maximum(W, W.T)\n",
    "    return W"
   ]
  },
  {
   "cell_type": "code",
   "execution_count": 6,
   "id": "913f1024",
   "metadata": {},
   "outputs": [],
   "source": [
    "from sklearn.neighbors import kneighbors_graph\n",
    "def k_nearest_neighbor_graph_from_lecture(S, k):\n",
    "    # S: similarity matrix\n",
    "    # k: number of neighbors\n",
    "   \n",
    "    S = np.array(S)\n",
    "    # k+1 because include_self. -S to pass from similarity to distance, +translation to avoid negative values\n",
    "    G = kneighbors_graph(-S + S.max(), k+1, metric='precomputed', mode='connectivity', include_self=True).toarray()\n",
    "    W = (G + G.T).astype(bool) * S\n",
    "    \n",
    "    return W"
   ]
  },
  {
   "cell_type": "code",
   "execution_count": 7,
   "id": "0ef5ad28-7a1b-4791-a7f8-d25c2205c77f",
   "metadata": {},
   "outputs": [
    {
     "name": "stdout",
     "output_type": "stream",
     "text": [
      "Indexes shape:  (4, 3)\n",
      "arange shape:  (4, 1)\n",
      "[[1.  0.2 0.7 0. ]\n",
      " [0.2 1.  0.8 0.4]\n",
      " [0.7 0.8 1.  0.6]\n",
      " [0.  0.4 0.6 1. ]]\n",
      "[[1.  0.2 0.7 0. ]\n",
      " [0.2 1.  0.8 0.4]\n",
      " [0.7 0.8 1.  0.6]\n",
      " [0.  0.4 0.6 1. ]]\n"
     ]
    }
   ],
   "source": [
    "# What np.argsort does is that it returns the indexes of the sorted array\n",
    "# i.e if we have [1, 3, 2] it will return [0, 2, 1]. Which means that the smallest element is at index 0, the second smallest at index 2 and the largest at index 1\n",
    "# If we get the last k elements of this array, we get THE INDEXES of k largest elements of the original array\n",
    "\n",
    "k = 2\n",
    "# Please run this cell for evaluation purposes\n",
    "S = [\n",
    "    [1, 0.2, 0.7, 0.1],\n",
    "    [0.2, 1, 0.8, 0.4],\n",
    "    [0.7, 0.8, 1, 0.6],\n",
    "    [0.1, 0.4, 0.6, 1]\n",
    "]\n",
    "\n",
    "a = k_nearest_neighbor_graph(S, k)\n",
    "print(a)\n",
    "b = k_nearest_neighbor_graph_from_lecture(S, k)\n",
    "print(b)\n",
    "#send(a, 1)"
   ]
  },
  {
   "cell_type": "code",
   "execution_count": 8,
   "id": "065b4f9c-1231-4e9e-a744-0e45a8f408bb",
   "metadata": {},
   "outputs": [
    {
     "name": "stdout",
     "output_type": "stream",
     "text": [
      "Indexes shape:  (4, 3)\n",
      "arange shape:  (4, 1)\n",
      "[[1.  0.3 0.  0.1]\n",
      " [0.3 1.  0.8 0.9]\n",
      " [0.  0.8 1.  0.6]\n",
      " [0.1 0.9 0.6 1. ]]\n"
     ]
    }
   ],
   "source": [
    "# Please run this cell for evaluation purposes\n",
    "k = 2\n",
    "S = [[1, 0.3, 0.01, 0.1],\n",
    "     [0.3, 1, 0.8, 0.9],\n",
    "     [0.01, 0.8, 1, 0.6],\n",
    "     [0.1, 0.9, 0.6, 1]]\n",
    "a = k_nearest_neighbor_graph(S, k)\n",
    "print(a)"
   ]
  },
  {
   "attachments": {},
   "cell_type": "markdown",
   "id": "9964b9b7-356e-474f-b0b5-8d0b1871af1a",
   "metadata": {},
   "source": [
    "## b) Spectral Clustering \n",
    "Perform a spectral clustering using a k-nearest neighbor graph (with 4 neighbors). \n",
    "\n",
    "Use the two features `reading_time` and `topics` only. \n",
    "\n",
    "If you did not manage to solve task a), use a *fully connected graph* as similarity graph to obtain the adjacency matrix `W`. \n",
    "\n",
    "You can assume that the optimal number of clusters is 2. \n",
    "\n",
    "Print the obtained cluster labels. "
   ]
  },
  {
   "cell_type": "code",
   "execution_count": 9,
   "id": "73a95f8e",
   "metadata": {},
   "outputs": [],
   "source": [
    "from sklearn.manifold import spectral_embedding\n",
    "from sklearn.cluster import KMeans\n",
    "from scipy import linalg\n",
    "from scipy.sparse.csgraph import laplacian\n",
    "\n",
    "def spectral_clustering(W, n_clusters, random_state=111):\n",
    "    \"\"\"\n",
    "    Spectral clustering\n",
    "    :param W: np array of adjacency matrix\n",
    "    :param n_clusters: number of clusters\n",
    "    :param normed: normalized or unnormalized Laplacian\n",
    "    :return: tuple (kmeans, proj_X, eigenvals_sorted)\n",
    "        WHERE\n",
    "        kmeans scikit learn clustering object\n",
    "        proj_X is np array of transformed data points\n",
    "        eigenvals_sorted is np array with ordered eigenvalues \n",
    "        \n",
    "    \"\"\"\n",
    "    # Compute eigengap heuristic\n",
    "    L = laplacian(W, normed=True)\n",
    "    eigenvals, _ = linalg.eig(L)\n",
    "    eigenvals = np.real(eigenvals)\n",
    "    eigenvals_sorted = eigenvals[np.argsort(eigenvals)]\n",
    "\n",
    "    # Create embedding\n",
    "    random_state = np.random.RandomState(random_state)\n",
    "    proj_X = spectral_embedding(W, n_components=n_clusters,\n",
    "                              random_state=random_state,\n",
    "                              drop_first=False)\n",
    "\n",
    "    # Cluster the points using k-means clustering\n",
    "    kmeans = KMeans(n_clusters=n_clusters, random_state = random_state)\n",
    "    kmeans.fit(proj_X)\n",
    "\n",
    "    return kmeans, proj_X, eigenvals_sorted"
   ]
  },
  {
   "cell_type": "code",
   "execution_count": 10,
   "id": "57833bc1",
   "metadata": {},
   "outputs": [
    {
     "name": "stdout",
     "output_type": "stream",
     "text": [
      "8\n",
      "(300,)\n",
      "(300, 1)\n"
     ]
    },
    {
     "name": "stderr",
     "output_type": "stream",
     "text": [
      "/var/folders/75/94jyvgc92_gcwmzgrg36xfd00000gn/T/ipykernel_6177/1798036342.py:3: VisibleDeprecationWarning: Creating an ndarray from ragged nested sequences (which is a list-or-tuple of lists-or-tuples-or ndarrays with different lengths or shapes) is deprecated. If you meant to do this, you must specify 'dtype=object' when creating the ndarray.\n",
      "  topics_np = np.array([(eval(t)) for t in topics])\n"
     ]
    }
   ],
   "source": [
    "reading_time = df['reading_time'].values.reshape(-1,1)\n",
    "topics = df['topics'].values\n",
    "topics_np = np.array([(eval(t)) for t in topics])\n",
    "# unique topics \n",
    "topics_unique = set([item for sublist in topics_np for item in sublist])\n",
    "print(len(topics_unique))\n",
    "print(topics_np.shape)\n",
    "print(reading_time.shape)"
   ]
  },
  {
   "cell_type": "code",
   "execution_count": 11,
   "id": "97cb6562",
   "metadata": {},
   "outputs": [
    {
     "name": "stdout",
     "output_type": "stream",
     "text": [
      "(300, 8)\n"
     ]
    }
   ],
   "source": [
    "# do one hot encoding for topics\n",
    "from sklearn.preprocessing import MultiLabelBinarizer\n",
    "mlb = MultiLabelBinarizer()\n",
    "topics_one_hot = mlb.fit_transform(topics_np)\n",
    "print(topics_one_hot.shape)"
   ]
  },
  {
   "cell_type": "code",
   "execution_count": 12,
   "id": "199302a7",
   "metadata": {},
   "outputs": [
    {
     "name": "stdout",
     "output_type": "stream",
     "text": [
      "(300, 300)\n"
     ]
    }
   ],
   "source": [
    "# Reading time similarity matrix we can use Gaussian kernel use pairwise_kernels from sklearn.metrics.pairwise\n",
    "from sklearn.metrics.pairwise import pairwise_kernels\n",
    "reading_similarity = pairwise_kernels(reading_time, metric='rbf')\n",
    "print(reading_similarity.shape)"
   ]
  },
  {
   "cell_type": "code",
   "execution_count": 13,
   "id": "a9d9b55a",
   "metadata": {},
   "outputs": [
    {
     "data": {
      "text/plain": [
       "array([[1.00000000e+000, 4.52770721e-002, 0.00000000e+000, ...,\n",
       "        3.15125400e-034, 5.24800016e-162, 0.00000000e+000],\n",
       "       [4.52770721e-002, 1.00000000e+000, 0.00000000e+000, ...,\n",
       "        3.76060768e-022, 6.64921189e-134, 0.00000000e+000],\n",
       "       [0.00000000e+000, 0.00000000e+000, 1.00000000e+000, ...,\n",
       "        0.00000000e+000, 0.00000000e+000, 7.88239994e-001],\n",
       "       ...,\n",
       "       [3.15125400e-034, 3.76060768e-022, 0.00000000e+000, ...,\n",
       "        1.00000000e+000, 1.69972568e-048, 0.00000000e+000],\n",
       "       [5.24800016e-162, 6.64921189e-134, 0.00000000e+000, ...,\n",
       "        1.69972568e-048, 1.00000000e+000, 0.00000000e+000],\n",
       "       [0.00000000e+000, 0.00000000e+000, 7.88239994e-001, ...,\n",
       "        0.00000000e+000, 0.00000000e+000, 1.00000000e+000]])"
      ]
     },
     "execution_count": 13,
     "metadata": {},
     "output_type": "execute_result"
    }
   ],
   "source": [
    "reading_similarity"
   ]
  },
  {
   "cell_type": "code",
   "execution_count": 14,
   "id": "795b1022",
   "metadata": {},
   "outputs": [],
   "source": [
    "topics_from_class = df[['topics']].apply(lambda x: set(eval(x.topics)), axis=1).to_numpy().reshape(-1, 1)"
   ]
  },
  {
   "cell_type": "code",
   "execution_count": 15,
   "id": "837c32e4",
   "metadata": {},
   "outputs": [
    {
     "name": "stdout",
     "output_type": "stream",
     "text": [
      "(300, 300)\n",
      "(300, 300)\n",
      "True\n"
     ]
    }
   ],
   "source": [
    "from scipy.spatial.distance import pdist, cdist, squareform\n",
    "\n",
    "test1 = cdist(topics_from_class,topics_from_class, metric=lambda x, y: float(len(x[0].intersection(y[0])) / len(x[0].union(y[0]))))\n",
    "test2 = squareform(pdist(topics_from_class, metric=lambda x, y: 1 - (float(len(x[0].intersection(y[0])) / len(x[0].union(y[0]))))))\n",
    "\n",
    "print(test1.shape)\n",
    "print(test2.shape)\n",
    "print(np.allclose(test1, 1-test2))"
   ]
  },
  {
   "cell_type": "code",
   "execution_count": 20,
   "id": "385d2eb5",
   "metadata": {},
   "outputs": [
    {
     "name": "stdout",
     "output_type": "stream",
     "text": [
      "[[0.         0.125      0.125      ... 0.25       0.375      0.125     ]\n",
      " [0.125      0.         0.         ... 0.14285714 0.5        0.25      ]\n",
      " [0.125      0.         0.         ... 0.14285714 0.5        0.25      ]\n",
      " ...\n",
      " [0.25       0.14285714 0.14285714 ... 0.         0.625      0.375     ]\n",
      " [0.375      0.5        0.5        ... 0.625      0.         0.28571429]\n",
      " [0.125      0.25       0.25       ... 0.375      0.28571429 0.        ]]\n",
      "(300, 300)\n",
      "True\n"
     ]
    }
   ],
   "source": [
    "test3 = squareform(pdist(topics_one_hot, metric='jaccard'))\n",
    "print(test3)\n",
    "print(test3.shape)\n",
    "print(np.allclose(test2, test3))"
   ]
  },
  {
   "cell_type": "code",
   "execution_count": 26,
   "id": "4ece9afc",
   "metadata": {},
   "outputs": [
    {
     "name": "stderr",
     "output_type": "stream",
     "text": [
      "/opt/homebrew/anaconda3/lib/python3.10/site-packages/sklearn/metrics/pairwise.py:2025: DataConversionWarning: Data was converted to boolean for metric jaccard\n",
      "  warnings.warn(msg, DataConversionWarning)\n"
     ]
    },
    {
     "data": {
      "text/plain": [
       "(300, 300)"
      ]
     },
     "execution_count": 26,
     "metadata": {},
     "output_type": "execute_result"
    }
   ],
   "source": [
    "# Topics are sets of strings, we can use Jaccard similarity to compute similarity between topics\n",
    "from sklearn.metrics import pairwise_distances\n",
    "from scipy.spatial.distance import pdist\n",
    "topics_similarity = 1 - pairwise_distances(topics_one_hot, metric='jaccard')\n",
    "topics_similarity.shape"
   ]
  },
  {
   "cell_type": "code",
   "execution_count": 188,
   "id": "49f7ac18",
   "metadata": {},
   "outputs": [
    {
     "data": {
      "text/plain": [
       "array([[1.        , 0.875     , 0.875     , ..., 0.75      , 0.625     ,\n",
       "        0.875     ],\n",
       "       [0.875     , 1.        , 1.        , ..., 0.85714286, 0.5       ,\n",
       "        0.75      ],\n",
       "       [0.875     , 1.        , 1.        , ..., 0.85714286, 0.5       ,\n",
       "        0.75      ],\n",
       "       ...,\n",
       "       [0.75      , 0.85714286, 0.85714286, ..., 1.        , 0.375     ,\n",
       "        0.625     ],\n",
       "       [0.625     , 0.5       , 0.5       , ..., 0.375     , 1.        ,\n",
       "        0.71428571],\n",
       "       [0.875     , 0.75      , 0.75      , ..., 0.625     , 0.71428571,\n",
       "        1.        ]])"
      ]
     },
     "execution_count": 188,
     "metadata": {},
     "output_type": "execute_result"
    }
   ],
   "source": [
    "topics_similarity"
   ]
  },
  {
   "cell_type": "code",
   "execution_count": 189,
   "id": "9cbacedb",
   "metadata": {},
   "outputs": [
    {
     "data": {
      "text/plain": [
       "array([[1.        , 0.46013854, 0.4375    , ..., 0.375     , 0.3125    ,\n",
       "        0.4375    ],\n",
       "       [0.46013854, 1.        , 0.5       , ..., 0.42857143, 0.25      ,\n",
       "        0.375     ],\n",
       "       [0.4375    , 0.5       , 1.        , ..., 0.42857143, 0.25      ,\n",
       "        0.76912   ],\n",
       "       ...,\n",
       "       [0.375     , 0.42857143, 0.42857143, ..., 1.        , 0.1875    ,\n",
       "        0.3125    ],\n",
       "       [0.3125    , 0.25      , 0.25      , ..., 0.1875    , 1.        ,\n",
       "        0.35714286],\n",
       "       [0.4375    , 0.375     , 0.76912   , ..., 0.3125    , 0.35714286,\n",
       "        1.        ]])"
      ]
     },
     "execution_count": 189,
     "metadata": {},
     "output_type": "execute_result"
    }
   ],
   "source": [
    "S = (reading_similarity + topics_similarity)/2\n",
    "S"
   ]
  },
  {
   "cell_type": "code",
   "execution_count": 194,
   "id": "11946873",
   "metadata": {},
   "outputs": [
    {
     "name": "stdout",
     "output_type": "stream",
     "text": [
      "Indexes shape:  (300, 5)\n",
      "arange shape:  (300, 1)\n",
      "(300,)\n"
     ]
    },
    {
     "name": "stderr",
     "output_type": "stream",
     "text": [
      "/opt/homebrew/anaconda3/lib/python3.10/site-packages/sklearn/manifold/_spectral_embedding.py:248: UserWarning: Array is not symmetric, and will be converted to symmetric by average with its transpose.\n",
      "  adjacency = check_symmetric(adjacency)\n",
      "/opt/homebrew/anaconda3/lib/python3.10/site-packages/sklearn/cluster/_kmeans.py:870: FutureWarning: The default value of `n_init` will change from 10 to 'auto' in 1.4. Set the value of `n_init` explicitly to suppress the warning\n",
      "  warnings.warn(\n"
     ]
    },
    {
     "data": {
      "text/plain": [
       "array([0, 0, 0, 0, 0, 1, 1, 0, 0, 0, 0, 0, 1, 0, 0, 0, 1, 1, 0, 0, 1, 0,\n",
       "       0, 0, 0, 0, 1, 0, 0, 0, 1, 1, 1, 0, 1, 0, 0, 0, 0, 0, 1, 0, 0, 0,\n",
       "       0, 0, 1, 0, 0, 1, 0, 0, 0, 0, 0, 0, 0, 0, 0, 0, 1, 0, 1, 0, 0, 0,\n",
       "       0, 0, 0, 0, 0, 0, 0, 1, 0, 1, 0, 0, 0, 1, 1, 0, 0, 0, 0, 0, 0, 0,\n",
       "       0, 0, 0, 0, 0, 1, 0, 0, 0, 0, 1, 0, 0, 0, 0, 0, 1, 0, 0, 1, 0, 0,\n",
       "       0, 1, 0, 0, 0, 0, 0, 1, 0, 0, 0, 1, 0, 0, 0, 0, 1, 0, 0, 0, 0, 1,\n",
       "       1, 1, 0, 0, 0, 0, 0, 0, 0, 0, 1, 0, 0, 0, 1, 0, 0, 1, 0, 1, 0, 0,\n",
       "       0, 0, 1, 1, 0, 1, 0, 0, 0, 0, 0, 0, 1, 0, 1, 1, 0, 1, 0, 0, 0, 0,\n",
       "       0, 0, 0, 0, 1, 1, 1, 1, 1, 0, 0, 0, 0, 0, 0, 0, 0, 0, 0, 0, 0, 1,\n",
       "       0, 1, 1, 0, 0, 1, 0, 1, 0, 1, 0, 0, 0, 0, 0, 0, 0, 0, 0, 0, 1, 0,\n",
       "       0, 0, 0, 0, 0, 0, 0, 0, 0, 0, 0, 0, 0, 0, 1, 0, 0, 1, 0, 0, 0, 0,\n",
       "       0, 0, 1, 1, 0, 0, 0, 0, 0, 0, 1, 0, 0, 1, 0, 0, 0, 0, 1, 0, 0, 0,\n",
       "       0, 0, 0, 0, 1, 1, 0, 0, 1, 1, 0, 1, 0, 0, 0, 0, 0, 0, 0, 0, 0, 0,\n",
       "       0, 0, 0, 0, 0, 0, 0, 1, 1, 0, 0, 0, 1, 0], dtype=int32)"
      ]
     },
     "execution_count": 194,
     "metadata": {},
     "output_type": "execute_result"
    }
   ],
   "source": [
    "k = 4 # why 4 ??\n",
    "W = k_nearest_neighbor_graph(S, k)\n",
    "\n",
    "# Class spectral_clustering\n",
    "clusters = 2\n",
    "kmeans, proj_X, eigenvals_sorted = spectral_clustering(W, clusters)\n",
    "y_pred_k_4 = kmeans.labels_\n",
    "print(y_pred_k_4.shape)\n",
    "y_pred_k_4"
   ]
  },
  {
   "cell_type": "code",
   "execution_count": 195,
   "id": "372aaac6",
   "metadata": {},
   "outputs": [
    {
     "name": "stdout",
     "output_type": "stream",
     "text": [
      "Indexes shape:  (300, 3)\n",
      "arange shape:  (300, 1)\n",
      "(300,)\n"
     ]
    },
    {
     "name": "stderr",
     "output_type": "stream",
     "text": [
      "/opt/homebrew/anaconda3/lib/python3.10/site-packages/sklearn/manifold/_spectral_embedding.py:248: UserWarning: Array is not symmetric, and will be converted to symmetric by average with its transpose.\n",
      "  adjacency = check_symmetric(adjacency)\n",
      "/opt/homebrew/anaconda3/lib/python3.10/site-packages/sklearn/manifold/_spectral_embedding.py:274: UserWarning: Graph is not fully connected, spectral embedding may not work as expected.\n",
      "  warnings.warn(\n",
      "/opt/homebrew/anaconda3/lib/python3.10/site-packages/sklearn/cluster/_kmeans.py:870: FutureWarning: The default value of `n_init` will change from 10 to 'auto' in 1.4. Set the value of `n_init` explicitly to suppress the warning\n",
      "  warnings.warn(\n"
     ]
    },
    {
     "data": {
      "text/plain": [
       "array([0, 0, 0, 0, 0, 0, 0, 0, 0, 0, 0, 0, 0, 0, 0, 0, 0, 0, 0, 0, 0, 0,\n",
       "       0, 0, 0, 0, 0, 0, 0, 0, 0, 1, 0, 0, 0, 0, 0, 0, 0, 0, 0, 0, 0, 0,\n",
       "       0, 0, 0, 0, 0, 0, 0, 0, 0, 0, 0, 0, 0, 0, 0, 0, 0, 0, 0, 0, 0, 0,\n",
       "       0, 0, 0, 0, 0, 0, 0, 1, 0, 0, 0, 0, 0, 0, 0, 0, 0, 0, 0, 0, 0, 0,\n",
       "       0, 0, 0, 0, 0, 0, 0, 0, 0, 0, 0, 0, 0, 0, 0, 0, 1, 0, 0, 0, 0, 0,\n",
       "       0, 0, 0, 0, 0, 0, 0, 0, 0, 0, 0, 0, 0, 0, 0, 0, 0, 0, 0, 0, 0, 0,\n",
       "       0, 0, 0, 0, 0, 0, 0, 0, 0, 0, 0, 0, 0, 0, 0, 0, 0, 0, 0, 0, 0, 0,\n",
       "       0, 0, 0, 0, 0, 0, 0, 0, 0, 0, 0, 0, 0, 0, 0, 0, 0, 0, 0, 0, 0, 0,\n",
       "       0, 0, 0, 0, 0, 0, 0, 1, 0, 0, 0, 0, 0, 0, 0, 0, 0, 0, 0, 0, 0, 0,\n",
       "       0, 0, 0, 0, 0, 0, 0, 0, 0, 0, 0, 0, 0, 0, 0, 0, 0, 0, 0, 0, 0, 0,\n",
       "       0, 0, 0, 0, 0, 0, 0, 0, 0, 0, 0, 0, 0, 0, 0, 0, 0, 0, 0, 0, 0, 0,\n",
       "       0, 0, 0, 0, 0, 0, 0, 0, 0, 0, 0, 0, 0, 0, 0, 0, 0, 0, 0, 0, 0, 0,\n",
       "       0, 0, 0, 0, 0, 0, 0, 0, 0, 0, 0, 0, 0, 0, 0, 0, 0, 0, 0, 0, 0, 0,\n",
       "       0, 0, 0, 0, 0, 0, 0, 0, 0, 0, 0, 0, 0, 0], dtype=int32)"
      ]
     },
     "execution_count": 195,
     "metadata": {},
     "output_type": "execute_result"
    }
   ],
   "source": [
    "k = 2\n",
    "W = k_nearest_neighbor_graph(S, k)\n",
    "\n",
    "# Class spectral_clustering\n",
    "clusters = 2\n",
    "kmeans, proj_X, eigenvals_sorted = spectral_clustering(W, clusters)\n",
    "y_pred_k_2 = kmeans.labels_\n",
    "print(y_pred_k_2.shape)\n",
    "y_pred_k_2"
   ]
  },
  {
   "cell_type": "code",
   "execution_count": 191,
   "id": "aa22f6c7",
   "metadata": {},
   "outputs": [
    {
     "name": "stdout",
     "output_type": "stream",
     "text": [
      "(300,)\n"
     ]
    },
    {
     "name": "stderr",
     "output_type": "stream",
     "text": [
      "/opt/homebrew/anaconda3/lib/python3.10/site-packages/sklearn/cluster/_kmeans.py:870: FutureWarning: The default value of `n_init` will change from 10 to 'auto' in 1.4. Set the value of `n_init` explicitly to suppress the warning\n",
      "  warnings.warn(\n"
     ]
    },
    {
     "data": {
      "text/plain": [
       "array([0, 0, 0, 0, 0, 0, 1, 0, 0, 0, 0, 0, 0, 0, 0, 0, 1, 0, 0, 0, 1, 0,\n",
       "       0, 0, 0, 0, 0, 0, 0, 0, 0, 1, 0, 0, 0, 0, 0, 0, 0, 0, 0, 0, 0, 0,\n",
       "       0, 0, 1, 0, 0, 0, 0, 0, 0, 0, 0, 0, 0, 0, 0, 0, 1, 0, 1, 0, 0, 0,\n",
       "       0, 0, 0, 0, 0, 0, 0, 1, 0, 0, 0, 0, 0, 1, 0, 0, 0, 0, 0, 0, 0, 0,\n",
       "       0, 0, 0, 0, 0, 0, 0, 0, 0, 0, 1, 0, 0, 0, 0, 0, 1, 0, 0, 0, 0, 0,\n",
       "       0, 0, 0, 0, 0, 0, 0, 0, 0, 0, 0, 0, 0, 0, 0, 0, 1, 0, 0, 0, 0, 0,\n",
       "       1, 0, 0, 0, 0, 0, 0, 0, 0, 0, 1, 0, 0, 0, 0, 0, 0, 0, 0, 1, 0, 0,\n",
       "       0, 0, 0, 0, 0, 0, 0, 0, 0, 0, 0, 0, 1, 0, 0, 1, 0, 0, 0, 0, 0, 0,\n",
       "       0, 0, 0, 0, 1, 0, 1, 1, 0, 0, 0, 0, 0, 0, 0, 0, 0, 0, 0, 0, 0, 0,\n",
       "       0, 0, 0, 0, 0, 0, 0, 1, 0, 1, 0, 0, 0, 0, 0, 0, 0, 0, 0, 0, 1, 0,\n",
       "       0, 0, 0, 0, 0, 0, 0, 0, 0, 0, 0, 0, 0, 0, 0, 0, 0, 1, 0, 0, 0, 0,\n",
       "       0, 0, 0, 0, 0, 0, 0, 0, 0, 0, 1, 0, 0, 0, 0, 0, 0, 0, 0, 0, 0, 0,\n",
       "       0, 0, 0, 0, 1, 1, 0, 0, 0, 0, 0, 0, 0, 0, 0, 0, 0, 0, 0, 0, 0, 0,\n",
       "       0, 0, 0, 0, 0, 0, 0, 0, 0, 0, 0, 0, 0, 0], dtype=int32)"
      ]
     },
     "execution_count": 191,
     "metadata": {},
     "output_type": "execute_result"
    }
   ],
   "source": [
    "k = 4 \n",
    "W = k_nearest_neighbor_graph_from_lecture(S, k)\n",
    "\n",
    "# Class spectral_clustering\n",
    "clusters = 2\n",
    "kmeans, proj_X, eigenvals_sorted = spectral_clustering(W, clusters)\n",
    "y_pred = kmeans.labels_\n",
    "print(y_pred.shape)\n",
    "y_pred"
   ]
  },
  {
   "cell_type": "code",
   "execution_count": 192,
   "id": "ebab4c94",
   "metadata": {},
   "outputs": [
    {
     "name": "stdout",
     "output_type": "stream",
     "text": [
      "Indexes shape:  (300, 5)\n",
      "arange shape:  (300, 1)\n",
      "False\n"
     ]
    }
   ],
   "source": [
    "W1 = k_nearest_neighbor_graph(S, 4)\n",
    "W2 = k_nearest_neighbor_graph_from_lecture(S, 4)\n",
    "print(np.allclose(W1, W2))"
   ]
  }
 ],
 "metadata": {
  "kernelspec": {
   "display_name": "Python",
   "language": "python",
   "name": "python3"
  },
  "language_info": {
   "codemirror_mode": {
    "name": "ipython",
    "version": 3
   },
   "file_extension": ".py",
   "mimetype": "text/x-python",
   "name": "python",
   "nbconvert_exporter": "python",
   "pygments_lexer": "ipython3",
   "version": "3.10.10"
  }
 },
 "nbformat": 4,
 "nbformat_minor": 5
}
