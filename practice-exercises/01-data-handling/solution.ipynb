{
 "cells": [
  {
   "cell_type": "markdown",
   "metadata": {
    "id": "06qRY9zr-k1g"
   },
   "source": [
    "# **Data Handling**\n",
    "---\n",
    "\n",
    "## Introduction\n",
    "\n",
    "You will apply different data exploration, cleaning, and visualization techniques. It is very important to take some time to understand the data. \n",
    "\n"
   ]
  },
  {
   "cell_type": "markdown",
   "metadata": {
    "id": "c66oKMZeUKJH"
   },
   "source": [
    "## **About the data** \n",
    "---\n",
    "The data set consists of 116,658 observations and 10 columns. It contains data of fifth-grade students, including their Math final exam grade.\n",
    "\n",
    "* Student ID: identifies uniquely every student. **Note that no two students have the same ID.** \n",
    "* Gender\n",
    "* School group: **There are only three groups school groups (A, B and C)**\n",
    "* Effort regulation (effort)\n",
    "* Family stress-level (stress)\n",
    "* Help-seeking behavior (feedback)\n",
    "* Regularity patterns of a student throughout the course (regularity)\n",
    "* Critical-thinking skills (critical)\n",
    "* Duration in minutes to solve final Math exam (minutes). **Should be numerical.**\n",
    "* Final Math exam grade (grade) \n",
    "\n",
    "\n",
    "**The data set is available in the folder data**"
   ]
  },
  {
   "cell_type": "code",
   "execution_count": 1,
   "metadata": {
    "colab": {
     "base_uri": "https://localhost:8080/"
    },
    "executionInfo": {
     "elapsed": 542,
     "status": "ok",
     "timestamp": 1614372519067,
     "user": {
      "displayName": "Paola Mejia",
      "photoUrl": "",
      "userId": "15451997563084296260"
     },
     "user_tz": -60
    },
    "id": "8fiPzOYRCh1X",
    "nbgrader": {
     "grade": true,
     "grade_id": "0-0",
     "locked": false,
     "points": 0,
     "schema_version": 3,
     "solution": true,
     "task": false
    },
    "outputId": "722b368a-d3c9-4e41-998c-cf62d6200c81"
   },
   "outputs": [],
   "source": [
    "# Your libraries here\n",
    "import re\n",
    "import math\n",
    "import numpy as np\n",
    "import pandas as pd\n",
    "import seaborn as sns\n",
    "import matplotlib.pyplot as plt\n",
    "# tells matplotlib to embed plots within the notebook\n",
    "%matplotlib inline\n"
   ]
  },
  {
   "cell_type": "markdown",
   "metadata": {
    "id": "0J0u6puC8QsZ"
   },
   "source": [
    "## **0 Load the data**\n",
    "---"
   ]
  },
  {
   "cell_type": "code",
   "execution_count": 2,
   "metadata": {
    "colab": {
     "base_uri": "https://localhost:8080/"
    },
    "executionInfo": {
     "elapsed": 566,
     "status": "ok",
     "timestamp": 1614372510379,
     "user": {
      "displayName": "Paola Mejia",
      "photoUrl": "",
      "userId": "15451997563084296260"
     },
     "user_tz": -60
    },
    "id": "CZP6kdJxPJ5p",
    "nbgrader": {
     "grade": true,
     "grade_id": "0-1",
     "locked": false,
     "points": 0,
     "schema_version": 3,
     "solution": true,
     "task": false
    },
    "outputId": "993b9d74-d624-44a3-abc6-508c046373bf"
   },
   "outputs": [],
   "source": [
    "### 0.1\n",
    "df = pd.read_csv(\"./data/school_performance.csv\", index_col=0)"
   ]
  },
  {
   "cell_type": "code",
   "execution_count": 3,
   "metadata": {},
   "outputs": [
    {
     "name": "stdout",
     "output_type": "stream",
     "text": [
      "length of the dataframe: 116658\n",
      "first rows of the dataframe:\n",
      "\n"
     ]
    },
    {
     "data": {
      "text/html": [
       "<div>\n",
       "<style scoped>\n",
       "    .dataframe tbody tr th:only-of-type {\n",
       "        vertical-align: middle;\n",
       "    }\n",
       "\n",
       "    .dataframe tbody tr th {\n",
       "        vertical-align: top;\n",
       "    }\n",
       "\n",
       "    .dataframe thead th {\n",
       "        text-align: right;\n",
       "    }\n",
       "</style>\n",
       "<table border=\"1\" class=\"dataframe\">\n",
       "  <thead>\n",
       "    <tr style=\"text-align: right;\">\n",
       "      <th></th>\n",
       "      <th>gender</th>\n",
       "      <th>school_group</th>\n",
       "      <th>effort</th>\n",
       "      <th>stress</th>\n",
       "      <th>feedback</th>\n",
       "      <th>regularity</th>\n",
       "      <th>critical</th>\n",
       "      <th>minutes</th>\n",
       "      <th>grade</th>\n",
       "    </tr>\n",
       "    <tr>\n",
       "      <th>student_id</th>\n",
       "      <th></th>\n",
       "      <th></th>\n",
       "      <th></th>\n",
       "      <th></th>\n",
       "      <th></th>\n",
       "      <th></th>\n",
       "      <th></th>\n",
       "      <th></th>\n",
       "      <th></th>\n",
       "    </tr>\n",
       "  </thead>\n",
       "  <tbody>\n",
       "    <tr>\n",
       "      <th>20404.0</th>\n",
       "      <td>male</td>\n",
       "      <td>99</td>\n",
       "      <td>5.997184</td>\n",
       "      <td>7.692678</td>\n",
       "      <td>24.722538</td>\n",
       "      <td>99.000000</td>\n",
       "      <td>2.01733</td>\n",
       "      <td>20.0</td>\n",
       "      <td>99.00</td>\n",
       "    </tr>\n",
       "    <tr>\n",
       "      <th>26683.0</th>\n",
       "      <td>female</td>\n",
       "      <td>99</td>\n",
       "      <td>6.017588</td>\n",
       "      <td>8.848776</td>\n",
       "      <td>99.000000</td>\n",
       "      <td>99.000000</td>\n",
       "      <td>99.00000</td>\n",
       "      <td>30.0</td>\n",
       "      <td>3.93</td>\n",
       "    </tr>\n",
       "    <tr>\n",
       "      <th>32954.0</th>\n",
       "      <td>99</td>\n",
       "      <td>99</td>\n",
       "      <td>6.070632</td>\n",
       "      <td>6.704850</td>\n",
       "      <td>24.448975</td>\n",
       "      <td>7.218109</td>\n",
       "      <td>99.00000</td>\n",
       "      <td>99</td>\n",
       "      <td>3.67</td>\n",
       "    </tr>\n",
       "    <tr>\n",
       "      <th>42595.0</th>\n",
       "      <td>99</td>\n",
       "      <td>99</td>\n",
       "      <td>5.996371</td>\n",
       "      <td>99.000000</td>\n",
       "      <td>99.000000</td>\n",
       "      <td>5.578566</td>\n",
       "      <td>1.02639</td>\n",
       "      <td>21.0</td>\n",
       "      <td>99.00</td>\n",
       "    </tr>\n",
       "    <tr>\n",
       "      <th>28603.0</th>\n",
       "      <td>male</td>\n",
       "      <td>99</td>\n",
       "      <td>99.000000</td>\n",
       "      <td>6.780604</td>\n",
       "      <td>99.000000</td>\n",
       "      <td>99.000000</td>\n",
       "      <td>99.00000</td>\n",
       "      <td>99</td>\n",
       "      <td>2.86</td>\n",
       "    </tr>\n",
       "  </tbody>\n",
       "</table>\n",
       "</div>"
      ],
      "text/plain": [
       "            gender school_group     effort     stress   feedback  regularity  \\\n",
       "student_id                                                                     \n",
       "20404.0       male           99   5.997184   7.692678  24.722538   99.000000   \n",
       "26683.0     female           99   6.017588   8.848776  99.000000   99.000000   \n",
       "32954.0         99           99   6.070632   6.704850  24.448975    7.218109   \n",
       "42595.0         99           99   5.996371  99.000000  99.000000    5.578566   \n",
       "28603.0       male           99  99.000000   6.780604  99.000000   99.000000   \n",
       "\n",
       "            critical minutes  grade  \n",
       "student_id                           \n",
       "20404.0      2.01733    20.0  99.00  \n",
       "26683.0     99.00000    30.0   3.93  \n",
       "32954.0     99.00000      99   3.67  \n",
       "42595.0      1.02639    21.0  99.00  \n",
       "28603.0     99.00000      99   2.86  "
      ]
     },
     "execution_count": 3,
     "metadata": {},
     "output_type": "execute_result"
    }
   ],
   "source": [
    "# Let's see how the dataframe looks like\n",
    "print(\"length of the dataframe:\", len(df))\n",
    "print(\"first rows of the dataframe:\\n\")\n",
    "df.head()"
   ]
  },
  {
   "cell_type": "code",
   "execution_count": 4,
   "metadata": {
    "executionInfo": {
     "elapsed": 490,
     "status": "ok",
     "timestamp": 1614372512839,
     "user": {
      "displayName": "Paola Mejia",
      "photoUrl": "",
      "userId": "15451997563084296260"
     },
     "user_tz": -60
    },
    "id": "YAv3-SQfGGAj",
    "nbgrader": {
     "grade": true,
     "grade_id": "0-1-1",
     "locked": true,
     "points": 0,
     "schema_version": 3,
     "solution": false,
     "task": false
    }
   },
   "outputs": [],
   "source": [
    "# TEST CELL, DONT MODIFY\n",
    "assert len(df) == 116658"
   ]
  },
  {
   "cell_type": "markdown",
   "metadata": {
    "id": "vblWzJFWWIux"
   },
   "source": [
    "<a id=\"section1\"></a>\n",
    "## **1 Data Exploration** \n",
    "---\n",
    "\n",
    "As mentioned in class, it is good practice to report the percentage of missing values per feature together with the features' descriptive statistics. \n",
    "\n",
    "In order to understand the data better, in this exercise, you should:\n",
    "\n",
    "1. Create a function that takes as input a DataFrame and returns a DataFrame with meaningful descriptive statistics and the percentage of missing values for numerical and categorical (object type) features. The process of data cleaning requires multiple iterations of data exploration. This function should be helpful for the later data cleaning exercises. \n",
    "\n",
    "2. Justify the choice of each descriptive statistic. What does each say about the data? Can you identify some irregularities? \n",
    "\n",
    "3. In a single figure, choose an appropriate type of graph for each feature and plot each feature individually.  \n",
    "\n",
    "4. Explain your observations. How are the features distributed (poisson, exponential, gaussian, etc)? Can you visually identify any outliers?\n",
    "\n"
   ]
  },
  {
   "cell_type": "markdown",
   "metadata": {},
   "source": [
    "### 1.1 \n",
    "**Create a function that takes as input a DataFrame and returns meaningful descriptive statistics and the percentage of missing values for numerical and categorical (object type) features.**\n",
    "\n",
    "\n",
    "The function should make a separation between numerical and categorical variables and compute specific descriptive statistics for the numerical features (for example: mean, standard deviation, median, min, max, etc) and appropriate statistics only for the categorical features (for example: unique values, mode, frequency of mode, etc). The percentage of missing values needs to be computed for both.\n"
   ]
  },
  {
   "cell_type": "code",
   "execution_count": 5,
   "metadata": {
    "executionInfo": {
     "elapsed": 491,
     "status": "ok",
     "timestamp": 1614372524619,
     "user": {
      "displayName": "Paola Mejia",
      "photoUrl": "",
      "userId": "15451997563084296260"
     },
     "user_tz": -60
    },
    "id": "kqJhQLO2WS7o",
    "nbgrader": {
     "grade": false,
     "grade_id": "1-1",
     "locked": false,
     "schema_version": 3,
     "solution": true,
     "task": false
    }
   },
   "outputs": [],
   "source": [
    "#### GRADED CELL ####\n",
    "### 1.1\n",
    "def get_feature_stats(df):\n",
    "    \"\"\"\n",
    "    Obtains descriptive statistics for all features and percentage of missing \n",
    "    values\n",
    "    \n",
    "    Parameters\n",
    "    ----------\n",
    "    df : DataFrame\n",
    "         Containing all data\n",
    "\n",
    "    Returns\n",
    "    -------\n",
    "    stats : DataFrame\n",
    "            Containing the statistics for all features.\n",
    "                   \n",
    "    \"\"\"\n",
    "    ### BEGIN SOLUTION\n",
    "    numerical = df.describe(include= ['float64'])\n",
    "    categorical = df.describe(include= ['object'])\n",
    "    stats = numerical.append(categorical)\n",
    "    #stats = df.describe(include= 'all') # alternative\n",
    "    \n",
    "    # Select the desired statistics\n",
    "    stats = stats.loc[['mean', 'std', '50%', 'unique', 'top', 'freq']]\n",
    "    percentage = df.isnull().sum(axis = 0)*100 / len(df)\n",
    "    stats.loc['missing_values'] = np.array(percentage)\n",
    "    ### END SOLUTION\n",
    "    return stats"
   ]
  },
  {
   "cell_type": "code",
   "execution_count": 6,
   "metadata": {
    "colab": {
     "base_uri": "https://localhost:8080/",
     "height": 283
    },
    "executionInfo": {
     "elapsed": 752,
     "status": "ok",
     "timestamp": 1614372525085,
     "user": {
      "displayName": "Paola Mejia",
      "photoUrl": "",
      "userId": "15451997563084296260"
     },
     "user_tz": -60
    },
    "id": "hTPtmvbQe74z",
    "outputId": "079274b7-4cf2-4598-9fe8-779d961b8480"
   },
   "outputs": [
    {
     "data": {
      "text/html": [
       "<div>\n",
       "<style scoped>\n",
       "    .dataframe tbody tr th:only-of-type {\n",
       "        vertical-align: middle;\n",
       "    }\n",
       "\n",
       "    .dataframe tbody tr th {\n",
       "        vertical-align: top;\n",
       "    }\n",
       "\n",
       "    .dataframe thead th {\n",
       "        text-align: right;\n",
       "    }\n",
       "</style>\n",
       "<table border=\"1\" class=\"dataframe\">\n",
       "  <thead>\n",
       "    <tr style=\"text-align: right;\">\n",
       "      <th></th>\n",
       "      <th>effort</th>\n",
       "      <th>stress</th>\n",
       "      <th>feedback</th>\n",
       "      <th>regularity</th>\n",
       "      <th>critical</th>\n",
       "      <th>grade</th>\n",
       "      <th>gender</th>\n",
       "      <th>school_group</th>\n",
       "      <th>minutes</th>\n",
       "    </tr>\n",
       "  </thead>\n",
       "  <tbody>\n",
       "    <tr>\n",
       "      <th>mean</th>\n",
       "      <td>52.489220</td>\n",
       "      <td>53.286495</td>\n",
       "      <td>57.247058</td>\n",
       "      <td>52.929855</td>\n",
       "      <td>50.165142</td>\n",
       "      <td>51.268639</td>\n",
       "      <td>NaN</td>\n",
       "      <td>NaN</td>\n",
       "      <td>NaN</td>\n",
       "    </tr>\n",
       "    <tr>\n",
       "      <th>std</th>\n",
       "      <td>46.510992</td>\n",
       "      <td>45.726888</td>\n",
       "      <td>42.073605</td>\n",
       "      <td>46.095884</td>\n",
       "      <td>48.855643</td>\n",
       "      <td>47.732656</td>\n",
       "      <td>NaN</td>\n",
       "      <td>NaN</td>\n",
       "      <td>NaN</td>\n",
       "    </tr>\n",
       "    <tr>\n",
       "      <th>50%</th>\n",
       "      <td>52.548300</td>\n",
       "      <td>57.699956</td>\n",
       "      <td>84.696590</td>\n",
       "      <td>78.691904</td>\n",
       "      <td>53.980298</td>\n",
       "      <td>52.775000</td>\n",
       "      <td>NaN</td>\n",
       "      <td>NaN</td>\n",
       "      <td>NaN</td>\n",
       "    </tr>\n",
       "    <tr>\n",
       "      <th>unique</th>\n",
       "      <td>NaN</td>\n",
       "      <td>NaN</td>\n",
       "      <td>NaN</td>\n",
       "      <td>NaN</td>\n",
       "      <td>NaN</td>\n",
       "      <td>NaN</td>\n",
       "      <td>3</td>\n",
       "      <td>8</td>\n",
       "      <td>50</td>\n",
       "    </tr>\n",
       "    <tr>\n",
       "      <th>top</th>\n",
       "      <td>NaN</td>\n",
       "      <td>NaN</td>\n",
       "      <td>NaN</td>\n",
       "      <td>NaN</td>\n",
       "      <td>NaN</td>\n",
       "      <td>NaN</td>\n",
       "      <td>99</td>\n",
       "      <td>99</td>\n",
       "      <td>99</td>\n",
       "    </tr>\n",
       "    <tr>\n",
       "      <th>freq</th>\n",
       "      <td>NaN</td>\n",
       "      <td>NaN</td>\n",
       "      <td>NaN</td>\n",
       "      <td>NaN</td>\n",
       "      <td>NaN</td>\n",
       "      <td>NaN</td>\n",
       "      <td>58329</td>\n",
       "      <td>58329</td>\n",
       "      <td>58329</td>\n",
       "    </tr>\n",
       "    <tr>\n",
       "      <th>missing_values</th>\n",
       "      <td>0.000000</td>\n",
       "      <td>0.000000</td>\n",
       "      <td>0.000000</td>\n",
       "      <td>0.000000</td>\n",
       "      <td>0.000000</td>\n",
       "      <td>0.000000</td>\n",
       "      <td>0.0</td>\n",
       "      <td>0.0</td>\n",
       "      <td>0.0</td>\n",
       "    </tr>\n",
       "  </tbody>\n",
       "</table>\n",
       "</div>"
      ],
      "text/plain": [
       "                   effort     stress   feedback  regularity   critical  \\\n",
       "mean            52.489220  53.286495  57.247058   52.929855  50.165142   \n",
       "std             46.510992  45.726888  42.073605   46.095884  48.855643   \n",
       "50%             52.548300  57.699956  84.696590   78.691904  53.980298   \n",
       "unique                NaN        NaN        NaN         NaN        NaN   \n",
       "top                   NaN        NaN        NaN         NaN        NaN   \n",
       "freq                  NaN        NaN        NaN         NaN        NaN   \n",
       "missing_values   0.000000   0.000000   0.000000    0.000000   0.000000   \n",
       "\n",
       "                    grade gender school_group minutes  \n",
       "mean            51.268639    NaN          NaN     NaN  \n",
       "std             47.732656    NaN          NaN     NaN  \n",
       "50%             52.775000    NaN          NaN     NaN  \n",
       "unique                NaN      3            8      50  \n",
       "top                   NaN     99           99      99  \n",
       "freq                  NaN  58329        58329   58329  \n",
       "missing_values   0.000000    0.0          0.0     0.0  "
      ]
     },
     "execution_count": 6,
     "metadata": {},
     "output_type": "execute_result"
    }
   ],
   "source": [
    "stats = get_feature_stats(df)\n",
    "stats"
   ]
  },
  {
   "cell_type": "markdown",
   "metadata": {},
   "source": [
    "### 1.2\n",
    "**Justify the choice of each descriptive statistic. What do they say about the data? Can you identify some irregularities?** \n",
    "\n",
    "In the first step, we need to distinguish between numerical features and categorical features. From the data frame, it seems that the following features should be numeric: effort, stress, feedback, regularity, critical, minutes and grades.\n",
    "\n",
    "In the lecture, we have seen that when computing the descriptive statistics of numeric features, we are interested in the center, the spread, and the shape of each feature. We will now focus on identifying the center and the spread, as tasks 1.3 and 1.4 will focus on the shape of the features (distribution). We compute the mean of all the numerical features to get an idea where their center is and the standard deviation to get an idea of the spread. In addition, we have also computed the median. Comparing the mean and the median can already give us insights on whether there might be outliers in our data (i.e. is the median far away from the mean?). Moreover we can compute the maximum and minimum of the features.\n",
    "\n",
    "The categorical features are: gender and school group. For these features, we report the unique values of each feature to check for possible inconsistencies. For school group, we expect the unique values to be “A”, “B”, and “C”. For gender, we would expect male and female and possibly a third category indicating “neither of them”. Moreover, using top, we can find the most common values for a categorical feature and with freq their frequency of appearance in the feature.\n",
    "\n",
    "For the percentage of missing values, you can first find all the non-null values of each feature using isnull() and then calculate their proportion of all values. You will see that actually, there are no NaN values in the data set. However, if you are attentive, you can spot that there are many ‘99’s in the data set. You could therefore also consider to calculate the percentage of ‘99’s for each feature.\n",
    "By computing and analyzing all these measures for numerical and categorical features, we can observe the following irregularities:\n",
    "\n",
    "* The school group has 8 unique values, which contradicts the information from the introduction, stating that the data set contains only three school groups\n",
    "* There are only 58329 unique values for student_id, but 116658 rows in the data set\n",
    "* The ‘minutes’ column appears to be categorical, although it is expected to be numerical ‘99’ is the maximum value for all numerical features (except student_id) and the top value for all categorical features. If you also calculated their percentage in each feature, you will see that they make up 50% of the entries for each feature (except for student_id)!\n"
   ]
  },
  {
   "cell_type": "markdown",
   "metadata": {},
   "source": [
    "### 1.3\n",
    "In a single figure, choose an appropriate type of graph for each feature and plot each feature individually.\n",
    "\n",
    "\n",
    "\n",
    "For this task, it is important to choose the appropriate type of graphs for each of the 9 main features (we excluded the student_id here, because plotting them would not provide us with any interesting information). \n",
    "\n",
    "For the categorical data an appropriate type of graph would be barplots, in order to visualize the distribution of the different values for the features. \n",
    "For the numerical data on the other hand, you could use histograms to visualize the distribution of the different values for the features.\n",
    "\n",
    "Especially for the histograms **it is important that you adjust the plots (bin size) appropriately**, in order to be able to gain some insights. For instance, you could consider adjusting the sizes of the bins or the scales for the x- and y-axes. For this data set in particular, you might have noticed that the appearance of the ‘99’s may distort the plots, making it difficult to see the distribution of the valid data. One way to deal with this is to go back to the plots, once the ‘99s’ have been handled. \n",
    "Finally, you should use subplots to display all the nine plots in the same figure."
   ]
  },
  {
   "cell_type": "code",
   "execution_count": 7,
   "metadata": {
    "nbgrader": {
     "grade": true,
     "grade_id": "1-3",
     "locked": false,
     "points": 10,
     "schema_version": 3,
     "solution": true,
     "task": false
    }
   },
   "outputs": [],
   "source": [
    "#### GRADED CELL ####\n",
    "### 1.3\n",
    "\n",
    "def plot_features(df):\n",
    "    \"\"\"\n",
    "    Plots all features individually in the same figure\n",
    "    \n",
    "    Parameters\n",
    "    ----------\n",
    "    df : DataFrame\n",
    "         Containing all data\n",
    "         \n",
    "    Hint\n",
    "    ------\n",
    "    To have multiple plots in a single figure see pyplot.figure\n",
    "\n",
    "    \"\"\"    \n",
    "    df = df.copy()\n",
    "    \n",
    "    def plot_features(df, title):\n",
    "        continuous_cols = list(df._get_numeric_data().columns)\n",
    "        categorical_cols = list(set(df.columns) - set(continuous_cols))\n",
    "        fig, axes = plt.subplots(3, 3, figsize=(15,10))\n",
    "        for i, col in enumerate(df.columns):\n",
    "            ax = axes[i // 3, i % 3]\n",
    "            data = df[~df[col].isna()]\n",
    "            if col in continuous_cols:\n",
    "                sns.histplot(data=data[col], bins=50, ax=ax) #Filter out nan values in the features\n",
    "            elif col in categorical_cols:\n",
    "                sns.countplot(data=data, x=col, ax=ax)\n",
    "            else:\n",
    "                print(col)\n",
    "        fig.suptitle(title)\n",
    "        fig.tight_layout()\n",
    "        plt.show()\n",
    "    \n",
    "    \n",
    "    plot_features(df,\"Raw data\")\n",
    "    # For plotting purposes, we removed the 99 values from the numerical features \n",
    "    # to see the distributions more clearly\n",
    "    df[(df == 99) | (df == '99')] = np.nan\n",
    "\n",
    "    plot_features(df, \"Data without 99 values\")\n",
    "    "
   ]
  },
  {
   "cell_type": "code",
   "execution_count": 8,
   "metadata": {},
   "outputs": [
    {
     "data": {
      "image/png": "[encoded data removed]",
      "text/plain": [
       "<Figure size 1080x720 with 9 Axes>"
      ]
     },
     "metadata": {
      "needs_background": "light"
     },
     "output_type": "display_data"
    },
    {
     "data": {
      "image/png": "[encoded data removed]",
      "text/plain": [
       "<Figure size 1080x720 with 9 Axes>"
      ]
     },
     "metadata": {
      "needs_background": "light"
     },
     "output_type": "display_data"
    }
   ],
   "source": [
    "sample = df.sample(n=1000)\n",
    "plot_features(sample)"
   ]
  },
  {
   "cell_type": "markdown",
   "metadata": {},
   "source": [
    "### 1.4\n",
    "**Explain your observations. How are the features distributed (poisson, exponential, gaussian, etc)? Can you visually identify outliers?**\n",
    "\n",
    "From the plots it can be clearly seen that the ‘99’s seem to be outliers. Once you have appropriately adjusted your plots, you will be able to identify the following distributions for the features:\n",
    "* Gender: The data set is balanced between males and females (uniform).\n",
    "School groups: Also the school groups appear to be rather balanced (roughly uniform)\n",
    "* Effort: The distribution is slightly left skewed, could be weibull.\n",
    "* Stress: The distribution is slightly right skewed, could be roughly gaussian or gamma distributed\n",
    "* Feedback: The distribution is right skewed, could be gamma distributed\n",
    "* Regularity: The distribution is right skewed, could be log normal. \n",
    "* Critical: The distribution looks gaussian\n",
    "* Minutes: The distribution looks roughly uniform\n",
    "* Grades: The distribution looks roughly gaussian\n",
    "\n",
    "\n"
   ]
  },
  {
   "cell_type": "markdown",
   "metadata": {
    "id": "Q7_JzCy1-k14"
   },
   "source": [
    "<a id=\"section2\"></a>\n",
    "## **2 Data Cleaning** \n",
    "---\n",
    "\n",
    "Using your findings from the previous section, carefully continue to explore the data set and do the following:\n",
    "\n",
    "1. Create a function to handle the missing values\n",
    "2. Justify your decisions to treat the missing values\n",
    "3. Create a function to handle the inconsistent data\n",
    "4. Justify your decisions to treat the inconsistent data\n"
   ]
  },
  {
   "cell_type": "markdown",
   "metadata": {},
   "source": [
    "### 2.1\n",
    "**Create a function to handle the missing values**\n",
    "\n"
   ]
  },
  {
   "cell_type": "code",
   "execution_count": 9,
   "metadata": {
    "id": "5u1VBI7-fFwT",
    "nbgrader": {
     "grade": true,
     "grade_id": "2-1",
     "locked": false,
     "points": 10,
     "schema_version": 3,
     "solution": true,
     "task": false
    }
   },
   "outputs": [],
   "source": [
    "#### GRADED CELL ####\n",
    "### 2.1\n",
    "def handle_missing_values(df):\n",
    "    \"\"\"\n",
    "    Identifies and removes all missing values\n",
    "\n",
    "    Parameters\n",
    "    ----------\n",
    "    df : DataFrame\n",
    "      Containing missing values\n",
    "\n",
    "    Returns\n",
    "    -------\n",
    "    df : DataFrame\n",
    "      Without missing values\n",
    "\n",
    "    Hint:\n",
    "    -----\n",
    "    Try to understand the pattern in the missing values    \n",
    "    \"\"\"\n",
    "    ### BEGIN SOLUTION \n",
    "    df = df.replace([99,'99'], np.nan)\n",
    "    df = df.groupby(['student_id']).first()\n",
    "    ### END SOLUTION\n",
    "    return df\n"
   ]
  },
  {
   "cell_type": "code",
   "execution_count": 10,
   "metadata": {
    "colab": {
     "base_uri": "https://localhost:8080/"
    },
    "executionInfo": {
     "elapsed": 2724,
     "status": "ok",
     "timestamp": 1614268885493,
     "user": {
      "displayName": "Paola Mejia",
      "photoUrl": "",
      "userId": "15451997563084296260"
     },
     "user_tz": -60
    },
    "id": "V7tT2gePD9kp",
    "outputId": "855a51b7-a29c-4eb0-bdc8-733c69426aee"
   },
   "outputs": [
    {
     "name": "stdout",
     "output_type": "stream",
     "text": [
      "length of the dataframe: 58329\n"
     ]
    },
    {
     "data": {
      "text/html": [
       "<div>\n",
       "<style scoped>\n",
       "    .dataframe tbody tr th:only-of-type {\n",
       "        vertical-align: middle;\n",
       "    }\n",
       "\n",
       "    .dataframe tbody tr th {\n",
       "        vertical-align: top;\n",
       "    }\n",
       "\n",
       "    .dataframe thead th {\n",
       "        text-align: right;\n",
       "    }\n",
       "</style>\n",
       "<table border=\"1\" class=\"dataframe\">\n",
       "  <thead>\n",
       "    <tr style=\"text-align: right;\">\n",
       "      <th></th>\n",
       "      <th>gender</th>\n",
       "      <th>school_group</th>\n",
       "      <th>effort</th>\n",
       "      <th>stress</th>\n",
       "      <th>feedback</th>\n",
       "      <th>regularity</th>\n",
       "      <th>critical</th>\n",
       "      <th>minutes</th>\n",
       "      <th>grade</th>\n",
       "    </tr>\n",
       "    <tr>\n",
       "      <th>student_id</th>\n",
       "      <th></th>\n",
       "      <th></th>\n",
       "      <th></th>\n",
       "      <th></th>\n",
       "      <th></th>\n",
       "      <th></th>\n",
       "      <th></th>\n",
       "      <th></th>\n",
       "      <th></th>\n",
       "    </tr>\n",
       "  </thead>\n",
       "  <tbody>\n",
       "    <tr>\n",
       "      <th>1.0</th>\n",
       "      <td>female</td>\n",
       "      <td>A</td>\n",
       "      <td>5.974496</td>\n",
       "      <td>9.688888</td>\n",
       "      <td>24.563935</td>\n",
       "      <td>6.639488</td>\n",
       "      <td>-1.795853</td>\n",
       "      <td>1 hr</td>\n",
       "      <td>3.41</td>\n",
       "    </tr>\n",
       "    <tr>\n",
       "      <th>2.0</th>\n",
       "      <td>male</td>\n",
       "      <td>a</td>\n",
       "      <td>5.982265</td>\n",
       "      <td>9.788799</td>\n",
       "      <td>18.722110</td>\n",
       "      <td>5.705770</td>\n",
       "      <td>0.952679</td>\n",
       "      <td>2hrs</td>\n",
       "      <td>2.66</td>\n",
       "    </tr>\n",
       "    <tr>\n",
       "      <th>3.0</th>\n",
       "      <td>male</td>\n",
       "      <td>cc</td>\n",
       "      <td>6.011487</td>\n",
       "      <td>7.847762</td>\n",
       "      <td>15.577682</td>\n",
       "      <td>5.821650</td>\n",
       "      <td>2.913822</td>\n",
       "      <td>2 hours</td>\n",
       "      <td>3.80</td>\n",
       "    </tr>\n",
       "    <tr>\n",
       "      <th>4.0</th>\n",
       "      <td>female</td>\n",
       "      <td>b</td>\n",
       "      <td>5.838975</td>\n",
       "      <td>6.155117</td>\n",
       "      <td>18.597183</td>\n",
       "      <td>5.137559</td>\n",
       "      <td>2.481461</td>\n",
       "      <td>30 min</td>\n",
       "      <td>3.53</td>\n",
       "    </tr>\n",
       "    <tr>\n",
       "      <th>5.0</th>\n",
       "      <td>female</td>\n",
       "      <td>cc</td>\n",
       "      <td>6.013486</td>\n",
       "      <td>6.848094</td>\n",
       "      <td>12.498195</td>\n",
       "      <td>6.447001</td>\n",
       "      <td>2.015520</td>\n",
       "      <td>45 min</td>\n",
       "      <td>3.88</td>\n",
       "    </tr>\n",
       "  </tbody>\n",
       "</table>\n",
       "</div>"
      ],
      "text/plain": [
       "            gender school_group    effort    stress   feedback  regularity  \\\n",
       "student_id                                                                   \n",
       "1.0         female            A  5.974496  9.688888  24.563935    6.639488   \n",
       "2.0           male            a  5.982265  9.788799  18.722110    5.705770   \n",
       "3.0           male           cc  6.011487  7.847762  15.577682    5.821650   \n",
       "4.0         female            b  5.838975  6.155117  18.597183    5.137559   \n",
       "5.0         female           cc  6.013486  6.848094  12.498195    6.447001   \n",
       "\n",
       "            critical  minutes  grade  \n",
       "student_id                            \n",
       "1.0        -1.795853     1 hr   3.41  \n",
       "2.0         0.952679     2hrs   2.66  \n",
       "3.0         2.913822  2 hours   3.80  \n",
       "4.0         2.481461   30 min   3.53  \n",
       "5.0         2.015520   45 min   3.88  "
      ]
     },
     "execution_count": 10,
     "metadata": {},
     "output_type": "execute_result"
    }
   ],
   "source": [
    "df = handle_missing_values(df)\n",
    "print(\"length of the dataframe:\", len(df))\n",
    "df.head()"
   ]
  },
  {
   "cell_type": "code",
   "execution_count": 11,
   "metadata": {
    "id": "hl-Q-yTmHeh6"
   },
   "outputs": [
    {
     "data": {
      "text/html": [
       "<div>\n",
       "<style scoped>\n",
       "    .dataframe tbody tr th:only-of-type {\n",
       "        vertical-align: middle;\n",
       "    }\n",
       "\n",
       "    .dataframe tbody tr th {\n",
       "        vertical-align: top;\n",
       "    }\n",
       "\n",
       "    .dataframe thead th {\n",
       "        text-align: right;\n",
       "    }\n",
       "</style>\n",
       "<table border=\"1\" class=\"dataframe\">\n",
       "  <thead>\n",
       "    <tr style=\"text-align: right;\">\n",
       "      <th></th>\n",
       "      <th>effort</th>\n",
       "      <th>stress</th>\n",
       "      <th>feedback</th>\n",
       "      <th>regularity</th>\n",
       "      <th>critical</th>\n",
       "      <th>grade</th>\n",
       "      <th>gender</th>\n",
       "      <th>school_group</th>\n",
       "      <th>minutes</th>\n",
       "    </tr>\n",
       "  </thead>\n",
       "  <tbody>\n",
       "    <tr>\n",
       "      <th>mean</th>\n",
       "      <td>5.978440</td>\n",
       "      <td>7.572990</td>\n",
       "      <td>15.494115</td>\n",
       "      <td>6.859709</td>\n",
       "      <td>1.330283</td>\n",
       "      <td>3.537279</td>\n",
       "      <td>NaN</td>\n",
       "      <td>NaN</td>\n",
       "      <td>NaN</td>\n",
       "    </tr>\n",
       "    <tr>\n",
       "      <th>std</th>\n",
       "      <td>0.048722</td>\n",
       "      <td>1.552971</td>\n",
       "      <td>7.330119</td>\n",
       "      <td>2.169821</td>\n",
       "      <td>2.005023</td>\n",
       "      <td>0.456478</td>\n",
       "      <td>NaN</td>\n",
       "      <td>NaN</td>\n",
       "      <td>NaN</td>\n",
       "    </tr>\n",
       "    <tr>\n",
       "      <th>50%</th>\n",
       "      <td>5.985351</td>\n",
       "      <td>7.401787</td>\n",
       "      <td>12.843072</td>\n",
       "      <td>6.227957</td>\n",
       "      <td>1.372255</td>\n",
       "      <td>3.600000</td>\n",
       "      <td>NaN</td>\n",
       "      <td>NaN</td>\n",
       "      <td>NaN</td>\n",
       "    </tr>\n",
       "    <tr>\n",
       "      <th>unique</th>\n",
       "      <td>NaN</td>\n",
       "      <td>NaN</td>\n",
       "      <td>NaN</td>\n",
       "      <td>NaN</td>\n",
       "      <td>NaN</td>\n",
       "      <td>NaN</td>\n",
       "      <td>2</td>\n",
       "      <td>7</td>\n",
       "      <td>49</td>\n",
       "    </tr>\n",
       "    <tr>\n",
       "      <th>top</th>\n",
       "      <td>NaN</td>\n",
       "      <td>NaN</td>\n",
       "      <td>NaN</td>\n",
       "      <td>NaN</td>\n",
       "      <td>NaN</td>\n",
       "      <td>NaN</td>\n",
       "      <td>female</td>\n",
       "      <td>b</td>\n",
       "      <td>30.0</td>\n",
       "    </tr>\n",
       "    <tr>\n",
       "      <th>freq</th>\n",
       "      <td>NaN</td>\n",
       "      <td>NaN</td>\n",
       "      <td>NaN</td>\n",
       "      <td>NaN</td>\n",
       "      <td>NaN</td>\n",
       "      <td>NaN</td>\n",
       "      <td>29295</td>\n",
       "      <td>8414</td>\n",
       "      <td>1740</td>\n",
       "    </tr>\n",
       "    <tr>\n",
       "      <th>missing_values</th>\n",
       "      <td>0.000000</td>\n",
       "      <td>0.000000</td>\n",
       "      <td>0.000000</td>\n",
       "      <td>0.000000</td>\n",
       "      <td>0.000000</td>\n",
       "      <td>0.000000</td>\n",
       "      <td>0.0</td>\n",
       "      <td>0.0</td>\n",
       "      <td>0.0</td>\n",
       "    </tr>\n",
       "  </tbody>\n",
       "</table>\n",
       "</div>"
      ],
      "text/plain": [
       "                  effort    stress   feedback  regularity  critical     grade  \\\n",
       "mean            5.978440  7.572990  15.494115    6.859709  1.330283  3.537279   \n",
       "std             0.048722  1.552971   7.330119    2.169821  2.005023  0.456478   \n",
       "50%             5.985351  7.401787  12.843072    6.227957  1.372255  3.600000   \n",
       "unique               NaN       NaN        NaN         NaN       NaN       NaN   \n",
       "top                  NaN       NaN        NaN         NaN       NaN       NaN   \n",
       "freq                 NaN       NaN        NaN         NaN       NaN       NaN   \n",
       "missing_values  0.000000  0.000000   0.000000    0.000000  0.000000  0.000000   \n",
       "\n",
       "                gender school_group minutes  \n",
       "mean               NaN          NaN     NaN  \n",
       "std                NaN          NaN     NaN  \n",
       "50%                NaN          NaN     NaN  \n",
       "unique               2            7      49  \n",
       "top             female            b    30.0  \n",
       "freq             29295         8414    1740  \n",
       "missing_values     0.0          0.0     0.0  "
      ]
     },
     "execution_count": 11,
     "metadata": {},
     "output_type": "execute_result"
    }
   ],
   "source": [
    "# take a look at the new dataframe stats and compare it with the original\n",
    "get_feature_stats(df)"
   ]
  },
  {
   "cell_type": "markdown",
   "metadata": {},
   "source": [
    "### 2.2 \n",
    "**Justify your decisions to treat the missing values. Are there missing values? If so, how are the missing values encoded? Why are there missing values? Is there a pattern in the values missing?**\n",
    "\n",
    "\n",
    "As we have seen from the previous analyses, the ‘99’s seem to encode missing values in the data set. Furthermore, we have seen that there are double as many entries as unique values for student_id in the data set. This can be further investigated by inspecting a few examples of student_id and exploring their entries. By doing this, we can see that for each student_id, there are 2 entries in the data set containing complementary data (i.e., if one entry contains ‘99’s, the real values can be found in the other entry of the same student_id). Hence by combining the data from both entries of a student_id, we can replace the ‘99’s with meaningful values and reduce the size of the dataframe by half."
   ]
  },
  {
   "cell_type": "markdown",
   "metadata": {},
   "source": [
    "### 2.3 \n",
    "**Create a function to handle the inconsistent data**\n"
   ]
  },
  {
   "cell_type": "code",
   "execution_count": 12,
   "metadata": {
    "id": "axniAWlNfMmr",
    "nbgrader": {
     "grade": true,
     "grade_id": "2-3",
     "locked": false,
     "points": 0,
     "schema_version": 3,
     "solution": true,
     "task": false
    }
   },
   "outputs": [],
   "source": [
    "#### GRADED CELL ####\n",
    "### 2.3\n",
    "def handle_inconsistent_data(df):\n",
    "    \"\"\"\n",
    "    Identifies features with inconsistent data types and transforms features\n",
    "    to the correct data type (numerical, object). \n",
    "\n",
    "    Parameters\n",
    "    ----------\n",
    "    df : DataFrame\n",
    "      Containing inconsistent data\n",
    "\n",
    "    Returns\n",
    "    -------\n",
    "    df : DataFrame\n",
    "       With consistent data. All columns must be either numerical or categorical\n",
    "\n",
    "    Hint:\n",
    "    -----\n",
    "    Don't forget to convert the features into the correct data type \n",
    "    \"\"\"\n",
    "    ### BEGIN SOLUTION\n",
    "    mapping_time = {'1 hr': 60, '2hrs': 120, '2 hours': 120, '30 min': 30,\n",
    "                    '45 min': 45, '60 minutes': 60, '1.5 hours':90 }\n",
    "    mapping_group = {'a':'A', 'b':'B', 'c':'C', 'aa': 'A', 'Bb':'B', 'cc':'C'}\n",
    "\n",
    "    df = df.replace({'minutes': mapping_time, 'school_group': mapping_group})\n",
    "    df['minutes'] = pd.to_numeric(df['minutes'])\n",
    "    ### END SOLUTION\n",
    "    return df"
   ]
  },
  {
   "cell_type": "code",
   "execution_count": 13,
   "metadata": {
    "colab": {
     "base_uri": "https://localhost:8080/"
    },
    "executionInfo": {
     "elapsed": 2715,
     "status": "ok",
     "timestamp": 1614268885495,
     "user": {
      "displayName": "Paola Mejia",
      "photoUrl": "",
      "userId": "15451997563084296260"
     },
     "user_tz": -60
    },
    "id": "BH11lf3lEgJH",
    "outputId": "0bfe02bc-8e5e-4da6-9986-68b50c4090bb"
   },
   "outputs": [
    {
     "name": "stdout",
     "output_type": "stream",
     "text": [
      "58329\n",
      "            gender school_group    effort    stress   feedback  regularity  \\\n",
      "student_id                                                                   \n",
      "1.0         female            A  5.974496  9.688888  24.563935    6.639488   \n",
      "2.0           male            A  5.982265  9.788799  18.722110    5.705770   \n",
      "3.0           male            C  6.011487  7.847762  15.577682    5.821650   \n",
      "4.0         female            B  5.838975  6.155117  18.597183    5.137559   \n",
      "5.0         female            C  6.013486  6.848094  12.498195    6.447001   \n",
      "\n",
      "            critical  minutes  grade  \n",
      "student_id                            \n",
      "1.0        -1.795853     60.0   3.41  \n",
      "2.0         0.952679    120.0   2.66  \n",
      "3.0         2.913822    120.0   3.80  \n",
      "4.0         2.481461     30.0   3.53  \n",
      "5.0         2.015520     45.0   3.88  \n",
      "                  effort    stress   feedback  regularity  critical  \\\n",
      "mean            5.978440  7.572990  15.494115    6.859709  1.330283   \n",
      "std             0.048722  1.552971   7.330119    2.169821  2.005023   \n",
      "50%             5.985351  7.401787  12.843072    6.227957  1.372255   \n",
      "unique               NaN       NaN        NaN         NaN       NaN   \n",
      "top                  NaN       NaN        NaN         NaN       NaN   \n",
      "freq                 NaN       NaN        NaN         NaN       NaN   \n",
      "missing_values  0.000000  0.000000   0.000000    0.000000  0.000000   \n",
      "\n",
      "                  minutes     grade  gender school_group  \n",
      "mean            36.041300  3.537279     NaN          NaN  \n",
      "std             10.183264  0.456478     NaN          NaN  \n",
      "50%             36.000000  3.600000     NaN          NaN  \n",
      "unique                NaN       NaN       2            3  \n",
      "top                   NaN       NaN  female            B  \n",
      "freq                  NaN       NaN   29295        25007  \n",
      "missing_values   0.000000  0.000000     0.0          0.0  \n"
     ]
    }
   ],
   "source": [
    "df = handle_inconsistent_data(df)\n",
    "print(len(df))\n",
    "print(df.head())\n",
    "print(get_feature_stats(df))"
   ]
  },
  {
   "cell_type": "markdown",
   "metadata": {},
   "source": [
    "### 2.4 \n",
    "**Justify your decisions to treat the inconsistent data. Were there columns with inconsistent data types? How did you identify them?** \n",
    "\n",
    "As we have seen from the previous analyses, in addition to the missing values encoded as ‘99’s, there are two additional features with inconsistent data.  \n",
    "\n",
    "First, there is the school group feature, for which we found 8 types of unique values, instead of the expected three. One of the expected types, the ‘99’s, has already been treated in the previous task. To find the remaining ones, you can for instance apply the ‘unique’ function to the school_group column. Doing so, you will see that instead of the original school groups (A,B and C) there are also rows with misspelled entries (a, b, c, aa, Bb, cc). To treat these inconsistencies you can replace the misspelled entries with their correct values.\n",
    "\n",
    "Second, there is the minutes feature, which was expected to be numerical, but seems to be categorical. By inspecting the values for this feature, we find that the entries are very inconsistent, with values including strings that describe the units in different forms (‘min’, ‘minutes’, ‘hrs’ or ‘hours’) as well as values provided in hours. To treat this inconsistent data, we decide to transform all the values into minutes and remove the strings, before transforming this feature to a numeric column.\n",
    "\n",
    " "
   ]
  },
  {
   "cell_type": "markdown",
   "metadata": {
    "id": "TvwYZorE-k1_"
   },
   "source": [
    "<a id=\"section3\"></a>\n",
    "## **3 Visualization** \n",
    "---\n",
    "\n",
    "After cleaning the data, we can try to understand or extract insights from it. To do so, in this last section, you will do the following:\n",
    "1. Create a function to show the relationship between numerical features.\n",
    "2. Interpret your findings. What is correlation useful for? What insights can you get from it? \n",
    "3. Select an appropriate type of graph to explore the relationship between grade, school group, and any other meaningful feature\n",
    "4. Interpret your findings. What are some factors that seem to influence the grade of the students? Which features do not seem to affect the outcome?\n"
   ]
  },
  {
   "cell_type": "markdown",
   "metadata": {},
   "source": [
    "### 3.1 \n",
    "**Create a function to show the linear correlation between features.**\n"
   ]
  },
  {
   "cell_type": "code",
   "execution_count": 14,
   "metadata": {
    "id": "5jCz5LCWGrsD",
    "nbgrader": {
     "grade": true,
     "grade_id": "3-1",
     "locked": false,
     "points": 5,
     "schema_version": 3,
     "solution": true,
     "task": false
    }
   },
   "outputs": [],
   "source": [
    "#### GRADED CELL ####\n",
    "### 3.1\n",
    "import seaborn as sns\n",
    "def plot_correlation(df):\n",
    "    \"\"\"\n",
    "    Builds upper triangular heatmap with pearson correlation between numerical variables\n",
    "\n",
    "    Instructions\n",
    "    ------------\n",
    "    The plot must have:\n",
    "    - An appropiate title\n",
    "    - Only upper triangular elements\n",
    "    - Annotated values of correlation coefficients rounded to three significant \n",
    "    figures\n",
    "    - Negative correlation must be blue and possitive correlation red. \n",
    "\n",
    "    Parameters\n",
    "    ----------\n",
    "    df : DataFrame with data\n",
    "\n",
    "\n",
    "    \"\"\"\n",
    "    ### BEGIN SOLUTION\n",
    "    corr = np.round(df.corr(method='pearson'), 3)\n",
    "    mask = np.tril(corr)\n",
    "    ax = plt.axes()\n",
    "    heatmap = sns.heatmap(corr, annot=True, mask=mask, cmap='RdBu_r')\n",
    "    ax.set_title('Correlation between variables')\n",
    "    plt.show() \n",
    "    ### END SOLUTION\n"
   ]
  },
  {
   "cell_type": "code",
   "execution_count": 15,
   "metadata": {
    "colab": {
     "base_uri": "https://localhost:8080/",
     "height": 320
    },
    "executionInfo": {
     "elapsed": 7321,
     "status": "ok",
     "timestamp": 1614268890140,
     "user": {
      "displayName": "Paola Mejia",
      "photoUrl": "",
      "userId": "15451997563084296260"
     },
     "user_tz": -60
    },
    "id": "pERN5ZoUHsqL",
    "outputId": "e0de54b8-fb62-4c95-9e73-f7ca4199430d"
   },
   "outputs": [
    {
     "data": {
      "image/png": "[encoded data removed]",
      "text/plain": [
       "<Figure size 432x288 with 2 Axes>"
      ]
     },
     "metadata": {
      "needs_background": "light"
     },
     "output_type": "display_data"
    }
   ],
   "source": [
    "plot_correlation(df)"
   ]
  },
  {
   "cell_type": "markdown",
   "metadata": {},
   "source": [
    "### 3.2\n",
    "**Interpret your findings. What is correlation useful for? What insights can you get from it?** \n",
    "\n",
    "Pearson correlation can be useful to analyze LINEAR relationships between two variables. In case there is a linear dependency between variables, correlation allows us to quantify how strong this dependency is. However, it should also be noticed that strong correlations do not necessarily imply a causality of the observed effects. Moreover, note that Pearson correlation is only applicable to the numerical and not the categorical features. For the categorical data, other methods such as Chi square can be used to find associations between variables.   \n",
    "\n",
    "If generated correctly, the heatmap with the Pearson correlations between the numerical features will provide the following insights:\n",
    "* Stress is negatively correlated with critical thinking \n",
    "* Grade is positively correlated with regularity \n",
    "* Grade is positively correlated with critical thinking\n",
    "* Grade is negatively correlated with stress \n"
   ]
  },
  {
   "cell_type": "markdown",
   "metadata": {},
   "source": [
    "### 3.3\n",
    "**Select an appropriate type of graph to explore the relationship between grade, school group, and any other meaningful feature.**\n",
    "\n",
    "\n",
    "The plot should show the three features together. One way of doing this is using different colors to show the school grade (categorial feature) "
   ]
  },
  {
   "cell_type": "code",
   "execution_count": 16,
   "metadata": {
    "id": "w5PdLlLRGvKY",
    "nbgrader": {
     "grade": true,
     "grade_id": "3-4",
     "locked": false,
     "points": 5,
     "schema_version": 3,
     "solution": true,
     "task": false
    }
   },
   "outputs": [],
   "source": [
    "#### GRADED CELL ####\n",
    "### 3.3\n",
    "def plot_grades(df):\n",
    "    \"\"\"\n",
    "    Visualizes the relationship between grade,  school group and other meaningful\n",
    "    feature\n",
    "\n",
    "    Parameters\n",
    "    ----------\n",
    "    df : DataFrame with data\n",
    "\n",
    "    \"\"\"\n",
    "    ### BEGIN SOLUTION\n",
    "    sns.jointplot(data = df, y = 'grade', x = 'regularity', hue = 'school_group')\n",
    "    ### END SOLUTION"
   ]
  },
  {
   "cell_type": "code",
   "execution_count": 17,
   "metadata": {
    "colab": {
     "base_uri": "https://localhost:8080/",
     "height": 459
    },
    "executionInfo": {
     "elapsed": 5820,
     "status": "ok",
     "timestamp": 1614268938276,
     "user": {
      "displayName": "Paola Mejia",
      "photoUrl": "",
      "userId": "15451997563084296260"
     },
     "user_tz": -60
    },
    "id": "359sJQ_8tqER",
    "outputId": "3be3ee76-a8db-4721-a78d-6b0a58161884"
   },
   "outputs": [
    {
     "data": {
      "image/png": "[encoded data removed]",
      "text/plain": [
       "<Figure size 432x432 with 3 Axes>"
      ]
     },
     "metadata": {
      "needs_background": "light"
     },
     "output_type": "display_data"
    }
   ],
   "source": [
    "plot_grades(df)"
   ]
  },
  {
   "cell_type": "markdown",
   "metadata": {},
   "source": [
    "### 3.4\n",
    "**Interpret your findings. What are some factors that seem to influence the grade of the students? Which features do not seem to affect the outcome?**\n",
    "\n",
    "The idea of this task was to use a plot that allows you to study the relationships of three variables at the same time. For this task, different solutions are possible, here we present an example using Seaborn’s jointplot and choosing regularity as the third feature. We plot regularity on the x-axis and grade on the y-axis, and choose the school group as the hue. This will generate a scatter plot with different colors for the school groups and additionally adds the density distributions for each group at the borders of the plot.\n",
    "\n",
    "For this particular choice of plot and variables, we can observe that there is a general trend of better grades with higher regularity independent of the school group. This is in line with one of our observations from the Pearson correlations. However, here we also see that for the same regularity, students in school group C generally have higher grades than students from the other two groups. This is an interesting observation which could be further investigated in more analyses.\n"
   ]
  }
 ],
 "metadata": {
  "celltoolbar": "Create Assignment",
  "colab": {
   "collapsed_sections": [],
   "name": "SecondDraft-Solution01-DataHandling.ipynb",
   "provenance": [
    {
     "file_id": "1mRFFrJF4dE9fELL-s3BxXH-9k8oZoJZi",
     "timestamp": 1614369628317
    },
    {
     "file_id": "1m7X1IqccOW_2p-daNXCIckJaldNH8MeD",
     "timestamp": 1614270374389
    },
    {
     "file_id": "1Y0ZrVKYMUXFoQliKv7-8XrYIpTWw7R63",
     "timestamp": 1613748083326
    },
    {
     "file_id": "11iSt5dKbG-iVOF9RIaQJfFVxeiH10EhN",
     "timestamp": 1613682613431
    }
   ],
   "toc_visible": true
  },
  "kernelspec": {
   "display_name": "Python 3",
   "language": "python",
   "name": "python3"
  },
  "language_info": {
   "codemirror_mode": {
    "name": "ipython",
    "version": 3
   },
   "file_extension": ".py",
   "mimetype": "text/x-python",
   "name": "python",
   "nbconvert_exporter": "python",
   "pygments_lexer": "ipython3",
   "version": "3.8.8"
  }
 },
 "nbformat": 4,
 "nbformat_minor": 1
}
