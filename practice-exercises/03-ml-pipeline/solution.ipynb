{
 "cells": [
  {
   "attachments": {},
   "cell_type": "markdown",
   "metadata": {},
   "source": [
    "#  Machine-Learning Pipeline Implementation\n",
    "\n",
    "## Introduction\n",
    "\n",
    "For telecommunication companies, it is key to attract new customers and at the same time avoid contract terminations (i.e., churn) to grow their revenue generating base. Looking at churn, different reasons trigger customers to terminate their contracts, such as better price offers, more interesting packages, bad service experiences or change of customers’ personal situations. Churn analytics provides valuable capabilities to predict customer churn and also define the underlying reasons that drive it. With this in mind, telecommunication companies might decide to apply machine learning models to predict churn on an individual customer basis and take counter measures, such as discounts, special offers or other gratifications to keep their customers. Therefore, in this homework, we will imagine that a company asks you to predict whether its customers are about to churn by means of a machine-learning approach. \n",
    "\n",
    "Specifically,  we will ask you to:\n",
    "\n",
    "Load and explore the data appropriately, based on the task and application (what is important?). \n",
    "\n",
    "Implement and evaluate a machine-learning approach appropriately, based on the task and data set (e.g., size). \n",
    "\n"
   ]
  },
  {
   "attachments": {},
   "cell_type": "markdown",
   "metadata": {},
   "source": [
    "## The Data Set\n",
    "\n",
    "This sample data tracks a fictional telco company's customer churn based on a variety of possible factors. Specifically, the `data` folder includes CSV files pertaining to customer's demographic attributes, contract information, and monthly service-related data. Each file is characterized by the following attributes. \n",
    "\n",
    "**customer.csv**\n",
    "\n",
    "| Name                   | Description                         |\n",
    "| ---------------------- | ------------------------------------------------------------ |\n",
    "| CustomerID | A unique ID that identifies each customer.  | \n",
    "| Gender |  The customer’s gender: Male, Female  | \n",
    "| SeniorCitizen | Indicates if the customer is 65 or older: 0, 1.  | \n",
    "| Partner |  Indicates if the customer is married: Yes, No | \n",
    "| Dependents | Indicates if the customer lives with any dependents: Yes, No.  |  \n",
    "| PaperlessBilling | Indicates if the customer has chosen paperless billing: Yes, No.  | \n",
    "| PaymentMethod |  Indicates how the customer pays their bill: Mailed check, Electronic check, Credit card, Bank transfer.  | \n",
    "\n",
    "**contract.csv**\n",
    "\n",
    "| Name                   | Description                         |\n",
    "| ---------------------- | ------------------------------------------------------------ |\n",
    "| ContractID |  A unique ID that identifies each contract.  | \n",
    "| CustomerID |  A unique ID that identifies each customer.  | \n",
    "| Contract |  Indicates the customer’s current contract type: Month-to-Month, One Year, Two Year.  | \n",
    "| StartDate |  Start date of the contract. | \n",
    "\n",
    "**churn.csv**\n",
    "\n",
    "| Name                   | Description                         |\n",
    "| ---------------------- | ------------------------------------------------------------ |\n",
    "| CustomerID | A unique ID that identifies each customer.   | \n",
    "| Churn | 1 = the customer left the company. 0 = the customer remained with the company.  | \n",
    "\n",
    "**phone_usage.csv**\n",
    "\n",
    "| Name                   | Description                         |\n",
    "| ---------------------- | ------------------------------------------------------------ |\n",
    "| ContractID | A unique ID that identifies each contract.  | \n",
    "| Date | The reference period for the monthly usage indicated by this record for this ContractID.  | \n",
    "| MonthlyUsage | Indicates the customer’s monthly usage for the phone.  | \n",
    "\n",
    "**services.csv**\n",
    "\n",
    "| Name                   | Description                         |\n",
    "| ---------------------- | ------------------------------------------------------------ |\n",
    "| ContractID | A unique ID that identifies each contract.  | \n",
    "| ServiceValue | The specific service value of type Service the contract has. No = the customer does not have that Service.   | \n",
    "| Service | A string label identifying a type of service offered by the company: PhoneService, InternetService, MultipleLines, OnlineSecurity, OnlineBackup, DeviceProtection, TechSupport, StreamingTV, StreamingMovies.   | \n",
    "\n",
    "**charges.csv**\n",
    "\n",
    "| Name                   | Description                         |\n",
    "| ---------------------- | ------------------------------------------------------------ |\n",
    "| ContractID |  A unique ID that identifies each contract. | \n",
    "| Date | The billing date for the monthly usage indicated by this record for this ContractID.   | \n",
    "| Charge | Indicates the contract’s monthly charge.  | "
   ]
  },
  {
   "cell_type": "code",
   "execution_count": 1,
   "metadata": {},
   "outputs": [],
   "source": [
    "#### PACKAGE IMPORTS ####\n",
    "\n",
    "# Run this cell first to import all required packages. Do not make any imports elsewhere in the notebook. \n",
    "\n",
    "### Traditional packages\n",
    "import matplotlib.pyplot as plt\n",
    "import seaborn as sns\n",
    "import sklearn as sk\n",
    "import pandas as pd\n",
    "import numpy as np\n",
    "import datetime\n",
    "import math\n",
    "import time\n",
    "\n",
    "### Scikit-learn packages\n",
    "from sklearn import preprocessing, model_selection, ensemble, metrics\n",
    "from sklearn.dummy import DummyClassifier\n",
    "from sklearn.base import clone\n",
    "\n",
    "### Call for matplotlib customization\n",
    "sns.set_style(\"whitegrid\", {'axes.grid' : True})\n",
    "%matplotlib inline"
   ]
  },
  {
   "attachments": {},
   "cell_type": "markdown",
   "metadata": {},
   "source": [
    "<a id=\"section1\"></a>\n",
    "## 1  Load and explore the data appropriately. \n",
    "----\n",
    "\n",
    "In this section, you should:\n",
    "1. Combine and look at the features in customer.csv and contract.csv, and connect them to their potential influence on customer churn. \n",
    "2. Extend the feature set with behavioral features you will create from phone_usage.csv, services.csv, and charges.csv.  "
   ]
  },
  {
   "cell_type": "code",
   "execution_count": 2,
   "metadata": {},
   "outputs": [],
   "source": [
    "# Files with one record per customer / contract\n",
    "customer = pd.read_csv('./data/customer.csv')\n",
    "contract = pd.read_csv('./data/contract.csv')\n",
    "churn = pd.read_csv('./data/churn.csv')\n",
    "\n",
    "# Files with one record per customer / contract over months\n",
    "phone_usage = pd.read_csv('./data/phone_usage.csv')\n",
    "services = pd.read_csv('./data/services.csv')\n",
    "charges = pd.read_csv('./data/charges.csv')"
   ]
  },
  {
   "attachments": {},
   "cell_type": "markdown",
   "metadata": {},
   "source": [
    "<a id=\"section1.1\"></a>\n",
    "### Task 1.1 \n",
    "\n",
    "From the above descriptive tables, you have seen that customers' information is distributed in different files. Three of these files, `customer.csv`, `contract.csv`, and `churn.csv`, include one record per customer / contract. Therefore, we first ask you to:\n",
    "- Combine the first two dataframes (customer and contract) in a single dataframe entitled `X`.\n",
    "- Copy the third dataframe in a dataframe entitled `y`.\n",
    "- Conduct an exploratory analysis on `X`, supported by appropriate visualizations, to relate the values of these features to their potential influence on the customer churn `y` (e.g., how the dependents are related with the churn target).\n",
    "- Think of and write down your hypotheses on the extent to which each feature in `X` can be related to the fact that the customer drops the company; the churn target is indicated in `y` (e.g., customers with a high number of dependants drop less the company).    "
   ]
  },
  {
   "attachments": {},
   "cell_type": "markdown",
   "metadata": {},
   "source": [
    "Combine the first two dataframes (customer and contract) in a single dataframe entitled X."
   ]
  },
  {
   "cell_type": "code",
   "execution_count": 3,
   "metadata": {},
   "outputs": [],
   "source": [
    "X = pd.merge(customer, contract, on=['CustomerID'])"
   ]
  },
  {
   "cell_type": "code",
   "execution_count": 4,
   "metadata": {},
   "outputs": [
    {
     "data": {
      "text/html": [
       "<div>\n",
       "<style scoped>\n",
       "    .dataframe tbody tr th:only-of-type {\n",
       "        vertical-align: middle;\n",
       "    }\n",
       "\n",
       "    .dataframe tbody tr th {\n",
       "        vertical-align: top;\n",
       "    }\n",
       "\n",
       "    .dataframe thead th {\n",
       "        text-align: right;\n",
       "    }\n",
       "</style>\n",
       "<table border=\"1\" class=\"dataframe\">\n",
       "  <thead>\n",
       "    <tr style=\"text-align: right;\">\n",
       "      <th></th>\n",
       "      <th>CustomerID</th>\n",
       "      <th>Gender</th>\n",
       "      <th>SeniorCitizen</th>\n",
       "      <th>Partner</th>\n",
       "      <th>Dependents</th>\n",
       "      <th>PaperlessBilling</th>\n",
       "      <th>PaymentMethod</th>\n",
       "      <th>ContractID</th>\n",
       "      <th>Contract</th>\n",
       "      <th>StartDate</th>\n",
       "    </tr>\n",
       "  </thead>\n",
       "  <tbody>\n",
       "    <tr>\n",
       "      <th>3126</th>\n",
       "      <td>4484-CGXFK</td>\n",
       "      <td>Female</td>\n",
       "      <td>0</td>\n",
       "      <td>No</td>\n",
       "      <td>No</td>\n",
       "      <td>Yes</td>\n",
       "      <td>Electronic check</td>\n",
       "      <td>8xYypHaboK</td>\n",
       "      <td>Month-to-month</td>\n",
       "      <td>2020-03-01</td>\n",
       "    </tr>\n",
       "    <tr>\n",
       "      <th>5240</th>\n",
       "      <td>7384-GHBPI</td>\n",
       "      <td>Male</td>\n",
       "      <td>0</td>\n",
       "      <td>Yes</td>\n",
       "      <td>No</td>\n",
       "      <td>Yes</td>\n",
       "      <td>Electronic check</td>\n",
       "      <td>EGMAP65hhZ</td>\n",
       "      <td>Month-to-month</td>\n",
       "      <td>2020-09-01</td>\n",
       "    </tr>\n",
       "    <tr>\n",
       "      <th>4326</th>\n",
       "      <td>6103-BOCOU</td>\n",
       "      <td>Female</td>\n",
       "      <td>0</td>\n",
       "      <td>No</td>\n",
       "      <td>No</td>\n",
       "      <td>Yes</td>\n",
       "      <td>Electronic check</td>\n",
       "      <td>BgVya7GisS</td>\n",
       "      <td>Month-to-month</td>\n",
       "      <td>2017-11-01</td>\n",
       "    </tr>\n",
       "    <tr>\n",
       "      <th>612</th>\n",
       "      <td>0897-FEGMU</td>\n",
       "      <td>Female</td>\n",
       "      <td>0</td>\n",
       "      <td>Yes</td>\n",
       "      <td>No</td>\n",
       "      <td>Yes</td>\n",
       "      <td>Electronic check</td>\n",
       "      <td>DDqhH4JgFo</td>\n",
       "      <td>Month-to-month</td>\n",
       "      <td>2019-09-01</td>\n",
       "    </tr>\n",
       "    <tr>\n",
       "      <th>4237</th>\n",
       "      <td>5980-BDHPY</td>\n",
       "      <td>Male</td>\n",
       "      <td>0</td>\n",
       "      <td>Yes</td>\n",
       "      <td>No</td>\n",
       "      <td>Yes</td>\n",
       "      <td>Bank transfer (automatic)</td>\n",
       "      <td>BhYMCA8S85</td>\n",
       "      <td>Two year</td>\n",
       "      <td>2014-01-01</td>\n",
       "    </tr>\n",
       "    <tr>\n",
       "      <th>1132</th>\n",
       "      <td>1660-HSOOQ</td>\n",
       "      <td>Male</td>\n",
       "      <td>0</td>\n",
       "      <td>No</td>\n",
       "      <td>No</td>\n",
       "      <td>Yes</td>\n",
       "      <td>Mailed check</td>\n",
       "      <td>JXVvYbsA25</td>\n",
       "      <td>Month-to-month</td>\n",
       "      <td>2020-07-01</td>\n",
       "    </tr>\n",
       "    <tr>\n",
       "      <th>96</th>\n",
       "      <td>0164-XAIRP</td>\n",
       "      <td>Female</td>\n",
       "      <td>0</td>\n",
       "      <td>No</td>\n",
       "      <td>No</td>\n",
       "      <td>Yes</td>\n",
       "      <td>Bank transfer (automatic)</td>\n",
       "      <td>7UX9KkbmHj</td>\n",
       "      <td>Two year</td>\n",
       "      <td>2018-01-01</td>\n",
       "    </tr>\n",
       "    <tr>\n",
       "      <th>4950</th>\n",
       "      <td>6968-URWQU</td>\n",
       "      <td>Male</td>\n",
       "      <td>0</td>\n",
       "      <td>Yes</td>\n",
       "      <td>No</td>\n",
       "      <td>Yes</td>\n",
       "      <td>Mailed check</td>\n",
       "      <td>GyzpdSZoXB</td>\n",
       "      <td>One year</td>\n",
       "      <td>2016-06-01</td>\n",
       "    </tr>\n",
       "    <tr>\n",
       "      <th>1725</th>\n",
       "      <td>2516-VQRRV</td>\n",
       "      <td>Female</td>\n",
       "      <td>1</td>\n",
       "      <td>No</td>\n",
       "      <td>No</td>\n",
       "      <td>Yes</td>\n",
       "      <td>Mailed check</td>\n",
       "      <td>AnyS2FjhEz</td>\n",
       "      <td>Month-to-month</td>\n",
       "      <td>2020-02-01</td>\n",
       "    </tr>\n",
       "    <tr>\n",
       "      <th>6891</th>\n",
       "      <td>9787-XVQIU</td>\n",
       "      <td>Male</td>\n",
       "      <td>0</td>\n",
       "      <td>No</td>\n",
       "      <td>No</td>\n",
       "      <td>Yes</td>\n",
       "      <td>Electronic check</td>\n",
       "      <td>J5rzqKRJrk</td>\n",
       "      <td>Month-to-month</td>\n",
       "      <td>2020-04-01</td>\n",
       "    </tr>\n",
       "  </tbody>\n",
       "</table>\n",
       "</div>"
      ],
      "text/plain": [
       "      CustomerID  Gender  SeniorCitizen Partner Dependents PaperlessBilling  \\\n",
       "3126  4484-CGXFK  Female              0      No         No              Yes   \n",
       "5240  7384-GHBPI    Male              0     Yes         No              Yes   \n",
       "4326  6103-BOCOU  Female              0      No         No              Yes   \n",
       "612   0897-FEGMU  Female              0     Yes         No              Yes   \n",
       "4237  5980-BDHPY    Male              0     Yes         No              Yes   \n",
       "1132  1660-HSOOQ    Male              0      No         No              Yes   \n",
       "96    0164-XAIRP  Female              0      No         No              Yes   \n",
       "4950  6968-URWQU    Male              0     Yes         No              Yes   \n",
       "1725  2516-VQRRV  Female              1      No         No              Yes   \n",
       "6891  9787-XVQIU    Male              0      No         No              Yes   \n",
       "\n",
       "                  PaymentMethod  ContractID        Contract   StartDate  \n",
       "3126           Electronic check  8xYypHaboK  Month-to-month  2020-03-01  \n",
       "5240           Electronic check  EGMAP65hhZ  Month-to-month  2020-09-01  \n",
       "4326           Electronic check  BgVya7GisS  Month-to-month  2017-11-01  \n",
       "612            Electronic check  DDqhH4JgFo  Month-to-month  2019-09-01  \n",
       "4237  Bank transfer (automatic)  BhYMCA8S85        Two year  2014-01-01  \n",
       "1132               Mailed check  JXVvYbsA25  Month-to-month  2020-07-01  \n",
       "96    Bank transfer (automatic)  7UX9KkbmHj        Two year  2018-01-01  \n",
       "4950               Mailed check  GyzpdSZoXB        One year  2016-06-01  \n",
       "1725               Mailed check  AnyS2FjhEz  Month-to-month  2020-02-01  \n",
       "6891           Electronic check  J5rzqKRJrk  Month-to-month  2020-04-01  "
      ]
     },
     "execution_count": 4,
     "metadata": {},
     "output_type": "execute_result"
    }
   ],
   "source": [
    "X.sample(n=10)"
   ]
  },
  {
   "attachments": {},
   "cell_type": "markdown",
   "metadata": {},
   "source": [
    "Copy the third dataframe in a dataframe entitled y."
   ]
  },
  {
   "cell_type": "code",
   "execution_count": 5,
   "metadata": {},
   "outputs": [],
   "source": [
    "y = churn"
   ]
  },
  {
   "cell_type": "code",
   "execution_count": 6,
   "metadata": {},
   "outputs": [
    {
     "data": {
      "text/html": [
       "<div>\n",
       "<style scoped>\n",
       "    .dataframe tbody tr th:only-of-type {\n",
       "        vertical-align: middle;\n",
       "    }\n",
       "\n",
       "    .dataframe tbody tr th {\n",
       "        vertical-align: top;\n",
       "    }\n",
       "\n",
       "    .dataframe thead th {\n",
       "        text-align: right;\n",
       "    }\n",
       "</style>\n",
       "<table border=\"1\" class=\"dataframe\">\n",
       "  <thead>\n",
       "    <tr style=\"text-align: right;\">\n",
       "      <th></th>\n",
       "      <th>CustomerID</th>\n",
       "      <th>Churn</th>\n",
       "    </tr>\n",
       "  </thead>\n",
       "  <tbody>\n",
       "    <tr>\n",
       "      <th>1845</th>\n",
       "      <td>2676-SSLTO</td>\n",
       "      <td>0</td>\n",
       "    </tr>\n",
       "    <tr>\n",
       "      <th>5505</th>\n",
       "      <td>7752-XUSCI</td>\n",
       "      <td>1</td>\n",
       "    </tr>\n",
       "    <tr>\n",
       "      <th>1962</th>\n",
       "      <td>2842-BCQGE</td>\n",
       "      <td>0</td>\n",
       "    </tr>\n",
       "    <tr>\n",
       "      <th>151</th>\n",
       "      <td>0253-ZTEOB</td>\n",
       "      <td>0</td>\n",
       "    </tr>\n",
       "    <tr>\n",
       "      <th>5469</th>\n",
       "      <td>7695-PKLCZ</td>\n",
       "      <td>0</td>\n",
       "    </tr>\n",
       "    <tr>\n",
       "      <th>6749</th>\n",
       "      <td>9578-VRMNM</td>\n",
       "      <td>1</td>\n",
       "    </tr>\n",
       "    <tr>\n",
       "      <th>189</th>\n",
       "      <td>0305-SQECB</td>\n",
       "      <td>0</td>\n",
       "    </tr>\n",
       "    <tr>\n",
       "      <th>1246</th>\n",
       "      <td>1845-CSBRZ</td>\n",
       "      <td>0</td>\n",
       "    </tr>\n",
       "    <tr>\n",
       "      <th>2670</th>\n",
       "      <td>3795-CAWEX</td>\n",
       "      <td>0</td>\n",
       "    </tr>\n",
       "    <tr>\n",
       "      <th>6962</th>\n",
       "      <td>9878-TNQGW</td>\n",
       "      <td>1</td>\n",
       "    </tr>\n",
       "  </tbody>\n",
       "</table>\n",
       "</div>"
      ],
      "text/plain": [
       "      CustomerID  Churn\n",
       "1845  2676-SSLTO      0\n",
       "5505  7752-XUSCI      1\n",
       "1962  2842-BCQGE      0\n",
       "151   0253-ZTEOB      0\n",
       "5469  7695-PKLCZ      0\n",
       "6749  9578-VRMNM      1\n",
       "189   0305-SQECB      0\n",
       "1246  1845-CSBRZ      0\n",
       "2670  3795-CAWEX      0\n",
       "6962  9878-TNQGW      1"
      ]
     },
     "execution_count": 6,
     "metadata": {},
     "output_type": "execute_result"
    }
   ],
   "source": [
    "y.sample(n=10)"
   ]
  },
  {
   "cell_type": "code",
   "execution_count": 13,
   "metadata": {},
   "outputs": [
    {
     "data": {
      "text/plain": [
       "Index(['CustomerID', 'Gender', 'Partner', 'Dependents', 'PaperlessBilling',\n",
       "       'PaymentMethod', 'ContractID', 'Contract', 'StartDate'],\n",
       "      dtype='object')"
      ]
     },
     "metadata": {},
     "output_type": "display_data"
    },
    {
     "data": {
      "text/plain": [
       "Index(['SeniorCitizen'], dtype='object')"
      ]
     },
     "metadata": {},
     "output_type": "display_data"
    }
   ],
   "source": [
    "# get the categorical features\n",
    "categorical_features = X.select_dtypes(include=['object']).columns\n",
    "# get the numerical features\n",
    "numerical_features = X.select_dtypes(exclude=['object']).columns\n",
    "display(categorical_features, numerical_features)"
   ]
  },
  {
   "cell_type": "code",
   "execution_count": 16,
   "metadata": {},
   "outputs": [
    {
     "data": {
      "text/plain": [
       "['Gender',\n",
       " 'Contract',\n",
       " 'Dependents',\n",
       " 'CustomerID',\n",
       " 'StartDate',\n",
       " 'Partner',\n",
       " 'PaymentMethod',\n",
       " 'ContractID',\n",
       " 'PaperlessBilling']"
      ]
     },
     "metadata": {},
     "output_type": "display_data"
    },
    {
     "data": {
      "text/plain": [
       "['SeniorCitizen']"
      ]
     },
     "metadata": {},
     "output_type": "display_data"
    }
   ],
   "source": [
    "continuous_cols = [col for col in X._get_numeric_data().columns]\n",
    "categorical_cols = list(set(X.columns) - set(continuous_cols))\n",
    "\n",
    "display(categorical_cols,continuous_cols)"
   ]
  },
  {
   "attachments": {},
   "cell_type": "markdown",
   "metadata": {},
   "source": [
    "Conduct an exploratory analysis on X to relate the values of these features to their influence on the customer churn y."
   ]
  },
  {
   "cell_type": "code",
   "execution_count": 9,
   "metadata": {
    "deletable": false,
    "nbgrader": {
     "cell_type": "code",
     "checksum": "6a0d029bca463a8f1dd93f17bd7ad15c",
     "grade": true,
     "grade_id": "1-1",
     "locked": false,
     "points": 10,
     "schema_version": 3,
     "solution": true,
     "task": false
    }
   },
   "outputs": [],
   "source": [
    "def plot_features(df):\n",
    "    '''\n",
    "    For each feature in df, create a plot that shows the percentage of churn (1) or not chrun (0) for each feature value. \n",
    "    :param df: A dataframe including one column per feature and the target column 'Churn'.  \n",
    "    :return: None. \n",
    "    '''\n",
    "    \n",
    "    # Identify and group features based on their type: numerical and categorical\n",
    "    continuous_cols = [col for col in df._get_numeric_data().columns if df[col].nunique() != 2]\n",
    "    categorical_cols = list(set(df.columns) - set(continuous_cols))\n",
    "\n",
    "    # Create a plot grid of shape (n_features // 2, 2), with one plot per feature\n",
    "    fig, axes = plt.subplots(len(df.columns)//2, 2, figsize=(15,15))\n",
    "    \n",
    "    # For each feature in the dataframe df, create a plot to relate the values of that feature with the 'Churn' target \n",
    "    for i, col in enumerate(df.drop('Churn', axis=1).columns):   \n",
    "        \n",
    "        # Select the axis the plot will be added\n",
    "        ax = axes[i // 2, i % 2]\n",
    "            \n",
    "        # For each unique feature value, count the percentage of churn (1) and not chrun (0)\n",
    "        col_counts = df.groupby(by=col)['Churn'].value_counts(normalize=True).rename('Percentage').mul(100)\n",
    "        col_counts = col_counts.reset_index().sort_values(col)                       \n",
    "        \n",
    "        # Show a bar plot if the feature is categorical, a histogram otherwise\n",
    "        if col in categorical_cols:  \n",
    "            g = sns.barplot(data=col_counts, x=col, y='Percentage', hue='Churn', ax=ax)\n",
    "            g.legend(loc='upper right', ncol=2)\n",
    "            g.set_title(f'{col} Bar distribution')\n",
    "            g.set(ylim=(0., 100.))\n",
    "        else:\n",
    "            g = sns.kdeplot(data=df, x=col, hue='Churn', ax=ax)\n",
    "            g.set_title(f'{col} KDE distribution')\n",
    "            g.set(xlim=(0., None))\n",
    "        \n",
    "        # If the feature is a date, reduce the number of xticks appropriately\n",
    "        if 'Date' in col:\n",
    "            xticks = ax.get_xticks()[::6] # One tick every six months\n",
    "            xlabels = ax.get_xticklabels()[::6] # One tick every six months\n",
    "            ax.set_xticks(xticks) \n",
    "            ax.set_xticklabels(xlabels, rotation=45)\n",
    "            \n",
    "    # In case the number of feature is even, remove the last empty plot\n",
    "    if (len(df.columns) - 1) % 2 != 0:\n",
    "        fig.delaxes(axes[len(df.columns) // 2-1][1])\n",
    "        \n",
    "    fig.tight_layout()\n",
    "    plt.show()"
   ]
  },
  {
   "cell_type": "code",
   "execution_count": 10,
   "metadata": {},
   "outputs": [
    {
     "data": {
      "image/png": "[encoded data removed]",
      "text/plain": [
       "<Figure size 1500x1500 with 8 Axes>"
      ]
     },
     "metadata": {},
     "output_type": "display_data"
    }
   ],
   "source": [
    "plot_features(X.merge(y, on='CustomerID').drop(['ContractID', 'CustomerID' ], axis=1))"
   ]
  },
  {
   "attachments": {},
   "cell_type": "markdown",
   "metadata": {
    "deletable": false,
    "nbgrader": {
     "cell_type": "markdown",
     "checksum": "dad416c6e1c883e0dd455e1eaa409700",
     "grade": true,
     "grade_id": "1-1-inter",
     "locked": false,
     "points": 5,
     "schema_version": 3,
     "solution": true,
     "task": false
    }
   },
   "source": [
    "<font color='green'> \n",
    "    \n",
    "### 1.1 Please, describe, motivate, and discuss your explorations and hypotheses \n",
    "    \n",
    "In order to relate the values of these demographic features to their potential influence on the customer churn, we created a grid of plots including one plot per feature. Specifically, for each value of the feature under consideration, the plot reported the percentage of customers, characterized by that feature value, who have dropped (not dropped) of the company (orange and blue bars, respectively). To ensure an appropriate level of interpretability of the numbers shown in the plot, we decided to use the percentages (not the absolute values), and we configured the same minimum and maximum limits for the y-axis across plots. \n",
    "    \n",
    "**Discuss:**\n",
    "    \n",
    "Based on the plots, we can observe that:    \n",
    "\n",
    "- Female and male customers tend to have same rate of dropping the service. \n",
    "- Customers older than 65 have a higher rate of dropping. \n",
    "- Customers who are not married are more likely of dropping. \n",
    "- Non-dependence customers have a higher rate of dropping. \n",
    "- People who opted for paperless billing have a higher tendency of dropping.\n",
    "- Customers who opted for electronic check have a higher rate of dropping.\n",
    "- Customers who decided to have a month-to-month contract are more likely to drop.\n",
    "- Customers who recently subscribed their contract show a higher rate of dropping. \n",
    "\n",
    "**Hypotheses:**\n",
    "\n",
    "The above observations allow us to make some hypotheses on circumstances related with the churn event, as those exemplified below:    \n",
    "    \n",
    "- Techonology-oriented: it looks like customers that are more familiar, or at least make more use, of technology are more prone to churn. That is denoted by the number of churning customers who use electronic check as payment method and paperless billing.\n",
    "- Not-settled: customers who are not engaged in anything particularly seem to churn more more frequently. One of the features supporting this hypothesis is the contract type: month-to-month-paying customers show the highest churn rate. Logically such contracts are the easiest to end. \n",
    "- Independent-person: it seems that customers who are generally more independent have a higher chance of dropping. This is evident when we consider the dropping rates of customers who are not married and/or those who have no dependence. </font>"
   ]
  },
  {
   "attachments": {},
   "cell_type": "markdown",
   "metadata": {},
   "source": [
    "<a id=\"section1.2\"></a>\n",
    "### Task 1.2\n",
    "\n",
    "While demographic information is important, it does not reveal how customers actually used the services. Therefore, we now ask you extend the current set of features for each customer with novel behavioral features derived from the services the customers subscribed to, the extent to which they are charged monthly, and the actual phone usage. To this end, you will need to play with the files `phone_usage.csv`, `services.csv`, and `charges.csv`, and their corresponding dataframes. Specifically, we ask you to:\n",
    "- Create, in total, at least **5 novel behavioral features**. They can come from the phone usage, the services, and/or the charges.\n",
    "- Include these novel features to `X` you prepared in the previous task. \n",
    "- Explore how these novel features in `X` relate to the churn in `y` (e.g., how the number of services the customer subscribed to is related with the churn). \n",
    "- Think of and write down your hypotheses on the extent to which each **novel** feature in `X` can be related to the fact that the customer drops the company; the churn target is indicated in `y` (e.g., customers with a lower number of services drop more the company).   "
   ]
  },
  {
   "attachments": {},
   "cell_type": "markdown",
   "metadata": {},
   "source": [
    "Create, in total, at least 5 novel behavioral features. They can come from the phone usage, the services, and/or the charges."
   ]
  },
  {
   "cell_type": "code",
   "execution_count": 9,
   "metadata": {
    "deletable": false,
    "nbgrader": {
     "cell_type": "code",
     "checksum": "8316306fa314de14b7165780fa3d8322",
     "grade": true,
     "grade_id": "1-2",
     "locked": false,
     "points": 10,
     "schema_version": 3,
     "solution": true,
     "task": false
    }
   },
   "outputs": [],
   "source": [
    "avg_charge = charges.groupby('ContractID').mean().rename(columns={'Charge': 'AvgCharge'}).reset_index()\n",
    "\n",
    "avg_phone_usage = phone_usage.groupby('ContractID').mean().rename(columns={'MonthlyUsage': 'AvgUsage'}).reset_index()\n",
    "\n",
    "extreme_charge = (charges.groupby('ContractID').max().Charge - charges.groupby('ContractID').mean().Charge).reset_index().rename(columns={'Charge': 'ExtremeCharge'})\n",
    "\n",
    "mapping_charging_length = lambda x: 'Less than one year' if x < 12 else ('Between one and three years' if x >= 12 and x <= 36 else 'More than three years')\n",
    "charging_length = charges.groupby('ContractID').size().apply(mapping_charging_length).to_frame().rename(columns={0: 'ChargingLength'}).reset_index()\n",
    "                \n",
    "nb_service = services[~services.ServiceValue.str.contains('No')].groupby('ContractID').size().to_frame().rename(columns={0: 'NbServices'}).reset_index()"
   ]
  },
  {
   "cell_type": "code",
   "execution_count": 10,
   "metadata": {},
   "outputs": [],
   "source": [
    "df_new = avg_charge.merge(avg_phone_usage).merge(extreme_charge).merge(charging_length).merge(nb_service, how='outer').fillna({'AvgCharge': 0, 'AvgUsage': 0, 'ExtremeCharge': 0, 'ChargingLength': 'Less than one year', 'NbServices': 0})"
   ]
  },
  {
   "cell_type": "code",
   "execution_count": 11,
   "metadata": {},
   "outputs": [
    {
     "data": {
      "text/html": [
       "<div>\n",
       "<style scoped>\n",
       "    .dataframe tbody tr th:only-of-type {\n",
       "        vertical-align: middle;\n",
       "    }\n",
       "\n",
       "    .dataframe tbody tr th {\n",
       "        vertical-align: top;\n",
       "    }\n",
       "\n",
       "    .dataframe thead th {\n",
       "        text-align: right;\n",
       "    }\n",
       "</style>\n",
       "<table border=\"1\" class=\"dataframe\">\n",
       "  <thead>\n",
       "    <tr style=\"text-align: right;\">\n",
       "      <th></th>\n",
       "      <th>ContractID</th>\n",
       "      <th>AvgCharge</th>\n",
       "      <th>AvgUsage</th>\n",
       "      <th>ExtremeCharge</th>\n",
       "      <th>ChargingLength</th>\n",
       "      <th>NbServices</th>\n",
       "    </tr>\n",
       "  </thead>\n",
       "  <tbody>\n",
       "    <tr>\n",
       "      <th>3243</th>\n",
       "      <td>BcatJkLpdh</td>\n",
       "      <td>25.390000</td>\n",
       "      <td>5877.263333</td>\n",
       "      <td>4.760000</td>\n",
       "      <td>Between one and three years</td>\n",
       "      <td>2</td>\n",
       "    </tr>\n",
       "    <tr>\n",
       "      <th>1536</th>\n",
       "      <td>72VK9NBg2a</td>\n",
       "      <td>112.343750</td>\n",
       "      <td>9953.259219</td>\n",
       "      <td>23.556250</td>\n",
       "      <td>More than three years</td>\n",
       "      <td>8</td>\n",
       "    </tr>\n",
       "    <tr>\n",
       "      <th>133</th>\n",
       "      <td>3NMFdVnSse</td>\n",
       "      <td>99.061628</td>\n",
       "      <td>3015.504860</td>\n",
       "      <td>17.088372</td>\n",
       "      <td>More than three years</td>\n",
       "      <td>5</td>\n",
       "    </tr>\n",
       "    <tr>\n",
       "      <th>2610</th>\n",
       "      <td>9ugYqgRGNh</td>\n",
       "      <td>20.082353</td>\n",
       "      <td>1884.791353</td>\n",
       "      <td>3.417647</td>\n",
       "      <td>Between one and three years</td>\n",
       "      <td>1</td>\n",
       "    </tr>\n",
       "    <tr>\n",
       "      <th>930</th>\n",
       "      <td>5TXKhcn5CY</td>\n",
       "      <td>105.168182</td>\n",
       "      <td>7866.377000</td>\n",
       "      <td>18.681818</td>\n",
       "      <td>Between one and three years</td>\n",
       "      <td>6</td>\n",
       "    </tr>\n",
       "    <tr>\n",
       "      <th>1790</th>\n",
       "      <td>7gCtccBn9V</td>\n",
       "      <td>57.763636</td>\n",
       "      <td>457.375636</td>\n",
       "      <td>7.236364</td>\n",
       "      <td>Less than one year</td>\n",
       "      <td>4</td>\n",
       "    </tr>\n",
       "    <tr>\n",
       "      <th>4163</th>\n",
       "      <td>E4kmtfVjjd</td>\n",
       "      <td>20.900000</td>\n",
       "      <td>427.080000</td>\n",
       "      <td>0.000000</td>\n",
       "      <td>Less than one year</td>\n",
       "      <td>1</td>\n",
       "    </tr>\n",
       "    <tr>\n",
       "      <th>1566</th>\n",
       "      <td>76jKaUC9iQ</td>\n",
       "      <td>22.950000</td>\n",
       "      <td>5487.145000</td>\n",
       "      <td>0.000000</td>\n",
       "      <td>Less than one year</td>\n",
       "      <td>1</td>\n",
       "    </tr>\n",
       "    <tr>\n",
       "      <th>5549</th>\n",
       "      <td>HVDLudpnFB</td>\n",
       "      <td>97.350000</td>\n",
       "      <td>6507.440500</td>\n",
       "      <td>10.200000</td>\n",
       "      <td>Less than one year</td>\n",
       "      <td>5</td>\n",
       "    </tr>\n",
       "    <tr>\n",
       "      <th>2045</th>\n",
       "      <td>8L6gfnuVAz</td>\n",
       "      <td>19.550000</td>\n",
       "      <td>736.968333</td>\n",
       "      <td>0.000000</td>\n",
       "      <td>Less than one year</td>\n",
       "      <td>1</td>\n",
       "    </tr>\n",
       "  </tbody>\n",
       "</table>\n",
       "</div>"
      ],
      "text/plain": [
       "      ContractID   AvgCharge     AvgUsage  ExtremeCharge  \\\n",
       "3243  BcatJkLpdh   25.390000  5877.263333       4.760000   \n",
       "1536  72VK9NBg2a  112.343750  9953.259219      23.556250   \n",
       "133   3NMFdVnSse   99.061628  3015.504860      17.088372   \n",
       "2610  9ugYqgRGNh   20.082353  1884.791353       3.417647   \n",
       "930   5TXKhcn5CY  105.168182  7866.377000      18.681818   \n",
       "1790  7gCtccBn9V   57.763636   457.375636       7.236364   \n",
       "4163  E4kmtfVjjd   20.900000   427.080000       0.000000   \n",
       "1566  76jKaUC9iQ   22.950000  5487.145000       0.000000   \n",
       "5549  HVDLudpnFB   97.350000  6507.440500      10.200000   \n",
       "2045  8L6gfnuVAz   19.550000   736.968333       0.000000   \n",
       "\n",
       "                   ChargingLength  NbServices  \n",
       "3243  Between one and three years           2  \n",
       "1536        More than three years           8  \n",
       "133         More than three years           5  \n",
       "2610  Between one and three years           1  \n",
       "930   Between one and three years           6  \n",
       "1790           Less than one year           4  \n",
       "4163           Less than one year           1  \n",
       "1566           Less than one year           1  \n",
       "5549           Less than one year           5  \n",
       "2045           Less than one year           1  "
      ]
     },
     "execution_count": 11,
     "metadata": {},
     "output_type": "execute_result"
    }
   ],
   "source": [
    "df_new.sample(n=10)"
   ]
  },
  {
   "attachments": {},
   "cell_type": "markdown",
   "metadata": {},
   "source": [
    "Explore how these novel features in X relate to the churn in y. "
   ]
  },
  {
   "cell_type": "code",
   "execution_count": 12,
   "metadata": {},
   "outputs": [
    {
     "data": {
      "image/png": "[encoded data removed]",
      "text/plain": [
       "<Figure size 1080x1080 with 5 Axes>"
      ]
     },
     "metadata": {
      "needs_background": "light"
     },
     "output_type": "display_data"
    }
   ],
   "source": [
    "df = df_new.merge(X.merge(y, on='CustomerID'))\n",
    "plot_features(df[list(df_new.columns) + ['Churn']].drop(['ContractID'], axis=1))"
   ]
  },
  {
   "attachments": {},
   "cell_type": "markdown",
   "metadata": {
    "deletable": false,
    "nbgrader": {
     "cell_type": "markdown",
     "checksum": "6d2fb273ce93ced6b7691fb1f8384ea9",
     "grade": true,
     "grade_id": "1-2-inter",
     "locked": false,
     "points": 5,
     "schema_version": 3,
     "solution": true,
     "task": false
    }
   },
   "source": [
    "<font color='green'> \n",
    "    \n",
    "### 1.2 Please, describe, motivate, and discuss your novel features, explorations and hypotheses\n",
    "\n",
    "The next step is to extend the set of features with at least 5 novel behavioral features, coming from the phone usage, the services, and/or the charge. For the three corresponding CSV files, we can notice that they have more than $7.043$ rows, i.e., the number of customers in our data set. Therefore, we need to perform some data processing (e.g., aggregation) to compute feature values that can be associated to a single customer and be linked to the demographic data already present in X. Please, note that what we provide here is just an example set of behavioral features and that we plot distributions for numerical values for consistency and coherence.\n",
    "    \n",
    "**Discuss:**\n",
    "To create the novel behavioral features, we thought about what characteristics hidden into the data may drive the churn event. In what follows, you find a list of five example behavioral features. Our hypotheses and observations on how they relate with the churn are provided in the subsequent section.    \n",
    "* AvgCharge is the average amount of money a customer has been charged monthly.\n",
    "* AvgUsage is the average level of phone usage a customer has experienced monthly. \n",
    "* ExtremeCharge is the difference between the maximum monthly charge and the average monthly charge associated with a customer. \n",
    "* ChargingLength identifies 3 customer categories based on charge entries (i.e., less than 1 year /, between 1 and 3 years / more than 3 years of charges). \n",
    "* NbServices is the number of different company services a customer is subscribed to.\n",
    "\n",
    "**Hypotheses:**\n",
    "\n",
    "In what follows, we provide some possible reasons that motivated us to include the above features to predict the churn event, and how they have been confirmed or impacted by the exploratory analysis made through the above plots.       \n",
    "    \n",
    "* AvgCharge: a reason for a customer to stay would be due to a low monthly charge, meaning that the service is affordable for them. This observation is confirmed by the supporting plot, given that most customer with a low charge do not churn.\n",
    "* AvgUsage: customers with a very high phone usage may tend to churn less, given that they seem to be engaged with the company service. We made the hypothesis that customers may use the phone to a good extent because the service meets their needs and expectations. This observation is confirmed for high phone usage levels, while the churning density is quite stable for lower levels.   \n",
    "* ExtremeCharge: customers whose average charge is close to their maximum tend to churn, meaning that their average charge is consistently high for them. This observation is confirmed to good extent by the supporting plot, which shows us that the density of churn events is higher for values around 0 (maximum and average charge are equal). \n",
    "* ChargingLength: customers who churn tend to try the company's services for a reasonable amount of time (e.g., one or two years) before deciding to drop, to realize that the company services do not meet their expectations. This observation is supported by the plot, which shows that there is a higher percentage of churning customers in contracts having between one and three years of charge entries. \n",
    "* NbServices: the more services the customer subscribed to, the more the customer is engaged with the company. Therefore, we made the hyphothesis that customers subscribed to a high number of services may have a lower rate of dropping. This observation is only partially confirmed by the plot, given that the higher rate of dropping is experienced by customers with three services, while it is far lower for customers with one or two services (a fine-grained counting of the services based on their type would help to delve more into this phenomenon). </font>"
   ]
  },
  {
   "attachments": {},
   "cell_type": "markdown",
   "metadata": {},
   "source": [
    "<a id=\"section2\"></a>\n",
    "## 2  Implement and evaluate a machine-learning approach appropriately. \n",
    "----\n",
    "\n",
    "In this section, you should:\n",
    "1. Choose and initialize a machine-learning model based on the task and the data set (and pre-process the features in X, **if necessary/appropriate**). \n",
    "2. Choose and run an evaluation method with appropriate performance metrics, based on the task and the data set. \n",
    "3. Report, interpret, and discuss the results achieved by your model appropriately, comparing against random and majority class predictions. "
   ]
  },
  {
   "attachments": {},
   "cell_type": "markdown",
   "metadata": {},
   "source": [
    "<a id=\"section2.1\"></a>\n",
    "### Task 2.1\n",
    "\n",
    "A range of machine-learning algorithms available in the field have been explored in the lectures and the lab sessions, and choosing the one you think that is most likely to perform best depends on your problem type and data. As you have seen in this course, certain algorithms are better suitable for regression tasks, while others for classification tasks, as an example. The data also plays a key role in the process of choosing the right algorithm for the right problem. Some algorithms can work with smaller sample sets, while others require lots of samples. Similarly, certain algorithms can work better with categorical data, while others work better with numerical input. Once you select the algorithm you will use for the next steps:\n",
    "- you **could** pre-process here the features in `X` (**if necessary/appropriate**), in such a way that they are ready to be fed into the selected algorithm; \n",
    "- and then initialize the corresponding scikit-learn or statsmodel model to be ready to run the next steps on it.\n",
    "\n",
    "*REMARK: please, note that pre-processing your data is NOT mandatory in the sense that you should pre-process the features in X only if necessary or appropriate, based on the model you chose and how it is able to deal with the data at hand. It is just important that you justify your decisions. Just in case you might need to encode categorical variables, as mentioned in lab session 3, scikit-learn has nice classes for this purpose, namely [LabelEncoder](https://scikit-learn.org/stable/modules/generated/sklearn.preprocessing.LabelEncoder.html) or [OneHotEncoder](https://scikit-learn.org/stable/modules/generated/sklearn.preprocessing.OneHotEncoder.html). Another nice alternative is to use the [pd.get_dummies](https://pandas.pydata.org/pandas-docs/stable/reference/api/pandas.get_dummies.html) function of Pandas. We copy here again the reading mentioned in lab session 3 on these three encoding strategies: [this supporting tutorial](https://towardsdatascience.com/categorical-encoding-using-label-encoding-and-one-hot-encoder-911ef77fb5bd).*"
   ]
  },
  {
   "attachments": {},
   "cell_type": "markdown",
   "metadata": {},
   "source": [
    "Pre-process the features in X, in such a way that they are ready to be fed into the selected algorithm"
   ]
  },
  {
   "cell_type": "code",
   "execution_count": 13,
   "metadata": {},
   "outputs": [],
   "source": [
    "def convert_to_datatypes(df):\n",
    "    '''\n",
    "    :param df: Original feature matrix\n",
    "    :return: Preprocessed feature matrix\n",
    "    '''\n",
    "    \n",
    "    # Copy the dataframe so that we do not inadvertently change the original version\n",
    "    df = df.copy()\n",
    "    \n",
    "    # Identify and group continuous and categorical columns \n",
    "    continuous_cols = list(df._get_numeric_data().columns)\n",
    "    categorical_cols = list(set(df.columns) - set(continuous_cols))\n",
    "    \n",
    "    # Identify and group binary and datetime features, separating them from the categorical ones\n",
    "    binary_cols = [feat for feat in categorical_cols if df[feat].nunique() == 2]\n",
    "    datetime_cols = [feat for feat in categorical_cols if 'Date' in feat]\n",
    "    categorical_cols = list(set(categorical_cols) - set(binary_cols) - set(datetime_cols))\n",
    "    \n",
    "    # For each binary feature, map values to 0s and 1s\n",
    "    for col in binary_cols:\n",
    "        df[col] = preprocessing.LabelEncoder().fit_transform(df[col])\n",
    "\n",
    "    # For each categorical feature, assign a categorical type from categories arrays\n",
    "    for col in categorical_cols:\n",
    "        df[col] = pd.Categorical(df[col])\n",
    "        \n",
    "    # For each datetime feature, convert it to an integer which represents a cronological index  \n",
    "    for col in datetime_cols:\n",
    "        df[col] = df[col].apply(lambda x: time.mktime(datetime.datetime.strptime(x, '%Y-%m-%d').timetuple()))\n",
    "    \n",
    "    # Each categorical feature is converted into its corresponding one-hot encoding representation  \n",
    "    df = pd.get_dummies(df)\n",
    "    \n",
    "    return df"
   ]
  },
  {
   "cell_type": "code",
   "execution_count": 14,
   "metadata": {},
   "outputs": [],
   "source": [
    "df_preprocessed = convert_to_datatypes(df.drop([\"ContractID\",\"CustomerID\"], axis=1).copy())"
   ]
  },
  {
   "cell_type": "code",
   "execution_count": 15,
   "metadata": {},
   "outputs": [
    {
     "data": {
      "text/html": [
       "<div>\n",
       "<style scoped>\n",
       "    .dataframe tbody tr th:only-of-type {\n",
       "        vertical-align: middle;\n",
       "    }\n",
       "\n",
       "    .dataframe tbody tr th {\n",
       "        vertical-align: top;\n",
       "    }\n",
       "\n",
       "    .dataframe thead th {\n",
       "        text-align: right;\n",
       "    }\n",
       "</style>\n",
       "<table border=\"1\" class=\"dataframe\">\n",
       "  <thead>\n",
       "    <tr style=\"text-align: right;\">\n",
       "      <th></th>\n",
       "      <th>AvgCharge</th>\n",
       "      <th>AvgUsage</th>\n",
       "      <th>ExtremeCharge</th>\n",
       "      <th>NbServices</th>\n",
       "      <th>Gender</th>\n",
       "      <th>SeniorCitizen</th>\n",
       "      <th>Partner</th>\n",
       "      <th>Dependents</th>\n",
       "      <th>PaperlessBilling</th>\n",
       "      <th>StartDate</th>\n",
       "      <th>...</th>\n",
       "      <th>ChargingLength_Between one and three years</th>\n",
       "      <th>ChargingLength_Less than one year</th>\n",
       "      <th>ChargingLength_More than three years</th>\n",
       "      <th>PaymentMethod_Bank transfer (automatic)</th>\n",
       "      <th>PaymentMethod_Credit card (automatic)</th>\n",
       "      <th>PaymentMethod_Electronic check</th>\n",
       "      <th>PaymentMethod_Mailed check</th>\n",
       "      <th>Contract_Month-to-month</th>\n",
       "      <th>Contract_One year</th>\n",
       "      <th>Contract_Two year</th>\n",
       "    </tr>\n",
       "  </thead>\n",
       "  <tbody>\n",
       "    <tr>\n",
       "      <th>2246</th>\n",
       "      <td>82.570588</td>\n",
       "      <td>460.742882</td>\n",
       "      <td>16.129412</td>\n",
       "      <td>3</td>\n",
       "      <td>1</td>\n",
       "      <td>1</td>\n",
       "      <td>1</td>\n",
       "      <td>0</td>\n",
       "      <td>0</td>\n",
       "      <td>1.535753e+09</td>\n",
       "      <td>...</td>\n",
       "      <td>1</td>\n",
       "      <td>0</td>\n",
       "      <td>0</td>\n",
       "      <td>1</td>\n",
       "      <td>0</td>\n",
       "      <td>0</td>\n",
       "      <td>0</td>\n",
       "      <td>1</td>\n",
       "      <td>0</td>\n",
       "      <td>0</td>\n",
       "    </tr>\n",
       "    <tr>\n",
       "      <th>5936</th>\n",
       "      <td>61.850000</td>\n",
       "      <td>3811.484000</td>\n",
       "      <td>4.950000</td>\n",
       "      <td>3</td>\n",
       "      <td>1</td>\n",
       "      <td>0</td>\n",
       "      <td>0</td>\n",
       "      <td>1</td>\n",
       "      <td>1</td>\n",
       "      <td>1.577833e+09</td>\n",
       "      <td>...</td>\n",
       "      <td>0</td>\n",
       "      <td>1</td>\n",
       "      <td>0</td>\n",
       "      <td>0</td>\n",
       "      <td>1</td>\n",
       "      <td>0</td>\n",
       "      <td>0</td>\n",
       "      <td>1</td>\n",
       "      <td>0</td>\n",
       "      <td>0</td>\n",
       "    </tr>\n",
       "    <tr>\n",
       "      <th>5842</th>\n",
       "      <td>61.840909</td>\n",
       "      <td>1381.376303</td>\n",
       "      <td>10.609091</td>\n",
       "      <td>6</td>\n",
       "      <td>0</td>\n",
       "      <td>0</td>\n",
       "      <td>1</td>\n",
       "      <td>0</td>\n",
       "      <td>0</td>\n",
       "      <td>1.490998e+09</td>\n",
       "      <td>...</td>\n",
       "      <td>1</td>\n",
       "      <td>0</td>\n",
       "      <td>0</td>\n",
       "      <td>1</td>\n",
       "      <td>0</td>\n",
       "      <td>0</td>\n",
       "      <td>0</td>\n",
       "      <td>0</td>\n",
       "      <td>0</td>\n",
       "      <td>1</td>\n",
       "    </tr>\n",
       "    <tr>\n",
       "      <th>2789</th>\n",
       "      <td>105.410000</td>\n",
       "      <td>8244.123000</td>\n",
       "      <td>15.340000</td>\n",
       "      <td>7</td>\n",
       "      <td>0</td>\n",
       "      <td>0</td>\n",
       "      <td>0</td>\n",
       "      <td>0</td>\n",
       "      <td>1</td>\n",
       "      <td>1.567289e+09</td>\n",
       "      <td>...</td>\n",
       "      <td>0</td>\n",
       "      <td>1</td>\n",
       "      <td>0</td>\n",
       "      <td>1</td>\n",
       "      <td>0</td>\n",
       "      <td>0</td>\n",
       "      <td>0</td>\n",
       "      <td>1</td>\n",
       "      <td>0</td>\n",
       "      <td>0</td>\n",
       "    </tr>\n",
       "    <tr>\n",
       "      <th>2114</th>\n",
       "      <td>101.360526</td>\n",
       "      <td>2112.267474</td>\n",
       "      <td>16.889474</td>\n",
       "      <td>6</td>\n",
       "      <td>1</td>\n",
       "      <td>0</td>\n",
       "      <td>0</td>\n",
       "      <td>1</td>\n",
       "      <td>1</td>\n",
       "      <td>1.501538e+09</td>\n",
       "      <td>...</td>\n",
       "      <td>0</td>\n",
       "      <td>0</td>\n",
       "      <td>1</td>\n",
       "      <td>1</td>\n",
       "      <td>0</td>\n",
       "      <td>0</td>\n",
       "      <td>0</td>\n",
       "      <td>1</td>\n",
       "      <td>0</td>\n",
       "      <td>0</td>\n",
       "    </tr>\n",
       "    <tr>\n",
       "      <th>4380</th>\n",
       "      <td>20.750000</td>\n",
       "      <td>449.826000</td>\n",
       "      <td>0.000000</td>\n",
       "      <td>1</td>\n",
       "      <td>1</td>\n",
       "      <td>0</td>\n",
       "      <td>0</td>\n",
       "      <td>0</td>\n",
       "      <td>0</td>\n",
       "      <td>1.575155e+09</td>\n",
       "      <td>...</td>\n",
       "      <td>0</td>\n",
       "      <td>1</td>\n",
       "      <td>0</td>\n",
       "      <td>0</td>\n",
       "      <td>1</td>\n",
       "      <td>0</td>\n",
       "      <td>0</td>\n",
       "      <td>1</td>\n",
       "      <td>0</td>\n",
       "      <td>0</td>\n",
       "    </tr>\n",
       "    <tr>\n",
       "      <th>5980</th>\n",
       "      <td>85.800000</td>\n",
       "      <td>6341.064000</td>\n",
       "      <td>0.100000</td>\n",
       "      <td>4</td>\n",
       "      <td>0</td>\n",
       "      <td>0</td>\n",
       "      <td>0</td>\n",
       "      <td>0</td>\n",
       "      <td>1</td>\n",
       "      <td>1.575155e+09</td>\n",
       "      <td>...</td>\n",
       "      <td>0</td>\n",
       "      <td>1</td>\n",
       "      <td>0</td>\n",
       "      <td>0</td>\n",
       "      <td>0</td>\n",
       "      <td>1</td>\n",
       "      <td>0</td>\n",
       "      <td>1</td>\n",
       "      <td>0</td>\n",
       "      <td>0</td>\n",
       "    </tr>\n",
       "    <tr>\n",
       "      <th>5436</th>\n",
       "      <td>82.518627</td>\n",
       "      <td>223.520235</td>\n",
       "      <td>14.031373</td>\n",
       "      <td>4</td>\n",
       "      <td>0</td>\n",
       "      <td>0</td>\n",
       "      <td>1</td>\n",
       "      <td>1</td>\n",
       "      <td>1</td>\n",
       "      <td>1.443650e+09</td>\n",
       "      <td>...</td>\n",
       "      <td>0</td>\n",
       "      <td>0</td>\n",
       "      <td>1</td>\n",
       "      <td>1</td>\n",
       "      <td>0</td>\n",
       "      <td>0</td>\n",
       "      <td>0</td>\n",
       "      <td>1</td>\n",
       "      <td>0</td>\n",
       "      <td>0</td>\n",
       "    </tr>\n",
       "    <tr>\n",
       "      <th>2978</th>\n",
       "      <td>67.364286</td>\n",
       "      <td>724.546714</td>\n",
       "      <td>13.385714</td>\n",
       "      <td>6</td>\n",
       "      <td>1</td>\n",
       "      <td>0</td>\n",
       "      <td>1</td>\n",
       "      <td>0</td>\n",
       "      <td>0</td>\n",
       "      <td>1.393628e+09</td>\n",
       "      <td>...</td>\n",
       "      <td>0</td>\n",
       "      <td>0</td>\n",
       "      <td>1</td>\n",
       "      <td>0</td>\n",
       "      <td>1</td>\n",
       "      <td>0</td>\n",
       "      <td>0</td>\n",
       "      <td>0</td>\n",
       "      <td>0</td>\n",
       "      <td>1</td>\n",
       "    </tr>\n",
       "    <tr>\n",
       "      <th>1030</th>\n",
       "      <td>105.243939</td>\n",
       "      <td>316.008212</td>\n",
       "      <td>22.056061</td>\n",
       "      <td>8</td>\n",
       "      <td>0</td>\n",
       "      <td>0</td>\n",
       "      <td>0</td>\n",
       "      <td>0</td>\n",
       "      <td>1</td>\n",
       "      <td>1.404166e+09</td>\n",
       "      <td>...</td>\n",
       "      <td>0</td>\n",
       "      <td>0</td>\n",
       "      <td>1</td>\n",
       "      <td>1</td>\n",
       "      <td>0</td>\n",
       "      <td>0</td>\n",
       "      <td>0</td>\n",
       "      <td>1</td>\n",
       "      <td>0</td>\n",
       "      <td>0</td>\n",
       "    </tr>\n",
       "  </tbody>\n",
       "</table>\n",
       "<p>10 rows × 21 columns</p>\n",
       "</div>"
      ],
      "text/plain": [
       "       AvgCharge     AvgUsage  ExtremeCharge  NbServices  Gender  \\\n",
       "2246   82.570588   460.742882      16.129412           3       1   \n",
       "5936   61.850000  3811.484000       4.950000           3       1   \n",
       "5842   61.840909  1381.376303      10.609091           6       0   \n",
       "2789  105.410000  8244.123000      15.340000           7       0   \n",
       "2114  101.360526  2112.267474      16.889474           6       1   \n",
       "4380   20.750000   449.826000       0.000000           1       1   \n",
       "5980   85.800000  6341.064000       0.100000           4       0   \n",
       "5436   82.518627   223.520235      14.031373           4       0   \n",
       "2978   67.364286   724.546714      13.385714           6       1   \n",
       "1030  105.243939   316.008212      22.056061           8       0   \n",
       "\n",
       "      SeniorCitizen  Partner  Dependents  PaperlessBilling     StartDate  ...  \\\n",
       "2246              1        1           0                 0  1.535753e+09  ...   \n",
       "5936              0        0           1                 1  1.577833e+09  ...   \n",
       "5842              0        1           0                 0  1.490998e+09  ...   \n",
       "2789              0        0           0                 1  1.567289e+09  ...   \n",
       "2114              0        0           1                 1  1.501538e+09  ...   \n",
       "4380              0        0           0                 0  1.575155e+09  ...   \n",
       "5980              0        0           0                 1  1.575155e+09  ...   \n",
       "5436              0        1           1                 1  1.443650e+09  ...   \n",
       "2978              0        1           0                 0  1.393628e+09  ...   \n",
       "1030              0        0           0                 1  1.404166e+09  ...   \n",
       "\n",
       "      ChargingLength_Between one and three years  \\\n",
       "2246                                           1   \n",
       "5936                                           0   \n",
       "5842                                           1   \n",
       "2789                                           0   \n",
       "2114                                           0   \n",
       "4380                                           0   \n",
       "5980                                           0   \n",
       "5436                                           0   \n",
       "2978                                           0   \n",
       "1030                                           0   \n",
       "\n",
       "      ChargingLength_Less than one year  ChargingLength_More than three years  \\\n",
       "2246                                  0                                     0   \n",
       "5936                                  1                                     0   \n",
       "5842                                  0                                     0   \n",
       "2789                                  1                                     0   \n",
       "2114                                  0                                     1   \n",
       "4380                                  1                                     0   \n",
       "5980                                  1                                     0   \n",
       "5436                                  0                                     1   \n",
       "2978                                  0                                     1   \n",
       "1030                                  0                                     1   \n",
       "\n",
       "      PaymentMethod_Bank transfer (automatic)  \\\n",
       "2246                                        1   \n",
       "5936                                        0   \n",
       "5842                                        1   \n",
       "2789                                        1   \n",
       "2114                                        1   \n",
       "4380                                        0   \n",
       "5980                                        0   \n",
       "5436                                        1   \n",
       "2978                                        0   \n",
       "1030                                        1   \n",
       "\n",
       "      PaymentMethod_Credit card (automatic)  PaymentMethod_Electronic check  \\\n",
       "2246                                      0                               0   \n",
       "5936                                      1                               0   \n",
       "5842                                      0                               0   \n",
       "2789                                      0                               0   \n",
       "2114                                      0                               0   \n",
       "4380                                      1                               0   \n",
       "5980                                      0                               1   \n",
       "5436                                      0                               0   \n",
       "2978                                      1                               0   \n",
       "1030                                      0                               0   \n",
       "\n",
       "      PaymentMethod_Mailed check  Contract_Month-to-month  Contract_One year  \\\n",
       "2246                           0                        1                  0   \n",
       "5936                           0                        1                  0   \n",
       "5842                           0                        0                  0   \n",
       "2789                           0                        1                  0   \n",
       "2114                           0                        1                  0   \n",
       "4380                           0                        1                  0   \n",
       "5980                           0                        1                  0   \n",
       "5436                           0                        1                  0   \n",
       "2978                           0                        0                  0   \n",
       "1030                           0                        1                  0   \n",
       "\n",
       "      Contract_Two year  \n",
       "2246                  0  \n",
       "5936                  0  \n",
       "5842                  1  \n",
       "2789                  0  \n",
       "2114                  0  \n",
       "4380                  0  \n",
       "5980                  0  \n",
       "5436                  0  \n",
       "2978                  1  \n",
       "1030                  0  \n",
       "\n",
       "[10 rows x 21 columns]"
      ]
     },
     "execution_count": 15,
     "metadata": {},
     "output_type": "execute_result"
    }
   ],
   "source": [
    "df_preprocessed.sample(n=10)"
   ]
  },
  {
   "cell_type": "code",
   "execution_count": 16,
   "metadata": {},
   "outputs": [],
   "source": [
    "X_numpy = df_preprocessed.drop(['Churn'], axis=1).to_numpy()\n",
    "y_numpy = df_preprocessed['Churn'].to_numpy().reshape(-1)"
   ]
  },
  {
   "cell_type": "code",
   "execution_count": 17,
   "metadata": {},
   "outputs": [
    {
     "data": {
      "text/plain": [
       "((7043, 20), (7043,))"
      ]
     },
     "execution_count": 17,
     "metadata": {},
     "output_type": "execute_result"
    }
   ],
   "source": [
    "X_numpy.shape, y_numpy.shape"
   ]
  },
  {
   "attachments": {},
   "cell_type": "markdown",
   "metadata": {},
   "source": [
    "Initialize the corresponding scikit-learn or statsmodel model to be ready to run the next steps on it."
   ]
  },
  {
   "cell_type": "code",
   "execution_count": 18,
   "metadata": {
    "deletable": false,
    "nbgrader": {
     "cell_type": "code",
     "checksum": "480f259b6c9a65a7cd8ece0257a263e8",
     "grade": true,
     "grade_id": "2-1",
     "locked": false,
     "points": 20,
     "schema_version": 3,
     "solution": true,
     "task": false
    }
   },
   "outputs": [],
   "source": [
    "clf = ensemble.RandomForestClassifier()"
   ]
  },
  {
   "attachments": {},
   "cell_type": "markdown",
   "metadata": {
    "deletable": false,
    "nbgrader": {
     "cell_type": "markdown",
     "checksum": "ce13be13af245968295ca59e39053824",
     "grade": true,
     "grade_id": "2-1-inter",
     "locked": false,
     "points": 10,
     "schema_version": 3,
     "solution": true,
     "task": false
    }
   },
   "source": [
    "<font color='green'>\n",
    "    \n",
    "### 2.1 Please, describe, motivate, and discuss all your decisions on the pre-processing (if any) and the model.\n",
    "    \n",
    "In this task, we need to make a decision on the classifier which might suit the best the presented task, and provide some supporting justifications. Once we make our decision, we need to consider whether our features can be directly fed into the selected classifier, and perform the necessary/appropriate pre-processing tasks otherwise. The data pre-processing should be aligned with the selected classifier. Finally, we just need to initialize the scikit-learn classifier. In this way, the classifier and the data are ready for the subsequent evaluation step.   \n",
    "\n",
    "In this example solution, we opted for a Random Forest classifier, due to the fact that it can identify non-linear boundaries and provide us with high flexibility with respect to the considered features. Specifically, RandomForests can manage different types of features effectively and efficiently and do not require any scaling (this aspect might be important in our scenario, given that our feature set includes several numerical features with different scales). Consequently, our experimental pipeline has a lighter pre-processing phase. This phase just requires us to transform string categorical values into integers in such a way that they can be fed into the scikit-learn classifier. Specifically, binary features are mapped into 0s and 1s, while features including more than two categories are subjected to a one-hot encoding (not a label encoding). While this is not strictly required to fit a RandomForest, it is conceptually better due to the fact that the numeric values are not misinterpreted as having some sort of order in them (this last step is optional and considered as a refinement pre-processing). Please, note also that dates are converted into their corresponding Unix timestamps to implicitly encode information about the contract lenght and to make the feature ready to be fed into the classifier during training and prediction.   \n",
    "\n",
    "</font>"
   ]
  },
  {
   "attachments": {},
   "cell_type": "markdown",
   "metadata": {},
   "source": [
    "<a id=\"section2.2\"></a>\n",
    "### Task 2.2\n",
    "\n",
    "So, you should have successfully initialized your machine-learning model. What should you do now? You will need to evaluate the goodness of the model in predicting the target, which is an essential part of the entire pipeline. When to use which evaluation method and performance metric(s) depends primarily on the nature of your problem and the characteristics of the data. Getting back to your homework, question yourself what is the main purpose you are trying to solve, select the right performance metrics and evaluation method, and run the evaluation of your model accordingly. In this task, we ask you to run an appropriate evaluation method and compute appropriate performance metric(s), among those described in the lectures and in the lab sessions."
   ]
  },
  {
   "attachments": {},
   "cell_type": "markdown",
   "metadata": {},
   "source": [
    "Before deciding, we print the percentage of churn labels."
   ]
  },
  {
   "cell_type": "code",
   "execution_count": 19,
   "metadata": {},
   "outputs": [
    {
     "data": {
      "text/plain": [
       "0.2653698707936959"
      ]
     },
     "execution_count": 19,
     "metadata": {},
     "output_type": "execute_result"
    }
   ],
   "source": [
    "np.count_nonzero(y_numpy) / len(y_numpy)"
   ]
  },
  {
   "attachments": {},
   "cell_type": "markdown",
   "metadata": {},
   "source": [
    "Once we decided the evaluation method and performance metric(s), we need to implement our evaluation:"
   ]
  },
  {
   "cell_type": "code",
   "execution_count": 20,
   "metadata": {},
   "outputs": [],
   "source": [
    "param_grid = {'n_estimators': [2, 50, 100], 'max_depth': [2, 50, 100], 'max_features': ['sqrt', None]}\n",
    "cv = model_selection.StratifiedKFold(n_splits=10, shuffle=True, random_state=0)"
   ]
  },
  {
   "attachments": {},
   "cell_type": "markdown",
   "metadata": {},
   "source": [
    "For convenience, we will use a dictionary with one entry per metric and a nested dictionary for the metric scores for each classifier.  "
   ]
  },
  {
   "cell_type": "code",
   "execution_count": 21,
   "metadata": {},
   "outputs": [],
   "source": [
    "metrics = {'BalancedAccuracy': {}, 'AUC': {}}"
   ]
  },
  {
   "attachments": {},
   "cell_type": "markdown",
   "metadata": {},
   "source": [
    "Elegant way with grid search and compact cross-validation:"
   ]
  },
  {
   "cell_type": "code",
   "execution_count": 22,
   "metadata": {
    "deletable": false,
    "nbgrader": {
     "cell_type": "code",
     "checksum": "dfd497cead44c85762fd78dcf2a3c5ff",
     "grade": true,
     "grade_id": "2-2",
     "locked": false,
     "points": 10,
     "schema_version": 3,
     "solution": true,
     "task": false
    }
   },
   "outputs": [
    {
     "name": "stdout",
     "output_type": "stream",
     "text": [
      "Wall time: 13min 27s\n"
     ]
    }
   ],
   "source": [
    "gclf = model_selection.GridSearchCV(clone(clf), param_grid, cv=10, scoring='roc_auc') \n",
    "%time cv_result = model_selection.cross_validate(gclf, X_numpy, y_numpy, cv=cv, scoring=['roc_auc', 'balanced_accuracy'])"
   ]
  },
  {
   "cell_type": "code",
   "execution_count": 23,
   "metadata": {},
   "outputs": [],
   "source": [
    "metrics['AUC']['RandomForest'] = cv_result['test_roc_auc']\n",
    "metrics['BalancedAccuracy']['RandomForest'] = cv_result['test_balanced_accuracy']"
   ]
  },
  {
   "attachments": {},
   "cell_type": "markdown",
   "metadata": {},
   "source": [
    "Example alternative with grid search and separate cross-validation per metric.  "
   ]
  },
  {
   "attachments": {},
   "cell_type": "markdown",
   "metadata": {},
   "source": [
    "Other alternatives would have been possible (e.g., with cross_val_score, without grid search, and/or with for loops across folds). "
   ]
  },
  {
   "attachments": {},
   "cell_type": "markdown",
   "metadata": {
    "deletable": false,
    "nbgrader": {
     "cell_type": "markdown",
     "checksum": "bde698ded1a74f3ac05f046d08349193",
     "grade": true,
     "grade_id": "2-2-inter",
     "locked": false,
     "points": 10,
     "schema_version": 3,
     "solution": true,
     "task": false
    }
   },
   "source": [
    "<font color='green'> \n",
    "\n",
    "### 2.2 Please, describe, motivate, and discuss the evaluation method and performance metrics you selected\n",
    "    \n",
    "Once you reach this task, you should have initialized the selected classifier, and the features and the target variable arrays should be ready to be fed into the classifier, during training and testing. Now, it is the time to select an appropriate evaluation method and appropriate performance metric(s), based on the characteristics of the data set at hand. The answers may vary based on what metric you choose and how you calculate it, and we have considered whether you have properly justified your decisions and whether the evaluation method and performance metrics have been correctly implemented. An important element was to align your decisions to the characteristics of the data and the task. The fine-tuning of the classifier has been appreciated but not required to get points in this task (we just show you an example of a toy fine-tuning with the AUC as a scoring function due to its robustness against imbalance, made with a nested level of cross-validation for illustration). \n",
    "    \n",
    "In this example solution, we have decided to use a 10-fold user-stratified target-stratified cross-validation, given that the data set is relatively small and suffers from an imbalance label representation. In this case, 10 folds would ensure that the training fold will include a reasonable number of churn cases to learn from, with respect to a 5-fold setup. We opted for a user-level stratification because the company would be more interested in understanding whether the classifier can generalize to new users (differently from an item-level stratification, where we put apart a portion of data for each user for testing). Finally, we need to ensure that the stratification takes into account the imbalanced setting, and this is why folds are stratified also with respect to the representation of each label (churn and not churn). The folds are made by preserving the percentage of samples for each class. AUC and Balanced Accuracy are selected as performance metrics in this example solution. On one hand, the AUC score is very robust to class imbalance and would give us a general idea of the performance achieved by the classifier. On the other hand, it can be harder to interpret for the stakeholders involved around the churn prediction task. Therefore, the performance metrics include also Balanced Accuracy, which is easily interpretable and more robust to class imbalance than plain Accuracy. We can conclude that taking a look at both of AUC and Balanced Accuracy can allow us to have a better understanding of the classifier's performance.   \n",
    "    \n",
    "Please, note that we have instantiated the StratifiedKFold object only once, to ensure that all the experiments are run on the same folds. Setting random_state=0 will ensure that our results will be replicable. \n",
    "</font>"
   ]
  },
  {
   "attachments": {},
   "cell_type": "markdown",
   "metadata": {},
   "source": [
    "<a id=\"section2.3\"></a>\n",
    "### Task 2.3\n",
    "\n",
    "Selecting the right performance metrics and evaluation method and running the evaluation of your model accordingly is not enough. To assess the model goodness, you need to report and communicate the results of your model appropriately (e.g., deciding which performance metrics you present and how you to present them). The way you perform this task should be coherent with the problem type you are dealing with, the characteristics of the data set, and what is important in the target context. In this task we ask you to 1) report the obtained results visually, and 2) interpret and discuss them with respect to the performance achievable by a random model and by a model which always predicts the majority class."
   ]
  },
  {
   "cell_type": "code",
   "execution_count": 24,
   "metadata": {},
   "outputs": [],
   "source": [
    "dummyclf = DummyClassifier(random_state=0, strategy='uniform')\n",
    "metrics['AUC']['DummyRandom'] = model_selection.cross_val_score(dummyclf, X_numpy, y_numpy, cv=cv, scoring='roc_auc')\n",
    "metrics['BalancedAccuracy']['DummyRandom'] = model_selection.cross_val_score(dummyclf, X_numpy, y_numpy, cv=cv, scoring='balanced_accuracy')"
   ]
  },
  {
   "cell_type": "code",
   "execution_count": 25,
   "metadata": {},
   "outputs": [],
   "source": [
    "dummyclf = DummyClassifier(random_state=0, strategy='most_frequent')\n",
    "metrics['AUC']['DummyMajority'] = model_selection.cross_val_score(dummyclf, X_numpy, y_numpy, cv=cv, scoring='roc_auc')\n",
    "metrics['BalancedAccuracy']['DummyMajority'] = model_selection.cross_val_score(dummyclf, X_numpy, y_numpy, cv=cv, scoring='balanced_accuracy')"
   ]
  },
  {
   "attachments": {},
   "cell_type": "markdown",
   "metadata": {},
   "source": [
    "Error bars. "
   ]
  },
  {
   "cell_type": "code",
   "execution_count": 26,
   "metadata": {
    "deletable": false,
    "nbgrader": {
     "cell_type": "code",
     "checksum": "7dc8285d5bf15611dc787cce8792dc8c",
     "grade": true,
     "grade_id": "2-3",
     "locked": false,
     "points": 10,
     "schema_version": 3,
     "solution": true,
     "task": false
    }
   },
   "outputs": [
    {
     "data": {
      "image/png": "[encoded data removed]",
      "text/plain": [
       "<Figure size 1080x360 with 2 Axes>"
      ]
     },
     "metadata": {
      "needs_background": "light"
     },
     "output_type": "display_data"
    }
   ],
   "source": [
    "plt.figure(figsize=(15, 5))\n",
    "\n",
    "for m_id, metric in enumerate(metrics.keys()):\n",
    "    \n",
    "    # Create the subplot for the current metric\n",
    "    plt.subplot(1, 2, m_id + 1)\n",
    "\n",
    "    # Compute means, standard deviations, and labels\n",
    "    means, yerrs, labels = [], [], []\n",
    "    for model, model_scores in metrics[metric].items():\n",
    "        means.append(np.mean(model_scores))\n",
    "        yerrs.append(np.std(model_scores))\n",
    "        labels.append(model)\n",
    "    \n",
    "    # Plot values\n",
    "    x_pos = np.arange(len(labels))\n",
    "    plt.bar(x_pos, means, yerr=yerrs, align='center', alpha=0.5, ecolor='black', capsize=10)\n",
    "    \n",
    "    # Make decorations\n",
    "    plt.xticks(x_pos, labels)\n",
    "    plt.ylabel(metric)\n",
    "    plt.ylim(0, 1)\n",
    "\n",
    "plt.tight_layout()\n",
    "plt.show()"
   ]
  },
  {
   "attachments": {},
   "cell_type": "markdown",
   "metadata": {
    "deletable": false,
    "nbgrader": {
     "cell_type": "markdown",
     "checksum": "204ed5c262e82be88a23261312f4d1eb",
     "grade": true,
     "grade_id": "2-3-inter",
     "locked": false,
     "points": 10,
     "schema_version": 3,
     "solution": true,
     "task": false
    }
   },
   "source": [
    "<font color='green'> \n",
    "\n",
    "### 2.3 Please, describe, motivate, interpret, and discuss the results\n",
    "    \n",
    "In this task, the answer may vary based on what metric you choose and how you do visualization. Generally, we expect that you provide visualizations that can enable an easy comparison of the classifier with respect to the two baseline classifiers, the correct implementation of the underlying source code, and an appropriate interpretation of the result. \n",
    "\n",
    "In this example solution, we have select a 10-fold user-stratified target-stratified cross-validation as an evaluation method, and AUC and Balanced Accuracy as performance metrics. Given that the data set is relatively small, the performance of the classifier could greatly vary across folds, and showing the average value of the metric across folds is not enough. Therefore, we opted for a range of error bars for each performance metric. To ease the comparison across our classifier and the baseline classifiers, we included the two baseline classifiers in the same plot. \n",
    "    \n",
    "Based on the results, we can observe that both Balanced Accuracy and AUC scores are quite stable across folds (see the error bars for the Random Forest on both plots). This finding means that our classifier's performance does not highly depend on the samples included in the test fold and might show good generalization performance on unseen users. Furthermore, the Balanded Accuracy scores shed light on the fact that our classifier appears to be able to correctly classify a customer in around 80% of the times - this can be considered a good starting point, but more exploration on the recall for each class would be needed.  The AUC is around 90%, so significantly higher with respect to the AUC of the random and majority class model). Certainly, the RandomForest's performance is significantly better with respect to that of a model which predicts always the majority class or of a model which predicts the churn class randomly - note that both baselines achieve a score of 0.5 in both Balanced Accuracy (for the DummyMajority, 100% of accuracy on the majority class and 0% of accuracy on the minority class, thus obtaining 50% of accuracy of average; for DummyRandom, we observed 50% of accuracy for each class) and AUC similarly, proving the robustness of these performance metrics to extreme cases. \n",
    "    \n",
    "Note that the error bar for DummyRandom is not flat due to the fact that the representation of the two labels in the training and test set may slightly differ. Furthermore, DummyClassifiers have been appreciated but not required to get full points. \n",
    "\n",
    "</font>"
   ]
  }
 ],
 "metadata": {
  "kernelspec": {
   "display_name": "Python 3",
   "language": "python",
   "name": "python3"
  },
  "language_info": {
   "codemirror_mode": {
    "name": "ipython",
    "version": 3
   },
   "file_extension": ".py",
   "mimetype": "text/x-python",
   "name": "python",
   "nbconvert_exporter": "python",
   "pygments_lexer": "ipython3",
   "version": "3.10.10"
  }
 },
 "nbformat": 4,
 "nbformat_minor": 1
}
