{
 "cells": [
  {
   "attachments": {},
   "cell_type": "markdown",
   "metadata": {},
   "source": [
    "#  Machine-Learning Pipeline Implementation\n",
    "\n",
    "## Introduction\n",
    "\n",
    "For telecommunication companies, it is key to attract new customers and at the same time avoid contract terminations (i.e., churn) to grow their revenue generating base. Looking at churn, different reasons trigger customers to terminate their contracts, such as better price offers, more interesting packages, bad service experiences or change of customers’ personal situations. Churn analytics provides valuable capabilities to predict customer churn and also define the underlying reasons that drive it. With this in mind, telecommunication companies might decide to apply machine learning models to predict churn on an individual customer basis and take counter measures, such as discounts, special offers or other gratifications to keep their customers. Therefore, in this homework, we will imagine that a company asks you to predict whether its customers are about to churn by means of a machine-learning approach. \n",
    "\n",
    "Specifically,  we will ask you to:\n",
    "\n",
    "Load and explore the data appropriately, based on the task and application (what is important?). \n",
    "\n",
    "Implement and evaluate a machine-learning approach appropriately, based on the task and data set (e.g., size). \n",
    "\n"
   ]
  },
  {
   "attachments": {},
   "cell_type": "markdown",
   "metadata": {},
   "source": [
    "## The Data Set\n",
    "\n",
    "This sample data tracks a fictional telco company's customer churn based on a variety of possible factors. Specifically, the `data` folder includes CSV files pertaining to customer's demographic attributes, contract information, and monthly service-related data. Each file is characterized by the following attributes. \n",
    "\n",
    "**customer.csv**\n",
    "\n",
    "| Name                   | Description                         |\n",
    "| ---------------------- | ------------------------------------------------------------ |\n",
    "| CustomerID | A unique ID that identifies each customer.  | \n",
    "| Gender |  The customer’s gender: Male, Female  | \n",
    "| SeniorCitizen | Indicates if the customer is 65 or older: 0, 1.  | \n",
    "| Partner |  Indicates if the customer is married: Yes, No | \n",
    "| Dependents | Indicates if the customer lives with any dependents: Yes, No.  |  \n",
    "| PaperlessBilling | Indicates if the customer has chosen paperless billing: Yes, No.  | \n",
    "| PaymentMethod |  Indicates how the customer pays their bill: Mailed check, Electronic check, Credit card, Bank transfer.  | \n",
    "\n",
    "**contract.csv**\n",
    "\n",
    "| Name                   | Description                         |\n",
    "| ---------------------- | ------------------------------------------------------------ |\n",
    "| ContractID |  A unique ID that identifies each contract.  | \n",
    "| CustomerID |  A unique ID that identifies each customer.  | \n",
    "| Contract |  Indicates the customer’s current contract type: Month-to-Month, One Year, Two Year.  | \n",
    "| StartDate |  Start date of the contract. | \n",
    "\n",
    "**churn.csv**\n",
    "\n",
    "| Name                   | Description                         |\n",
    "| ---------------------- | ------------------------------------------------------------ |\n",
    "| CustomerID | A unique ID that identifies each customer.   | \n",
    "| Churn | 1 = the customer left the company. 0 = the customer remained with the company.  | \n",
    "\n",
    "**phone_usage.csv**\n",
    "\n",
    "| Name                   | Description                         |\n",
    "| ---------------------- | ------------------------------------------------------------ |\n",
    "| ContractID | A unique ID that identifies each contract.  | \n",
    "| Date | The reference period for the monthly usage indicated by this record for this ContractID.  | \n",
    "| MonthlyUsage | Indicates the customer’s monthly usage for the phone.  | \n",
    "\n",
    "**services.csv**\n",
    "\n",
    "| Name                   | Description                         |\n",
    "| ---------------------- | ------------------------------------------------------------ |\n",
    "| ContractID | A unique ID that identifies each contract.  | \n",
    "| ServiceValue | The specific service value of type Service the contract has. No = the customer does not have that Service.   | \n",
    "| Service | A string label identifying a type of service offered by the company: PhoneService, InternetService, MultipleLines, OnlineSecurity, OnlineBackup, DeviceProtection, TechSupport, StreamingTV, StreamingMovies.   | \n",
    "\n",
    "**charges.csv**\n",
    "\n",
    "| Name                   | Description                         |\n",
    "| ---------------------- | ------------------------------------------------------------ |\n",
    "| ContractID |  A unique ID that identifies each contract. | \n",
    "| Date | The billing date for the monthly usage indicated by this record for this ContractID.   | \n",
    "| Charge | Indicates the contract’s monthly charge.  | "
   ]
  },
  {
   "cell_type": "code",
   "execution_count": null,
   "metadata": {},
   "outputs": [],
   "source": [
    "#### PACKAGE IMPORTS ####\n",
    "\n",
    "# Run this cell first to import all required packages. Do not make any imports elsewhere in the notebook. \n",
    "\n",
    "import matplotlib.pyplot as plt\n",
    "import seaborn as sns\n",
    "import sklearn as sk\n",
    "import pandas as pd\n",
    "import numpy as np\n",
    "import math\n",
    "\n",
    "%matplotlib inline\n",
    "\n",
    "### your packages here"
   ]
  },
  {
   "attachments": {},
   "cell_type": "markdown",
   "metadata": {},
   "source": [
    "<a id=\"section1\"></a>\n",
    "## 1  Load and explore the data appropriately. \n",
    "----\n",
    "\n",
    "In this section, you should:\n",
    "1. Combine and look at the features in customer.csv and contract.csv, and connect them to their potential influence on customer churn. \n",
    "2. Extend the feature set with behavioral features you will create from phone_usage.csv, services.csv, and charges.csv.  "
   ]
  },
  {
   "cell_type": "code",
   "execution_count": null,
   "metadata": {},
   "outputs": [],
   "source": [
    "# Files with one record per customer / contract\n",
    "customer = pd.read_csv('./data/customer.csv')\n",
    "contract = pd.read_csv('./data/contract.csv')\n",
    "churn = pd.read_csv('./data/churn.csv')\n",
    "\n",
    "# Files with one record per customer / contract over months\n",
    "phone_usage = pd.read_csv('./data/phone_usage.csv')\n",
    "services = pd.read_csv('./data/services.csv')\n",
    "charges = pd.read_csv('./data/charges.csv')"
   ]
  },
  {
   "attachments": {},
   "cell_type": "markdown",
   "metadata": {},
   "source": [
    "<a id=\"section1.1\"></a>\n",
    "### Task 1.1 \n",
    "\n",
    "From the above descriptive tables, you have seen that customers' information is distributed in different files. Three of these files, `customer.csv`, `contract.csv`, and `churn.csv`, include one record per customer / contract. Therefore, we first ask you to:\n",
    "- Combine the first two dataframes (customer and contract) in a single dataframe entitled `X`.\n",
    "- Copy the third dataframe in a dataframe entitled `y`.\n",
    "- Conduct an exploratory analysis on `X`, supported by appropriate visualizations, to relate the values of these features to their potential influence on the customer churn `y` (e.g., how the dependents are related with the churn target).\n",
    "- Think of and write down your hypotheses on the extent to which each feature in `X` can be related to the fact that the customer drops the company; the churn target is indicated in `y` (e.g., customers with a high number of dependants drop less the company).    "
   ]
  },
  {
   "cell_type": "code",
   "execution_count": null,
   "metadata": {
    "deletable": false,
    "nbgrader": {
     "cell_type": "code",
     "checksum": "6a0d029bca463a8f1dd93f17bd7ad15c",
     "grade": true,
     "grade_id": "1-1",
     "locked": false,
     "points": 10,
     "schema_version": 3,
     "solution": true,
     "task": false
    }
   },
   "outputs": [],
   "source": [
    "# YOUR CODE HERE\n",
    "raise NotImplementedError()"
   ]
  },
  {
   "attachments": {},
   "cell_type": "markdown",
   "metadata": {
    "deletable": false,
    "nbgrader": {
     "cell_type": "markdown",
     "checksum": "dad416c6e1c883e0dd455e1eaa409700",
     "grade": true,
     "grade_id": "1-1-inter",
     "locked": false,
     "points": 5,
     "schema_version": 3,
     "solution": true,
     "task": false
    }
   },
   "source": [
    "YOUR ANSWER HERE"
   ]
  },
  {
   "attachments": {},
   "cell_type": "markdown",
   "metadata": {},
   "source": [
    "<a id=\"section1.2\"></a>\n",
    "### Task 1.2\n",
    "\n",
    "While demographic information is important, it does not reveal how customers actually used the services. Therefore, we now ask you extend the current set of features for each customer with novel behavioral features derived from the services the customers subscribed to, the extent to which they are charged monthly, and the actual phone usage. To this end, you will need to play with the files `phone_usage.csv`, `services.csv`, and `charges.csv`, and their corresponding dataframes. Specifically, we ask you to:\n",
    "- Create, in total, at least **5 novel behavioral features**. They can come from the phone usage, the services, and/or the charges.\n",
    "- Include these novel features to `X` you prepared in the previous task. \n",
    "- Explore how these novel features in `X` relate to the churn in `y` (e.g., how the number of services the customer subscribed to is related with the churn). \n",
    "- Think of and write down your hypotheses on the extent to which each **novel** feature in `X` can be related to the fact that the customer drops the company; the churn target is indicated in `y` (e.g., customers with a lower number of services drop more the company).   "
   ]
  },
  {
   "cell_type": "code",
   "execution_count": null,
   "metadata": {
    "deletable": false,
    "nbgrader": {
     "cell_type": "code",
     "checksum": "8316306fa314de14b7165780fa3d8322",
     "grade": true,
     "grade_id": "1-2",
     "locked": false,
     "points": 10,
     "schema_version": 3,
     "solution": true,
     "task": false
    }
   },
   "outputs": [],
   "source": [
    "# YOUR CODE HERE\n",
    "raise NotImplementedError()"
   ]
  },
  {
   "attachments": {},
   "cell_type": "markdown",
   "metadata": {
    "deletable": false,
    "nbgrader": {
     "cell_type": "markdown",
     "checksum": "6d2fb273ce93ced6b7691fb1f8384ea9",
     "grade": true,
     "grade_id": "1-2-inter",
     "locked": false,
     "points": 5,
     "schema_version": 3,
     "solution": true,
     "task": false
    }
   },
   "source": [
    "YOUR ANSWER HERE"
   ]
  },
  {
   "attachments": {},
   "cell_type": "markdown",
   "metadata": {},
   "source": [
    "<a id=\"section2\"></a>\n",
    "## 2  Implement and evaluate a machine-learning approach appropriately. \n",
    "----\n",
    "\n",
    "In this section, you should:\n",
    "1. Choose and initialize a machine-learning model based on the task and the data set (and pre-process the features in X, **if necessary/appropriate**). \n",
    "2. Choose and run an evaluation method with appropriate performance metrics, based on the task and the data set. \n",
    "3. Report, interpret, and discuss the results achieved by your model appropriately, comparing against random and majority class predictions. "
   ]
  },
  {
   "attachments": {},
   "cell_type": "markdown",
   "metadata": {},
   "source": [
    "<a id=\"section2.1\"></a>\n",
    "### Task 2.1\n",
    "\n",
    "A range of machine-learning algorithms available in the field have been explored in the lectures and the lab sessions, and choosing the one you think that is most likely to perform best depends on your problem type and data. As you have seen in this course, certain algorithms are better suitable for regression tasks, while others for classification tasks, as an example. The data also plays a key role in the process of choosing the right algorithm for the right problem. Some algorithms can work with smaller sample sets, while others require lots of samples. Similarly, certain algorithms can work better with categorical data, while others work better with numerical input. Once you select the algorithm you will use for the next steps:\n",
    "- you **could** pre-process here the features in `X` (**if necessary/appropriate**), in such a way that they are ready to be fed into the selected algorithm; \n",
    "- and then initialize the corresponding scikit-learn or statsmodel model to be ready to run the next steps on it.\n",
    "\n",
    "*REMARK: please, note that pre-processing your data is NOT mandatory in the sense that you should pre-process the features in X only if necessary or appropriate, based on the model you chose and how it is able to deal with the data at hand. It is just important that you justify your decisions. Just in case you might need to encode categorical variables, as mentioned in lab session 3, scikit-learn has nice classes for this purpose, namely [LabelEncoder](https://scikit-learn.org/stable/modules/generated/sklearn.preprocessing.LabelEncoder.html) or [OneHotEncoder](https://scikit-learn.org/stable/modules/generated/sklearn.preprocessing.OneHotEncoder.html). Another nice alternative is to use the [pd.get_dummies](https://pandas.pydata.org/pandas-docs/stable/reference/api/pandas.get_dummies.html) function of Pandas. We copy here again the reading mentioned in lab session 3 on these three encoding strategies: [this supporting tutorial](https://towardsdatascience.com/categorical-encoding-using-label-encoding-and-one-hot-encoder-911ef77fb5bd).*"
   ]
  },
  {
   "cell_type": "code",
   "execution_count": null,
   "metadata": {
    "deletable": false,
    "nbgrader": {
     "cell_type": "code",
     "checksum": "480f259b6c9a65a7cd8ece0257a263e8",
     "grade": true,
     "grade_id": "2-1",
     "locked": false,
     "points": 20,
     "schema_version": 3,
     "solution": true,
     "task": false
    }
   },
   "outputs": [],
   "source": [
    "# YOUR CODE HERE\n",
    "raise NotImplementedError()"
   ]
  },
  {
   "attachments": {},
   "cell_type": "markdown",
   "metadata": {
    "deletable": false,
    "nbgrader": {
     "cell_type": "markdown",
     "checksum": "ce13be13af245968295ca59e39053824",
     "grade": true,
     "grade_id": "2-1-inter",
     "locked": false,
     "points": 10,
     "schema_version": 3,
     "solution": true,
     "task": false
    }
   },
   "source": [
    "YOUR ANSWER HERE"
   ]
  },
  {
   "attachments": {},
   "cell_type": "markdown",
   "metadata": {},
   "source": [
    "<a id=\"section2.2\"></a>\n",
    "### Task 2.2\n",
    "\n",
    "So, you should have successfully initialized your machine-learning model. What should you do now? You will need to evaluate the goodness of the model in predicting the target, which is an essential part of the entire pipeline. When to use which evaluation methods and performance metrics depends primarily on the nature of your problem and the characteristics of the data. Getting back to your homework, question yourself what is the main purpose you are trying to solve, select the right performance metrics and evaluation method, and run the evaluation of your model accordingly. In this task, we ask you to run an appropriate evaluation method and compute an appropriate performance metric / performance metrics, among those described in the lectures and in the lab sessions."
   ]
  },
  {
   "cell_type": "code",
   "execution_count": null,
   "metadata": {
    "deletable": false,
    "nbgrader": {
     "cell_type": "code",
     "checksum": "dfd497cead44c85762fd78dcf2a3c5ff",
     "grade": true,
     "grade_id": "2-2",
     "locked": false,
     "points": 10,
     "schema_version": 3,
     "solution": true,
     "task": false
    }
   },
   "outputs": [],
   "source": [
    "# YOUR CODE HERE\n",
    "raise NotImplementedError()"
   ]
  },
  {
   "attachments": {},
   "cell_type": "markdown",
   "metadata": {
    "deletable": false,
    "nbgrader": {
     "cell_type": "markdown",
     "checksum": "bde698ded1a74f3ac05f046d08349193",
     "grade": true,
     "grade_id": "2-2-inter",
     "locked": false,
     "points": 10,
     "schema_version": 3,
     "solution": true,
     "task": false
    }
   },
   "source": [
    "YOUR ANSWER HERE"
   ]
  },
  {
   "attachments": {},
   "cell_type": "markdown",
   "metadata": {},
   "source": [
    "<a id=\"section2.3\"></a>\n",
    "### Task 2.3\n",
    "\n",
    "Selecting the right performance metrics and evaluation method and running the evaluation of your model accordingly is not enough. To assess the model goodness, you need to report and communicate the results of your model appropriately (e.g., deciding which performance metrics you present and how you to present them). The way you perform this task should be coherent with the problem type you are dealing with, the characteristics of the data set, and what is important in the target context. In this task we ask you to 1) report the obtained results visually, and 2) interpret and discuss them with respect to the performance achievable by a random model and by a model which always predicts the majority class."
   ]
  },
  {
   "cell_type": "code",
   "execution_count": null,
   "metadata": {
    "deletable": false,
    "nbgrader": {
     "cell_type": "code",
     "checksum": "7dc8285d5bf15611dc787cce8792dc8c",
     "grade": true,
     "grade_id": "2-3",
     "locked": false,
     "points": 10,
     "schema_version": 3,
     "solution": true,
     "task": false
    }
   },
   "outputs": [],
   "source": [
    "# YOUR CODE HERE\n",
    "raise NotImplementedError()"
   ]
  },
  {
   "attachments": {},
   "cell_type": "markdown",
   "metadata": {
    "deletable": false,
    "nbgrader": {
     "cell_type": "markdown",
     "checksum": "204ed5c262e82be88a23261312f4d1eb",
     "grade": true,
     "grade_id": "2-3-inter",
     "locked": false,
     "points": 10,
     "schema_version": 3,
     "solution": true,
     "task": false
    }
   },
   "source": [
    "YOUR ANSWER HERE"
   ]
  }
 ],
 "metadata": {
  "kernelspec": {
   "display_name": "Python 3",
   "language": "python",
   "name": "python3"
  },
  "language_info": {
   "codemirror_mode": {
    "name": "ipython",
    "version": 3
   },
   "file_extension": ".py",
   "mimetype": "text/x-python",
   "name": "python",
   "nbconvert_exporter": "python",
   "pygments_lexer": "ipython3",
   "version": "3.8.8"
  }
 },
 "nbformat": 4,
 "nbformat_minor": 4
}
