{
 "cells": [
  {
   "cell_type": "markdown",
   "metadata": {
    "id": "D4DSrlXs71OE"
   },
   "source": [
    "#  KNN for Churn Prediction\n",
    "\n",
    "## Introduction\n",
    "\n",
    "This week, we will go more deeply into the churn prediction task introduced in the previous practice exercise. As you already know, churn prediction is one of the most popular use cases of machine learning in business, consisting of detecting customers who are likely to cancel a subscription to a service. Churn can be triggered by better price offers, more interesting packages, bad service experiences or personal situation changes experienced by customers. To timely prevent customers' churn, companies might adopt a machine learning classifier able to predict churn on an individual customer basis, and then use the predictions of this classifier to know when countermeasures (e.g., discounts or special offers) against churn are needed, to prevent the churn event.  \n",
    "\n",
    "In the previous practice exercise, you were expected to use a range of demographic and basic contract-related features and create five additional behavioral as well as an appropriate evaluation method and performance metric(s) to assess the goodness of your classifier in predicting churn for customers.\n",
    "\n",
    "We ask you again to work on the machine-learning pipeline presented at the end of lecture 4, by instantiating, exploring, and fine-tuning a series of k-Nearest-Neighbors (kNNs) classifiers. Specifically, we will ask you to:\n",
    "\n",
    "- Experiment with distance matrices and KNN classifiers fed with only demographic features or only behavioral features.\n",
    "- Experiment with distance matrices and KNN classifiers fed with both demographic and behavioral features. \n",
    "- Report, visually, the performance of three fine-tuned KNN classifiers (demographic, tuned), (behavioral, tuned), and (combined, tuned), and discuss.\n",
    "\n",
    "The focus of this is on modelling and not on the quality of features. Therefore, note that there should be **no** need to perform any feature engineering.  \n",
    "\n"
   ]
  },
  {
   "cell_type": "markdown",
   "metadata": {
    "id": "dJnyk0nS71Ob"
   },
   "source": [
    "## The Data Set\n",
    "\n",
    "The `data` folder includes CSV files pertaining to customer's demographic attributes, contract information, and monthly service-related data. \n",
    "\n",
    "For the sake of easiness and clarity, we will use the convention that:\n",
    "- features you compute from the **customer.csv** file are referred to as **(pseudo)demographic / demographic features**;\n",
    "- features you compute from the **phone_usage.csv**, **services.csv**, and **charges.csv** files are referred to as **behavioral features**.\n",
    "\n",
    "The **target values** are represented by the **churn labels** listed in the **churn.csv** file under the **\"Churn\" column**.   \n",
    "\n",
    "Each file is characterized by the following attributes:\n",
    "\n",
    "**customer.csv**\n",
    "\n",
    "| Name                   | Description                         |\n",
    "| ---------------------- | ------------------------------------------------------------ |\n",
    "| CustomerID | A unique ID that identifies each customer.  | \n",
    "| Gender |  The customer’s gender: Male, Female  | \n",
    "| SeniorCitizen | Indicates if the customer is 65 or older: 0, 1.  | \n",
    "| Partner |  Indicates if the customer is married: Yes, No | \n",
    "| Dependents | Indicates if the customer lives with any dependents: Yes, No.  |  \n",
    "| PaperlessBilling | Indicates if the customer has chosen paperless billing: Yes, No.  | \n",
    "| PaymentMethod |  Indicates how the customer pays their bill: Mailed check, Electronic check, Credit card, Bank transfer.  | \n",
    "\n",
    "**contract.csv**\n",
    "\n",
    "| Name                   | Description                         |\n",
    "| ---------------------- | ------------------------------------------------------------ |\n",
    "| ContractID |  A unique ID that identifies each contract.  | \n",
    "| CustomerID |  A unique ID that identifies each customer.  | \n",
    "| Contract |  Indicates the customer’s current contract type: Month-to-Month, One Year, Two Year.  | \n",
    "| StartDate |  Start date of the contract. | \n",
    "\n",
    "**churn.csv**\n",
    "\n",
    "| Name                   | Description                         |\n",
    "| ---------------------- | ------------------------------------------------------------ |\n",
    "| CustomerID | A unique ID that identifies each customer.   | \n",
    "| Churn | 1 = the customer left the company. 0 = the customer remained with the company.  | \n",
    "\n",
    "**phone_usage.csv**\n",
    "\n",
    "| Name                   | Description                         |\n",
    "| ---------------------- | ------------------------------------------------------------ |\n",
    "| ContractID | A unique ID that identifies each contract.  | \n",
    "| Date | The reference period for the monthly usage indicated by this record for this ContractID.  | \n",
    "| MonthlyUsage | Indicates the customer’s monthly usage for the phone.  | \n",
    "\n",
    "**services.csv**\n",
    "\n",
    "| Name                   | Description                         |\n",
    "| ---------------------- | ------------------------------------------------------------ |\n",
    "| ContractID | A unique ID that identifies each contract.  | \n",
    "| ServiceValue | The specific service value of type Service the contract has. No = the customer does not have that Service.   | \n",
    "| Service | A string label identifying a type of service offered by the company: PhoneService, InternetService, MultipleLines, OnlineSecurity, OnlineBackup, DeviceProtection, TechSupport, StreamingTV, StreamingMovies.   | \n",
    "\n",
    "**charges.csv**\n",
    "\n",
    "| Name                   | Description                         |\n",
    "| ---------------------- | ------------------------------------------------------------ |\n",
    "| ContractID |  A unique ID that identifies each contract. | \n",
    "| Date | The billing date for the monthly usage indicated by this record for this ContractID.   | \n",
    "| Charge | Indicates the contract’s monthly charge.  | "
   ]
  },
  {
   "cell_type": "code",
   "execution_count": 1,
   "metadata": {
    "ExecuteTime": {
     "end_time": "2021-04-08T21:09:10.908946Z",
     "start_time": "2021-04-08T21:09:08.266715Z"
    },
    "id": "rn4tsOQh71Od"
   },
   "outputs": [],
   "source": [
    "### YOUR IMPORT STATEMENTS HERE (please, do not make any imports elsewhere in the notebook) ###\n",
    "import pandas as pd\n",
    "import numpy as np\n",
    "import pickle\n",
    "\n",
    "import seaborn as sns\n",
    "from matplotlib import pyplot as plt\n",
    "from tqdm.notebook import tqdm as tqdm\n",
    "\n",
    "from sklearn.model_selection import StratifiedKFold\n",
    "from sklearn.neighbors import KNeighborsClassifier\n",
    "from sklearn.metrics import pairwise_distances, balanced_accuracy_score, roc_auc_score\n",
    "from sklearn.model_selection import GridSearchCV, cross_val_score, cross_validate\n"
   ]
  },
  {
   "cell_type": "code",
   "execution_count": 2,
   "metadata": {
    "ExecuteTime": {
     "end_time": "2021-04-08T21:09:11.252195Z",
     "start_time": "2021-04-08T21:09:10.910938Z"
    },
    "id": "41KVAevJ71Oe"
   },
   "outputs": [],
   "source": [
    "# Files with one record per customer / contract\n",
    "customer = pd.read_csv('./data/customer.csv')\n",
    "contract = pd.read_csv('./data/contract.csv')\n",
    "churn = pd.read_csv('./data/churn.csv')\n",
    "\n",
    "# Files with one record per customer / contract over months\n",
    "phone_usage = pd.read_csv('./data/phone_usage.csv')\n",
    "services = pd.read_csv('./data/services.csv')\n",
    "charges = pd.read_csv('./data/charges.csv')"
   ]
  },
  {
   "cell_type": "markdown",
   "metadata": {
    "id": "RqglmRtY71Oe"
   },
   "source": [
    "<a id=\"section1\"></a>\n",
    "## 1  Experiment with KNN classifiers and demographic features\n",
    "----\n",
    "\n",
    "In this section, you should:\n",
    "1. Prepare a feature matrix with only `demographic features` for each customer (one row per customer, features included in the customer.csv file) and compute a `pair-wise distance matrix` across customers, with an appropriate distance measure.\n",
    "\n",
    "\n",
    "2. To predict the churn target, implement three kNN classifiers and feed them with the created pairwise-distance matrix. Evaluate each kNN classifier by using a `10-fold user-stratified cross-validation` and use `Balanced Accuracy` and `AUC` as performance metrics.\n",
    "\n",
    "\n",
    "3. Then, re-use and extend the implementation provided in Task 1.2 to fine tune the hyper-parameter k of the kNN classifier. \n",
    "\n",
    "\n",
    "4. Report visually `Balanced Accuracy` and `AUC` of (i) the three kNN classifiers implemented in Task 1.2 and (ii) the fine-tuned kNN classifier obtained in Task 1.3, in such a way that they can be easily and appropriately compared. "
   ]
  },
  {
   "cell_type": "markdown",
   "metadata": {
    "id": "E9dl_gq971Of"
   },
   "source": [
    "<a id=\"section1.1\"></a>\n",
    "### Task 1.1 \n",
    "\n",
    "The k-Nearest-Neighbor (kNN) is one of the simplest algorithms for finding patterns in classification problems. \n",
    "\n",
    "In this task, to prepare the training data to be fed into the kNN classifier, we ask you to:\n",
    "- Compute a feature matrix `XD` with one row per customer and one column per **demographic** feature (i.e., **the features included in the customer.csv file**). The cell `XD[i,j]` represents the value of the demographic feature `j` for customer `i`. The shape of the matrix `XD` should be (n_customers, n_demographic_features). \n",
    "- Compute a pair-wise distance matrix `DD` with one row per customer and one column per customer. The cell `DD[i,j]` represents the pair-wise distance between the features vectors `XD[i]` and `XD[j]` of customer `i` and customer `j`, respectively. The shape of the matrix `DD` should be (n_customers, n_customers). Make sure to pick an appropriate distance measure."
   ]
  },
  {
   "cell_type": "code",
   "execution_count": 3,
   "metadata": {
    "ExecuteTime": {
     "end_time": "2021-04-08T21:09:14.784859Z",
     "start_time": "2021-04-08T21:09:14.743968Z"
    },
    "id": "HgSbCBlf71Og"
   },
   "outputs": [
    {
     "name": "stdout",
     "output_type": "stream",
     "text": [
      "values in the gender columns: ['Female' 'Male']\n",
      "values in the senior citizen columns: [0 1]\n",
      "values in the partner columns: ['Yes' 'No']\n",
      "values in the dependent columns: ['Yes' 'No']\n",
      "values in the paperless billing columns: ['Yes' 'No']\n",
      "values in the payment method columns: ['Mailed check' 'Electronic check' 'Credit card (automatic)'\n",
      " 'Bank transfer (automatic)']\n"
     ]
    }
   ],
   "source": [
    "### YOUR CODE HERE (please, feel free to add extra cells to solve this task, after this first one) ###\n",
    "\n",
    "# Data check\n",
    "## Checking for missing values and corrupted data\n",
    "assert len(customer) == len(customer['CustomerID'].unique())\n",
    "print('values in the gender columns: {}'.format(customer['Gender'].unique()))\n",
    "print('values in the senior citizen columns: {}'.format(customer['SeniorCitizen'].unique()))\n",
    "print('values in the partner columns: {}'.format(customer['Partner'].unique()))\n",
    "print('values in the dependent columns: {}'.format(customer['Dependents'].unique()))\n",
    "print('values in the paperless billing columns: {}'.format(customer['PaperlessBilling'].unique()))\n",
    "print('values in the payment method columns: {}'.format(customer['PaymentMethod'].unique()))\n",
    "\n",
    "## Turn the features into categorical numerical values\n",
    "### Gender, binary only for this dataframe ;)\n",
    "customer['Gender'] = customer['Gender'].apply(lambda x: x.replace('Male', '0').replace('Female', '1'))\n",
    "\n",
    "### Payment method\n",
    "payment_categorical = {\n",
    "    'Mailed check': '0',\n",
    "    'Electronic check': '1',\n",
    "    'Credit card (automatic)': '2',\n",
    "    'Bank transfer (automatic)': '3'\n",
    "}\n",
    "customer['PaymentMethod'] = customer['PaymentMethod'].apply(lambda x: payment_categorical[x])\n",
    "\n",
    "### Yes or no columns\n",
    "for column in ['Partner', 'Dependents', 'PaperlessBilling']:\n",
    "    customer[column] = customer[column].apply(lambda x: x.replace('No', '0').replace('Yes', '1'))\n",
    "    \n",
    "### String to integer\n",
    "for column in customer.columns[1:]:\n",
    "    customer[column] = customer[column].astype(int)"
   ]
  },
  {
   "cell_type": "code",
   "execution_count": 4,
   "metadata": {
    "ExecuteTime": {
     "end_time": "2021-04-08T21:09:19.884872Z",
     "start_time": "2021-04-08T21:09:19.877891Z"
    }
   },
   "outputs": [],
   "source": [
    "# XD creation\n",
    "features = ['Gender', 'SeniorCitizen', 'Partner', 'Dependents', 'PaperlessBilling', 'PaymentMethod']\n",
    "XD = np.array(customer[features])"
   ]
  },
  {
   "cell_type": "code",
   "execution_count": 5,
   "metadata": {
    "ExecuteTime": {
     "end_time": "2021-04-08T21:16:38.248066Z",
     "start_time": "2021-04-08T21:09:21.662127Z"
    }
   },
   "outputs": [],
   "source": [
    "# DD creation\n",
    "# Hamming distance, decomposed for explanation. Use metric='hamming' for faster computation\n",
    "def matching(x, y):\n",
    "    '''\n",
    "    1 - Sum of the characters in common, normalised by the length of the vector\n",
    "    '''\n",
    "    hamming = (sum(x == y) / len(x))\n",
    "    return 1 - hamming\n",
    "\n",
    "DD = pairwise_distances(XD, metric=lambda x, y: matching(x, y))\n",
    "    "
   ]
  },
  {
   "cell_type": "markdown",
   "metadata": {},
   "source": [
    "**Saving Dataframes**\n",
    "\n",
    "<span>\n",
    "    Saving the dataframe in case:\n",
    "    - the kernel crashes\n",
    "    - computer is turned off\n",
    "</span>"
   ]
  },
  {
   "cell_type": "code",
   "execution_count": 6,
   "metadata": {
    "ExecuteTime": {
     "end_time": "2021-04-08T21:17:36.745451Z",
     "start_time": "2021-04-08T21:16:38.249908Z"
    }
   },
   "outputs": [],
   "source": [
    "with open('./XD_matrix.pkl', 'wb') as fp:\n",
    "    pickle.dump(XD, fp)\n",
    "    \n",
    "with open('./DD_matrix.pkl', 'wb') as fp:\n",
    "    pickle.dump(DD, fp)"
   ]
  },
  {
   "cell_type": "markdown",
   "metadata": {
    "id": "z4OwJ6HV71Og"
   },
   "source": [
    "### 1.1 Please describe and motivate your implementation and justify the choice of distance measure.\n",
    "\n",
    "### ============  YOUR WRITTEN ANSWER HERE ============== \n",
    "<span>\n",
    "    \n",
    "    For this question, all demographic features are categorical. \n",
    "    \n",
    "    We thus first proceed to replace each of our values by a categorical/numerical value, and create XD. XD is the categorical and numerical version of our customer dataframe, where each row is the features vector for one instance. To access feature j, of instance i, we can simply use XD[i, j]. To retrieve the entire feature vector of XD, we use XD[i].\n",
    "    \n",
    "\n",
    "    Because all of our values are categorical, metrics such as the euclidean distance, or the cosine similarity are ill-fitted. We thus use a \"matching\" metric called the Hamming distance, in which we first compute the similarity between 2 feature vectors (+1 per common attribute, normalised by the amount of features), and then compute the distance by substracting it to 1.\n",
    "    \n",
    "    Note: Though the demographic features are represented as numbers, they still remain categorical: https://en.wikipedia.org/wiki/Categorical_variable\n",
    "</span>"
   ]
  },
  {
   "cell_type": "markdown",
   "metadata": {
    "id": "UJ5jtFSL71Oh"
   },
   "source": [
    "<a id=\"section1.2\"></a>\n",
    "### Task 1.2\n",
    "\n",
    "As a first exploration, in this task, we ask you to implement three different kNN classifiers able to predict the churn target, with $k=1, 25, 1000$ respectively . The input data should be the pair-wise distance matrix `DD` computed in Task 1.1. Each kNN classifier should be evaluated through a `10-fold user-stratified cross-validation` and the following metrics should be computed: `Balanced Accuracy` and `AUC`. We expect that you discuss the performance metric scores achieved by the three classifiers. No plotting is needed, it is enough to print the scores in the cell."
   ]
  },
  {
   "cell_type": "code",
   "execution_count": 7,
   "metadata": {
    "ExecuteTime": {
     "end_time": "2021-04-08T21:17:38.287985Z",
     "start_time": "2021-04-08T21:17:36.747434Z"
    },
    "id": "MSJu9ZgD71Oi"
   },
   "outputs": [],
   "source": [
    "### YOUR CODE HERE (please, feel free to add extra cells to solve this task, after this first one) ###\n",
    "\n",
    "# Data check\n",
    "## Checking that our targets index correspond to our features index\n",
    "for i in range(len(customer)):\n",
    "    assert customer.iloc[i]['CustomerID'] == churn.iloc[i]['CustomerID']\n",
    "    \n",
    "y = np.array(churn['Churn'])"
   ]
  },
  {
   "cell_type": "markdown",
   "metadata": {},
   "source": [
    "#### Cross validation via iterations"
   ]
  },
  {
   "cell_type": "code",
   "execution_count": 8,
   "metadata": {
    "ExecuteTime": {
     "end_time": "2021-04-08T21:18:09.573292Z",
     "start_time": "2021-04-08T21:17:38.289980Z"
    }
   },
   "outputs": [],
   "source": [
    "skf = StratifiedKFold(n_splits=10, random_state=42, shuffle=True)\n",
    "fold = 0\n",
    "folds = {\n",
    "    'ytest' : [],\n",
    "    'test_index': [],\n",
    "    'ypreds_1': [],\n",
    "    'ypreds_25': [],\n",
    "    'ypreds_1000': [],\n",
    "    'yprobs_1': [],\n",
    "    'yprobs_25': [],\n",
    "    'yprobs_1000': [],\n",
    "    'rocauc_1': [],\n",
    "    'rocauc_25': [],\n",
    "    'rocauc_1000': [],\n",
    "    'balacc_1': [],\n",
    "    'balacc_25': [],\n",
    "    'balacc_1000': []\n",
    "}\n",
    "\n",
    "for train_index, test_index in skf.split(XD, y):\n",
    "    # Separate train and test\n",
    "    x_train = [DD[t_i][train_index] for t_i in train_index]\n",
    "    x_test = [DD[t_i][train_index] for t_i in test_index]\n",
    "    \n",
    "    y_train = y[train_index]\n",
    "    y_test = y[test_index]\n",
    "    \n",
    "    # KNN \n",
    "    ## train\n",
    "    neigh_1 = KNeighborsClassifier(n_neighbors=1, metric='precomputed')\n",
    "    neigh_25 = KNeighborsClassifier(n_neighbors=25, metric='precomputed')\n",
    "    neigh_1000 = KNeighborsClassifier(n_neighbors=1000, metric='precomputed')\n",
    "    \n",
    "    neigh_1.fit(x_train, y_train)\n",
    "    neigh_25.fit(x_train, y_train)\n",
    "    neigh_1000.fit(x_train, y_train)\n",
    "    \n",
    "    ## test\n",
    "    ypred_1 = neigh_1.predict(x_test)\n",
    "    ypred_25 = neigh_25.predict(x_test)\n",
    "    ypred_1000 = neigh_1000.predict(x_test)\n",
    "    \n",
    "    yproba_1 = neigh_1.predict_proba(x_test)\n",
    "    yproba_25 = neigh_25.predict_proba(x_test)\n",
    "    yproba_1000 = neigh_1000.predict_proba(x_test)\n",
    "    \n",
    "    ## metrics\n",
    "    b1 = balanced_accuracy_score(y_test, ypred_1)\n",
    "    b25 = balanced_accuracy_score(y_test, ypred_25)\n",
    "    b1000 = balanced_accuracy_score(y_test, ypred_1000)\n",
    "    \n",
    "    auc1 = roc_auc_score(y_test, yproba_1[:, 1])\n",
    "    auc25 = roc_auc_score(y_test, yproba_25[:, 1])\n",
    "    auc1000 = roc_auc_score(y_test, yproba_1000[:, 1])\n",
    "    \n",
    "    ## Save data\n",
    "    fold += 1\n",
    "    \n",
    "    ### Only useful to investigate preditions\n",
    "    folds['test_index'] = list(folds['test_index']) + list(test_index)\n",
    "    folds['ytest'] = list(folds['ytest']) + list(y_test)\n",
    "    \n",
    "    folds['ypreds_1'] = list(folds['ypreds_1']) + list(ypred_1)\n",
    "    folds['ypreds_25'] = list(folds['ypreds_25']) + list(ypred_25)\n",
    "    folds['ypreds_1000'] = list(folds['ypreds_1000']) + list(ypred_1000)\n",
    "    \n",
    "    folds['yprobs_1'] = list(folds['yprobs_1']) + list(yproba_1)\n",
    "    folds['yprobs_25'] = list(folds['yprobs_25']) + list(yproba_25)\n",
    "    folds['yprobs_1000'] = list(folds['yprobs_1000']) + list(yproba_1000)\n",
    "    \n",
    "    ### Used to compute performances\n",
    "    folds['rocauc_1'].append(auc1)\n",
    "    folds['rocauc_25'].append(auc25)\n",
    "    folds['rocauc_1000'].append(auc1000)\n",
    "    folds['balacc_1'].append(b1)\n",
    "    folds['balacc_25'].append(b25)\n",
    "    folds['balacc_1000'].append(b1000)"
   ]
  },
  {
   "cell_type": "code",
   "execution_count": 9,
   "metadata": {
    "ExecuteTime": {
     "end_time": "2021-04-08T21:18:09.612061Z",
     "start_time": "2021-04-08T21:18:09.587094Z"
    }
   },
   "outputs": [
    {
     "name": "stdout",
     "output_type": "stream",
     "text": [
      "Overall performances for classifier with k=1: \n",
      "0.5421517530534851 +/- 0.02845747005826321 (bacc), 0.5421517530534852 +/- 0.028457470058263247 (auc)\n",
      "\n",
      "Overall performances for classifier with k=25: \n",
      "0.5926891610811026 +/- 0.030830353336703673 (bacc), 0.7081108985513869 +/- 0.02415911350617012 (auc)\n",
      "\n",
      "Overall performances for classifier with k=1000: \n",
      "0.5201932950671294 +/- 0.019917031608733354 (bacc), 0.7275027382490797 +/- 0.028897482430822553 (auc)\n"
     ]
    }
   ],
   "source": [
    "print('Overall performances for classifier with k=1: \\n{} +/- {} (bacc), {} +/- {} (auc)'.format(np.mean(folds['balacc_1']), np.std(folds['balacc_1']), np.mean(folds['rocauc_1']), np.std(folds['rocauc_1'])))\n",
    "print()\n",
    "print('Overall performances for classifier with k=25: \\n{} +/- {} (bacc), {} +/- {} (auc)'.format(np.mean(folds['balacc_25']), np.std(folds['balacc_25']), np.mean(folds['rocauc_25']), np.std(folds['rocauc_25'])))\n",
    "print()\n",
    "print('Overall performances for classifier with k=1000: \\n{} +/- {} (bacc), {} +/- {} (auc)'.format(np.mean(folds['balacc_1000']), np.std(folds['balacc_1000']), np.mean(folds['rocauc_1000']), np.std(folds['rocauc_1000'])))"
   ]
  },
  {
   "cell_type": "code",
   "execution_count": 10,
   "metadata": {
    "ExecuteTime": {
     "end_time": "2021-04-08T21:18:09.631011Z",
     "start_time": "2021-04-08T21:18:09.614056Z"
    }
   },
   "outputs": [
    {
     "name": "stdout",
     "output_type": "stream",
     "text": [
      "Proportion of churn instances in the dataset: 0.2653698707936959\n",
      "Positive predictions for k=1: 0.2585545932131194, k=25: 0.1367315064603152, k=1000: 0.01959392304415732\n"
     ]
    }
   ],
   "source": [
    "print('Proportion of churn instances in the dataset: {}'.format(sum(folds['ytest']) / len(folds['ytest'])))\n",
    "k1 = sum(folds['ypreds_1']) / len(folds['ypreds_1'])\n",
    "k25 = sum(folds['ypreds_25']) / len(folds['ypreds_25'])\n",
    "k1000 = sum(folds['ypreds_1000']) / len(folds['ypreds_1000'])\n",
    "print('Positive predictions for k=1: {}, k=25: {}, k=1000: {}'.format(k1, k25, k1000))"
   ]
  },
  {
   "cell_type": "code",
   "execution_count": 11,
   "metadata": {
    "ExecuteTime": {
     "end_time": "2021-04-08T21:18:09.732105Z",
     "start_time": "2021-04-08T21:18:09.633005Z"
    }
   },
   "outputs": [
    {
     "name": "stdout",
     "output_type": "stream",
     "text": [
      "Strength of predictions for: \n",
      " k=1: 1.0 +/- 0.0,\n",
      " k=25: 0.7621524918358654 +/- 0.14205374224430845,\n",
      " k=1000: 0.7221848644043731 +/- 0.1137956844656349\n",
      "   \n"
     ]
    }
   ],
   "source": [
    "k1 = [np.max(folds['yprobs_1'][i]) for i in range(len(folds['ytest']))]\n",
    "k25 = [np.max(folds['yprobs_25'][i]) for i in range(len(folds['ytest']))]\n",
    "k1000 = [np.max(folds['yprobs_1000'][i]) for i in range(len(folds['ytest']))]\n",
    "\n",
    "print('Strength of predictions for: \\n k=1: {} +/- {},\\n k=25: {} +/- {},\\n k=1000: {} +/- {}'.format(np.mean(k1), np.std(k1), np.mean(k25), np.std(k25), np.mean(k1000), np.std(k1000)))\n",
    "print('   ')"
   ]
  },
  {
   "cell_type": "code",
   "execution_count": 12,
   "metadata": {
    "ExecuteTime": {
     "end_time": "2021-04-08T21:18:09.953830Z",
     "start_time": "2021-04-08T21:18:09.734077Z"
    }
   },
   "outputs": [],
   "source": [
    "with open('./12_knnfolds.pkl', 'wb') as fp:\n",
    "    pickle.dump(folds, fp)"
   ]
  },
  {
   "cell_type": "markdown",
   "metadata": {},
   "source": [
    "#### Alternative way of implementing cross validation (sklearn function)"
   ]
  },
  {
   "cell_type": "code",
   "execution_count": 13,
   "metadata": {
    "ExecuteTime": {
     "end_time": "2021-04-08T21:18:36.880143Z",
     "start_time": "2021-04-08T21:18:09.956619Z"
    }
   },
   "outputs": [],
   "source": [
    "k_1 = KNeighborsClassifier(n_neighbors=1, metric='precomputed')\n",
    "k1cv_results = cross_validate(k_1, DD, y, cv=10, scoring=['roc_auc', 'balanced_accuracy'])\n",
    "\n",
    "k_25 = KNeighborsClassifier(n_neighbors=25, metric='precomputed')\n",
    "k25cv_results = cross_validate(k_25, DD, y, cv=10, scoring=['roc_auc', 'balanced_accuracy'])\n",
    "\n",
    "k_1000 = KNeighborsClassifier(n_neighbors=1000, metric='precomputed')\n",
    "k1000cv_results = cross_validate(k_1000, DD, y, cv=10, scoring=['roc_auc', 'balanced_accuracy'])"
   ]
  },
  {
   "cell_type": "code",
   "execution_count": 14,
   "metadata": {
    "ExecuteTime": {
     "end_time": "2021-04-08T21:18:36.890636Z",
     "start_time": "2021-04-08T21:18:36.882139Z"
    }
   },
   "outputs": [
    {
     "name": "stdout",
     "output_type": "stream",
     "text": [
      "Overall performances for classifier with k=1: \n",
      "0.547419637265816 +/- 0.01929124717719897 (bacc), 0.547419637265816 +/- 0.01929124717719896 (auc)\n",
      "\n",
      "Overall performances for classifier with k=25: \n",
      "0.5799687678558445 +/- 0.04080298151755757 (bacc), 0.7144550428337622 +/- 0.017628791511857454 (auc)\n",
      "\n",
      "Overall performances for classifier with k=1000: \n",
      "0.5304316028931476 +/- 0.0135531036047848 (bacc), 0.7286301029272908 +/- 0.017629247806216337 (auc)\n"
     ]
    }
   ],
   "source": [
    "print('Overall performances for classifier with k=1: \\n{} +/- {} (bacc), {} +/- {} (auc)'.format(\n",
    "                                        np.mean(k1cv_results['test_balanced_accuracy']), \n",
    "                                        np.std(k1cv_results['test_balanced_accuracy']), \n",
    "                                        np.mean(k1cv_results['test_roc_auc']), \n",
    "                                        np.std(k1cv_results['test_roc_auc'])))\n",
    "print()\n",
    "print('Overall performances for classifier with k=25: \\n{} +/- {} (bacc), {} +/- {} (auc)'.format(\n",
    "                                        np.mean(k25cv_results['test_balanced_accuracy']), \n",
    "                                        np.std(k25cv_results['test_balanced_accuracy']), \n",
    "                                        np.mean(k25cv_results['test_roc_auc']), \n",
    "                                        np.std(k25cv_results['test_roc_auc'])))\n",
    "print()\n",
    "print('Overall performances for classifier with k=1000: \\n{} +/- {} (bacc), {} +/- {} (auc)'.format(\n",
    "                                        np.mean(k1000cv_results['test_balanced_accuracy']), \n",
    "                                        np.std(k1000cv_results['test_balanced_accuracy']), \n",
    "                                        np.mean(k1000cv_results['test_roc_auc']), \n",
    "                                        np.std(k1000cv_results['test_roc_auc'])))"
   ]
  },
  {
   "cell_type": "markdown",
   "metadata": {
    "id": "dptNLHgl71Oi"
   },
   "source": [
    "### 1.2 Please compare and discuss the performance metric scores achieved by the three classifiers.\n",
    "\n",
    "### ============  YOUR WRITTEN ANSWER HERE ============== \n",
    "<span>\n",
    "    \n",
    "    As expected, the balanced accuracy scores are not really high because of the high imbalance in the dataset (27%/73%).\n",
    "    \n",
    "    With k=1, the predictions probabilities are very strong, and always equal to 0 or 1. This makes sense, as with one neighbour, the class of the instance is that of that neighbour fully. The balanced accuracy score (balacc) and the area under the receiver operator curve (ROC area) are therefore similar (no matter the thresholds, nothing will change, since each of the probabilities are either 0 or 1). Note that when k=1, the proportion of positive predictions is close to the proportion of positive instances.\n",
    "    \n",
    "    With k=25, the performances increase a little bit, both for the balacc and the ROC area. The predictions are also a bit more mitigated, as the amount of neighbours is higher too. Unfortunately, this also means that the churn class gets drowned by the inevitable large number of negative instances in the training set. This is reflected in the proportions of positive predictions, which reaches 13%, compared to 27% in our dataset.\n",
    "    \n",
    "    Finally, with k=1000, almost all predictions become negative. Indeed, the amount of positive predictions is of 1869, versus 5174. The probability of churn-class instances being overpowered by the majority class instances with such a large number of neighbours is thus quite high.\n",
    "    \n",
    "    For all three numbers of neighbours, the standard deviation is really small. This is an indication that the method is rather robust to the fold of the data we've chosen.\n",
    "    Further note that none of this classifiers have been fine tuned yet.\n",
    "</span>"
   ]
  },
  {
   "cell_type": "markdown",
   "metadata": {
    "id": "lBIraLzb71Oj"
   },
   "source": [
    "<a id=\"section1.3\"></a>\n",
    "### Task 1.3\n",
    "\n",
    "Given that the performance of KNNs is very sensitive to the choice of k (i.e., the number of neighbors), in this task, we ask you to fine-tune the KNN classifier over an appropriate `range of values for k`. To this end, you need to re-use and appropriately extend the implementation provided in Task 1.2 in order to make it possible to fine tune the hyper-parameter k of the kNN classifier. Please use the same method (`10-fold user-stratified cross-validation`) and performance metrics (`Balanced Accuracy` and `AUC`) as in task 1.2 to evaluate the classifier. Again, no plotting is needed, it is enough to print the scores in the cell."
   ]
  },
  {
   "cell_type": "code",
   "execution_count": 15,
   "metadata": {
    "ExecuteTime": {
     "end_time": "2021-04-08T21:56:24.144881Z",
     "start_time": "2021-04-08T21:24:10.055025Z"
    },
    "id": "piC9psw471Ok"
   },
   "outputs": [],
   "source": [
    "### YOUR CODE HERE (please, feel free to add extra cells to solve this task, after this first one) ###\n",
    "skf = StratifiedKFold(n_splits=10, random_state=42, shuffle=True)\n",
    "fold = 0\n",
    "folds = {\n",
    "    'y_test' : [],\n",
    "    'test_index': [],\n",
    "    'ypred': [],\n",
    "    'yprobs': [],\n",
    "    'rocauc': [],\n",
    "    'balacc': [],\n",
    "    'best_params': [],\n",
    "}\n",
    "\n",
    "for train_index, test_index in skf.split(XD, y):\n",
    "    # Separate train and test\n",
    "    x_train = np.array([DD[t_i][train_index] for t_i in train_index])\n",
    "    x_test = np.array([DD[t_i][train_index] for t_i in test_index])\n",
    "    \n",
    "    y_train = np.array(y[train_index])\n",
    "    y_test = np.array(y[test_index])\n",
    "    \n",
    "    # Gridsearch\n",
    "    ## Setup\n",
    "    neighbours = [5] + list(range(11, 50, 2)) + list(range(59, 100, 10)) + [159] + list(range(199, 900, 100))\n",
    "    parameters = {\n",
    "        'n_neighbors': neighbours\n",
    "    }\n",
    "    knn = KNeighborsClassifier(metric='precomputed')\n",
    "    clf = GridSearchCV(knn, parameters, cv=10, scoring='balanced_accuracy')\n",
    "    \n",
    "    ## Classification\n",
    "    clf.fit(x_train, y_train)\n",
    "    ypred = clf.predict(x_test)\n",
    "    yprobs = clf.predict_proba(x_test)\n",
    "    \n",
    "    balacc = balanced_accuracy_score(y_test, ypred)\n",
    "    auc = roc_auc_score(y_test, yprobs[:, 1])\n",
    "    \n",
    "    ## Save data\n",
    "    folds['y_test'] = folds['y_test'] + list(y_test)\n",
    "    folds['test_index'] = folds['test_index'] + list(test_index)\n",
    "    folds['ypred'] = folds['ypred'] + list(ypred)\n",
    "    folds['yprobs'] = folds['yprobs'] + list(yprobs)\n",
    "    folds['rocauc'].append(auc)\n",
    "    folds['balacc'].append(balacc)\n",
    "    folds['best_params'].append(clf.best_params_)\n",
    "    fold += 1\n"
   ]
  },
  {
   "cell_type": "markdown",
   "metadata": {},
   "source": [
    "<span>\n",
    "    \n",
    "    In order to try different orders of magnitudes for k, we decided to investigate neighbours between 0~50, 50~100, 100~1000. Because in our previous experience 25 seemed to yield the best performances, the granularity is finer around that range. \n",
    "    Finally, we decided to investigate odd numbers solely, to avoid ties in the voting.\n",
    "    \n",
    "    Additionally, we optimise the gridsearch with regards to the balanced accuracy, as we saw that the roc auc gave away strong scores even when no minority instances (churn) were predicted.\n",
    "    \n",
    "</span>"
   ]
  },
  {
   "cell_type": "code",
   "execution_count": 16,
   "metadata": {
    "ExecuteTime": {
     "end_time": "2021-04-08T21:56:24.191120Z",
     "start_time": "2021-04-08T21:56:24.168109Z"
    }
   },
   "outputs": [
    {
     "name": "stdout",
     "output_type": "stream",
     "text": [
      "Scores: 0.7241666750844278 +/- 0.023992758879847396 (auc), 0.6023801494783368 +/- 0.03302783296127485 (bal accuracy)\n",
      "Per fold, the best parameters were: \n",
      "     {'n_neighbors': 31}\n",
      "     {'n_neighbors': 199}\n",
      "     {'n_neighbors': 99}\n",
      "     {'n_neighbors': 45}\n",
      "     {'n_neighbors': 69}\n",
      "     {'n_neighbors': 199}\n",
      "     {'n_neighbors': 99}\n",
      "     {'n_neighbors': 199}\n",
      "     {'n_neighbors': 199}\n",
      "     {'n_neighbors': 99}\n"
     ]
    }
   ],
   "source": [
    "print('Scores: {} +/- {} (auc), {} +/- {} (bal accuracy)'.format(np.mean(folds['rocauc']), \n",
    "                                                                np.std(folds['rocauc']),\n",
    "                                                                np.mean(folds['balacc']),\n",
    "                                                                np.std(folds['balacc'])\n",
    "                                                                )\n",
    "     )\n",
    "\n",
    "print('Per fold, the best parameters were: ')\n",
    "for i in range(10):\n",
    "    print('     {}'.format(folds['best_params'][i]))"
   ]
  },
  {
   "cell_type": "code",
   "execution_count": 17,
   "metadata": {
    "ExecuteTime": {
     "end_time": "2021-04-08T21:56:24.327826Z",
     "start_time": "2021-04-08T21:56:24.194111Z"
    }
   },
   "outputs": [],
   "source": [
    "with open('./13_finedtunedfolds.pkl', 'wb') as fp:\n",
    "    pickle.dump(folds, fp)"
   ]
  },
  {
   "cell_type": "markdown",
   "metadata": {},
   "source": [
    "#### Alternative solution"
   ]
  },
  {
   "cell_type": "code",
   "execution_count": 18,
   "metadata": {
    "ExecuteTime": {
     "end_time": "2021-04-08T22:31:21.139356Z",
     "start_time": "2021-04-08T21:58:36.976200Z"
    }
   },
   "outputs": [],
   "source": [
    "### YOUR CODE HERE (please, feel free to add extra cells to solve this task, after this first one) ###\n",
    "\n",
    "neighbours = [5] + list(range(11, 50, 2)) + list(range(59, 100, 10)) + [159] + list(range(199, 900, 100))\n",
    "parameters = {\n",
    "    'n_neighbors': neighbours\n",
    "}\n",
    "knn = KNeighborsClassifier(metric='precomputed')\n",
    "clf = GridSearchCV(knn, parameters, cv=10, scoring='balanced_accuracy')\n",
    "gridsearchcv_results = cross_validate(clf, DD, y, cv=10, scoring=['roc_auc', 'balanced_accuracy'])\n"
   ]
  },
  {
   "cell_type": "code",
   "execution_count": 20,
   "metadata": {
    "ExecuteTime": {
     "end_time": "2021-04-08T22:31:21.202188Z",
     "start_time": "2021-04-08T22:31:21.180215Z"
    }
   },
   "outputs": [
    {
     "name": "stdout",
     "output_type": "stream",
     "text": [
      "Overall performances for classifier for different k values: \n",
      "0.547419637265816 +/- 0.01929124717719897 (bacc), 0.547419637265816 +/- 0.01929124717719896 (auc)\n"
     ]
    }
   ],
   "source": [
    "print('Overall performances for classifier for different k values: \\n{} +/- {} (bacc), {} +/- {} (auc)'.format(\n",
    "                                        np.mean(gridsearchcv_results['test_balanced_accuracy']), \n",
    "                                        np.std(gridsearchcv_results['test_balanced_accuracy']), \n",
    "                                        np.mean(gridsearchcv_results['test_roc_auc']), \n",
    "                                        np.std(gridsearchcv_results['test_roc_auc'])))\n"
   ]
  },
  {
   "cell_type": "markdown",
   "metadata": {
    "id": "xZawZVYo71Ol"
   },
   "source": [
    "<a id=\"section1.4\"></a>\n",
    "### Task 1.4\n",
    "\n",
    "As presented in this course, to assess the classifier's goodness, you need to report and communicate the performance of your classifier appropriately. To this end, in this task, we ask you to visually report the performance metrics of (i) the three kNN classifiers implemented in Task 1.2 and (ii) the fine-tuned kNN classifier obtained in Task 1.3. In other words, you should properly visualize the `Balanced Accuracy` and `AUC` scores achieved by the mentioned classifiers (computed in Task 1.2 and Task 1.3), so that the classifiers' performance can be easily compared. "
   ]
  },
  {
   "cell_type": "code",
   "execution_count": 21,
   "metadata": {
    "ExecuteTime": {
     "end_time": "2021-04-08T22:31:22.671539Z",
     "start_time": "2021-04-08T22:31:21.206145Z"
    },
    "id": "cgbU6NX571Om"
   },
   "outputs": [
    {
     "data": {
      "image/png": "[encoded data removed]",
      "text/plain": [
       "<Figure size 864x288 with 2 Axes>"
      ]
     },
     "metadata": {
      "needs_background": "light"
     },
     "output_type": "display_data"
    }
   ],
   "source": [
    "### YOUR CODE HERE (please, feel free to add extra cells to solve this task, after this first one ###\n",
    "\n",
    "with open('./12_knnfolds.pkl', 'rb') as fp:\n",
    "    simple_folds = pickle.load(fp)\n",
    "    \n",
    "with open('./13_finedtunedfolds.pkl', 'rb') as fp:\n",
    "    finetuned_folds = pickle.load(fp)\n",
    "    \n",
    "# Create visual df\n",
    "knn1 = ['n=1' for x in range(len(simple_folds['balacc_1']))]\n",
    "knn25 = ['n=25' for x in range(len(simple_folds['balacc_25']))]\n",
    "knn1000 = ['n=1000' for x in range(len(simple_folds['balacc_1000']))]\n",
    "knnft = ['fine tuned' for x in range(len(finetuned_folds['balacc']))]\n",
    "\n",
    "names = knn1 + knn25 + knn1000 + knnft\n",
    "values = simple_folds['balacc_1'] + simple_folds['balacc_25'] + simple_folds['balacc_1000'] + finetuned_folds['balacc']\n",
    "balacc_df = pd.DataFrame([names, values]).transpose()\n",
    "balacc_df.columns = ['names', 'values']\n",
    "\n",
    "values = simple_folds['rocauc_1'] + simple_folds['rocauc_25'] + simple_folds['rocauc_1000'] + finetuned_folds['rocauc']\n",
    "rocauc_df = pd.DataFrame([names, values]).transpose()\n",
    "rocauc_df.columns = ['names', 'values']\n",
    "\n",
    "# Create plots\n",
    "plt.figure(figsize=(12, 4))\n",
    "plt.suptitle('Performances for different KNN classifiers trained on demographic features', fontsize=15)\n",
    "\n",
    "plt.subplot(1, 2, 1)\n",
    "sns.boxplot(data=balacc_df, x='names', y='values')\n",
    "plt.title('Balanced Accuracy')\n",
    "plt.ylabel('balanced accuracy')\n",
    "\n",
    "plt.subplot(1, 2, 2)\n",
    "sns.boxplot(data=rocauc_df, x='names', y='values')\n",
    "plt.title('ROC AUC')\n",
    "plt.ylabel('roc auc')\n",
    "\n",
    "plt.tight_layout()\n",
    "plt.show()"
   ]
  },
  {
   "cell_type": "markdown",
   "metadata": {
    "id": "n_5Z77Cf71Om"
   },
   "source": [
    "### 1.4 Please describe, interpret, compare, and discuss the obtained results (performance metric scores) of the different classifiers.\n",
    "### ============  YOUR WRITTEN ANSWER HERE ============== \n",
    "<span>\n",
    "    \n",
    "    At a first glance, it seems like changing the number of neighbours generates a more significant difference for the balanced accuracy than for the AUC scores. With n=[25, 1000, fine tuned], all average AUC scores are within the first/third quartile of the others. The kNN classifiers with n=[1000, fine tuned] exhibited a higher average AUC score and a higher maximum score than the kNN classifier with n=25, though they also suffer from a larger variance. On the other side, in terms of balanced accuracy, it seems like there is a more significant difference between n=[1, 1000] and n=[25, fined tuned], as the means of n=1 and n=1000 are well outside the first quartile of the balanced accuracies of n=25 and the fine tuned knn. Specifically, the latter kNN classifiers (n=[25, fine tuned]) exhibited higher average balance accuracy scores. It can be also observed that, with n=fine tuned, the average balance accuracy score across folds is higher (and the variance in balance accuracy scores across folds is slightly lower) than the one achieved by the kNN classifier with 25 neighbors.   \n",
    "        \n",
    "    When the amount of neighbours equal to 1, the classifiers performs badly, no matter the metric used. This makes sense, as we can easily overfit, and no nuance is given to the class predicted (it's either 0 or 1). The latter also explains why the ROC AUC of the knn with n=1 is very low, while the others are at around 75 no matter the balanced accuracy score.\n",
    "    \n",
    "    Speaking of, there seems to be a discrepancy between the balanced accuracy and the ROC AUC. This can be explained by the large imbalance in the dataset. Only 26% of the instances are from the minority class, which means that when a minority instance is predicted, it will statistically be surrounded by a certain amount of majority class instances when the number of neighbours is high. However, the prediction probabilities may be a bit lower than for majority instances, which means that were we to move the threshold from 0.5 for a lower value to predict our minority class, our algorithm may perform well, which is reflected in the roc AUC.\n",
    "    \n",
    "    All in all, it seems like 1 is too small to make meaningful predictions (overfitting and no nuance), while 1000 is way too many to detect our minority instances. This is reflected by the balanced accuracy, where both classifiers perform, on average, worse than the other two. 25 seems like it performs well, but the variance in performances is quite large for its balanced accuracy. However, on average, it performs the best on the balanced accuracy, and has a really high ROC AUC too. \n",
    "    \n",
    "    Finetuning our algorithm, we notice that the optimal n belongs to [40, 299], with a high frequency of 199 being the optimal k. We then achieve results close to, or higher than the knn with n=25. None of them are very robust (their variance in balanced accuracy is rather large), but they both achieve high scores on the ROC AUC, with the fine tuned algorithm outperforming slightly the 25nn, and that with a small variance.\n",
    "\n",
    "</span>"
   ]
  },
  {
   "cell_type": "markdown",
   "metadata": {
    "id": "G1gz70rG71On"
   },
   "source": [
    "<a id=\"section2\"></a>\n",
    "## 2  Experiment with KNN classifiers and demographic plus behavioral features \n",
    "----\n",
    "\n",
    "In this section, you should:\n",
    "\n",
    "1. Prepare a feature matrix with only `behavioral features` for each customer (one row per customer, same behavioral features included in the phone_usage.csv, charges.csv, and/or services.csv files and that you created in the previous homework) and compute a `pair-wise distance matrix` across customers, by appropriately selecting (combining) one (or more if necessary) appropriate distance measure(s).  \n",
    "\n",
    "2. Implement a kNN classifier with hyperparameter finetuning (i.e. finetune k over an appropriate range) and feed it with the created pairwise-distance matrix (the one that refers to only behavioral features). Evaluate the kNN classifier by using a `10-fold user-stratified cross-validation` and use `Balanced Accuracy` and `AUC` as performance metrics.\n",
    "  \n",
    "3. Create a pair-wise distance matrix by appropriately combining the pair-wise distance matrices you computed for only demographic features in Task 1.1 and only behavioral features in Task 2.1. Then, again prepare a finetuned kNN classifier and feed it with the combined distance matrix to predict churn. You are asked to again evaluate it using a `10-fold user-stratified cross-validation` and `Balanced Accuracy` and `AUC` as performance metrics.  \n",
    "\n",
    "4. Report visually `Balanced Accuracy` and `AUC` of (i) the fine-tuned kNN classifier obtained in Task 1.3 (demographic, fine-tuned), (ii) the fine-tuned kNN classifier obtained in Task 2.2 (behavioral, fine-tuned), and (iii) the fine-tuned kNN classifier obtained in Task 2.3 (demographic+behavioral, fine-tuned) in such a way that they can be easily and appropriately compared. "
   ]
  },
  {
   "cell_type": "markdown",
   "metadata": {
    "id": "nXYut9oH71Oo"
   },
   "source": [
    "<a id=\"section2.1\"></a>\n",
    "### Task 2.1\n",
    "\n",
    "As you might be observed, demographic features do not reveal how customers actually used the services, and adding behavioral features derived from the services the customers subscribed to, the extent to which they are charged monthly, and the actual phone usage, can help in improving the performance of our classifier. Therefore, in this task, we ask you to:\n",
    "- Compute a feature matrix `XB` with one row per customer and one column per **behavioral** feature (i.e., **the behavioral features that you created in homework 3**). The cell `XB[i,j]` represents the value of the behavioral feature `j` for customer `i`. The shape of the matrix `XB` should be (n_customers, n_behavioral_features). \n",
    "- Compute a pair-wise distance matrix `DB` with one row per customer and one column per customer. The cell `DB[i,j]` represents the pair-wise distance between the features vectors `XB[i]` and `XB[j]` of customer `i` and customer `j`, respectively. The shape of the matrix `DB` should be (n_customers, n_customers). Please make sure to choose an appropriate distance measure. \n",
    "\n",
    "One important point to be addressed here is that, depending on the different nature (e.g., numerical, categorical) of the behavioral features you created in the previous homework and you are expected to use here, selecting a single distance measure to create your pair-wise distance matrix might not be the right way to move forward. If the types of your behavioral features are very different, a more advanced strategy is needed. Specifically, you might need to use different distance measures for different subsets of your behavioral features. \n",
    "To support you with this, we provide a concrete example not related to this task for illustration. In this example, we assume that we have five features for a user: height (f1), abdomen circumference (f2), favorite three movies (f3,f4, and f5). Given these features, it is appropriate to use Euclidean distance for the vector [f1,f2] and use Jaccard distance for [f3,f4,f5]. To manage this situation, given a pair `(i, j)` of users, the following strategy can be used:\n",
    "- Compute the Euclidean distance for feature vectors [f1,f2] of users i and j - we assume to denote that by `t1[i,j]`. \n",
    "- Compute the Jaccard distance for [f3,f4,f5] of users i and j - we assume to denote that by `t2[i,j]`. \n",
    "- Compute the final distance as `DB[i,j] = t1[i,j] + t2[i,j]` (do not forget to check the scaling of t1 and t2). "
   ]
  },
  {
   "cell_type": "code",
   "execution_count": 29,
   "metadata": {
    "ExecuteTime": {
     "end_time": "2021-04-09T07:16:02.797720Z",
     "start_time": "2021-04-09T07:16:01.726038Z"
    }
   },
   "outputs": [],
   "source": [
    "# Reproducing features from hw 3\n",
    "avg_charge = charges.groupby('ContractID').mean().rename(\n",
    "                   columns={'Charge': 'AvgCharge'}).reset_index()\n",
    "\n",
    "avg_phone_usage = phone_usage.groupby('ContractID').mean().rename(\n",
    "                   columns={'MonthlyUsage': 'AvgUsage'}).reset_index()\n",
    "\n",
    "extreme_charge = (charges.groupby('ContractID').max().Charge - \\\n",
    "                  charges.groupby('ContractID').mean().Charge)\\\n",
    ".reset_index().rename(columns={'Charge': 'ExtremeCharge'})\n",
    "\n",
    "mapping_charging_length = lambda x: 'Less than one year' if x < 12 \\\n",
    "                  else ('Between one and three years' \\\n",
    "                  if x >= 12 and x <= 36 else 'More than three years')\n",
    "\n",
    "charging_length = charges.groupby('ContractID').size()\\\n",
    ".apply(mapping_charging_length).to_frame().rename(\n",
    "                   columns={0: 'ChargingLength'}).reset_index()\n",
    "                \n",
    "nb_service = services[~services.ServiceValue.str.contains('No')]\\\n",
    ".groupby('ContractID').size().to_frame().rename(\n",
    "             columns={0: 'NbServices'}).reset_index()"
   ]
  },
  {
   "cell_type": "code",
   "execution_count": 30,
   "metadata": {
    "ExecuteTime": {
     "end_time": "2021-04-09T07:16:04.806019Z",
     "start_time": "2021-04-09T07:16:04.656261Z"
    }
   },
   "outputs": [
    {
     "name": "stdout",
     "output_type": "stream",
     "text": [
      "Amount of contracts: 6866\n"
     ]
    }
   ],
   "source": [
    "# Create XB\n",
    "\n",
    "## Merging all features in one dataframe\n",
    "assert len(avg_charge) == len(avg_charge['ContractID'].unique())\n",
    "print('Amount of contracts: {}'.format(len(avg_charge)))\n",
    "\n",
    "XB_df = pd.DataFrame(churn['CustomerID'])\n",
    "XB_df = XB_df.merge(contract[['CustomerID', 'ContractID']], on='CustomerID', how='left')\n",
    "XB_df = XB_df.merge(avg_charge[['ContractID', 'AvgCharge']], on='ContractID', how='left')\n",
    "XB_df = XB_df.merge(extreme_charge[['ContractID', 'ExtremeCharge']], on='ContractID', how='left')\n",
    "XB_df = XB_df.merge(avg_phone_usage[['ContractID', 'AvgUsage']], on='ContractID', how='left')\n",
    "XB_df = XB_df.merge(nb_service[['ContractID', 'NbServices']], on='ContractID', how='left')\n",
    "XB_df = XB_df.merge(charging_length[['ContractID', 'ChargingLength']], on='ContractID', how='left')"
   ]
  },
  {
   "cell_type": "code",
   "execution_count": 32,
   "metadata": {
    "ExecuteTime": {
     "end_time": "2021-04-09T07:16:29.037938Z",
     "start_time": "2021-04-09T07:16:27.810441Z"
    }
   },
   "outputs": [
    {
     "data": {
      "image/png": "[encoded data removed]",
      "text/plain": [
       "<Figure size 360x360 with 1 Axes>"
      ]
     },
     "metadata": {
      "needs_background": "light"
     },
     "output_type": "display_data"
    },
    {
     "data": {
      "image/png": "[encoded data removed]",
      "text/plain": [
       "<Figure size 360x360 with 1 Axes>"
      ]
     },
     "metadata": {
      "needs_background": "light"
     },
     "output_type": "display_data"
    },
    {
     "data": {
      "image/png": "[encoded data removed]",
      "text/plain": [
       "<Figure size 360x360 with 1 Axes>"
      ]
     },
     "metadata": {
      "needs_background": "light"
     },
     "output_type": "display_data"
    },
    {
     "data": {
      "image/png": "[encoded data removed]",
      "text/plain": [
       "<Figure size 360x360 with 1 Axes>"
      ]
     },
     "metadata": {
      "needs_background": "light"
     },
     "output_type": "display_data"
    }
   ],
   "source": [
    "## Normalise the non categorical values such that the euclidean distance does not eat up the hamming distance\n",
    "### Look into the data distribution for each feature\n",
    "for column in ['AvgCharge', 'ExtremeCharge', 'AvgUsage', 'NbServices']:\n",
    "    sns.displot((XB_df[column]))\n",
    "    plt.show()\n"
   ]
  },
  {
   "cell_type": "code",
   "execution_count": 33,
   "metadata": {
    "ExecuteTime": {
     "end_time": "2021-04-09T07:16:31.332991Z",
     "start_time": "2021-04-09T07:16:31.324014Z"
    }
   },
   "outputs": [],
   "source": [
    "### Most distributions are heavy tailed, but do not contain bog outliers\n",
    "for column in ['AvgCharge', 'ExtremeCharge', 'NbServices', 'AvgUsage']:\n",
    "    maxi = XB_df[column].max()\n",
    "    mini = XB_df[column].min()\n",
    "    XB_df[column] = (XB_df[column] - mini) / (maxi - mini)"
   ]
  },
  {
   "cell_type": "code",
   "execution_count": 34,
   "metadata": {
    "ExecuteTime": {
     "end_time": "2021-04-09T07:16:32.143620Z",
     "start_time": "2021-04-09T07:16:32.132647Z"
    }
   },
   "outputs": [],
   "source": [
    "XB = np.array(XB_df[['AvgCharge', 'ExtremeCharge', 'AvgUsage', 'NbServices', 'ChargingLength']])"
   ]
  },
  {
   "cell_type": "code",
   "execution_count": 35,
   "metadata": {
    "ExecuteTime": {
     "end_time": "2021-04-09T07:31:24.567876Z",
     "start_time": "2021-04-09T07:16:32.625605Z"
    }
   },
   "outputs": [],
   "source": [
    "def matching(x, y, categorical_indices):\n",
    "    '''\n",
    "    1 - Sum of the characters in common, normalised by the length of the vector\n",
    "    '''\n",
    "    # hamming\n",
    "    hamming = (sum(x[categorical_indices] == y[categorical_indices]) / len(x[categorical_indices]))\n",
    "    hamming = 1 - hamming\n",
    "\n",
    "    # euclidean\n",
    "    mask = np.ones(len(x)).astype(bool)\n",
    "    mask[categorical_indices] = False\n",
    "    euclidean = np.linalg.norm(x[mask]-y[mask])\n",
    "    \n",
    "    return ((hamming * len(categorical_indices)) / len(x)) + ((euclidean * (len(x) - len(categorical_indices))) / len(x))\n",
    "\n",
    "## Initialise the distance matrix\n",
    "DB = pairwise_distances(XD, metric=lambda x, y: matching(x, y, [4]))\n",
    "    "
   ]
  },
  {
   "cell_type": "code",
   "execution_count": 36,
   "metadata": {
    "ExecuteTime": {
     "end_time": "2021-04-09T07:31:35.887938Z",
     "start_time": "2021-04-09T07:31:24.588827Z"
    }
   },
   "outputs": [],
   "source": [
    "with open('./XB_matrix.pkl', 'wb') as fp:\n",
    "    pickle.dump(XB, fp)\n",
    "    \n",
    "with open('./DB_matrix.pkl', 'wb') as fp:\n",
    "    pickle.dump(DB, fp)"
   ]
  },
  {
   "cell_type": "markdown",
   "metadata": {
    "id": "zvyNBUjz71Oq"
   },
   "source": [
    "### 2.1 Please, describe, motivate, and discuss all your design choices.\n",
    "\n",
    "### ============  YOUR WRITTEN ANSWER HERE ============== \n",
    "\n",
    "<span> \n",
    "    \n",
    "    For this question, we decided to take the same features we used in homework 3. Out of our 5 features, one is categorical: charging_length. We thus first turn the different possible categories into numerical ones for efficiency and simplicity, and then compute the hamming distance for that feature. This metric is particularly fitted to our problem, because of the non binary nature of our features, and the lack of meaning behind the labels chosen for the categories\n",
    "    \n",
    "    For the ordinal, numerical, other variables, we normalise the values between 0 and 1, such that all features have the same weight when computing our distance. In order to do so, we use a min max scaling strategy, after checking that our data does not contain outliers, which may compress the range of values too much and make us lose information. In order to then compute the distance measures for our continuous features, we choose the euclidean distances, as instances with similar features will be close in the euclidean space.\n",
    "    \n",
    "    We compute the final distance as being the euclidean distance * (4/5) + hamming distance * (1/5). We indeed normalise the distances by the amount of variables that were included to compute those distances. Using variable names rather than magic numbers will allow us to keep this function were we to decide to change our features, or add some more.\n",
    "</span>\n",
    "    "
   ]
  },
  {
   "cell_type": "markdown",
   "metadata": {
    "id": "c7ktbe4U71Oq"
   },
   "source": [
    "<a id=\"section2.2\"></a>\n",
    "### Task 2.2\n",
    "\n",
    "In this task, we ask you to implement a fine-tuned kNN classifier, using the pair-wise distance matrix `DB` derived from behavioral features, as an input. You can re-use and appropriately adjust the implementation you provided in task 1.3 to perform the same task but on the pair-wise distance matrix derived from demographic features. We ask you to use the again a `10-fold user-stratified cross-validation` and to compute `Balanced Accuracy` and `AUC` for this setting. No plotting is needed, it is enough to print the scores in the cell."
   ]
  },
  {
   "cell_type": "code",
   "execution_count": 37,
   "metadata": {
    "ExecuteTime": {
     "end_time": "2021-04-09T08:03:30.899387Z",
     "start_time": "2021-04-09T07:31:35.894918Z"
    },
    "id": "8jT_GdRF71Oq"
   },
   "outputs": [],
   "source": [
    "### YOUR CODE HERE (please, feel free to add extra cells to solve this task, after this first one) ###\n",
    "skf = StratifiedKFold(n_splits=10, random_state=42, shuffle=True)\n",
    "fold = 0\n",
    "folds = {\n",
    "    'y_test' : [],\n",
    "    'test_index': [],\n",
    "    'ypred': [],\n",
    "    'yprobs': [],\n",
    "    'rocauc': [],\n",
    "    'balacc': [],\n",
    "    'best_params': [],\n",
    "}\n",
    "\n",
    "with open('./DB_matrix.pkl', 'rb') as fp:\n",
    "    DB = pickle.load(fp)\n",
    "    \n",
    "for train_index, test_index in skf.split(DB, y):\n",
    "    # Separate train and test\n",
    "    x_train = np.array([DB[t_i][train_index] for t_i in train_index])\n",
    "    x_test = np.array([DB[t_i][train_index] for t_i in test_index])\n",
    "    \n",
    "    y_train = np.array(y[train_index])\n",
    "    y_test = np.array(y[test_index])\n",
    "    \n",
    "    # Gridsearch\n",
    "    ## Setup\n",
    "    neighbours = [5] + list(range(11, 50, 2)) + list(range(59, 100, 10)) + [159] + list(range(199, 900, 100))\n",
    "    parameters = {\n",
    "        'n_neighbors': neighbours\n",
    "    }\n",
    "    knn = KNeighborsClassifier(metric='precomputed')\n",
    "    clf = GridSearchCV(knn, parameters, cv=10, scoring='balanced_accuracy')\n",
    "    \n",
    "    ## Classification\n",
    "    clf.fit(x_train, y_train)\n",
    "    ypred = clf.predict(x_test)\n",
    "    yprobs = clf.predict_proba(x_test)\n",
    "    \n",
    "    balacc = balanced_accuracy_score(y_test, ypred)\n",
    "    auc = roc_auc_score(y_test, yprobs[:, 1])\n",
    "    \n",
    "    ## Save data\n",
    "    folds['y_test'] = folds['y_test'] + list(y_test)\n",
    "    folds['test_index'] = folds['test_index'] + list(test_index)\n",
    "    folds['ypred'] = folds['ypred'] + list(ypred)\n",
    "    folds['yprobs'] = folds['yprobs'] + list(yprobs)\n",
    "    folds['rocauc'].append(auc)\n",
    "    folds['balacc'].append(balacc)\n",
    "    folds['best_params'].append(clf.best_params_)\n",
    "    fold += 1\n"
   ]
  },
  {
   "cell_type": "code",
   "execution_count": 38,
   "metadata": {
    "ExecuteTime": {
     "end_time": "2021-04-09T08:03:31.063114Z",
     "start_time": "2021-04-09T08:03:30.916383Z"
    }
   },
   "outputs": [],
   "source": [
    "with open('./22_knnfolds.pkl', 'wb') as fp:\n",
    "    pickle.dump(folds, fp)"
   ]
  },
  {
   "cell_type": "markdown",
   "metadata": {},
   "source": [
    "#### Alternative solution"
   ]
  },
  {
   "cell_type": "code",
   "execution_count": 39,
   "metadata": {
    "ExecuteTime": {
     "end_time": "2021-04-09T08:34:20.246646Z",
     "start_time": "2021-04-09T08:03:31.066070Z"
    }
   },
   "outputs": [],
   "source": [
    "### YOUR CODE HERE (please, feel free to add extra cells to solve this task, after this first one) ###\n",
    "with open('./DB_matrix.pkl', 'rb') as fp:\n",
    "    DB = pickle.load(fp)\n",
    "    \n",
    "neighbours = [5] + list(range(11, 50, 2)) + list(range(59, 100, 10)) + [159] + list(range(199, 900, 100))\n",
    "parameters = {\n",
    "    'n_neighbors': neighbours\n",
    "}\n",
    "knn = KNeighborsClassifier(metric='precomputed')\n",
    "clf = GridSearchCV(knn, parameters, cv=10, scoring='balanced_accuracy')\n",
    "gridsearchcv_results = cross_validate(clf, DB, y, cv=10, scoring=['roc_auc', 'balanced_accuracy'])"
   ]
  },
  {
   "cell_type": "code",
   "execution_count": 40,
   "metadata": {
    "ExecuteTime": {
     "end_time": "2021-04-09T08:34:20.291405Z",
     "start_time": "2021-04-09T08:34:20.263441Z"
    }
   },
   "outputs": [
    {
     "name": "stdout",
     "output_type": "stream",
     "text": [
      "Overall performances for classifier for different k values: \n",
      "0.6081972036098161 +/- 0.025464366264920338 (bacc), 0.7221812677242211 +/- 0.019418528507808785 (auc)\n"
     ]
    }
   ],
   "source": [
    "print('Overall performances for classifier for different k values: \\n{} +/- {} (bacc), {} +/- {} (auc)'.format(\n",
    "                                        np.mean(gridsearchcv_results['test_balanced_accuracy']), \n",
    "                                        np.std(gridsearchcv_results['test_balanced_accuracy']), \n",
    "                                        np.mean(gridsearchcv_results['test_roc_auc']), \n",
    "                                        np.std(gridsearchcv_results['test_roc_auc'])))\n"
   ]
  },
  {
   "cell_type": "markdown",
   "metadata": {
    "id": "NCu9c4CP71Or"
   },
   "source": [
    "<a id=\"section2.3\"></a>\n",
    "### Task 2.3\n",
    "\n",
    "Once you reach this point, you have considered demographic features and behavioral features, separately. In this task, we ask you to use the pair-wise distance matrices `DD` and `DB`, obtained for only demographic features and only behavioral features respectively, to appropriately create a single pair-wise distance matrix `D` that considers both demographic and behavioral features jointly. To obtain this pair-wise distance matrix `D`, compute `D[i,j] = DD[i,j] + DB[i,j]`, for each `(i,j)` pair and do not forget to take into account the scaling of DD and DB.\n",
    "\n",
    "Finally, we ask you to implement a fine-tuned kNN classifier, using the pair-wise distance matrix `D` as an input. You can again re-use and appropriately adjust the implementation you provided in Tasks 1.3 and 2.2 to perform the same task but on the pair-wise distance matrix `D` derived from both demographic and behavioral features. Again, you should use a `10-fold user-stratified cross-validation` and compute `Balanced Accuracy` and `AUC` for this setting. It is fine to just print the results in the cell."
   ]
  },
  {
   "cell_type": "markdown",
   "metadata": {},
   "source": [
    "<span>\n",
    "    \n",
    "    Note that here, it is not necessary to normalise DD and DB by the amount of features the distances were computed for.\n",
    "    \n",
    "<span>"
   ]
  },
  {
   "cell_type": "code",
   "execution_count": 41,
   "metadata": {
    "ExecuteTime": {
     "end_time": "2021-04-09T08:34:23.462011Z",
     "start_time": "2021-04-09T08:34:20.294398Z"
    },
    "id": "OwAAvlWR71Or"
   },
   "outputs": [],
   "source": [
    "### YOUR CODE HERE (please, feel free to add extra cells to solve this task, after this first one) ###\n",
    "\n",
    "# Read data\n",
    "with open('./DD_matrix.pkl', 'rb') as fp:\n",
    "    DD = pickle.load(fp)\n",
    "    \n",
    "with open('./DB_matrix.pkl', 'rb') as fp:\n",
    "    DB = pickle.load(fp)\n",
    "    \n",
    "n_demographic = 6\n",
    "n_behavioural = 5\n",
    "\n",
    "\n",
    "D = (DD / n_demographic) + (DB / n_behavioural)\n"
   ]
  },
  {
   "cell_type": "code",
   "execution_count": 42,
   "metadata": {
    "ExecuteTime": {
     "end_time": "2021-04-09T09:05:32.816812Z",
     "start_time": "2021-04-09T08:34:23.476980Z"
    },
    "id": "qQn_s76471Os"
   },
   "outputs": [],
   "source": [
    "### YOUR CODE HERE (please, feel free to add extra cells to solve this task, after this first one) ###\n",
    "skf = StratifiedKFold(n_splits=10, random_state=42, shuffle=True)\n",
    "fold = 0\n",
    "folds = {\n",
    "    'y_test' : [],\n",
    "    'test_index': [],\n",
    "    'ypred': [],\n",
    "    'yprobs': [],\n",
    "    'rocauc': [],\n",
    "    'balacc': [],\n",
    "    'best_params': [],\n",
    "}\n",
    "\n",
    "for train_index, test_index in skf.split(D, y):\n",
    "    # Separate train and test\n",
    "    x_train = np.array([D[t_i][train_index] for t_i in train_index])\n",
    "    x_test = np.array([D[t_i][train_index] for t_i in test_index])\n",
    "    \n",
    "    y_train = np.array(y[train_index])\n",
    "    y_test = np.array(y[test_index])\n",
    "    \n",
    "    # Gridsearch\n",
    "    ## Setup\n",
    "    neighbours = [5] + list(range(11, 50, 2)) + list(range(59, 100, 10)) + [159] + list(range(199, 900, 100))\n",
    "    parameters = {\n",
    "        'n_neighbors': neighbours\n",
    "    }\n",
    "    knn = KNeighborsClassifier(metric='precomputed')\n",
    "    clf = GridSearchCV(knn, parameters, cv=10, scoring='balanced_accuracy')\n",
    "    \n",
    "    ## Classification\n",
    "    clf.fit(x_train, y_train)\n",
    "    ypred = clf.predict(x_test)\n",
    "    yprobs = clf.predict_proba(x_test)\n",
    "    \n",
    "    balacc = balanced_accuracy_score(y_test, ypred)\n",
    "    auc = roc_auc_score(y_test, yprobs[:, 1])\n",
    "    \n",
    "    ## Save data\n",
    "    folds['y_test'] = folds['y_test'] + list(y_test)\n",
    "    folds['test_index'] = folds['test_index'] + list(test_index)\n",
    "    folds['ypred'] = folds['ypred'] + list(ypred)\n",
    "    folds['yprobs'] = folds['yprobs'] + list(yprobs)\n",
    "    folds['rocauc'].append(auc)\n",
    "    folds['balacc'].append(balacc)\n",
    "    folds['best_params'].append(clf.best_params_)\n",
    "    fold += 1\n"
   ]
  },
  {
   "cell_type": "code",
   "execution_count": 43,
   "metadata": {
    "ExecuteTime": {
     "end_time": "2021-04-09T09:05:32.871769Z",
     "start_time": "2021-04-09T09:05:32.848742Z"
    }
   },
   "outputs": [
    {
     "name": "stdout",
     "output_type": "stream",
     "text": [
      "Scores: 0.7264868640586639 +/- 0.017519409832034524 (auc), 0.6093207581802196 +/- 0.021647684362605897 (bal accuracy)\n",
      "Per fold, the best parameters were: \n",
      "     {'n_neighbors': 199}\n",
      "     {'n_neighbors': 159}\n",
      "     {'n_neighbors': 17}\n",
      "     {'n_neighbors': 199}\n",
      "     {'n_neighbors': 199}\n",
      "     {'n_neighbors': 199}\n",
      "     {'n_neighbors': 199}\n",
      "     {'n_neighbors': 89}\n",
      "     {'n_neighbors': 299}\n",
      "     {'n_neighbors': 89}\n"
     ]
    }
   ],
   "source": [
    "print('Scores: {} +/- {} (auc), {} +/- {} (bal accuracy)'.format(np.mean(folds['rocauc']), \n",
    "                                                                np.std(folds['rocauc']),\n",
    "                                                                np.mean(folds['balacc']),\n",
    "                                                                np.std(folds['balacc'])\n",
    "                                                                )\n",
    "     )\n",
    "\n",
    "print('Per fold, the best parameters were: ')\n",
    "for i in range(10):\n",
    "    print('     {}'.format(folds['best_params'][i]))"
   ]
  },
  {
   "cell_type": "code",
   "execution_count": 44,
   "metadata": {
    "ExecuteTime": {
     "end_time": "2021-04-09T09:38:15.287852Z",
     "start_time": "2021-04-09T09:05:32.875737Z"
    }
   },
   "outputs": [],
   "source": [
    "### YOUR CODE HERE (please, feel free to add extra cells to solve this task, after this first one) ###\n",
    "    \n",
    "neighbours = [5] + list(range(11, 50, 2)) + list(range(59, 100, 10)) + [159] + list(range(199, 900, 100))\n",
    "parameters = {\n",
    "    'n_neighbors': neighbours\n",
    "}\n",
    "knn = KNeighborsClassifier(metric='precomputed')\n",
    "clf = GridSearchCV(knn, parameters, cv=10, scoring='balanced_accuracy')\n",
    "gridsearchcv_results = cross_validate(clf, D, y, cv=10, scoring=['roc_auc', 'balanced_accuracy'])"
   ]
  },
  {
   "cell_type": "markdown",
   "metadata": {
    "id": "Xbaa_ue971Or"
   },
   "source": [
    "<a id=\"section2.2\"></a>\n",
    "### Task 2.4\n",
    "\n",
    "Once you reach this point, you should have:\n",
    "1. The fine-tuned kNN classifier obtained in Task 1.3 (demographic, fine-tuned).\n",
    "2. The fine-tuned kNN classifier obtained in Task 2.2 (behavioral, fine-tuned).\n",
    "3. The fine-tuned kNN classifier obtained in Task 2.3 (demographic+behavioral, fine-tuned).  \n",
    "\n",
    "In this last task, we ask you to visually report the performance of the three above kNN classifiers. Basically, you should again properly visualize the `Balanced Accuracy` and `AUC` scores achieved by the mentioned classifiers in the 10-fold user-stratified cross validation performed in the respective tasks (Task 1.3, Task 2.2, and Task 2.3), so that the classifiers can be easily compared. "
   ]
  },
  {
   "cell_type": "code",
   "execution_count": 45,
   "metadata": {
    "ExecuteTime": {
     "end_time": "2021-04-09T09:38:15.481868Z",
     "start_time": "2021-04-09T09:38:15.298924Z"
    }
   },
   "outputs": [],
   "source": [
    "with open('./23_knnfolds.pkl', 'wb') as fp:\n",
    "    pickle.dump(folds, fp)"
   ]
  },
  {
   "cell_type": "code",
   "execution_count": 46,
   "metadata": {
    "ExecuteTime": {
     "end_time": "2021-04-09T09:38:16.310168Z",
     "start_time": "2021-04-09T09:38:15.485018Z"
    }
   },
   "outputs": [
    {
     "data": {
      "image/png": "[encoded data removed]",
      "text/plain": [
       "<Figure size 864x288 with 2 Axes>"
      ]
     },
     "metadata": {
      "needs_background": "light"
     },
     "output_type": "display_data"
    }
   ],
   "source": [
    "### YOUR CODE HERE (please, feel free to add extra cells to solve this task, after this first one ###\n",
    "with open('./13_finedtunedfolds.pkl', 'rb') as fp:\n",
    "    demographic_folds = pickle.load(fp)\n",
    "    \n",
    "with open('./22_knnfolds.pkl', 'rb') as fp:\n",
    "    behavioural_folds = pickle.load(fp)\n",
    "\n",
    "with open('./23_knnfolds.pkl', 'rb') as fp:\n",
    "    full_folds = pickle.load(fp)\n",
    "    \n",
    "# Create visual df\n",
    "dem_names = ['demographic' for x in range(len(demographic_folds['balacc']))]\n",
    "beh_names = ['behavioural' for x in range(len(behavioural_folds['balacc']))]\n",
    "full_names = ['full features' for x in range(len(full_folds['balacc']))]\n",
    "\n",
    "names = dem_names + beh_names + full_names\n",
    "values = demographic_folds['balacc'] + behavioural_folds['balacc'] + full_folds['balacc']\n",
    "balacc_df = pd.DataFrame([names, values]).transpose()\n",
    "balacc_df.columns = ['names', 'values']\n",
    "\n",
    "values = demographic_folds['rocauc'] + behavioural_folds['rocauc'] + full_folds['rocauc']\n",
    "rocauc_df = pd.DataFrame([names, values]).transpose()\n",
    "rocauc_df.columns = ['names', 'values']\n",
    "\n",
    "# Create plots\n",
    "plt.figure(figsize=(12, 4))\n",
    "plt.suptitle('Performances for different KNN classifiers trained on demographic, behavioural, and all features', fontsize=15)\n",
    "\n",
    "plt.subplot(1, 2, 1)\n",
    "sns.boxplot(data=balacc_df, x='names', y='values')\n",
    "plt.title('Balanced Accuracy')\n",
    "plt.ylabel('balanced accuracy')\n",
    "\n",
    "plt.subplot(1, 2, 2)\n",
    "sns.boxplot(data=rocauc_df, x='names', y='values')\n",
    "plt.title('ROC AUC')\n",
    "plt.ylabel('roc auc')\n",
    "\n",
    "plt.tight_layout()\n",
    "plt.show()"
   ]
  },
  {
   "cell_type": "code",
   "execution_count": 47,
   "metadata": {
    "ExecuteTime": {
     "end_time": "2021-04-09T09:38:16.318174Z",
     "start_time": "2021-04-09T09:38:16.312208Z"
    }
   },
   "outputs": [
    {
     "name": "stdout",
     "output_type": "stream",
     "text": [
      "Scores for the behavioural features: 0.6087729406424146 +/- 0.021020237205863684 (bal acc), 0.7162211218299933 +/- 0.025130975645771637 (auc)\n"
     ]
    }
   ],
   "source": [
    "print('Scores for the behavioural features: {} +/- {} (bal acc), {} +/- {} (auc)'.format(\n",
    "    np.mean(behavioural_folds['balacc']), np.std(behavioural_folds['balacc']),\n",
    "    np.mean(behavioural_folds['rocauc']), np.std(behavioural_folds['rocauc'])\n",
    "))"
   ]
  },
  {
   "cell_type": "markdown",
   "metadata": {
    "id": "O-WX-QxP71Os"
   },
   "source": [
    "### 2.4 Please describe, interpret, compare, and discuss the obtained results (performance metric scores) of the different classifiers.\n",
    "\n",
    "### ============  YOUR WRITTEN ANSWER HERE ============== \n",
    "\n",
    "<span>\n",
    "    \n",
    "    From the left plot above, it can be observed that the kNN classifier trained on demographic features only (blue box) exhibited a lower average balanced accuracy and a higher variance of balanced accuracy across folds with respect to the kNN classifier trained on behavioral features only (orange box), indicating that the predictive power instilled by behavioral features to kNN is higher and more stable across folds than the one instilled by demographic features to kNN, when balanced accuracy is considered. This is also confirmed by the minimum and maximum balanced accuracy scores achieved in the two settings, especially when we observe that the minimum score achieved by the kNN with demographic features is four percentage-points lower than the minimum score obtained by the kNN with behavioral features. Once we combine the two set of features (green box), the corresponding kNN classifier performs better on average and shows a lower variance in scores than the kNN classifiers trained on behavioural or demographic features separately in terms of balanced accuracy, though the first and third quartile of all three combinations largely overlap with each other across classifiers (especially between behavioral features only and full features). kNNs with behavioral features only and with the full features perform similarly in terms of minimum and maximum scores. \n",
    "    \n",
    "    Compared to our first above observations, the above right plot highlights that the kNN classifier trained on demographic features only (blue box) performs better, on average, with respect to the kNN classifier trained on behavioral features only (orange box) in terms of AUC scores. They show a similar variance. Minimu and maximum AUC scores are slightly lower for the kNN classifier with behavioral features only. Finally, the kNN classifier trained on the combination of features (green box) and the kNN classifier trained on demographic features (blue box) have a very similar average AUC score across folds, and the average AUC score achieved by the kNN classifier trained on both feature sets is higher than the average AUC score achieved by the kNN classifier trained on behavioral features only. While the average AUC score between classifiers using demographic features only and both feature sets is really similar, again, it should be noted that the latter exhibited a lower variance across folds and a higher minimum score, indicating that it might be more robust to fold variance.\n",
    "    \n",
    "    We observed that for all features, the predictive power is not that high. Several components can explain this phenomena: \n",
    "    - There are so few minority instances than adding some features gets too confusing (curse of dimensionality), and does not help the algorithm (full).\n",
    "    - The way of aggregating distances does not work. Euclidean distances may be lower than the hamming distances. We may be giving too much weight to one feature type than the other (full).\n",
    "    - The way of normalising our values erases to much details (full-demographic-behavioural)\n",
    "    - This classification task is genuinely hard, no matter the set of features used (full-demographic-behavioural)\n",
    "</span>"
   ]
  },
  {
   "cell_type": "markdown",
   "metadata": {
    "id": "H4ee7eC_71Os"
   },
   "source": [
    "## Congratulations\n",
    "\n",
    "Congratulations! Please, carefully revise your solution and push it when you feel that it is ok. \n"
   ]
  }
 ],
 "metadata": {
  "colab": {
   "collapsed_sections": [],
   "name": "Homework04-KNN_Churn_Prediction.ipynb",
   "provenance": []
  },
  "kernelspec": {
   "display_name": "Python 3",
   "language": "python",
   "name": "python3"
  },
  "language_info": {
   "codemirror_mode": {
    "name": "ipython",
    "version": 3
   },
   "file_extension": ".py",
   "mimetype": "text/x-python",
   "name": "python",
   "nbconvert_exporter": "python",
   "pygments_lexer": "ipython3",
   "version": "3.8.8"
  },
  "toc": {
   "base_numbering": 1,
   "nav_menu": {},
   "number_sections": true,
   "sideBar": true,
   "skip_h1_title": false,
   "title_cell": "Table of Contents",
   "title_sidebar": "Contents",
   "toc_cell": false,
   "toc_position": {},
   "toc_section_display": true,
   "toc_window_display": true
  }
 },
 "nbformat": 4,
 "nbformat_minor": 1
}
