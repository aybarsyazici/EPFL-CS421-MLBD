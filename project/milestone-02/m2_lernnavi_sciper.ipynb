{
 "cells": [
  {
   "attachments": {},
   "cell_type": "markdown",
   "id": "457a6a91-117e-41b3-be96-ffa6ac9d92e7",
   "metadata": {
    "id": "457a6a91-117e-41b3-be96-ffa6ac9d92e7"
   },
   "source": [
    "# M2 | Exploration Notebook\n",
    "\n",
    "In this notebook, you will do a first exploration of the data set that you will use for your project. One part of this exploration is guided, i.e. we will ask you to solve specific questions (task 1-3). The other part is open, i.e. we will ask you to come up with your own exploration ideas (task 4). \n",
    "\n",
    "Please upload your solved notebook to Moodle (under Milestone 2 Submission)adding your SCIPER number in title, example: m2-lernnavi-456392.ipynb\n",
    "\n",
    "\n",
    "## Brief overview of Lernnavi\n",
    "[Lernnavi](https://www.lernnavi.ch) is an instrument for promoting part of the basic technical study skills in German and mathematics.\n",
    "\n",
    "\n",
    "For the guided part of the exploration we will focus on the three main tables:\n",
    "* *users*: demographic information of users.\n",
    "* *events*: events done by the users in the platform.\n",
    "* *transactions*: question and answer solved by user.\n",
    "\n",
    "### Users\n",
    "* user_id: unique identifier of user in database.\n",
    "* gender: only three values: M male, F female or missing (star). \n",
    "* canton: swiss canton.\n",
    "* class_level: school year in swiss system.\n",
    "* study: boolean variable. True if the student participated in the study.\n",
    "* class_id: identifier of student’s class (only for the students in the experiment)\n",
    "\n",
    "\n",
    "### Events\n",
    "* event_id: unique identifier of event in database.\n",
    "* user_id: user who peformed the event.\n",
    "* event_date: timestamp of event.\n",
    "* category: classification of action (task, general, statistics, etc).\n",
    "* action: type of action performed.\n",
    "* event_type: whether the students viewed or clicked in the event.\n",
    "* transaction_token: used to link to transactions table.\n",
    "* tracking_data: optional content associated to this event (e.g., the new points mastered for a topic).\n",
    "* session_id: session during which the event took place.\n",
    "* topic_id: the topics represent the taxonomy of categories shown in the Deutsch and Math dashboard. See topics_translated table.\n",
    "* session_closed: whether the session has been finished (1: finished; 0: not finished).\n",
    "* session_type: whether the session is a learn or level check (1: learn; 2: level check).\n",
    "* session_accepted: whether the user finally accepted the result of the session (1: accepted; 0: refused).\n",
    "\n",
    "### Transactions\n",
    "* transaction_id: unique identifier of transaction in database.\n",
    "* transaction_token: used to link to events table.\n",
    "* user_id: user who performed the transaction.\n",
    "* document_id: document that was answered in transaction.\n",
    "* document_version: version of document that was answered.\n",
    "* evaluation: whether the user answered correctly or not. It is possible that it was only partially right. \n",
    "* input: answer the user gave.\n",
    "* start_time: timestamp of when the user started answering.\n",
    "* commit_time: timestamp of when the user submitted the answer.\n",
    "* user_agent: the browser that the user used.\n",
    "* solution: solution to question.\n",
    "* type: type of question that was answered. \n",
    "* session_id: session during which the event took place.\n",
    "* topic_id: the topics represent the taxonomy of categories shown in the Deutsch and Math dashboard. See topics_translated table.\n",
    "* session_closed: whether the session has been finished (1: finished; 0: not finished).\n",
    "* session_type: whether the session is a learn or level check (1: learn; 2: level check).\n",
    "* session_accepted: whether the user finally accepted the result of the session (1: accepted; 0: refused).\n",
    "* challenge: (boolean) whether the transaction was part of a challenge or not. Professors can create challenges containing different documents\n",
    "* challenge_id: unique identifier of challenges. The same challenge can be done by multiple students. The pre-test and post-test in the study were designed like challenges.\n",
    "* challenge_order: within the challenge, the order of the questions. The order matters because sometimes the questions were adapted depending on the student’s knowledge.\n",
    "* challenge_name: name given to the challenges. \n",
    "\n",
    "## Useful Metadata Files\n",
    "* [Data description](https://docs.google.com/document/d/1NPFNwi79JddrxZM-CpltH5nHro5btHRSNnYcAGj7Y0A/edit?usp=sharing)\n"
   ]
  },
  {
   "cell_type": "code",
   "execution_count": 1,
   "id": "2b10fd14-a60b-4de9-b217-bbaf68dac01c",
   "metadata": {
    "id": "2b10fd14-a60b-4de9-b217-bbaf68dac01c"
   },
   "outputs": [],
   "source": [
    "# Import the tables of the data set as dataframes.\n",
    "import numpy as np\n",
    "import pandas as pd\n",
    "import matplotlib.pyplot as plt\n",
    "\n",
    "DATA_DIR = './data' #You many change the directory\n",
    "\n",
    "users = pd.read_csv('{}/users.csv.gz'.format(DATA_DIR))\n",
    "events = pd.read_csv('{}/events.csv.gz'.format(DATA_DIR))\n",
    "transactions = pd.read_csv('{}/transactions.csv.gz'.format(DATA_DIR))"
   ]
  },
  {
   "cell_type": "code",
   "execution_count": 2,
   "id": "50f8cced",
   "metadata": {},
   "outputs": [
    {
     "data": {
      "text/html": [
       "<div>\n",
       "<style scoped>\n",
       "    .dataframe tbody tr th:only-of-type {\n",
       "        vertical-align: middle;\n",
       "    }\n",
       "\n",
       "    .dataframe tbody tr th {\n",
       "        vertical-align: top;\n",
       "    }\n",
       "\n",
       "    .dataframe thead th {\n",
       "        text-align: right;\n",
       "    }\n",
       "</style>\n",
       "<table border=\"1\" class=\"dataframe\">\n",
       "  <thead>\n",
       "    <tr style=\"text-align: right;\">\n",
       "      <th></th>\n",
       "      <th>transaction_id</th>\n",
       "      <th>transaction_token</th>\n",
       "      <th>user_id</th>\n",
       "      <th>document_id</th>\n",
       "      <th>document_version</th>\n",
       "      <th>evaluation</th>\n",
       "      <th>input</th>\n",
       "      <th>start_time</th>\n",
       "      <th>commit_time</th>\n",
       "      <th>user_agent</th>\n",
       "      <th>...</th>\n",
       "      <th>type</th>\n",
       "      <th>session_id</th>\n",
       "      <th>topic_id</th>\n",
       "      <th>session_closed</th>\n",
       "      <th>session_type</th>\n",
       "      <th>session_accepted</th>\n",
       "      <th>challenge</th>\n",
       "      <th>challenge_id</th>\n",
       "      <th>challenge_order</th>\n",
       "      <th>challenge_name</th>\n",
       "    </tr>\n",
       "  </thead>\n",
       "  <tbody>\n",
       "    <tr>\n",
       "      <th>0</th>\n",
       "      <td>688413</td>\n",
       "      <td>88fdcaad-f73b-46a2-b561-d262f2441442</td>\n",
       "      <td>393211</td>\n",
       "      <td>awd0i1DlVtg6kuMZSkpmHa</td>\n",
       "      <td>75002</td>\n",
       "      <td>PARTIAL</td>\n",
       "      <td>{\"type\": \"MULTI_COLOR_HIGHLIGHT\", \"highlighted...</td>\n",
       "      <td>2021-05-21 07:58:27.312000000</td>\n",
       "      <td>2021-05-21 08:03:43.020000000</td>\n",
       "      <td>Mozilla/5.0 (Macintosh; Intel Mac OS X 10_15_6...</td>\n",
       "      <td>...</td>\n",
       "      <td>MULTI_COLOR_HIGHLIGHT</td>\n",
       "      <td>NaN</td>\n",
       "      <td>NaN</td>\n",
       "      <td>NaN</td>\n",
       "      <td>NaN</td>\n",
       "      <td>NaN</td>\n",
       "      <td>True</td>\n",
       "      <td>1083.0</td>\n",
       "      <td>2.0</td>\n",
       "      <td>G3h – Training Rhetorik</td>\n",
       "    </tr>\n",
       "    <tr>\n",
       "      <th>1</th>\n",
       "      <td>688414</td>\n",
       "      <td>a75eb7b4-b2c2-47d4-9200-27980c175037</td>\n",
       "      <td>393211</td>\n",
       "      <td>arhWF3BT53V9W8cGOaZVPX</td>\n",
       "      <td>75012</td>\n",
       "      <td>PARTIAL</td>\n",
       "      <td>{\"type\": \"MULTI_COLOR_HIGHLIGHT\", \"highlighted...</td>\n",
       "      <td>2021-05-21 08:04:05.067000000</td>\n",
       "      <td>2021-05-21 08:07:21.288999936</td>\n",
       "      <td>Mozilla/5.0 (Macintosh; Intel Mac OS X 10_15_6...</td>\n",
       "      <td>...</td>\n",
       "      <td>MULTI_COLOR_HIGHLIGHT</td>\n",
       "      <td>NaN</td>\n",
       "      <td>NaN</td>\n",
       "      <td>NaN</td>\n",
       "      <td>NaN</td>\n",
       "      <td>NaN</td>\n",
       "      <td>True</td>\n",
       "      <td>1083.0</td>\n",
       "      <td>3.0</td>\n",
       "      <td>G3h – Training Rhetorik</td>\n",
       "    </tr>\n",
       "    <tr>\n",
       "      <th>2</th>\n",
       "      <td>688415</td>\n",
       "      <td>61eb829d-bdda-4107-86af-ad9a14a7bdc9</td>\n",
       "      <td>393211</td>\n",
       "      <td>9wk5dtV2mF59odW0wCEYYc</td>\n",
       "      <td>75003</td>\n",
       "      <td>PARTIAL</td>\n",
       "      <td>{\"type\": \"CLOZE_TEXT\", \"clozeInputs\": [\"Person...</td>\n",
       "      <td>2021-05-21 08:07:37.048000000</td>\n",
       "      <td>2021-05-21 08:13:30.953999872</td>\n",
       "      <td>Mozilla/5.0 (Macintosh; Intel Mac OS X 10_15_6...</td>\n",
       "      <td>...</td>\n",
       "      <td>CLOZE_TEXT</td>\n",
       "      <td>NaN</td>\n",
       "      <td>NaN</td>\n",
       "      <td>NaN</td>\n",
       "      <td>NaN</td>\n",
       "      <td>NaN</td>\n",
       "      <td>True</td>\n",
       "      <td>1083.0</td>\n",
       "      <td>4.0</td>\n",
       "      <td>G3h – Training Rhetorik</td>\n",
       "    </tr>\n",
       "    <tr>\n",
       "      <th>3</th>\n",
       "      <td>688416</td>\n",
       "      <td>30ff0d8a-865d-460b-9177-b698a52b0d5c</td>\n",
       "      <td>393211</td>\n",
       "      <td>afilxZ8LycP5LReULeKngW</td>\n",
       "      <td>75009</td>\n",
       "      <td>CORRECT</td>\n",
       "      <td>{\"type\": \"DND_PAIRS\", \"input\": [\"&lt;p&gt;Ich gehe i...</td>\n",
       "      <td>2021-05-21 08:13:38.943000000</td>\n",
       "      <td>2021-05-21 08:22:13.975000064</td>\n",
       "      <td>Mozilla/5.0 (Macintosh; Intel Mac OS X 10_15_6...</td>\n",
       "      <td>...</td>\n",
       "      <td>DND_PAIRS</td>\n",
       "      <td>NaN</td>\n",
       "      <td>NaN</td>\n",
       "      <td>NaN</td>\n",
       "      <td>NaN</td>\n",
       "      <td>NaN</td>\n",
       "      <td>True</td>\n",
       "      <td>1083.0</td>\n",
       "      <td>5.0</td>\n",
       "      <td>G3h – Training Rhetorik</td>\n",
       "    </tr>\n",
       "    <tr>\n",
       "      <th>4</th>\n",
       "      <td>688417</td>\n",
       "      <td>0adedf3b-ba35-4497-8c6b-b5c2f6fcbbf3</td>\n",
       "      <td>393211</td>\n",
       "      <td>76m6v05NCeX8x2Wr5tKRE3</td>\n",
       "      <td>75007</td>\n",
       "      <td>CORRECT</td>\n",
       "      <td>{\"type\": \"DND_PAIRS\", \"input\": [\"&lt;p&gt;Kleiner Ma...</td>\n",
       "      <td>2021-05-21 08:22:19.391000000</td>\n",
       "      <td>2021-05-21 08:22:55.366000128</td>\n",
       "      <td>Mozilla/5.0 (Macintosh; Intel Mac OS X 10_15_6...</td>\n",
       "      <td>...</td>\n",
       "      <td>DND_PAIRS</td>\n",
       "      <td>NaN</td>\n",
       "      <td>NaN</td>\n",
       "      <td>NaN</td>\n",
       "      <td>NaN</td>\n",
       "      <td>NaN</td>\n",
       "      <td>True</td>\n",
       "      <td>1083.0</td>\n",
       "      <td>6.0</td>\n",
       "      <td>G3h – Training Rhetorik</td>\n",
       "    </tr>\n",
       "  </tbody>\n",
       "</table>\n",
       "<p>5 rows × 21 columns</p>\n",
       "</div>"
      ],
      "text/plain": [
       "   transaction_id                     transaction_token  user_id  \\\n",
       "0          688413  88fdcaad-f73b-46a2-b561-d262f2441442   393211   \n",
       "1          688414  a75eb7b4-b2c2-47d4-9200-27980c175037   393211   \n",
       "2          688415  61eb829d-bdda-4107-86af-ad9a14a7bdc9   393211   \n",
       "3          688416  30ff0d8a-865d-460b-9177-b698a52b0d5c   393211   \n",
       "4          688417  0adedf3b-ba35-4497-8c6b-b5c2f6fcbbf3   393211   \n",
       "\n",
       "              document_id  document_version evaluation  \\\n",
       "0  awd0i1DlVtg6kuMZSkpmHa             75002    PARTIAL   \n",
       "1  arhWF3BT53V9W8cGOaZVPX             75012    PARTIAL   \n",
       "2  9wk5dtV2mF59odW0wCEYYc             75003    PARTIAL   \n",
       "3  afilxZ8LycP5LReULeKngW             75009    CORRECT   \n",
       "4  76m6v05NCeX8x2Wr5tKRE3             75007    CORRECT   \n",
       "\n",
       "                                               input  \\\n",
       "0  {\"type\": \"MULTI_COLOR_HIGHLIGHT\", \"highlighted...   \n",
       "1  {\"type\": \"MULTI_COLOR_HIGHLIGHT\", \"highlighted...   \n",
       "2  {\"type\": \"CLOZE_TEXT\", \"clozeInputs\": [\"Person...   \n",
       "3  {\"type\": \"DND_PAIRS\", \"input\": [\"<p>Ich gehe i...   \n",
       "4  {\"type\": \"DND_PAIRS\", \"input\": [\"<p>Kleiner Ma...   \n",
       "\n",
       "                      start_time                    commit_time  \\\n",
       "0  2021-05-21 07:58:27.312000000  2021-05-21 08:03:43.020000000   \n",
       "1  2021-05-21 08:04:05.067000000  2021-05-21 08:07:21.288999936   \n",
       "2  2021-05-21 08:07:37.048000000  2021-05-21 08:13:30.953999872   \n",
       "3  2021-05-21 08:13:38.943000000  2021-05-21 08:22:13.975000064   \n",
       "4  2021-05-21 08:22:19.391000000  2021-05-21 08:22:55.366000128   \n",
       "\n",
       "                                          user_agent  ...  \\\n",
       "0  Mozilla/5.0 (Macintosh; Intel Mac OS X 10_15_6...  ...   \n",
       "1  Mozilla/5.0 (Macintosh; Intel Mac OS X 10_15_6...  ...   \n",
       "2  Mozilla/5.0 (Macintosh; Intel Mac OS X 10_15_6...  ...   \n",
       "3  Mozilla/5.0 (Macintosh; Intel Mac OS X 10_15_6...  ...   \n",
       "4  Mozilla/5.0 (Macintosh; Intel Mac OS X 10_15_6...  ...   \n",
       "\n",
       "                    type session_id  topic_id  session_closed  session_type  \\\n",
       "0  MULTI_COLOR_HIGHLIGHT        NaN       NaN             NaN           NaN   \n",
       "1  MULTI_COLOR_HIGHLIGHT        NaN       NaN             NaN           NaN   \n",
       "2             CLOZE_TEXT        NaN       NaN             NaN           NaN   \n",
       "3              DND_PAIRS        NaN       NaN             NaN           NaN   \n",
       "4              DND_PAIRS        NaN       NaN             NaN           NaN   \n",
       "\n",
       "   session_accepted  challenge  challenge_id  challenge_order  \\\n",
       "0               NaN       True        1083.0              2.0   \n",
       "1               NaN       True        1083.0              3.0   \n",
       "2               NaN       True        1083.0              4.0   \n",
       "3               NaN       True        1083.0              5.0   \n",
       "4               NaN       True        1083.0              6.0   \n",
       "\n",
       "            challenge_name  \n",
       "0  G3h – Training Rhetorik  \n",
       "1  G3h – Training Rhetorik  \n",
       "2  G3h – Training Rhetorik  \n",
       "3  G3h – Training Rhetorik  \n",
       "4  G3h – Training Rhetorik  \n",
       "\n",
       "[5 rows x 21 columns]"
      ]
     },
     "execution_count": 2,
     "metadata": {},
     "output_type": "execute_result"
    }
   ],
   "source": [
    "transactions.head()"
   ]
  },
  {
   "cell_type": "code",
   "execution_count": 15,
   "id": "f971694a",
   "metadata": {},
   "outputs": [
    {
     "data": {
      "text/plain": [
       "PAGE_VISIT              2113982\n",
       "REVIEW_TASK             1734632\n",
       "SUBMIT_ANSWER           1404142\n",
       "NAVIGATE_DASHBOARD      1093791\n",
       "NEXT                     907521\n",
       "WINDOW_VISIBLE_FALSE     851634\n",
       "WINDOW_VISIBLE_TRUE      705679\n",
       "VIEW_QUESTION            451981\n",
       "OPEN_FEEDBACK            281632\n",
       "CLOSE_FEEDBACK           251044\n",
       "GO_TO_THEORY             211418\n",
       "SUBMIT_SEARCH            162067\n",
       "VIEW_SESSION_END         159925\n",
       "SKIP                     158420\n",
       "WINDOW_OPEN              150781\n",
       "CLOSE                    131124\n",
       "WINDOW_CLOSE             122121\n",
       "LOGIN                    105144\n",
       "SURVEY_BANNER             68655\n",
       "SELECT_STATISTICS         57119\n",
       "ACCEPT_PROGRESS           30996\n",
       "GO_TO_COMMENTS            12158\n",
       "GO_TO_BUG_REPORT           9772\n",
       "LOGOUT                     6821\n",
       "SHARE_SESSION              3320\n",
       "REJECT_PROGRESS            3257\n",
       "PRETEST                    1709\n",
       "NAVIGATE_SURVEY            1111\n",
       "GO_TO_SESSION               563\n",
       "REQUEST_HINT                562\n",
       "SHARE                        90\n",
       "Name: action, dtype: int64"
      ]
     },
     "execution_count": 15,
     "metadata": {},
     "output_type": "execute_result"
    }
   ],
   "source": [
    "events.action.value_counts()"
   ]
  },
  {
   "cell_type": "markdown",
   "id": "75b4f5fc-4526-4c00-8045-393cd36a2de6",
   "metadata": {
    "id": "75b4f5fc-4526-4c00-8045-393cd36a2de6"
   },
   "source": [
    "## Task 1: Simple Statistics\n",
    "\n",
    "In this task you are asked to do a first coarse exploration of the data set, using simple statistics and visualizations."
   ]
  },
  {
   "cell_type": "markdown",
   "id": "811d42c0-6f94-436e-b2da-232363fedace",
   "metadata": {
    "id": "811d42c0-6f94-436e-b2da-232363fedace"
   },
   "source": [
    "#### a) How many distinct participants do we have in the data set?\n"
   ]
  },
  {
   "cell_type": "code",
   "execution_count": 3,
   "id": "3935e6ea-982b-4d88-81c1-406f6d8040e8",
   "metadata": {
    "id": "3935e6ea-982b-4d88-81c1-406f6d8040e8"
   },
   "outputs": [
    {
     "data": {
      "text/plain": [
       "30929"
      ]
     },
     "execution_count": 3,
     "metadata": {},
     "output_type": "execute_result"
    }
   ],
   "source": [
    "users.user_id.nunique()"
   ]
  },
  {
   "cell_type": "markdown",
   "id": "afa67951-aed8-4709-a935-9918d80ede84",
   "metadata": {
    "id": "afa67951-aed8-4709-a935-9918d80ede84"
   },
   "source": [
    "#### b) How many transactions were done per user? Please provide a visualization and discuss the distribution."
   ]
  },
  {
   "cell_type": "code",
   "execution_count": 4,
   "id": "adefdeef-23d3-4feb-9c6f-6a3dd441acf2",
   "metadata": {
    "id": "adefdeef-23d3-4feb-9c6f-6a3dd441acf2"
   },
   "outputs": [
    {
     "data": {
      "text/plain": [
       "user_id\n",
       "387711    15982\n",
       "395243     2640\n",
       "415758     2498\n",
       "394969     2434\n",
       "389968     2335\n",
       "395041     2195\n",
       "394913     2112\n",
       "396334     2028\n",
       "394966     2027\n",
       "395046     2022\n",
       "Name: transaction_id, dtype: int64"
      ]
     },
     "execution_count": 4,
     "metadata": {},
     "output_type": "execute_result"
    }
   ],
   "source": [
    "transactions.groupby('user_id').transaction_id.count().sort_values(ascending=False).head(10)\n",
    "events.groupby('action').action.count().sort_values(ascending=False).head(10).plot(kind='bar')"
   ]
  },
  {
   "cell_type": "markdown",
   "id": "zkDaH4M_a3vR",
   "metadata": {
    "id": "zkDaH4M_a3vR"
   },
   "source": [
    "*Your discussion/interpretation goes here*\n"
   ]
  },
  {
   "cell_type": "markdown",
   "id": "b14fea28-8507-497d-9990-9eb2fefd18c0",
   "metadata": {
    "id": "b14fea28-8507-497d-9990-9eb2fefd18c0"
   },
   "source": [
    "#### c) Which are the 10 most popular event actions? Please provide a visualization of the frequency of the top 10 event actions.\n",
    "\n",
    "Hint: See actions in table events."
   ]
  },
  {
   "cell_type": "code",
   "execution_count": 5,
   "id": "e991ecba",
   "metadata": {
    "id": "e991ecba"
   },
   "outputs": [
    {
     "data": {
      "text/plain": [
       "<AxesSubplot:xlabel='action'>"
      ]
     },
     "execution_count": 5,
     "metadata": {},
     "output_type": "execute_result"
    },
    {
     "data": {
      "image/png": "[encoded data removed]",
      "text/plain": [
       "<Figure size 432x288 with 1 Axes>"
      ]
     },
     "metadata": {
      "needs_background": "light"
     },
     "output_type": "display_data"
    }
   ],
   "source": [
    "# Find the most popular event actions\n",
    "events.groupby('action').action.count().sort_values(ascending=False).head(10)\n",
    "# Provide visualization of the frequency of most popular event actions\n",
    "events.groupby('action').action.count().sort_values(ascending=False).head(10).plot(kind='bar')"
   ]
  },
  {
   "cell_type": "markdown",
   "id": "0e7818a8-e4bc-499c-8683-28b7045e59a2",
   "metadata": {
    "id": "0e7818a8-e4bc-499c-8683-28b7045e59a2"
   },
   "source": [
    "*Your discussion/interpretation goes here*"
   ]
  },
  {
   "cell_type": "markdown",
   "id": "55dd2ced-e567-4b23-8795-cce5132cfdad",
   "metadata": {
    "id": "55dd2ced-e567-4b23-8795-cce5132cfdad"
   },
   "source": [
    "## Task 2: Static Analysis\n",
    "\n",
    "In this second task, you will do a univariate an multivariate exploration of some aggregated features."
   ]
  },
  {
   "cell_type": "markdown",
   "id": "c6278746-ebab-45e7-8312-36f6cc1d4e36",
   "metadata": {
    "id": "c6278746-ebab-45e7-8312-36f6cc1d4e36"
   },
   "source": [
    "#### a) Build a data frame containing one row per user:\n",
    "\n",
    "``[user_id, gender, num_events, num_questions, percentage_correct, num_reading]``\n",
    "\n",
    "\n",
    "The features are defined as follows:\n",
    "\n",
    "- **num_questions**: total number of questions the student answered (hint: action event = submit answer)\n",
    "\n",
    "- **num_events**: total number of events of the student (hint: in events table)  \n",
    "\n",
    "- **percentage_correct**: number of correct answers/total number of answers (hint: evaluation = correct). If desired, you may assign a weight of 0.5 to partially correct answers. \n",
    "\n",
    "- **num_reading**: total number of theory reading events  (hint: action event = go to theory)"
   ]
  },
  {
   "cell_type": "code",
   "execution_count": 17,
   "id": "29f99c75",
   "metadata": {
    "id": "29f99c75"
   },
   "outputs": [],
   "source": [
    "# Build a data frame containing one row per user using the 3 dataframes already loaded\n",
    "# Each row will be of form: user_id, gender, num_events, num_questions, percentage_correct, num_reading\n",
    "# The features are defined as follows:\n",
    "# num_questions: total number of questions the student answered(hint: action event=submit answer)\n",
    "# num_events: total number of events of the student(hint: in events table)\n",
    "# percentage_correct: number of correct answers/total number of answers(hint: evaluation=correct). If desired, you may assign a weight of 0.5 to partially correct answers.\n",
    "# num_reading: total number of theory reading events(hint: action event=go to theory)\n",
    "\n",
    "# first create copy of three dataframes with only the columns we need\n",
    "new_transactions = transactions[['user_id', 'transaction_token', 'evaluation']]\n",
    "new_events = events[['transaction_token', 'action']]\n",
    "\n",
    "# Merge the users and transactions tables\n",
    "users_transactions_events = pd.merge(\n",
    "    new_transactions, new_events, on='transaction_token', how='left')\n",
    "\n",
    "# Find the number of events for each user\n",
    "num_events = users_transactions_events.groupby('user_id').action.count()\n",
    "# Find the number of questions for each user\n",
    "num_questions = users_transactions_events[users_transactions_events.action == 'SUBMIT_ANSWER'].groupby(\n",
    "    'user_id').action.count()\n",
    "# Find the number of correct answers for each user\n",
    "num_correct = users_transactions_events[users_transactions_events.evaluation == 'CORRECT'].groupby(\n",
    "    'user_id').evaluation.count()\n",
    "# Find the number of partially correct answers for each user\n",
    "num_partially_correct = users_transactions_events[users_transactions_events.evaluation == 'PARTIAL'].groupby(\n",
    "    'user_id').evaluation.count()\n",
    "# Find the number of theory reading events for each user\n",
    "num_reading = users_transactions_events[users_transactions_events.action == 'GO_TO_THEORY'].groupby('user_id').action.count()\n",
    "\n",
    "# Create a new dataframe with the desired features\n",
    "df = pd.DataFrame({'num_events': num_events, 'num_questions': num_questions, 'num_correct': num_correct, 'num_partially_correct': num_partially_correct, 'num_reading': num_reading})\n",
    "# Calculate the percentage of correct answers\n",
    "df['percentage_correct'] = (df['num_correct'] + 0.5 * df['num_partially_correct']) / df['num_questions']\n",
    "# Drop the columns num_correct and num_partially_correct\n",
    "df = df.drop(['num_correct', 'num_partially_correct'], axis=1)\n",
    "# Fill the NaN values with 0\n",
    "df = df.fillna(0)"
   ]
  },
  {
   "cell_type": "code",
   "execution_count": 16,
   "id": "a79931cb",
   "metadata": {},
   "outputs": [
    {
     "data": {
      "text/html": [
       "<div>\n",
       "<style scoped>\n",
       "    .dataframe tbody tr th:only-of-type {\n",
       "        vertical-align: middle;\n",
       "    }\n",
       "\n",
       "    .dataframe tbody tr th {\n",
       "        vertical-align: top;\n",
       "    }\n",
       "\n",
       "    .dataframe thead th {\n",
       "        text-align: right;\n",
       "    }\n",
       "</style>\n",
       "<table border=\"1\" class=\"dataframe\">\n",
       "  <thead>\n",
       "    <tr style=\"text-align: right;\">\n",
       "      <th></th>\n",
       "      <th>num_events</th>\n",
       "      <th>num_questions</th>\n",
       "      <th>num_reading</th>\n",
       "      <th>percentage_correct</th>\n",
       "    </tr>\n",
       "    <tr>\n",
       "      <th>user_id</th>\n",
       "      <th></th>\n",
       "      <th></th>\n",
       "      <th></th>\n",
       "      <th></th>\n",
       "    </tr>\n",
       "  </thead>\n",
       "  <tbody>\n",
       "    <tr>\n",
       "      <th>387604</th>\n",
       "      <td>1538</td>\n",
       "      <td>361.0</td>\n",
       "      <td>6.0</td>\n",
       "      <td>1.630194</td>\n",
       "    </tr>\n",
       "    <tr>\n",
       "      <th>387605</th>\n",
       "      <td>1005</td>\n",
       "      <td>239.0</td>\n",
       "      <td>3.0</td>\n",
       "      <td>1.564854</td>\n",
       "    </tr>\n",
       "    <tr>\n",
       "      <th>387608</th>\n",
       "      <td>620</td>\n",
       "      <td>117.0</td>\n",
       "      <td>0.0</td>\n",
       "      <td>2.196581</td>\n",
       "    </tr>\n",
       "    <tr>\n",
       "      <th>387613</th>\n",
       "      <td>26</td>\n",
       "      <td>4.0</td>\n",
       "      <td>0.0</td>\n",
       "      <td>3.000000</td>\n",
       "    </tr>\n",
       "    <tr>\n",
       "      <th>387615</th>\n",
       "      <td>72</td>\n",
       "      <td>14.0</td>\n",
       "      <td>1.0</td>\n",
       "      <td>2.571429</td>\n",
       "    </tr>\n",
       "    <tr>\n",
       "      <th>387643</th>\n",
       "      <td>486</td>\n",
       "      <td>84.0</td>\n",
       "      <td>1.0</td>\n",
       "      <td>2.041667</td>\n",
       "    </tr>\n",
       "    <tr>\n",
       "      <th>387644</th>\n",
       "      <td>531</td>\n",
       "      <td>146.0</td>\n",
       "      <td>1.0</td>\n",
       "      <td>2.164384</td>\n",
       "    </tr>\n",
       "    <tr>\n",
       "      <th>387650</th>\n",
       "      <td>619</td>\n",
       "      <td>63.0</td>\n",
       "      <td>5.0</td>\n",
       "      <td>1.626984</td>\n",
       "    </tr>\n",
       "    <tr>\n",
       "      <th>387655</th>\n",
       "      <td>0</td>\n",
       "      <td>0.0</td>\n",
       "      <td>0.0</td>\n",
       "      <td>NaN</td>\n",
       "    </tr>\n",
       "    <tr>\n",
       "      <th>387666</th>\n",
       "      <td>967</td>\n",
       "      <td>202.0</td>\n",
       "      <td>13.0</td>\n",
       "      <td>2.017327</td>\n",
       "    </tr>\n",
       "  </tbody>\n",
       "</table>\n",
       "</div>"
      ],
      "text/plain": [
       "         num_events  num_questions  num_reading  percentage_correct\n",
       "user_id                                                            \n",
       "387604         1538          361.0          6.0            1.630194\n",
       "387605         1005          239.0          3.0            1.564854\n",
       "387608          620          117.0          0.0            2.196581\n",
       "387613           26            4.0          0.0            3.000000\n",
       "387615           72           14.0          1.0            2.571429\n",
       "387643          486           84.0          1.0            2.041667\n",
       "387644          531          146.0          1.0            2.164384\n",
       "387650          619           63.0          5.0            1.626984\n",
       "387655            0            0.0          0.0                 NaN\n",
       "387666          967          202.0         13.0            2.017327"
      ]
     },
     "execution_count": 16,
     "metadata": {},
     "output_type": "execute_result"
    }
   ],
   "source": [
    "df.head(10)"
   ]
  },
  {
   "cell_type": "markdown",
   "id": "c7648e7d-45ff-40ef-8fc9-ccfba1ba7229",
   "metadata": {
    "id": "c7648e7d-45ff-40ef-8fc9-ccfba1ba7229"
   },
   "source": [
    "b) Perform a univariate analysis (including descriptive statistics and visualizations) for the five features (gender, num_events, num_questions, percentage_correct, num_reading) of your dataframe. Please check the lecture slides regarding information on how to perform a univariate analysis for categorical and numerical features. Discuss your results: how are the features distributed? Are there any anomalities?"
   ]
  },
  {
   "cell_type": "code",
   "execution_count": null,
   "id": "e1d63e93-976a-4585-9675-8b0c3c7661d9",
   "metadata": {
    "id": "e1d63e93-976a-4585-9675-8b0c3c7661d9"
   },
   "outputs": [],
   "source": [
    "# Your code for univariate analysis here"
   ]
  },
  {
   "cell_type": "markdown",
   "id": "da9e7a90-47b5-4c5c-8d3f-10e8c8078009",
   "metadata": {
    "id": "da9e7a90-47b5-4c5c-8d3f-10e8c8078009"
   },
   "source": [
    "*Your discussion/interpretation goes here*"
   ]
  },
  {
   "cell_type": "markdown",
   "id": "e5d52cd8-9927-401b-a3c3-a4ab2e46b445",
   "metadata": {
    "id": "e5d52cd8-9927-401b-a3c3-a4ab2e46b445"
   },
   "source": [
    "c) Come up with two additional features on your own and add them to the dataframe. Please provide an explanation/description of your features as well as an argument/hypothesis of why you think these features are interesting to explore."
   ]
  },
  {
   "cell_type": "code",
   "execution_count": null,
   "id": "0b374606-91f5-45b0-bb31-03d494fa5c69",
   "metadata": {
    "id": "0b374606-91f5-45b0-bb31-03d494fa5c69"
   },
   "outputs": [],
   "source": [
    "# Your code for computing the features and adding them to the df goes here"
   ]
  },
  {
   "cell_type": "markdown",
   "id": "6ae3bd87-8ca4-47a2-afc5-604e6ca53621",
   "metadata": {
    "id": "6ae3bd87-8ca4-47a2-afc5-604e6ca53621"
   },
   "source": [
    "*Your feature descriptions and arguments/hypotheses go here*"
   ]
  },
  {
   "cell_type": "markdown",
   "id": "be9b49ce-5fb6-4b95-9b64-8a6648e42474",
   "metadata": {
    "id": "be9b49ce-5fb6-4b95-9b64-8a6648e42474"
   },
   "source": [
    "d) Perform a univariate analysis of your features (including descriptive statistics and visualization). What can you observe? Do the results confirm your hypotheses?"
   ]
  },
  {
   "cell_type": "code",
   "execution_count": null,
   "id": "bf5136a1-4715-4bd6-a94a-1998ffb2dcc7",
   "metadata": {
    "id": "bf5136a1-4715-4bd6-a94a-1998ffb2dcc7"
   },
   "outputs": [],
   "source": [
    "# Your code for univariate analysis goes here"
   ]
  },
  {
   "cell_type": "markdown",
   "id": "791e6635-e2ef-4790-b585-a8907123bed8",
   "metadata": {
    "id": "791e6635-e2ef-4790-b585-a8907123bed8"
   },
   "source": [
    "*Your discussion/interpretation goes here*"
   ]
  },
  {
   "cell_type": "markdown",
   "id": "1596debf-793b-4d94-a0eb-4fc42a1f962d",
   "metadata": {
    "id": "1596debf-793b-4d94-a0eb-4fc42a1f962d"
   },
   "source": [
    "e) Perform a multivariate analysis for two pairs of features of your choice. Please provide a metric and a visualization for both pairs. Please discuss: why did you choose these two pairs? What was your hypothesis? Do the results confirm your hypothesis?"
   ]
  },
  {
   "cell_type": "code",
   "execution_count": null,
   "id": "9b5947ca-1c39-4aec-8fa9-22dba757ef27",
   "metadata": {
    "id": "9b5947ca-1c39-4aec-8fa9-22dba757ef27"
   },
   "outputs": [],
   "source": [
    "# Your code for multivariate analysis goes here"
   ]
  },
  {
   "cell_type": "markdown",
   "id": "9c9e9e56-f589-49d4-8cd4-07855bc6c5c0",
   "metadata": {
    "id": "9c9e9e56-f589-49d4-8cd4-07855bc6c5c0"
   },
   "source": [
    "*Your discussion/interpretation goes here*"
   ]
  },
  {
   "cell_type": "markdown",
   "id": "62ef2063-f2b2-4a0b-92a6-1e03e9e6e548",
   "metadata": {
    "id": "62ef2063-f2b2-4a0b-92a6-1e03e9e6e548"
   },
   "source": [
    "# Task 3: Time-Series Analysis\n",
    "\n",
    "In the last task, you will perform a time-series analysis."
   ]
  },
  {
   "cell_type": "markdown",
   "id": "1a986033-693c-4db0-8b27-c638b4bf6248",
   "metadata": {
    "id": "1a986033-693c-4db0-8b27-c638b4bf6248"
   },
   "source": [
    "\n",
    "#### a) Build a data frame containing one row per user per week:\n",
    "\n",
    "``[user_id, week, num_events, num_questions, percentage_correct, num_reading]``\n",
    "\n",
    "\n",
    "The features are defined as follows:\n",
    "\n",
    "- **num_questions**: total number of questions the student answered **per week**(hint: action event = submit answer).\n",
    "\n",
    "- **num_events**: total number of events of the student per week.\n",
    "\n",
    "- **percentage_correct**: number of correct answers/total number of answers  **per week** (hint: evaluation = correct). If desired, you may assign a weight of 0.5 to partially correct answers.\n",
    "\n",
    "- **num_reading**: total number of theory reading events **per week** (hint: action event = go to theory).\n",
    "\n",
    "Where week 0 is the first week the specific user solved a task in the platform, i.e., the user's earliest entry in the transactions table.\n",
    "\n",
    "Hint: You may extract the week of the year (dt.week) from the timestamps.\n",
    "\n",
    "Hint 2: Be mindful that week 1 in 2022 is a different week from week 1 in 2023."
   ]
  },
  {
   "cell_type": "markdown",
   "id": "549820bd-d886-433f-8055-52f40e3381ad",
   "metadata": {
    "id": "549820bd-d886-433f-8055-52f40e3381ad"
   },
   "source": [
    "You can limit the number of weeks to 10, i.e. for each user we just look at the first 10 weeks of data.\n",
    "You may change and justify your choice for the number of weeks."
   ]
  },
  {
   "cell_type": "code",
   "execution_count": null,
   "id": "a92e54ac-3990-4d97-bd57-75c81534b36d",
   "metadata": {
    "id": "a92e54ac-3990-4d97-bd57-75c81534b36d"
   },
   "outputs": [],
   "source": [
    "# Your code for building the dataframe goes here"
   ]
  },
  {
   "cell_type": "markdown",
   "id": "1d045819-a60e-4bdf-bdab-f09fa53c823a",
   "metadata": {
    "id": "1d045819-a60e-4bdf-bdab-f09fa53c823a"
   },
   "source": [
    "#### b) Select two features and analyze their behavior over time. Please provide a hypothesis and visualization for both features. For ideas on how to perform a time series exploration, please check the lecture slides and notebook. Discuss your results: what do you observe? Do the results confirm your hypotheses?"
   ]
  },
  {
   "cell_type": "markdown",
   "id": "3ccb6bf8-2d6b-4a53-a4bb-6784c671fec4",
   "metadata": {
    "id": "3ccb6bf8-2d6b-4a53-a4bb-6784c671fec4"
   },
   "source": [
    "*Your discussion goes here*"
   ]
  },
  {
   "cell_type": "markdown",
   "id": "_s7rWpaLfZGt",
   "metadata": {
    "id": "_s7rWpaLfZGt"
   },
   "source": [
    "# Task 4: Creative extension \n",
    "\n",
    "Please provide **one** new hypothesis you would like to explore with the data and provide a visualization for it. Discuss your results: what do you observe? Do the results confirm your hypotheses?\n",
    "\n"
   ]
  },
  {
   "cell_type": "code",
   "execution_count": null,
   "id": "3-Wtdj4KfdY_",
   "metadata": {
    "id": "3-Wtdj4KfdY_"
   },
   "outputs": [],
   "source": [
    "# Your creative visualization here"
   ]
  },
  {
   "cell_type": "markdown",
   "id": "yTT8SklBgGxN",
   "metadata": {
    "id": "yTT8SklBgGxN"
   },
   "source": [
    "*Your discussion goes here*"
   ]
  }
 ],
 "metadata": {
  "colab": {
   "collapsed_sections": [],
   "name": "m2-lernnavi-sciper.ipynb",
   "provenance": []
  },
  "kernelspec": {
   "display_name": "base",
   "language": "python",
   "name": "python3"
  },
  "language_info": {
   "codemirror_mode": {
    "name": "ipython",
    "version": 3
   },
   "file_extension": ".py",
   "mimetype": "text/x-python",
   "name": "python",
   "nbconvert_exporter": "python",
   "pygments_lexer": "ipython3",
   "version": "3.9.12"
  },
  "vscode": {
   "interpreter": {
    "hash": "60ec46ea0e2aa9c1d642f228b336c4fc54fd482a07dd91b0cd3e47ca60289121"
   }
  }
 },
 "nbformat": 4,
 "nbformat_minor": 5
}
