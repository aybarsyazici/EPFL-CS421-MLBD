{
 "cells": [
  {
   "attachments": {},
   "cell_type": "markdown",
   "id": "457a6a91-117e-41b3-be96-ffa6ac9d92e7",
   "metadata": {
    "id": "457a6a91-117e-41b3-be96-ffa6ac9d92e7"
   },
   "source": [
    "# M2 | Exploration Notebook\n",
    "\n",
    "In this notebook, you will do a first exploration of the data set that you will use for your project. One part of this exploration is guided, i.e. we will ask you to solve specific questions (task 1-3). The other part is open, i.e. we will ask you to come up with your own exploration ideas (task 4). \n",
    "\n",
    "Please upload your solved notebook to Moodle (under Milestone 2 Submission)adding your SCIPER number in title, example: m2-lernnavi-456392.ipynb\n",
    "\n",
    "\n",
    "## Brief overview of Lernnavi\n",
    "[Lernnavi](https://www.lernnavi.ch) is an instrument for promoting part of the basic technical study skills in German and mathematics.\n",
    "\n",
    "\n",
    "For the guided part of the exploration we will focus on the three main tables:\n",
    "* *users*: demographic information of users.\n",
    "* *events*: events done by the users in the platform.\n",
    "* *transactions*: question and answer solved by user.\n",
    "\n",
    "### Users\n",
    "* user_id: unique identifier of user in database.\n",
    "* gender: only three values: M male, F female or missing (star). \n",
    "* canton: swiss canton.\n",
    "* class_level: school year in swiss system.\n",
    "* study: boolean variable. True if the student participated in the study.\n",
    "* class_id: identifier of student’s class (only for the students in the experiment)\n",
    "\n",
    "\n",
    "### Events\n",
    "* event_id: unique identifier of event in database.\n",
    "* user_id: user who peformed the event.\n",
    "* event_date: timestamp of event.\n",
    "* category: classification of action (task, general, statistics, etc).\n",
    "* action: type of action performed.\n",
    "* event_type: whether the students viewed or clicked in the event.\n",
    "* transaction_token: used to link to transactions table.\n",
    "* tracking_data: optional content associated to this event (e.g., the new points mastered for a topic).\n",
    "* session_id: session during which the event took place.\n",
    "* topic_id: the topics represent the taxonomy of categories shown in the Deutsch and Math dashboard. See topics_translated table.\n",
    "* session_closed: whether the session has been finished (1: finished; 0: not finished).\n",
    "* session_type: whether the session is a learn or level check (1: learn; 2: level check).\n",
    "* session_accepted: whether the user finally accepted the result of the session (1: accepted; 0: refused).\n",
    "\n",
    "### Transactions\n",
    "* transaction_id: unique identifier of transaction in database.\n",
    "* transaction_token: used to link to events table.\n",
    "* user_id: user who performed the transaction.\n",
    "* document_id: document that was answered in transaction.\n",
    "* document_version: version of document that was answered.\n",
    "* evaluation: whether the user answered correctly or not. It is possible that it was only partially right. \n",
    "* input: answer the user gave.\n",
    "* start_time: timestamp of when the user started answering.\n",
    "* commit_time: timestamp of when the user submitted the answer.\n",
    "* user_agent: the browser that the user used.\n",
    "* solution: solution to question.\n",
    "* type: type of question that was answered. \n",
    "* session_id: session during which the event took place.\n",
    "* topic_id: the topics represent the taxonomy of categories shown in the Deutsch and Math dashboard. See topics_translated table.\n",
    "* session_closed: whether the session has been finished (1: finished; 0: not finished).\n",
    "* session_type: whether the session is a learn or level check (1: learn; 2: level check).\n",
    "* session_accepted: whether the user finally accepted the result of the session (1: accepted; 0: refused).\n",
    "* challenge: (boolean) whether the transaction was part of a challenge or not. Professors can create challenges containing different documents\n",
    "* challenge_id: unique identifier of challenges. The same challenge can be done by multiple students. The pre-test and post-test in the study were designed like challenges.\n",
    "* challenge_order: within the challenge, the order of the questions. The order matters because sometimes the questions were adapted depending on the student’s knowledge.\n",
    "* challenge_name: name given to the challenges. \n",
    "\n",
    "## Useful Metadata Files\n",
    "* [Data description](https://docs.google.com/document/d/1NPFNwi79JddrxZM-CpltH5nHro5btHRSNnYcAGj7Y0A/edit?usp=sharing)\n"
   ]
  },
  {
   "cell_type": "code",
   "execution_count": 143,
   "id": "06c6057c",
   "metadata": {},
   "outputs": [],
   "source": [
    "# Import the tables of the data set as dataframes.\n",
    "import numpy as np\n",
    "import pandas as pd\n",
    "import matplotlib.pyplot as plt\n",
    "import seaborn as sns\n",
    "from sklearn.metrics import mutual_info_score\n",
    "from sklearn.feature_selection import mutual_info_regression\n",
    "from scipy import stats\n",
    "from scipy.stats import skewnorm, chi2_contingency, normaltest\n"
   ]
  },
  {
   "cell_type": "code",
   "execution_count": 2,
   "id": "2b10fd14-a60b-4de9-b217-bbaf68dac01c",
   "metadata": {
    "id": "2b10fd14-a60b-4de9-b217-bbaf68dac01c"
   },
   "outputs": [],
   "source": [
    "DATA_DIR = '../../data/'\n",
    "\n",
    "users = pd.read_csv('{}/users.csv.gz'.format(DATA_DIR))\n",
    "events = pd.read_csv('{}/events.csv.gz'.format(DATA_DIR))\n",
    "transactions = pd.read_csv('{}/transactions.csv.gz'.format(DATA_DIR))"
   ]
  },
  {
   "cell_type": "code",
   "execution_count": 3,
   "id": "50f8cced",
   "metadata": {},
   "outputs": [
    {
     "data": {
      "text/html": [
       "<div>\n",
       "<style scoped>\n",
       "    .dataframe tbody tr th:only-of-type {\n",
       "        vertical-align: middle;\n",
       "    }\n",
       "\n",
       "    .dataframe tbody tr th {\n",
       "        vertical-align: top;\n",
       "    }\n",
       "\n",
       "    .dataframe thead th {\n",
       "        text-align: right;\n",
       "    }\n",
       "</style>\n",
       "<table border=\"1\" class=\"dataframe\">\n",
       "  <thead>\n",
       "    <tr style=\"text-align: right;\">\n",
       "      <th></th>\n",
       "      <th>transaction_id</th>\n",
       "      <th>transaction_token</th>\n",
       "      <th>user_id</th>\n",
       "      <th>document_id</th>\n",
       "      <th>document_version</th>\n",
       "      <th>evaluation</th>\n",
       "      <th>input</th>\n",
       "      <th>start_time</th>\n",
       "      <th>commit_time</th>\n",
       "      <th>user_agent</th>\n",
       "      <th>...</th>\n",
       "      <th>type</th>\n",
       "      <th>session_id</th>\n",
       "      <th>topic_id</th>\n",
       "      <th>session_closed</th>\n",
       "      <th>session_type</th>\n",
       "      <th>session_accepted</th>\n",
       "      <th>challenge</th>\n",
       "      <th>challenge_id</th>\n",
       "      <th>challenge_order</th>\n",
       "      <th>challenge_name</th>\n",
       "    </tr>\n",
       "  </thead>\n",
       "  <tbody>\n",
       "    <tr>\n",
       "      <th>0</th>\n",
       "      <td>688413</td>\n",
       "      <td>88fdcaad-f73b-46a2-b561-d262f2441442</td>\n",
       "      <td>393211</td>\n",
       "      <td>awd0i1DlVtg6kuMZSkpmHa</td>\n",
       "      <td>75002</td>\n",
       "      <td>PARTIAL</td>\n",
       "      <td>{\"type\": \"MULTI_COLOR_HIGHLIGHT\", \"highlighted...</td>\n",
       "      <td>2021-05-21 07:58:27.312000000</td>\n",
       "      <td>2021-05-21 08:03:43.020000000</td>\n",
       "      <td>Mozilla/5.0 (Macintosh; Intel Mac OS X 10_15_6...</td>\n",
       "      <td>...</td>\n",
       "      <td>MULTI_COLOR_HIGHLIGHT</td>\n",
       "      <td>NaN</td>\n",
       "      <td>NaN</td>\n",
       "      <td>NaN</td>\n",
       "      <td>NaN</td>\n",
       "      <td>NaN</td>\n",
       "      <td>True</td>\n",
       "      <td>1083.0</td>\n",
       "      <td>2.0</td>\n",
       "      <td>G3h – Training Rhetorik</td>\n",
       "    </tr>\n",
       "    <tr>\n",
       "      <th>1</th>\n",
       "      <td>688414</td>\n",
       "      <td>a75eb7b4-b2c2-47d4-9200-27980c175037</td>\n",
       "      <td>393211</td>\n",
       "      <td>arhWF3BT53V9W8cGOaZVPX</td>\n",
       "      <td>75012</td>\n",
       "      <td>PARTIAL</td>\n",
       "      <td>{\"type\": \"MULTI_COLOR_HIGHLIGHT\", \"highlighted...</td>\n",
       "      <td>2021-05-21 08:04:05.067000000</td>\n",
       "      <td>2021-05-21 08:07:21.288999936</td>\n",
       "      <td>Mozilla/5.0 (Macintosh; Intel Mac OS X 10_15_6...</td>\n",
       "      <td>...</td>\n",
       "      <td>MULTI_COLOR_HIGHLIGHT</td>\n",
       "      <td>NaN</td>\n",
       "      <td>NaN</td>\n",
       "      <td>NaN</td>\n",
       "      <td>NaN</td>\n",
       "      <td>NaN</td>\n",
       "      <td>True</td>\n",
       "      <td>1083.0</td>\n",
       "      <td>3.0</td>\n",
       "      <td>G3h – Training Rhetorik</td>\n",
       "    </tr>\n",
       "    <tr>\n",
       "      <th>2</th>\n",
       "      <td>688415</td>\n",
       "      <td>61eb829d-bdda-4107-86af-ad9a14a7bdc9</td>\n",
       "      <td>393211</td>\n",
       "      <td>9wk5dtV2mF59odW0wCEYYc</td>\n",
       "      <td>75003</td>\n",
       "      <td>PARTIAL</td>\n",
       "      <td>{\"type\": \"CLOZE_TEXT\", \"clozeInputs\": [\"Person...</td>\n",
       "      <td>2021-05-21 08:07:37.048000000</td>\n",
       "      <td>2021-05-21 08:13:30.953999872</td>\n",
       "      <td>Mozilla/5.0 (Macintosh; Intel Mac OS X 10_15_6...</td>\n",
       "      <td>...</td>\n",
       "      <td>CLOZE_TEXT</td>\n",
       "      <td>NaN</td>\n",
       "      <td>NaN</td>\n",
       "      <td>NaN</td>\n",
       "      <td>NaN</td>\n",
       "      <td>NaN</td>\n",
       "      <td>True</td>\n",
       "      <td>1083.0</td>\n",
       "      <td>4.0</td>\n",
       "      <td>G3h – Training Rhetorik</td>\n",
       "    </tr>\n",
       "    <tr>\n",
       "      <th>3</th>\n",
       "      <td>688416</td>\n",
       "      <td>30ff0d8a-865d-460b-9177-b698a52b0d5c</td>\n",
       "      <td>393211</td>\n",
       "      <td>afilxZ8LycP5LReULeKngW</td>\n",
       "      <td>75009</td>\n",
       "      <td>CORRECT</td>\n",
       "      <td>{\"type\": \"DND_PAIRS\", \"input\": [\"&lt;p&gt;Ich gehe i...</td>\n",
       "      <td>2021-05-21 08:13:38.943000000</td>\n",
       "      <td>2021-05-21 08:22:13.975000064</td>\n",
       "      <td>Mozilla/5.0 (Macintosh; Intel Mac OS X 10_15_6...</td>\n",
       "      <td>...</td>\n",
       "      <td>DND_PAIRS</td>\n",
       "      <td>NaN</td>\n",
       "      <td>NaN</td>\n",
       "      <td>NaN</td>\n",
       "      <td>NaN</td>\n",
       "      <td>NaN</td>\n",
       "      <td>True</td>\n",
       "      <td>1083.0</td>\n",
       "      <td>5.0</td>\n",
       "      <td>G3h – Training Rhetorik</td>\n",
       "    </tr>\n",
       "    <tr>\n",
       "      <th>4</th>\n",
       "      <td>688417</td>\n",
       "      <td>0adedf3b-ba35-4497-8c6b-b5c2f6fcbbf3</td>\n",
       "      <td>393211</td>\n",
       "      <td>76m6v05NCeX8x2Wr5tKRE3</td>\n",
       "      <td>75007</td>\n",
       "      <td>CORRECT</td>\n",
       "      <td>{\"type\": \"DND_PAIRS\", \"input\": [\"&lt;p&gt;Kleiner Ma...</td>\n",
       "      <td>2021-05-21 08:22:19.391000000</td>\n",
       "      <td>2021-05-21 08:22:55.366000128</td>\n",
       "      <td>Mozilla/5.0 (Macintosh; Intel Mac OS X 10_15_6...</td>\n",
       "      <td>...</td>\n",
       "      <td>DND_PAIRS</td>\n",
       "      <td>NaN</td>\n",
       "      <td>NaN</td>\n",
       "      <td>NaN</td>\n",
       "      <td>NaN</td>\n",
       "      <td>NaN</td>\n",
       "      <td>True</td>\n",
       "      <td>1083.0</td>\n",
       "      <td>6.0</td>\n",
       "      <td>G3h – Training Rhetorik</td>\n",
       "    </tr>\n",
       "  </tbody>\n",
       "</table>\n",
       "<p>5 rows × 21 columns</p>\n",
       "</div>"
      ],
      "text/plain": [
       "   transaction_id                     transaction_token  user_id  \\\n",
       "0          688413  88fdcaad-f73b-46a2-b561-d262f2441442   393211   \n",
       "1          688414  a75eb7b4-b2c2-47d4-9200-27980c175037   393211   \n",
       "2          688415  61eb829d-bdda-4107-86af-ad9a14a7bdc9   393211   \n",
       "3          688416  30ff0d8a-865d-460b-9177-b698a52b0d5c   393211   \n",
       "4          688417  0adedf3b-ba35-4497-8c6b-b5c2f6fcbbf3   393211   \n",
       "\n",
       "              document_id  document_version evaluation  \\\n",
       "0  awd0i1DlVtg6kuMZSkpmHa             75002    PARTIAL   \n",
       "1  arhWF3BT53V9W8cGOaZVPX             75012    PARTIAL   \n",
       "2  9wk5dtV2mF59odW0wCEYYc             75003    PARTIAL   \n",
       "3  afilxZ8LycP5LReULeKngW             75009    CORRECT   \n",
       "4  76m6v05NCeX8x2Wr5tKRE3             75007    CORRECT   \n",
       "\n",
       "                                               input  \\\n",
       "0  {\"type\": \"MULTI_COLOR_HIGHLIGHT\", \"highlighted...   \n",
       "1  {\"type\": \"MULTI_COLOR_HIGHLIGHT\", \"highlighted...   \n",
       "2  {\"type\": \"CLOZE_TEXT\", \"clozeInputs\": [\"Person...   \n",
       "3  {\"type\": \"DND_PAIRS\", \"input\": [\"<p>Ich gehe i...   \n",
       "4  {\"type\": \"DND_PAIRS\", \"input\": [\"<p>Kleiner Ma...   \n",
       "\n",
       "                      start_time                    commit_time  \\\n",
       "0  2021-05-21 07:58:27.312000000  2021-05-21 08:03:43.020000000   \n",
       "1  2021-05-21 08:04:05.067000000  2021-05-21 08:07:21.288999936   \n",
       "2  2021-05-21 08:07:37.048000000  2021-05-21 08:13:30.953999872   \n",
       "3  2021-05-21 08:13:38.943000000  2021-05-21 08:22:13.975000064   \n",
       "4  2021-05-21 08:22:19.391000000  2021-05-21 08:22:55.366000128   \n",
       "\n",
       "                                          user_agent  ...  \\\n",
       "0  Mozilla/5.0 (Macintosh; Intel Mac OS X 10_15_6...  ...   \n",
       "1  Mozilla/5.0 (Macintosh; Intel Mac OS X 10_15_6...  ...   \n",
       "2  Mozilla/5.0 (Macintosh; Intel Mac OS X 10_15_6...  ...   \n",
       "3  Mozilla/5.0 (Macintosh; Intel Mac OS X 10_15_6...  ...   \n",
       "4  Mozilla/5.0 (Macintosh; Intel Mac OS X 10_15_6...  ...   \n",
       "\n",
       "                    type session_id  topic_id  session_closed  session_type  \\\n",
       "0  MULTI_COLOR_HIGHLIGHT        NaN       NaN             NaN           NaN   \n",
       "1  MULTI_COLOR_HIGHLIGHT        NaN       NaN             NaN           NaN   \n",
       "2             CLOZE_TEXT        NaN       NaN             NaN           NaN   \n",
       "3              DND_PAIRS        NaN       NaN             NaN           NaN   \n",
       "4              DND_PAIRS        NaN       NaN             NaN           NaN   \n",
       "\n",
       "   session_accepted  challenge  challenge_id  challenge_order  \\\n",
       "0               NaN       True        1083.0              2.0   \n",
       "1               NaN       True        1083.0              3.0   \n",
       "2               NaN       True        1083.0              4.0   \n",
       "3               NaN       True        1083.0              5.0   \n",
       "4               NaN       True        1083.0              6.0   \n",
       "\n",
       "            challenge_name  \n",
       "0  G3h – Training Rhetorik  \n",
       "1  G3h – Training Rhetorik  \n",
       "2  G3h – Training Rhetorik  \n",
       "3  G3h – Training Rhetorik  \n",
       "4  G3h – Training Rhetorik  \n",
       "\n",
       "[5 rows x 21 columns]"
      ]
     },
     "execution_count": 3,
     "metadata": {},
     "output_type": "execute_result"
    }
   ],
   "source": [
    "transactions.head()"
   ]
  },
  {
   "cell_type": "code",
   "execution_count": 4,
   "id": "3b8f73ca",
   "metadata": {},
   "outputs": [
    {
     "name": "stdout",
     "output_type": "stream",
     "text": [
      "[nan 'MALE' 'FEMALE' 'STAR']\n",
      "4217\n"
     ]
    }
   ],
   "source": [
    "# Find the unique values in gender column in users table\n",
    "print(users.gender.unique())\n",
    "# Find how many NaN in users gender\n",
    "print(users.gender.isnull().sum())"
   ]
  },
  {
   "cell_type": "code",
   "execution_count": 5,
   "id": "00c418fb",
   "metadata": {},
   "outputs": [
    {
     "name": "stdout",
     "output_type": "stream",
     "text": [
      "0\n"
     ]
    }
   ],
   "source": [
    "# check if any user id belongs to more than one user\n",
    "print(users.user_id.duplicated().sum())"
   ]
  },
  {
   "cell_type": "code",
   "execution_count": 6,
   "id": "f971694a",
   "metadata": {},
   "outputs": [
    {
     "data": {
      "text/plain": [
       "PAGE_VISIT              2113982\n",
       "REVIEW_TASK             1734632\n",
       "SUBMIT_ANSWER           1404142\n",
       "NAVIGATE_DASHBOARD      1093791\n",
       "NEXT                     907521\n",
       "WINDOW_VISIBLE_FALSE     851634\n",
       "WINDOW_VISIBLE_TRUE      705679\n",
       "VIEW_QUESTION            451981\n",
       "OPEN_FEEDBACK            281632\n",
       "CLOSE_FEEDBACK           251044\n",
       "GO_TO_THEORY             211418\n",
       "SUBMIT_SEARCH            162067\n",
       "VIEW_SESSION_END         159925\n",
       "SKIP                     158420\n",
       "WINDOW_OPEN              150781\n",
       "CLOSE                    131124\n",
       "WINDOW_CLOSE             122121\n",
       "LOGIN                    105144\n",
       "SURVEY_BANNER             68655\n",
       "SELECT_STATISTICS         57119\n",
       "ACCEPT_PROGRESS           30996\n",
       "GO_TO_COMMENTS            12158\n",
       "GO_TO_BUG_REPORT           9772\n",
       "LOGOUT                     6821\n",
       "SHARE_SESSION              3320\n",
       "REJECT_PROGRESS            3257\n",
       "PRETEST                    1709\n",
       "NAVIGATE_SURVEY            1111\n",
       "GO_TO_SESSION               563\n",
       "REQUEST_HINT                562\n",
       "SHARE                        90\n",
       "Name: action, dtype: int64"
      ]
     },
     "execution_count": 6,
     "metadata": {},
     "output_type": "execute_result"
    }
   ],
   "source": [
    "events.action.value_counts()"
   ]
  },
  {
   "cell_type": "code",
   "execution_count": 7,
   "id": "46336ab9",
   "metadata": {},
   "outputs": [
    {
     "data": {
      "text/plain": [
       "VIEW     6858450\n",
       "CLICK    4334721\n",
       "Name: event_type, dtype: int64"
      ]
     },
     "execution_count": 7,
     "metadata": {},
     "output_type": "execute_result"
    }
   ],
   "source": [
    "events.event_type.value_counts()"
   ]
  },
  {
   "cell_type": "code",
   "execution_count": 8,
   "id": "cbdc4f86",
   "metadata": {},
   "outputs": [
    {
     "data": {
      "text/plain": [
       "MULTIPLE_CHOICE          306214\n",
       "CLOZE_TEXT_DROPDOWN      263906\n",
       "CLOZE_TEXT               202705\n",
       "SOLUTION_FIELD            83532\n",
       "CLOZE_MATH                79525\n",
       "MULTI_COLOR_HIGHLIGHT     69995\n",
       "DND_PAIRS                 68789\n",
       "FIX_TEXT                  65704\n",
       "HIGHLIGHT                 64941\n",
       "MATH_STEP_BY_STEP         61179\n",
       "DND_GROUP                 44102\n",
       "SEPARATE_TEXT             20015\n",
       "DND_ORDER                 16938\n",
       "DND_IN_TEXT               16534\n",
       "GRAPH_SELECT_SHAPE        12298\n",
       "GRAPH_SOLUTION_FIELD      11003\n",
       "OPEN_TASK                  9956\n",
       "GRAPH_CLICK_POINTS         4196\n",
       "Name: type, dtype: int64"
      ]
     },
     "execution_count": 8,
     "metadata": {},
     "output_type": "execute_result"
    }
   ],
   "source": [
    "transactions.type.value_counts()"
   ]
  },
  {
   "cell_type": "code",
   "execution_count": 9,
   "id": "ef65bd7f",
   "metadata": {},
   "outputs": [
    {
     "data": {
      "text/plain": [
       "count    11565.000000\n",
       "mean        18.280847\n",
       "std         53.223441\n",
       "min          1.000000\n",
       "25%          2.000000\n",
       "50%          6.000000\n",
       "75%         16.000000\n",
       "max       3000.000000\n",
       "Name: action, dtype: float64"
      ]
     },
     "execution_count": 9,
     "metadata": {},
     "output_type": "execute_result"
    }
   ],
   "source": [
    "go_to_theory = events[events.action == 'GO_TO_THEORY'].groupby('user_id').action.count().sort_values(ascending=False)\n",
    "go_to_theory.describe()"
   ]
  },
  {
   "cell_type": "code",
   "execution_count": 87,
   "id": "c399f6b9",
   "metadata": {},
   "outputs": [
    {
     "data": {
      "text/plain": [
       "30929"
      ]
     },
     "execution_count": 87,
     "metadata": {},
     "output_type": "execute_result"
    }
   ],
   "source": [
    "users.user_id.nunique()"
   ]
  },
  {
   "cell_type": "markdown",
   "id": "75b4f5fc-4526-4c00-8045-393cd36a2de6",
   "metadata": {
    "id": "75b4f5fc-4526-4c00-8045-393cd36a2de6"
   },
   "source": [
    "## Task 1: Simple Statistics\n",
    "\n",
    "In this task you are asked to do a first coarse exploration of the data set, using simple statistics and visualizations."
   ]
  },
  {
   "cell_type": "markdown",
   "id": "811d42c0-6f94-436e-b2da-232363fedace",
   "metadata": {
    "id": "811d42c0-6f94-436e-b2da-232363fedace"
   },
   "source": [
    "#### a) How many distinct participants do we have in the data set?\n"
   ]
  },
  {
   "cell_type": "code",
   "execution_count": 10,
   "id": "3935e6ea-982b-4d88-81c1-406f6d8040e8",
   "metadata": {
    "id": "3935e6ea-982b-4d88-81c1-406f6d8040e8"
   },
   "outputs": [
    {
     "name": "stdout",
     "output_type": "stream",
     "text": [
      "30929\n",
      "30929\n"
     ]
    }
   ],
   "source": [
    "# ## Users table\n",
    "# * user_id: unique identifier of user in database.\n",
    "# * gender: only three values: M male, F female or missing (star). \n",
    "# * canton: swiss canton.\n",
    "# * class_level: school year in swiss system.\n",
    "# * study: boolean variable. True if the student participated in the study.\n",
    "# * class_id: identifier of student’s class (only for the students in the experiment)\n",
    "\n",
    "print(users.user_id.nunique())\n",
    "print(users.user_id.count())\n",
    "# both results are the same because there are no duplicated user_id"
   ]
  },
  {
   "cell_type": "markdown",
   "id": "afa67951-aed8-4709-a935-9918d80ede84",
   "metadata": {
    "id": "afa67951-aed8-4709-a935-9918d80ede84"
   },
   "source": [
    "#### b) How many transactions were done per user? Please provide a visualization and discuss the distribution."
   ]
  },
  {
   "cell_type": "code",
   "execution_count": 11,
   "id": "adefdeef-23d3-4feb-9c6f-6a3dd441acf2",
   "metadata": {
    "id": "adefdeef-23d3-4feb-9c6f-6a3dd441acf2"
   },
   "outputs": [
    {
     "data": {
      "text/plain": [
       "<AxesSubplot:xlabel='user_id'>"
      ]
     },
     "execution_count": 11,
     "metadata": {},
     "output_type": "execute_result"
    },
    {
     "data": {
      "image/png": "[encoded data removed]",
      "text/plain": [
       "<Figure size 640x480 with 1 Axes>"
      ]
     },
     "metadata": {},
     "output_type": "display_data"
    }
   ],
   "source": [
    "# ## Transactions Table\n",
    "# * transaction_id: unique identifier of transaction in database.\n",
    "# * transaction_token: used to link to events table.\n",
    "# * user_id: user who performed the transaction.\n",
    "# * document_id: document that was answered in transaction.\n",
    "# * document_version: version of document that was answered.\n",
    "# * evaluation: whether the user answered correctly or not. It is possible that it was only partially right. \n",
    "# * input: answer the user gave.\n",
    "# * start_time: timestamp of when the user started answering.\n",
    "# * commit_time: timestamp of when the user submitted the answer.\n",
    "# * user_agent: the browser that the user used.\n",
    "# * solution: solution to question.\n",
    "# * type: type of question that was answered. \n",
    "# * session_id: session during which the event took place.\n",
    "# * topic_id: the topics represent the taxonomy of categories shown in the Deutsch and Math dashboard. See topics_translated table.\n",
    "# * session_closed: whether the session has been finished (1: finished; 0: not finished).\n",
    "# * session_type: whether the session is a learn or level check (1: learn; 2: level check).\n",
    "# * session_accepted: whether the user finally accepted the result of the session (1: accepted; 0: refused).\n",
    "# * challenge: (boolean) whether the transaction was part of a challenge or not. Professors can create challenges containing different documents\n",
    "# * challenge_id: unique identifier of challenges. The same challenge can be done by multiple students. The pre-test and post-test in the study were designed like challenges.\n",
    "# * challenge_order: within the challenge, the order of the questions. The order matters because sometimes the questions were adapted depending on the student’s knowledge.\n",
    "# * challenge_name: name given to the challenges. \n",
    "\n",
    "transactions.groupby('user_id').transaction_id.count().sort_values(ascending=False).head(10)\n",
    "transactions.groupby('user_id').transaction_id.count().sort_values(ascending=False).head(30).plot(kind='bar')"
   ]
  },
  {
   "attachments": {},
   "cell_type": "markdown",
   "id": "zkDaH4M_a3vR",
   "metadata": {
    "id": "zkDaH4M_a3vR"
   },
   "source": [
    "Clearly one user(387711) is a lot more active compared to others, this could be very well an admin account of some sorts, testing the platform. (possibly)\n",
    "\n",
    "\n",
    "Also notice below that most of the users (22460 out of 30929) have transaction count between 0(exclusive) and 2000 inclusive.\n",
    "The count does not include the users who have 0 transactions as we are working on the transaction table, thus the users who do not have any transactions do NOT exist in this table."
   ]
  },
  {
   "cell_type": "code",
   "execution_count": 108,
   "id": "32371b95",
   "metadata": {},
   "outputs": [
    {
     "data": {
      "text/html": [
       "<div>\n",
       "<style scoped>\n",
       "    .dataframe tbody tr th:only-of-type {\n",
       "        vertical-align: middle;\n",
       "    }\n",
       "\n",
       "    .dataframe tbody tr th {\n",
       "        vertical-align: top;\n",
       "    }\n",
       "\n",
       "    .dataframe thead th {\n",
       "        text-align: right;\n",
       "    }\n",
       "</style>\n",
       "<table border=\"1\" class=\"dataframe\">\n",
       "  <thead>\n",
       "    <tr style=\"text-align: right;\">\n",
       "      <th></th>\n",
       "      <th>transaction_id</th>\n",
       "    </tr>\n",
       "    <tr>\n",
       "      <th>user_id</th>\n",
       "      <th></th>\n",
       "    </tr>\n",
       "  </thead>\n",
       "  <tbody>\n",
       "    <tr>\n",
       "      <th>387604</th>\n",
       "      <td>846</td>\n",
       "    </tr>\n",
       "    <tr>\n",
       "      <th>387605</th>\n",
       "      <td>482</td>\n",
       "    </tr>\n",
       "    <tr>\n",
       "      <th>387608</th>\n",
       "      <td>361</td>\n",
       "    </tr>\n",
       "    <tr>\n",
       "      <th>387613</th>\n",
       "      <td>12</td>\n",
       "    </tr>\n",
       "    <tr>\n",
       "      <th>387615</th>\n",
       "      <td>40</td>\n",
       "    </tr>\n",
       "    <tr>\n",
       "      <th>...</th>\n",
       "      <td>...</td>\n",
       "    </tr>\n",
       "    <tr>\n",
       "      <th>431999</th>\n",
       "      <td>8</td>\n",
       "    </tr>\n",
       "    <tr>\n",
       "      <th>432001</th>\n",
       "      <td>9</td>\n",
       "    </tr>\n",
       "    <tr>\n",
       "      <th>432014</th>\n",
       "      <td>18</td>\n",
       "    </tr>\n",
       "    <tr>\n",
       "      <th>432016</th>\n",
       "      <td>7</td>\n",
       "    </tr>\n",
       "    <tr>\n",
       "      <th>432020</th>\n",
       "      <td>25</td>\n",
       "    </tr>\n",
       "  </tbody>\n",
       "</table>\n",
       "<p>22460 rows × 1 columns</p>\n",
       "</div>"
      ],
      "text/plain": [
       "         transaction_id\n",
       "user_id                \n",
       "387604              846\n",
       "387605              482\n",
       "387608              361\n",
       "387613               12\n",
       "387615               40\n",
       "...                 ...\n",
       "431999                8\n",
       "432001                9\n",
       "432014               18\n",
       "432016                7\n",
       "432020               25\n",
       "\n",
       "[22460 rows x 1 columns]"
      ]
     },
     "execution_count": 108,
     "metadata": {},
     "output_type": "execute_result"
    }
   ],
   "source": [
    "transaction_count_per_user_frame = transactions.groupby('user_id').transaction_id.count().to_frame()\n",
    "transaction_count_per_user_frame[(transaction_count_per_user_frame.transaction_id <= 2000)]"
   ]
  },
  {
   "cell_type": "markdown",
   "id": "b14fea28-8507-497d-9990-9eb2fefd18c0",
   "metadata": {
    "id": "b14fea28-8507-497d-9990-9eb2fefd18c0"
   },
   "source": [
    "#### c) Which are the 10 most popular event actions? Please provide a visualization of the frequency of the top 10 event actions.\n",
    "\n",
    "Hint: See actions in table events."
   ]
  },
  {
   "cell_type": "code",
   "execution_count": 109,
   "id": "e991ecba",
   "metadata": {
    "id": "e991ecba"
   },
   "outputs": [
    {
     "data": {
      "text/plain": [
       "<AxesSubplot:xlabel='action'>"
      ]
     },
     "execution_count": 109,
     "metadata": {},
     "output_type": "execute_result"
    },
    {
     "data": {
      "image/png": "[encoded data removed]",
      "text/plain": [
       "<Figure size 640x480 with 1 Axes>"
      ]
     },
     "metadata": {},
     "output_type": "display_data"
    }
   ],
   "source": [
    "# Find the most popular event actions\n",
    "events.groupby('action').action.count().sort_values(ascending=False).head(10)\n",
    "# Provide visualization of the frequency of most popular event actions\n",
    "events.groupby('action').action.count().sort_values(ascending=False).head(10).plot(kind='bar')"
   ]
  },
  {
   "attachments": {},
   "cell_type": "markdown",
   "id": "0e7818a8-e4bc-499c-8683-28b7045e59a2",
   "metadata": {
    "id": "0e7818a8-e4bc-499c-8683-28b7045e59a2"
   },
   "source": [
    "It should be no surprise that the most popular action is the page visit action. \n",
    "\n",
    "The surprising find in here is that SUBMIT_TASK action is a lot more frequent compared to VIEW_QUESTION action. This (most likely) means that for the same question the users on average submit multiple attempts."
   ]
  },
  {
   "cell_type": "markdown",
   "id": "55dd2ced-e567-4b23-8795-cce5132cfdad",
   "metadata": {
    "id": "55dd2ced-e567-4b23-8795-cce5132cfdad"
   },
   "source": [
    "## Task 2: Static Analysis\n",
    "\n",
    "In this second task, you will do a univariate an multivariate exploration of some aggregated features."
   ]
  },
  {
   "cell_type": "markdown",
   "id": "c6278746-ebab-45e7-8312-36f6cc1d4e36",
   "metadata": {
    "id": "c6278746-ebab-45e7-8312-36f6cc1d4e36"
   },
   "source": [
    "#### a) Build a data frame containing one row per user:\n",
    "\n",
    "``[user_id, gender, num_events, num_questions, percentage_correct, num_reading]``\n",
    "\n",
    "\n",
    "The features are defined as follows:\n",
    "\n",
    "- **num_questions**: total number of questions the student answered (hint: action event = submit answer)\n",
    "\n",
    "- **num_events**: total number of events of the student (hint: in events table)  \n",
    "\n",
    "- **percentage_correct**: number of correct answers/total number of answers (hint: evaluation = correct). If desired, you may assign a weight of 0.5 to partially correct answers. \n",
    "\n",
    "- **num_reading**: total number of theory reading events  (hint: action event = go to theory)"
   ]
  },
  {
   "cell_type": "code",
   "execution_count": 14,
   "id": "b0600084",
   "metadata": {},
   "outputs": [
    {
     "data": {
      "text/plain": [
       "9102670"
      ]
     },
     "execution_count": 14,
     "metadata": {},
     "output_type": "execute_result"
    }
   ],
   "source": [
    "# Notice that transaction token is unique in transactions table but not in events table\n",
    "events.transaction_token.duplicated().sum()"
   ]
  },
  {
   "cell_type": "code",
   "execution_count": 15,
   "id": "47fed75a",
   "metadata": {},
   "outputs": [
    {
     "data": {
      "text/html": [
       "<div>\n",
       "<style scoped>\n",
       "    .dataframe tbody tr th:only-of-type {\n",
       "        vertical-align: middle;\n",
       "    }\n",
       "\n",
       "    .dataframe tbody tr th {\n",
       "        vertical-align: top;\n",
       "    }\n",
       "\n",
       "    .dataframe thead th {\n",
       "        text-align: right;\n",
       "    }\n",
       "</style>\n",
       "<table border=\"1\" class=\"dataframe\">\n",
       "  <thead>\n",
       "    <tr style=\"text-align: right;\">\n",
       "      <th></th>\n",
       "      <th>event_id</th>\n",
       "      <th>user_id</th>\n",
       "      <th>event_date</th>\n",
       "      <th>category</th>\n",
       "      <th>action</th>\n",
       "      <th>event_type</th>\n",
       "      <th>transaction_token</th>\n",
       "      <th>tracking_data</th>\n",
       "      <th>session_id</th>\n",
       "      <th>topic_id</th>\n",
       "      <th>session_closed</th>\n",
       "      <th>session_type</th>\n",
       "      <th>session_accepted</th>\n",
       "    </tr>\n",
       "  </thead>\n",
       "  <tbody>\n",
       "    <tr>\n",
       "      <th>2979</th>\n",
       "      <td>3261</td>\n",
       "      <td>388487</td>\n",
       "      <td>2021-05-23 09:42:09.652</td>\n",
       "      <td>TASK</td>\n",
       "      <td>SUBMIT_ANSWER</td>\n",
       "      <td>CLICK</td>\n",
       "      <td>b956c3d6-bf6a-42a8-acfd-2e5dcabb8642</td>\n",
       "      <td>NaN</td>\n",
       "      <td>34555.0</td>\n",
       "      <td>1007.0</td>\n",
       "      <td>1.0</td>\n",
       "      <td>1.0</td>\n",
       "      <td>1.0</td>\n",
       "    </tr>\n",
       "    <tr>\n",
       "      <th>2980</th>\n",
       "      <td>3262</td>\n",
       "      <td>388487</td>\n",
       "      <td>2021-05-23 09:42:13.244</td>\n",
       "      <td>TASK</td>\n",
       "      <td>SUBMIT_ANSWER</td>\n",
       "      <td>CLICK</td>\n",
       "      <td>b956c3d6-bf6a-42a8-acfd-2e5dcabb8642</td>\n",
       "      <td>NaN</td>\n",
       "      <td>34555.0</td>\n",
       "      <td>1007.0</td>\n",
       "      <td>1.0</td>\n",
       "      <td>1.0</td>\n",
       "      <td>1.0</td>\n",
       "    </tr>\n",
       "    <tr>\n",
       "      <th>2981</th>\n",
       "      <td>3263</td>\n",
       "      <td>388487</td>\n",
       "      <td>2021-05-23 09:42:15.194</td>\n",
       "      <td>TASK</td>\n",
       "      <td>SUBMIT_ANSWER</td>\n",
       "      <td>CLICK</td>\n",
       "      <td>b956c3d6-bf6a-42a8-acfd-2e5dcabb8642</td>\n",
       "      <td>NaN</td>\n",
       "      <td>34555.0</td>\n",
       "      <td>1007.0</td>\n",
       "      <td>1.0</td>\n",
       "      <td>1.0</td>\n",
       "      <td>1.0</td>\n",
       "    </tr>\n",
       "    <tr>\n",
       "      <th>2982</th>\n",
       "      <td>3264</td>\n",
       "      <td>388487</td>\n",
       "      <td>2021-05-23 09:42:34.471</td>\n",
       "      <td>TASK</td>\n",
       "      <td>SUBMIT_ANSWER</td>\n",
       "      <td>CLICK</td>\n",
       "      <td>b956c3d6-bf6a-42a8-acfd-2e5dcabb8642</td>\n",
       "      <td>NaN</td>\n",
       "      <td>34555.0</td>\n",
       "      <td>1007.0</td>\n",
       "      <td>1.0</td>\n",
       "      <td>1.0</td>\n",
       "      <td>1.0</td>\n",
       "    </tr>\n",
       "    <tr>\n",
       "      <th>2983</th>\n",
       "      <td>3265</td>\n",
       "      <td>388487</td>\n",
       "      <td>2021-05-23 09:42:36.972</td>\n",
       "      <td>TASK</td>\n",
       "      <td>SUBMIT_ANSWER</td>\n",
       "      <td>CLICK</td>\n",
       "      <td>b956c3d6-bf6a-42a8-acfd-2e5dcabb8642</td>\n",
       "      <td>NaN</td>\n",
       "      <td>34555.0</td>\n",
       "      <td>1007.0</td>\n",
       "      <td>1.0</td>\n",
       "      <td>1.0</td>\n",
       "      <td>1.0</td>\n",
       "    </tr>\n",
       "    <tr>\n",
       "      <th>2984</th>\n",
       "      <td>3266</td>\n",
       "      <td>388487</td>\n",
       "      <td>2021-05-23 09:42:38.103</td>\n",
       "      <td>TASK</td>\n",
       "      <td>SUBMIT_ANSWER</td>\n",
       "      <td>CLICK</td>\n",
       "      <td>b956c3d6-bf6a-42a8-acfd-2e5dcabb8642</td>\n",
       "      <td>NaN</td>\n",
       "      <td>34555.0</td>\n",
       "      <td>1007.0</td>\n",
       "      <td>1.0</td>\n",
       "      <td>1.0</td>\n",
       "      <td>1.0</td>\n",
       "    </tr>\n",
       "    <tr>\n",
       "      <th>2985</th>\n",
       "      <td>3267</td>\n",
       "      <td>388487</td>\n",
       "      <td>2021-05-23 09:43:05.609</td>\n",
       "      <td>TASK</td>\n",
       "      <td>SUBMIT_ANSWER</td>\n",
       "      <td>CLICK</td>\n",
       "      <td>b956c3d6-bf6a-42a8-acfd-2e5dcabb8642</td>\n",
       "      <td>NaN</td>\n",
       "      <td>34555.0</td>\n",
       "      <td>1007.0</td>\n",
       "      <td>1.0</td>\n",
       "      <td>1.0</td>\n",
       "      <td>1.0</td>\n",
       "    </tr>\n",
       "    <tr>\n",
       "      <th>2986</th>\n",
       "      <td>3268</td>\n",
       "      <td>388487</td>\n",
       "      <td>2021-05-23 09:43:07.700</td>\n",
       "      <td>TASK</td>\n",
       "      <td>SUBMIT_ANSWER</td>\n",
       "      <td>CLICK</td>\n",
       "      <td>b956c3d6-bf6a-42a8-acfd-2e5dcabb8642</td>\n",
       "      <td>NaN</td>\n",
       "      <td>34555.0</td>\n",
       "      <td>1007.0</td>\n",
       "      <td>1.0</td>\n",
       "      <td>1.0</td>\n",
       "      <td>1.0</td>\n",
       "    </tr>\n",
       "    <tr>\n",
       "      <th>3002</th>\n",
       "      <td>3284</td>\n",
       "      <td>388487</td>\n",
       "      <td>2021-05-23 09:45:47.132</td>\n",
       "      <td>TASK</td>\n",
       "      <td>SUBMIT_ANSWER</td>\n",
       "      <td>CLICK</td>\n",
       "      <td>3aa8821b-4c9c-4122-9c5b-d98324909382</td>\n",
       "      <td>NaN</td>\n",
       "      <td>34557.0</td>\n",
       "      <td>1007.0</td>\n",
       "      <td>1.0</td>\n",
       "      <td>1.0</td>\n",
       "      <td>1.0</td>\n",
       "    </tr>\n",
       "    <tr>\n",
       "      <th>3008</th>\n",
       "      <td>3290</td>\n",
       "      <td>388487</td>\n",
       "      <td>2021-05-23 09:46:47.966</td>\n",
       "      <td>TASK</td>\n",
       "      <td>SUBMIT_ANSWER</td>\n",
       "      <td>CLICK</td>\n",
       "      <td>ee9a28ca-f77a-4ae9-83b3-9c2bc7a8a8d5</td>\n",
       "      <td>NaN</td>\n",
       "      <td>34558.0</td>\n",
       "      <td>1007.0</td>\n",
       "      <td>1.0</td>\n",
       "      <td>1.0</td>\n",
       "      <td>1.0</td>\n",
       "    </tr>\n",
       "  </tbody>\n",
       "</table>\n",
       "</div>"
      ],
      "text/plain": [
       "      event_id  user_id               event_date category         action  \\\n",
       "2979      3261   388487  2021-05-23 09:42:09.652     TASK  SUBMIT_ANSWER   \n",
       "2980      3262   388487  2021-05-23 09:42:13.244     TASK  SUBMIT_ANSWER   \n",
       "2981      3263   388487  2021-05-23 09:42:15.194     TASK  SUBMIT_ANSWER   \n",
       "2982      3264   388487  2021-05-23 09:42:34.471     TASK  SUBMIT_ANSWER   \n",
       "2983      3265   388487  2021-05-23 09:42:36.972     TASK  SUBMIT_ANSWER   \n",
       "2984      3266   388487  2021-05-23 09:42:38.103     TASK  SUBMIT_ANSWER   \n",
       "2985      3267   388487  2021-05-23 09:43:05.609     TASK  SUBMIT_ANSWER   \n",
       "2986      3268   388487  2021-05-23 09:43:07.700     TASK  SUBMIT_ANSWER   \n",
       "3002      3284   388487  2021-05-23 09:45:47.132     TASK  SUBMIT_ANSWER   \n",
       "3008      3290   388487  2021-05-23 09:46:47.966     TASK  SUBMIT_ANSWER   \n",
       "\n",
       "     event_type                     transaction_token tracking_data  \\\n",
       "2979      CLICK  b956c3d6-bf6a-42a8-acfd-2e5dcabb8642           NaN   \n",
       "2980      CLICK  b956c3d6-bf6a-42a8-acfd-2e5dcabb8642           NaN   \n",
       "2981      CLICK  b956c3d6-bf6a-42a8-acfd-2e5dcabb8642           NaN   \n",
       "2982      CLICK  b956c3d6-bf6a-42a8-acfd-2e5dcabb8642           NaN   \n",
       "2983      CLICK  b956c3d6-bf6a-42a8-acfd-2e5dcabb8642           NaN   \n",
       "2984      CLICK  b956c3d6-bf6a-42a8-acfd-2e5dcabb8642           NaN   \n",
       "2985      CLICK  b956c3d6-bf6a-42a8-acfd-2e5dcabb8642           NaN   \n",
       "2986      CLICK  b956c3d6-bf6a-42a8-acfd-2e5dcabb8642           NaN   \n",
       "3002      CLICK  3aa8821b-4c9c-4122-9c5b-d98324909382           NaN   \n",
       "3008      CLICK  ee9a28ca-f77a-4ae9-83b3-9c2bc7a8a8d5           NaN   \n",
       "\n",
       "      session_id  topic_id  session_closed  session_type  session_accepted  \n",
       "2979     34555.0    1007.0             1.0           1.0               1.0  \n",
       "2980     34555.0    1007.0             1.0           1.0               1.0  \n",
       "2981     34555.0    1007.0             1.0           1.0               1.0  \n",
       "2982     34555.0    1007.0             1.0           1.0               1.0  \n",
       "2983     34555.0    1007.0             1.0           1.0               1.0  \n",
       "2984     34555.0    1007.0             1.0           1.0               1.0  \n",
       "2985     34555.0    1007.0             1.0           1.0               1.0  \n",
       "2986     34555.0    1007.0             1.0           1.0               1.0  \n",
       "3002     34557.0    1007.0             1.0           1.0               1.0  \n",
       "3008     34558.0    1007.0             1.0           1.0               1.0  "
      ]
     },
     "execution_count": 15,
     "metadata": {},
     "output_type": "execute_result"
    }
   ],
   "source": [
    "# does it become unique if we just consider action = 'SUBMIT_ANSWER'?\n",
    "events_submit_ans = events[events.action == 'SUBMIT_ANSWER']\n",
    "events_submit_ans = events_submit_ans[events_submit_ans.transaction_token.duplicated()]\n",
    "events_submit_ans.head(10)\n",
    "# as can be seen below, there are still duplicated transaction tokens, "
   ]
  },
  {
   "cell_type": "code",
   "execution_count": 16,
   "id": "c37bf9b1",
   "metadata": {},
   "outputs": [],
   "source": [
    "# Build a data frame containing one row per user using the 3 dataframes already loaded\n",
    "# Each row will be of form: user_id, gender, num_events, num_questions, percentage_correct, num_reading\n",
    "# The features are defined as follows:\n",
    "# num_questions: total number of questions the student answered(hint: action event=submit answer)\n",
    "# num_events: total number of events of the student(hint: in events table)\n",
    "# percentage_correct: number of correct answers/total number of answers(hint: evaluation=correct). If desired, you may assign a weight of 0.5 to partially correct answers.\n",
    "# num_reading: total number of theory reading events(hint: action event=go to theory)\n",
    "\n",
    "# first create copy of three dataframes with only the columns we need\n",
    "new_users = users[['user_id', 'gender']]\n",
    "new_transactions = transactions[['transaction_token', 'evaluation']]\n",
    "new_events = events[['event_id', 'user_id', 'transaction_token', 'action']]"
   ]
  },
  {
   "cell_type": "code",
   "execution_count": 17,
   "id": "89b59847",
   "metadata": {},
   "outputs": [
    {
     "name": "stdout",
     "output_type": "stream",
     "text": [
      "(11201630, 5)\n"
     ]
    }
   ],
   "source": [
    "# Merge the users and transactions tables\n",
    "users_events = pd.merge(\n",
    "    new_users, new_events, on='user_id', how='left')\n",
    "print(users_events.shape)"
   ]
  },
  {
   "cell_type": "code",
   "execution_count": 18,
   "id": "5bef215f",
   "metadata": {},
   "outputs": [
    {
     "name": "stdout",
     "output_type": "stream",
     "text": [
      "(11201630, 6)\n"
     ]
    },
    {
     "data": {
      "text/html": [
       "<div>\n",
       "<style scoped>\n",
       "    .dataframe tbody tr th:only-of-type {\n",
       "        vertical-align: middle;\n",
       "    }\n",
       "\n",
       "    .dataframe tbody tr th {\n",
       "        vertical-align: top;\n",
       "    }\n",
       "\n",
       "    .dataframe thead th {\n",
       "        text-align: right;\n",
       "    }\n",
       "</style>\n",
       "<table border=\"1\" class=\"dataframe\">\n",
       "  <thead>\n",
       "    <tr style=\"text-align: right;\">\n",
       "      <th></th>\n",
       "      <th>user_id</th>\n",
       "      <th>gender</th>\n",
       "      <th>event_id</th>\n",
       "      <th>transaction_token</th>\n",
       "      <th>action</th>\n",
       "      <th>evaluation</th>\n",
       "    </tr>\n",
       "  </thead>\n",
       "  <tbody>\n",
       "    <tr>\n",
       "      <th>0</th>\n",
       "      <td>387604</td>\n",
       "      <td>NaN</td>\n",
       "      <td>3208.0</td>\n",
       "      <td>09afa151-ee87-4dbe-bb9e-7bef6b92102d</td>\n",
       "      <td>VIEW_QUESTION</td>\n",
       "      <td>NaN</td>\n",
       "    </tr>\n",
       "    <tr>\n",
       "      <th>1</th>\n",
       "      <td>387604</td>\n",
       "      <td>NaN</td>\n",
       "      <td>12285.0</td>\n",
       "      <td>65e13251-bb45-4352-8e84-e06943eabe57</td>\n",
       "      <td>VIEW_QUESTION</td>\n",
       "      <td>NaN</td>\n",
       "    </tr>\n",
       "    <tr>\n",
       "      <th>2</th>\n",
       "      <td>387604</td>\n",
       "      <td>NaN</td>\n",
       "      <td>46712.0</td>\n",
       "      <td>NaN</td>\n",
       "      <td>LOGIN</td>\n",
       "      <td>NaN</td>\n",
       "    </tr>\n",
       "    <tr>\n",
       "      <th>3</th>\n",
       "      <td>387604</td>\n",
       "      <td>NaN</td>\n",
       "      <td>46713.0</td>\n",
       "      <td>01913d53-3d5a-492d-b59f-3cdc4828e098</td>\n",
       "      <td>VIEW_QUESTION</td>\n",
       "      <td>NaN</td>\n",
       "    </tr>\n",
       "    <tr>\n",
       "      <th>4</th>\n",
       "      <td>387604</td>\n",
       "      <td>NaN</td>\n",
       "      <td>46714.0</td>\n",
       "      <td>NaN</td>\n",
       "      <td>NAVIGATE_DASHBOARD</td>\n",
       "      <td>NaN</td>\n",
       "    </tr>\n",
       "    <tr>\n",
       "      <th>5</th>\n",
       "      <td>387604</td>\n",
       "      <td>NaN</td>\n",
       "      <td>46715.0</td>\n",
       "      <td>01913d53-3d5a-492d-b59f-3cdc4828e098</td>\n",
       "      <td>VIEW_QUESTION</td>\n",
       "      <td>NaN</td>\n",
       "    </tr>\n",
       "    <tr>\n",
       "      <th>6</th>\n",
       "      <td>387604</td>\n",
       "      <td>NaN</td>\n",
       "      <td>46716.0</td>\n",
       "      <td>NaN</td>\n",
       "      <td>NAVIGATE_DASHBOARD</td>\n",
       "      <td>NaN</td>\n",
       "    </tr>\n",
       "    <tr>\n",
       "      <th>7</th>\n",
       "      <td>387604</td>\n",
       "      <td>NaN</td>\n",
       "      <td>46717.0</td>\n",
       "      <td>01913d53-3d5a-492d-b59f-3cdc4828e098</td>\n",
       "      <td>VIEW_QUESTION</td>\n",
       "      <td>NaN</td>\n",
       "    </tr>\n",
       "    <tr>\n",
       "      <th>8</th>\n",
       "      <td>387604</td>\n",
       "      <td>NaN</td>\n",
       "      <td>46718.0</td>\n",
       "      <td>NaN</td>\n",
       "      <td>NAVIGATE_DASHBOARD</td>\n",
       "      <td>NaN</td>\n",
       "    </tr>\n",
       "    <tr>\n",
       "      <th>9</th>\n",
       "      <td>387604</td>\n",
       "      <td>NaN</td>\n",
       "      <td>60148.0</td>\n",
       "      <td>NaN</td>\n",
       "      <td>NAVIGATE_DASHBOARD</td>\n",
       "      <td>NaN</td>\n",
       "    </tr>\n",
       "  </tbody>\n",
       "</table>\n",
       "</div>"
      ],
      "text/plain": [
       "   user_id gender  event_id                     transaction_token  \\\n",
       "0   387604    NaN    3208.0  09afa151-ee87-4dbe-bb9e-7bef6b92102d   \n",
       "1   387604    NaN   12285.0  65e13251-bb45-4352-8e84-e06943eabe57   \n",
       "2   387604    NaN   46712.0                                   NaN   \n",
       "3   387604    NaN   46713.0  01913d53-3d5a-492d-b59f-3cdc4828e098   \n",
       "4   387604    NaN   46714.0                                   NaN   \n",
       "5   387604    NaN   46715.0  01913d53-3d5a-492d-b59f-3cdc4828e098   \n",
       "6   387604    NaN   46716.0                                   NaN   \n",
       "7   387604    NaN   46717.0  01913d53-3d5a-492d-b59f-3cdc4828e098   \n",
       "8   387604    NaN   46718.0                                   NaN   \n",
       "9   387604    NaN   60148.0                                   NaN   \n",
       "\n",
       "               action evaluation  \n",
       "0       VIEW_QUESTION        NaN  \n",
       "1       VIEW_QUESTION        NaN  \n",
       "2               LOGIN        NaN  \n",
       "3       VIEW_QUESTION        NaN  \n",
       "4  NAVIGATE_DASHBOARD        NaN  \n",
       "5       VIEW_QUESTION        NaN  \n",
       "6  NAVIGATE_DASHBOARD        NaN  \n",
       "7       VIEW_QUESTION        NaN  \n",
       "8  NAVIGATE_DASHBOARD        NaN  \n",
       "9  NAVIGATE_DASHBOARD        NaN  "
      ]
     },
     "execution_count": 18,
     "metadata": {},
     "output_type": "execute_result"
    }
   ],
   "source": [
    "# Merge the users_events and transactions tables\n",
    "users_transactions_events = pd.merge(\n",
    "    users_events, new_transactions, on='transaction_token', how='left')\n",
    "print(users_transactions_events.shape)\n",
    "users_transactions_events.head(10)"
   ]
  },
  {
   "cell_type": "code",
   "execution_count": 19,
   "id": "ec6f6621",
   "metadata": {},
   "outputs": [
    {
     "data": {
      "text/plain": [
       "user_id\n",
       "393686    16056\n",
       "387763    15306\n",
       "395243    13167\n",
       "389968    13063\n",
       "396334    10692\n",
       "409887    10223\n",
       "390316    10076\n",
       "411136     9599\n",
       "394970     9486\n",
       "395046     9439\n",
       "Name: event_id, dtype: int64"
      ]
     },
     "execution_count": 19,
     "metadata": {},
     "output_type": "execute_result"
    }
   ],
   "source": [
    "# Find the number of events for each user\n",
    "num_events = users_transactions_events.groupby('user_id').event_id.count()\n",
    "num_events.sort_values(ascending=False).head(10)"
   ]
  },
  {
   "cell_type": "code",
   "execution_count": 20,
   "id": "ec682aca",
   "metadata": {},
   "outputs": [
    {
     "data": {
      "text/plain": [
       "user_id\n",
       "387686    0\n",
       "387700    0\n",
       "387701    0\n",
       "387702    0\n",
       "387703    0\n",
       "387704    0\n",
       "387705    0\n",
       "387707    0\n",
       "387708    0\n",
       "387709    0\n",
       "Name: event_id, dtype: int64"
      ]
     },
     "execution_count": 20,
     "metadata": {},
     "output_type": "execute_result"
    }
   ],
   "source": [
    "# Notice there are users with 0 number of events\n",
    "# Some examples:\n",
    "num_events[num_events == 0].head(10)"
   ]
  },
  {
   "cell_type": "code",
   "execution_count": 21,
   "id": "991fade0",
   "metadata": {},
   "outputs": [
    {
     "data": {
      "text/plain": [
       "user_id\n",
       "415758    1653\n",
       "387727    1534\n",
       "394969    1498\n",
       "394966    1453\n",
       "395046    1451\n",
       "395041    1409\n",
       "411136    1406\n",
       "395243    1269\n",
       "396334    1251\n",
       "394780    1215\n",
       "Name: action, dtype: int64"
      ]
     },
     "execution_count": 21,
     "metadata": {},
     "output_type": "execute_result"
    }
   ],
   "source": [
    "# Find the number of questions for each user\n",
    "# drop all rows except those with action = 'SUBMIT_ANSWER'\n",
    "temp = users_transactions_events[users_transactions_events.action == 'SUBMIT_ANSWER']\n",
    "# remove duplicate transaction tokens\n",
    "# temp = temp.drop_duplicates(subset='transaction_token')\n",
    "# drop rows with evaluation = NaN\n",
    "temp = temp.dropna(subset=['evaluation'])\n",
    "# count the number of rows for each user\n",
    "num_questions = temp.groupby('user_id').action.count()\n",
    "num_questions.sort_values(ascending=False).head(10)"
   ]
  },
  {
   "cell_type": "code",
   "execution_count": 22,
   "id": "e66385a6",
   "metadata": {},
   "outputs": [
    {
     "data": {
      "text/plain": [
       "user_id\n",
       "415758    948\n",
       "394969    868\n",
       "387727    852\n",
       "395041    831\n",
       "395243    779\n",
       "396334    744\n",
       "396341    737\n",
       "395046    720\n",
       "414187    712\n",
       "394780    679\n",
       "Name: evaluation, dtype: int64"
      ]
     },
     "execution_count": 22,
     "metadata": {},
     "output_type": "execute_result"
    }
   ],
   "source": [
    "# Find the number of correct answers for each user\n",
    "num_correct = temp[temp.evaluation == 'CORRECT'].groupby(\n",
    "    'user_id').evaluation.count()\n",
    "num_correct.sort_values(ascending=False).head(10)"
   ]
  },
  {
   "cell_type": "code",
   "execution_count": 23,
   "id": "608e0b13",
   "metadata": {},
   "outputs": [
    {
     "data": {
      "text/plain": [
       "user_id\n",
       "394966    775\n",
       "411136    700\n",
       "414162    645\n",
       "394987    640\n",
       "415758    627\n",
       "395046    607\n",
       "394675    598\n",
       "394761    594\n",
       "394686    567\n",
       "395039    563\n",
       "Name: evaluation, dtype: int64"
      ]
     },
     "execution_count": 23,
     "metadata": {},
     "output_type": "execute_result"
    }
   ],
   "source": [
    "# Find the number of partially correct answers for each user\n",
    "num_partially_correct = temp[temp.evaluation == 'PARTIAL'].groupby(\n",
    "    'user_id').evaluation.count()\n",
    "num_partially_correct.sort_values(ascending=False).head(10)"
   ]
  },
  {
   "cell_type": "code",
   "execution_count": 24,
   "id": "8bb2e93e",
   "metadata": {},
   "outputs": [
    {
     "data": {
      "text/plain": [
       "user_id\n",
       "393686    3000\n",
       "390316    1528\n",
       "411071    1154\n",
       "387763    1136\n",
       "387668     945\n",
       "394171     845\n",
       "388060     800\n",
       "387604     677\n",
       "410688     619\n",
       "402665     576\n",
       "Name: action, dtype: int64"
      ]
     },
     "execution_count": 24,
     "metadata": {},
     "output_type": "execute_result"
    }
   ],
   "source": [
    "# Find the number of theory reading events for each user,\n",
    "# drop all rows except those with action = 'GO_TO_THEORY'\n",
    "temp = users_transactions_events[users_transactions_events.action == 'GO_TO_THEORY']\n",
    "# count the number of rows for each user\n",
    "num_reading = temp.groupby('user_id').action.count()\n",
    "num_reading.sort_values(ascending=False).head(10)"
   ]
  },
  {
   "cell_type": "code",
   "execution_count": 25,
   "id": "29f99c75",
   "metadata": {
    "id": "29f99c75"
   },
   "outputs": [],
   "source": [
    "# Create a new dataframe with the desired features\n",
    "df = pd.DataFrame({'num_events': num_events, 'num_questions': num_questions, 'num_correct': num_correct, 'num_partially_correct': num_partially_correct, 'num_reading': num_reading})\n",
    "df['num_partially_correct'].fillna(0, inplace=True)\n",
    "df['num_correct'].fillna(0, inplace=True)\n",
    "# Calculate the percentage of correct answers\n",
    "df['percentage_correct'] = (df['num_correct'] + 0.5 * df['num_partially_correct']) / df['num_questions']\n",
    "# Drop the columns num_correct and num_partially_correct\n",
    "df = df.drop(['num_correct', 'num_partially_correct'], axis=1)\n",
    "# Fill the NaN values with 0\n",
    "df_without_fill = df.copy()\n",
    "df = df.fillna(0)"
   ]
  },
  {
   "cell_type": "code",
   "execution_count": 26,
   "id": "0ecdb2eb",
   "metadata": {},
   "outputs": [],
   "source": [
    "# now add the gender column\n",
    "new_users = users[['user_id', 'gender']]\n",
    "df = pd.merge(df, new_users, on='user_id', how='left')\n",
    "# replace the NaN gender values with 'unknown'\n",
    "df.gender = df.gender.fillna('unknown')"
   ]
  },
  {
   "cell_type": "code",
   "execution_count": 27,
   "id": "ba9f1eec",
   "metadata": {},
   "outputs": [
    {
     "data": {
      "text/html": [
       "<div>\n",
       "<style scoped>\n",
       "    .dataframe tbody tr th:only-of-type {\n",
       "        vertical-align: middle;\n",
       "    }\n",
       "\n",
       "    .dataframe tbody tr th {\n",
       "        vertical-align: top;\n",
       "    }\n",
       "\n",
       "    .dataframe thead th {\n",
       "        text-align: right;\n",
       "    }\n",
       "</style>\n",
       "<table border=\"1\" class=\"dataframe\">\n",
       "  <thead>\n",
       "    <tr style=\"text-align: right;\">\n",
       "      <th></th>\n",
       "      <th>num_events</th>\n",
       "      <th>num_questions</th>\n",
       "      <th>num_reading</th>\n",
       "      <th>percentage_correct</th>\n",
       "    </tr>\n",
       "    <tr>\n",
       "      <th>user_id</th>\n",
       "      <th></th>\n",
       "      <th></th>\n",
       "      <th></th>\n",
       "      <th></th>\n",
       "    </tr>\n",
       "  </thead>\n",
       "  <tbody>\n",
       "    <tr>\n",
       "      <th>387604</th>\n",
       "      <td>5087</td>\n",
       "      <td>360.0</td>\n",
       "      <td>677.0</td>\n",
       "      <td>0.694444</td>\n",
       "    </tr>\n",
       "    <tr>\n",
       "      <th>387605</th>\n",
       "      <td>3604</td>\n",
       "      <td>238.0</td>\n",
       "      <td>35.0</td>\n",
       "      <td>0.573529</td>\n",
       "    </tr>\n",
       "    <tr>\n",
       "      <th>387608</th>\n",
       "      <td>2359</td>\n",
       "      <td>114.0</td>\n",
       "      <td>58.0</td>\n",
       "      <td>0.850877</td>\n",
       "    </tr>\n",
       "    <tr>\n",
       "      <th>387613</th>\n",
       "      <td>213</td>\n",
       "      <td>4.0</td>\n",
       "      <td>7.0</td>\n",
       "      <td>1.000000</td>\n",
       "    </tr>\n",
       "    <tr>\n",
       "      <th>387615</th>\n",
       "      <td>535</td>\n",
       "      <td>14.0</td>\n",
       "      <td>18.0</td>\n",
       "      <td>0.821429</td>\n",
       "    </tr>\n",
       "    <tr>\n",
       "      <th>387643</th>\n",
       "      <td>1053</td>\n",
       "      <td>84.0</td>\n",
       "      <td>31.0</td>\n",
       "      <td>0.821429</td>\n",
       "    </tr>\n",
       "    <tr>\n",
       "      <th>387644</th>\n",
       "      <td>3113</td>\n",
       "      <td>146.0</td>\n",
       "      <td>479.0</td>\n",
       "      <td>0.845890</td>\n",
       "    </tr>\n",
       "    <tr>\n",
       "      <th>387650</th>\n",
       "      <td>4211</td>\n",
       "      <td>63.0</td>\n",
       "      <td>24.0</td>\n",
       "      <td>0.674603</td>\n",
       "    </tr>\n",
       "    <tr>\n",
       "      <th>387655</th>\n",
       "      <td>19</td>\n",
       "      <td>NaN</td>\n",
       "      <td>NaN</td>\n",
       "      <td>NaN</td>\n",
       "    </tr>\n",
       "    <tr>\n",
       "      <th>387666</th>\n",
       "      <td>2016</td>\n",
       "      <td>200.0</td>\n",
       "      <td>34.0</td>\n",
       "      <td>0.587500</td>\n",
       "    </tr>\n",
       "  </tbody>\n",
       "</table>\n",
       "</div>"
      ],
      "text/plain": [
       "         num_events  num_questions  num_reading  percentage_correct\n",
       "user_id                                                            \n",
       "387604         5087          360.0        677.0            0.694444\n",
       "387605         3604          238.0         35.0            0.573529\n",
       "387608         2359          114.0         58.0            0.850877\n",
       "387613          213            4.0          7.0            1.000000\n",
       "387615          535           14.0         18.0            0.821429\n",
       "387643         1053           84.0         31.0            0.821429\n",
       "387644         3113          146.0        479.0            0.845890\n",
       "387650         4211           63.0         24.0            0.674603\n",
       "387655           19            NaN          NaN                 NaN\n",
       "387666         2016          200.0         34.0            0.587500"
      ]
     },
     "execution_count": 27,
     "metadata": {},
     "output_type": "execute_result"
    }
   ],
   "source": [
    "df_without_fill.head(10)"
   ]
  },
  {
   "cell_type": "code",
   "execution_count": 28,
   "id": "a79931cb",
   "metadata": {},
   "outputs": [
    {
     "data": {
      "text/html": [
       "<div>\n",
       "<style scoped>\n",
       "    .dataframe tbody tr th:only-of-type {\n",
       "        vertical-align: middle;\n",
       "    }\n",
       "\n",
       "    .dataframe tbody tr th {\n",
       "        vertical-align: top;\n",
       "    }\n",
       "\n",
       "    .dataframe thead th {\n",
       "        text-align: right;\n",
       "    }\n",
       "</style>\n",
       "<table border=\"1\" class=\"dataframe\">\n",
       "  <thead>\n",
       "    <tr style=\"text-align: right;\">\n",
       "      <th></th>\n",
       "      <th>user_id</th>\n",
       "      <th>num_events</th>\n",
       "      <th>num_questions</th>\n",
       "      <th>num_reading</th>\n",
       "      <th>percentage_correct</th>\n",
       "      <th>gender</th>\n",
       "    </tr>\n",
       "  </thead>\n",
       "  <tbody>\n",
       "    <tr>\n",
       "      <th>0</th>\n",
       "      <td>387604</td>\n",
       "      <td>5087</td>\n",
       "      <td>360.0</td>\n",
       "      <td>677.0</td>\n",
       "      <td>0.694444</td>\n",
       "      <td>unknown</td>\n",
       "    </tr>\n",
       "    <tr>\n",
       "      <th>1</th>\n",
       "      <td>387605</td>\n",
       "      <td>3604</td>\n",
       "      <td>238.0</td>\n",
       "      <td>35.0</td>\n",
       "      <td>0.573529</td>\n",
       "      <td>unknown</td>\n",
       "    </tr>\n",
       "    <tr>\n",
       "      <th>2</th>\n",
       "      <td>387608</td>\n",
       "      <td>2359</td>\n",
       "      <td>114.0</td>\n",
       "      <td>58.0</td>\n",
       "      <td>0.850877</td>\n",
       "      <td>unknown</td>\n",
       "    </tr>\n",
       "    <tr>\n",
       "      <th>3</th>\n",
       "      <td>387613</td>\n",
       "      <td>213</td>\n",
       "      <td>4.0</td>\n",
       "      <td>7.0</td>\n",
       "      <td>1.000000</td>\n",
       "      <td>unknown</td>\n",
       "    </tr>\n",
       "    <tr>\n",
       "      <th>4</th>\n",
       "      <td>387615</td>\n",
       "      <td>535</td>\n",
       "      <td>14.0</td>\n",
       "      <td>18.0</td>\n",
       "      <td>0.821429</td>\n",
       "      <td>MALE</td>\n",
       "    </tr>\n",
       "    <tr>\n",
       "      <th>5</th>\n",
       "      <td>387643</td>\n",
       "      <td>1053</td>\n",
       "      <td>84.0</td>\n",
       "      <td>31.0</td>\n",
       "      <td>0.821429</td>\n",
       "      <td>unknown</td>\n",
       "    </tr>\n",
       "    <tr>\n",
       "      <th>6</th>\n",
       "      <td>387644</td>\n",
       "      <td>3113</td>\n",
       "      <td>146.0</td>\n",
       "      <td>479.0</td>\n",
       "      <td>0.845890</td>\n",
       "      <td>unknown</td>\n",
       "    </tr>\n",
       "    <tr>\n",
       "      <th>7</th>\n",
       "      <td>387650</td>\n",
       "      <td>4211</td>\n",
       "      <td>63.0</td>\n",
       "      <td>24.0</td>\n",
       "      <td>0.674603</td>\n",
       "      <td>unknown</td>\n",
       "    </tr>\n",
       "    <tr>\n",
       "      <th>8</th>\n",
       "      <td>387655</td>\n",
       "      <td>19</td>\n",
       "      <td>0.0</td>\n",
       "      <td>0.0</td>\n",
       "      <td>0.000000</td>\n",
       "      <td>FEMALE</td>\n",
       "    </tr>\n",
       "    <tr>\n",
       "      <th>9</th>\n",
       "      <td>387666</td>\n",
       "      <td>2016</td>\n",
       "      <td>200.0</td>\n",
       "      <td>34.0</td>\n",
       "      <td>0.587500</td>\n",
       "      <td>MALE</td>\n",
       "    </tr>\n",
       "  </tbody>\n",
       "</table>\n",
       "</div>"
      ],
      "text/plain": [
       "   user_id  num_events  num_questions  num_reading  percentage_correct  \\\n",
       "0   387604        5087          360.0        677.0            0.694444   \n",
       "1   387605        3604          238.0         35.0            0.573529   \n",
       "2   387608        2359          114.0         58.0            0.850877   \n",
       "3   387613         213            4.0          7.0            1.000000   \n",
       "4   387615         535           14.0         18.0            0.821429   \n",
       "5   387643        1053           84.0         31.0            0.821429   \n",
       "6   387644        3113          146.0        479.0            0.845890   \n",
       "7   387650        4211           63.0         24.0            0.674603   \n",
       "8   387655          19            0.0          0.0            0.000000   \n",
       "9   387666        2016          200.0         34.0            0.587500   \n",
       "\n",
       "    gender  \n",
       "0  unknown  \n",
       "1  unknown  \n",
       "2  unknown  \n",
       "3  unknown  \n",
       "4     MALE  \n",
       "5  unknown  \n",
       "6  unknown  \n",
       "7  unknown  \n",
       "8   FEMALE  \n",
       "9     MALE  "
      ]
     },
     "execution_count": 28,
     "metadata": {},
     "output_type": "execute_result"
    }
   ],
   "source": [
    "df.head(10)"
   ]
  },
  {
   "cell_type": "code",
   "execution_count": 29,
   "id": "07ba9be8",
   "metadata": {},
   "outputs": [
    {
     "data": {
      "text/html": [
       "<div>\n",
       "<style scoped>\n",
       "    .dataframe tbody tr th:only-of-type {\n",
       "        vertical-align: middle;\n",
       "    }\n",
       "\n",
       "    .dataframe tbody tr th {\n",
       "        vertical-align: top;\n",
       "    }\n",
       "\n",
       "    .dataframe thead th {\n",
       "        text-align: right;\n",
       "    }\n",
       "</style>\n",
       "<table border=\"1\" class=\"dataframe\">\n",
       "  <thead>\n",
       "    <tr style=\"text-align: right;\">\n",
       "      <th></th>\n",
       "      <th>user_id</th>\n",
       "      <th>num_events</th>\n",
       "      <th>num_questions</th>\n",
       "      <th>num_reading</th>\n",
       "      <th>percentage_correct</th>\n",
       "      <th>gender</th>\n",
       "    </tr>\n",
       "  </thead>\n",
       "  <tbody>\n",
       "    <tr>\n",
       "      <th>27</th>\n",
       "      <td>387686</td>\n",
       "      <td>0</td>\n",
       "      <td>0.0</td>\n",
       "      <td>0.0</td>\n",
       "      <td>0.0</td>\n",
       "      <td>unknown</td>\n",
       "    </tr>\n",
       "    <tr>\n",
       "      <th>28</th>\n",
       "      <td>387700</td>\n",
       "      <td>0</td>\n",
       "      <td>0.0</td>\n",
       "      <td>0.0</td>\n",
       "      <td>0.0</td>\n",
       "      <td>unknown</td>\n",
       "    </tr>\n",
       "    <tr>\n",
       "      <th>29</th>\n",
       "      <td>387701</td>\n",
       "      <td>0</td>\n",
       "      <td>0.0</td>\n",
       "      <td>0.0</td>\n",
       "      <td>0.0</td>\n",
       "      <td>unknown</td>\n",
       "    </tr>\n",
       "    <tr>\n",
       "      <th>30</th>\n",
       "      <td>387702</td>\n",
       "      <td>0</td>\n",
       "      <td>0.0</td>\n",
       "      <td>0.0</td>\n",
       "      <td>0.0</td>\n",
       "      <td>unknown</td>\n",
       "    </tr>\n",
       "    <tr>\n",
       "      <th>31</th>\n",
       "      <td>387703</td>\n",
       "      <td>0</td>\n",
       "      <td>0.0</td>\n",
       "      <td>0.0</td>\n",
       "      <td>0.0</td>\n",
       "      <td>unknown</td>\n",
       "    </tr>\n",
       "    <tr>\n",
       "      <th>32</th>\n",
       "      <td>387704</td>\n",
       "      <td>0</td>\n",
       "      <td>0.0</td>\n",
       "      <td>0.0</td>\n",
       "      <td>0.0</td>\n",
       "      <td>unknown</td>\n",
       "    </tr>\n",
       "    <tr>\n",
       "      <th>33</th>\n",
       "      <td>387705</td>\n",
       "      <td>0</td>\n",
       "      <td>0.0</td>\n",
       "      <td>0.0</td>\n",
       "      <td>0.0</td>\n",
       "      <td>unknown</td>\n",
       "    </tr>\n",
       "    <tr>\n",
       "      <th>35</th>\n",
       "      <td>387707</td>\n",
       "      <td>0</td>\n",
       "      <td>0.0</td>\n",
       "      <td>0.0</td>\n",
       "      <td>0.0</td>\n",
       "      <td>unknown</td>\n",
       "    </tr>\n",
       "    <tr>\n",
       "      <th>36</th>\n",
       "      <td>387708</td>\n",
       "      <td>0</td>\n",
       "      <td>0.0</td>\n",
       "      <td>0.0</td>\n",
       "      <td>0.0</td>\n",
       "      <td>unknown</td>\n",
       "    </tr>\n",
       "    <tr>\n",
       "      <th>37</th>\n",
       "      <td>387709</td>\n",
       "      <td>0</td>\n",
       "      <td>0.0</td>\n",
       "      <td>0.0</td>\n",
       "      <td>0.0</td>\n",
       "      <td>unknown</td>\n",
       "    </tr>\n",
       "  </tbody>\n",
       "</table>\n",
       "</div>"
      ],
      "text/plain": [
       "    user_id  num_events  num_questions  num_reading  percentage_correct  \\\n",
       "27   387686           0            0.0          0.0                 0.0   \n",
       "28   387700           0            0.0          0.0                 0.0   \n",
       "29   387701           0            0.0          0.0                 0.0   \n",
       "30   387702           0            0.0          0.0                 0.0   \n",
       "31   387703           0            0.0          0.0                 0.0   \n",
       "32   387704           0            0.0          0.0                 0.0   \n",
       "33   387705           0            0.0          0.0                 0.0   \n",
       "35   387707           0            0.0          0.0                 0.0   \n",
       "36   387708           0            0.0          0.0                 0.0   \n",
       "37   387709           0            0.0          0.0                 0.0   \n",
       "\n",
       "     gender  \n",
       "27  unknown  \n",
       "28  unknown  \n",
       "29  unknown  \n",
       "30  unknown  \n",
       "31  unknown  \n",
       "32  unknown  \n",
       "33  unknown  \n",
       "35  unknown  \n",
       "36  unknown  \n",
       "37  unknown  "
      ]
     },
     "execution_count": 29,
     "metadata": {},
     "output_type": "execute_result"
    }
   ],
   "source": [
    "df[df.num_events == 0].head(10)"
   ]
  },
  {
   "cell_type": "code",
   "execution_count": 30,
   "id": "d497f852",
   "metadata": {},
   "outputs": [
    {
     "data": {
      "text/plain": [
       "0"
      ]
     },
     "execution_count": 30,
     "metadata": {},
     "output_type": "execute_result"
    }
   ],
   "source": [
    "# check if any user id is duplicated\n",
    "df.user_id.duplicated().sum()\n",
    "# all seems to be fine"
   ]
  },
  {
   "cell_type": "code",
   "execution_count": 31,
   "id": "3e8417c9",
   "metadata": {},
   "outputs": [
    {
     "data": {
      "text/plain": [
       "30929"
      ]
     },
     "execution_count": 31,
     "metadata": {},
     "output_type": "execute_result"
    }
   ],
   "source": [
    "df.user_id.nunique() # And we have all the users. Great!"
   ]
  },
  {
   "cell_type": "markdown",
   "id": "c7648e7d-45ff-40ef-8fc9-ccfba1ba7229",
   "metadata": {
    "id": "c7648e7d-45ff-40ef-8fc9-ccfba1ba7229"
   },
   "source": [
    "b) Perform a univariate analysis (including descriptive statistics and visualizations) for the five features (gender, num_events, num_questions, percentage_correct, num_reading) of your dataframe. Please check the lecture slides regarding information on how to perform a univariate analysis for categorical and numerical features. Discuss your results: how are the features distributed? Are there any anomalities?"
   ]
  },
  {
   "cell_type": "code",
   "execution_count": 32,
   "id": "d4f3c36a",
   "metadata": {},
   "outputs": [
    {
     "data": {
      "text/html": [
       "<div>\n",
       "<style scoped>\n",
       "    .dataframe tbody tr th:only-of-type {\n",
       "        vertical-align: middle;\n",
       "    }\n",
       "\n",
       "    .dataframe tbody tr th {\n",
       "        vertical-align: top;\n",
       "    }\n",
       "\n",
       "    .dataframe thead th {\n",
       "        text-align: right;\n",
       "    }\n",
       "</style>\n",
       "<table border=\"1\" class=\"dataframe\">\n",
       "  <thead>\n",
       "    <tr style=\"text-align: right;\">\n",
       "      <th></th>\n",
       "      <th>num_events</th>\n",
       "      <th>num_questions</th>\n",
       "      <th>num_reading</th>\n",
       "      <th>percentage_correct</th>\n",
       "    </tr>\n",
       "  </thead>\n",
       "  <tbody>\n",
       "    <tr>\n",
       "      <th>count</th>\n",
       "      <td>30929.000000</td>\n",
       "      <td>30929.000000</td>\n",
       "      <td>30929.000000</td>\n",
       "      <td>30929.000000</td>\n",
       "    </tr>\n",
       "    <tr>\n",
       "      <th>mean</th>\n",
       "      <td>361.898897</td>\n",
       "      <td>45.305765</td>\n",
       "      <td>6.835591</td>\n",
       "      <td>0.454084</td>\n",
       "    </tr>\n",
       "    <tr>\n",
       "      <th>std</th>\n",
       "      <td>709.224347</td>\n",
       "      <td>96.452024</td>\n",
       "      <td>33.725347</td>\n",
       "      <td>0.326415</td>\n",
       "    </tr>\n",
       "    <tr>\n",
       "      <th>min</th>\n",
       "      <td>0.000000</td>\n",
       "      <td>0.000000</td>\n",
       "      <td>0.000000</td>\n",
       "      <td>0.000000</td>\n",
       "    </tr>\n",
       "    <tr>\n",
       "      <th>25%</th>\n",
       "      <td>0.000000</td>\n",
       "      <td>0.000000</td>\n",
       "      <td>0.000000</td>\n",
       "      <td>0.000000</td>\n",
       "    </tr>\n",
       "    <tr>\n",
       "      <th>50%</th>\n",
       "      <td>136.000000</td>\n",
       "      <td>13.000000</td>\n",
       "      <td>0.000000</td>\n",
       "      <td>0.593750</td>\n",
       "    </tr>\n",
       "    <tr>\n",
       "      <th>75%</th>\n",
       "      <td>402.000000</td>\n",
       "      <td>49.000000</td>\n",
       "      <td>3.000000</td>\n",
       "      <td>0.700000</td>\n",
       "    </tr>\n",
       "    <tr>\n",
       "      <th>max</th>\n",
       "      <td>16056.000000</td>\n",
       "      <td>1653.000000</td>\n",
       "      <td>3000.000000</td>\n",
       "      <td>1.000000</td>\n",
       "    </tr>\n",
       "  </tbody>\n",
       "</table>\n",
       "</div>"
      ],
      "text/plain": [
       "         num_events  num_questions   num_reading  percentage_correct\n",
       "count  30929.000000   30929.000000  30929.000000        30929.000000\n",
       "mean     361.898897      45.305765      6.835591            0.454084\n",
       "std      709.224347      96.452024     33.725347            0.326415\n",
       "min        0.000000       0.000000      0.000000            0.000000\n",
       "25%        0.000000       0.000000      0.000000            0.000000\n",
       "50%      136.000000      13.000000      0.000000            0.593750\n",
       "75%      402.000000      49.000000      3.000000            0.700000\n",
       "max    16056.000000    1653.000000   3000.000000            1.000000"
      ]
     },
     "execution_count": 32,
     "metadata": {},
     "output_type": "execute_result"
    }
   ],
   "source": [
    "# df describe all columns except user id\n",
    "df[df.columns[1:]].describe()"
   ]
  },
  {
   "cell_type": "code",
   "execution_count": 238,
   "id": "64a6b483",
   "metadata": {},
   "outputs": [
    {
     "data": {
      "text/html": [
       "<div>\n",
       "<style scoped>\n",
       "    .dataframe tbody tr th:only-of-type {\n",
       "        vertical-align: middle;\n",
       "    }\n",
       "\n",
       "    .dataframe tbody tr th {\n",
       "        vertical-align: top;\n",
       "    }\n",
       "\n",
       "    .dataframe thead th {\n",
       "        text-align: right;\n",
       "    }\n",
       "</style>\n",
       "<table border=\"1\" class=\"dataframe\">\n",
       "  <thead>\n",
       "    <tr style=\"text-align: right;\">\n",
       "      <th></th>\n",
       "      <th>num_events</th>\n",
       "      <th>num_questions</th>\n",
       "      <th>num_reading</th>\n",
       "      <th>percentage_correct</th>\n",
       "      <th>ratio_window_visible</th>\n",
       "      <th>num_review_task</th>\n",
       "    </tr>\n",
       "  </thead>\n",
       "  <tbody>\n",
       "    <tr>\n",
       "      <th>count</th>\n",
       "      <td>22470.000000</td>\n",
       "      <td>22470.000000</td>\n",
       "      <td>22470.000000</td>\n",
       "      <td>22470.000000</td>\n",
       "      <td>21857.000000</td>\n",
       "      <td>22470.000000</td>\n",
       "    </tr>\n",
       "    <tr>\n",
       "      <th>mean</th>\n",
       "      <td>498.138451</td>\n",
       "      <td>62.361460</td>\n",
       "      <td>9.408901</td>\n",
       "      <td>0.625028</td>\n",
       "      <td>0.412730</td>\n",
       "      <td>77.197686</td>\n",
       "    </tr>\n",
       "    <tr>\n",
       "      <th>std</th>\n",
       "      <td>790.250740</td>\n",
       "      <td>108.358963</td>\n",
       "      <td>39.260507</td>\n",
       "      <td>0.199524</td>\n",
       "      <td>0.099550</td>\n",
       "      <td>128.282499</td>\n",
       "    </tr>\n",
       "    <tr>\n",
       "      <th>min</th>\n",
       "      <td>1.000000</td>\n",
       "      <td>0.000000</td>\n",
       "      <td>0.000000</td>\n",
       "      <td>0.000000</td>\n",
       "      <td>0.000000</td>\n",
       "      <td>0.000000</td>\n",
       "    </tr>\n",
       "    <tr>\n",
       "      <th>25%</th>\n",
       "      <td>108.000000</td>\n",
       "      <td>9.000000</td>\n",
       "      <td>0.000000</td>\n",
       "      <td>0.563896</td>\n",
       "      <td>0.392857</td>\n",
       "      <td>13.000000</td>\n",
       "    </tr>\n",
       "    <tr>\n",
       "      <th>50%</th>\n",
       "      <td>249.000000</td>\n",
       "      <td>28.000000</td>\n",
       "      <td>1.000000</td>\n",
       "      <td>0.655172</td>\n",
       "      <td>0.440000</td>\n",
       "      <td>36.000000</td>\n",
       "    </tr>\n",
       "    <tr>\n",
       "      <th>75%</th>\n",
       "      <td>552.000000</td>\n",
       "      <td>68.000000</td>\n",
       "      <td>6.000000</td>\n",
       "      <td>0.738095</td>\n",
       "      <td>0.469697</td>\n",
       "      <td>86.000000</td>\n",
       "    </tr>\n",
       "    <tr>\n",
       "      <th>max</th>\n",
       "      <td>16056.000000</td>\n",
       "      <td>1653.000000</td>\n",
       "      <td>3000.000000</td>\n",
       "      <td>1.000000</td>\n",
       "      <td>1.000000</td>\n",
       "      <td>2487.000000</td>\n",
       "    </tr>\n",
       "  </tbody>\n",
       "</table>\n",
       "</div>"
      ],
      "text/plain": [
       "         num_events  num_questions   num_reading  percentage_correct  \\\n",
       "count  22470.000000   22470.000000  22470.000000        22470.000000   \n",
       "mean     498.138451      62.361460      9.408901            0.625028   \n",
       "std      790.250740     108.358963     39.260507            0.199524   \n",
       "min        1.000000       0.000000      0.000000            0.000000   \n",
       "25%      108.000000       9.000000      0.000000            0.563896   \n",
       "50%      249.000000      28.000000      1.000000            0.655172   \n",
       "75%      552.000000      68.000000      6.000000            0.738095   \n",
       "max    16056.000000    1653.000000   3000.000000            1.000000   \n",
       "\n",
       "       ratio_window_visible  num_review_task  \n",
       "count          21857.000000     22470.000000  \n",
       "mean               0.412730        77.197686  \n",
       "std                0.099550       128.282499  \n",
       "min                0.000000         0.000000  \n",
       "25%                0.392857        13.000000  \n",
       "50%                0.440000        36.000000  \n",
       "75%                0.469697        86.000000  \n",
       "max                1.000000      2487.000000  "
      ]
     },
     "execution_count": 238,
     "metadata": {},
     "output_type": "execute_result"
    }
   ],
   "source": [
    "# df describe all columns except user id\n",
    "df_temp_cols = df[df.columns[1:]]\n",
    "df_temp_cols[df_temp_cols.num_events > 0].describe()"
   ]
  },
  {
   "cell_type": "code",
   "execution_count": 33,
   "id": "ccb8f18b",
   "metadata": {},
   "outputs": [
    {
     "data": {
      "text/html": [
       "<div>\n",
       "<style scoped>\n",
       "    .dataframe tbody tr th:only-of-type {\n",
       "        vertical-align: middle;\n",
       "    }\n",
       "\n",
       "    .dataframe tbody tr th {\n",
       "        vertical-align: top;\n",
       "    }\n",
       "\n",
       "    .dataframe thead th {\n",
       "        text-align: right;\n",
       "    }\n",
       "</style>\n",
       "<table border=\"1\" class=\"dataframe\">\n",
       "  <thead>\n",
       "    <tr style=\"text-align: right;\">\n",
       "      <th></th>\n",
       "      <th>num_events</th>\n",
       "      <th>num_questions</th>\n",
       "      <th>num_reading</th>\n",
       "      <th>percentage_correct</th>\n",
       "    </tr>\n",
       "  </thead>\n",
       "  <tbody>\n",
       "    <tr>\n",
       "      <th>count</th>\n",
       "      <td>30929.000000</td>\n",
       "      <td>21433.000000</td>\n",
       "      <td>11565.000000</td>\n",
       "      <td>21433.000000</td>\n",
       "    </tr>\n",
       "    <tr>\n",
       "      <th>mean</th>\n",
       "      <td>361.898897</td>\n",
       "      <td>65.378715</td>\n",
       "      <td>18.280847</td>\n",
       "      <td>0.655269</td>\n",
       "    </tr>\n",
       "    <tr>\n",
       "      <th>std</th>\n",
       "      <td>709.224347</td>\n",
       "      <td>110.056889</td>\n",
       "      <td>53.223441</td>\n",
       "      <td>0.148052</td>\n",
       "    </tr>\n",
       "    <tr>\n",
       "      <th>min</th>\n",
       "      <td>0.000000</td>\n",
       "      <td>1.000000</td>\n",
       "      <td>1.000000</td>\n",
       "      <td>0.000000</td>\n",
       "    </tr>\n",
       "    <tr>\n",
       "      <th>25%</th>\n",
       "      <td>0.000000</td>\n",
       "      <td>11.000000</td>\n",
       "      <td>2.000000</td>\n",
       "      <td>0.583333</td>\n",
       "    </tr>\n",
       "    <tr>\n",
       "      <th>50%</th>\n",
       "      <td>136.000000</td>\n",
       "      <td>30.000000</td>\n",
       "      <td>6.000000</td>\n",
       "      <td>0.662500</td>\n",
       "    </tr>\n",
       "    <tr>\n",
       "      <th>75%</th>\n",
       "      <td>402.000000</td>\n",
       "      <td>71.000000</td>\n",
       "      <td>16.000000</td>\n",
       "      <td>0.743363</td>\n",
       "    </tr>\n",
       "    <tr>\n",
       "      <th>max</th>\n",
       "      <td>16056.000000</td>\n",
       "      <td>1653.000000</td>\n",
       "      <td>3000.000000</td>\n",
       "      <td>1.000000</td>\n",
       "    </tr>\n",
       "  </tbody>\n",
       "</table>\n",
       "</div>"
      ],
      "text/plain": [
       "         num_events  num_questions   num_reading  percentage_correct\n",
       "count  30929.000000   21433.000000  11565.000000        21433.000000\n",
       "mean     361.898897      65.378715     18.280847            0.655269\n",
       "std      709.224347     110.056889     53.223441            0.148052\n",
       "min        0.000000       1.000000      1.000000            0.000000\n",
       "25%        0.000000      11.000000      2.000000            0.583333\n",
       "50%      136.000000      30.000000      6.000000            0.662500\n",
       "75%      402.000000      71.000000     16.000000            0.743363\n",
       "max    16056.000000    1653.000000   3000.000000            1.000000"
      ]
     },
     "execution_count": 33,
     "metadata": {},
     "output_type": "execute_result"
    }
   ],
   "source": [
    "df_without_fill.describe()"
   ]
  },
  {
   "cell_type": "code",
   "execution_count": 34,
   "id": "e95b2689",
   "metadata": {},
   "outputs": [
    {
     "name": "stdout",
     "output_type": "stream",
     "text": [
      "Index(['user_id', 'num_events', 'num_questions', 'num_reading',\n",
      "       'percentage_correct'],\n",
      "      dtype='object')\n"
     ]
    }
   ],
   "source": [
    "continuous_cols = df._get_numeric_data().columns\n",
    "print(continuous_cols)"
   ]
  },
  {
   "cell_type": "code",
   "execution_count": 35,
   "id": "5d0a4c0f",
   "metadata": {},
   "outputs": [
    {
     "name": "stdout",
     "output_type": "stream",
     "text": [
      "['gender']\n"
     ]
    }
   ],
   "source": [
    "categorical_cols = list(set(df.columns) - set(continuous_cols))\n",
    "print(categorical_cols)"
   ]
  },
  {
   "cell_type": "code",
   "execution_count": 36,
   "id": "91734235",
   "metadata": {},
   "outputs": [],
   "source": [
    "df_copy = df.copy()\n",
    "# drop user_id column, as there is no need to visualize it\n",
    "# df_copy = df_copy[df_copy.num_events != 0]\n",
    "df_copy = df_copy.drop('user_id', axis=1)"
   ]
  },
  {
   "cell_type": "code",
   "execution_count": 37,
   "id": "e1d63e93-976a-4585-9675-8b0c3c7661d9",
   "metadata": {
    "id": "e1d63e93-976a-4585-9675-8b0c3c7661d9"
   },
   "outputs": [
    {
     "name": "stdout",
     "output_type": "stream",
     "text": [
      "0 percentage_correct True\n",
      "1 gender False\n"
     ]
    },
    {
     "data": {
      "image/png": "[encoded data removed]",
      "text/plain": [
       "<Figure size 1500x1000 with 2 Axes>"
      ]
     },
     "metadata": {},
     "output_type": "display_data"
    }
   ],
   "source": [
    "fig, axes = plt.subplots(nrows=1, ncols=2, figsize=(15, 10))\n",
    "for i, col in enumerate(['percentage_correct', 'gender']):\n",
    "    print(i,col, col in continuous_cols)\n",
    "    ax = axes[i % 2]\n",
    "    if col in continuous_cols:\n",
    "        sns.histplot(data=df_copy[col], bins=15, ax=ax)\n",
    "    else:\n",
    "        # plot the categorical features\n",
    "        sns.countplot(data=df_copy, x=col, ax=ax)\n",
    "fig.tight_layout()\n",
    "plt.show()\n"
   ]
  },
  {
   "cell_type": "code",
   "execution_count": 38,
   "id": "caf9fe29",
   "metadata": {},
   "outputs": [
    {
     "data": {
      "text/plain": [
       "9686"
      ]
     },
     "execution_count": 38,
     "metadata": {},
     "output_type": "execute_result"
    }
   ],
   "source": [
    "# check how many users have percentage_correct = 0 \n",
    "df_copy[df_copy.percentage_correct == 0].shape[0]"
   ]
  },
  {
   "cell_type": "code",
   "execution_count": 39,
   "id": "8660776c",
   "metadata": {},
   "outputs": [
    {
     "data": {
      "text/plain": [
       "9496"
      ]
     },
     "execution_count": 39,
     "metadata": {},
     "output_type": "execute_result"
    }
   ],
   "source": [
    "df_copy[df_copy.num_questions == 0].shape[0]"
   ]
  },
  {
   "cell_type": "code",
   "execution_count": 40,
   "id": "990c5cd4",
   "metadata": {},
   "outputs": [
    {
     "data": {
      "text/plain": [
       "190"
      ]
     },
     "execution_count": 40,
     "metadata": {},
     "output_type": "execute_result"
    }
   ],
   "source": [
    "df[(df.num_questions > 0) & (df.percentage_correct == 0)].shape[0] # Has answered questions but has not answered any correctly"
   ]
  },
  {
   "cell_type": "code",
   "execution_count": 41,
   "id": "d47274b5",
   "metadata": {},
   "outputs": [
    {
     "data": {
      "text/plain": [
       "8459"
      ]
     },
     "execution_count": 41,
     "metadata": {},
     "output_type": "execute_result"
    }
   ],
   "source": [
    "df[df.num_events == 0].shape[0] # Has not done any events"
   ]
  },
  {
   "cell_type": "code",
   "execution_count": 42,
   "id": "20e3711c",
   "metadata": {},
   "outputs": [
    {
     "data": {
      "text/plain": [
       "1037"
      ]
     },
     "execution_count": 42,
     "metadata": {},
     "output_type": "execute_result"
    }
   ],
   "source": [
    "df[(df.num_questions == 0) & (df.num_events > 0)].shape[0] # Has done events but has not answered any questions"
   ]
  },
  {
   "cell_type": "code",
   "execution_count": 43,
   "id": "cb0234c8",
   "metadata": {},
   "outputs": [
    {
     "data": {
      "text/plain": [
       "9686"
      ]
     },
     "execution_count": 43,
     "metadata": {},
     "output_type": "execute_result"
    }
   ],
   "source": [
    "df[(df.num_questions == 0) & (df.num_events > 0)].shape[0] + df[df.num_events == 0].shape[0] +  df[(df.num_questions > 0) & (df.percentage_correct == 0)].shape[0]\n",
    "# The total number of users who have 0% correct answers are:\n",
    "# Users who have not answered any questions but has done other events: 1037\n",
    "# Users who have not done any events: 8459\n",
    "# Users who have answered questions but has not answered any correctly: 190"
   ]
  },
  {
   "attachments": {},
   "cell_type": "markdown",
   "id": "da9e7a90-47b5-4c5c-8d3f-10e8c8078009",
   "metadata": {
    "id": "da9e7a90-47b5-4c5c-8d3f-10e8c8078009"
   },
   "source": [
    "# Results of Percentage_correct\n",
    "\n",
    "We can clearly see that Percentage_correct follows a gaussian distribution except for the part at 0.0. We can see that this is because of the fillna function we have previously called, because checking the describe function of both df and df_without_fill we can see that for the df variable the percentage correct column has 30929 many non NaN rows, but df_without_fill has 21433 many rows and notice below that it gives 9496. Which is the large portion of the 0% correct answers\n",
    "\n",
    "**Checking the analysis above we can clearly see that the users who have answered questions but have 0% correct are in reality a really small minority(only 190). So the 9496 of the 9686 are just users who have not interacted with the problems at all. So the percentage_correct feature really does follow a gaussian with mean around 0.65%**\n",
    "\n",
    "Below you can find proof that when only considering the users that have answered questions, the percentage correct feature follows a gaussian distribution\n",
    "\n",
    "# Results of gender\n",
    "\n",
    "There isn't much to say on this feature except for the fact that if we only consider the users who have interacted with the platform, the 'unknown' count decreases to 1471, but as can be seen below even then the number of female users beat the number of male users by quite a margin."
   ]
  },
  {
   "cell_type": "code",
   "execution_count": 207,
   "id": "a604a173",
   "metadata": {},
   "outputs": [
    {
     "data": {
      "text/plain": [
       "<AxesSubplot:xlabel='percentage_correct', ylabel='Count'>"
      ]
     },
     "execution_count": 207,
     "metadata": {},
     "output_type": "execute_result"
    },
    {
     "data": {
      "image/png": "[encoded data removed]",
      "text/plain": [
       "<Figure size 640x480 with 1 Axes>"
      ]
     },
     "metadata": {},
     "output_type": "display_data"
    }
   ],
   "source": [
    "sns.histplot(data=df[df.num_questions > 0], x='percentage_correct', bins=15, kde=True)"
   ]
  },
  {
   "cell_type": "code",
   "execution_count": 154,
   "id": "79e4fd85",
   "metadata": {},
   "outputs": [
    {
     "data": {
      "text/plain": [
       "1471"
      ]
     },
     "execution_count": 154,
     "metadata": {},
     "output_type": "execute_result"
    }
   ],
   "source": [
    "df[(df.num_events > 0) & (df.gender == 'unknown')].shape[0]"
   ]
  },
  {
   "cell_type": "code",
   "execution_count": 159,
   "id": "f627c720",
   "metadata": {},
   "outputs": [
    {
     "data": {
      "text/plain": [
       "<AxesSubplot:xlabel='gender', ylabel='count'>"
      ]
     },
     "execution_count": 159,
     "metadata": {},
     "output_type": "execute_result"
    },
    {
     "data": {
      "image/png": "[encoded data removed]",
      "text/plain": [
       "<Figure size 640x480 with 1 Axes>"
      ]
     },
     "metadata": {},
     "output_type": "display_data"
    }
   ],
   "source": [
    "# plot the categorical features\n",
    "sns.countplot(data=df[df.num_events > 0], x='gender')"
   ]
  },
  {
   "attachments": {},
   "cell_type": "markdown",
   "id": "eaaa0b63",
   "metadata": {},
   "source": [
    "# Moving on to the remaining 3 features below"
   ]
  },
  {
   "cell_type": "code",
   "execution_count": 44,
   "id": "0f08bf88",
   "metadata": {},
   "outputs": [
    {
     "name": "stdout",
     "output_type": "stream",
     "text": [
      "0 num_events True 8459\n",
      "1 num_questions True 9496\n",
      "2 num_reading True 19364\n"
     ]
    },
    {
     "data": {
      "image/png": "[encoded data removed]",
      "text/plain": [
       "<Figure size 1500x1000 with 3 Axes>"
      ]
     },
     "metadata": {},
     "output_type": "display_data"
    }
   ],
   "source": [
    "fig, axes = plt.subplots(nrows=1, ncols=3, figsize=(15, 10))\n",
    "# drop rows with 0 events\n",
    "for i, col in enumerate(['num_events', 'num_questions', 'num_reading']):\n",
    "    print(i,col, col in continuous_cols, df_copy[df_copy[col]==0].shape[0])\n",
    "    ax = axes[i % 3]\n",
    "    ax.set_yscale('log')\n",
    "    sns.histplot(data=df_copy[col], bins=15, ax=ax)\n",
    "fig.tight_layout()\n",
    "plt.show()"
   ]
  },
  {
   "cell_type": "code",
   "execution_count": 88,
   "id": "a395fe6c",
   "metadata": {},
   "outputs": [
    {
     "data": {
      "text/plain": [
       "21536"
      ]
     },
     "execution_count": 88,
     "metadata": {},
     "output_type": "execute_result"
    }
   ],
   "source": [
    "# Count the number of users who have num_events between 10000 and 20000\n",
    "df_copy[(df_copy.num_events > 0) & (df_copy.num_events < 2000)].shape[0]"
   ]
  },
  {
   "cell_type": "code",
   "execution_count": 46,
   "id": "ccbd2def",
   "metadata": {},
   "outputs": [
    {
     "data": {
      "text/plain": [
       "4985     16056\n",
       "88       15306\n",
       "6271     13167\n",
       "1897     13063\n",
       "7201     10692\n",
       "17332    10223\n",
       "2220     10076\n",
       "18328     9599\n",
       "6050      9486\n",
       "6116      9439\n",
       "6046      9423\n",
       "54        9067\n",
       "21795     8893\n",
       "5873      8697\n",
       "1062      8683\n",
       "6067      8565\n",
       "5780      8507\n",
       "6049      8392\n",
       "5996      8249\n",
       "12937     8113\n",
       "Name: num_events, dtype: int64"
      ]
     },
     "execution_count": 46,
     "metadata": {},
     "output_type": "execute_result"
    }
   ],
   "source": [
    "df.num_events.sort_values(ascending=False).head(20)"
   ]
  },
  {
   "attachments": {},
   "cell_type": "markdown",
   "id": "0332e486",
   "metadata": {},
   "source": [
    "Most of the users for these 3 features seem to be concentrated around the 0 mark.\n",
    "\n",
    "num_events = 0: 8459\n",
    "\n",
    "num_questions = 0: 9496\n",
    "\n",
    "num_reading = 0: 19364\n",
    "\n",
    "**Num_Events**:\n",
    "\n",
    "From here on out while visualizing the data we will consider the users who have done at least some sort of event(so we will not be considering the 8459 of our users).\n",
    "Most of the users have very little number of events done through the platform, as can be seen below. It has a median of 136 and mean of 361. But if we disregard the users who have 0 events, the median becomes 249 and mean becomes 498. Which still isn't super high but isn't too low either. But this as we have said means we are disregarding 8459 users. In both cases(num_events > 0 and all) the standard deviation is HUGE 790 and 709 respectively.\n",
    "\n",
    "One could argue that we could also only consider users who have interacted with the platform substantially, say with events > 100, but then this would mean we're disregarding a total of 13626 users which drastically reduces our data size. So I've decided to only remove the users with 0 events. But keep the other users even if they have really small amount of events.\n",
    "\n",
    "**Num_Reading**:\n",
    "\n",
    "It should be noted that most of the users do not do any theory reading, and those that do it only do it a few times.\n",
    "As you can see from below most of the users are concentrated around (0,10) mark for num_reading. 26987 users to be exact. Clearly theory reading isn't a popular activity for users.\n",
    "\n",
    "**Num_questions**:\n",
    "\n",
    "As we have previously discussed above when talking about percentage_correct feature distribution, there are 9496 users who have not submitted any answers. We know that out of these 9496 users, 8459 of them have not interacted with the platform as they have num_events = 0, so it's no surprise that they have not answered any questions either. So majority of this 9496 users come from those who have not interacted with the platform at all. If we remove these users who have num_events = 0, we find out that there are 1037 users who have interacted with the platform in other ways, maybe going to the dashboard a few times, checking the questions and doing other stuff but they have not submitted/answered any questions at all. Currently in our dataframe called df, these users along with the ones with num_events = 0 have their percentage correct as 0, thus while visualizing or filtering or discussing the percentage correct feature distribution we will only look at those users who have num_questions > 0 as classifying the users who have not answered any questions as percentage_correct = 0 may lead to wrong conclusions as can be seen from our previous graphs."
   ]
  },
  {
   "cell_type": "code",
   "execution_count": 134,
   "id": "cfea05cc",
   "metadata": {},
   "outputs": [
    {
     "name": "stdout",
     "output_type": "stream",
     "text": [
      "Num_events median: 136.0\n",
      "Num_events mean: 361.89889747486177\n",
      "____________________\n",
      "Only considering users with num_events > 0\n",
      "Num_events median: 249.0\n",
      "Num_events mean: 498.1384512683578\n",
      "____________________\n",
      "Only considering users with num_events > 100\n",
      "Number of users with events <=100: 13626\n",
      "Num_events median: 354.0\n",
      "Num_events mean: 629.4913598797897\n"
     ]
    }
   ],
   "source": [
    "# Find median of num_events\n",
    "print('Num_events median:' ,df.num_events.median())\n",
    "# Find mean of num_events\n",
    "print('Num_events mean:' ,df.num_events.mean())\n",
    "print('____________________')\n",
    "print('Only considering users with num_events > 0')\n",
    "# Find median of num_events\n",
    "print('Num_events median:' ,df[df.num_events > 0].num_events.median())\n",
    "# Find mean of num_events\n",
    "print('Num_events mean:' ,df[df.num_events > 0].num_events.mean())\n",
    "print('____________________')\n",
    "print('Only considering users with num_events > 100')\n",
    "print('Number of users with events <=100:' ,df[df.num_events <= 100].shape[0])\n",
    "# Find median of num_events\n",
    "print('Num_events median:' ,df[df.num_events > 100].num_events.median())\n",
    "# Find mean of num_events\n",
    "print('Num_events mean:' ,df[df.num_events > 100].num_events.mean())"
   ]
  },
  {
   "cell_type": "code",
   "execution_count": 136,
   "id": "0dbf6d08",
   "metadata": {},
   "outputs": [
    {
     "name": "stdout",
     "output_type": "stream",
     "text": [
      "Reading between 0 and 10 inclusive: 26987\n",
      "Reading more than 100: 373\n"
     ]
    }
   ],
   "source": [
    "print('Reading between 0 and 10 inclusive:', df[(df.num_reading >= 0) & (df.num_reading <= 10)].shape[0])\n",
    "print('Reading more than 100:', df[(df.num_reading > 100)].shape[0]) # Almost negligible only 373 users"
   ]
  },
  {
   "cell_type": "code",
   "execution_count": 227,
   "id": "5abcfe39",
   "metadata": {},
   "outputs": [
    {
     "name": "stdout",
     "output_type": "stream",
     "text": [
      "Num_reading median: 0.0\n",
      "Num_reading mean: 6.835591192731741\n",
      "____________________\n",
      "Only considering users with num_events > 0\n",
      "num_reading median: 1.0\n",
      "num_reading mean: 9.408900756564307\n",
      "____________________\n",
      "Only considering users with num_events > 100\n",
      "Number of users with events <=100: 13626\n",
      "num_reading median: 2.0\n",
      "num_reading mean: 11.945327399872854\n"
     ]
    }
   ],
   "source": [
    "# Find median of num_events\n",
    "print('Num_reading median:' ,df.num_reading.median())\n",
    "# Find mean of num_events\n",
    "print('Num_reading mean:' ,df.num_reading.mean())\n",
    "print('____________________')\n",
    "print('Only considering users with num_events > 0')\n",
    "# Find median of num_events\n",
    "print('num_reading median:' ,df[df.num_events > 0].num_reading.median())\n",
    "# Find mean of num_events\n",
    "print('num_reading mean:' ,df[df.num_events > 0].num_reading.mean())\n",
    "print('____________________')\n",
    "print('Only considering users with num_events > 100')\n",
    "print('Number of users with events <=100:' ,df[df.num_events <= 100].shape[0])\n",
    "# Find median of num_events\n",
    "print('num_reading median:' ,df[df.num_events > 100].num_reading.median())\n",
    "# Find mean of num_events\n",
    "print('num_reading mean:' ,df[df.num_events > 100].num_reading.mean())"
   ]
  },
  {
   "cell_type": "markdown",
   "id": "e5d52cd8-9927-401b-a3c3-a4ab2e46b445",
   "metadata": {
    "id": "e5d52cd8-9927-401b-a3c3-a4ab2e46b445"
   },
   "source": [
    "c) Come up with two additional features on your own and add them to the dataframe. Please provide an explanation/description of your features as well as an argument/hypothesis of why you think these features are interesting to explore."
   ]
  },
  {
   "attachments": {},
   "cell_type": "markdown",
   "id": "762370fb",
   "metadata": {},
   "source": [
    "# First feature: WINDOW_VISIBLE_RATIO\n",
    "I'll first add a window visible ratio feature. Which will calculate the ratio of number of events of WINDOW_VISIBLE TRUE and WINDOW_VISIBLE_FALSE for each user. From the data description file shared with us, we can see that these events describe if the browser window is in the foreground or not, telling us if the user is doing something else currently.\n",
    "\n",
    "Maybe this will lead us to a conclusion where the students with a higher WINDOW_VISIBLE_TRUE ratio to have better grades/results as they are the students who are not interacting with other stuff, like watching videos or messaging their friends while studying and solving exercises."
   ]
  },
  {
   "cell_type": "code",
   "execution_count": 47,
   "id": "0b374606-91f5-45b0-bb31-03d494fa5c69",
   "metadata": {
    "id": "0b374606-91f5-45b0-bb31-03d494fa5c69"
   },
   "outputs": [],
   "source": [
    "# in the events table for each user find the count of action='WINDOW_VISIBLE_FALSE'\n",
    "# and action='WINDOW_VISIBLE_TRUE'\n",
    "# and then calculate the ratio of WINDOW_VISIBLE_TRUE / (WINDOW_VISIBLE_TRUE + WINDOW_VISIBLE_FALSE)\n",
    "\n",
    "# drop all rows except those with action = 'WINDOW_VISIBLE_FALSE'\n",
    "temp = users_transactions_events[users_transactions_events.action == 'WINDOW_VISIBLE_FALSE']\n",
    "\n",
    "# count the number of rows for each user\n",
    "num_window_visible_false = temp.groupby('user_id').action.count()\n",
    "# fill the missing user ids with 0\n",
    "num_window_visible_false = num_window_visible_false.to_frame().reindex(users.user_id).fillna(0).reset_index()\n"
   ]
  },
  {
   "cell_type": "code",
   "execution_count": 48,
   "id": "7c324ee8",
   "metadata": {},
   "outputs": [],
   "source": [
    "# drop all rows except those with action = 'WINDOW_VISIBLE_TRUE'\n",
    "temp = users_transactions_events[users_transactions_events.action == 'WINDOW_VISIBLE_TRUE']\n",
    "\n",
    "# count the number of rows for each user\n",
    "num_window_visible_true = temp.groupby('user_id').action.count()\n",
    "# fill the missing user ids with 0\n",
    "num_window_visible_true = num_window_visible_true.to_frame().reindex(users.user_id).fillna(0).reset_index()\n"
   ]
  },
  {
   "cell_type": "code",
   "execution_count": 49,
   "id": "3fb2587f",
   "metadata": {},
   "outputs": [
    {
     "name": "stdout",
     "output_type": "stream",
     "text": [
      "(30929, 2)\n",
      "(30929, 2)\n"
     ]
    }
   ],
   "source": [
    "print(num_window_visible_false.shape)\n",
    "print(num_window_visible_true.shape) # We have all the users, great!"
   ]
  },
  {
   "cell_type": "code",
   "execution_count": 50,
   "id": "5f5fcdec",
   "metadata": {},
   "outputs": [],
   "source": [
    "# Create a new dataframe with 2 columns: user_id and the ratio\n",
    "df_window_visible = pd.DataFrame({'user_id': num_window_visible_true.user_id, 'ratio_window_visible': num_window_visible_true.action / (num_window_visible_true.action + num_window_visible_false.action)})\n",
    "\n",
    "# merge the new dataframe with the main dataframe\n",
    "df = pd.merge(df, df_window_visible, on='user_id', how='left')"
   ]
  },
  {
   "cell_type": "code",
   "execution_count": 51,
   "id": "e4e815a1",
   "metadata": {},
   "outputs": [
    {
     "data": {
      "text/html": [
       "<div>\n",
       "<style scoped>\n",
       "    .dataframe tbody tr th:only-of-type {\n",
       "        vertical-align: middle;\n",
       "    }\n",
       "\n",
       "    .dataframe tbody tr th {\n",
       "        vertical-align: top;\n",
       "    }\n",
       "\n",
       "    .dataframe thead th {\n",
       "        text-align: right;\n",
       "    }\n",
       "</style>\n",
       "<table border=\"1\" class=\"dataframe\">\n",
       "  <thead>\n",
       "    <tr style=\"text-align: right;\">\n",
       "      <th></th>\n",
       "      <th>user_id</th>\n",
       "      <th>num_events</th>\n",
       "      <th>num_questions</th>\n",
       "      <th>num_reading</th>\n",
       "      <th>percentage_correct</th>\n",
       "      <th>gender</th>\n",
       "      <th>ratio_window_visible</th>\n",
       "    </tr>\n",
       "  </thead>\n",
       "  <tbody>\n",
       "    <tr>\n",
       "      <th>0</th>\n",
       "      <td>387604</td>\n",
       "      <td>5087</td>\n",
       "      <td>360.0</td>\n",
       "      <td>677.0</td>\n",
       "      <td>0.694444</td>\n",
       "      <td>unknown</td>\n",
       "      <td>0.408915</td>\n",
       "    </tr>\n",
       "    <tr>\n",
       "      <th>1</th>\n",
       "      <td>387605</td>\n",
       "      <td>3604</td>\n",
       "      <td>238.0</td>\n",
       "      <td>35.0</td>\n",
       "      <td>0.573529</td>\n",
       "      <td>unknown</td>\n",
       "      <td>0.389630</td>\n",
       "    </tr>\n",
       "    <tr>\n",
       "      <th>2</th>\n",
       "      <td>387608</td>\n",
       "      <td>2359</td>\n",
       "      <td>114.0</td>\n",
       "      <td>58.0</td>\n",
       "      <td>0.850877</td>\n",
       "      <td>unknown</td>\n",
       "      <td>0.398515</td>\n",
       "    </tr>\n",
       "    <tr>\n",
       "      <th>3</th>\n",
       "      <td>387613</td>\n",
       "      <td>213</td>\n",
       "      <td>4.0</td>\n",
       "      <td>7.0</td>\n",
       "      <td>1.000000</td>\n",
       "      <td>unknown</td>\n",
       "      <td>0.471698</td>\n",
       "    </tr>\n",
       "    <tr>\n",
       "      <th>4</th>\n",
       "      <td>387615</td>\n",
       "      <td>535</td>\n",
       "      <td>14.0</td>\n",
       "      <td>18.0</td>\n",
       "      <td>0.821429</td>\n",
       "      <td>MALE</td>\n",
       "      <td>0.343434</td>\n",
       "    </tr>\n",
       "    <tr>\n",
       "      <th>...</th>\n",
       "      <td>...</td>\n",
       "      <td>...</td>\n",
       "      <td>...</td>\n",
       "      <td>...</td>\n",
       "      <td>...</td>\n",
       "      <td>...</td>\n",
       "      <td>...</td>\n",
       "    </tr>\n",
       "    <tr>\n",
       "      <th>30924</th>\n",
       "      <td>432018</td>\n",
       "      <td>0</td>\n",
       "      <td>0.0</td>\n",
       "      <td>0.0</td>\n",
       "      <td>0.000000</td>\n",
       "      <td>MALE</td>\n",
       "      <td>NaN</td>\n",
       "    </tr>\n",
       "    <tr>\n",
       "      <th>30925</th>\n",
       "      <td>432020</td>\n",
       "      <td>117</td>\n",
       "      <td>7.0</td>\n",
       "      <td>6.0</td>\n",
       "      <td>0.714286</td>\n",
       "      <td>MALE</td>\n",
       "      <td>0.400000</td>\n",
       "    </tr>\n",
       "    <tr>\n",
       "      <th>30926</th>\n",
       "      <td>432021</td>\n",
       "      <td>0</td>\n",
       "      <td>0.0</td>\n",
       "      <td>0.0</td>\n",
       "      <td>0.000000</td>\n",
       "      <td>FEMALE</td>\n",
       "      <td>NaN</td>\n",
       "    </tr>\n",
       "    <tr>\n",
       "      <th>30927</th>\n",
       "      <td>432022</td>\n",
       "      <td>0</td>\n",
       "      <td>0.0</td>\n",
       "      <td>0.0</td>\n",
       "      <td>0.000000</td>\n",
       "      <td>FEMALE</td>\n",
       "      <td>NaN</td>\n",
       "    </tr>\n",
       "    <tr>\n",
       "      <th>30928</th>\n",
       "      <td>432023</td>\n",
       "      <td>0</td>\n",
       "      <td>0.0</td>\n",
       "      <td>0.0</td>\n",
       "      <td>0.000000</td>\n",
       "      <td>MALE</td>\n",
       "      <td>NaN</td>\n",
       "    </tr>\n",
       "  </tbody>\n",
       "</table>\n",
       "<p>30929 rows × 7 columns</p>\n",
       "</div>"
      ],
      "text/plain": [
       "       user_id  num_events  num_questions  num_reading  percentage_correct  \\\n",
       "0       387604        5087          360.0        677.0            0.694444   \n",
       "1       387605        3604          238.0         35.0            0.573529   \n",
       "2       387608        2359          114.0         58.0            0.850877   \n",
       "3       387613         213            4.0          7.0            1.000000   \n",
       "4       387615         535           14.0         18.0            0.821429   \n",
       "...        ...         ...            ...          ...                 ...   \n",
       "30924   432018           0            0.0          0.0            0.000000   \n",
       "30925   432020         117            7.0          6.0            0.714286   \n",
       "30926   432021           0            0.0          0.0            0.000000   \n",
       "30927   432022           0            0.0          0.0            0.000000   \n",
       "30928   432023           0            0.0          0.0            0.000000   \n",
       "\n",
       "        gender  ratio_window_visible  \n",
       "0      unknown              0.408915  \n",
       "1      unknown              0.389630  \n",
       "2      unknown              0.398515  \n",
       "3      unknown              0.471698  \n",
       "4         MALE              0.343434  \n",
       "...        ...                   ...  \n",
       "30924     MALE                   NaN  \n",
       "30925     MALE              0.400000  \n",
       "30926   FEMALE                   NaN  \n",
       "30927   FEMALE                   NaN  \n",
       "30928     MALE                   NaN  \n",
       "\n",
       "[30929 rows x 7 columns]"
      ]
     },
     "execution_count": 51,
     "metadata": {},
     "output_type": "execute_result"
    }
   ],
   "source": [
    "df"
   ]
  },
  {
   "attachments": {},
   "cell_type": "markdown",
   "id": "2c1dbef3",
   "metadata": {},
   "source": [
    "# Second feature: REVIEW TASK\n",
    "\n",
    "The second feature I'll be adding is the review task count for each user. From the data description file provided to us, we understand that this event is for when the user goes through the questions after submitting their answer to review the answers. The reason why we are adding this feature is that we hope to find a reletionship between the number of reviews a user has done and their success of answering questions. As we expect to see a user doing more reviews performing better than those who don't do any reviews.\n",
    "\n",
    "Also, as you can see from below A LOT of the events are REVIEW_TASK events and thus we have abundant data for this event, so it's in our best interest to use this data!"
   ]
  },
  {
   "cell_type": "code",
   "execution_count": 52,
   "id": "5cba1094",
   "metadata": {},
   "outputs": [
    {
     "data": {
      "text/plain": [
       "0.1549723487651533"
      ]
     },
     "execution_count": 52,
     "metadata": {},
     "output_type": "execute_result"
    }
   ],
   "source": [
    "events[events.action == 'REVIEW_TASK'].action.count() / events.shape[0] # 15.49% of the events are REVIEW_TASK"
   ]
  },
  {
   "cell_type": "code",
   "execution_count": 53,
   "id": "7df52b7d",
   "metadata": {},
   "outputs": [
    {
     "data": {
      "text/plain": [
       "(30929, 1)"
      ]
     },
     "execution_count": 53,
     "metadata": {},
     "output_type": "execute_result"
    }
   ],
   "source": [
    "# in the events table for each user find the count of action='REVIEW_TASK'\n",
    "# drop all rows except those with action = 'REVIEW_TASK'\n",
    "temp = users_transactions_events[users_transactions_events.action == 'REVIEW_TASK']\n",
    "# count the number of rows for each user\n",
    "num_review_task = temp.groupby('user_id').action.count()\n",
    "num_review_task = num_review_task.to_frame().reindex(users.user_id).fillna(0)\n",
    "num_review_task.shape"
   ]
  },
  {
   "cell_type": "code",
   "execution_count": 54,
   "id": "16aa2367",
   "metadata": {},
   "outputs": [],
   "source": [
    "df = pd.merge(df, num_review_task, on='user_id', how='left')"
   ]
  },
  {
   "cell_type": "code",
   "execution_count": 55,
   "id": "ff566f74",
   "metadata": {},
   "outputs": [],
   "source": [
    "# rename action column to num_review_task\n",
    "df = df.rename(columns={'action': 'num_review_task'})"
   ]
  },
  {
   "cell_type": "code",
   "execution_count": 56,
   "id": "dced6dea",
   "metadata": {},
   "outputs": [
    {
     "data": {
      "text/html": [
       "<div>\n",
       "<style scoped>\n",
       "    .dataframe tbody tr th:only-of-type {\n",
       "        vertical-align: middle;\n",
       "    }\n",
       "\n",
       "    .dataframe tbody tr th {\n",
       "        vertical-align: top;\n",
       "    }\n",
       "\n",
       "    .dataframe thead th {\n",
       "        text-align: right;\n",
       "    }\n",
       "</style>\n",
       "<table border=\"1\" class=\"dataframe\">\n",
       "  <thead>\n",
       "    <tr style=\"text-align: right;\">\n",
       "      <th></th>\n",
       "      <th>user_id</th>\n",
       "      <th>num_events</th>\n",
       "      <th>num_questions</th>\n",
       "      <th>num_reading</th>\n",
       "      <th>percentage_correct</th>\n",
       "      <th>gender</th>\n",
       "      <th>ratio_window_visible</th>\n",
       "      <th>num_review_task</th>\n",
       "    </tr>\n",
       "  </thead>\n",
       "  <tbody>\n",
       "    <tr>\n",
       "      <th>0</th>\n",
       "      <td>387604</td>\n",
       "      <td>5087</td>\n",
       "      <td>360.0</td>\n",
       "      <td>677.0</td>\n",
       "      <td>0.694444</td>\n",
       "      <td>unknown</td>\n",
       "      <td>0.408915</td>\n",
       "      <td>481.0</td>\n",
       "    </tr>\n",
       "    <tr>\n",
       "      <th>1</th>\n",
       "      <td>387605</td>\n",
       "      <td>3604</td>\n",
       "      <td>238.0</td>\n",
       "      <td>35.0</td>\n",
       "      <td>0.573529</td>\n",
       "      <td>unknown</td>\n",
       "      <td>0.389630</td>\n",
       "      <td>342.0</td>\n",
       "    </tr>\n",
       "    <tr>\n",
       "      <th>2</th>\n",
       "      <td>387608</td>\n",
       "      <td>2359</td>\n",
       "      <td>114.0</td>\n",
       "      <td>58.0</td>\n",
       "      <td>0.850877</td>\n",
       "      <td>unknown</td>\n",
       "      <td>0.398515</td>\n",
       "      <td>183.0</td>\n",
       "    </tr>\n",
       "    <tr>\n",
       "      <th>3</th>\n",
       "      <td>387613</td>\n",
       "      <td>213</td>\n",
       "      <td>4.0</td>\n",
       "      <td>7.0</td>\n",
       "      <td>1.000000</td>\n",
       "      <td>unknown</td>\n",
       "      <td>0.471698</td>\n",
       "      <td>16.0</td>\n",
       "    </tr>\n",
       "    <tr>\n",
       "      <th>4</th>\n",
       "      <td>387615</td>\n",
       "      <td>535</td>\n",
       "      <td>14.0</td>\n",
       "      <td>18.0</td>\n",
       "      <td>0.821429</td>\n",
       "      <td>MALE</td>\n",
       "      <td>0.343434</td>\n",
       "      <td>25.0</td>\n",
       "    </tr>\n",
       "    <tr>\n",
       "      <th>...</th>\n",
       "      <td>...</td>\n",
       "      <td>...</td>\n",
       "      <td>...</td>\n",
       "      <td>...</td>\n",
       "      <td>...</td>\n",
       "      <td>...</td>\n",
       "      <td>...</td>\n",
       "      <td>...</td>\n",
       "    </tr>\n",
       "    <tr>\n",
       "      <th>30924</th>\n",
       "      <td>432018</td>\n",
       "      <td>0</td>\n",
       "      <td>0.0</td>\n",
       "      <td>0.0</td>\n",
       "      <td>0.000000</td>\n",
       "      <td>MALE</td>\n",
       "      <td>NaN</td>\n",
       "      <td>0.0</td>\n",
       "    </tr>\n",
       "    <tr>\n",
       "      <th>30925</th>\n",
       "      <td>432020</td>\n",
       "      <td>117</td>\n",
       "      <td>7.0</td>\n",
       "      <td>6.0</td>\n",
       "      <td>0.714286</td>\n",
       "      <td>MALE</td>\n",
       "      <td>0.400000</td>\n",
       "      <td>12.0</td>\n",
       "    </tr>\n",
       "    <tr>\n",
       "      <th>30926</th>\n",
       "      <td>432021</td>\n",
       "      <td>0</td>\n",
       "      <td>0.0</td>\n",
       "      <td>0.0</td>\n",
       "      <td>0.000000</td>\n",
       "      <td>FEMALE</td>\n",
       "      <td>NaN</td>\n",
       "      <td>0.0</td>\n",
       "    </tr>\n",
       "    <tr>\n",
       "      <th>30927</th>\n",
       "      <td>432022</td>\n",
       "      <td>0</td>\n",
       "      <td>0.0</td>\n",
       "      <td>0.0</td>\n",
       "      <td>0.000000</td>\n",
       "      <td>FEMALE</td>\n",
       "      <td>NaN</td>\n",
       "      <td>0.0</td>\n",
       "    </tr>\n",
       "    <tr>\n",
       "      <th>30928</th>\n",
       "      <td>432023</td>\n",
       "      <td>0</td>\n",
       "      <td>0.0</td>\n",
       "      <td>0.0</td>\n",
       "      <td>0.000000</td>\n",
       "      <td>MALE</td>\n",
       "      <td>NaN</td>\n",
       "      <td>0.0</td>\n",
       "    </tr>\n",
       "  </tbody>\n",
       "</table>\n",
       "<p>30929 rows × 8 columns</p>\n",
       "</div>"
      ],
      "text/plain": [
       "       user_id  num_events  num_questions  num_reading  percentage_correct  \\\n",
       "0       387604        5087          360.0        677.0            0.694444   \n",
       "1       387605        3604          238.0         35.0            0.573529   \n",
       "2       387608        2359          114.0         58.0            0.850877   \n",
       "3       387613         213            4.0          7.0            1.000000   \n",
       "4       387615         535           14.0         18.0            0.821429   \n",
       "...        ...         ...            ...          ...                 ...   \n",
       "30924   432018           0            0.0          0.0            0.000000   \n",
       "30925   432020         117            7.0          6.0            0.714286   \n",
       "30926   432021           0            0.0          0.0            0.000000   \n",
       "30927   432022           0            0.0          0.0            0.000000   \n",
       "30928   432023           0            0.0          0.0            0.000000   \n",
       "\n",
       "        gender  ratio_window_visible  num_review_task  \n",
       "0      unknown              0.408915            481.0  \n",
       "1      unknown              0.389630            342.0  \n",
       "2      unknown              0.398515            183.0  \n",
       "3      unknown              0.471698             16.0  \n",
       "4         MALE              0.343434             25.0  \n",
       "...        ...                   ...              ...  \n",
       "30924     MALE                   NaN              0.0  \n",
       "30925     MALE              0.400000             12.0  \n",
       "30926   FEMALE                   NaN              0.0  \n",
       "30927   FEMALE                   NaN              0.0  \n",
       "30928     MALE                   NaN              0.0  \n",
       "\n",
       "[30929 rows x 8 columns]"
      ]
     },
     "execution_count": 56,
     "metadata": {},
     "output_type": "execute_result"
    }
   ],
   "source": [
    "df"
   ]
  },
  {
   "attachments": {},
   "cell_type": "markdown",
   "id": "6ae3bd87-8ca4-47a2-afc5-604e6ca53621",
   "metadata": {
    "id": "6ae3bd87-8ca4-47a2-afc5-604e6ca53621"
   },
   "source": [
    "# Both features added:\n",
    "Now we have both features added... Notice that some of the values are NaN or 0, this the case for the users who have 0 events, i.e. the users who have not interacted with the platform as we have previously discussed. This is not an issue because as previously explained we will only consider the users who have interacted with the platform during our analysis.\n",
    "\n",
    "\n",
    "So now lets move on to the analysis part."
   ]
  },
  {
   "cell_type": "markdown",
   "id": "be9b49ce-5fb6-4b95-9b64-8a6648e42474",
   "metadata": {
    "id": "be9b49ce-5fb6-4b95-9b64-8a6648e42474"
   },
   "source": [
    "d) Perform a univariate analysis of your features (including descriptive statistics and visualization). What can you observe? Do the results confirm your hypotheses?"
   ]
  },
  {
   "attachments": {},
   "cell_type": "markdown",
   "id": "bc7bc24b",
   "metadata": {},
   "source": [
    "# Plotting the new features\n",
    "\n",
    "## RATIO WINDOW VISIBLE\n",
    "\n",
    "We notice that most of the users are concentrated on the ~44% mark, and there aren't many users above 50%, which is a lot less than I have anticipated. This also indicated that every student does change tabs while solving the questions, it could very well be because they are using a calculator or googling an answer\n",
    "\n",
    "## NUM_REVIEW_TASK\n",
    "\n",
    "We see the mean value of num_review_task is 77 with median of 36. The plot we see is really similar num_events, num_reading features where a huge majority of the users are concentrated near the 0 mark. Half of the 22470 users(amount of users that have done at least one event), belong in between [0,37), this should be no surprise as the median is 36.\n",
    "\n",
    "We can now clearly conclude that the actions performed by users always follow a certain trend where majority of the users are concentrated at the lower points such as (0,10) for num reading and (0,37) for num_review, then we have only a couple of users that could also be considered as outliers that have done the activity SEVERAL times more than the average user.\n",
    "\n",
    "### we need to do a multivariate analysis to check if our hypotheses about relationship between these and the performance(percentage_correct) are correct. So let's move onto those."
   ]
  },
  {
   "cell_type": "code",
   "execution_count": 140,
   "id": "bf5136a1-4715-4bd6-a94a-1998ffb2dcc7",
   "metadata": {
    "id": "bf5136a1-4715-4bd6-a94a-1998ffb2dcc7"
   },
   "outputs": [
    {
     "data": {
      "text/html": [
       "<div>\n",
       "<style scoped>\n",
       "    .dataframe tbody tr th:only-of-type {\n",
       "        vertical-align: middle;\n",
       "    }\n",
       "\n",
       "    .dataframe tbody tr th {\n",
       "        vertical-align: top;\n",
       "    }\n",
       "\n",
       "    .dataframe thead th {\n",
       "        text-align: right;\n",
       "    }\n",
       "</style>\n",
       "<table border=\"1\" class=\"dataframe\">\n",
       "  <thead>\n",
       "    <tr style=\"text-align: right;\">\n",
       "      <th></th>\n",
       "      <th>user_id</th>\n",
       "      <th>num_events</th>\n",
       "      <th>num_questions</th>\n",
       "      <th>num_reading</th>\n",
       "      <th>percentage_correct</th>\n",
       "      <th>ratio_window_visible</th>\n",
       "      <th>num_review_task</th>\n",
       "    </tr>\n",
       "  </thead>\n",
       "  <tbody>\n",
       "    <tr>\n",
       "      <th>count</th>\n",
       "      <td>22470.000000</td>\n",
       "      <td>22470.000000</td>\n",
       "      <td>22470.000000</td>\n",
       "      <td>22470.000000</td>\n",
       "      <td>22470.000000</td>\n",
       "      <td>21857.000000</td>\n",
       "      <td>22470.000000</td>\n",
       "    </tr>\n",
       "    <tr>\n",
       "      <th>mean</th>\n",
       "      <td>407695.489542</td>\n",
       "      <td>498.138451</td>\n",
       "      <td>62.361460</td>\n",
       "      <td>9.408901</td>\n",
       "      <td>0.625028</td>\n",
       "      <td>0.412730</td>\n",
       "      <td>77.197686</td>\n",
       "    </tr>\n",
       "    <tr>\n",
       "      <th>std</th>\n",
       "      <td>11800.847723</td>\n",
       "      <td>790.250740</td>\n",
       "      <td>108.358963</td>\n",
       "      <td>39.260507</td>\n",
       "      <td>0.199524</td>\n",
       "      <td>0.099550</td>\n",
       "      <td>128.282499</td>\n",
       "    </tr>\n",
       "    <tr>\n",
       "      <th>min</th>\n",
       "      <td>387604.000000</td>\n",
       "      <td>1.000000</td>\n",
       "      <td>0.000000</td>\n",
       "      <td>0.000000</td>\n",
       "      <td>0.000000</td>\n",
       "      <td>0.000000</td>\n",
       "      <td>0.000000</td>\n",
       "    </tr>\n",
       "    <tr>\n",
       "      <th>25%</th>\n",
       "      <td>398001.250000</td>\n",
       "      <td>108.000000</td>\n",
       "      <td>9.000000</td>\n",
       "      <td>0.000000</td>\n",
       "      <td>0.563896</td>\n",
       "      <td>0.392857</td>\n",
       "      <td>13.000000</td>\n",
       "    </tr>\n",
       "    <tr>\n",
       "      <th>50%</th>\n",
       "      <td>406203.500000</td>\n",
       "      <td>249.000000</td>\n",
       "      <td>28.000000</td>\n",
       "      <td>1.000000</td>\n",
       "      <td>0.655172</td>\n",
       "      <td>0.440000</td>\n",
       "      <td>36.000000</td>\n",
       "    </tr>\n",
       "    <tr>\n",
       "      <th>75%</th>\n",
       "      <td>415909.750000</td>\n",
       "      <td>552.000000</td>\n",
       "      <td>68.000000</td>\n",
       "      <td>6.000000</td>\n",
       "      <td>0.738095</td>\n",
       "      <td>0.469697</td>\n",
       "      <td>86.000000</td>\n",
       "    </tr>\n",
       "    <tr>\n",
       "      <th>max</th>\n",
       "      <td>432020.000000</td>\n",
       "      <td>16056.000000</td>\n",
       "      <td>1653.000000</td>\n",
       "      <td>3000.000000</td>\n",
       "      <td>1.000000</td>\n",
       "      <td>1.000000</td>\n",
       "      <td>2487.000000</td>\n",
       "    </tr>\n",
       "  </tbody>\n",
       "</table>\n",
       "</div>"
      ],
      "text/plain": [
       "             user_id    num_events  num_questions   num_reading  \\\n",
       "count   22470.000000  22470.000000   22470.000000  22470.000000   \n",
       "mean   407695.489542    498.138451      62.361460      9.408901   \n",
       "std     11800.847723    790.250740     108.358963     39.260507   \n",
       "min    387604.000000      1.000000       0.000000      0.000000   \n",
       "25%    398001.250000    108.000000       9.000000      0.000000   \n",
       "50%    406203.500000    249.000000      28.000000      1.000000   \n",
       "75%    415909.750000    552.000000      68.000000      6.000000   \n",
       "max    432020.000000  16056.000000    1653.000000   3000.000000   \n",
       "\n",
       "       percentage_correct  ratio_window_visible  num_review_task  \n",
       "count        22470.000000          21857.000000     22470.000000  \n",
       "mean             0.625028              0.412730        77.197686  \n",
       "std              0.199524              0.099550       128.282499  \n",
       "min              0.000000              0.000000         0.000000  \n",
       "25%              0.563896              0.392857        13.000000  \n",
       "50%              0.655172              0.440000        36.000000  \n",
       "75%              0.738095              0.469697        86.000000  \n",
       "max              1.000000              1.000000      2487.000000  "
      ]
     },
     "execution_count": 140,
     "metadata": {},
     "output_type": "execute_result"
    }
   ],
   "source": [
    "df[df.num_events > 0].describe()"
   ]
  },
  {
   "cell_type": "code",
   "execution_count": 174,
   "id": "d912a365",
   "metadata": {},
   "outputs": [
    {
     "name": "stdout",
     "output_type": "stream",
     "text": [
      "0.44\n"
     ]
    },
    {
     "data": {
      "text/plain": [
       "<AxesSubplot:xlabel='ratio_window_visible', ylabel='Count'>"
      ]
     },
     "execution_count": 174,
     "metadata": {},
     "output_type": "execute_result"
    },
    {
     "data": {
      "image/png": "[encoded data removed]",
      "text/plain": [
       "<Figure size 640x480 with 1 Axes>"
      ]
     },
     "metadata": {},
     "output_type": "display_data"
    }
   ],
   "source": [
    "# visualize ratio_window_visible column\n",
    "print(df[df.num_events > 0].ratio_window_visible.median())\n",
    "# only get the users who do not have ratio_window_visible as NaN\n",
    "sns.histplot(data=df[df.num_events > 0], x='ratio_window_visible', bins=30)"
   ]
  },
  {
   "cell_type": "code",
   "execution_count": 208,
   "id": "fa996bef",
   "metadata": {},
   "outputs": [
    {
     "name": "stdout",
     "output_type": "stream",
     "text": [
      "P value:  0.0\n",
      "K value:  11022.949133879154\n"
     ]
    },
    {
     "data": {
      "image/png": "[encoded data removed]",
      "text/plain": [
       "<Figure size 640x480 with 1 Axes>"
      ]
     },
     "metadata": {},
     "output_type": "display_data"
    }
   ],
   "source": [
    "sns.histplot(data=pd.DataFrame(df[df.num_events > 0].ratio_window_visible), bins=30, kde=True)  \n",
    "k2, p = normaltest(a=df[(df.num_events > 0) &  (df.ratio_window_visible.notnull())].ratio_window_visible)\n",
    "print('P value: ', p)\n",
    "print('K value: ', k2)"
   ]
  },
  {
   "cell_type": "code",
   "execution_count": 211,
   "id": "b7bcd90e",
   "metadata": {},
   "outputs": [
    {
     "data": {
      "text/plain": [
       "<AxesSubplot:ylabel='Count'>"
      ]
     },
     "execution_count": 211,
     "metadata": {},
     "output_type": "execute_result"
    },
    {
     "data": {
      "image/png": "[encoded data removed]",
      "text/plain": [
       "<Figure size 640x480 with 1 Axes>"
      ]
     },
     "metadata": {},
     "output_type": "display_data"
    }
   ],
   "source": [
    "sns.histplot(data=pd.DataFrame(df[df.num_events > 0].num_review_task), bins=30)"
   ]
  },
  {
   "cell_type": "code",
   "execution_count": 225,
   "id": "54fd7cab",
   "metadata": {},
   "outputs": [
    {
     "data": {
      "text/plain": [
       "<AxesSubplot:ylabel='Count'>"
      ]
     },
     "execution_count": 225,
     "metadata": {},
     "output_type": "execute_result"
    },
    {
     "data": {
      "image/png": "[encoded data removed]",
      "text/plain": [
       "<Figure size 640x480 with 1 Axes>"
      ]
     },
     "metadata": {},
     "output_type": "display_data"
    }
   ],
   "source": [
    "sns.histplot(data=pd.DataFrame(df[(df.num_events > 0) & (df.num_review_task < 300)].num_review_task), bins=30)"
   ]
  },
  {
   "cell_type": "code",
   "execution_count": 214,
   "id": "325744b8",
   "metadata": {},
   "outputs": [
    {
     "data": {
      "text/plain": [
       "36.0"
      ]
     },
     "execution_count": 214,
     "metadata": {},
     "output_type": "execute_result"
    }
   ],
   "source": [
    "df[df.num_events > 0].num_review_task.median()"
   ]
  },
  {
   "cell_type": "code",
   "execution_count": 222,
   "id": "5f958740",
   "metadata": {},
   "outputs": [
    {
     "data": {
      "text/plain": [
       "11276"
      ]
     },
     "execution_count": 222,
     "metadata": {},
     "output_type": "execute_result"
    }
   ],
   "source": [
    "df[(df.num_events > 0) & (df.num_review_task < 37)].shape[0]"
   ]
  },
  {
   "cell_type": "markdown",
   "id": "1596debf-793b-4d94-a0eb-4fc42a1f962d",
   "metadata": {
    "id": "1596debf-793b-4d94-a0eb-4fc42a1f962d"
   },
   "source": [
    "e) Perform a multivariate analysis for two pairs of features of your choice. Please provide a metric and a visualization for both pairs. Please discuss: why did you choose these two pairs? What was your hypothesis? Do the results confirm your hypothesis?"
   ]
  },
  {
   "attachments": {},
   "cell_type": "markdown",
   "id": "6e0b3eba",
   "metadata": {},
   "source": [
    "# We will be looking at the two features we have previously added to check our hypotheses but on top of that I'd like also like to take a look at the relationship between num_questions and percentage correct features.\n",
    "## So let's begin with num_questions"
   ]
  },
  {
   "cell_type": "code",
   "execution_count": 62,
   "id": "9b5947ca-1c39-4aec-8fa9-22dba757ef27",
   "metadata": {
    "id": "9b5947ca-1c39-4aec-8fa9-22dba757ef27"
   },
   "outputs": [
    {
     "name": "stdout",
     "output_type": "stream",
     "text": [
      "3.8377652147320607\n",
      "MI is:  [2.56910121]\n"
     ]
    },
    {
     "name": "stderr",
     "output_type": "stream",
     "text": [
      "/Users/aybarsyazici/opt/anaconda3/lib/python3.9/site-packages/sklearn/metrics/cluster/_supervised.py:65: UserWarning: Clustering metrics expects discrete values but received multiclass values for label, and continuous values for target\n",
      "  warnings.warn(msg, UserWarning)\n"
     ]
    },
    {
     "data": {
      "image/png": "[encoded data removed]",
      "text/plain": [
       "<Figure size 640x480 with 1 Axes>"
      ]
     },
     "metadata": {},
     "output_type": "display_data"
    }
   ],
   "source": [
    "# using df create a scatter plot of num_events vs percentage_correct\n",
    "df_without_0percent = df[df.num_events > 0]\n",
    "\n",
    "sns.scatterplot(data=df_without_0percent, x='num_questions', y='percentage_correct')\n",
    "\n",
    "print(mutual_info_score(df_without_0percent.num_questions, df_without_0percent.percentage_correct))\n",
    "\n",
    "x = np.array(df_without_0percent['num_questions']).reshape(-1,1)\n",
    "y = np.array(df_without_0percent['percentage_correct']).ravel()\n",
    "\n",
    "mi = mutual_info_regression(x, y, n_neighbors=1)\n",
    "print(\"MI is: \", mi)"
   ]
  },
  {
   "attachments": {},
   "cell_type": "markdown",
   "id": "fd306d94",
   "metadata": {},
   "source": [
    "#### (notice that we have only considered users with num_events > 0 as we have previously discussed, this will be the case for the rest of the analysis as well)\n",
    "\n",
    "### We can clearly see that the mutual information is significant between these variables. We do see a trend as the number of questions solved by the user increases thei percentage correct tends to stabilize towards the mean in our previous gaussian distribution.\n",
    "\n",
    "\n",
    "### I suspect this is because as the user solves more questions their mastery increases in the platform, which means that they get presented with more difficult questions which prevents them from reaching 100% percentage correct threshold but rather get stabilized around a threshold that the platform wants users to be around. This is like a soft barrier set by the platform due to the fact that more successful users get more and more difficult questions as they go on but the users who have only solved a few questions have lower mastery score and thus get easier questions and thus they can obtain 100% percentage correct easier."
   ]
  },
  {
   "cell_type": "code",
   "execution_count": 234,
   "id": "a5b46919",
   "metadata": {},
   "outputs": [
    {
     "name": "stdout",
     "output_type": "stream",
     "text": [
      "3.0758734078782064\n",
      "MI is:  [0.07032146]\n"
     ]
    },
    {
     "name": "stderr",
     "output_type": "stream",
     "text": [
      "/Users/aybarsyazici/opt/anaconda3/lib/python3.9/site-packages/sklearn/metrics/cluster/_supervised.py:65: UserWarning: Clustering metrics expects discrete values but received continuous values for label, and continuous values for target\n",
      "  warnings.warn(msg, UserWarning)\n"
     ]
    },
    {
     "data": {
      "image/png": "[encoded data removed]",
      "text/plain": [
       "<Figure size 640x480 with 1 Axes>"
      ]
     },
     "metadata": {},
     "output_type": "display_data"
    }
   ],
   "source": [
    "# using df create a scatter plot of num_events vs percentage_correct\n",
    "df_without_0percent = df[(df.ratio_window_visible > 0) & (df.num_events > 0) & (df.num_questions > 0)]\n",
    "sns.scatterplot(data=df_without_0percent, x='ratio_window_visible', y='percentage_correct')\n",
    "\n",
    "print(mutual_info_score(df_without_0percent.ratio_window_visible, df_without_0percent.percentage_correct))\n",
    "\n",
    "x = np.array(df_without_0percent['ratio_window_visible']).reshape(-1,1)\n",
    "y = np.array(df_without_0percent['percentage_correct']).ravel()\n",
    "\n",
    "mi = mutual_info_regression(x, y, n_neighbors=1)\n",
    "print(\"MI is: \", mi)"
   ]
  },
  {
   "attachments": {},
   "cell_type": "markdown",
   "id": "3701915b",
   "metadata": {},
   "source": [
    "### As previously discussed not many users exist beyond the ~45% ratio.\n",
    "\n",
    "### The graph unfortunately did not come as nice as I hoped it would be. It seems like this feature doesn't really give much information on the percentage correct feature, but we can see that most of the users are concentrated on the 20%-40% ratio_window_visible and 50% - 100% percentage correct, this maybe could indicate that the users are googling the answers or are using an online calculator. As I'd have expected the users with lower ratio window visible to have a considerably lower percentage_correct value.\n",
    "\n",
    "### Below we calculate the mutual information between these two features and we can see that there exists some mutual information but not really significant and definitely not comparable to our previous example"
   ]
  },
  {
   "cell_type": "code",
   "execution_count": 235,
   "id": "405b478e",
   "metadata": {},
   "outputs": [
    {
     "name": "stdout",
     "output_type": "stream",
     "text": [
      "2.858508459119591\n",
      "MI is:  [0.5429698]\n"
     ]
    },
    {
     "name": "stderr",
     "output_type": "stream",
     "text": [
      "/Users/aybarsyazici/opt/anaconda3/lib/python3.9/site-packages/sklearn/metrics/cluster/_supervised.py:65: UserWarning: Clustering metrics expects discrete values but received multiclass values for label, and continuous values for target\n",
      "  warnings.warn(msg, UserWarning)\n"
     ]
    },
    {
     "data": {
      "image/png": "[encoded data removed]",
      "text/plain": [
       "<Figure size 640x480 with 1 Axes>"
      ]
     },
     "metadata": {},
     "output_type": "display_data"
    }
   ],
   "source": [
    "# using df create a scatter plot of open_feedback vs percentage_correct\n",
    "df_without_0percent = df[(df.num_events > 0) & (df.num_questions > 0)]\n",
    "sns.scatterplot(data=df_without_0percent, x='num_review_task', y='percentage_correct')\n",
    "\n",
    "print(mutual_info_score(df_without_0percent.num_review_task, df_without_0percent.percentage_correct))\n",
    "\n",
    "x = np.array(df_without_0percent['num_review_task']).reshape(-1,1)\n",
    "y = np.array(df_without_0percent['percentage_correct']).ravel()\n",
    "\n",
    "mi = mutual_info_regression(x, y, n_neighbors=1)\n",
    "print(\"MI is: \", mi)"
   ]
  },
  {
   "attachments": {},
   "cell_type": "markdown",
   "id": "9c9e9e56-f589-49d4-8cd4-07855bc6c5c0",
   "metadata": {
    "id": "9c9e9e56-f589-49d4-8cd4-07855bc6c5c0"
   },
   "source": [
    "### Lastly we will look at the num_review_task and we see a very similar trend to that of the num_questions, most of the discussions we have done for that feature would apply for this feature as well.\n",
    "\n",
    "### Unfortunately the relationship is not as clear as I'd hoped it would be(like a linear trend of more reviews -> better % correct). But now after looking at 2 similar features, my suspicion of the platform trying to bring users around the 65% percentage_correct mark has further increased. Meaning that, depending on how well the user performs the platform tries to give questions at a difficulty level that places the user around the 65% correct mark. I.e. it seems like the difficulty of the questions for each user is determined such that they arrive at this mark."
   ]
  },
  {
   "cell_type": "markdown",
   "id": "62ef2063-f2b2-4a0b-92a6-1e03e9e6e548",
   "metadata": {
    "id": "62ef2063-f2b2-4a0b-92a6-1e03e9e6e548"
   },
   "source": [
    "# Task 3: Time-Series Analysis\n",
    "\n",
    "In the last task, you will perform a time-series analysis."
   ]
  },
  {
   "cell_type": "markdown",
   "id": "1a986033-693c-4db0-8b27-c638b4bf6248",
   "metadata": {
    "id": "1a986033-693c-4db0-8b27-c638b4bf6248"
   },
   "source": [
    "\n",
    "#### a) Build a data frame containing one row per user per week:\n",
    "\n",
    "``[user_id, week, num_events, num_questions, percentage_correct, num_reading]``\n",
    "\n",
    "\n",
    "The features are defined as follows:\n",
    "\n",
    "- **num_questions**: total number of questions the student answered **per week**(hint: action event = submit answer).\n",
    "\n",
    "- **num_events**: total number of events of the student per week.\n",
    "\n",
    "- **percentage_correct**: number of correct answers/total number of answers  **per week** (hint: evaluation = correct). If desired, you may assign a weight of 0.5 to partially correct answers.\n",
    "\n",
    "- **num_reading**: total number of theory reading events **per week** (hint: action event = go to theory).\n",
    "\n",
    "Where week 0 is the first week the specific user solved a task in the platform, i.e., the user's earliest entry in the transactions table.\n",
    "\n",
    "Hint: You may extract the week of the year (dt.week) from the timestamps.\n",
    "\n",
    "Hint 2: Be mindful that week 1 in 2022 is a different week from week 1 in 2023."
   ]
  },
  {
   "cell_type": "markdown",
   "id": "549820bd-d886-433f-8055-52f40e3381ad",
   "metadata": {
    "id": "549820bd-d886-433f-8055-52f40e3381ad"
   },
   "source": [
    "You can limit the number of weeks to 10, i.e. for each user we just look at the first 10 weeks of data.\n",
    "You may change and justify your choice for the number of weeks."
   ]
  },
  {
   "cell_type": "code",
   "execution_count": 65,
   "id": "0d09c407",
   "metadata": {},
   "outputs": [],
   "source": [
    "import datetime as dt"
   ]
  },
  {
   "cell_type": "code",
   "execution_count": 66,
   "id": "a92e54ac-3990-4d97-bd57-75c81534b36d",
   "metadata": {
    "id": "a92e54ac-3990-4d97-bd57-75c81534b36d"
   },
   "outputs": [],
   "source": [
    "# In the transactions table for each user find the earliest transaction date\n",
    "new_transactions = transactions[['user_id','start_time','transaction_token','evaluation']]\n",
    "new_events = events[['transaction_token','action']]\n",
    "new_transactions = new_transactions.merge(new_events, on='transaction_token', how='left')\n",
    "new_transactions[\"start_time\"] = pd.to_datetime(new_transactions[\"start_time\"])"
   ]
  },
  {
   "cell_type": "code",
   "execution_count": 67,
   "id": "fd95eefb",
   "metadata": {},
   "outputs": [],
   "source": [
    "# For each user find the earliest transaction date\n",
    "earliest_transaction = new_transactions.groupby('user_id').start_time.min().reset_index()\n",
    "# rename the column to min_start_time\n",
    "earliest_transaction = earliest_transaction.rename(columns={'start_time': 'min_start_time'})"
   ]
  },
  {
   "cell_type": "code",
   "execution_count": 68,
   "id": "f264a45f",
   "metadata": {},
   "outputs": [
    {
     "data": {
      "text/html": [
       "<div>\n",
       "<style scoped>\n",
       "    .dataframe tbody tr th:only-of-type {\n",
       "        vertical-align: middle;\n",
       "    }\n",
       "\n",
       "    .dataframe tbody tr th {\n",
       "        vertical-align: top;\n",
       "    }\n",
       "\n",
       "    .dataframe thead th {\n",
       "        text-align: right;\n",
       "    }\n",
       "</style>\n",
       "<table border=\"1\" class=\"dataframe\">\n",
       "  <thead>\n",
       "    <tr style=\"text-align: right;\">\n",
       "      <th></th>\n",
       "      <th>user_id</th>\n",
       "      <th>min_start_time</th>\n",
       "    </tr>\n",
       "  </thead>\n",
       "  <tbody>\n",
       "    <tr>\n",
       "      <th>0</th>\n",
       "      <td>387604</td>\n",
       "      <td>2021-05-22 05:12:11.249</td>\n",
       "    </tr>\n",
       "    <tr>\n",
       "      <th>1</th>\n",
       "      <td>387605</td>\n",
       "      <td>2021-05-27 06:46:53.187</td>\n",
       "    </tr>\n",
       "    <tr>\n",
       "      <th>2</th>\n",
       "      <td>387608</td>\n",
       "      <td>2021-09-05 08:30:22.422</td>\n",
       "    </tr>\n",
       "    <tr>\n",
       "      <th>3</th>\n",
       "      <td>387613</td>\n",
       "      <td>2022-09-19 12:14:39.164</td>\n",
       "    </tr>\n",
       "    <tr>\n",
       "      <th>4</th>\n",
       "      <td>387615</td>\n",
       "      <td>2021-08-31 11:10:29.061</td>\n",
       "    </tr>\n",
       "    <tr>\n",
       "      <th>...</th>\n",
       "      <td>...</td>\n",
       "      <td>...</td>\n",
       "    </tr>\n",
       "    <tr>\n",
       "      <th>22465</th>\n",
       "      <td>431999</td>\n",
       "      <td>2023-02-03 14:11:33.934</td>\n",
       "    </tr>\n",
       "    <tr>\n",
       "      <th>22466</th>\n",
       "      <td>432001</td>\n",
       "      <td>2023-02-03 14:11:23.928</td>\n",
       "    </tr>\n",
       "    <tr>\n",
       "      <th>22467</th>\n",
       "      <td>432014</td>\n",
       "      <td>2023-02-03 14:11:34.444</td>\n",
       "    </tr>\n",
       "    <tr>\n",
       "      <th>22468</th>\n",
       "      <td>432016</td>\n",
       "      <td>2023-02-03 14:13:29.846</td>\n",
       "    </tr>\n",
       "    <tr>\n",
       "      <th>22469</th>\n",
       "      <td>432020</td>\n",
       "      <td>2023-02-03 19:48:10.818</td>\n",
       "    </tr>\n",
       "  </tbody>\n",
       "</table>\n",
       "<p>22470 rows × 2 columns</p>\n",
       "</div>"
      ],
      "text/plain": [
       "       user_id          min_start_time\n",
       "0       387604 2021-05-22 05:12:11.249\n",
       "1       387605 2021-05-27 06:46:53.187\n",
       "2       387608 2021-09-05 08:30:22.422\n",
       "3       387613 2022-09-19 12:14:39.164\n",
       "4       387615 2021-08-31 11:10:29.061\n",
       "...        ...                     ...\n",
       "22465   431999 2023-02-03 14:11:33.934\n",
       "22466   432001 2023-02-03 14:11:23.928\n",
       "22467   432014 2023-02-03 14:11:34.444\n",
       "22468   432016 2023-02-03 14:13:29.846\n",
       "22469   432020 2023-02-03 19:48:10.818\n",
       "\n",
       "[22470 rows x 2 columns]"
      ]
     },
     "execution_count": 68,
     "metadata": {},
     "output_type": "execute_result"
    }
   ],
   "source": [
    "earliest_transaction"
   ]
  },
  {
   "cell_type": "code",
   "execution_count": 69,
   "id": "ed47d7aa",
   "metadata": {},
   "outputs": [
    {
     "data": {
      "text/html": [
       "<div>\n",
       "<style scoped>\n",
       "    .dataframe tbody tr th:only-of-type {\n",
       "        vertical-align: middle;\n",
       "    }\n",
       "\n",
       "    .dataframe tbody tr th {\n",
       "        vertical-align: top;\n",
       "    }\n",
       "\n",
       "    .dataframe thead th {\n",
       "        text-align: right;\n",
       "    }\n",
       "</style>\n",
       "<table border=\"1\" class=\"dataframe\">\n",
       "  <thead>\n",
       "    <tr style=\"text-align: right;\">\n",
       "      <th></th>\n",
       "      <th>user_id</th>\n",
       "      <th>start_time</th>\n",
       "      <th>transaction_token</th>\n",
       "      <th>evaluation</th>\n",
       "      <th>action</th>\n",
       "      <th>min_start_time</th>\n",
       "    </tr>\n",
       "  </thead>\n",
       "  <tbody>\n",
       "    <tr>\n",
       "      <th>0</th>\n",
       "      <td>393211</td>\n",
       "      <td>2021-05-21 07:58:27.312</td>\n",
       "      <td>88fdcaad-f73b-46a2-b561-d262f2441442</td>\n",
       "      <td>PARTIAL</td>\n",
       "      <td>VIEW_QUESTION</td>\n",
       "      <td>2021-05-21 07:58:27.312</td>\n",
       "    </tr>\n",
       "    <tr>\n",
       "      <th>1</th>\n",
       "      <td>393211</td>\n",
       "      <td>2021-05-21 07:58:27.312</td>\n",
       "      <td>88fdcaad-f73b-46a2-b561-d262f2441442</td>\n",
       "      <td>PARTIAL</td>\n",
       "      <td>SUBMIT_ANSWER</td>\n",
       "      <td>2021-05-21 07:58:27.312</td>\n",
       "    </tr>\n",
       "    <tr>\n",
       "      <th>2</th>\n",
       "      <td>393211</td>\n",
       "      <td>2021-05-21 07:58:27.312</td>\n",
       "      <td>88fdcaad-f73b-46a2-b561-d262f2441442</td>\n",
       "      <td>PARTIAL</td>\n",
       "      <td>NEXT</td>\n",
       "      <td>2021-05-21 07:58:27.312</td>\n",
       "    </tr>\n",
       "    <tr>\n",
       "      <th>3</th>\n",
       "      <td>393211</td>\n",
       "      <td>2021-05-21 08:04:05.067</td>\n",
       "      <td>a75eb7b4-b2c2-47d4-9200-27980c175037</td>\n",
       "      <td>PARTIAL</td>\n",
       "      <td>VIEW_QUESTION</td>\n",
       "      <td>2021-05-21 07:58:27.312</td>\n",
       "    </tr>\n",
       "    <tr>\n",
       "      <th>4</th>\n",
       "      <td>393211</td>\n",
       "      <td>2021-05-21 08:04:05.067</td>\n",
       "      <td>a75eb7b4-b2c2-47d4-9200-27980c175037</td>\n",
       "      <td>PARTIAL</td>\n",
       "      <td>SUBMIT_ANSWER</td>\n",
       "      <td>2021-05-21 07:58:27.312</td>\n",
       "    </tr>\n",
       "    <tr>\n",
       "      <th>...</th>\n",
       "      <td>...</td>\n",
       "      <td>...</td>\n",
       "      <td>...</td>\n",
       "      <td>...</td>\n",
       "      <td>...</td>\n",
       "      <td>...</td>\n",
       "    </tr>\n",
       "    <tr>\n",
       "      <th>5366877</th>\n",
       "      <td>387682</td>\n",
       "      <td>2023-02-06 01:08:19.478</td>\n",
       "      <td>35eee551-0197-46b3-9151-8bcb93a23bd2</td>\n",
       "      <td>CORRECT</td>\n",
       "      <td>NEXT</td>\n",
       "      <td>2021-11-25 13:44:35.329</td>\n",
       "    </tr>\n",
       "    <tr>\n",
       "      <th>5366878</th>\n",
       "      <td>387682</td>\n",
       "      <td>2023-02-06 01:09:39.046</td>\n",
       "      <td>39b80533-7093-4c81-90d3-c54d01c2b401</td>\n",
       "      <td>CORRECT</td>\n",
       "      <td>REVIEW_TASK</td>\n",
       "      <td>2021-11-25 13:44:35.329</td>\n",
       "    </tr>\n",
       "    <tr>\n",
       "      <th>5366879</th>\n",
       "      <td>387682</td>\n",
       "      <td>2023-02-06 01:09:39.046</td>\n",
       "      <td>39b80533-7093-4c81-90d3-c54d01c2b401</td>\n",
       "      <td>CORRECT</td>\n",
       "      <td>SUBMIT_ANSWER</td>\n",
       "      <td>2021-11-25 13:44:35.329</td>\n",
       "    </tr>\n",
       "    <tr>\n",
       "      <th>5366880</th>\n",
       "      <td>387682</td>\n",
       "      <td>2023-02-06 01:09:39.046</td>\n",
       "      <td>39b80533-7093-4c81-90d3-c54d01c2b401</td>\n",
       "      <td>CORRECT</td>\n",
       "      <td>NEXT</td>\n",
       "      <td>2021-11-25 13:44:35.329</td>\n",
       "    </tr>\n",
       "    <tr>\n",
       "      <th>5366881</th>\n",
       "      <td>387682</td>\n",
       "      <td>2023-02-06 01:10:17.445</td>\n",
       "      <td>bcc196db-fbca-4df5-b588-0e3648a12622</td>\n",
       "      <td>NaN</td>\n",
       "      <td>REVIEW_TASK</td>\n",
       "      <td>2021-11-25 13:44:35.329</td>\n",
       "    </tr>\n",
       "  </tbody>\n",
       "</table>\n",
       "<p>5366882 rows × 6 columns</p>\n",
       "</div>"
      ],
      "text/plain": [
       "         user_id              start_time  \\\n",
       "0         393211 2021-05-21 07:58:27.312   \n",
       "1         393211 2021-05-21 07:58:27.312   \n",
       "2         393211 2021-05-21 07:58:27.312   \n",
       "3         393211 2021-05-21 08:04:05.067   \n",
       "4         393211 2021-05-21 08:04:05.067   \n",
       "...          ...                     ...   \n",
       "5366877   387682 2023-02-06 01:08:19.478   \n",
       "5366878   387682 2023-02-06 01:09:39.046   \n",
       "5366879   387682 2023-02-06 01:09:39.046   \n",
       "5366880   387682 2023-02-06 01:09:39.046   \n",
       "5366881   387682 2023-02-06 01:10:17.445   \n",
       "\n",
       "                            transaction_token evaluation         action  \\\n",
       "0        88fdcaad-f73b-46a2-b561-d262f2441442    PARTIAL  VIEW_QUESTION   \n",
       "1        88fdcaad-f73b-46a2-b561-d262f2441442    PARTIAL  SUBMIT_ANSWER   \n",
       "2        88fdcaad-f73b-46a2-b561-d262f2441442    PARTIAL           NEXT   \n",
       "3        a75eb7b4-b2c2-47d4-9200-27980c175037    PARTIAL  VIEW_QUESTION   \n",
       "4        a75eb7b4-b2c2-47d4-9200-27980c175037    PARTIAL  SUBMIT_ANSWER   \n",
       "...                                       ...        ...            ...   \n",
       "5366877  35eee551-0197-46b3-9151-8bcb93a23bd2    CORRECT           NEXT   \n",
       "5366878  39b80533-7093-4c81-90d3-c54d01c2b401    CORRECT    REVIEW_TASK   \n",
       "5366879  39b80533-7093-4c81-90d3-c54d01c2b401    CORRECT  SUBMIT_ANSWER   \n",
       "5366880  39b80533-7093-4c81-90d3-c54d01c2b401    CORRECT           NEXT   \n",
       "5366881  bcc196db-fbca-4df5-b588-0e3648a12622        NaN    REVIEW_TASK   \n",
       "\n",
       "                 min_start_time  \n",
       "0       2021-05-21 07:58:27.312  \n",
       "1       2021-05-21 07:58:27.312  \n",
       "2       2021-05-21 07:58:27.312  \n",
       "3       2021-05-21 07:58:27.312  \n",
       "4       2021-05-21 07:58:27.312  \n",
       "...                         ...  \n",
       "5366877 2021-11-25 13:44:35.329  \n",
       "5366878 2021-11-25 13:44:35.329  \n",
       "5366879 2021-11-25 13:44:35.329  \n",
       "5366880 2021-11-25 13:44:35.329  \n",
       "5366881 2021-11-25 13:44:35.329  \n",
       "\n",
       "[5366882 rows x 6 columns]"
      ]
     },
     "execution_count": 69,
     "metadata": {},
     "output_type": "execute_result"
    }
   ],
   "source": [
    "# Merge this to new_transaction table\n",
    "new_transactions = new_transactions.merge(earliest_transaction, on='user_id', how='left')\n",
    "new_transactions"
   ]
  },
  {
   "cell_type": "code",
   "execution_count": 70,
   "id": "9b3e8c4f",
   "metadata": {},
   "outputs": [
    {
     "data": {
      "text/html": [
       "<div>\n",
       "<style scoped>\n",
       "    .dataframe tbody tr th:only-of-type {\n",
       "        vertical-align: middle;\n",
       "    }\n",
       "\n",
       "    .dataframe tbody tr th {\n",
       "        vertical-align: top;\n",
       "    }\n",
       "\n",
       "    .dataframe thead th {\n",
       "        text-align: right;\n",
       "    }\n",
       "</style>\n",
       "<table border=\"1\" class=\"dataframe\">\n",
       "  <thead>\n",
       "    <tr style=\"text-align: right;\">\n",
       "      <th></th>\n",
       "      <th>user_id</th>\n",
       "      <th>start_time</th>\n",
       "      <th>transaction_token</th>\n",
       "      <th>evaluation</th>\n",
       "      <th>action</th>\n",
       "      <th>min_start_time</th>\n",
       "      <th>weeks_since_first_transaction</th>\n",
       "    </tr>\n",
       "  </thead>\n",
       "  <tbody>\n",
       "    <tr>\n",
       "      <th>0</th>\n",
       "      <td>393211</td>\n",
       "      <td>2021-05-21 07:58:27.312</td>\n",
       "      <td>88fdcaad-f73b-46a2-b561-d262f2441442</td>\n",
       "      <td>PARTIAL</td>\n",
       "      <td>VIEW_QUESTION</td>\n",
       "      <td>2021-05-21 07:58:27.312</td>\n",
       "      <td>0</td>\n",
       "    </tr>\n",
       "    <tr>\n",
       "      <th>1</th>\n",
       "      <td>393211</td>\n",
       "      <td>2021-05-21 07:58:27.312</td>\n",
       "      <td>88fdcaad-f73b-46a2-b561-d262f2441442</td>\n",
       "      <td>PARTIAL</td>\n",
       "      <td>SUBMIT_ANSWER</td>\n",
       "      <td>2021-05-21 07:58:27.312</td>\n",
       "      <td>0</td>\n",
       "    </tr>\n",
       "    <tr>\n",
       "      <th>2</th>\n",
       "      <td>393211</td>\n",
       "      <td>2021-05-21 07:58:27.312</td>\n",
       "      <td>88fdcaad-f73b-46a2-b561-d262f2441442</td>\n",
       "      <td>PARTIAL</td>\n",
       "      <td>NEXT</td>\n",
       "      <td>2021-05-21 07:58:27.312</td>\n",
       "      <td>0</td>\n",
       "    </tr>\n",
       "    <tr>\n",
       "      <th>3</th>\n",
       "      <td>393211</td>\n",
       "      <td>2021-05-21 08:04:05.067</td>\n",
       "      <td>a75eb7b4-b2c2-47d4-9200-27980c175037</td>\n",
       "      <td>PARTIAL</td>\n",
       "      <td>VIEW_QUESTION</td>\n",
       "      <td>2021-05-21 07:58:27.312</td>\n",
       "      <td>0</td>\n",
       "    </tr>\n",
       "    <tr>\n",
       "      <th>4</th>\n",
       "      <td>393211</td>\n",
       "      <td>2021-05-21 08:04:05.067</td>\n",
       "      <td>a75eb7b4-b2c2-47d4-9200-27980c175037</td>\n",
       "      <td>PARTIAL</td>\n",
       "      <td>SUBMIT_ANSWER</td>\n",
       "      <td>2021-05-21 07:58:27.312</td>\n",
       "      <td>0</td>\n",
       "    </tr>\n",
       "    <tr>\n",
       "      <th>...</th>\n",
       "      <td>...</td>\n",
       "      <td>...</td>\n",
       "      <td>...</td>\n",
       "      <td>...</td>\n",
       "      <td>...</td>\n",
       "      <td>...</td>\n",
       "      <td>...</td>\n",
       "    </tr>\n",
       "    <tr>\n",
       "      <th>5366877</th>\n",
       "      <td>387682</td>\n",
       "      <td>2023-02-06 01:08:19.478</td>\n",
       "      <td>35eee551-0197-46b3-9151-8bcb93a23bd2</td>\n",
       "      <td>CORRECT</td>\n",
       "      <td>NEXT</td>\n",
       "      <td>2021-11-25 13:44:35.329</td>\n",
       "      <td>62</td>\n",
       "    </tr>\n",
       "    <tr>\n",
       "      <th>5366878</th>\n",
       "      <td>387682</td>\n",
       "      <td>2023-02-06 01:09:39.046</td>\n",
       "      <td>39b80533-7093-4c81-90d3-c54d01c2b401</td>\n",
       "      <td>CORRECT</td>\n",
       "      <td>REVIEW_TASK</td>\n",
       "      <td>2021-11-25 13:44:35.329</td>\n",
       "      <td>62</td>\n",
       "    </tr>\n",
       "    <tr>\n",
       "      <th>5366879</th>\n",
       "      <td>387682</td>\n",
       "      <td>2023-02-06 01:09:39.046</td>\n",
       "      <td>39b80533-7093-4c81-90d3-c54d01c2b401</td>\n",
       "      <td>CORRECT</td>\n",
       "      <td>SUBMIT_ANSWER</td>\n",
       "      <td>2021-11-25 13:44:35.329</td>\n",
       "      <td>62</td>\n",
       "    </tr>\n",
       "    <tr>\n",
       "      <th>5366880</th>\n",
       "      <td>387682</td>\n",
       "      <td>2023-02-06 01:09:39.046</td>\n",
       "      <td>39b80533-7093-4c81-90d3-c54d01c2b401</td>\n",
       "      <td>CORRECT</td>\n",
       "      <td>NEXT</td>\n",
       "      <td>2021-11-25 13:44:35.329</td>\n",
       "      <td>62</td>\n",
       "    </tr>\n",
       "    <tr>\n",
       "      <th>5366881</th>\n",
       "      <td>387682</td>\n",
       "      <td>2023-02-06 01:10:17.445</td>\n",
       "      <td>bcc196db-fbca-4df5-b588-0e3648a12622</td>\n",
       "      <td>NaN</td>\n",
       "      <td>REVIEW_TASK</td>\n",
       "      <td>2021-11-25 13:44:35.329</td>\n",
       "      <td>62</td>\n",
       "    </tr>\n",
       "  </tbody>\n",
       "</table>\n",
       "<p>5366882 rows × 7 columns</p>\n",
       "</div>"
      ],
      "text/plain": [
       "         user_id              start_time  \\\n",
       "0         393211 2021-05-21 07:58:27.312   \n",
       "1         393211 2021-05-21 07:58:27.312   \n",
       "2         393211 2021-05-21 07:58:27.312   \n",
       "3         393211 2021-05-21 08:04:05.067   \n",
       "4         393211 2021-05-21 08:04:05.067   \n",
       "...          ...                     ...   \n",
       "5366877   387682 2023-02-06 01:08:19.478   \n",
       "5366878   387682 2023-02-06 01:09:39.046   \n",
       "5366879   387682 2023-02-06 01:09:39.046   \n",
       "5366880   387682 2023-02-06 01:09:39.046   \n",
       "5366881   387682 2023-02-06 01:10:17.445   \n",
       "\n",
       "                            transaction_token evaluation         action  \\\n",
       "0        88fdcaad-f73b-46a2-b561-d262f2441442    PARTIAL  VIEW_QUESTION   \n",
       "1        88fdcaad-f73b-46a2-b561-d262f2441442    PARTIAL  SUBMIT_ANSWER   \n",
       "2        88fdcaad-f73b-46a2-b561-d262f2441442    PARTIAL           NEXT   \n",
       "3        a75eb7b4-b2c2-47d4-9200-27980c175037    PARTIAL  VIEW_QUESTION   \n",
       "4        a75eb7b4-b2c2-47d4-9200-27980c175037    PARTIAL  SUBMIT_ANSWER   \n",
       "...                                       ...        ...            ...   \n",
       "5366877  35eee551-0197-46b3-9151-8bcb93a23bd2    CORRECT           NEXT   \n",
       "5366878  39b80533-7093-4c81-90d3-c54d01c2b401    CORRECT    REVIEW_TASK   \n",
       "5366879  39b80533-7093-4c81-90d3-c54d01c2b401    CORRECT  SUBMIT_ANSWER   \n",
       "5366880  39b80533-7093-4c81-90d3-c54d01c2b401    CORRECT           NEXT   \n",
       "5366881  bcc196db-fbca-4df5-b588-0e3648a12622        NaN    REVIEW_TASK   \n",
       "\n",
       "                 min_start_time  weeks_since_first_transaction  \n",
       "0       2021-05-21 07:58:27.312                              0  \n",
       "1       2021-05-21 07:58:27.312                              0  \n",
       "2       2021-05-21 07:58:27.312                              0  \n",
       "3       2021-05-21 07:58:27.312                              0  \n",
       "4       2021-05-21 07:58:27.312                              0  \n",
       "...                         ...                            ...  \n",
       "5366877 2021-11-25 13:44:35.329                             62  \n",
       "5366878 2021-11-25 13:44:35.329                             62  \n",
       "5366879 2021-11-25 13:44:35.329                             62  \n",
       "5366880 2021-11-25 13:44:35.329                             62  \n",
       "5366881 2021-11-25 13:44:35.329                             62  \n",
       "\n",
       "[5366882 rows x 7 columns]"
      ]
     },
     "execution_count": 70,
     "metadata": {},
     "output_type": "execute_result"
    }
   ],
   "source": [
    "# Find how many number of weeks between the earliest transaction and the current transaction, only store the integer part\n",
    "new_transactions['weeks_since_first_transaction'] = (new_transactions['start_time'] - new_transactions['min_start_time']).dt.days // 7\n",
    "new_transactions"
   ]
  },
  {
   "cell_type": "code",
   "execution_count": 71,
   "id": "a440401b",
   "metadata": {},
   "outputs": [
    {
     "data": {
      "text/html": [
       "<div>\n",
       "<style scoped>\n",
       "    .dataframe tbody tr th:only-of-type {\n",
       "        vertical-align: middle;\n",
       "    }\n",
       "\n",
       "    .dataframe tbody tr th {\n",
       "        vertical-align: top;\n",
       "    }\n",
       "\n",
       "    .dataframe thead th {\n",
       "        text-align: right;\n",
       "    }\n",
       "</style>\n",
       "<table border=\"1\" class=\"dataframe\">\n",
       "  <thead>\n",
       "    <tr style=\"text-align: right;\">\n",
       "      <th></th>\n",
       "      <th>user_id</th>\n",
       "      <th>weeks_since_first_transaction</th>\n",
       "      <th>num_events</th>\n",
       "    </tr>\n",
       "  </thead>\n",
       "  <tbody>\n",
       "    <tr>\n",
       "      <th>0</th>\n",
       "      <td>387604</td>\n",
       "      <td>0</td>\n",
       "      <td>2</td>\n",
       "    </tr>\n",
       "    <tr>\n",
       "      <th>1</th>\n",
       "      <td>387604</td>\n",
       "      <td>5</td>\n",
       "      <td>21</td>\n",
       "    </tr>\n",
       "    <tr>\n",
       "      <th>2</th>\n",
       "      <td>387604</td>\n",
       "      <td>12</td>\n",
       "      <td>2</td>\n",
       "    </tr>\n",
       "    <tr>\n",
       "      <th>3</th>\n",
       "      <td>387604</td>\n",
       "      <td>14</td>\n",
       "      <td>29</td>\n",
       "    </tr>\n",
       "    <tr>\n",
       "      <th>4</th>\n",
       "      <td>387604</td>\n",
       "      <td>15</td>\n",
       "      <td>5</td>\n",
       "    </tr>\n",
       "    <tr>\n",
       "      <th>...</th>\n",
       "      <td>...</td>\n",
       "      <td>...</td>\n",
       "      <td>...</td>\n",
       "    </tr>\n",
       "    <tr>\n",
       "      <th>72945</th>\n",
       "      <td>431999</td>\n",
       "      <td>0</td>\n",
       "      <td>31</td>\n",
       "    </tr>\n",
       "    <tr>\n",
       "      <th>72946</th>\n",
       "      <td>432001</td>\n",
       "      <td>0</td>\n",
       "      <td>22</td>\n",
       "    </tr>\n",
       "    <tr>\n",
       "      <th>72947</th>\n",
       "      <td>432014</td>\n",
       "      <td>0</td>\n",
       "      <td>39</td>\n",
       "    </tr>\n",
       "    <tr>\n",
       "      <th>72948</th>\n",
       "      <td>432016</td>\n",
       "      <td>0</td>\n",
       "      <td>18</td>\n",
       "    </tr>\n",
       "    <tr>\n",
       "      <th>72949</th>\n",
       "      <td>432020</td>\n",
       "      <td>0</td>\n",
       "      <td>55</td>\n",
       "    </tr>\n",
       "  </tbody>\n",
       "</table>\n",
       "<p>72950 rows × 3 columns</p>\n",
       "</div>"
      ],
      "text/plain": [
       "       user_id  weeks_since_first_transaction  num_events\n",
       "0       387604                              0           2\n",
       "1       387604                              5          21\n",
       "2       387604                             12           2\n",
       "3       387604                             14          29\n",
       "4       387604                             15           5\n",
       "...        ...                            ...         ...\n",
       "72945   431999                              0          31\n",
       "72946   432001                              0          22\n",
       "72947   432014                              0          39\n",
       "72948   432016                              0          18\n",
       "72949   432020                              0          55\n",
       "\n",
       "[72950 rows x 3 columns]"
      ]
     },
     "execution_count": 71,
     "metadata": {},
     "output_type": "execute_result"
    }
   ],
   "source": [
    "# Find the number of transactions for each user for weeks = 0 till 10\n",
    "num_events_weekly = new_transactions.groupby(['user_id','weeks_since_first_transaction']).action.count().reset_index()\n",
    "# Rename the column to num_events\n",
    "num_events_weekly = num_events_weekly.rename(columns={'action': 'num_events'})\n",
    "num_events_weekly"
   ]
  },
  {
   "cell_type": "code",
   "execution_count": 72,
   "id": "87960f29",
   "metadata": {},
   "outputs": [
    {
     "data": {
      "text/html": [
       "<div>\n",
       "<style scoped>\n",
       "    .dataframe tbody tr th:only-of-type {\n",
       "        vertical-align: middle;\n",
       "    }\n",
       "\n",
       "    .dataframe tbody tr th {\n",
       "        vertical-align: top;\n",
       "    }\n",
       "\n",
       "    .dataframe thead th {\n",
       "        text-align: right;\n",
       "    }\n",
       "</style>\n",
       "<table border=\"1\" class=\"dataframe\">\n",
       "  <thead>\n",
       "    <tr style=\"text-align: right;\">\n",
       "      <th></th>\n",
       "      <th>user_id</th>\n",
       "      <th>weeks_since_first_transaction</th>\n",
       "      <th>num_questions</th>\n",
       "    </tr>\n",
       "  </thead>\n",
       "  <tbody>\n",
       "    <tr>\n",
       "      <th>0</th>\n",
       "      <td>387604</td>\n",
       "      <td>14</td>\n",
       "      <td>1</td>\n",
       "    </tr>\n",
       "    <tr>\n",
       "      <th>1</th>\n",
       "      <td>387604</td>\n",
       "      <td>17</td>\n",
       "      <td>4</td>\n",
       "    </tr>\n",
       "    <tr>\n",
       "      <th>2</th>\n",
       "      <td>387604</td>\n",
       "      <td>18</td>\n",
       "      <td>2</td>\n",
       "    </tr>\n",
       "    <tr>\n",
       "      <th>3</th>\n",
       "      <td>387604</td>\n",
       "      <td>19</td>\n",
       "      <td>1</td>\n",
       "    </tr>\n",
       "    <tr>\n",
       "      <th>4</th>\n",
       "      <td>387604</td>\n",
       "      <td>21</td>\n",
       "      <td>1</td>\n",
       "    </tr>\n",
       "    <tr>\n",
       "      <th>...</th>\n",
       "      <td>...</td>\n",
       "      <td>...</td>\n",
       "      <td>...</td>\n",
       "    </tr>\n",
       "    <tr>\n",
       "      <th>65132</th>\n",
       "      <td>431999</td>\n",
       "      <td>0</td>\n",
       "      <td>4</td>\n",
       "    </tr>\n",
       "    <tr>\n",
       "      <th>65133</th>\n",
       "      <td>432001</td>\n",
       "      <td>0</td>\n",
       "      <td>6</td>\n",
       "    </tr>\n",
       "    <tr>\n",
       "      <th>65134</th>\n",
       "      <td>432014</td>\n",
       "      <td>0</td>\n",
       "      <td>9</td>\n",
       "    </tr>\n",
       "    <tr>\n",
       "      <th>65135</th>\n",
       "      <td>432016</td>\n",
       "      <td>0</td>\n",
       "      <td>5</td>\n",
       "    </tr>\n",
       "    <tr>\n",
       "      <th>65136</th>\n",
       "      <td>432020</td>\n",
       "      <td>0</td>\n",
       "      <td>7</td>\n",
       "    </tr>\n",
       "  </tbody>\n",
       "</table>\n",
       "<p>65137 rows × 3 columns</p>\n",
       "</div>"
      ],
      "text/plain": [
       "       user_id  weeks_since_first_transaction  num_questions\n",
       "0       387604                             14              1\n",
       "1       387604                             17              4\n",
       "2       387604                             18              2\n",
       "3       387604                             19              1\n",
       "4       387604                             21              1\n",
       "...        ...                            ...            ...\n",
       "65132   431999                              0              4\n",
       "65133   432001                              0              6\n",
       "65134   432014                              0              9\n",
       "65135   432016                              0              5\n",
       "65136   432020                              0              7\n",
       "\n",
       "[65137 rows x 3 columns]"
      ]
     },
     "execution_count": 72,
     "metadata": {},
     "output_type": "execute_result"
    }
   ],
   "source": [
    "# Only consider question answering events (action = 'SUBMIT_ANSWER')\n",
    "num_questions_weekly = new_transactions[new_transactions.action == 'SUBMIT_ANSWER']\n",
    "# Count the number of questions for each user for weeks = 0 till 10\n",
    "num_questions_weekly = num_questions_weekly.groupby(['user_id','weeks_since_first_transaction']).action.count().reset_index()\n",
    "# Rename column to num_questions\n",
    "num_questions_weekly = num_questions_weekly.rename(columns={'action': 'num_questions'})\n",
    "num_questions_weekly"
   ]
  },
  {
   "cell_type": "code",
   "execution_count": 73,
   "id": "8b64f302",
   "metadata": {},
   "outputs": [
    {
     "data": {
      "text/html": [
       "<div>\n",
       "<style scoped>\n",
       "    .dataframe tbody tr th:only-of-type {\n",
       "        vertical-align: middle;\n",
       "    }\n",
       "\n",
       "    .dataframe tbody tr th {\n",
       "        vertical-align: top;\n",
       "    }\n",
       "\n",
       "    .dataframe thead th {\n",
       "        text-align: right;\n",
       "    }\n",
       "</style>\n",
       "<table border=\"1\" class=\"dataframe\">\n",
       "  <thead>\n",
       "    <tr style=\"text-align: right;\">\n",
       "      <th></th>\n",
       "      <th>user_id</th>\n",
       "      <th>weeks_since_first_transaction</th>\n",
       "      <th>num_correct</th>\n",
       "    </tr>\n",
       "  </thead>\n",
       "  <tbody>\n",
       "    <tr>\n",
       "      <th>0</th>\n",
       "      <td>387604</td>\n",
       "      <td>18</td>\n",
       "      <td>1</td>\n",
       "    </tr>\n",
       "    <tr>\n",
       "      <th>1</th>\n",
       "      <td>387604</td>\n",
       "      <td>23</td>\n",
       "      <td>1</td>\n",
       "    </tr>\n",
       "    <tr>\n",
       "      <th>2</th>\n",
       "      <td>387604</td>\n",
       "      <td>24</td>\n",
       "      <td>9</td>\n",
       "    </tr>\n",
       "    <tr>\n",
       "      <th>3</th>\n",
       "      <td>387604</td>\n",
       "      <td>25</td>\n",
       "      <td>6</td>\n",
       "    </tr>\n",
       "    <tr>\n",
       "      <th>4</th>\n",
       "      <td>387604</td>\n",
       "      <td>29</td>\n",
       "      <td>5</td>\n",
       "    </tr>\n",
       "    <tr>\n",
       "      <th>...</th>\n",
       "      <td>...</td>\n",
       "      <td>...</td>\n",
       "      <td>...</td>\n",
       "    </tr>\n",
       "    <tr>\n",
       "      <th>58075</th>\n",
       "      <td>431999</td>\n",
       "      <td>0</td>\n",
       "      <td>2</td>\n",
       "    </tr>\n",
       "    <tr>\n",
       "      <th>58076</th>\n",
       "      <td>432001</td>\n",
       "      <td>0</td>\n",
       "      <td>3</td>\n",
       "    </tr>\n",
       "    <tr>\n",
       "      <th>58077</th>\n",
       "      <td>432014</td>\n",
       "      <td>0</td>\n",
       "      <td>6</td>\n",
       "    </tr>\n",
       "    <tr>\n",
       "      <th>58078</th>\n",
       "      <td>432016</td>\n",
       "      <td>0</td>\n",
       "      <td>2</td>\n",
       "    </tr>\n",
       "    <tr>\n",
       "      <th>58079</th>\n",
       "      <td>432020</td>\n",
       "      <td>0</td>\n",
       "      <td>5</td>\n",
       "    </tr>\n",
       "  </tbody>\n",
       "</table>\n",
       "<p>58080 rows × 3 columns</p>\n",
       "</div>"
      ],
      "text/plain": [
       "       user_id  weeks_since_first_transaction  num_correct\n",
       "0       387604                             18            1\n",
       "1       387604                             23            1\n",
       "2       387604                             24            9\n",
       "3       387604                             25            6\n",
       "4       387604                             29            5\n",
       "...        ...                            ...          ...\n",
       "58075   431999                              0            2\n",
       "58076   432001                              0            3\n",
       "58077   432014                              0            6\n",
       "58078   432016                              0            2\n",
       "58079   432020                              0            5\n",
       "\n",
       "[58080 rows x 3 columns]"
      ]
     },
     "execution_count": 73,
     "metadata": {},
     "output_type": "execute_result"
    }
   ],
   "source": [
    "# Only consider question answering events that are correct (evaluation = 'CORRECT')\n",
    "num_correct_weekly = new_transactions[(new_transactions.evaluation == 'CORRECT') & (new_transactions.action == 'SUBMIT_ANSWER')]\n",
    "# Count the number of correct questions for each user for weeks = 0 till 10\n",
    "num_correct_weekly = num_correct_weekly.groupby(['user_id','weeks_since_first_transaction']).action.count().reset_index()\n",
    "# Rename column to num_correct\n",
    "num_correct_weekly = num_correct_weekly.rename(columns={'action': 'num_correct'})\n",
    "num_correct_weekly"
   ]
  },
  {
   "cell_type": "code",
   "execution_count": 74,
   "id": "dd3d25c5",
   "metadata": {},
   "outputs": [
    {
     "data": {
      "text/html": [
       "<div>\n",
       "<style scoped>\n",
       "    .dataframe tbody tr th:only-of-type {\n",
       "        vertical-align: middle;\n",
       "    }\n",
       "\n",
       "    .dataframe tbody tr th {\n",
       "        vertical-align: top;\n",
       "    }\n",
       "\n",
       "    .dataframe thead th {\n",
       "        text-align: right;\n",
       "    }\n",
       "</style>\n",
       "<table border=\"1\" class=\"dataframe\">\n",
       "  <thead>\n",
       "    <tr style=\"text-align: right;\">\n",
       "      <th></th>\n",
       "      <th>user_id</th>\n",
       "      <th>weeks_since_first_transaction</th>\n",
       "      <th>num_partial</th>\n",
       "    </tr>\n",
       "  </thead>\n",
       "  <tbody>\n",
       "    <tr>\n",
       "      <th>0</th>\n",
       "      <td>387604</td>\n",
       "      <td>17</td>\n",
       "      <td>1</td>\n",
       "    </tr>\n",
       "    <tr>\n",
       "      <th>1</th>\n",
       "      <td>387604</td>\n",
       "      <td>18</td>\n",
       "      <td>1</td>\n",
       "    </tr>\n",
       "    <tr>\n",
       "      <th>2</th>\n",
       "      <td>387604</td>\n",
       "      <td>19</td>\n",
       "      <td>1</td>\n",
       "    </tr>\n",
       "    <tr>\n",
       "      <th>3</th>\n",
       "      <td>387604</td>\n",
       "      <td>21</td>\n",
       "      <td>1</td>\n",
       "    </tr>\n",
       "    <tr>\n",
       "      <th>4</th>\n",
       "      <td>387604</td>\n",
       "      <td>23</td>\n",
       "      <td>6</td>\n",
       "    </tr>\n",
       "    <tr>\n",
       "      <th>...</th>\n",
       "      <td>...</td>\n",
       "      <td>...</td>\n",
       "      <td>...</td>\n",
       "    </tr>\n",
       "    <tr>\n",
       "      <th>54987</th>\n",
       "      <td>431988</td>\n",
       "      <td>0</td>\n",
       "      <td>1</td>\n",
       "    </tr>\n",
       "    <tr>\n",
       "      <th>54988</th>\n",
       "      <td>431989</td>\n",
       "      <td>0</td>\n",
       "      <td>1</td>\n",
       "    </tr>\n",
       "    <tr>\n",
       "      <th>54989</th>\n",
       "      <td>431991</td>\n",
       "      <td>0</td>\n",
       "      <td>1</td>\n",
       "    </tr>\n",
       "    <tr>\n",
       "      <th>54990</th>\n",
       "      <td>431999</td>\n",
       "      <td>0</td>\n",
       "      <td>1</td>\n",
       "    </tr>\n",
       "    <tr>\n",
       "      <th>54991</th>\n",
       "      <td>432016</td>\n",
       "      <td>0</td>\n",
       "      <td>2</td>\n",
       "    </tr>\n",
       "  </tbody>\n",
       "</table>\n",
       "<p>54992 rows × 3 columns</p>\n",
       "</div>"
      ],
      "text/plain": [
       "       user_id  weeks_since_first_transaction  num_partial\n",
       "0       387604                             17            1\n",
       "1       387604                             18            1\n",
       "2       387604                             19            1\n",
       "3       387604                             21            1\n",
       "4       387604                             23            6\n",
       "...        ...                            ...          ...\n",
       "54987   431988                              0            1\n",
       "54988   431989                              0            1\n",
       "54989   431991                              0            1\n",
       "54990   431999                              0            1\n",
       "54991   432016                              0            2\n",
       "\n",
       "[54992 rows x 3 columns]"
      ]
     },
     "execution_count": 74,
     "metadata": {},
     "output_type": "execute_result"
    }
   ],
   "source": [
    "# Only consider question answering events that are correct (evaluation = 'PARTIAL')\n",
    "num_partial_weekly = new_transactions[(new_transactions.evaluation == 'PARTIAL') & (new_transactions.action == 'SUBMIT_ANSWER')]\n",
    "# Count the number of correct questions for each user for weeks = 0 till 10\n",
    "num_partial_weekly = num_partial_weekly.groupby(['user_id','weeks_since_first_transaction']).action.count().reset_index()\n",
    "# Rename column to num_correct\n",
    "num_partial_weekly = num_partial_weekly.rename(columns={'action': 'num_partial'})\n",
    "num_partial_weekly"
   ]
  },
  {
   "cell_type": "code",
   "execution_count": 75,
   "id": "0428128f",
   "metadata": {},
   "outputs": [],
   "source": [
    "# Merge the three tables together\n",
    "num_questions_weekly = num_questions_weekly.merge(num_correct_weekly, on=['user_id','weeks_since_first_transaction'], how='left')\n",
    "num_questions_weekly = num_questions_weekly.merge(num_partial_weekly, on=['user_id','weeks_since_first_transaction'], how='left')\n",
    "num_questions_weekly.fillna(0, inplace=True)"
   ]
  },
  {
   "cell_type": "code",
   "execution_count": 76,
   "id": "bad931c5",
   "metadata": {},
   "outputs": [
    {
     "data": {
      "text/html": [
       "<div>\n",
       "<style scoped>\n",
       "    .dataframe tbody tr th:only-of-type {\n",
       "        vertical-align: middle;\n",
       "    }\n",
       "\n",
       "    .dataframe tbody tr th {\n",
       "        vertical-align: top;\n",
       "    }\n",
       "\n",
       "    .dataframe thead th {\n",
       "        text-align: right;\n",
       "    }\n",
       "</style>\n",
       "<table border=\"1\" class=\"dataframe\">\n",
       "  <thead>\n",
       "    <tr style=\"text-align: right;\">\n",
       "      <th></th>\n",
       "      <th>user_id</th>\n",
       "      <th>weeks_since_first_transaction</th>\n",
       "      <th>num_questions</th>\n",
       "      <th>percentage_correct</th>\n",
       "    </tr>\n",
       "  </thead>\n",
       "  <tbody>\n",
       "    <tr>\n",
       "      <th>0</th>\n",
       "      <td>387604</td>\n",
       "      <td>14</td>\n",
       "      <td>1</td>\n",
       "      <td>0.000000</td>\n",
       "    </tr>\n",
       "    <tr>\n",
       "      <th>1</th>\n",
       "      <td>387604</td>\n",
       "      <td>17</td>\n",
       "      <td>4</td>\n",
       "      <td>0.125000</td>\n",
       "    </tr>\n",
       "    <tr>\n",
       "      <th>2</th>\n",
       "      <td>387604</td>\n",
       "      <td>18</td>\n",
       "      <td>2</td>\n",
       "      <td>0.750000</td>\n",
       "    </tr>\n",
       "    <tr>\n",
       "      <th>3</th>\n",
       "      <td>387604</td>\n",
       "      <td>19</td>\n",
       "      <td>1</td>\n",
       "      <td>0.500000</td>\n",
       "    </tr>\n",
       "    <tr>\n",
       "      <th>4</th>\n",
       "      <td>387604</td>\n",
       "      <td>21</td>\n",
       "      <td>1</td>\n",
       "      <td>0.500000</td>\n",
       "    </tr>\n",
       "    <tr>\n",
       "      <th>...</th>\n",
       "      <td>...</td>\n",
       "      <td>...</td>\n",
       "      <td>...</td>\n",
       "      <td>...</td>\n",
       "    </tr>\n",
       "    <tr>\n",
       "      <th>65132</th>\n",
       "      <td>431999</td>\n",
       "      <td>0</td>\n",
       "      <td>4</td>\n",
       "      <td>0.625000</td>\n",
       "    </tr>\n",
       "    <tr>\n",
       "      <th>65133</th>\n",
       "      <td>432001</td>\n",
       "      <td>0</td>\n",
       "      <td>6</td>\n",
       "      <td>0.500000</td>\n",
       "    </tr>\n",
       "    <tr>\n",
       "      <th>65134</th>\n",
       "      <td>432014</td>\n",
       "      <td>0</td>\n",
       "      <td>9</td>\n",
       "      <td>0.666667</td>\n",
       "    </tr>\n",
       "    <tr>\n",
       "      <th>65135</th>\n",
       "      <td>432016</td>\n",
       "      <td>0</td>\n",
       "      <td>5</td>\n",
       "      <td>0.600000</td>\n",
       "    </tr>\n",
       "    <tr>\n",
       "      <th>65136</th>\n",
       "      <td>432020</td>\n",
       "      <td>0</td>\n",
       "      <td>7</td>\n",
       "      <td>0.714286</td>\n",
       "    </tr>\n",
       "  </tbody>\n",
       "</table>\n",
       "<p>65137 rows × 4 columns</p>\n",
       "</div>"
      ],
      "text/plain": [
       "       user_id  weeks_since_first_transaction  num_questions  \\\n",
       "0       387604                             14              1   \n",
       "1       387604                             17              4   \n",
       "2       387604                             18              2   \n",
       "3       387604                             19              1   \n",
       "4       387604                             21              1   \n",
       "...        ...                            ...            ...   \n",
       "65132   431999                              0              4   \n",
       "65133   432001                              0              6   \n",
       "65134   432014                              0              9   \n",
       "65135   432016                              0              5   \n",
       "65136   432020                              0              7   \n",
       "\n",
       "       percentage_correct  \n",
       "0                0.000000  \n",
       "1                0.125000  \n",
       "2                0.750000  \n",
       "3                0.500000  \n",
       "4                0.500000  \n",
       "...                   ...  \n",
       "65132            0.625000  \n",
       "65133            0.500000  \n",
       "65134            0.666667  \n",
       "65135            0.600000  \n",
       "65136            0.714286  \n",
       "\n",
       "[65137 rows x 4 columns]"
      ]
     },
     "execution_count": 76,
     "metadata": {},
     "output_type": "execute_result"
    }
   ],
   "source": [
    "# Create new column percentage_correct = (num_correct +0.5*num_partial)/ num_questions\n",
    "num_questions_weekly['percentage_correct'] = (num_questions_weekly.num_correct + 0.5*num_questions_weekly.num_partial)/num_questions_weekly.num_questions\n",
    "# Drop the columns num_correct and num_partial\n",
    "num_questions_weekly = num_questions_weekly.drop(columns=['num_correct','num_partial'])\n",
    "num_questions_weekly"
   ]
  },
  {
   "cell_type": "code",
   "execution_count": 77,
   "id": "1f81d1ed",
   "metadata": {},
   "outputs": [
    {
     "data": {
      "text/html": [
       "<div>\n",
       "<style scoped>\n",
       "    .dataframe tbody tr th:only-of-type {\n",
       "        vertical-align: middle;\n",
       "    }\n",
       "\n",
       "    .dataframe tbody tr th {\n",
       "        vertical-align: top;\n",
       "    }\n",
       "\n",
       "    .dataframe thead th {\n",
       "        text-align: right;\n",
       "    }\n",
       "</style>\n",
       "<table border=\"1\" class=\"dataframe\">\n",
       "  <thead>\n",
       "    <tr style=\"text-align: right;\">\n",
       "      <th></th>\n",
       "      <th>user_id</th>\n",
       "      <th>weeks_since_first_transaction</th>\n",
       "      <th>num_reading</th>\n",
       "    </tr>\n",
       "  </thead>\n",
       "  <tbody>\n",
       "    <tr>\n",
       "      <th>0</th>\n",
       "      <td>387604</td>\n",
       "      <td>25</td>\n",
       "      <td>5</td>\n",
       "    </tr>\n",
       "    <tr>\n",
       "      <th>1</th>\n",
       "      <td>387604</td>\n",
       "      <td>86</td>\n",
       "      <td>1</td>\n",
       "    </tr>\n",
       "    <tr>\n",
       "      <th>2</th>\n",
       "      <td>387605</td>\n",
       "      <td>6</td>\n",
       "      <td>2</td>\n",
       "    </tr>\n",
       "    <tr>\n",
       "      <th>3</th>\n",
       "      <td>387605</td>\n",
       "      <td>44</td>\n",
       "      <td>1</td>\n",
       "    </tr>\n",
       "    <tr>\n",
       "      <th>4</th>\n",
       "      <td>387615</td>\n",
       "      <td>0</td>\n",
       "      <td>1</td>\n",
       "    </tr>\n",
       "    <tr>\n",
       "      <th>...</th>\n",
       "      <td>...</td>\n",
       "      <td>...</td>\n",
       "      <td>...</td>\n",
       "    </tr>\n",
       "    <tr>\n",
       "      <th>8174</th>\n",
       "      <td>431880</td>\n",
       "      <td>0</td>\n",
       "      <td>1</td>\n",
       "    </tr>\n",
       "    <tr>\n",
       "      <th>8175</th>\n",
       "      <td>431963</td>\n",
       "      <td>0</td>\n",
       "      <td>1</td>\n",
       "    </tr>\n",
       "    <tr>\n",
       "      <th>8176</th>\n",
       "      <td>431965</td>\n",
       "      <td>0</td>\n",
       "      <td>1</td>\n",
       "    </tr>\n",
       "    <tr>\n",
       "      <th>8177</th>\n",
       "      <td>431972</td>\n",
       "      <td>0</td>\n",
       "      <td>1</td>\n",
       "    </tr>\n",
       "    <tr>\n",
       "      <th>8178</th>\n",
       "      <td>432020</td>\n",
       "      <td>0</td>\n",
       "      <td>1</td>\n",
       "    </tr>\n",
       "  </tbody>\n",
       "</table>\n",
       "<p>8179 rows × 3 columns</p>\n",
       "</div>"
      ],
      "text/plain": [
       "      user_id  weeks_since_first_transaction  num_reading\n",
       "0      387604                             25            5\n",
       "1      387604                             86            1\n",
       "2      387605                              6            2\n",
       "3      387605                             44            1\n",
       "4      387615                              0            1\n",
       "...       ...                            ...          ...\n",
       "8174   431880                              0            1\n",
       "8175   431963                              0            1\n",
       "8176   431965                              0            1\n",
       "8177   431972                              0            1\n",
       "8178   432020                              0            1\n",
       "\n",
       "[8179 rows x 3 columns]"
      ]
     },
     "execution_count": 77,
     "metadata": {},
     "output_type": "execute_result"
    }
   ],
   "source": [
    "# Only consider theory reading events (action = 'GO_TO_THEORY')\n",
    "num_reading_weekly = new_transactions[new_transactions.action == 'GO_TO_THEORY']\n",
    "# Count the number of questions for each user for weeks = 0 till 10\n",
    "num_reading_weekly = num_reading_weekly.groupby(['user_id','weeks_since_first_transaction']).action.count().reset_index()\n",
    "# Rename column to num_questions\n",
    "num_reading_weekly = num_reading_weekly.rename(columns={'action': 'num_reading'})\n",
    "num_reading_weekly"
   ]
  },
  {
   "cell_type": "code",
   "execution_count": 78,
   "id": "df8c7ad1",
   "metadata": {},
   "outputs": [
    {
     "name": "stdout",
     "output_type": "stream",
     "text": [
      "30929\n",
      "True\n"
     ]
    },
    {
     "data": {
      "text/html": [
       "<div>\n",
       "<style scoped>\n",
       "    .dataframe tbody tr th:only-of-type {\n",
       "        vertical-align: middle;\n",
       "    }\n",
       "\n",
       "    .dataframe tbody tr th {\n",
       "        vertical-align: top;\n",
       "    }\n",
       "\n",
       "    .dataframe thead th {\n",
       "        text-align: right;\n",
       "    }\n",
       "</style>\n",
       "<table border=\"1\" class=\"dataframe\">\n",
       "  <thead>\n",
       "    <tr style=\"text-align: right;\">\n",
       "      <th></th>\n",
       "      <th>user_id</th>\n",
       "      <th>weeks_since_first_transaction</th>\n",
       "    </tr>\n",
       "  </thead>\n",
       "  <tbody>\n",
       "    <tr>\n",
       "      <th>0</th>\n",
       "      <td>387604</td>\n",
       "      <td>0</td>\n",
       "    </tr>\n",
       "    <tr>\n",
       "      <th>1</th>\n",
       "      <td>387604</td>\n",
       "      <td>1</td>\n",
       "    </tr>\n",
       "    <tr>\n",
       "      <th>2</th>\n",
       "      <td>387604</td>\n",
       "      <td>2</td>\n",
       "    </tr>\n",
       "    <tr>\n",
       "      <th>3</th>\n",
       "      <td>387604</td>\n",
       "      <td>3</td>\n",
       "    </tr>\n",
       "    <tr>\n",
       "      <th>4</th>\n",
       "      <td>387604</td>\n",
       "      <td>4</td>\n",
       "    </tr>\n",
       "    <tr>\n",
       "      <th>...</th>\n",
       "      <td>...</td>\n",
       "      <td>...</td>\n",
       "    </tr>\n",
       "    <tr>\n",
       "      <th>340214</th>\n",
       "      <td>432023</td>\n",
       "      <td>6</td>\n",
       "    </tr>\n",
       "    <tr>\n",
       "      <th>340215</th>\n",
       "      <td>432023</td>\n",
       "      <td>7</td>\n",
       "    </tr>\n",
       "    <tr>\n",
       "      <th>340216</th>\n",
       "      <td>432023</td>\n",
       "      <td>8</td>\n",
       "    </tr>\n",
       "    <tr>\n",
       "      <th>340217</th>\n",
       "      <td>432023</td>\n",
       "      <td>9</td>\n",
       "    </tr>\n",
       "    <tr>\n",
       "      <th>340218</th>\n",
       "      <td>432023</td>\n",
       "      <td>10</td>\n",
       "    </tr>\n",
       "  </tbody>\n",
       "</table>\n",
       "<p>340219 rows × 2 columns</p>\n",
       "</div>"
      ],
      "text/plain": [
       "        user_id  weeks_since_first_transaction\n",
       "0        387604                              0\n",
       "1        387604                              1\n",
       "2        387604                              2\n",
       "3        387604                              3\n",
       "4        387604                              4\n",
       "...         ...                            ...\n",
       "340214   432023                              6\n",
       "340215   432023                              7\n",
       "340216   432023                              8\n",
       "340217   432023                              9\n",
       "340218   432023                             10\n",
       "\n",
       "[340219 rows x 2 columns]"
      ]
     },
     "execution_count": 78,
     "metadata": {},
     "output_type": "execute_result"
    }
   ],
   "source": [
    "# Create array containing each user_id from users table and each week from 0 to 10\n",
    "user_id_list = users.user_id\n",
    "# print number of users\n",
    "print(len(user_id_list))\n",
    "weeks = np.arange(0,11)\n",
    "# Find the combination of user_id and weeks the len should be 11*number of users\n",
    "user_week = np.array(np.meshgrid(user_id_list, weeks)).T.reshape(-1,2)\n",
    "print(len(user_week) == 11*len(user_id_list))\n",
    "# Create a dataframe from the array\n",
    "user_week_df = pd.DataFrame(user_week, columns=['user_id','weeks_since_first_transaction'])\n",
    "user_week_df"
   ]
  },
  {
   "cell_type": "code",
   "execution_count": 79,
   "id": "c1ce4c50",
   "metadata": {},
   "outputs": [
    {
     "data": {
      "text/html": [
       "<div>\n",
       "<style scoped>\n",
       "    .dataframe tbody tr th:only-of-type {\n",
       "        vertical-align: middle;\n",
       "    }\n",
       "\n",
       "    .dataframe tbody tr th {\n",
       "        vertical-align: top;\n",
       "    }\n",
       "\n",
       "    .dataframe thead th {\n",
       "        text-align: right;\n",
       "    }\n",
       "</style>\n",
       "<table border=\"1\" class=\"dataframe\">\n",
       "  <thead>\n",
       "    <tr style=\"text-align: right;\">\n",
       "      <th></th>\n",
       "      <th>user_id</th>\n",
       "      <th>weeks_since_first_transaction</th>\n",
       "      <th>num_events</th>\n",
       "      <th>num_questions</th>\n",
       "      <th>percentage_correct</th>\n",
       "      <th>num_reading</th>\n",
       "    </tr>\n",
       "  </thead>\n",
       "  <tbody>\n",
       "    <tr>\n",
       "      <th>0</th>\n",
       "      <td>387604</td>\n",
       "      <td>0</td>\n",
       "      <td>2</td>\n",
       "      <td>NaN</td>\n",
       "      <td>NaN</td>\n",
       "      <td>NaN</td>\n",
       "    </tr>\n",
       "    <tr>\n",
       "      <th>1</th>\n",
       "      <td>387604</td>\n",
       "      <td>5</td>\n",
       "      <td>21</td>\n",
       "      <td>NaN</td>\n",
       "      <td>NaN</td>\n",
       "      <td>NaN</td>\n",
       "    </tr>\n",
       "    <tr>\n",
       "      <th>2</th>\n",
       "      <td>387604</td>\n",
       "      <td>12</td>\n",
       "      <td>2</td>\n",
       "      <td>NaN</td>\n",
       "      <td>NaN</td>\n",
       "      <td>NaN</td>\n",
       "    </tr>\n",
       "    <tr>\n",
       "      <th>3</th>\n",
       "      <td>387604</td>\n",
       "      <td>14</td>\n",
       "      <td>29</td>\n",
       "      <td>1.0</td>\n",
       "      <td>0.000000</td>\n",
       "      <td>NaN</td>\n",
       "    </tr>\n",
       "    <tr>\n",
       "      <th>4</th>\n",
       "      <td>387604</td>\n",
       "      <td>15</td>\n",
       "      <td>5</td>\n",
       "      <td>NaN</td>\n",
       "      <td>NaN</td>\n",
       "      <td>NaN</td>\n",
       "    </tr>\n",
       "    <tr>\n",
       "      <th>...</th>\n",
       "      <td>...</td>\n",
       "      <td>...</td>\n",
       "      <td>...</td>\n",
       "      <td>...</td>\n",
       "      <td>...</td>\n",
       "      <td>...</td>\n",
       "    </tr>\n",
       "    <tr>\n",
       "      <th>72945</th>\n",
       "      <td>431999</td>\n",
       "      <td>0</td>\n",
       "      <td>31</td>\n",
       "      <td>4.0</td>\n",
       "      <td>0.625000</td>\n",
       "      <td>NaN</td>\n",
       "    </tr>\n",
       "    <tr>\n",
       "      <th>72946</th>\n",
       "      <td>432001</td>\n",
       "      <td>0</td>\n",
       "      <td>22</td>\n",
       "      <td>6.0</td>\n",
       "      <td>0.500000</td>\n",
       "      <td>NaN</td>\n",
       "    </tr>\n",
       "    <tr>\n",
       "      <th>72947</th>\n",
       "      <td>432014</td>\n",
       "      <td>0</td>\n",
       "      <td>39</td>\n",
       "      <td>9.0</td>\n",
       "      <td>0.666667</td>\n",
       "      <td>NaN</td>\n",
       "    </tr>\n",
       "    <tr>\n",
       "      <th>72948</th>\n",
       "      <td>432016</td>\n",
       "      <td>0</td>\n",
       "      <td>18</td>\n",
       "      <td>5.0</td>\n",
       "      <td>0.600000</td>\n",
       "      <td>NaN</td>\n",
       "    </tr>\n",
       "    <tr>\n",
       "      <th>72949</th>\n",
       "      <td>432020</td>\n",
       "      <td>0</td>\n",
       "      <td>55</td>\n",
       "      <td>7.0</td>\n",
       "      <td>0.714286</td>\n",
       "      <td>1.0</td>\n",
       "    </tr>\n",
       "  </tbody>\n",
       "</table>\n",
       "<p>72950 rows × 6 columns</p>\n",
       "</div>"
      ],
      "text/plain": [
       "       user_id  weeks_since_first_transaction  num_events  num_questions  \\\n",
       "0       387604                              0           2            NaN   \n",
       "1       387604                              5          21            NaN   \n",
       "2       387604                             12           2            NaN   \n",
       "3       387604                             14          29            1.0   \n",
       "4       387604                             15           5            NaN   \n",
       "...        ...                            ...         ...            ...   \n",
       "72945   431999                              0          31            4.0   \n",
       "72946   432001                              0          22            6.0   \n",
       "72947   432014                              0          39            9.0   \n",
       "72948   432016                              0          18            5.0   \n",
       "72949   432020                              0          55            7.0   \n",
       "\n",
       "       percentage_correct  num_reading  \n",
       "0                     NaN          NaN  \n",
       "1                     NaN          NaN  \n",
       "2                     NaN          NaN  \n",
       "3                0.000000          NaN  \n",
       "4                     NaN          NaN  \n",
       "...                   ...          ...  \n",
       "72945            0.625000          NaN  \n",
       "72946            0.500000          NaN  \n",
       "72947            0.666667          NaN  \n",
       "72948            0.600000          NaN  \n",
       "72949            0.714286          1.0  \n",
       "\n",
       "[72950 rows x 6 columns]"
      ]
     },
     "execution_count": 79,
     "metadata": {},
     "output_type": "execute_result"
    }
   ],
   "source": [
    "# Create the final table\n",
    "df_weekly = num_events_weekly.merge(num_questions_weekly, on=['user_id','weeks_since_first_transaction'], how='left')\n",
    "df_weekly = df_weekly.merge(num_reading_weekly, on=['user_id','weeks_since_first_transaction'], how='left')\n",
    "df_weekly"
   ]
  },
  {
   "cell_type": "code",
   "execution_count": 80,
   "id": "ba66113f",
   "metadata": {},
   "outputs": [
    {
     "data": {
      "text/html": [
       "<div>\n",
       "<style scoped>\n",
       "    .dataframe tbody tr th:only-of-type {\n",
       "        vertical-align: middle;\n",
       "    }\n",
       "\n",
       "    .dataframe tbody tr th {\n",
       "        vertical-align: top;\n",
       "    }\n",
       "\n",
       "    .dataframe thead th {\n",
       "        text-align: right;\n",
       "    }\n",
       "</style>\n",
       "<table border=\"1\" class=\"dataframe\">\n",
       "  <thead>\n",
       "    <tr style=\"text-align: right;\">\n",
       "      <th></th>\n",
       "      <th>user_id</th>\n",
       "      <th>weeks_since_first_transaction</th>\n",
       "      <th>num_events</th>\n",
       "      <th>num_questions</th>\n",
       "      <th>percentage_correct</th>\n",
       "      <th>num_reading</th>\n",
       "    </tr>\n",
       "  </thead>\n",
       "  <tbody>\n",
       "    <tr>\n",
       "      <th>0</th>\n",
       "      <td>387604</td>\n",
       "      <td>0</td>\n",
       "      <td>2.0</td>\n",
       "      <td>NaN</td>\n",
       "      <td>NaN</td>\n",
       "      <td>NaN</td>\n",
       "    </tr>\n",
       "    <tr>\n",
       "      <th>1</th>\n",
       "      <td>387604</td>\n",
       "      <td>1</td>\n",
       "      <td>NaN</td>\n",
       "      <td>NaN</td>\n",
       "      <td>NaN</td>\n",
       "      <td>NaN</td>\n",
       "    </tr>\n",
       "    <tr>\n",
       "      <th>2</th>\n",
       "      <td>387604</td>\n",
       "      <td>2</td>\n",
       "      <td>NaN</td>\n",
       "      <td>NaN</td>\n",
       "      <td>NaN</td>\n",
       "      <td>NaN</td>\n",
       "    </tr>\n",
       "    <tr>\n",
       "      <th>3</th>\n",
       "      <td>387604</td>\n",
       "      <td>3</td>\n",
       "      <td>NaN</td>\n",
       "      <td>NaN</td>\n",
       "      <td>NaN</td>\n",
       "      <td>NaN</td>\n",
       "    </tr>\n",
       "    <tr>\n",
       "      <th>4</th>\n",
       "      <td>387604</td>\n",
       "      <td>4</td>\n",
       "      <td>NaN</td>\n",
       "      <td>NaN</td>\n",
       "      <td>NaN</td>\n",
       "      <td>NaN</td>\n",
       "    </tr>\n",
       "    <tr>\n",
       "      <th>...</th>\n",
       "      <td>...</td>\n",
       "      <td>...</td>\n",
       "      <td>...</td>\n",
       "      <td>...</td>\n",
       "      <td>...</td>\n",
       "      <td>...</td>\n",
       "    </tr>\n",
       "    <tr>\n",
       "      <th>340214</th>\n",
       "      <td>432023</td>\n",
       "      <td>6</td>\n",
       "      <td>NaN</td>\n",
       "      <td>NaN</td>\n",
       "      <td>NaN</td>\n",
       "      <td>NaN</td>\n",
       "    </tr>\n",
       "    <tr>\n",
       "      <th>340215</th>\n",
       "      <td>432023</td>\n",
       "      <td>7</td>\n",
       "      <td>NaN</td>\n",
       "      <td>NaN</td>\n",
       "      <td>NaN</td>\n",
       "      <td>NaN</td>\n",
       "    </tr>\n",
       "    <tr>\n",
       "      <th>340216</th>\n",
       "      <td>432023</td>\n",
       "      <td>8</td>\n",
       "      <td>NaN</td>\n",
       "      <td>NaN</td>\n",
       "      <td>NaN</td>\n",
       "      <td>NaN</td>\n",
       "    </tr>\n",
       "    <tr>\n",
       "      <th>340217</th>\n",
       "      <td>432023</td>\n",
       "      <td>9</td>\n",
       "      <td>NaN</td>\n",
       "      <td>NaN</td>\n",
       "      <td>NaN</td>\n",
       "      <td>NaN</td>\n",
       "    </tr>\n",
       "    <tr>\n",
       "      <th>340218</th>\n",
       "      <td>432023</td>\n",
       "      <td>10</td>\n",
       "      <td>NaN</td>\n",
       "      <td>NaN</td>\n",
       "      <td>NaN</td>\n",
       "      <td>NaN</td>\n",
       "    </tr>\n",
       "  </tbody>\n",
       "</table>\n",
       "<p>340219 rows × 6 columns</p>\n",
       "</div>"
      ],
      "text/plain": [
       "        user_id  weeks_since_first_transaction  num_events  num_questions  \\\n",
       "0        387604                              0         2.0            NaN   \n",
       "1        387604                              1         NaN            NaN   \n",
       "2        387604                              2         NaN            NaN   \n",
       "3        387604                              3         NaN            NaN   \n",
       "4        387604                              4         NaN            NaN   \n",
       "...         ...                            ...         ...            ...   \n",
       "340214   432023                              6         NaN            NaN   \n",
       "340215   432023                              7         NaN            NaN   \n",
       "340216   432023                              8         NaN            NaN   \n",
       "340217   432023                              9         NaN            NaN   \n",
       "340218   432023                             10         NaN            NaN   \n",
       "\n",
       "        percentage_correct  num_reading  \n",
       "0                      NaN          NaN  \n",
       "1                      NaN          NaN  \n",
       "2                      NaN          NaN  \n",
       "3                      NaN          NaN  \n",
       "4                      NaN          NaN  \n",
       "...                    ...          ...  \n",
       "340214                 NaN          NaN  \n",
       "340215                 NaN          NaN  \n",
       "340216                 NaN          NaN  \n",
       "340217                 NaN          NaN  \n",
       "340218                 NaN          NaN  \n",
       "\n",
       "[340219 rows x 6 columns]"
      ]
     },
     "execution_count": 80,
     "metadata": {},
     "output_type": "execute_result"
    }
   ],
   "source": [
    "# Fill the missing user_id, weeks_since_first_transaction with NaN values\n",
    "df_weekly = user_week_df.merge(df_weekly, on=['user_id','weeks_since_first_transaction'], how='left')\n",
    "df_weekly"
   ]
  },
  {
   "cell_type": "code",
   "execution_count": 86,
   "id": "d96f3a10",
   "metadata": {},
   "outputs": [
    {
     "data": {
      "text/html": [
       "<div>\n",
       "<style scoped>\n",
       "    .dataframe tbody tr th:only-of-type {\n",
       "        vertical-align: middle;\n",
       "    }\n",
       "\n",
       "    .dataframe tbody tr th {\n",
       "        vertical-align: top;\n",
       "    }\n",
       "\n",
       "    .dataframe thead th {\n",
       "        text-align: right;\n",
       "    }\n",
       "</style>\n",
       "<table border=\"1\" class=\"dataframe\">\n",
       "  <thead>\n",
       "    <tr style=\"text-align: right;\">\n",
       "      <th></th>\n",
       "      <th>user_id</th>\n",
       "      <th>weeks_since_first_transaction</th>\n",
       "      <th>num_events</th>\n",
       "      <th>num_questions</th>\n",
       "      <th>percentage_correct</th>\n",
       "      <th>num_reading</th>\n",
       "    </tr>\n",
       "  </thead>\n",
       "  <tbody>\n",
       "    <tr>\n",
       "      <th>76</th>\n",
       "      <td>387644</td>\n",
       "      <td>10</td>\n",
       "      <td>6.0</td>\n",
       "      <td>NaN</td>\n",
       "      <td>NaN</td>\n",
       "      <td>1.0</td>\n",
       "    </tr>\n",
       "    <tr>\n",
       "      <th>87</th>\n",
       "      <td>387650</td>\n",
       "      <td>10</td>\n",
       "      <td>30.0</td>\n",
       "      <td>NaN</td>\n",
       "      <td>NaN</td>\n",
       "      <td>NaN</td>\n",
       "    </tr>\n",
       "    <tr>\n",
       "      <th>428</th>\n",
       "      <td>387710</td>\n",
       "      <td>10</td>\n",
       "      <td>4.0</td>\n",
       "      <td>NaN</td>\n",
       "      <td>NaN</td>\n",
       "      <td>NaN</td>\n",
       "    </tr>\n",
       "    <tr>\n",
       "      <th>450</th>\n",
       "      <td>387712</td>\n",
       "      <td>10</td>\n",
       "      <td>88.0</td>\n",
       "      <td>22.0</td>\n",
       "      <td>0.613636</td>\n",
       "      <td>NaN</td>\n",
       "    </tr>\n",
       "    <tr>\n",
       "      <th>461</th>\n",
       "      <td>387713</td>\n",
       "      <td>10</td>\n",
       "      <td>46.0</td>\n",
       "      <td>6.0</td>\n",
       "      <td>0.333333</td>\n",
       "      <td>NaN</td>\n",
       "    </tr>\n",
       "  </tbody>\n",
       "</table>\n",
       "</div>"
      ],
      "text/plain": [
       "     user_id  weeks_since_first_transaction  num_events  num_questions  \\\n",
       "76    387644                             10         6.0            NaN   \n",
       "87    387650                             10        30.0            NaN   \n",
       "428   387710                             10         4.0            NaN   \n",
       "450   387712                             10        88.0           22.0   \n",
       "461   387713                             10        46.0            6.0   \n",
       "\n",
       "     percentage_correct  num_reading  \n",
       "76                  NaN          1.0  \n",
       "87                  NaN          NaN  \n",
       "428                 NaN          NaN  \n",
       "450            0.613636          NaN  \n",
       "461            0.333333          NaN  "
      ]
     },
     "execution_count": 86,
     "metadata": {},
     "output_type": "execute_result"
    }
   ],
   "source": [
    "df_weekly[(df_weekly.weeks_since_first_transaction == 10) & (df_weekly.num_events > 0)].head()"
   ]
  },
  {
   "cell_type": "markdown",
   "id": "1d045819-a60e-4bdf-bdab-f09fa53c823a",
   "metadata": {
    "id": "1d045819-a60e-4bdf-bdab-f09fa53c823a"
   },
   "source": [
    "#### b) Select two features and analyze their behavior over time. Please provide a hypothesis and visualization for both features. For ideas on how to perform a time series exploration, please check the lecture slides and notebook. Discuss your results: what do you observe? Do the results confirm your hypotheses?"
   ]
  },
  {
   "attachments": {},
   "cell_type": "markdown",
   "id": "233b5bf4",
   "metadata": {},
   "source": [
    "### Now we have obtained two dataframes, one called df_weekly and one called df_weekly_fillNa. The difference between these two dataframes are simple. Both dataframes contain 340219 lines(user_count *11 weeks)\n",
    "\n",
    "### df_weekly have a lot of NaN values, this is because if the user has not logged in/interacted with the platform for a specific week(say week 2) the values in this dataframe(num_events, num_questions, percentage_correct) are all 0.\n",
    "\n",
    "### df_weekly_fillna as the name suggests changes these NaN values to 0, so if a user has not interacted with the platform for a specific week, say week 2, the num_events, num_questions and all other fields are 0.\n",
    "\n",
    "### The reason why I thought having 2 different dataframes would be nice is that we can see the differences in plots by using these two different dataframes. My line of thought can be better explained if we move on to the examples."
   ]
  },
  {
   "cell_type": "code",
   "execution_count": 92,
   "id": "7947c956",
   "metadata": {},
   "outputs": [
    {
     "data": {
      "text/plain": [
       "<AxesSubplot:xlabel='weeks_since_first_transaction', ylabel='num_events'>"
      ]
     },
     "execution_count": 92,
     "metadata": {},
     "output_type": "execute_result"
    },
    {
     "data": {
      "image/png": "[encoded data removed]",
      "text/plain": [
       "<Figure size 640x480 with 1 Axes>"
      ]
     },
     "metadata": {},
     "output_type": "display_data"
    }
   ],
   "source": [
    "# Plot the number of events done on average from week 0 to week 10\n",
    "df_weekly_fillNa = df_weekly.fillna(0)\n",
    "sns.lineplot(x='weeks_since_first_transaction', y='num_events', data=df_weekly_fillNa, ci='sd')"
   ]
  },
  {
   "attachments": {},
   "cell_type": "markdown",
   "id": "aaffdfa7",
   "metadata": {},
   "source": [
    "### In the above graph we use df_weekly_fillNa dataframe, i.e. if a user has not interacted with the platform it is counted as a num_event = 0.\n",
    "\n",
    "### When plotted this way, we clearly see a trend where users are the most active in their first week and then almost completely stop interacting with the platform after their first week."
   ]
  },
  {
   "cell_type": "code",
   "execution_count": 93,
   "id": "defce5ae",
   "metadata": {},
   "outputs": [
    {
     "data": {
      "text/plain": [
       "<AxesSubplot:xlabel='weeks_since_first_transaction', ylabel='num_events'>"
      ]
     },
     "execution_count": 93,
     "metadata": {},
     "output_type": "execute_result"
    },
    {
     "data": {
      "image/png": "[encoded data removed]",
      "text/plain": [
       "<Figure size 640x480 with 1 Axes>"
      ]
     },
     "metadata": {},
     "output_type": "display_data"
    }
   ],
   "source": [
    "sns.lineplot(x='weeks_since_first_transaction', y='num_events', data=df_weekly, ci='sd')"
   ]
  },
  {
   "attachments": {},
   "cell_type": "markdown",
   "id": "62293b2f",
   "metadata": {},
   "source": [
    "### When we use df_weekly, i.e. we do not consider the user who do not interact with the platform. We see that the average number of interactions is around 70-85 but there still is a HUGE standard deviation. Which should not come as a surprise from our previous graphs(num_events, num_reading from Task 2) we have discussed that most users were around those marks and the standard deviation was huge, we once again see those here clearly"
   ]
  },
  {
   "cell_type": "code",
   "execution_count": 83,
   "id": "d2b287ae",
   "metadata": {},
   "outputs": [
    {
     "data": {
      "text/plain": [
       "<AxesSubplot:xlabel='weeks_since_first_transaction'>"
      ]
     },
     "execution_count": 83,
     "metadata": {},
     "output_type": "execute_result"
    },
    {
     "data": {
      "image/png": "[encoded data removed]",
      "text/plain": [
       "<Figure size 640x480 with 1 Axes>"
      ]
     },
     "metadata": {},
     "output_type": "display_data"
    }
   ],
   "source": [
    "# Plot average percentage correct from week 0 to week 10\n",
    "df_weekly_fillNa[df_weekly_fillNa.num_questions > 0].groupby('weeks_since_first_transaction').percentage_correct.mean().plot()"
   ]
  },
  {
   "cell_type": "code",
   "execution_count": 84,
   "id": "568a63b7",
   "metadata": {},
   "outputs": [
    {
     "data": {
      "text/plain": [
       "<AxesSubplot:xlabel='weeks_since_first_transaction'>"
      ]
     },
     "execution_count": 84,
     "metadata": {},
     "output_type": "execute_result"
    },
    {
     "data": {
      "image/png": "[encoded data removed]",
      "text/plain": [
       "<Figure size 640x480 with 1 Axes>"
      ]
     },
     "metadata": {},
     "output_type": "display_data"
    }
   ],
   "source": [
    "df_weekly.groupby('weeks_since_first_transaction').percentage_correct.mean().plot()"
   ]
  },
  {
   "attachments": {},
   "cell_type": "markdown",
   "id": "3ccb6bf8-2d6b-4a53-a4bb-6784c671fec4",
   "metadata": {
    "id": "3ccb6bf8-2d6b-4a53-a4bb-6784c671fec4"
   },
   "source": [
    "### Looking at the above 2 plots we see another interesting find. Firstly let's discuss the fact that the average percentage correct values does not really change as weeks pass. This further enforces our previous hypothesis that the platform really tries to give questions to users with such difficulty that they get placed around the 65% mark. This value is(with a really high probability) used to determine the difficulty of users questions.\n",
    "\n",
    "### The other interesting fact that we should discuss is that two plots come out to be completely identical. The plot above is plotted using df_weekly_fillNa but filtering out the users that have 0 questions answered for that week. The below plot is just plotted using df_weekly(the dataframe that has NaN values), the fact that these plots come out identical should not be a surprise to anybody as the users who have not answered any questions for that specific week have their percentage_correct value for that week as NaN in the df_weekly dataframe, thus are not considered for plotting. But in df_weekly_fillNa these users also have their percentage_correct as 0 thus while plotting with this dataframe we should filter out these users, as it does not make much sense to count these users as having 0% of their questions correct. This would be quite misleading as it would seem like these users start to suddenly to fail in every question they answer. The below plot illustrates why we should NOT plot in this manner."
   ]
  },
  {
   "cell_type": "code",
   "execution_count": 240,
   "id": "c14232c4",
   "metadata": {},
   "outputs": [
    {
     "data": {
      "text/plain": [
       "<AxesSubplot:xlabel='weeks_since_first_transaction'>"
      ]
     },
     "execution_count": 240,
     "metadata": {},
     "output_type": "execute_result"
    },
    {
     "data": {
      "image/png": "[encoded data removed]",
      "text/plain": [
       "<Figure size 640x480 with 1 Axes>"
      ]
     },
     "metadata": {},
     "output_type": "display_data"
    }
   ],
   "source": [
    "# Do NOT plot in this way...\n",
    "df_weekly_fillNa.groupby('weeks_since_first_transaction').percentage_correct.mean().plot()"
   ]
  },
  {
   "cell_type": "markdown",
   "id": "_s7rWpaLfZGt",
   "metadata": {
    "id": "_s7rWpaLfZGt"
   },
   "source": [
    "# Task 4: Creative extension \n",
    "\n",
    "Please provide **one** new hypothesis you would like to explore with the data and provide a visualization for it. Discuss your results: what do you observe? Do the results confirm your hypotheses?\n",
    "\n"
   ]
  },
  {
   "cell_type": "code",
   "execution_count": null,
   "id": "3-Wtdj4KfdY_",
   "metadata": {
    "id": "3-Wtdj4KfdY_"
   },
   "outputs": [],
   "source": [
    "# Your creative visualization here\n",
    "print('hello')"
   ]
  },
  {
   "cell_type": "markdown",
   "id": "yTT8SklBgGxN",
   "metadata": {
    "id": "yTT8SklBgGxN"
   },
   "source": [
    "*Your discussion goes here*"
   ]
  }
 ],
 "metadata": {
  "colab": {
   "collapsed_sections": [],
   "name": "m2-lernnavi-sciper.ipynb",
   "provenance": []
  },
  "kernelspec": {
   "display_name": "base",
   "language": "python",
   "name": "python3"
  },
  "language_info": {
   "codemirror_mode": {
    "name": "ipython",
    "version": 3
   },
   "file_extension": ".py",
   "mimetype": "text/x-python",
   "name": "python",
   "nbconvert_exporter": "python",
   "pygments_lexer": "ipython3",
   "version": "3.9.13"
  },
  "vscode": {
   "interpreter": {
    "hash": "38cca0c38332a56087b24af0bc80247f4fced29cb4f7f437d91dc159adec9c4e"
   }
  }
 },
 "nbformat": 4,
 "nbformat_minor": 5
}
